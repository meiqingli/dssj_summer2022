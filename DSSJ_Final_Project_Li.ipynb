{
  "nbformat": 4,
  "nbformat_minor": 0,
  "metadata": {
    "colab": {
      "name": "DSSJ_Final_Project_Li.ipynb",
      "provenance": [],
      "collapsed_sections": [],
      "authorship_tag": "ABX9TyMp9VDVgZk3qm10/mTczNhs",
      "include_colab_link": true
    },
    "kernelspec": {
      "name": "python3",
      "display_name": "Python 3"
    },
    "language_info": {
      "name": "python"
    }
  },
  "cells": [
    {
      "cell_type": "markdown",
      "metadata": {
        "id": "view-in-github",
        "colab_type": "text"
      },
      "source": [
        "<a href=\"https://colab.research.google.com/github/meiqingli/dssj_summer2022/blob/main/DSSJ_Final_Project_Li.ipynb\" target=\"_parent\"><img src=\"https://colab.research.google.com/assets/colab-badge.svg\" alt=\"Open In Colab\"/></a>"
      ]
    },
    {
      "cell_type": "markdown",
      "source": [
        "# **Geographic Disparity in Publishing: A Sentiment Analysis from Subreddit Community**\n",
        "**Meiqing Li | PhD Candidate in City and Regional Planning**\n",
        "\n",
        "**DSSJ @ Berkeley**"
      ],
      "metadata": {
        "id": "fXV5DkoFXUDw"
      }
    },
    {
      "cell_type": "code",
      "execution_count": 1,
      "metadata": {
        "id": "N3axAwmjSpVV"
      },
      "outputs": [],
      "source": [
        "# import packages\n",
        "import pandas as pd\n",
        "import spacy\n",
        "\n",
        "# load the English preprocessing pipeline\n",
        "nlp = spacy.load(\"en_core_web_sm\")"
      ]
    },
    {
      "cell_type": "markdown",
      "source": [
        "## Introduction\n",
        "The subreddit of interest is [Publishing](https://www.reddit.com/r/publishing/), which is a community for publishing professionals to discuss various issues such as career and business opportunities. Through initial qualitative analysis, we found it a relatively small community compared with other subreddits by number of readers and posts. In terms of topics, we found discussions on different types of publishing, for example self-publishing,publishing through agent, and digital publishing, as well as publishing in the US vs. Canada. These are all potential areas for further investigation. \n",
        "\n",
        "Before cleaning up, our dataset includes 7,330 posts and 19,538 comments. By removing blank texts, we reduced the size of dataset to 2,388 posts and 19,054 comments. There have been a total of 1,922 unique users for posts, and 4,033 unique users for comments. Interestingly, we noticed that the most frequent user's posts take up 1% of the overall posts while the next only takes up 0.3%. Another observation we find interesting is that people are curious about the differences in publishing between US and Canada, whilst it seems that most of the posts are from people trying to navigate publishing but very little from the publisher side. For this project, I would like to look into the posts by different people involved in publishing, specifically the themes and sentiments within posts from different areas or regions. For example, how do the sentiments and concerns regarding publishing differ between US, Canada and other countries, or different parts of the US? Also, within each geographic region, what are the shares of posts by people interested in publishing, publishers, agents, and other stakeholders? I am interested in studying these dynamics because they can give us a better understanding about the broader landscape of publishing. \n",
        "\n",
        "In order to address these questions, I will look into several NLP techniques inlcuding *topic modeling* and *sentiment analysis*. Specifically, I will use tools such as *concordance* to identify texts with geographical key words, then extract topical words and sentiments. "
      ],
      "metadata": {
        "id": "_wvETt4AXba-"
      }
    },
    {
      "cell_type": "code",
      "source": [
        "# Github url with comments data\n",
        "url_comments = 'https://gist.githubusercontent.com/meiqingli/5d83de4c508a0564359b2dd07c6839b1/raw/a83a44b0a85ac8ccc10f717495ff6a85c2f93878/comments.csv'\n",
        "\n",
        "# Github url with post data\n",
        "url_posts = 'https://gist.githubusercontent.com/meiqingli/2d128e1cac170d71b3820c51c6c3766e/raw/5be159378011713f1daaca4d683bb6875d11f61f/submissions.csv'\n",
        "\n",
        "# Reads the csv comments file from github\n",
        "df_comments = pd.read_csv(url_comments)\n",
        "\n",
        "# Reads the csv posts file from github\n",
        "df_posts = pd.read_csv(url_posts)"
      ],
      "metadata": {
        "id": "PCbt02LoafQ1"
      },
      "execution_count": 2,
      "outputs": []
    },
    {
      "cell_type": "code",
      "source": [
        "# Tells us about the general shape of the dfs\n",
        "df_posts.shape"
      ],
      "metadata": {
        "colab": {
          "base_uri": "https://localhost:8080/",
          "height": 0
        },
        "id": "wkHxETBKBCrL",
        "outputId": "69d99dd2-9bee-48bb-dc74-55d2a01b1289"
      },
      "execution_count": 3,
      "outputs": [
        {
          "output_type": "execute_result",
          "data": {
            "text/plain": [
              "(7330, 18)"
            ]
          },
          "metadata": {},
          "execution_count": 3
        }
      ]
    },
    {
      "cell_type": "code",
      "source": [
        "df_comments.shape"
      ],
      "metadata": {
        "colab": {
          "base_uri": "https://localhost:8080/",
          "height": 0
        },
        "id": "TXssdSUkA7QC",
        "outputId": "caf86d41-b6fd-48a2-e0c2-4c173d7ed363"
      },
      "execution_count": 4,
      "outputs": [
        {
          "output_type": "execute_result",
          "data": {
            "text/plain": [
              "(19538, 11)"
            ]
          },
          "metadata": {},
          "execution_count": 4
        }
      ]
    },
    {
      "cell_type": "code",
      "source": [
        "# Allows us to see which columns our dfs have\n",
        "list(df_posts)"
      ],
      "metadata": {
        "colab": {
          "base_uri": "https://localhost:8080/",
          "height": 0
        },
        "id": "wkRon2gdA_Ew",
        "outputId": "4e5f33a1-b453-4998-a3fc-5fe9b1e862c5"
      },
      "execution_count": 5,
      "outputs": [
        {
          "output_type": "execute_result",
          "data": {
            "text/plain": [
              "['idint',\n",
              " 'idstr',\n",
              " 'created',\n",
              " 'self',\n",
              " 'nsfw',\n",
              " 'author',\n",
              " 'title',\n",
              " 'url',\n",
              " 'selftext',\n",
              " 'score',\n",
              " 'subreddit',\n",
              " 'distinguish',\n",
              " 'textlen',\n",
              " 'num_comments',\n",
              " 'flair_text',\n",
              " 'flair_css_class',\n",
              " 'augmented_at',\n",
              " 'augmented_count']"
            ]
          },
          "metadata": {},
          "execution_count": 5
        }
      ]
    },
    {
      "cell_type": "code",
      "source": [
        "list(df_comments)"
      ],
      "metadata": {
        "colab": {
          "base_uri": "https://localhost:8080/",
          "height": 0
        },
        "id": "ozN08eRiBNIU",
        "outputId": "fe324291-c03a-4e3d-a51b-b3d89b32df9f"
      },
      "execution_count": 6,
      "outputs": [
        {
          "output_type": "execute_result",
          "data": {
            "text/plain": [
              "['idint',\n",
              " 'idstr',\n",
              " 'created',\n",
              " 'author',\n",
              " 'parent',\n",
              " 'submission',\n",
              " 'body',\n",
              " 'score',\n",
              " 'subreddit',\n",
              " 'distinguish',\n",
              " 'textlen']"
            ]
          },
          "metadata": {},
          "execution_count": 6
        }
      ]
    },
    {
      "cell_type": "markdown",
      "source": [
        "## Preprocessing"
      ],
      "metadata": {
        "id": "6vxqz7JoXeqk"
      }
    },
    {
      "cell_type": "markdown",
      "source": [
        "\n",
        "```\n",
        "In this section, you will address:\n",
        "\n",
        "- Major decisions in preprocessing (subsetting, any steps additional to the preprocessing recipe in the module).\n",
        "- Include the code necessary to preprocess your data.\n",
        "- Save the results! (For faster computation next time)\n",
        "\n",
        "This section will address the choices you made in preprocessing the data. You can reference the preprocessing recipe from Module 2, and note any deviations/ adjustments you made to the recipe and the reason for those adjustments. Include the code to preprocess your data.\n",
        "\n",
        "If you removed any section of the data, report what proportion of the data set was excluded and why.\n",
        "\n",
        "Identify any differences from the quantitative exploration in the Introduction (less words, fewer unique posters, etc).\n",
        "```"
      ],
      "metadata": {
        "id": "gZgsIillueqr"
      }
    },
    {
      "cell_type": "code",
      "source": [
        "# developing\n",
        "# Code from this section is largely based on joint work by Madeline Bossi, Soliver Fusi, Janiya Peters, and me. "
      ],
      "metadata": {
        "id": "3JfQXyKIBi0S"
      },
      "execution_count": null,
      "outputs": []
    },
    {
      "cell_type": "markdown",
      "source": [
        "## Analysis"
      ],
      "metadata": {
        "id": "A9yJKmTLXhDs"
      }
    },
    {
      "cell_type": "markdown",
      "source": [
        "```\n",
        "This section is where you get to deploy and discuss your analysis. Address the following points:\n",
        "\n",
        "Why is this analysis appropriate for the research question?\n",
        "Include the code for performing the analysis. Note any analytical choices made (for example choosing parameters)\n",
        "Interpret the results of your analysis\n",
        "Discuss how the analysis relates to your research question\n",
        "Address each research question (if you have multiple) in a separate section, and include a subsection (###) for each technique used. Again, the goal is to weave the code and text together, the same way you would weave figures and text together in a traditional research paper. Speaking of figures- try to include at least one visualization of your results (a table, figure, etc) per quantitative analysis.\n",
        "\n",
        "The balance of quantitative and quantitative techniques will depend a bit on your project, but you should have at least some quantitative and qualitative elements for research question.\n",
        "\n",
        "A sample analysis outline is included below:\n",
        "```"
      ],
      "metadata": {
        "id": "r-X7FwbZuwTE"
      }
    },
    {
      "cell_type": "markdown",
      "source": [
        "### Analysis 1"
      ],
      "metadata": {
        "id": "xdllWWDLXiuf"
      }
    },
    {
      "cell_type": "markdown",
      "source": [
        "```\n",
        "A sample tf-idf analysis.\n",
        "\n",
        "Describe tf-idf;\n",
        "Describe choices made (i.e. parameters of tf-idf);\n",
        "Include predictions/original expectations for the analysis.\n",
        "```"
      ],
      "metadata": {
        "id": "GDyB2n1Lu0B2"
      }
    },
    {
      "cell_type": "markdown",
      "source": [
        "```\n",
        "*   Comment on the graph of tf-idf scores. Does it meet expectations?\n",
        "*   Comment on the highest tf-idf scores.\n",
        "```"
      ],
      "metadata": {
        "id": "FwRE9zEIu9Zc"
      }
    },
    {
      "cell_type": "markdown",
      "source": [
        "\n",
        "\n",
        "```\n",
        "Conclude the analysis:\n",
        "\n",
        "How did this analysis address your research question?\n",
        "Reflect on any new or unexpected patterns, consider further exploratory analysis into those patterns.\n",
        "Identify any limitations of the analysis and how they may impact the results.\n",
        "And then on to the next analysis/question.\n",
        "```\n",
        "\n"
      ],
      "metadata": {
        "id": "LNPAQfFdu6YX"
      }
    },
    {
      "cell_type": "code",
      "source": [
        ""
      ],
      "metadata": {
        "id": "YfKq-U-UahOH"
      },
      "execution_count": 6,
      "outputs": []
    },
    {
      "cell_type": "markdown",
      "source": [
        "## Conclusion"
      ],
      "metadata": {
        "id": "yBQljCpEaVKM"
      }
    },
    {
      "cell_type": "markdown",
      "source": [
        "```\n",
        "This section is a brief summary of your analyses and final thoughts:\n",
        "\n",
        "What was your conclusions in response to your research questions?\n",
        "What are potential implications of these results to the broader community?\n",
        "Reflect on how this project relates the the themes of the workshop.\n",
        "How would you further develop this research project?\n",
        "```"
      ],
      "metadata": {
        "id": "n_1VrbWcvGxO"
      }
    },
    {
      "cell_type": "markdown",
      "source": [
        "## References\n",
        "*   King, G., Pan, J., & Roberts, M. E. (2013). How Censorship in China Allows Government Criticism but Silences Collective Expression. American Political Science Review, 107(2), 326–343. https://doi.org/10.1017/S0003055413000014\n",
        "*   Getting Started with Sentiment Analysis using Python. (n.d.). Retrieved July 17, 2022, from https://huggingface.co/blog/sentiment-analysis-python"
      ],
      "metadata": {
        "id": "xU8H4uChaYfJ"
      }
    },
    {
      "cell_type": "markdown",
      "source": [
        "**Tools:**\n",
        "*   [Sentiment analysis](https://github.com/cjhutto/vaderSentiment)\n",
        "*   [Getting started with sentiment analysis](https://huggingface.co/blog/sentiment-analysis-python)"
      ],
      "metadata": {
        "id": "XEl_ijy9aasT"
      }
    }
  ]
}