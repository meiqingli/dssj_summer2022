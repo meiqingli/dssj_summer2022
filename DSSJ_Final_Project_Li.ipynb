{
  "nbformat": 4,
  "nbformat_minor": 0,
  "metadata": {
    "colab": {
      "name": "DSSJ_Final_Project_Li.ipynb",
      "provenance": [],
      "collapsed_sections": [],
      "authorship_tag": "ABX9TyMBwFAf0DC3kHwf7/s8PaNi",
      "include_colab_link": true
    },
    "kernelspec": {
      "name": "python3",
      "display_name": "Python 3"
    },
    "language_info": {
      "name": "python"
    }
  },
  "cells": [
    {
      "cell_type": "markdown",
      "metadata": {
        "id": "view-in-github",
        "colab_type": "text"
      },
      "source": [
        "<a href=\"https://colab.research.google.com/github/meiqingli/dssj_summer2022/blob/main/DSSJ_Final_Project_Li.ipynb\" target=\"_parent\"><img src=\"https://colab.research.google.com/assets/colab-badge.svg\" alt=\"Open In Colab\"/></a>"
      ]
    },
    {
      "cell_type": "markdown",
      "source": [
        "# **Geographic Disparity in Publishing: A Sentiment Analysis from Subreddit Community**\n",
        "**Meiqing Li | PhD Candidate in City and Regional Planning**\n",
        "\n",
        "**DSSJ @ Berkeley**"
      ],
      "metadata": {
        "id": "fXV5DkoFXUDw"
      }
    },
    {
      "cell_type": "code",
      "execution_count": 3,
      "metadata": {
        "id": "N3axAwmjSpVV"
      },
      "outputs": [],
      "source": [
        "# import packages\n",
        "import pandas as pd\n",
        "import spacy\n",
        "\n",
        "# load the English preprocessing pipeline\n",
        "nlp = spacy.load(\"en_core_web_sm\")"
      ]
    },
    {
      "cell_type": "markdown",
      "source": [
        "## Introduction\n",
        "The subreddit of interest is [Publishing](https://www.reddit.com/r/publishing/), which is a community for publishing professionals to discuss various issues such as career and business opportunities. Through initial qualitative analysis, we found it a relatively small community compared with other subreddits by number of readers and posts. In terms of topics, we found discussions on different types of publishing, for example self-publishing,publishing through agent, and digital publishing, as well as publishing in the US vs. Canada. These are all potential areas for further investigation. \n",
        "\n",
        "Before cleaning up, our dataset includes 7,330 posts and 19,538 comments. By removing blank texts, we reduced the size of dataset to 2,388 posts and 19,054 comments. There have been a total of 1,922 unique users for posts, and 4,033 unique users for comments. Interestingly, we noticed that the most frequent user's posts take up 1% of the overall posts while the next only takes up 0.3%. Another observation we find interesting is that people are curious about the differences in publishing between US and Canada, whilst it seems that most of the posts are from people trying to navigate publishing but very little from the publisher side. For this project, I would like to look into the posts by different people involved in publishing, specifically the themes and sentiments within posts from different areas or regions. For example, how do the sentiments and concerns regarding publishing differ between US, Canada and other countries, or different parts of the US? Also, within each geographic region, what are the shares of posts by people interested in publishing, publishers, agents, and other stakeholders? I am interested in studying these dynamics because they can give us a better understanding about the broader landscape of publishing. \n",
        "\n",
        "In order to address these questions, I will look into several NLP techniques inlcuding *topic modeling* and *sentiment analysis*. Specifically, I will use tools such as *concordance* to identify texts with geographical key words, then extract topical words and sentiments. "
      ],
      "metadata": {
        "id": "_wvETt4AXba-"
      }
    },
    {
      "cell_type": "code",
      "source": [
        "# Github url with post data\n",
        "url_posts = 'https://gist.githubusercontent.com/meiqingli/2d128e1cac170d71b3820c51c6c3766e/raw/5be159378011713f1daaca4d683bb6875d11f61f/submissions.csv'\n",
        "\n",
        "# Github url with comments data\n",
        "url_comments = 'https://gist.githubusercontent.com/meiqingli/5d83de4c508a0564359b2dd07c6839b1/raw/a83a44b0a85ac8ccc10f717495ff6a85c2f93878/comments.csv'\n",
        "\n",
        "# Reads the csv posts file from github\n",
        "df_posts = pd.read_csv(url_posts)\n",
        "\n",
        "# Reads the csv comments file from github\n",
        "df_comments = pd.read_csv(url_comments)"
      ],
      "metadata": {
        "id": "PCbt02LoafQ1"
      },
      "execution_count": 4,
      "outputs": []
    },
    {
      "cell_type": "code",
      "source": [
        "# Tells us about the general shape of the dfs\n",
        "df_posts.shape"
      ],
      "metadata": {
        "colab": {
          "base_uri": "https://localhost:8080/"
        },
        "id": "wkHxETBKBCrL",
        "outputId": "49fc52d3-d29b-4e8d-8b6c-8c6d6ed16105"
      },
      "execution_count": 5,
      "outputs": [
        {
          "output_type": "execute_result",
          "data": {
            "text/plain": [
              "(7330, 18)"
            ]
          },
          "metadata": {},
          "execution_count": 5
        }
      ]
    },
    {
      "cell_type": "code",
      "source": [
        "df_comments.shape"
      ],
      "metadata": {
        "colab": {
          "base_uri": "https://localhost:8080/"
        },
        "id": "TXssdSUkA7QC",
        "outputId": "693427db-27e0-4fb9-c2fb-b91c8ad6a1d9"
      },
      "execution_count": 6,
      "outputs": [
        {
          "output_type": "execute_result",
          "data": {
            "text/plain": [
              "(19538, 11)"
            ]
          },
          "metadata": {},
          "execution_count": 6
        }
      ]
    },
    {
      "cell_type": "code",
      "source": [
        "# Allows us to see which columns our dfs have\n",
        "list(df_posts)"
      ],
      "metadata": {
        "colab": {
          "base_uri": "https://localhost:8080/"
        },
        "id": "wkRon2gdA_Ew",
        "outputId": "98614b74-38f7-4d05-ae40-880fc28db00a"
      },
      "execution_count": 7,
      "outputs": [
        {
          "output_type": "execute_result",
          "data": {
            "text/plain": [
              "['idint',\n",
              " 'idstr',\n",
              " 'created',\n",
              " 'self',\n",
              " 'nsfw',\n",
              " 'author',\n",
              " 'title',\n",
              " 'url',\n",
              " 'selftext',\n",
              " 'score',\n",
              " 'subreddit',\n",
              " 'distinguish',\n",
              " 'textlen',\n",
              " 'num_comments',\n",
              " 'flair_text',\n",
              " 'flair_css_class',\n",
              " 'augmented_at',\n",
              " 'augmented_count']"
            ]
          },
          "metadata": {},
          "execution_count": 7
        }
      ]
    },
    {
      "cell_type": "code",
      "source": [
        "list(df_comments)"
      ],
      "metadata": {
        "colab": {
          "base_uri": "https://localhost:8080/"
        },
        "id": "ozN08eRiBNIU",
        "outputId": "d03d4501-10b2-405e-9aa0-c18a9c852b6a"
      },
      "execution_count": 8,
      "outputs": [
        {
          "output_type": "execute_result",
          "data": {
            "text/plain": [
              "['idint',\n",
              " 'idstr',\n",
              " 'created',\n",
              " 'author',\n",
              " 'parent',\n",
              " 'submission',\n",
              " 'body',\n",
              " 'score',\n",
              " 'subreddit',\n",
              " 'distinguish',\n",
              " 'textlen']"
            ]
          },
          "metadata": {},
          "execution_count": 8
        }
      ]
    },
    {
      "cell_type": "markdown",
      "source": [
        "## Preprocessing\n",
        "We mainly made the following preprocessing steps to the original dataset:\n",
        "\n",
        "*   Drop redundant columns;\n",
        "*   Remove rows in posts and comments that are either \"removed\" or \"deleted\";\n",
        "*   Drop rows with null values in \"selftext\" column;\n",
        "*   Text cleaning using `spaCy`;\n",
        "*   Phrase modeling with `gensim`;\n",
        "*   Save preprocessed texts to new data frames for further analysis.\n",
        "\n",
        "Code from this section is largely based on joint work by Madeline Bossi, Soliver Fusi, Janiya Peters, and me. "
      ],
      "metadata": {
        "id": "6vxqz7JoXeqk"
      }
    },
    {
      "cell_type": "code",
      "source": [
        "# Drops less useful columns\n",
        "\n",
        "df_posts_short = df_posts.drop(['subreddit', 'url', 'distinguish', 'flair_text', 'flair_css_class', 'augmented_at', 'augmented_count'], axis=1)\n",
        "df_comments_short = df_comments.drop(['subreddit', 'distinguish'], axis=1)"
      ],
      "metadata": {
        "id": "epYNsfAc6Br8"
      },
      "execution_count": 9,
      "outputs": []
    },
    {
      "cell_type": "code",
      "source": [
        "# Selects all rows that don't have 'removed' or 'deleted' in certain columns\n",
        "df_comments_noBlanks = df_comments_short.loc[~df_comments_short['body'].isin(['[removed]', '[deleted]' ]),:]\n",
        "df_posts_noBlanks = df_posts_short.loc[~df_posts_short['selftext'].isin(['[removed]', '[deleted]' ]),:]"
      ],
      "metadata": {
        "id": "vlX-4OxsmNe7"
      },
      "execution_count": 10,
      "outputs": []
    },
    {
      "cell_type": "code",
      "source": [
        "# Drops rows with null values in 'selftext' column (assuming we want to analyze 'selftext')\n",
        "df_posts_noBlanks = df_posts_noBlanks.dropna(subset=['selftext'])\n",
        "df_comments_noBlanks = df_comments_noBlanks.dropna(subset=['body'])"
      ],
      "metadata": {
        "id": "DVn7tVgDmNhZ"
      },
      "execution_count": 11,
      "outputs": []
    },
    {
      "cell_type": "code",
      "source": [
        "# Final number of posts\n",
        "df_posts_noBlanks.shape"
      ],
      "metadata": {
        "colab": {
          "base_uri": "https://localhost:8080/"
        },
        "id": "LuKFSZzJmNkC",
        "outputId": "f2419d98-2b3a-45f0-f5a8-cd1a24288b69"
      },
      "execution_count": 12,
      "outputs": [
        {
          "output_type": "execute_result",
          "data": {
            "text/plain": [
              "(2388, 11)"
            ]
          },
          "metadata": {},
          "execution_count": 12
        }
      ]
    },
    {
      "cell_type": "code",
      "source": [
        "# Final number of comments\n",
        "df_comments_noBlanks.shape"
      ],
      "metadata": {
        "colab": {
          "base_uri": "https://localhost:8080/"
        },
        "id": "CbsOsJbQmNmn",
        "outputId": "c9259a85-70fe-48e8-fafa-5e22d48e3c40"
      },
      "execution_count": 13,
      "outputs": [
        {
          "output_type": "execute_result",
          "data": {
            "text/plain": [
              "(19054, 9)"
            ]
          },
          "metadata": {},
          "execution_count": 13
        }
      ]
    },
    {
      "cell_type": "markdown",
      "source": [
        "Our original dataset has "
      ],
      "metadata": {
        "id": "3WPnJ4Y7xIzw"
      }
    },
    {
      "cell_type": "code",
      "source": [
        ""
      ],
      "metadata": {
        "id": "JXqAgvLbmNpB"
      },
      "execution_count": null,
      "outputs": []
    },
    {
      "cell_type": "code",
      "source": [
        ""
      ],
      "metadata": {
        "id": "4OZ_GSZ8mNrS"
      },
      "execution_count": null,
      "outputs": []
    },
    {
      "cell_type": "code",
      "source": [
        ""
      ],
      "metadata": {
        "id": "7VnXdLxhmNt7"
      },
      "execution_count": null,
      "outputs": []
    },
    {
      "cell_type": "code",
      "source": [
        ""
      ],
      "metadata": {
        "id": "Jscyb8hzmNwR"
      },
      "execution_count": null,
      "outputs": []
    },
    {
      "cell_type": "code",
      "source": [
        "\n",
        "\n",
        "# Github url with post data\n",
        "url_posts_processed = 'https://gist.githubusercontent.com/meiqingli/e789a6c16b63bba3da4f4fb4dadb299f/raw/c78b4b74c18656f6e25e01f1245289dfbac7bf15/df_posts_noBlanks.csv'\n",
        "\n",
        "# Github url with comments data\n",
        "url_comments_processed = 'https://gist.githubusercontent.com/meiqingli/704f7aee9293334a5ce9ee5217ed8dc2/raw/325bff375b0413d8462fc311b33fa894194cb96c/df_comments_noBlanks.csv'\n",
        "\n",
        "# Reads the csv posts file from github\n",
        "df_posts_processed = pd.read_csv(url_posts_processed)\n",
        "\n",
        "# Reads the csv comments file from github\n",
        "df_comments_processed = pd.read_csv(url_comments_processed)"
      ],
      "metadata": {
        "id": "3JfQXyKIBi0S"
      },
      "execution_count": null,
      "outputs": []
    },
    {
      "cell_type": "code",
      "source": [
        "# compare with the original dataset\n",
        "# Identify any differences from the quantitative exploration in the Introduction (less words, fewer unique posters, etc)."
      ],
      "metadata": {
        "id": "LrMn2AFffgtH"
      },
      "execution_count": 1,
      "outputs": []
    },
    {
      "cell_type": "markdown",
      "source": [
        ""
      ],
      "metadata": {
        "id": "VeOjKsuqfgb9"
      }
    },
    {
      "cell_type": "markdown",
      "source": [
        "## Analysis"
      ],
      "metadata": {
        "id": "A9yJKmTLXhDs"
      }
    },
    {
      "cell_type": "markdown",
      "source": [
        "```\n",
        "This section is where you get to deploy and discuss your analysis. Address the following points:\n",
        "\n",
        "Why is this analysis appropriate for the research question?\n",
        "Include the code for performing the analysis. Note any analytical choices made (for example choosing parameters)\n",
        "Interpret the results of your analysis\n",
        "Discuss how the analysis relates to your research question\n",
        "Address each research question (if you have multiple) in a separate section, and include a subsection (###) for each technique used. Again, the goal is to weave the code and text together, the same way you would weave figures and text together in a traditional research paper. Speaking of figures- try to include at least one visualization of your results (a table, figure, etc) per quantitative analysis.\n",
        "\n",
        "The balance of quantitative and quantitative techniques will depend a bit on your project, but you should have at least some quantitative and qualitative elements for research question.\n",
        "\n",
        "A sample analysis outline is included below:\n",
        "```"
      ],
      "metadata": {
        "id": "r-X7FwbZuwTE"
      }
    },
    {
      "cell_type": "markdown",
      "source": [
        "### Analysis 1"
      ],
      "metadata": {
        "id": "xdllWWDLXiuf"
      }
    },
    {
      "cell_type": "markdown",
      "source": [
        "```\n",
        "A sample tf-idf analysis.\n",
        "\n",
        "Describe tf-idf;\n",
        "Describe choices made (i.e. parameters of tf-idf);\n",
        "Include predictions/original expectations for the analysis.\n",
        "```"
      ],
      "metadata": {
        "id": "GDyB2n1Lu0B2"
      }
    },
    {
      "cell_type": "code",
      "source": [
        "# incorporating time\n",
        "# \n",
        "datetimes = pd.to_datetime(df['created'], unit='s')"
      ],
      "metadata": {
        "id": "Dc7vuvo-PIVj"
      },
      "execution_count": null,
      "outputs": []
    },
    {
      "cell_type": "markdown",
      "source": [
        "```\n",
        "*   Comment on the graph of tf-idf scores. Does it meet expectations?\n",
        "*   Comment on the highest tf-idf scores.\n",
        "```"
      ],
      "metadata": {
        "id": "FwRE9zEIu9Zc"
      }
    },
    {
      "cell_type": "markdown",
      "source": [
        "\n",
        "\n",
        "```\n",
        "Conclude the analysis:\n",
        "\n",
        "How did this analysis address your research question?\n",
        "Reflect on any new or unexpected patterns, consider further exploratory analysis into those patterns.\n",
        "Identify any limitations of the analysis and how they may impact the results.\n",
        "And then on to the next analysis/question.\n",
        "```\n",
        "\n"
      ],
      "metadata": {
        "id": "LNPAQfFdu6YX"
      }
    },
    {
      "cell_type": "markdown",
      "source": [
        "It has already been found that a very small percentage of Reddit’s users create the vast majority of the site’s content, so we would not be surprised if only a few users could influence the discourse of entire subreddits. Identifying these users would help us understand how a subreddit's discourse is shaped. "
      ],
      "metadata": {
        "id": "9LdhubQI0t9v"
      }
    },
    {
      "cell_type": "code",
      "source": [
        "df = df.sort_values(by='score', ascending=False)[:1000]\n",
        "# Sanity check\n",
        "print(df.shape)"
      ],
      "metadata": {
        "id": "mHnYbA9a00nB"
      },
      "execution_count": null,
      "outputs": []
    },
    {
      "cell_type": "code",
      "source": [
        "df.author.nunique()"
      ],
      "metadata": {
        "id": "d2nCBOPF01zg"
      },
      "execution_count": null,
      "outputs": []
    },
    {
      "cell_type": "code",
      "source": [
        "df.plot('score', 'num_comments', kind='scatter', color='black', alpha=0.25, logy=True)"
      ],
      "metadata": {
        "id": "AeEoMRsw03fB"
      },
      "execution_count": null,
      "outputs": []
    },
    {
      "cell_type": "code",
      "source": [
        ""
      ],
      "metadata": {
        "id": "nyURoT2U07hz"
      },
      "execution_count": null,
      "outputs": []
    },
    {
      "cell_type": "code",
      "source": [
        "## Rank by geographic areas, map distribution\n",
        "## Word embedding and topic modeling\n",
        "## Cluster Analysis\n",
        "## Sentiment analysis\n",
        "## Network analysis"
      ],
      "metadata": {
        "id": "YfKq-U-UahOH"
      },
      "execution_count": null,
      "outputs": []
    },
    {
      "cell_type": "markdown",
      "source": [
        "## Conclusion"
      ],
      "metadata": {
        "id": "yBQljCpEaVKM"
      }
    },
    {
      "cell_type": "markdown",
      "source": [
        "```\n",
        "This section is a brief summary of your analyses and final thoughts:\n",
        "\n",
        "What was your conclusions in response to your research questions?\n",
        "What are potential implications of these results to the broader community?\n",
        "Reflect on how this project relates the the themes of the workshop.\n",
        "How would you further develop this research project?\n",
        "```"
      ],
      "metadata": {
        "id": "n_1VrbWcvGxO"
      }
    },
    {
      "cell_type": "markdown",
      "source": [
        "## References\n",
        "*   Getting Started with Sentiment Analysis using Python. (n.d.). Retrieved July 17, 2022, from https://huggingface.co/blog/sentiment-analysis-python\n",
        "*   King, G., Pan, J., & Roberts, M. E. (2013). How Censorship in China Allows Government Criticism but Silences Collective Expression. American Political Science Review, 107(2), 326–343. https://doi.org/10.1017/S0003055413000014\n",
        "*   Lucy, L., Demszky, D., Bromley, P., & Jurafsky, D. (2020). Content Analysis of Textbooks via Natural Language Processing: Findings on Gender, Race, and Ethnicity in Texas U.S. History Textbooks. AERA Open, 6(3), 233285842094031. https://doi.org/10.1177/2332858420940312\n",
        "\n"
      ],
      "metadata": {
        "id": "xU8H4uChaYfJ"
      }
    },
    {
      "cell_type": "markdown",
      "source": [
        "**Tools:**\n",
        "*   [Sentiment analysis](https://github.com/cjhutto/vaderSentiment)\n",
        "*   [Getting started with sentiment analysis](https://huggingface.co/blog/sentiment-analysis-python)"
      ],
      "metadata": {
        "id": "XEl_ijy9aasT"
      }
    }
  ]
}