{
  "nbformat": 4,
  "nbformat_minor": 0,
  "metadata": {
    "colab": {
      "name": "DSSJ_Final_Project_Li.ipynb",
      "provenance": [],
      "collapsed_sections": [
        "_wvETt4AXba-"
      ],
      "authorship_tag": "ABX9TyMd7AyNkgdjCE+V8C1NpWgK",
      "include_colab_link": true
    },
    "kernelspec": {
      "name": "python3",
      "display_name": "Python 3"
    },
    "language_info": {
      "name": "python"
    }
  },
  "cells": [
    {
      "cell_type": "markdown",
      "metadata": {
        "id": "view-in-github",
        "colab_type": "text"
      },
      "source": [
        "<a href=\"https://colab.research.google.com/github/meiqingli/dssj_summer2022/blob/main/DSSJ_Final_Project_Li.ipynb\" target=\"_parent\"><img src=\"https://colab.research.google.com/assets/colab-badge.svg\" alt=\"Open In Colab\"/></a>"
      ]
    },
    {
      "cell_type": "markdown",
      "source": [
        "# **Geographic Disparity in Publishing: A Sentiment Analysis from Subreddit Community**\n",
        "**Meiqing Li | PhD Candidate in City and Regional Planning**\n",
        "\n",
        "**DSSJ @ Berkeley**"
      ],
      "metadata": {
        "id": "fXV5DkoFXUDw"
      }
    },
    {
      "cell_type": "code",
      "execution_count": 33,
      "metadata": {
        "id": "N3axAwmjSpVV"
      },
      "outputs": [],
      "source": [
        "# import packages\n",
        "import pandas as pd\n",
        "import spacy\n",
        "from gensim.models.phrases import Phrases, Phraser\n",
        "\n",
        "# load the English preprocessing pipeline\n",
        "nlp = spacy.load(\"en_core_web_sm\")"
      ]
    },
    {
      "cell_type": "markdown",
      "source": [
        "## Introduction\n",
        "The subreddit of interest is [Publishing](https://www.reddit.com/r/publishing/), which is a community for publishing professionals to discuss various issues such as career and business opportunities. Through initial qualitative analysis, we found it a relatively small community compared with other subreddits by number of readers and posts. In terms of topics, we found discussions on different types of publishing, for example self-publishing,publishing through agent, and digital publishing, as well as publishing in the US vs. Canada. These are all potential areas for further investigation. \n",
        "\n",
        "Before cleaning up, our dataset includes 7,330 posts and 19,538 comments. By removing blank texts, we reduced the size of dataset to 2,388 posts and 19,054 comments. There have been a total of 1,922 unique users for posts, and 4,033 unique users for comments. Interestingly, we noticed that the most frequent user's posts take up 1% of the overall posts while the next only takes up 0.3%. Another observation we find interesting is that people are curious about the differences in publishing between US and Canada, whilst it seems that most of the posts are from people trying to navigate publishing but very little from the publisher side. For this project, I would like to look into the posts by different people involved in publishing, specifically the themes and sentiments within posts from different areas or regions. For example, how do the sentiments and concerns regarding publishing differ between US, Canada and other countries, or different parts of the US? Also, within each geographic region, what are the shares of posts by people interested in publishing, publishers, agents, and other stakeholders? I am interested in studying these dynamics because they can give us a better understanding about the broader landscape of publishing. \n",
        "\n",
        "In order to address these questions, I will look into several NLP techniques inlcuding *topic modeling* and *sentiment analysis*. Specifically, I will use tools such as *concordance* to identify texts with geographical key words, then extract topical words and sentiments. "
      ],
      "metadata": {
        "id": "_wvETt4AXba-"
      }
    },
    {
      "cell_type": "code",
      "source": [
        "# Github url with post data\n",
        "url_posts = 'https://gist.githubusercontent.com/meiqingli/2d128e1cac170d71b3820c51c6c3766e/raw/5be159378011713f1daaca4d683bb6875d11f61f/submissions.csv'\n",
        "\n",
        "# Github url with comments data\n",
        "url_comments = 'https://gist.githubusercontent.com/meiqingli/5d83de4c508a0564359b2dd07c6839b1/raw/a83a44b0a85ac8ccc10f717495ff6a85c2f93878/comments.csv'\n",
        "\n",
        "# Reads the csv posts file from github\n",
        "df_posts = pd.read_csv(url_posts)\n",
        "\n",
        "# Reads the csv comments file from github\n",
        "df_comments = pd.read_csv(url_comments)"
      ],
      "metadata": {
        "id": "PCbt02LoafQ1"
      },
      "execution_count": 4,
      "outputs": []
    },
    {
      "cell_type": "code",
      "source": [
        "# Tells us about the general shape of the dfs\n",
        "df_posts.shape"
      ],
      "metadata": {
        "colab": {
          "base_uri": "https://localhost:8080/"
        },
        "id": "wkHxETBKBCrL",
        "outputId": "49fc52d3-d29b-4e8d-8b6c-8c6d6ed16105"
      },
      "execution_count": 5,
      "outputs": [
        {
          "output_type": "execute_result",
          "data": {
            "text/plain": [
              "(7330, 18)"
            ]
          },
          "metadata": {},
          "execution_count": 5
        }
      ]
    },
    {
      "cell_type": "code",
      "source": [
        "df_comments.shape"
      ],
      "metadata": {
        "colab": {
          "base_uri": "https://localhost:8080/"
        },
        "id": "TXssdSUkA7QC",
        "outputId": "693427db-27e0-4fb9-c2fb-b91c8ad6a1d9"
      },
      "execution_count": 6,
      "outputs": [
        {
          "output_type": "execute_result",
          "data": {
            "text/plain": [
              "(19538, 11)"
            ]
          },
          "metadata": {},
          "execution_count": 6
        }
      ]
    },
    {
      "cell_type": "code",
      "source": [
        "# Allows us to see which columns our dfs have\n",
        "list(df_posts)"
      ],
      "metadata": {
        "colab": {
          "base_uri": "https://localhost:8080/"
        },
        "id": "wkRon2gdA_Ew",
        "outputId": "98614b74-38f7-4d05-ae40-880fc28db00a"
      },
      "execution_count": 7,
      "outputs": [
        {
          "output_type": "execute_result",
          "data": {
            "text/plain": [
              "['idint',\n",
              " 'idstr',\n",
              " 'created',\n",
              " 'self',\n",
              " 'nsfw',\n",
              " 'author',\n",
              " 'title',\n",
              " 'url',\n",
              " 'selftext',\n",
              " 'score',\n",
              " 'subreddit',\n",
              " 'distinguish',\n",
              " 'textlen',\n",
              " 'num_comments',\n",
              " 'flair_text',\n",
              " 'flair_css_class',\n",
              " 'augmented_at',\n",
              " 'augmented_count']"
            ]
          },
          "metadata": {},
          "execution_count": 7
        }
      ]
    },
    {
      "cell_type": "code",
      "source": [
        "list(df_comments)"
      ],
      "metadata": {
        "colab": {
          "base_uri": "https://localhost:8080/"
        },
        "id": "ozN08eRiBNIU",
        "outputId": "d03d4501-10b2-405e-9aa0-c18a9c852b6a"
      },
      "execution_count": 8,
      "outputs": [
        {
          "output_type": "execute_result",
          "data": {
            "text/plain": [
              "['idint',\n",
              " 'idstr',\n",
              " 'created',\n",
              " 'author',\n",
              " 'parent',\n",
              " 'submission',\n",
              " 'body',\n",
              " 'score',\n",
              " 'subreddit',\n",
              " 'distinguish',\n",
              " 'textlen']"
            ]
          },
          "metadata": {},
          "execution_count": 8
        }
      ]
    },
    {
      "cell_type": "markdown",
      "source": [
        "## Preprocessing\n",
        "We mainly made the following preprocessing steps to the original dataset:\n",
        "\n",
        "*   Drop redundant columns;\n",
        "*   Remove rows in posts and comments that are either \"removed\" or \"deleted\";\n",
        "*   Drop rows with null values in `selftext` and `body` columns;\n",
        "*   Drop duplicate posts and columns;\n",
        "*   Text cleaning using `spaCy`;\n",
        "*   Phrase modeling with `gensim`;\n",
        "*   Save preprocessed texts to new data frames for further analysis.\n",
        "\n",
        "Code from this section is largely based on joint work by Madeline Bossi, Soliver Fusi, Janiya Peters, and me. "
      ],
      "metadata": {
        "id": "6vxqz7JoXeqk"
      }
    },
    {
      "cell_type": "code",
      "source": [
        "# Drops less useful columns\n",
        "\n",
        "df_posts_short = df_posts.drop(['subreddit', 'url', 'distinguish', 'flair_text', 'flair_css_class', 'augmented_at', 'augmented_count'], axis=1)\n",
        "df_comments_short = df_comments.drop(['subreddit', 'distinguish'], axis=1)"
      ],
      "metadata": {
        "id": "epYNsfAc6Br8"
      },
      "execution_count": 9,
      "outputs": []
    },
    {
      "cell_type": "code",
      "source": [
        "# Selects all rows that don't have 'removed' or 'deleted' in certain columns\n",
        "df_comments_noBlanks = df_comments_short.loc[~df_comments_short['body'].isin(['[removed]', '[deleted]' ]),:]\n",
        "df_posts_noBlanks = df_posts_short.loc[~df_posts_short['selftext'].isin(['[removed]', '[deleted]' ]),:]"
      ],
      "metadata": {
        "id": "vlX-4OxsmNe7"
      },
      "execution_count": 10,
      "outputs": []
    },
    {
      "cell_type": "code",
      "source": [
        "# Drops rows with null values in 'selftext' or 'body' column (assuming we want to analyze 'selftext')\n",
        "df_posts_noBlanks = df_posts_noBlanks.dropna(subset=['selftext'])\n",
        "df_comments_noBlanks = df_comments_noBlanks.dropna(subset=['body'])"
      ],
      "metadata": {
        "id": "DVn7tVgDmNhZ"
      },
      "execution_count": 11,
      "outputs": []
    },
    {
      "cell_type": "code",
      "source": [
        "# drop duplicate posts or comments\n",
        "df_posts_noBlanks = df_posts_noBlanks.drop_duplicates(subset=['selftext'])\n",
        "df_comments_noBlanks = df_comments_noBlanks.drop_duplicates(subset=['body'])"
      ],
      "metadata": {
        "id": "JXqAgvLbmNpB"
      },
      "execution_count": 14,
      "outputs": []
    },
    {
      "cell_type": "code",
      "source": [
        "# Final number of posts\n",
        "df_posts_noBlanks.shape"
      ],
      "metadata": {
        "colab": {
          "base_uri": "https://localhost:8080/"
        },
        "id": "LuKFSZzJmNkC",
        "outputId": "95140eee-81a2-49e9-bb85-fc02c4c0fa12"
      },
      "execution_count": 15,
      "outputs": [
        {
          "output_type": "execute_result",
          "data": {
            "text/plain": [
              "(2385, 11)"
            ]
          },
          "metadata": {},
          "execution_count": 15
        }
      ]
    },
    {
      "cell_type": "code",
      "source": [
        "# Final number of comments\n",
        "df_comments_noBlanks.shape"
      ],
      "metadata": {
        "colab": {
          "base_uri": "https://localhost:8080/"
        },
        "id": "CbsOsJbQmNmn",
        "outputId": "bbe12856-d7ab-40e0-a305-052ff8a200da"
      },
      "execution_count": 16,
      "outputs": [
        {
          "output_type": "execute_result",
          "data": {
            "text/plain": [
              "(18754, 9)"
            ]
          },
          "metadata": {},
          "execution_count": 16
        }
      ]
    },
    {
      "cell_type": "markdown",
      "source": [
        "Our original dataset has 7,330 rows of posts and 19,538 rows of comments. After preprocessing, the dataset contains 2,385 posts and 18,754 comments, which are small subsets of the original ones. "
      ],
      "metadata": {
        "id": "3WPnJ4Y7xIzw"
      }
    },
    {
      "cell_type": "code",
      "source": [
        "def clean(token):\n",
        "    \"\"\"Helper function that specifies whether a token is:\n",
        "        - punctuation\n",
        "        - space\n",
        "        - digit\n",
        "    \"\"\"\n",
        "    return token.is_punct or token.is_space or token.is_digit\n",
        "\n",
        "def line_read(df, text_col='selftext'):\n",
        "    \"\"\"Generator function to read in text from df and get rid of line breaks.\"\"\"    \n",
        "    for text in df[text_col]:\n",
        "        yield text.replace('\\n', '')\n",
        "\n",
        "def preprocess_posts(df, text_col='selftext', allowed_postags=['NOUN', 'ADJ']):\n",
        "    \"\"\"Preprocessing function to apply to the posts dataframe.\"\"\"\n",
        "    for parsed in nlp.pipe(line_read(df, text_col), batch_size=1000, disable=[\"ner\"]):\n",
        "        # Gather lowercased, lemmatized tokens\n",
        "        tokens = [token.lemma_.lower() if token.lemma_ != '-PRON-'\n",
        "                  else token.lower_ \n",
        "                  for token in parsed if not clean(token)]\n",
        "        # Remove specific lemmatizations, and words that are not nouns or adjectives\n",
        "        tokens = [lemma\n",
        "                  for lemma in tokens\n",
        "                  if not lemma in [\"'s\",  \"’s\", \"’\"] and not lemma in allowed_postags]\n",
        "        # Remove stop words\n",
        "        tokens = [token for token in tokens if token not in spacy.lang.en.stop_words.STOP_WORDS]\n",
        "        yield tokens\n",
        "\n",
        "# created a different preprocessing function for the comments df because the relevant column name is different\n",
        "def preprocess_comments(df, text_col='body', allowed_postags=['NOUN', 'ADJ']):\n",
        "    \"\"\"Preprocessing function to apply to the comments dataframe.\"\"\"\n",
        "    for parsed in nlp.pipe(line_read(df, text_col), batch_size=1000, disable=[\"ner\"]):\n",
        "        # Gather lowercased, lemmatized tokens\n",
        "        tokens = [token.lemma_.lower() if token.lemma_ != '-PRON-'\n",
        "                  else token.lower_ \n",
        "                  for token in parsed if not clean(token)]\n",
        "        # Remove specific lemmatizations, and words that are not nouns or adjectives\n",
        "        tokens = [lemma\n",
        "                  for lemma in tokens\n",
        "                  if not lemma in [\"'s\",  \"’s\", \"’\"] and not lemma in allowed_postags]\n",
        "        # Remove stop words\n",
        "        tokens = [token for token in tokens if token not in spacy.lang.en.stop_words.STOP_WORDS]\n",
        "        yield tokens\n"
      ],
      "metadata": {
        "id": "4OZ_GSZ8mNrS"
      },
      "execution_count": 18,
      "outputs": []
    },
    {
      "cell_type": "code",
      "source": [
        "# creates a list of lists of lemmas in each post\n",
        "lemmas_posts = [line for line in preprocess_posts(df_posts_noBlanks)]\n",
        "\n",
        "# creates a list of lists of lemmas in each comment\n",
        "lemmas_comments = [line for line in preprocess_comments(df_comments_noBlanks)]"
      ],
      "metadata": {
        "id": "7VnXdLxhmNt7"
      },
      "execution_count": 19,
      "outputs": []
    },
    {
      "cell_type": "code",
      "source": [
        "# flattens the list of lists into one big list to facilitate counting lemma frequency\n",
        "flat_lemmas_posts = [item for sublist in lemmas_posts for item in sublist]\n",
        "# flat_lemmas_posts[:30]"
      ],
      "metadata": {
        "id": "Jscyb8hzmNwR"
      },
      "execution_count": 22,
      "outputs": []
    },
    {
      "cell_type": "code",
      "source": [
        "# creates a df to see which lemmas are the most frequent\n",
        "from collections import Counter\n",
        "posts_count = Counter(flat_lemmas_posts)\n",
        "\n",
        "lemma_freq_df_posts = pd.DataFrame.from_dict(posts_count, orient='index').reset_index()\n",
        "lemma_freq_df_posts = lemma_freq_df_posts.rename(columns={'index':'lemma', 0:'count'})\n",
        "lemma_freq_df_posts.sort_values('count', ascending=False)[:30]"
      ],
      "metadata": {
        "colab": {
          "base_uri": "https://localhost:8080/",
          "height": 990
        },
        "id": "xQZgSzSHC86M",
        "outputId": "ff3fc6f6-e964-4d27-db42-67776043f95f"
      },
      "execution_count": 21,
      "outputs": [
        {
          "output_type": "execute_result",
          "data": {
            "text/plain": [
              "          lemma  count\n",
              "201        book   3134\n",
              "187     publish   1794\n",
              "2    publishing   1448\n",
              "17         work   1393\n",
              "3          like   1283\n",
              "120        know   1130\n",
              "188        want   1060\n",
              "290   publisher   1059\n",
              "174       write    971\n",
              "77         look    836\n",
              "231       think    703\n",
              "143        good    697\n",
              "194       story    694\n",
              "295      author    654\n",
              "389        time    649\n",
              "14         find    649\n",
              "133       thank    635\n",
              "54          use    610\n",
              "584        help    589\n",
              "177        year    582\n",
              "13         need    545\n",
              "247       agent    532\n",
              "109         try    529\n",
              "424      people    517\n",
              "198        self    512\n",
              "317       start    491\n",
              "1    experience    458\n",
              "397       right    444\n",
              "62         read    438\n",
              "321         new    434"
            ],
            "text/html": [
              "\n",
              "  <div id=\"df-8040a70e-7236-4484-8b63-974b44878012\">\n",
              "    <div class=\"colab-df-container\">\n",
              "      <div>\n",
              "<style scoped>\n",
              "    .dataframe tbody tr th:only-of-type {\n",
              "        vertical-align: middle;\n",
              "    }\n",
              "\n",
              "    .dataframe tbody tr th {\n",
              "        vertical-align: top;\n",
              "    }\n",
              "\n",
              "    .dataframe thead th {\n",
              "        text-align: right;\n",
              "    }\n",
              "</style>\n",
              "<table border=\"1\" class=\"dataframe\">\n",
              "  <thead>\n",
              "    <tr style=\"text-align: right;\">\n",
              "      <th></th>\n",
              "      <th>lemma</th>\n",
              "      <th>count</th>\n",
              "    </tr>\n",
              "  </thead>\n",
              "  <tbody>\n",
              "    <tr>\n",
              "      <th>201</th>\n",
              "      <td>book</td>\n",
              "      <td>3134</td>\n",
              "    </tr>\n",
              "    <tr>\n",
              "      <th>187</th>\n",
              "      <td>publish</td>\n",
              "      <td>1794</td>\n",
              "    </tr>\n",
              "    <tr>\n",
              "      <th>2</th>\n",
              "      <td>publishing</td>\n",
              "      <td>1448</td>\n",
              "    </tr>\n",
              "    <tr>\n",
              "      <th>17</th>\n",
              "      <td>work</td>\n",
              "      <td>1393</td>\n",
              "    </tr>\n",
              "    <tr>\n",
              "      <th>3</th>\n",
              "      <td>like</td>\n",
              "      <td>1283</td>\n",
              "    </tr>\n",
              "    <tr>\n",
              "      <th>120</th>\n",
              "      <td>know</td>\n",
              "      <td>1130</td>\n",
              "    </tr>\n",
              "    <tr>\n",
              "      <th>188</th>\n",
              "      <td>want</td>\n",
              "      <td>1060</td>\n",
              "    </tr>\n",
              "    <tr>\n",
              "      <th>290</th>\n",
              "      <td>publisher</td>\n",
              "      <td>1059</td>\n",
              "    </tr>\n",
              "    <tr>\n",
              "      <th>174</th>\n",
              "      <td>write</td>\n",
              "      <td>971</td>\n",
              "    </tr>\n",
              "    <tr>\n",
              "      <th>77</th>\n",
              "      <td>look</td>\n",
              "      <td>836</td>\n",
              "    </tr>\n",
              "    <tr>\n",
              "      <th>231</th>\n",
              "      <td>think</td>\n",
              "      <td>703</td>\n",
              "    </tr>\n",
              "    <tr>\n",
              "      <th>143</th>\n",
              "      <td>good</td>\n",
              "      <td>697</td>\n",
              "    </tr>\n",
              "    <tr>\n",
              "      <th>194</th>\n",
              "      <td>story</td>\n",
              "      <td>694</td>\n",
              "    </tr>\n",
              "    <tr>\n",
              "      <th>295</th>\n",
              "      <td>author</td>\n",
              "      <td>654</td>\n",
              "    </tr>\n",
              "    <tr>\n",
              "      <th>389</th>\n",
              "      <td>time</td>\n",
              "      <td>649</td>\n",
              "    </tr>\n",
              "    <tr>\n",
              "      <th>14</th>\n",
              "      <td>find</td>\n",
              "      <td>649</td>\n",
              "    </tr>\n",
              "    <tr>\n",
              "      <th>133</th>\n",
              "      <td>thank</td>\n",
              "      <td>635</td>\n",
              "    </tr>\n",
              "    <tr>\n",
              "      <th>54</th>\n",
              "      <td>use</td>\n",
              "      <td>610</td>\n",
              "    </tr>\n",
              "    <tr>\n",
              "      <th>584</th>\n",
              "      <td>help</td>\n",
              "      <td>589</td>\n",
              "    </tr>\n",
              "    <tr>\n",
              "      <th>177</th>\n",
              "      <td>year</td>\n",
              "      <td>582</td>\n",
              "    </tr>\n",
              "    <tr>\n",
              "      <th>13</th>\n",
              "      <td>need</td>\n",
              "      <td>545</td>\n",
              "    </tr>\n",
              "    <tr>\n",
              "      <th>247</th>\n",
              "      <td>agent</td>\n",
              "      <td>532</td>\n",
              "    </tr>\n",
              "    <tr>\n",
              "      <th>109</th>\n",
              "      <td>try</td>\n",
              "      <td>529</td>\n",
              "    </tr>\n",
              "    <tr>\n",
              "      <th>424</th>\n",
              "      <td>people</td>\n",
              "      <td>517</td>\n",
              "    </tr>\n",
              "    <tr>\n",
              "      <th>198</th>\n",
              "      <td>self</td>\n",
              "      <td>512</td>\n",
              "    </tr>\n",
              "    <tr>\n",
              "      <th>317</th>\n",
              "      <td>start</td>\n",
              "      <td>491</td>\n",
              "    </tr>\n",
              "    <tr>\n",
              "      <th>1</th>\n",
              "      <td>experience</td>\n",
              "      <td>458</td>\n",
              "    </tr>\n",
              "    <tr>\n",
              "      <th>397</th>\n",
              "      <td>right</td>\n",
              "      <td>444</td>\n",
              "    </tr>\n",
              "    <tr>\n",
              "      <th>62</th>\n",
              "      <td>read</td>\n",
              "      <td>438</td>\n",
              "    </tr>\n",
              "    <tr>\n",
              "      <th>321</th>\n",
              "      <td>new</td>\n",
              "      <td>434</td>\n",
              "    </tr>\n",
              "  </tbody>\n",
              "</table>\n",
              "</div>\n",
              "      <button class=\"colab-df-convert\" onclick=\"convertToInteractive('df-8040a70e-7236-4484-8b63-974b44878012')\"\n",
              "              title=\"Convert this dataframe to an interactive table.\"\n",
              "              style=\"display:none;\">\n",
              "        \n",
              "  <svg xmlns=\"http://www.w3.org/2000/svg\" height=\"24px\"viewBox=\"0 0 24 24\"\n",
              "       width=\"24px\">\n",
              "    <path d=\"M0 0h24v24H0V0z\" fill=\"none\"/>\n",
              "    <path d=\"M18.56 5.44l.94 2.06.94-2.06 2.06-.94-2.06-.94-.94-2.06-.94 2.06-2.06.94zm-11 1L8.5 8.5l.94-2.06 2.06-.94-2.06-.94L8.5 2.5l-.94 2.06-2.06.94zm10 10l.94 2.06.94-2.06 2.06-.94-2.06-.94-.94-2.06-.94 2.06-2.06.94z\"/><path d=\"M17.41 7.96l-1.37-1.37c-.4-.4-.92-.59-1.43-.59-.52 0-1.04.2-1.43.59L10.3 9.45l-7.72 7.72c-.78.78-.78 2.05 0 2.83L4 21.41c.39.39.9.59 1.41.59.51 0 1.02-.2 1.41-.59l7.78-7.78 2.81-2.81c.8-.78.8-2.07 0-2.86zM5.41 20L4 18.59l7.72-7.72 1.47 1.35L5.41 20z\"/>\n",
              "  </svg>\n",
              "      </button>\n",
              "      \n",
              "  <style>\n",
              "    .colab-df-container {\n",
              "      display:flex;\n",
              "      flex-wrap:wrap;\n",
              "      gap: 12px;\n",
              "    }\n",
              "\n",
              "    .colab-df-convert {\n",
              "      background-color: #E8F0FE;\n",
              "      border: none;\n",
              "      border-radius: 50%;\n",
              "      cursor: pointer;\n",
              "      display: none;\n",
              "      fill: #1967D2;\n",
              "      height: 32px;\n",
              "      padding: 0 0 0 0;\n",
              "      width: 32px;\n",
              "    }\n",
              "\n",
              "    .colab-df-convert:hover {\n",
              "      background-color: #E2EBFA;\n",
              "      box-shadow: 0px 1px 2px rgba(60, 64, 67, 0.3), 0px 1px 3px 1px rgba(60, 64, 67, 0.15);\n",
              "      fill: #174EA6;\n",
              "    }\n",
              "\n",
              "    [theme=dark] .colab-df-convert {\n",
              "      background-color: #3B4455;\n",
              "      fill: #D2E3FC;\n",
              "    }\n",
              "\n",
              "    [theme=dark] .colab-df-convert:hover {\n",
              "      background-color: #434B5C;\n",
              "      box-shadow: 0px 1px 3px 1px rgba(0, 0, 0, 0.15);\n",
              "      filter: drop-shadow(0px 1px 2px rgba(0, 0, 0, 0.3));\n",
              "      fill: #FFFFFF;\n",
              "    }\n",
              "  </style>\n",
              "\n",
              "      <script>\n",
              "        const buttonEl =\n",
              "          document.querySelector('#df-8040a70e-7236-4484-8b63-974b44878012 button.colab-df-convert');\n",
              "        buttonEl.style.display =\n",
              "          google.colab.kernel.accessAllowed ? 'block' : 'none';\n",
              "\n",
              "        async function convertToInteractive(key) {\n",
              "          const element = document.querySelector('#df-8040a70e-7236-4484-8b63-974b44878012');\n",
              "          const dataTable =\n",
              "            await google.colab.kernel.invokeFunction('convertToInteractive',\n",
              "                                                     [key], {});\n",
              "          if (!dataTable) return;\n",
              "\n",
              "          const docLinkHtml = 'Like what you see? Visit the ' +\n",
              "            '<a target=\"_blank\" href=https://colab.research.google.com/notebooks/data_table.ipynb>data table notebook</a>'\n",
              "            + ' to learn more about interactive tables.';\n",
              "          element.innerHTML = '';\n",
              "          dataTable['output_type'] = 'display_data';\n",
              "          await google.colab.output.renderOutput(dataTable, element);\n",
              "          const docLink = document.createElement('div');\n",
              "          docLink.innerHTML = docLinkHtml;\n",
              "          element.appendChild(docLink);\n",
              "        }\n",
              "      </script>\n",
              "    </div>\n",
              "  </div>\n",
              "  "
            ]
          },
          "metadata": {},
          "execution_count": 21
        }
      ]
    },
    {
      "cell_type": "code",
      "source": [
        "# replicates this same process for the comments\n",
        "flat_lemmas_comments = [item for sublist in lemmas_comments for item in sublist]\n",
        "# flat_lemmas_comments[:30]"
      ],
      "metadata": {
        "id": "mX2pPsT0C9iY"
      },
      "execution_count": 25,
      "outputs": []
    },
    {
      "cell_type": "code",
      "source": [
        "comments_count = Counter(flat_lemmas_comments)\n",
        "\n",
        "lemma_freq_df_comments = pd.DataFrame.from_dict(comments_count, orient='index').reset_index()\n",
        "lemma_freq_df_comments = lemma_freq_df_comments.rename(columns={'index':'lemma', 0:'count'})\n",
        "lemma_freq_df_comments.sort_values('count', ascending=False)[:30]"
      ],
      "metadata": {
        "colab": {
          "base_uri": "https://localhost:8080/",
          "height": 990
        },
        "id": "t9AyzPjJC9qd",
        "outputId": "28b54d70-e627-4316-c749-4b1a0ec6d1a0"
      },
      "execution_count": 24,
      "outputs": [
        {
          "output_type": "execute_result",
          "data": {
            "text/plain": [
              "          lemma  count\n",
              "4          book  10150\n",
              "72         work   5754\n",
              "322   publisher   5155\n",
              "6       publish   4775\n",
              "25   publishing   4580\n",
              "17         good   4248\n",
              "161        like   4033\n",
              "324        want   3643\n",
              "170      author   3405\n",
              "940       agent   3217\n",
              "105        know   3213\n",
              "7         think   3066\n",
              "552        look   2957\n",
              "152      people   2750\n",
              "414       write   2642\n",
              "83         need   2513\n",
              "176       thank   2474\n",
              "331        time   2360\n",
              "196         use   2202\n",
              "10         find   2173\n",
              "421        self   2115\n",
              "316         lot   2095\n",
              "86          pay   2018\n",
              "30        thing   1896\n",
              "38          job   1864\n",
              "422        sell   1863\n",
              "192         try   1861\n",
              "202       right   1861\n",
              "40          way   1827\n",
              "349        help   1758"
            ],
            "text/html": [
              "\n",
              "  <div id=\"df-8d398aac-9522-4149-b231-f902ba843e8a\">\n",
              "    <div class=\"colab-df-container\">\n",
              "      <div>\n",
              "<style scoped>\n",
              "    .dataframe tbody tr th:only-of-type {\n",
              "        vertical-align: middle;\n",
              "    }\n",
              "\n",
              "    .dataframe tbody tr th {\n",
              "        vertical-align: top;\n",
              "    }\n",
              "\n",
              "    .dataframe thead th {\n",
              "        text-align: right;\n",
              "    }\n",
              "</style>\n",
              "<table border=\"1\" class=\"dataframe\">\n",
              "  <thead>\n",
              "    <tr style=\"text-align: right;\">\n",
              "      <th></th>\n",
              "      <th>lemma</th>\n",
              "      <th>count</th>\n",
              "    </tr>\n",
              "  </thead>\n",
              "  <tbody>\n",
              "    <tr>\n",
              "      <th>4</th>\n",
              "      <td>book</td>\n",
              "      <td>10150</td>\n",
              "    </tr>\n",
              "    <tr>\n",
              "      <th>72</th>\n",
              "      <td>work</td>\n",
              "      <td>5754</td>\n",
              "    </tr>\n",
              "    <tr>\n",
              "      <th>322</th>\n",
              "      <td>publisher</td>\n",
              "      <td>5155</td>\n",
              "    </tr>\n",
              "    <tr>\n",
              "      <th>6</th>\n",
              "      <td>publish</td>\n",
              "      <td>4775</td>\n",
              "    </tr>\n",
              "    <tr>\n",
              "      <th>25</th>\n",
              "      <td>publishing</td>\n",
              "      <td>4580</td>\n",
              "    </tr>\n",
              "    <tr>\n",
              "      <th>17</th>\n",
              "      <td>good</td>\n",
              "      <td>4248</td>\n",
              "    </tr>\n",
              "    <tr>\n",
              "      <th>161</th>\n",
              "      <td>like</td>\n",
              "      <td>4033</td>\n",
              "    </tr>\n",
              "    <tr>\n",
              "      <th>324</th>\n",
              "      <td>want</td>\n",
              "      <td>3643</td>\n",
              "    </tr>\n",
              "    <tr>\n",
              "      <th>170</th>\n",
              "      <td>author</td>\n",
              "      <td>3405</td>\n",
              "    </tr>\n",
              "    <tr>\n",
              "      <th>940</th>\n",
              "      <td>agent</td>\n",
              "      <td>3217</td>\n",
              "    </tr>\n",
              "    <tr>\n",
              "      <th>105</th>\n",
              "      <td>know</td>\n",
              "      <td>3213</td>\n",
              "    </tr>\n",
              "    <tr>\n",
              "      <th>7</th>\n",
              "      <td>think</td>\n",
              "      <td>3066</td>\n",
              "    </tr>\n",
              "    <tr>\n",
              "      <th>552</th>\n",
              "      <td>look</td>\n",
              "      <td>2957</td>\n",
              "    </tr>\n",
              "    <tr>\n",
              "      <th>152</th>\n",
              "      <td>people</td>\n",
              "      <td>2750</td>\n",
              "    </tr>\n",
              "    <tr>\n",
              "      <th>414</th>\n",
              "      <td>write</td>\n",
              "      <td>2642</td>\n",
              "    </tr>\n",
              "    <tr>\n",
              "      <th>83</th>\n",
              "      <td>need</td>\n",
              "      <td>2513</td>\n",
              "    </tr>\n",
              "    <tr>\n",
              "      <th>176</th>\n",
              "      <td>thank</td>\n",
              "      <td>2474</td>\n",
              "    </tr>\n",
              "    <tr>\n",
              "      <th>331</th>\n",
              "      <td>time</td>\n",
              "      <td>2360</td>\n",
              "    </tr>\n",
              "    <tr>\n",
              "      <th>196</th>\n",
              "      <td>use</td>\n",
              "      <td>2202</td>\n",
              "    </tr>\n",
              "    <tr>\n",
              "      <th>10</th>\n",
              "      <td>find</td>\n",
              "      <td>2173</td>\n",
              "    </tr>\n",
              "    <tr>\n",
              "      <th>421</th>\n",
              "      <td>self</td>\n",
              "      <td>2115</td>\n",
              "    </tr>\n",
              "    <tr>\n",
              "      <th>316</th>\n",
              "      <td>lot</td>\n",
              "      <td>2095</td>\n",
              "    </tr>\n",
              "    <tr>\n",
              "      <th>86</th>\n",
              "      <td>pay</td>\n",
              "      <td>2018</td>\n",
              "    </tr>\n",
              "    <tr>\n",
              "      <th>30</th>\n",
              "      <td>thing</td>\n",
              "      <td>1896</td>\n",
              "    </tr>\n",
              "    <tr>\n",
              "      <th>38</th>\n",
              "      <td>job</td>\n",
              "      <td>1864</td>\n",
              "    </tr>\n",
              "    <tr>\n",
              "      <th>422</th>\n",
              "      <td>sell</td>\n",
              "      <td>1863</td>\n",
              "    </tr>\n",
              "    <tr>\n",
              "      <th>192</th>\n",
              "      <td>try</td>\n",
              "      <td>1861</td>\n",
              "    </tr>\n",
              "    <tr>\n",
              "      <th>202</th>\n",
              "      <td>right</td>\n",
              "      <td>1861</td>\n",
              "    </tr>\n",
              "    <tr>\n",
              "      <th>40</th>\n",
              "      <td>way</td>\n",
              "      <td>1827</td>\n",
              "    </tr>\n",
              "    <tr>\n",
              "      <th>349</th>\n",
              "      <td>help</td>\n",
              "      <td>1758</td>\n",
              "    </tr>\n",
              "  </tbody>\n",
              "</table>\n",
              "</div>\n",
              "      <button class=\"colab-df-convert\" onclick=\"convertToInteractive('df-8d398aac-9522-4149-b231-f902ba843e8a')\"\n",
              "              title=\"Convert this dataframe to an interactive table.\"\n",
              "              style=\"display:none;\">\n",
              "        \n",
              "  <svg xmlns=\"http://www.w3.org/2000/svg\" height=\"24px\"viewBox=\"0 0 24 24\"\n",
              "       width=\"24px\">\n",
              "    <path d=\"M0 0h24v24H0V0z\" fill=\"none\"/>\n",
              "    <path d=\"M18.56 5.44l.94 2.06.94-2.06 2.06-.94-2.06-.94-.94-2.06-.94 2.06-2.06.94zm-11 1L8.5 8.5l.94-2.06 2.06-.94-2.06-.94L8.5 2.5l-.94 2.06-2.06.94zm10 10l.94 2.06.94-2.06 2.06-.94-2.06-.94-.94-2.06-.94 2.06-2.06.94z\"/><path d=\"M17.41 7.96l-1.37-1.37c-.4-.4-.92-.59-1.43-.59-.52 0-1.04.2-1.43.59L10.3 9.45l-7.72 7.72c-.78.78-.78 2.05 0 2.83L4 21.41c.39.39.9.59 1.41.59.51 0 1.02-.2 1.41-.59l7.78-7.78 2.81-2.81c.8-.78.8-2.07 0-2.86zM5.41 20L4 18.59l7.72-7.72 1.47 1.35L5.41 20z\"/>\n",
              "  </svg>\n",
              "      </button>\n",
              "      \n",
              "  <style>\n",
              "    .colab-df-container {\n",
              "      display:flex;\n",
              "      flex-wrap:wrap;\n",
              "      gap: 12px;\n",
              "    }\n",
              "\n",
              "    .colab-df-convert {\n",
              "      background-color: #E8F0FE;\n",
              "      border: none;\n",
              "      border-radius: 50%;\n",
              "      cursor: pointer;\n",
              "      display: none;\n",
              "      fill: #1967D2;\n",
              "      height: 32px;\n",
              "      padding: 0 0 0 0;\n",
              "      width: 32px;\n",
              "    }\n",
              "\n",
              "    .colab-df-convert:hover {\n",
              "      background-color: #E2EBFA;\n",
              "      box-shadow: 0px 1px 2px rgba(60, 64, 67, 0.3), 0px 1px 3px 1px rgba(60, 64, 67, 0.15);\n",
              "      fill: #174EA6;\n",
              "    }\n",
              "\n",
              "    [theme=dark] .colab-df-convert {\n",
              "      background-color: #3B4455;\n",
              "      fill: #D2E3FC;\n",
              "    }\n",
              "\n",
              "    [theme=dark] .colab-df-convert:hover {\n",
              "      background-color: #434B5C;\n",
              "      box-shadow: 0px 1px 3px 1px rgba(0, 0, 0, 0.15);\n",
              "      filter: drop-shadow(0px 1px 2px rgba(0, 0, 0, 0.3));\n",
              "      fill: #FFFFFF;\n",
              "    }\n",
              "  </style>\n",
              "\n",
              "      <script>\n",
              "        const buttonEl =\n",
              "          document.querySelector('#df-8d398aac-9522-4149-b231-f902ba843e8a button.colab-df-convert');\n",
              "        buttonEl.style.display =\n",
              "          google.colab.kernel.accessAllowed ? 'block' : 'none';\n",
              "\n",
              "        async function convertToInteractive(key) {\n",
              "          const element = document.querySelector('#df-8d398aac-9522-4149-b231-f902ba843e8a');\n",
              "          const dataTable =\n",
              "            await google.colab.kernel.invokeFunction('convertToInteractive',\n",
              "                                                     [key], {});\n",
              "          if (!dataTable) return;\n",
              "\n",
              "          const docLinkHtml = 'Like what you see? Visit the ' +\n",
              "            '<a target=\"_blank\" href=https://colab.research.google.com/notebooks/data_table.ipynb>data table notebook</a>'\n",
              "            + ' to learn more about interactive tables.';\n",
              "          element.innerHTML = '';\n",
              "          dataTable['output_type'] = 'display_data';\n",
              "          await google.colab.output.renderOutput(dataTable, element);\n",
              "          const docLink = document.createElement('div');\n",
              "          docLink.innerHTML = docLinkHtml;\n",
              "          element.appendChild(docLink);\n",
              "        }\n",
              "      </script>\n",
              "    </div>\n",
              "  </div>\n",
              "  "
            ]
          },
          "metadata": {},
          "execution_count": 24
        }
      ]
    },
    {
      "cell_type": "code",
      "source": [
        "# Forming bigrams and trigrams\n",
        "\n",
        "# Create bigram and trigram models for posts\n",
        "bigram_posts = Phrases(lemmas_posts, min_count=10, threshold=100)\n",
        "trigram_posts = Phrases(bigram_posts[lemmas_posts], min_count=10, threshold=50)  \n",
        "bigram_phraser_posts = Phraser(bigram_posts)\n",
        "trigram_phraser_posts = Phraser(trigram_posts)\n",
        "\n",
        "# Form trigrams\n",
        "trigrams_posts = [trigram_phraser_posts[bigram_phraser_posts[doc]] for doc in lemmas_posts]\n",
        "\n",
        "# Create bigram and trigram models for comments\n",
        "bigram_comments = Phrases(lemmas_comments, min_count=10, threshold=100)\n",
        "trigram_comments = Phrases(bigram_comments[lemmas_comments], min_count=10, threshold=50)  \n",
        "bigram_phraser_comments = Phraser(bigram_comments)\n",
        "trigram_phraser_comments = Phraser(trigram_comments)\n",
        "\n",
        "# Form trigrams\n",
        "trigrams_comments = [trigram_phraser_comments[bigram_phraser_comments[doc]] for doc in lemmas_comments]"
      ],
      "metadata": {
        "colab": {
          "base_uri": "https://localhost:8080/"
        },
        "id": "BymEPpXgC9t2",
        "outputId": "f571f7ed-fa2a-49f5-b5c3-356007e54859"
      },
      "execution_count": 26,
      "outputs": [
        {
          "output_type": "stream",
          "name": "stderr",
          "text": [
            "/usr/local/lib/python3.7/dist-packages/gensim/models/phrases.py:598: UserWarning: For a faster implementation, use the gensim.models.phrases.Phraser class\n",
            "  warnings.warn(\"For a faster implementation, use the gensim.models.phrases.Phraser class\")\n"
          ]
        }
      ]
    },
    {
      "cell_type": "code",
      "source": [
        "# joins each into a string\n",
        "trigrams_joined_posts = [' '.join(trigram) for trigram in trigrams_posts]\n",
        "trigrams_joined_posts[0]"
      ],
      "metadata": {
        "colab": {
          "base_uri": "https://localhost:8080/",
          "height": 70
        },
        "id": "vTg2jpqgC9wt",
        "outputId": "fc3298cd-684e-4254-f333-d664b5e052b4"
      },
      "execution_count": 27,
      "outputs": [
        {
          "output_type": "execute_result",
          "data": {
            "text/plain": [
              "'industry experience publishing like enter field specifically editing usual catch-22 hold true job need experience experience need job find entry_level work prove difficult live baltimore md feel exhaust obvious avenue send resume cover_letter magazine newspaper publishing house etc locate oppose internship course college student tend exclude consideration additionally support work pay obvious sense priority realize reader subreddit shot dark use advice person familiar industry consider send email editor blog read ask similar guidance perceive brazen'"
            ],
            "application/vnd.google.colaboratory.intrinsic+json": {
              "type": "string"
            }
          },
          "metadata": {},
          "execution_count": 27
        }
      ]
    },
    {
      "cell_type": "code",
      "source": [
        "# joins each into a string\n",
        "trigrams_joined_comments = [' '.join(trigram) for trigram in trigrams_comments]\n",
        "trigrams_joined_comments[0]"
      ],
      "metadata": {
        "colab": {
          "base_uri": "https://localhost:8080/",
          "height": 35
        },
        "id": "3PEKR6JsEYDX",
        "outputId": "54acf04c-e6ab-4043-d7af-6c8d29dd5cae"
      },
      "execution_count": 28,
      "outputs": [
        {
          "output_type": "execute_result",
          "data": {
            "text/plain": [
              "'great tip start market book online publish'"
            ],
            "application/vnd.google.colaboratory.intrinsic+json": {
              "type": "string"
            }
          },
          "metadata": {},
          "execution_count": 28
        }
      ]
    },
    {
      "cell_type": "code",
      "source": [
        "# adds lemmas column to submissions df (with option to make csv)\n",
        "df_posts_noBlanks.insert(loc=7, column='lemmas', value=trigrams_joined_posts)\n",
        "df_posts_noBlanks = df_posts_noBlanks[~df_posts_noBlanks['lemmas'].isin([''])]\n",
        "df_posts_noBlanks.to_csv('submissions_lemmas.csv', index=False)\n",
        "\n",
        "# adds lemmas column to comments df (with option to make csv)\n",
        "df_comments_noBlanks.insert(loc=7, column='lemmas', value=trigrams_joined_comments)\n",
        "df_comments_noBlanks = df_comments_noBlanks[~df_comments_noBlanks['lemmas'].isin([''])]\n",
        "df_comments_noBlanks.to_csv('comments_lemmas.csv', index=False)"
      ],
      "metadata": {
        "id": "rDX3rzJ0EYLc"
      },
      "execution_count": 31,
      "outputs": []
    },
    {
      "cell_type": "code",
      "source": [
        "# Quickly import preprocessed datasets\n",
        "\n",
        "# Github url with post data\n",
        "url_posts_processed = 'https://gist.githubusercontent.com/meiqingli/7ce4c20c903c1befd574ed27750a0276/raw/bc80e78606664c73ed9cf583c00cc58bcd2e4af7/submissions_lemmas.csv'\n",
        "\n",
        "# Github url with comments data\n",
        "url_comments_processed = 'https://gist.githubusercontent.com/meiqingli/2fa6c4e3d3e08cc1c53ee88d7ee8e9ec/raw/dd3419bcb1b8dec10abc1f9a2fa6f45cbc93f511/comments_lemmas.csv'\n",
        "\n",
        "# Reads the csv posts file from github\n",
        "df_posts_processed = pd.read_csv(url_posts_processed)\n",
        "\n",
        "# Reads the csv comments file from github\n",
        "df_comments_processed = pd.read_csv(url_comments_processed)"
      ],
      "metadata": {
        "id": "3JfQXyKIBi0S"
      },
      "execution_count": 34,
      "outputs": []
    },
    {
      "cell_type": "markdown",
      "source": [
        "## Analysis\n",
        "For my analysis, I hope to distinguish between different people involved in publishing, as well as their geographic disparities. I will first extract posts/comments with geographic identifiers (e.g., countries, cities), then apply topic modeling and sentiment analysis to the subset. "
      ],
      "metadata": {
        "id": "A9yJKmTLXhDs"
      }
    },
    {
      "cell_type": "code",
      "source": [
        "# First I will extract the posts and comments with geographic identifiers\n",
        "# create a list of places of interest based on annotation\n",
        "# narrow down to these three places for now (note 'us' can have multiple meanings)\n",
        "places = ['uk', 'canada', 'california']\n",
        "place = '|'.join(r\"\\b{}\\b\".format(x) for x in places)\n",
        "\n",
        "posts = df_posts_processed[df_posts_processed['lemmas'].str.contains(place)].reset_index()\n",
        "comments = df_comments_processed[df_comments_processed['lemmas'].str.contains(place)].reset_index()"
      ],
      "metadata": {
        "id": "R-beF6T9KmZu"
      },
      "execution_count": 53,
      "outputs": []
    },
    {
      "cell_type": "code",
      "source": [
        "len(posts)"
      ],
      "metadata": {
        "colab": {
          "base_uri": "https://localhost:8080/"
        },
        "id": "Fd9PCfrCMGVg",
        "outputId": "b62d800c-b79d-4bf1-b1d8-6a0f4f68ef51"
      },
      "execution_count": 54,
      "outputs": [
        {
          "output_type": "execute_result",
          "data": {
            "text/plain": [
              "102"
            ]
          },
          "metadata": {},
          "execution_count": 54
        }
      ]
    },
    {
      "cell_type": "code",
      "source": [
        "posts.head(3)"
      ],
      "metadata": {
        "colab": {
          "base_uri": "https://localhost:8080/",
          "height": 143
        },
        "id": "A8MYgvOET97W",
        "outputId": "dca7c17d-b24d-4337-b906-97f0abb4f56a"
      },
      "execution_count": 55,
      "outputs": [
        {
          "output_type": "execute_result",
          "data": {
            "text/plain": [
              "   index     idint      idstr     created  self  nsfw     author  \\\n",
              "0      9  48792263   t3_t1scn  1335894315     1     0   B33sting   \n",
              "1     17  56393156   t3_xkp8k  1343930905     1     0   rusemean   \n",
              "2     26  62568624  t3_11929c  1349877386     1     0  Samroo326   \n",
              "\n",
              "                                               title  \\\n",
              "0  Looking to help my wife publish a book....need...   \n",
              "1  How to find work in publishing? / Breaking int...   \n",
              "2                  Canadian Getting A Book Published   \n",
              "\n",
              "                                              lemmas  \\\n",
              "0  wife imho great writer school writing complete...   \n",
              "1  hi sorry wrong place post like partner try fin...   \n",
              "2  fiction writer canada recently finish length n...   \n",
              "\n",
              "                                            selftext  score  textlen  \\\n",
              "0  My wife is IMHO a great writer. She has gone t...      0      697   \n",
              "1  Hi, there. I'm sorry if this is the wrong plac...      3      679   \n",
              "2  I am a fiction writer in Canada and I have rec...      1      341   \n",
              "\n",
              "   num_comments  \n",
              "0             0  \n",
              "1             8  \n",
              "2             1  "
            ],
            "text/html": [
              "\n",
              "  <div id=\"df-a47dc463-94c4-4fdb-945b-6b6967671444\">\n",
              "    <div class=\"colab-df-container\">\n",
              "      <div>\n",
              "<style scoped>\n",
              "    .dataframe tbody tr th:only-of-type {\n",
              "        vertical-align: middle;\n",
              "    }\n",
              "\n",
              "    .dataframe tbody tr th {\n",
              "        vertical-align: top;\n",
              "    }\n",
              "\n",
              "    .dataframe thead th {\n",
              "        text-align: right;\n",
              "    }\n",
              "</style>\n",
              "<table border=\"1\" class=\"dataframe\">\n",
              "  <thead>\n",
              "    <tr style=\"text-align: right;\">\n",
              "      <th></th>\n",
              "      <th>index</th>\n",
              "      <th>idint</th>\n",
              "      <th>idstr</th>\n",
              "      <th>created</th>\n",
              "      <th>self</th>\n",
              "      <th>nsfw</th>\n",
              "      <th>author</th>\n",
              "      <th>title</th>\n",
              "      <th>lemmas</th>\n",
              "      <th>selftext</th>\n",
              "      <th>score</th>\n",
              "      <th>textlen</th>\n",
              "      <th>num_comments</th>\n",
              "    </tr>\n",
              "  </thead>\n",
              "  <tbody>\n",
              "    <tr>\n",
              "      <th>0</th>\n",
              "      <td>9</td>\n",
              "      <td>48792263</td>\n",
              "      <td>t3_t1scn</td>\n",
              "      <td>1335894315</td>\n",
              "      <td>1</td>\n",
              "      <td>0</td>\n",
              "      <td>B33sting</td>\n",
              "      <td>Looking to help my wife publish a book....need...</td>\n",
              "      <td>wife imho great writer school writing complete...</td>\n",
              "      <td>My wife is IMHO a great writer. She has gone t...</td>\n",
              "      <td>0</td>\n",
              "      <td>697</td>\n",
              "      <td>0</td>\n",
              "    </tr>\n",
              "    <tr>\n",
              "      <th>1</th>\n",
              "      <td>17</td>\n",
              "      <td>56393156</td>\n",
              "      <td>t3_xkp8k</td>\n",
              "      <td>1343930905</td>\n",
              "      <td>1</td>\n",
              "      <td>0</td>\n",
              "      <td>rusemean</td>\n",
              "      <td>How to find work in publishing? / Breaking int...</td>\n",
              "      <td>hi sorry wrong place post like partner try fin...</td>\n",
              "      <td>Hi, there. I'm sorry if this is the wrong plac...</td>\n",
              "      <td>3</td>\n",
              "      <td>679</td>\n",
              "      <td>8</td>\n",
              "    </tr>\n",
              "    <tr>\n",
              "      <th>2</th>\n",
              "      <td>26</td>\n",
              "      <td>62568624</td>\n",
              "      <td>t3_11929c</td>\n",
              "      <td>1349877386</td>\n",
              "      <td>1</td>\n",
              "      <td>0</td>\n",
              "      <td>Samroo326</td>\n",
              "      <td>Canadian Getting A Book Published</td>\n",
              "      <td>fiction writer canada recently finish length n...</td>\n",
              "      <td>I am a fiction writer in Canada and I have rec...</td>\n",
              "      <td>1</td>\n",
              "      <td>341</td>\n",
              "      <td>1</td>\n",
              "    </tr>\n",
              "  </tbody>\n",
              "</table>\n",
              "</div>\n",
              "      <button class=\"colab-df-convert\" onclick=\"convertToInteractive('df-a47dc463-94c4-4fdb-945b-6b6967671444')\"\n",
              "              title=\"Convert this dataframe to an interactive table.\"\n",
              "              style=\"display:none;\">\n",
              "        \n",
              "  <svg xmlns=\"http://www.w3.org/2000/svg\" height=\"24px\"viewBox=\"0 0 24 24\"\n",
              "       width=\"24px\">\n",
              "    <path d=\"M0 0h24v24H0V0z\" fill=\"none\"/>\n",
              "    <path d=\"M18.56 5.44l.94 2.06.94-2.06 2.06-.94-2.06-.94-.94-2.06-.94 2.06-2.06.94zm-11 1L8.5 8.5l.94-2.06 2.06-.94-2.06-.94L8.5 2.5l-.94 2.06-2.06.94zm10 10l.94 2.06.94-2.06 2.06-.94-2.06-.94-.94-2.06-.94 2.06-2.06.94z\"/><path d=\"M17.41 7.96l-1.37-1.37c-.4-.4-.92-.59-1.43-.59-.52 0-1.04.2-1.43.59L10.3 9.45l-7.72 7.72c-.78.78-.78 2.05 0 2.83L4 21.41c.39.39.9.59 1.41.59.51 0 1.02-.2 1.41-.59l7.78-7.78 2.81-2.81c.8-.78.8-2.07 0-2.86zM5.41 20L4 18.59l7.72-7.72 1.47 1.35L5.41 20z\"/>\n",
              "  </svg>\n",
              "      </button>\n",
              "      \n",
              "  <style>\n",
              "    .colab-df-container {\n",
              "      display:flex;\n",
              "      flex-wrap:wrap;\n",
              "      gap: 12px;\n",
              "    }\n",
              "\n",
              "    .colab-df-convert {\n",
              "      background-color: #E8F0FE;\n",
              "      border: none;\n",
              "      border-radius: 50%;\n",
              "      cursor: pointer;\n",
              "      display: none;\n",
              "      fill: #1967D2;\n",
              "      height: 32px;\n",
              "      padding: 0 0 0 0;\n",
              "      width: 32px;\n",
              "    }\n",
              "\n",
              "    .colab-df-convert:hover {\n",
              "      background-color: #E2EBFA;\n",
              "      box-shadow: 0px 1px 2px rgba(60, 64, 67, 0.3), 0px 1px 3px 1px rgba(60, 64, 67, 0.15);\n",
              "      fill: #174EA6;\n",
              "    }\n",
              "\n",
              "    [theme=dark] .colab-df-convert {\n",
              "      background-color: #3B4455;\n",
              "      fill: #D2E3FC;\n",
              "    }\n",
              "\n",
              "    [theme=dark] .colab-df-convert:hover {\n",
              "      background-color: #434B5C;\n",
              "      box-shadow: 0px 1px 3px 1px rgba(0, 0, 0, 0.15);\n",
              "      filter: drop-shadow(0px 1px 2px rgba(0, 0, 0, 0.3));\n",
              "      fill: #FFFFFF;\n",
              "    }\n",
              "  </style>\n",
              "\n",
              "      <script>\n",
              "        const buttonEl =\n",
              "          document.querySelector('#df-a47dc463-94c4-4fdb-945b-6b6967671444 button.colab-df-convert');\n",
              "        buttonEl.style.display =\n",
              "          google.colab.kernel.accessAllowed ? 'block' : 'none';\n",
              "\n",
              "        async function convertToInteractive(key) {\n",
              "          const element = document.querySelector('#df-a47dc463-94c4-4fdb-945b-6b6967671444');\n",
              "          const dataTable =\n",
              "            await google.colab.kernel.invokeFunction('convertToInteractive',\n",
              "                                                     [key], {});\n",
              "          if (!dataTable) return;\n",
              "\n",
              "          const docLinkHtml = 'Like what you see? Visit the ' +\n",
              "            '<a target=\"_blank\" href=https://colab.research.google.com/notebooks/data_table.ipynb>data table notebook</a>'\n",
              "            + ' to learn more about interactive tables.';\n",
              "          element.innerHTML = '';\n",
              "          dataTable['output_type'] = 'display_data';\n",
              "          await google.colab.output.renderOutput(dataTable, element);\n",
              "          const docLink = document.createElement('div');\n",
              "          docLink.innerHTML = docLinkHtml;\n",
              "          element.appendChild(docLink);\n",
              "        }\n",
              "      </script>\n",
              "    </div>\n",
              "  </div>\n",
              "  "
            ]
          },
          "metadata": {},
          "execution_count": 55
        }
      ]
    },
    {
      "cell_type": "code",
      "source": [
        "len(comments)"
      ],
      "metadata": {
        "colab": {
          "base_uri": "https://localhost:8080/"
        },
        "id": "4okDHL4ZS7KR",
        "outputId": "6a16fa84-f002-4951-f0a3-7ddb3036c8bc"
      },
      "execution_count": 56,
      "outputs": [
        {
          "output_type": "execute_result",
          "data": {
            "text/plain": [
              "327"
            ]
          },
          "metadata": {},
          "execution_count": 56
        }
      ]
    },
    {
      "cell_type": "code",
      "source": [
        "comments.head(3)"
      ],
      "metadata": {
        "colab": {
          "base_uri": "https://localhost:8080/",
          "height": 143
        },
        "id": "vgO81x3ZUAyQ",
        "outputId": "a315dc6b-8d5b-4364-a96c-52c632d8e730"
      },
      "execution_count": 57,
      "outputs": [
        {
          "output_type": "execute_result",
          "data": {
            "text/plain": [
              "   index        idint       idstr     created        author     parent  \\\n",
              "0     88  26462814228  t1_c5n9y50  1343941970     earwicker   t3_xkp8k   \n",
              "1    110  26494708926  t1_c669k8u  1347307627     [deleted]   t3_zo380   \n",
              "2    163  26530570703  t1_c6rm7db  1351184163  chefsinblack  t3_12295a   \n",
              "\n",
              "  submission                                               body  \\\n",
              "0   t3_xkp8k  I don't know if it's as relevant in the UK as ...   \n",
              "1   t3_zo380  Xlibris provides a book publishing guide to wr...   \n",
              "2  t3_12295a  There is an email list you can sign up for, I ...   \n",
              "\n",
              "                                              lemmas  score  textlen  \n",
              "0  know relevant uk look mediabistro job listing ...      3      165  \n",
              "1  xlibris provide book publishing guide writer a...      1      550  \n",
              "2  email list sign think inspired selection alert...      1      296  "
            ],
            "text/html": [
              "\n",
              "  <div id=\"df-420e0691-7c88-4031-8715-692759220ab5\">\n",
              "    <div class=\"colab-df-container\">\n",
              "      <div>\n",
              "<style scoped>\n",
              "    .dataframe tbody tr th:only-of-type {\n",
              "        vertical-align: middle;\n",
              "    }\n",
              "\n",
              "    .dataframe tbody tr th {\n",
              "        vertical-align: top;\n",
              "    }\n",
              "\n",
              "    .dataframe thead th {\n",
              "        text-align: right;\n",
              "    }\n",
              "</style>\n",
              "<table border=\"1\" class=\"dataframe\">\n",
              "  <thead>\n",
              "    <tr style=\"text-align: right;\">\n",
              "      <th></th>\n",
              "      <th>index</th>\n",
              "      <th>idint</th>\n",
              "      <th>idstr</th>\n",
              "      <th>created</th>\n",
              "      <th>author</th>\n",
              "      <th>parent</th>\n",
              "      <th>submission</th>\n",
              "      <th>body</th>\n",
              "      <th>lemmas</th>\n",
              "      <th>score</th>\n",
              "      <th>textlen</th>\n",
              "    </tr>\n",
              "  </thead>\n",
              "  <tbody>\n",
              "    <tr>\n",
              "      <th>0</th>\n",
              "      <td>88</td>\n",
              "      <td>26462814228</td>\n",
              "      <td>t1_c5n9y50</td>\n",
              "      <td>1343941970</td>\n",
              "      <td>earwicker</td>\n",
              "      <td>t3_xkp8k</td>\n",
              "      <td>t3_xkp8k</td>\n",
              "      <td>I don't know if it's as relevant in the UK as ...</td>\n",
              "      <td>know relevant uk look mediabistro job listing ...</td>\n",
              "      <td>3</td>\n",
              "      <td>165</td>\n",
              "    </tr>\n",
              "    <tr>\n",
              "      <th>1</th>\n",
              "      <td>110</td>\n",
              "      <td>26494708926</td>\n",
              "      <td>t1_c669k8u</td>\n",
              "      <td>1347307627</td>\n",
              "      <td>[deleted]</td>\n",
              "      <td>t3_zo380</td>\n",
              "      <td>t3_zo380</td>\n",
              "      <td>Xlibris provides a book publishing guide to wr...</td>\n",
              "      <td>xlibris provide book publishing guide writer a...</td>\n",
              "      <td>1</td>\n",
              "      <td>550</td>\n",
              "    </tr>\n",
              "    <tr>\n",
              "      <th>2</th>\n",
              "      <td>163</td>\n",
              "      <td>26530570703</td>\n",
              "      <td>t1_c6rm7db</td>\n",
              "      <td>1351184163</td>\n",
              "      <td>chefsinblack</td>\n",
              "      <td>t3_12295a</td>\n",
              "      <td>t3_12295a</td>\n",
              "      <td>There is an email list you can sign up for, I ...</td>\n",
              "      <td>email list sign think inspired selection alert...</td>\n",
              "      <td>1</td>\n",
              "      <td>296</td>\n",
              "    </tr>\n",
              "  </tbody>\n",
              "</table>\n",
              "</div>\n",
              "      <button class=\"colab-df-convert\" onclick=\"convertToInteractive('df-420e0691-7c88-4031-8715-692759220ab5')\"\n",
              "              title=\"Convert this dataframe to an interactive table.\"\n",
              "              style=\"display:none;\">\n",
              "        \n",
              "  <svg xmlns=\"http://www.w3.org/2000/svg\" height=\"24px\"viewBox=\"0 0 24 24\"\n",
              "       width=\"24px\">\n",
              "    <path d=\"M0 0h24v24H0V0z\" fill=\"none\"/>\n",
              "    <path d=\"M18.56 5.44l.94 2.06.94-2.06 2.06-.94-2.06-.94-.94-2.06-.94 2.06-2.06.94zm-11 1L8.5 8.5l.94-2.06 2.06-.94-2.06-.94L8.5 2.5l-.94 2.06-2.06.94zm10 10l.94 2.06.94-2.06 2.06-.94-2.06-.94-.94-2.06-.94 2.06-2.06.94z\"/><path d=\"M17.41 7.96l-1.37-1.37c-.4-.4-.92-.59-1.43-.59-.52 0-1.04.2-1.43.59L10.3 9.45l-7.72 7.72c-.78.78-.78 2.05 0 2.83L4 21.41c.39.39.9.59 1.41.59.51 0 1.02-.2 1.41-.59l7.78-7.78 2.81-2.81c.8-.78.8-2.07 0-2.86zM5.41 20L4 18.59l7.72-7.72 1.47 1.35L5.41 20z\"/>\n",
              "  </svg>\n",
              "      </button>\n",
              "      \n",
              "  <style>\n",
              "    .colab-df-container {\n",
              "      display:flex;\n",
              "      flex-wrap:wrap;\n",
              "      gap: 12px;\n",
              "    }\n",
              "\n",
              "    .colab-df-convert {\n",
              "      background-color: #E8F0FE;\n",
              "      border: none;\n",
              "      border-radius: 50%;\n",
              "      cursor: pointer;\n",
              "      display: none;\n",
              "      fill: #1967D2;\n",
              "      height: 32px;\n",
              "      padding: 0 0 0 0;\n",
              "      width: 32px;\n",
              "    }\n",
              "\n",
              "    .colab-df-convert:hover {\n",
              "      background-color: #E2EBFA;\n",
              "      box-shadow: 0px 1px 2px rgba(60, 64, 67, 0.3), 0px 1px 3px 1px rgba(60, 64, 67, 0.15);\n",
              "      fill: #174EA6;\n",
              "    }\n",
              "\n",
              "    [theme=dark] .colab-df-convert {\n",
              "      background-color: #3B4455;\n",
              "      fill: #D2E3FC;\n",
              "    }\n",
              "\n",
              "    [theme=dark] .colab-df-convert:hover {\n",
              "      background-color: #434B5C;\n",
              "      box-shadow: 0px 1px 3px 1px rgba(0, 0, 0, 0.15);\n",
              "      filter: drop-shadow(0px 1px 2px rgba(0, 0, 0, 0.3));\n",
              "      fill: #FFFFFF;\n",
              "    }\n",
              "  </style>\n",
              "\n",
              "      <script>\n",
              "        const buttonEl =\n",
              "          document.querySelector('#df-420e0691-7c88-4031-8715-692759220ab5 button.colab-df-convert');\n",
              "        buttonEl.style.display =\n",
              "          google.colab.kernel.accessAllowed ? 'block' : 'none';\n",
              "\n",
              "        async function convertToInteractive(key) {\n",
              "          const element = document.querySelector('#df-420e0691-7c88-4031-8715-692759220ab5');\n",
              "          const dataTable =\n",
              "            await google.colab.kernel.invokeFunction('convertToInteractive',\n",
              "                                                     [key], {});\n",
              "          if (!dataTable) return;\n",
              "\n",
              "          const docLinkHtml = 'Like what you see? Visit the ' +\n",
              "            '<a target=\"_blank\" href=https://colab.research.google.com/notebooks/data_table.ipynb>data table notebook</a>'\n",
              "            + ' to learn more about interactive tables.';\n",
              "          element.innerHTML = '';\n",
              "          dataTable['output_type'] = 'display_data';\n",
              "          await google.colab.output.renderOutput(dataTable, element);\n",
              "          const docLink = document.createElement('div');\n",
              "          docLink.innerHTML = docLinkHtml;\n",
              "          element.appendChild(docLink);\n",
              "        }\n",
              "      </script>\n",
              "    </div>\n",
              "  </div>\n",
              "  "
            ]
          },
          "metadata": {},
          "execution_count": 57
        }
      ]
    },
    {
      "cell_type": "markdown",
      "source": [
        "The subset is very small if we only select the three places. "
      ],
      "metadata": {
        "id": "oIiulKn7ThCn"
      }
    },
    {
      "cell_type": "markdown",
      "source": [
        "### Analysis 1: text analysis\n",
        "Let's do some language analysis with `text()`."
      ],
      "metadata": {
        "id": "xdllWWDLXiuf"
      }
    },
    {
      "cell_type": "code",
      "source": [
        "tokens_posts = []\n",
        "tokens_comments = []\n",
        "\n",
        "for idx, row in enumerate(posts['lemmas']):\n",
        "    # Notice that we put all tokens in the same list\n",
        "    tokens_posts.extend(row.split(' '))\n",
        "\n",
        "for idx, row in enumerate(comments['lemmas']):\n",
        "    # Notice that we put all tokens in the same list\n",
        "    tokens_comments.extend(row.split(' '))"
      ],
      "metadata": {
        "id": "cApQAHZNUeF9"
      },
      "execution_count": 58,
      "outputs": []
    },
    {
      "cell_type": "code",
      "source": [
        "import nltk\n",
        "nltk.download('stopwords')\n",
        "from nltk.text import Text\n",
        "\n",
        "publish_tokens_posts = Text(tokens_posts)\n",
        "publish_tokens_comments = Text(tokens_comments)"
      ],
      "metadata": {
        "colab": {
          "base_uri": "https://localhost:8080/"
        },
        "id": "RpmCgb4kaBzG",
        "outputId": "26e3d50d-fb41-4fca-eefa-4fa36c4af693"
      },
      "execution_count": 59,
      "outputs": [
        {
          "output_type": "stream",
          "name": "stderr",
          "text": [
            "[nltk_data] Downloading package stopwords to /root/nltk_data...\n",
            "[nltk_data]   Package stopwords is already up-to-date!\n"
          ]
        }
      ]
    },
    {
      "cell_type": "markdown",
      "source": [
        "#### Concordances"
      ],
      "metadata": {
        "id": "twLQr1b1asnI"
      }
    },
    {
      "cell_type": "code",
      "source": [
        "publish_tokens_posts.concordance('uk', width=75)"
      ],
      "metadata": {
        "colab": {
          "base_uri": "https://localhost:8080/"
        },
        "id": "f_vH831FaU01",
        "outputId": "e0248b1f-214d-4866-a357-bb5ee12886c9"
      },
      "execution_count": 60,
      "outputs": [
        {
          "output_type": "stream",
          "name": "stdout",
          "text": [
            "Displaying 25 of 89 matches:\n",
            "business particular city nottingham uk particularly keen proofreading unpa\n",
            "know impossible canada know publish uk hear need agent true good way hi fo\n",
            " master publishing child literature uk ireland recommend good programs?my \n",
            "lar focus good source job ideal job uk graduate study grad program good tr\n",
            "ornia hello guy 1st year ba student uk apply american macmillan publishing\n",
            "cape publishing capacity especially uk usa having return publishing confer\n",
            "ook award literary gathering attend uk actually speaker work amazon hear s\n",
            " harpercollins transworld doubleday uk branch exciting world self publishi\n",
            "e recommendation possible ma course uk u.s. probably impossible financial \n",
            "charge isbn generation distribution uk respectively allow profit isbn stip\n",
            "ness medium outlet etc idea company uk print colour page a4 art book price\n",
            "n appeal people age target_audience uk ireland book know start basic quest\n",
            "e europe post want highlight london uk base book publisher look future pro\n",
            "ompany editor particular preferably uk edit london base book local knowled\n",
            " passionate about- great networking uk publishing house sister location wo\n",
            "s expense incl tuition costs)- hear uk grad program lay time work internsh\n",
            "columbia publishing course:- oxford uk beautiful old campus find town quie\n",
            " find want do- excellent networking uk publishing house nyc connection pro\n",
            " position look for?edit base london uk start hobby turn page science_ficti\n",
            "c?even publish guide recommend live uk thank_advance wife small map book b\n",
            "istributor small shop confused base uk advice greatly_appreciate hello apo\n",
            "ng shot like red door market leader uk field able find review experience d\n",
            "stion regard literary publish scene uk particularly regard bulk activity p\n",
            "ely case.)i'm certain london center uk publishing industry city carry sign\n",
            "r study literature creative_writing uk wonder city university hold potenti\n"
          ]
        }
      ]
    },
    {
      "cell_type": "code",
      "source": [
        "publish_tokens_posts.concordance('canada', width=75)"
      ],
      "metadata": {
        "colab": {
          "base_uri": "https://localhost:8080/"
        },
        "id": "XKgZnyz3bP97",
        "outputId": "542fcad7-91df-40fd-d54e-4150dfe78ea6"
      },
      "execution_count": 61,
      "outputs": [
        {
          "output_type": "stream",
          "name": "stdout",
          "text": [
            "Displaying 25 of 35 matches:\n",
            "formation fictional novel publish canada tell canadian publisher rarely pu\n",
            "super useful!thank fiction writer canada recently finish length novel desp\n",
            "fuse self publish know impossible canada know publish uk hear need agent t\n",
            "n free work depressingly low wage canada completely lose faith living publ\n",
            "on novel sell american right book canada canadian publish long time questi\n",
            "oy idea start small_press ontario canada like venture want research hard t\n",
            "time find information small_press canada hard fact publishing industry gen\n",
            " shy copy past year united_states canada little free libraries hope promot\n",
            "greatly_appreciate live vancouver canada start write novel character strug\n",
            "ite suited american market market canada understanding fairly small cause \n",
            "ilarly limit ability freely visit canada thank https://www.family-tree.co.\n",
            " build career academic publishing canada phd chemistry currently work inte\n",
            "ok wish delete isbn number remove canada book system forgive know exact te\n",
            "e know exact terminology possible canada hi i've create new educational bo\n",
            "y able advice publish short_story canada short_story bibliography mother c\n",
            " slice publishing world way banff canada personally local magazine read te\n",
            "zechslavakia chile france germany canada australian influence undoubtedly \n",
            "blisher ebook sell user australia canada list price fix net price fall fol\n",
            "t hopefully versatile answer live canada search publisher post book and/or\n",
            "cation publish wanna distribution canada international bachelor degree tea\n",
            "licity work independent bookstore canada year year spend directly manage s\n",
            "sale supplier remainder book find canada search import usa kinda suck help\n",
            "e self publishing getting publish canada approach publisher help case midd\n",
            "ct people work field particularly canada uk ask question look masters prog\n",
            "simon fraser university vancouver canada big publishing scene vancouver sf\n"
          ]
        }
      ]
    },
    {
      "cell_type": "code",
      "source": [
        "publish_tokens_posts.concordance('california', width=75)"
      ],
      "metadata": {
        "colab": {
          "base_uri": "https://localhost:8080/"
        },
        "id": "NDpIAxgLbQGg",
        "outputId": "82cd7caf-8e9a-49e6-de14-b00961dc56ee"
      },
      "execution_count": 62,
      "outputs": [
        {
          "output_type": "stream",
          "name": "stdout",
          "text": [
            "Displaying 10 of 10 matches:\n",
            "ty work fair price live central california area help add know help thank p\n",
            "erviews?i probably mention live california hello guy 1st year ba student u\n",
            "limit access finance $ southern california near la.i send submission press\n",
            "product design publish business california post r legaladvice figure maybe\n",
            "eople experience kind thing!i'm california \\(anthology california writer s\n",
            "hing!i'm california \\(anthology california writer specifically\\ company cu\n",
            "great solace time hardship live california orange county step think maybe \n",
            "k adventure maine san francisco california use freeway lot bad thing happe\n",
            "daniela consider start new life california people dream bright future dom \n",
            " mexico bring raise los angeles california eventually fall love writing st\n"
          ]
        }
      ]
    },
    {
      "cell_type": "code",
      "source": [
        "publish_tokens_comments.concordance('uk', width=75)"
      ],
      "metadata": {
        "colab": {
          "base_uri": "https://localhost:8080/"
        },
        "id": "V4VBNR8qbQKn",
        "outputId": "bb091a49-fb16-459a-9187-3ab1104a4aed"
      },
      "execution_count": 63,
      "outputs": [
        {
          "output_type": "stream",
          "name": "stdout",
          "text": [
            "Displaying 25 of 287 matches:\n",
            "know relevant uk look mediabistro job listing job bo\n",
            "author publish book self publishing uk offer print_demand service septembe\n",
            "nspired selection alert publish job uk macmillan year post ~ graduate sche\n",
            "tment good_luck exactly position op uk graduate summer voluntary internshi\n",
            "cus child literature think look job uk instead hear difficult hire country\n",
            "hought job job job > < great choose uk good_luck application try apply unp\n",
            " invaluable trade fair society join uk thing relevant date industry news m\n",
            "mazon actually ottawa end year live uk right study masters publishing year\n",
            "ct slow promotion charity kosmicare uk provide service safe place festival\n",
            "nce recommend year course heartbeat uk program expensive curriculum lot ti\n",
            "prospect opt stay book editor study uk option denver run week course summe\n",
            "ast hi currently study marketing ba uk want publishing course try relevant\n",
            "list ask bother ma think applicable uk ask recently publishing conference \n",
            "l ring binder work publishing house uk print publish author traditional pa\n",
            "nt hope help industry tool bookscan uk wholly uncertain country like allow\n",
            "ecially current trend consolidation uk draw editorial writersservices.com \n",
            "orial writersservices.com directory uk agent field agency worth check try \n",
            "njobs right time right place london uk know people interview simply networ\n",
            " thousand agent query north_america uk good piece advice read send query p\n",
            "abistro](http://www.mediabistro.com uk jobs.html publisher marketplace](ht\n",
            "ketplace find outside u.s. look url uk page directly publisher site intern\n",
            "howcase creative recently interview uk industry magazine printweek talk bu\n",
            "e site fiverr.com freelancers union uk society freelancer http://www.sfep.\n",
            "deed.com search gig europe use live uk mind fluent german number language \n",
            "er language mind think position pop uk germany couple month then](https://\n"
          ]
        }
      ]
    },
    {
      "cell_type": "code",
      "source": [
        "publish_tokens_comments.concordance('canada', width=75)"
      ],
      "metadata": {
        "colab": {
          "base_uri": "https://localhost:8080/"
        },
        "id": "iwbQNsdYbbun",
        "outputId": "9a26bbc0-171b-40ec-8754-0524a7e9bbb8"
      },
      "execution_count": 64,
      "outputs": [
        {
          "output_type": "stream",
          "name": "stdout",
          "text": [
            "Displaying 25 of 87 matches:\n",
            "ity place major publishing centre canada toronto like people struggle this\n",
            "ote printer like marquis friesens canada familiar industry states pay pric\n",
            "ountry region guess predominantly canada > educational publisher look rest\n",
            " website ah base assume agency uk canada open query stateside writer curio\n",
            "e lot option amazon print book uk canada french version use english compan\n",
            "e).small press publishing ontario canada general dominate grant system acc\n",
            "dominate grant system access fund canada council arts trillium foundation \n",
            "ay breach copyright american love canada home tax apply case itin mention \n",
            " tellwell.ca self publish company canada author net royalty unlike self pu\n",
            "rless look good available country canada canada small market contest rich \n",
            "ook good available country canada canada small market contest rich big rea\n",
            "good_luck like add work publisher canada usually year wait period book pub\n",
            "enre yeah look lot agent kid book canada find figure guideline submission \n",
            "deline submission good_luck limit canada agency nyc unfortunately agent ma\n",
            "ww.bac lac.gc.ca eng service isbn canada page isbn canada.aspx](http://www\n",
            "ww.bac lac.gc.ca eng service isbn canada page isbn canada.aspx thank hope \n",
            " request isbn create account isbn canada online system canadian publisher \n",
            "ock tutorial video need know isbn canada register create isbn canada accou\n",
            " isbn canada register create isbn canada account access account login isbn\n",
            "account access account login isbn canada online system edit datum importan\n",
            "hing insanely high- wonder s true canada uk advice literary agent able cri\n",
            "ot pure luck happenstance example canada number prominent graphic novelist\n",
            "as bay area good spot job toronto canada people experience intern people p\n",
            "h element job search publish work canada bookshop \\*require\\ isbn sure boo\n",
            "cessary x200b;interesting factoid canada isbn free national library single\n"
          ]
        }
      ]
    },
    {
      "cell_type": "code",
      "source": [
        "publish_tokens_comments.concordance('california', width=75)"
      ],
      "metadata": {
        "colab": {
          "base_uri": "https://localhost:8080/"
        },
        "id": "0Ye2b2Jjbedz",
        "outputId": "9cc14a39-c173-40bc-f232-524d223b81e2"
      },
      "execution_count": 66,
      "outputs": [
        {
          "output_type": "stream",
          "name": "stdout",
          "text": [
            "Displaying 12 of 12 matches:\n",
            "sher area large scale publisher california reach people industry area invi\n",
            "hing find place quote book live california unfortunately able find place f\n",
            "e industry business sector base california work academic publishing editor\n",
            "nt notice andchanged govern law california law change jurisdiction resolve\n",
            " arbitration santa clara county california usa country canada united_state\n",
            "role nyc small pool possibility california washington dc miami spanish flu\n",
            "k print outside bring port like california need pay taxis matter californi\n",
            "alifornia need pay taxis matter california add 7.5 sale tax add value book\n",
            "llege network example uc system california share book journal important ki\n",
            "kfurt pitch film pitchfest year california check problem actually publishe\n",
            "e ooo uk super helpful yea base california far advice heart interesting co\n",
            "ctive historical experience dot california history natural beauty internat\n"
          ]
        }
      ]
    },
    {
      "cell_type": "markdown",
      "source": [
        "### Analysis 2: sentiment analysis\n",
        "\n"
      ],
      "metadata": {
        "id": "GDyB2n1Lu0B2"
      }
    },
    {
      "cell_type": "code",
      "source": [
        "# !pip install vaderSentiment\n",
        "from vaderSentiment.vaderSentiment import SentimentIntensityAnalyzer"
      ],
      "metadata": {
        "id": "AMQvrtm5bpGv"
      },
      "execution_count": 69,
      "outputs": []
    },
    {
      "cell_type": "code",
      "source": [
        ""
      ],
      "metadata": {
        "id": "CvliCGukbpL0"
      },
      "execution_count": null,
      "outputs": []
    },
    {
      "cell_type": "code",
      "source": [
        ""
      ],
      "metadata": {
        "id": "2ll1GGBbbpO7"
      },
      "execution_count": null,
      "outputs": []
    },
    {
      "cell_type": "markdown",
      "source": [
        "### Analysis 3: topic analysis"
      ],
      "metadata": {
        "id": "MgYzjkhsaiIU"
      }
    },
    {
      "cell_type": "code",
      "source": [
        "# add word cloud here\n",
        "# ! pip install wordcloud\n",
        "from wordcloud import WordCloud"
      ],
      "metadata": {
        "id": "jqTrfFUEalVN"
      },
      "execution_count": 70,
      "outputs": []
    },
    {
      "cell_type": "code",
      "source": [
        "text_posts = posts.lemmas.str.cat(sep=', ')\n",
        "text_comments = comments.lemmas.str.cat(sep=', ')"
      ],
      "metadata": {
        "id": "_aFWqlXEdWFX"
      },
      "execution_count": 82,
      "outputs": []
    },
    {
      "cell_type": "code",
      "source": [
        "wordcloud_posts = WordCloud().generate(text_posts)\n",
        "wordcloud_comments = WordCloud().generate(text_comments)"
      ],
      "metadata": {
        "id": "7y4nH6KKcImk"
      },
      "execution_count": 83,
      "outputs": []
    },
    {
      "cell_type": "code",
      "source": [
        "import matplotlib.pyplot as plt\n",
        "\n",
        "plt.imshow(wordcloud_posts, interpolation='bilinear')\n",
        "plt.axis(\"off\")"
      ],
      "metadata": {
        "colab": {
          "base_uri": "https://localhost:8080/",
          "height": 215
        },
        "id": "9UMCCUkHcIu0",
        "outputId": "619e8050-fd59-4eb2-e466-0b00bb9e5c56"
      },
      "execution_count": 84,
      "outputs": [
        {
          "output_type": "execute_result",
          "data": {
            "text/plain": [
              "(-0.5, 399.5, 199.5, -0.5)"
            ]
          },
          "metadata": {},
          "execution_count": 84
        },
        {
          "output_type": "display_data",
          "data": {
            "text/plain": [
              "<Figure size 432x288 with 1 Axes>"
            ],
            "image/png": "[encoded data removed]"
          },
          "metadata": {
            "needs_background": "light"
          }
        }
      ]
    },
    {
      "cell_type": "code",
      "source": [
        "plt.imshow(wordcloud_comments, interpolation='bilinear')\n",
        "plt.axis(\"off\")"
      ],
      "metadata": {
        "colab": {
          "base_uri": "https://localhost:8080/",
          "height": 215
        },
        "id": "Wkrh4aeueJlP",
        "outputId": "66d86bdd-104a-43d6-a4bc-8be0875185b9"
      },
      "execution_count": 85,
      "outputs": [
        {
          "output_type": "execute_result",
          "data": {
            "text/plain": [
              "(-0.5, 399.5, 199.5, -0.5)"
            ]
          },
          "metadata": {},
          "execution_count": 85
        },
        {
          "output_type": "display_data",
          "data": {
            "text/plain": [
              "<Figure size 432x288 with 1 Axes>"
            ],
            "image/png": "[encoded data removed]"
          },
          "metadata": {
            "needs_background": "light"
          }
        }
      ]
    },
    {
      "cell_type": "code",
      "source": [
        "# incorporating time\n",
        "# \n",
        "datetimes = pd.to_datetime(df['created'], unit='s')"
      ],
      "metadata": {
        "id": "Dc7vuvo-PIVj"
      },
      "execution_count": null,
      "outputs": []
    },
    {
      "cell_type": "markdown",
      "source": [
        "\n",
        "\n",
        "```\n",
        "Conclude the analysis:\n",
        "\n",
        "How did this analysis address your research question?\n",
        "Reflect on any new or unexpected patterns, consider further exploratory analysis into those patterns.\n",
        "Identify any limitations of the analysis and how they may impact the results.\n",
        "And then on to the next analysis/question.\n",
        "```\n",
        "\n"
      ],
      "metadata": {
        "id": "LNPAQfFdu6YX"
      }
    },
    {
      "cell_type": "markdown",
      "source": [
        "It has already been found that a very small percentage of Reddit’s users create the vast majority of the site’s content, so we would not be surprised if only a few users could influence the discourse of entire subreddits. Identifying these users would help us understand how a subreddit's discourse is shaped. "
      ],
      "metadata": {
        "id": "9LdhubQI0t9v"
      }
    },
    {
      "cell_type": "code",
      "source": [
        "df = df.sort_values(by='score', ascending=False)[:1000]\n",
        "# Sanity check\n",
        "print(df.shape)"
      ],
      "metadata": {
        "id": "mHnYbA9a00nB"
      },
      "execution_count": null,
      "outputs": []
    },
    {
      "cell_type": "code",
      "source": [
        "df.author.nunique()"
      ],
      "metadata": {
        "id": "d2nCBOPF01zg"
      },
      "execution_count": null,
      "outputs": []
    },
    {
      "cell_type": "code",
      "source": [
        "df.plot('score', 'num_comments', kind='scatter', color='black', alpha=0.25, logy=True)"
      ],
      "metadata": {
        "id": "AeEoMRsw03fB"
      },
      "execution_count": null,
      "outputs": []
    },
    {
      "cell_type": "code",
      "source": [
        ""
      ],
      "metadata": {
        "id": "nyURoT2U07hz"
      },
      "execution_count": null,
      "outputs": []
    },
    {
      "cell_type": "code",
      "source": [
        "## Rank by geographic areas, map distribution\n",
        "## Word embedding and topic modeling\n",
        "## Cluster Analysis\n",
        "## Sentiment analysis\n",
        "## Network analysis"
      ],
      "metadata": {
        "id": "YfKq-U-UahOH"
      },
      "execution_count": null,
      "outputs": []
    },
    {
      "cell_type": "markdown",
      "source": [
        "## Conclusion"
      ],
      "metadata": {
        "id": "yBQljCpEaVKM"
      }
    },
    {
      "cell_type": "markdown",
      "source": [
        "```\n",
        "This section is a brief summary of your analyses and final thoughts:\n",
        "\n",
        "What was your conclusions in response to your research questions?\n",
        "What are potential implications of these results to the broader community?\n",
        "Reflect on how this project relates the the themes of the workshop.\n",
        "How would you further develop this research project?\n",
        "```"
      ],
      "metadata": {
        "id": "n_1VrbWcvGxO"
      }
    },
    {
      "cell_type": "markdown",
      "source": [
        "## References\n",
        "*   Getting Started with Sentiment Analysis using Python. (n.d.). Retrieved July 17, 2022, from https://huggingface.co/blog/sentiment-analysis-python\n",
        "*   King, G., Pan, J., & Roberts, M. E. (2013). How Censorship in China Allows Government Criticism but Silences Collective Expression. American Political Science Review, 107(2), 326–343. https://doi.org/10.1017/S0003055413000014\n",
        "*   Lucy, L., Demszky, D., Bromley, P., & Jurafsky, D. (2020). Content Analysis of Textbooks via Natural Language Processing: Findings on Gender, Race, and Ethnicity in Texas U.S. History Textbooks. AERA Open, 6(3), 233285842094031. https://doi.org/10.1177/2332858420940312\n",
        "\n"
      ],
      "metadata": {
        "id": "xU8H4uChaYfJ"
      }
    },
    {
      "cell_type": "markdown",
      "source": [
        "**Tools:**\n",
        "*   [Sentiment analysis](https://github.com/cjhutto/vaderSentiment)\n",
        "*   [Getting started with sentiment analysis](https://huggingface.co/blog/sentiment-analysis-python)"
      ],
      "metadata": {
        "id": "XEl_ijy9aasT"
      }
    }
  ]
}