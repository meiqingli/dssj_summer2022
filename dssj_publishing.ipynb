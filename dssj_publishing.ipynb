{
  "nbformat": 4,
  "nbformat_minor": 0,
  "metadata": {
    "colab": {
      "name": "dssj_publishing.ipynb",
      "provenance": [],
      "collapsed_sections": [],
      "include_colab_link": true
    },
    "kernelspec": {
      "name": "python3",
      "display_name": "Python 3"
    },
    "language_info": {
      "name": "python"
    }
  },
  "cells": [
    {
      "cell_type": "markdown",
      "metadata": {
        "id": "view-in-github",
        "colab_type": "text"
      },
      "source": [
        "<a href=\"https://colab.research.google.com/github/meiqingli/dssj_summer2022/blob/main/dssj_publishing.ipynb\" target=\"_parent\"><img src=\"https://colab.research.google.com/assets/colab-badge.svg\" alt=\"Open In Colab\"/></a>"
      ]
    },
    {
      "cell_type": "markdown",
      "source": [
        "## Data preprocessing (based on module 02 notebook 1)"
      ],
      "metadata": {
        "id": "KpvRONF5PbqV"
      }
    },
    {
      "cell_type": "code",
      "execution_count": null,
      "metadata": {
        "id": "1R5psFxhrtw0"
      },
      "outputs": [],
      "source": [
        "# Imports pandas for working with csv data\n",
        "import pandas as pd \n",
        "\n",
        "# Github url with comments data\n",
        "url_comments = 'https://gist.githubusercontent.com/meiqingli/5d83de4c508a0564359b2dd07c6839b1/raw/a83a44b0a85ac8ccc10f717495ff6a85c2f93878/comments.csv'\n",
        "\n",
        "# Github url with post data\n",
        "url_posts = 'https://gist.githubusercontent.com/meiqingli/2d128e1cac170d71b3820c51c6c3766e/raw/5be159378011713f1daaca4d683bb6875d11f61f/submissions.csv'\n",
        "\n",
        "# Reads the csv comments file from github\n",
        "df_comments = pd.read_csv(url_comments)\n",
        "\n",
        "# Reads the csv posts file from github\n",
        "df_posts = pd.read_csv(url_posts)"
      ]
    },
    {
      "cell_type": "code",
      "source": [
        "# Tells us about the general shape of the dfs\n",
        "df_comments.shape"
      ],
      "metadata": {
        "colab": {
          "base_uri": "https://localhost:8080/"
        },
        "id": "aQojv1uftKwL",
        "outputId": "9d221f34-bc80-4e53-eb8b-4e76231c833c"
      },
      "execution_count": null,
      "outputs": [
        {
          "output_type": "execute_result",
          "data": {
            "text/plain": [
              "(19538, 11)"
            ]
          },
          "metadata": {},
          "execution_count": 47
        }
      ]
    },
    {
      "cell_type": "code",
      "source": [
        "df_posts.shape"
      ],
      "metadata": {
        "colab": {
          "base_uri": "https://localhost:8080/"
        },
        "id": "t6x1n3ZTwjL3",
        "outputId": "815df842-7fd6-4e37-cc64-b33b5f22d066"
      },
      "execution_count": null,
      "outputs": [
        {
          "output_type": "execute_result",
          "data": {
            "text/plain": [
              "(7330, 18)"
            ]
          },
          "metadata": {},
          "execution_count": 4
        }
      ]
    },
    {
      "cell_type": "code",
      "source": [
        "# Shows us the first 5 rows in the dfs\n",
        "df_comments.head()"
      ],
      "metadata": {
        "colab": {
          "base_uri": "https://localhost:8080/",
          "height": 206
        },
        "id": "2fywUrzTtIeG",
        "outputId": "57c9f060-b106-4312-cc3f-c176ec2d813a"
      },
      "execution_count": null,
      "outputs": [
        {
          "output_type": "execute_result",
          "data": {
            "text/plain": [
              "         idint       idstr     created         author      parent submission  \\\n",
              "0  26160907768  t1_c0nj1mg  1270490234    judycullins    t3_bmr3z   t3_bmr3z   \n",
              "1  26186732829  t1_c12wkd9  1287609142  inigo_montoya    t3_dtpk6   t3_dtpk6   \n",
              "2  26186750085  t1_c12wxol  1287615269      [deleted]  t1_c12wkd9   t3_dtpk6   \n",
              "3  26186762112  t1_c12x6yo  1287619770  inigo_montoya  t1_c12wxol   t3_dtpk6   \n",
              "4  26186949360  t1_c1317g0  1287704175      [deleted]  t1_c12x6yo   t3_dtpk6   \n",
              "\n",
              "                                                body  score   subreddit  \\\n",
              "0  8 great tips to start marketing your book onli...      1  publishing   \n",
              "1  I think it's extremely hard to find a salaried...      1  publishing   \n",
              "2  Honestly, I think I would be very happy either...      1  publishing   \n",
              "3  Well, an acquisitions editor is a very differe...      1  publishing   \n",
              "4  Yes, \"not panning out\" is precisely where I am...      1  publishing   \n",
              "\n",
              "  distinguish  textlen  \n",
              "0         NaN       68  \n",
              "1         NaN      407  \n",
              "2         NaN      570  \n",
              "3         NaN      926  \n",
              "4         NaN      315  "
            ],
            "text/html": [
              "\n",
              "  <div id=\"df-d201142c-10c7-43f3-9355-ec053b6152a2\">\n",
              "    <div class=\"colab-df-container\">\n",
              "      <div>\n",
              "<style scoped>\n",
              "    .dataframe tbody tr th:only-of-type {\n",
              "        vertical-align: middle;\n",
              "    }\n",
              "\n",
              "    .dataframe tbody tr th {\n",
              "        vertical-align: top;\n",
              "    }\n",
              "\n",
              "    .dataframe thead th {\n",
              "        text-align: right;\n",
              "    }\n",
              "</style>\n",
              "<table border=\"1\" class=\"dataframe\">\n",
              "  <thead>\n",
              "    <tr style=\"text-align: right;\">\n",
              "      <th></th>\n",
              "      <th>idint</th>\n",
              "      <th>idstr</th>\n",
              "      <th>created</th>\n",
              "      <th>author</th>\n",
              "      <th>parent</th>\n",
              "      <th>submission</th>\n",
              "      <th>body</th>\n",
              "      <th>score</th>\n",
              "      <th>subreddit</th>\n",
              "      <th>distinguish</th>\n",
              "      <th>textlen</th>\n",
              "    </tr>\n",
              "  </thead>\n",
              "  <tbody>\n",
              "    <tr>\n",
              "      <th>0</th>\n",
              "      <td>26160907768</td>\n",
              "      <td>t1_c0nj1mg</td>\n",
              "      <td>1270490234</td>\n",
              "      <td>judycullins</td>\n",
              "      <td>t3_bmr3z</td>\n",
              "      <td>t3_bmr3z</td>\n",
              "      <td>8 great tips to start marketing your book onli...</td>\n",
              "      <td>1</td>\n",
              "      <td>publishing</td>\n",
              "      <td>NaN</td>\n",
              "      <td>68</td>\n",
              "    </tr>\n",
              "    <tr>\n",
              "      <th>1</th>\n",
              "      <td>26186732829</td>\n",
              "      <td>t1_c12wkd9</td>\n",
              "      <td>1287609142</td>\n",
              "      <td>inigo_montoya</td>\n",
              "      <td>t3_dtpk6</td>\n",
              "      <td>t3_dtpk6</td>\n",
              "      <td>I think it's extremely hard to find a salaried...</td>\n",
              "      <td>1</td>\n",
              "      <td>publishing</td>\n",
              "      <td>NaN</td>\n",
              "      <td>407</td>\n",
              "    </tr>\n",
              "    <tr>\n",
              "      <th>2</th>\n",
              "      <td>26186750085</td>\n",
              "      <td>t1_c12wxol</td>\n",
              "      <td>1287615269</td>\n",
              "      <td>[deleted]</td>\n",
              "      <td>t1_c12wkd9</td>\n",
              "      <td>t3_dtpk6</td>\n",
              "      <td>Honestly, I think I would be very happy either...</td>\n",
              "      <td>1</td>\n",
              "      <td>publishing</td>\n",
              "      <td>NaN</td>\n",
              "      <td>570</td>\n",
              "    </tr>\n",
              "    <tr>\n",
              "      <th>3</th>\n",
              "      <td>26186762112</td>\n",
              "      <td>t1_c12x6yo</td>\n",
              "      <td>1287619770</td>\n",
              "      <td>inigo_montoya</td>\n",
              "      <td>t1_c12wxol</td>\n",
              "      <td>t3_dtpk6</td>\n",
              "      <td>Well, an acquisitions editor is a very differe...</td>\n",
              "      <td>1</td>\n",
              "      <td>publishing</td>\n",
              "      <td>NaN</td>\n",
              "      <td>926</td>\n",
              "    </tr>\n",
              "    <tr>\n",
              "      <th>4</th>\n",
              "      <td>26186949360</td>\n",
              "      <td>t1_c1317g0</td>\n",
              "      <td>1287704175</td>\n",
              "      <td>[deleted]</td>\n",
              "      <td>t1_c12x6yo</td>\n",
              "      <td>t3_dtpk6</td>\n",
              "      <td>Yes, \"not panning out\" is precisely where I am...</td>\n",
              "      <td>1</td>\n",
              "      <td>publishing</td>\n",
              "      <td>NaN</td>\n",
              "      <td>315</td>\n",
              "    </tr>\n",
              "  </tbody>\n",
              "</table>\n",
              "</div>\n",
              "      <button class=\"colab-df-convert\" onclick=\"convertToInteractive('df-d201142c-10c7-43f3-9355-ec053b6152a2')\"\n",
              "              title=\"Convert this dataframe to an interactive table.\"\n",
              "              style=\"display:none;\">\n",
              "        \n",
              "  <svg xmlns=\"http://www.w3.org/2000/svg\" height=\"24px\"viewBox=\"0 0 24 24\"\n",
              "       width=\"24px\">\n",
              "    <path d=\"M0 0h24v24H0V0z\" fill=\"none\"/>\n",
              "    <path d=\"M18.56 5.44l.94 2.06.94-2.06 2.06-.94-2.06-.94-.94-2.06-.94 2.06-2.06.94zm-11 1L8.5 8.5l.94-2.06 2.06-.94-2.06-.94L8.5 2.5l-.94 2.06-2.06.94zm10 10l.94 2.06.94-2.06 2.06-.94-2.06-.94-.94-2.06-.94 2.06-2.06.94z\"/><path d=\"M17.41 7.96l-1.37-1.37c-.4-.4-.92-.59-1.43-.59-.52 0-1.04.2-1.43.59L10.3 9.45l-7.72 7.72c-.78.78-.78 2.05 0 2.83L4 21.41c.39.39.9.59 1.41.59.51 0 1.02-.2 1.41-.59l7.78-7.78 2.81-2.81c.8-.78.8-2.07 0-2.86zM5.41 20L4 18.59l7.72-7.72 1.47 1.35L5.41 20z\"/>\n",
              "  </svg>\n",
              "      </button>\n",
              "      \n",
              "  <style>\n",
              "    .colab-df-container {\n",
              "      display:flex;\n",
              "      flex-wrap:wrap;\n",
              "      gap: 12px;\n",
              "    }\n",
              "\n",
              "    .colab-df-convert {\n",
              "      background-color: #E8F0FE;\n",
              "      border: none;\n",
              "      border-radius: 50%;\n",
              "      cursor: pointer;\n",
              "      display: none;\n",
              "      fill: #1967D2;\n",
              "      height: 32px;\n",
              "      padding: 0 0 0 0;\n",
              "      width: 32px;\n",
              "    }\n",
              "\n",
              "    .colab-df-convert:hover {\n",
              "      background-color: #E2EBFA;\n",
              "      box-shadow: 0px 1px 2px rgba(60, 64, 67, 0.3), 0px 1px 3px 1px rgba(60, 64, 67, 0.15);\n",
              "      fill: #174EA6;\n",
              "    }\n",
              "\n",
              "    [theme=dark] .colab-df-convert {\n",
              "      background-color: #3B4455;\n",
              "      fill: #D2E3FC;\n",
              "    }\n",
              "\n",
              "    [theme=dark] .colab-df-convert:hover {\n",
              "      background-color: #434B5C;\n",
              "      box-shadow: 0px 1px 3px 1px rgba(0, 0, 0, 0.15);\n",
              "      filter: drop-shadow(0px 1px 2px rgba(0, 0, 0, 0.3));\n",
              "      fill: #FFFFFF;\n",
              "    }\n",
              "  </style>\n",
              "\n",
              "      <script>\n",
              "        const buttonEl =\n",
              "          document.querySelector('#df-d201142c-10c7-43f3-9355-ec053b6152a2 button.colab-df-convert');\n",
              "        buttonEl.style.display =\n",
              "          google.colab.kernel.accessAllowed ? 'block' : 'none';\n",
              "\n",
              "        async function convertToInteractive(key) {\n",
              "          const element = document.querySelector('#df-d201142c-10c7-43f3-9355-ec053b6152a2');\n",
              "          const dataTable =\n",
              "            await google.colab.kernel.invokeFunction('convertToInteractive',\n",
              "                                                     [key], {});\n",
              "          if (!dataTable) return;\n",
              "\n",
              "          const docLinkHtml = 'Like what you see? Visit the ' +\n",
              "            '<a target=\"_blank\" href=https://colab.research.google.com/notebooks/data_table.ipynb>data table notebook</a>'\n",
              "            + ' to learn more about interactive tables.';\n",
              "          element.innerHTML = '';\n",
              "          dataTable['output_type'] = 'display_data';\n",
              "          await google.colab.output.renderOutput(dataTable, element);\n",
              "          const docLink = document.createElement('div');\n",
              "          docLink.innerHTML = docLinkHtml;\n",
              "          element.appendChild(docLink);\n",
              "        }\n",
              "      </script>\n",
              "    </div>\n",
              "  </div>\n",
              "  "
            ]
          },
          "metadata": {},
          "execution_count": 5
        }
      ]
    },
    {
      "cell_type": "code",
      "source": [
        "df_posts.head()"
      ],
      "metadata": {
        "colab": {
          "base_uri": "https://localhost:8080/",
          "height": 583
        },
        "id": "Y3sLRLW3wmoL",
        "outputId": "0f823cd9-334b-4b19-92ef-1ad0e67c0cda"
      },
      "execution_count": null,
      "outputs": [
        {
          "output_type": "execute_result",
          "data": {
            "text/plain": [
              "      idint     idstr     created  self  nsfw       author  \\\n",
              "0  12378361  t3_7db7d  1226647810     0     0     soulajax   \n",
              "1  16624895  t3_9wbun  1256143924     0     0   bookmarked   \n",
              "2  17431958  t3_adml2  1260547827     0     0   bookmarked   \n",
              "3  18945157  t3_ba26d  1267893136     0     1  editrixabby   \n",
              "4  19194572  t3_bfemk  1268992280     0     0    samuel123   \n",
              "\n",
              "                                               title  \\\n",
              "0                          Do-It-Yourself Book Press   \n",
              "1  Blending the Old with the New: Backlist Titles...   \n",
              "2                           A Little Something Extra   \n",
              "3            The Private Collection 1970-1979 (NSFW)   \n",
              "4           Ebook Creation &amp; conversion Services   \n",
              "\n",
              "                                                 url selftext  score  \\\n",
              "0  http://nomediakings.org/doityourself/doityours...      NaN      1   \n",
              "1  http://www.thomasriggs.net/blog/index.php/2009...      NaN      1   \n",
              "2  http://www.thomasriggs.net/blog/index.php/2009...      NaN      1   \n",
              "3  http://carnalnation.com/content/49457/501/priv...      NaN      1   \n",
              "4  http://www.siliconchips-services.com/ebook-cre...      NaN      1   \n",
              "\n",
              "    subreddit distinguish  textlen  num_comments flair_text  flair_css_class  \\\n",
              "0  publishing         NaN        0             0        NaN              NaN   \n",
              "1  publishing         NaN        0             0        NaN              NaN   \n",
              "2  publishing         NaN        0             0        NaN              NaN   \n",
              "3  publishing         NaN        0             0        NaN              NaN   \n",
              "4  publishing         NaN        0             0        NaN              NaN   \n",
              "\n",
              "   augmented_at  augmented_count  \n",
              "0           NaN              NaN  \n",
              "1           NaN              NaN  \n",
              "2           NaN              NaN  \n",
              "3           NaN              NaN  \n",
              "4           NaN              NaN  "
            ],
            "text/html": [
              "\n",
              "  <div id=\"df-821fb855-b99a-4beb-b6ba-b878b35a21fc\">\n",
              "    <div class=\"colab-df-container\">\n",
              "      <div>\n",
              "<style scoped>\n",
              "    .dataframe tbody tr th:only-of-type {\n",
              "        vertical-align: middle;\n",
              "    }\n",
              "\n",
              "    .dataframe tbody tr th {\n",
              "        vertical-align: top;\n",
              "    }\n",
              "\n",
              "    .dataframe thead th {\n",
              "        text-align: right;\n",
              "    }\n",
              "</style>\n",
              "<table border=\"1\" class=\"dataframe\">\n",
              "  <thead>\n",
              "    <tr style=\"text-align: right;\">\n",
              "      <th></th>\n",
              "      <th>idint</th>\n",
              "      <th>idstr</th>\n",
              "      <th>created</th>\n",
              "      <th>self</th>\n",
              "      <th>nsfw</th>\n",
              "      <th>author</th>\n",
              "      <th>title</th>\n",
              "      <th>url</th>\n",
              "      <th>selftext</th>\n",
              "      <th>score</th>\n",
              "      <th>subreddit</th>\n",
              "      <th>distinguish</th>\n",
              "      <th>textlen</th>\n",
              "      <th>num_comments</th>\n",
              "      <th>flair_text</th>\n",
              "      <th>flair_css_class</th>\n",
              "      <th>augmented_at</th>\n",
              "      <th>augmented_count</th>\n",
              "    </tr>\n",
              "  </thead>\n",
              "  <tbody>\n",
              "    <tr>\n",
              "      <th>0</th>\n",
              "      <td>12378361</td>\n",
              "      <td>t3_7db7d</td>\n",
              "      <td>1226647810</td>\n",
              "      <td>0</td>\n",
              "      <td>0</td>\n",
              "      <td>soulajax</td>\n",
              "      <td>Do-It-Yourself Book Press</td>\n",
              "      <td>http://nomediakings.org/doityourself/doityours...</td>\n",
              "      <td>NaN</td>\n",
              "      <td>1</td>\n",
              "      <td>publishing</td>\n",
              "      <td>NaN</td>\n",
              "      <td>0</td>\n",
              "      <td>0</td>\n",
              "      <td>NaN</td>\n",
              "      <td>NaN</td>\n",
              "      <td>NaN</td>\n",
              "      <td>NaN</td>\n",
              "    </tr>\n",
              "    <tr>\n",
              "      <th>1</th>\n",
              "      <td>16624895</td>\n",
              "      <td>t3_9wbun</td>\n",
              "      <td>1256143924</td>\n",
              "      <td>0</td>\n",
              "      <td>0</td>\n",
              "      <td>bookmarked</td>\n",
              "      <td>Blending the Old with the New: Backlist Titles...</td>\n",
              "      <td>http://www.thomasriggs.net/blog/index.php/2009...</td>\n",
              "      <td>NaN</td>\n",
              "      <td>1</td>\n",
              "      <td>publishing</td>\n",
              "      <td>NaN</td>\n",
              "      <td>0</td>\n",
              "      <td>0</td>\n",
              "      <td>NaN</td>\n",
              "      <td>NaN</td>\n",
              "      <td>NaN</td>\n",
              "      <td>NaN</td>\n",
              "    </tr>\n",
              "    <tr>\n",
              "      <th>2</th>\n",
              "      <td>17431958</td>\n",
              "      <td>t3_adml2</td>\n",
              "      <td>1260547827</td>\n",
              "      <td>0</td>\n",
              "      <td>0</td>\n",
              "      <td>bookmarked</td>\n",
              "      <td>A Little Something Extra</td>\n",
              "      <td>http://www.thomasriggs.net/blog/index.php/2009...</td>\n",
              "      <td>NaN</td>\n",
              "      <td>1</td>\n",
              "      <td>publishing</td>\n",
              "      <td>NaN</td>\n",
              "      <td>0</td>\n",
              "      <td>0</td>\n",
              "      <td>NaN</td>\n",
              "      <td>NaN</td>\n",
              "      <td>NaN</td>\n",
              "      <td>NaN</td>\n",
              "    </tr>\n",
              "    <tr>\n",
              "      <th>3</th>\n",
              "      <td>18945157</td>\n",
              "      <td>t3_ba26d</td>\n",
              "      <td>1267893136</td>\n",
              "      <td>0</td>\n",
              "      <td>1</td>\n",
              "      <td>editrixabby</td>\n",
              "      <td>The Private Collection 1970-1979 (NSFW)</td>\n",
              "      <td>http://carnalnation.com/content/49457/501/priv...</td>\n",
              "      <td>NaN</td>\n",
              "      <td>1</td>\n",
              "      <td>publishing</td>\n",
              "      <td>NaN</td>\n",
              "      <td>0</td>\n",
              "      <td>0</td>\n",
              "      <td>NaN</td>\n",
              "      <td>NaN</td>\n",
              "      <td>NaN</td>\n",
              "      <td>NaN</td>\n",
              "    </tr>\n",
              "    <tr>\n",
              "      <th>4</th>\n",
              "      <td>19194572</td>\n",
              "      <td>t3_bfemk</td>\n",
              "      <td>1268992280</td>\n",
              "      <td>0</td>\n",
              "      <td>0</td>\n",
              "      <td>samuel123</td>\n",
              "      <td>Ebook Creation &amp;amp; conversion Services</td>\n",
              "      <td>http://www.siliconchips-services.com/ebook-cre...</td>\n",
              "      <td>NaN</td>\n",
              "      <td>1</td>\n",
              "      <td>publishing</td>\n",
              "      <td>NaN</td>\n",
              "      <td>0</td>\n",
              "      <td>0</td>\n",
              "      <td>NaN</td>\n",
              "      <td>NaN</td>\n",
              "      <td>NaN</td>\n",
              "      <td>NaN</td>\n",
              "    </tr>\n",
              "  </tbody>\n",
              "</table>\n",
              "</div>\n",
              "      <button class=\"colab-df-convert\" onclick=\"convertToInteractive('df-821fb855-b99a-4beb-b6ba-b878b35a21fc')\"\n",
              "              title=\"Convert this dataframe to an interactive table.\"\n",
              "              style=\"display:none;\">\n",
              "        \n",
              "  <svg xmlns=\"http://www.w3.org/2000/svg\" height=\"24px\"viewBox=\"0 0 24 24\"\n",
              "       width=\"24px\">\n",
              "    <path d=\"M0 0h24v24H0V0z\" fill=\"none\"/>\n",
              "    <path d=\"M18.56 5.44l.94 2.06.94-2.06 2.06-.94-2.06-.94-.94-2.06-.94 2.06-2.06.94zm-11 1L8.5 8.5l.94-2.06 2.06-.94-2.06-.94L8.5 2.5l-.94 2.06-2.06.94zm10 10l.94 2.06.94-2.06 2.06-.94-2.06-.94-.94-2.06-.94 2.06-2.06.94z\"/><path d=\"M17.41 7.96l-1.37-1.37c-.4-.4-.92-.59-1.43-.59-.52 0-1.04.2-1.43.59L10.3 9.45l-7.72 7.72c-.78.78-.78 2.05 0 2.83L4 21.41c.39.39.9.59 1.41.59.51 0 1.02-.2 1.41-.59l7.78-7.78 2.81-2.81c.8-.78.8-2.07 0-2.86zM5.41 20L4 18.59l7.72-7.72 1.47 1.35L5.41 20z\"/>\n",
              "  </svg>\n",
              "      </button>\n",
              "      \n",
              "  <style>\n",
              "    .colab-df-container {\n",
              "      display:flex;\n",
              "      flex-wrap:wrap;\n",
              "      gap: 12px;\n",
              "    }\n",
              "\n",
              "    .colab-df-convert {\n",
              "      background-color: #E8F0FE;\n",
              "      border: none;\n",
              "      border-radius: 50%;\n",
              "      cursor: pointer;\n",
              "      display: none;\n",
              "      fill: #1967D2;\n",
              "      height: 32px;\n",
              "      padding: 0 0 0 0;\n",
              "      width: 32px;\n",
              "    }\n",
              "\n",
              "    .colab-df-convert:hover {\n",
              "      background-color: #E2EBFA;\n",
              "      box-shadow: 0px 1px 2px rgba(60, 64, 67, 0.3), 0px 1px 3px 1px rgba(60, 64, 67, 0.15);\n",
              "      fill: #174EA6;\n",
              "    }\n",
              "\n",
              "    [theme=dark] .colab-df-convert {\n",
              "      background-color: #3B4455;\n",
              "      fill: #D2E3FC;\n",
              "    }\n",
              "\n",
              "    [theme=dark] .colab-df-convert:hover {\n",
              "      background-color: #434B5C;\n",
              "      box-shadow: 0px 1px 3px 1px rgba(0, 0, 0, 0.15);\n",
              "      filter: drop-shadow(0px 1px 2px rgba(0, 0, 0, 0.3));\n",
              "      fill: #FFFFFF;\n",
              "    }\n",
              "  </style>\n",
              "\n",
              "      <script>\n",
              "        const buttonEl =\n",
              "          document.querySelector('#df-821fb855-b99a-4beb-b6ba-b878b35a21fc button.colab-df-convert');\n",
              "        buttonEl.style.display =\n",
              "          google.colab.kernel.accessAllowed ? 'block' : 'none';\n",
              "\n",
              "        async function convertToInteractive(key) {\n",
              "          const element = document.querySelector('#df-821fb855-b99a-4beb-b6ba-b878b35a21fc');\n",
              "          const dataTable =\n",
              "            await google.colab.kernel.invokeFunction('convertToInteractive',\n",
              "                                                     [key], {});\n",
              "          if (!dataTable) return;\n",
              "\n",
              "          const docLinkHtml = 'Like what you see? Visit the ' +\n",
              "            '<a target=\"_blank\" href=https://colab.research.google.com/notebooks/data_table.ipynb>data table notebook</a>'\n",
              "            + ' to learn more about interactive tables.';\n",
              "          element.innerHTML = '';\n",
              "          dataTable['output_type'] = 'display_data';\n",
              "          await google.colab.output.renderOutput(dataTable, element);\n",
              "          const docLink = document.createElement('div');\n",
              "          docLink.innerHTML = docLinkHtml;\n",
              "          element.appendChild(docLink);\n",
              "        }\n",
              "      </script>\n",
              "    </div>\n",
              "  </div>\n",
              "  "
            ]
          },
          "metadata": {},
          "execution_count": 6
        }
      ]
    },
    {
      "cell_type": "code",
      "source": [
        "# Allows us to see which columns our dfs have\n",
        "list(df_comments)"
      ],
      "metadata": {
        "id": "Azf5xhqvtSWp",
        "outputId": "a2bef732-4397-4fd4-fa71-4a60009a991e",
        "colab": {
          "base_uri": "https://localhost:8080/"
        }
      },
      "execution_count": null,
      "outputs": [
        {
          "output_type": "execute_result",
          "data": {
            "text/plain": [
              "['idint',\n",
              " 'idstr',\n",
              " 'created',\n",
              " 'author',\n",
              " 'parent',\n",
              " 'submission',\n",
              " 'body',\n",
              " 'score',\n",
              " 'subreddit',\n",
              " 'distinguish',\n",
              " 'textlen']"
            ]
          },
          "metadata": {},
          "execution_count": 7
        }
      ]
    },
    {
      "cell_type": "code",
      "source": [
        "list(df_posts)"
      ],
      "metadata": {
        "colab": {
          "base_uri": "https://localhost:8080/"
        },
        "id": "5xkCAWHNwtSN",
        "outputId": "292f8381-c3ab-4b25-cf8f-06e2da033973"
      },
      "execution_count": null,
      "outputs": [
        {
          "output_type": "execute_result",
          "data": {
            "text/plain": [
              "['idint',\n",
              " 'idstr',\n",
              " 'created',\n",
              " 'self',\n",
              " 'nsfw',\n",
              " 'author',\n",
              " 'title',\n",
              " 'url',\n",
              " 'selftext',\n",
              " 'score',\n",
              " 'subreddit',\n",
              " 'distinguish',\n",
              " 'textlen',\n",
              " 'num_comments',\n",
              " 'flair_text',\n",
              " 'flair_css_class',\n",
              " 'augmented_at',\n",
              " 'augmented_count']"
            ]
          },
          "metadata": {},
          "execution_count": 8
        }
      ]
    },
    {
      "cell_type": "code",
      "source": [
        "# Drops less useful columns from our dfs\n",
        "# Made new dfs rather than overwriting the originals in case people have different thoughts about what to drop\n",
        "# 'distinguish' column identifies whether the poster is a moderator, which is potentially interesting, but it's almost always empty so I dropped it\n",
        "df_comments_short = df_comments.drop(['subreddit', 'distinguish'], axis=1)"
      ],
      "metadata": {
        "id": "UFoPmw4vtajN"
      },
      "execution_count": null,
      "outputs": []
    },
    {
      "cell_type": "code",
      "source": [
        "df_posts_short = df_posts.drop(['subreddit', 'url', 'distinguish', 'flair_text', 'flair_css_class', 'augmented_at', 'augmented_count'], axis=1)"
      ],
      "metadata": {
        "id": "Kx0E2Kr_v9OF"
      },
      "execution_count": null,
      "outputs": []
    },
    {
      "cell_type": "code",
      "source": [
        "# To visualize the new dfs\n",
        "df_comments_short.head()"
      ],
      "metadata": {
        "colab": {
          "base_uri": "https://localhost:8080/",
          "height": 206
        },
        "id": "6CP5neKry4q3",
        "outputId": "34aa157e-4c5b-4cd1-d3e3-edf92f1a1e3d"
      },
      "execution_count": null,
      "outputs": [
        {
          "output_type": "execute_result",
          "data": {
            "text/plain": [
              "         idint       idstr     created         author      parent submission  \\\n",
              "0  26160907768  t1_c0nj1mg  1270490234    judycullins    t3_bmr3z   t3_bmr3z   \n",
              "1  26186732829  t1_c12wkd9  1287609142  inigo_montoya    t3_dtpk6   t3_dtpk6   \n",
              "2  26186750085  t1_c12wxol  1287615269      [deleted]  t1_c12wkd9   t3_dtpk6   \n",
              "3  26186762112  t1_c12x6yo  1287619770  inigo_montoya  t1_c12wxol   t3_dtpk6   \n",
              "4  26186949360  t1_c1317g0  1287704175      [deleted]  t1_c12x6yo   t3_dtpk6   \n",
              "\n",
              "                                                body  score  textlen  \n",
              "0  8 great tips to start marketing your book onli...      1       68  \n",
              "1  I think it's extremely hard to find a salaried...      1      407  \n",
              "2  Honestly, I think I would be very happy either...      1      570  \n",
              "3  Well, an acquisitions editor is a very differe...      1      926  \n",
              "4  Yes, \"not panning out\" is precisely where I am...      1      315  "
            ],
            "text/html": [
              "\n",
              "  <div id=\"df-63d14529-dcd2-4688-ab1c-b34d688a9b80\">\n",
              "    <div class=\"colab-df-container\">\n",
              "      <div>\n",
              "<style scoped>\n",
              "    .dataframe tbody tr th:only-of-type {\n",
              "        vertical-align: middle;\n",
              "    }\n",
              "\n",
              "    .dataframe tbody tr th {\n",
              "        vertical-align: top;\n",
              "    }\n",
              "\n",
              "    .dataframe thead th {\n",
              "        text-align: right;\n",
              "    }\n",
              "</style>\n",
              "<table border=\"1\" class=\"dataframe\">\n",
              "  <thead>\n",
              "    <tr style=\"text-align: right;\">\n",
              "      <th></th>\n",
              "      <th>idint</th>\n",
              "      <th>idstr</th>\n",
              "      <th>created</th>\n",
              "      <th>author</th>\n",
              "      <th>parent</th>\n",
              "      <th>submission</th>\n",
              "      <th>body</th>\n",
              "      <th>score</th>\n",
              "      <th>textlen</th>\n",
              "    </tr>\n",
              "  </thead>\n",
              "  <tbody>\n",
              "    <tr>\n",
              "      <th>0</th>\n",
              "      <td>26160907768</td>\n",
              "      <td>t1_c0nj1mg</td>\n",
              "      <td>1270490234</td>\n",
              "      <td>judycullins</td>\n",
              "      <td>t3_bmr3z</td>\n",
              "      <td>t3_bmr3z</td>\n",
              "      <td>8 great tips to start marketing your book onli...</td>\n",
              "      <td>1</td>\n",
              "      <td>68</td>\n",
              "    </tr>\n",
              "    <tr>\n",
              "      <th>1</th>\n",
              "      <td>26186732829</td>\n",
              "      <td>t1_c12wkd9</td>\n",
              "      <td>1287609142</td>\n",
              "      <td>inigo_montoya</td>\n",
              "      <td>t3_dtpk6</td>\n",
              "      <td>t3_dtpk6</td>\n",
              "      <td>I think it's extremely hard to find a salaried...</td>\n",
              "      <td>1</td>\n",
              "      <td>407</td>\n",
              "    </tr>\n",
              "    <tr>\n",
              "      <th>2</th>\n",
              "      <td>26186750085</td>\n",
              "      <td>t1_c12wxol</td>\n",
              "      <td>1287615269</td>\n",
              "      <td>[deleted]</td>\n",
              "      <td>t1_c12wkd9</td>\n",
              "      <td>t3_dtpk6</td>\n",
              "      <td>Honestly, I think I would be very happy either...</td>\n",
              "      <td>1</td>\n",
              "      <td>570</td>\n",
              "    </tr>\n",
              "    <tr>\n",
              "      <th>3</th>\n",
              "      <td>26186762112</td>\n",
              "      <td>t1_c12x6yo</td>\n",
              "      <td>1287619770</td>\n",
              "      <td>inigo_montoya</td>\n",
              "      <td>t1_c12wxol</td>\n",
              "      <td>t3_dtpk6</td>\n",
              "      <td>Well, an acquisitions editor is a very differe...</td>\n",
              "      <td>1</td>\n",
              "      <td>926</td>\n",
              "    </tr>\n",
              "    <tr>\n",
              "      <th>4</th>\n",
              "      <td>26186949360</td>\n",
              "      <td>t1_c1317g0</td>\n",
              "      <td>1287704175</td>\n",
              "      <td>[deleted]</td>\n",
              "      <td>t1_c12x6yo</td>\n",
              "      <td>t3_dtpk6</td>\n",
              "      <td>Yes, \"not panning out\" is precisely where I am...</td>\n",
              "      <td>1</td>\n",
              "      <td>315</td>\n",
              "    </tr>\n",
              "  </tbody>\n",
              "</table>\n",
              "</div>\n",
              "      <button class=\"colab-df-convert\" onclick=\"convertToInteractive('df-63d14529-dcd2-4688-ab1c-b34d688a9b80')\"\n",
              "              title=\"Convert this dataframe to an interactive table.\"\n",
              "              style=\"display:none;\">\n",
              "        \n",
              "  <svg xmlns=\"http://www.w3.org/2000/svg\" height=\"24px\"viewBox=\"0 0 24 24\"\n",
              "       width=\"24px\">\n",
              "    <path d=\"M0 0h24v24H0V0z\" fill=\"none\"/>\n",
              "    <path d=\"M18.56 5.44l.94 2.06.94-2.06 2.06-.94-2.06-.94-.94-2.06-.94 2.06-2.06.94zm-11 1L8.5 8.5l.94-2.06 2.06-.94-2.06-.94L8.5 2.5l-.94 2.06-2.06.94zm10 10l.94 2.06.94-2.06 2.06-.94-2.06-.94-.94-2.06-.94 2.06-2.06.94z\"/><path d=\"M17.41 7.96l-1.37-1.37c-.4-.4-.92-.59-1.43-.59-.52 0-1.04.2-1.43.59L10.3 9.45l-7.72 7.72c-.78.78-.78 2.05 0 2.83L4 21.41c.39.39.9.59 1.41.59.51 0 1.02-.2 1.41-.59l7.78-7.78 2.81-2.81c.8-.78.8-2.07 0-2.86zM5.41 20L4 18.59l7.72-7.72 1.47 1.35L5.41 20z\"/>\n",
              "  </svg>\n",
              "      </button>\n",
              "      \n",
              "  <style>\n",
              "    .colab-df-container {\n",
              "      display:flex;\n",
              "      flex-wrap:wrap;\n",
              "      gap: 12px;\n",
              "    }\n",
              "\n",
              "    .colab-df-convert {\n",
              "      background-color: #E8F0FE;\n",
              "      border: none;\n",
              "      border-radius: 50%;\n",
              "      cursor: pointer;\n",
              "      display: none;\n",
              "      fill: #1967D2;\n",
              "      height: 32px;\n",
              "      padding: 0 0 0 0;\n",
              "      width: 32px;\n",
              "    }\n",
              "\n",
              "    .colab-df-convert:hover {\n",
              "      background-color: #E2EBFA;\n",
              "      box-shadow: 0px 1px 2px rgba(60, 64, 67, 0.3), 0px 1px 3px 1px rgba(60, 64, 67, 0.15);\n",
              "      fill: #174EA6;\n",
              "    }\n",
              "\n",
              "    [theme=dark] .colab-df-convert {\n",
              "      background-color: #3B4455;\n",
              "      fill: #D2E3FC;\n",
              "    }\n",
              "\n",
              "    [theme=dark] .colab-df-convert:hover {\n",
              "      background-color: #434B5C;\n",
              "      box-shadow: 0px 1px 3px 1px rgba(0, 0, 0, 0.15);\n",
              "      filter: drop-shadow(0px 1px 2px rgba(0, 0, 0, 0.3));\n",
              "      fill: #FFFFFF;\n",
              "    }\n",
              "  </style>\n",
              "\n",
              "      <script>\n",
              "        const buttonEl =\n",
              "          document.querySelector('#df-63d14529-dcd2-4688-ab1c-b34d688a9b80 button.colab-df-convert');\n",
              "        buttonEl.style.display =\n",
              "          google.colab.kernel.accessAllowed ? 'block' : 'none';\n",
              "\n",
              "        async function convertToInteractive(key) {\n",
              "          const element = document.querySelector('#df-63d14529-dcd2-4688-ab1c-b34d688a9b80');\n",
              "          const dataTable =\n",
              "            await google.colab.kernel.invokeFunction('convertToInteractive',\n",
              "                                                     [key], {});\n",
              "          if (!dataTable) return;\n",
              "\n",
              "          const docLinkHtml = 'Like what you see? Visit the ' +\n",
              "            '<a target=\"_blank\" href=https://colab.research.google.com/notebooks/data_table.ipynb>data table notebook</a>'\n",
              "            + ' to learn more about interactive tables.';\n",
              "          element.innerHTML = '';\n",
              "          dataTable['output_type'] = 'display_data';\n",
              "          await google.colab.output.renderOutput(dataTable, element);\n",
              "          const docLink = document.createElement('div');\n",
              "          docLink.innerHTML = docLinkHtml;\n",
              "          element.appendChild(docLink);\n",
              "        }\n",
              "      </script>\n",
              "    </div>\n",
              "  </div>\n",
              "  "
            ]
          },
          "metadata": {},
          "execution_count": 11
        }
      ]
    },
    {
      "cell_type": "code",
      "source": [
        "df_comments_short.shape"
      ],
      "metadata": {
        "colab": {
          "base_uri": "https://localhost:8080/"
        },
        "id": "16irkle2zplQ",
        "outputId": "db4c931d-94c6-4742-83f5-64ccb2b4d8be"
      },
      "execution_count": null,
      "outputs": [
        {
          "output_type": "execute_result",
          "data": {
            "text/plain": [
              "(19538, 9)"
            ]
          },
          "metadata": {},
          "execution_count": 12
        }
      ]
    },
    {
      "cell_type": "code",
      "source": [
        "df_posts_short.head()"
      ],
      "metadata": {
        "colab": {
          "base_uri": "https://localhost:8080/",
          "height": 206
        },
        "id": "3Kd_16vSzR54",
        "outputId": "0e03dc41-a47a-4067-cb01-5996557fe2d0"
      },
      "execution_count": null,
      "outputs": [
        {
          "output_type": "execute_result",
          "data": {
            "text/plain": [
              "      idint     idstr     created  self  nsfw       author  \\\n",
              "0  12378361  t3_7db7d  1226647810     0     0     soulajax   \n",
              "1  16624895  t3_9wbun  1256143924     0     0   bookmarked   \n",
              "2  17431958  t3_adml2  1260547827     0     0   bookmarked   \n",
              "3  18945157  t3_ba26d  1267893136     0     1  editrixabby   \n",
              "4  19194572  t3_bfemk  1268992280     0     0    samuel123   \n",
              "\n",
              "                                               title selftext  score  textlen  \\\n",
              "0                          Do-It-Yourself Book Press      NaN      1        0   \n",
              "1  Blending the Old with the New: Backlist Titles...      NaN      1        0   \n",
              "2                           A Little Something Extra      NaN      1        0   \n",
              "3            The Private Collection 1970-1979 (NSFW)      NaN      1        0   \n",
              "4           Ebook Creation &amp; conversion Services      NaN      1        0   \n",
              "\n",
              "   num_comments  \n",
              "0             0  \n",
              "1             0  \n",
              "2             0  \n",
              "3             0  \n",
              "4             0  "
            ],
            "text/html": [
              "\n",
              "  <div id=\"df-4bda6edb-c5f7-4f6e-a373-c573ba8c9bae\">\n",
              "    <div class=\"colab-df-container\">\n",
              "      <div>\n",
              "<style scoped>\n",
              "    .dataframe tbody tr th:only-of-type {\n",
              "        vertical-align: middle;\n",
              "    }\n",
              "\n",
              "    .dataframe tbody tr th {\n",
              "        vertical-align: top;\n",
              "    }\n",
              "\n",
              "    .dataframe thead th {\n",
              "        text-align: right;\n",
              "    }\n",
              "</style>\n",
              "<table border=\"1\" class=\"dataframe\">\n",
              "  <thead>\n",
              "    <tr style=\"text-align: right;\">\n",
              "      <th></th>\n",
              "      <th>idint</th>\n",
              "      <th>idstr</th>\n",
              "      <th>created</th>\n",
              "      <th>self</th>\n",
              "      <th>nsfw</th>\n",
              "      <th>author</th>\n",
              "      <th>title</th>\n",
              "      <th>selftext</th>\n",
              "      <th>score</th>\n",
              "      <th>textlen</th>\n",
              "      <th>num_comments</th>\n",
              "    </tr>\n",
              "  </thead>\n",
              "  <tbody>\n",
              "    <tr>\n",
              "      <th>0</th>\n",
              "      <td>12378361</td>\n",
              "      <td>t3_7db7d</td>\n",
              "      <td>1226647810</td>\n",
              "      <td>0</td>\n",
              "      <td>0</td>\n",
              "      <td>soulajax</td>\n",
              "      <td>Do-It-Yourself Book Press</td>\n",
              "      <td>NaN</td>\n",
              "      <td>1</td>\n",
              "      <td>0</td>\n",
              "      <td>0</td>\n",
              "    </tr>\n",
              "    <tr>\n",
              "      <th>1</th>\n",
              "      <td>16624895</td>\n",
              "      <td>t3_9wbun</td>\n",
              "      <td>1256143924</td>\n",
              "      <td>0</td>\n",
              "      <td>0</td>\n",
              "      <td>bookmarked</td>\n",
              "      <td>Blending the Old with the New: Backlist Titles...</td>\n",
              "      <td>NaN</td>\n",
              "      <td>1</td>\n",
              "      <td>0</td>\n",
              "      <td>0</td>\n",
              "    </tr>\n",
              "    <tr>\n",
              "      <th>2</th>\n",
              "      <td>17431958</td>\n",
              "      <td>t3_adml2</td>\n",
              "      <td>1260547827</td>\n",
              "      <td>0</td>\n",
              "      <td>0</td>\n",
              "      <td>bookmarked</td>\n",
              "      <td>A Little Something Extra</td>\n",
              "      <td>NaN</td>\n",
              "      <td>1</td>\n",
              "      <td>0</td>\n",
              "      <td>0</td>\n",
              "    </tr>\n",
              "    <tr>\n",
              "      <th>3</th>\n",
              "      <td>18945157</td>\n",
              "      <td>t3_ba26d</td>\n",
              "      <td>1267893136</td>\n",
              "      <td>0</td>\n",
              "      <td>1</td>\n",
              "      <td>editrixabby</td>\n",
              "      <td>The Private Collection 1970-1979 (NSFW)</td>\n",
              "      <td>NaN</td>\n",
              "      <td>1</td>\n",
              "      <td>0</td>\n",
              "      <td>0</td>\n",
              "    </tr>\n",
              "    <tr>\n",
              "      <th>4</th>\n",
              "      <td>19194572</td>\n",
              "      <td>t3_bfemk</td>\n",
              "      <td>1268992280</td>\n",
              "      <td>0</td>\n",
              "      <td>0</td>\n",
              "      <td>samuel123</td>\n",
              "      <td>Ebook Creation &amp;amp; conversion Services</td>\n",
              "      <td>NaN</td>\n",
              "      <td>1</td>\n",
              "      <td>0</td>\n",
              "      <td>0</td>\n",
              "    </tr>\n",
              "  </tbody>\n",
              "</table>\n",
              "</div>\n",
              "      <button class=\"colab-df-convert\" onclick=\"convertToInteractive('df-4bda6edb-c5f7-4f6e-a373-c573ba8c9bae')\"\n",
              "              title=\"Convert this dataframe to an interactive table.\"\n",
              "              style=\"display:none;\">\n",
              "        \n",
              "  <svg xmlns=\"http://www.w3.org/2000/svg\" height=\"24px\"viewBox=\"0 0 24 24\"\n",
              "       width=\"24px\">\n",
              "    <path d=\"M0 0h24v24H0V0z\" fill=\"none\"/>\n",
              "    <path d=\"M18.56 5.44l.94 2.06.94-2.06 2.06-.94-2.06-.94-.94-2.06-.94 2.06-2.06.94zm-11 1L8.5 8.5l.94-2.06 2.06-.94-2.06-.94L8.5 2.5l-.94 2.06-2.06.94zm10 10l.94 2.06.94-2.06 2.06-.94-2.06-.94-.94-2.06-.94 2.06-2.06.94z\"/><path d=\"M17.41 7.96l-1.37-1.37c-.4-.4-.92-.59-1.43-.59-.52 0-1.04.2-1.43.59L10.3 9.45l-7.72 7.72c-.78.78-.78 2.05 0 2.83L4 21.41c.39.39.9.59 1.41.59.51 0 1.02-.2 1.41-.59l7.78-7.78 2.81-2.81c.8-.78.8-2.07 0-2.86zM5.41 20L4 18.59l7.72-7.72 1.47 1.35L5.41 20z\"/>\n",
              "  </svg>\n",
              "      </button>\n",
              "      \n",
              "  <style>\n",
              "    .colab-df-container {\n",
              "      display:flex;\n",
              "      flex-wrap:wrap;\n",
              "      gap: 12px;\n",
              "    }\n",
              "\n",
              "    .colab-df-convert {\n",
              "      background-color: #E8F0FE;\n",
              "      border: none;\n",
              "      border-radius: 50%;\n",
              "      cursor: pointer;\n",
              "      display: none;\n",
              "      fill: #1967D2;\n",
              "      height: 32px;\n",
              "      padding: 0 0 0 0;\n",
              "      width: 32px;\n",
              "    }\n",
              "\n",
              "    .colab-df-convert:hover {\n",
              "      background-color: #E2EBFA;\n",
              "      box-shadow: 0px 1px 2px rgba(60, 64, 67, 0.3), 0px 1px 3px 1px rgba(60, 64, 67, 0.15);\n",
              "      fill: #174EA6;\n",
              "    }\n",
              "\n",
              "    [theme=dark] .colab-df-convert {\n",
              "      background-color: #3B4455;\n",
              "      fill: #D2E3FC;\n",
              "    }\n",
              "\n",
              "    [theme=dark] .colab-df-convert:hover {\n",
              "      background-color: #434B5C;\n",
              "      box-shadow: 0px 1px 3px 1px rgba(0, 0, 0, 0.15);\n",
              "      filter: drop-shadow(0px 1px 2px rgba(0, 0, 0, 0.3));\n",
              "      fill: #FFFFFF;\n",
              "    }\n",
              "  </style>\n",
              "\n",
              "      <script>\n",
              "        const buttonEl =\n",
              "          document.querySelector('#df-4bda6edb-c5f7-4f6e-a373-c573ba8c9bae button.colab-df-convert');\n",
              "        buttonEl.style.display =\n",
              "          google.colab.kernel.accessAllowed ? 'block' : 'none';\n",
              "\n",
              "        async function convertToInteractive(key) {\n",
              "          const element = document.querySelector('#df-4bda6edb-c5f7-4f6e-a373-c573ba8c9bae');\n",
              "          const dataTable =\n",
              "            await google.colab.kernel.invokeFunction('convertToInteractive',\n",
              "                                                     [key], {});\n",
              "          if (!dataTable) return;\n",
              "\n",
              "          const docLinkHtml = 'Like what you see? Visit the ' +\n",
              "            '<a target=\"_blank\" href=https://colab.research.google.com/notebooks/data_table.ipynb>data table notebook</a>'\n",
              "            + ' to learn more about interactive tables.';\n",
              "          element.innerHTML = '';\n",
              "          dataTable['output_type'] = 'display_data';\n",
              "          await google.colab.output.renderOutput(dataTable, element);\n",
              "          const docLink = document.createElement('div');\n",
              "          docLink.innerHTML = docLinkHtml;\n",
              "          element.appendChild(docLink);\n",
              "        }\n",
              "      </script>\n",
              "    </div>\n",
              "  </div>\n",
              "  "
            ]
          },
          "metadata": {},
          "execution_count": 13
        }
      ]
    },
    {
      "cell_type": "code",
      "source": [
        "df_posts_short.shape"
      ],
      "metadata": {
        "colab": {
          "base_uri": "https://localhost:8080/"
        },
        "id": "NJamGuAIzsUw",
        "outputId": "0c9dc8c0-ac9b-4753-90f5-70e2bc7e1e08"
      },
      "execution_count": null,
      "outputs": [
        {
          "output_type": "execute_result",
          "data": {
            "text/plain": [
              "(7330, 11)"
            ]
          },
          "metadata": {},
          "execution_count": 14
        }
      ]
    },
    {
      "cell_type": "code",
      "source": [
        "# Selects all rows that don't have 'removed' or 'deleted' in certain columns\n",
        "df_comments_noBlanks = df_comments_short.loc[~df_comments_short['body'].isin(['[removed]', '[deleted]' ]),:]\n",
        "df_posts_noBlanks = df_posts_short.loc[~df_posts_short['selftext'].isin(['[removed]', '[deleted]' ]),:]"
      ],
      "metadata": {
        "id": "Ef5Fb3pu1oS4"
      },
      "execution_count": null,
      "outputs": []
    },
    {
      "cell_type": "code",
      "source": [
        "df_comments_noBlanks.shape\n",
        "# Shows that 483 rows were removed"
      ],
      "metadata": {
        "colab": {
          "base_uri": "https://localhost:8080/"
        },
        "id": "f1bxIYy82PV1",
        "outputId": "109f586c-3ed4-4e8b-a29f-ce8798de92a1"
      },
      "execution_count": null,
      "outputs": [
        {
          "output_type": "execute_result",
          "data": {
            "text/plain": [
              "(19055, 9)"
            ]
          },
          "metadata": {},
          "execution_count": 16
        }
      ]
    },
    {
      "cell_type": "code",
      "source": [
        "df_posts_noBlanks.shape\n",
        "# Shows that 1,174 rows were removed"
      ],
      "metadata": {
        "colab": {
          "base_uri": "https://localhost:8080/"
        },
        "id": "sXHh_VPu2RG0",
        "outputId": "49ccc7dc-0ca8-41ea-d16f-671f25dc7fea"
      },
      "execution_count": null,
      "outputs": [
        {
          "output_type": "execute_result",
          "data": {
            "text/plain": [
              "(6156, 11)"
            ]
          },
          "metadata": {},
          "execution_count": 17
        }
      ]
    },
    {
      "cell_type": "code",
      "source": [
        "# Drops rows with null values in 'selftext' column (assuming we want to analyze 'selftext')\n",
        "# Overwrites the previous dfs because I don't think we'll need access to the intermediate dfs (and I was running out of name ideas)\n",
        "df_comments_noBlanks = df_comments_noBlanks.dropna(subset=['body'])\n",
        "df_posts_noBlanks = df_posts_noBlanks.dropna(subset=['selftext'])"
      ],
      "metadata": {
        "id": "Ta8LEcmZzvTN"
      },
      "execution_count": null,
      "outputs": []
    },
    {
      "cell_type": "code",
      "source": [
        "df_comments_noBlanks.head()"
      ],
      "metadata": {
        "colab": {
          "base_uri": "https://localhost:8080/",
          "height": 206
        },
        "id": "l8rbsmWf0R89",
        "outputId": "db92f79c-2c63-42e2-bc8a-04066fb9839c"
      },
      "execution_count": null,
      "outputs": [
        {
          "output_type": "execute_result",
          "data": {
            "text/plain": [
              "         idint       idstr     created         author      parent submission  \\\n",
              "0  26160907768  t1_c0nj1mg  1270490234    judycullins    t3_bmr3z   t3_bmr3z   \n",
              "1  26186732829  t1_c12wkd9  1287609142  inigo_montoya    t3_dtpk6   t3_dtpk6   \n",
              "2  26186750085  t1_c12wxol  1287615269      [deleted]  t1_c12wkd9   t3_dtpk6   \n",
              "3  26186762112  t1_c12x6yo  1287619770  inigo_montoya  t1_c12wxol   t3_dtpk6   \n",
              "4  26186949360  t1_c1317g0  1287704175      [deleted]  t1_c12x6yo   t3_dtpk6   \n",
              "\n",
              "                                                body  score  textlen  \n",
              "0  8 great tips to start marketing your book onli...      1       68  \n",
              "1  I think it's extremely hard to find a salaried...      1      407  \n",
              "2  Honestly, I think I would be very happy either...      1      570  \n",
              "3  Well, an acquisitions editor is a very differe...      1      926  \n",
              "4  Yes, \"not panning out\" is precisely where I am...      1      315  "
            ],
            "text/html": [
              "\n",
              "  <div id=\"df-0a2c7aae-8728-4397-a50f-df8f2fd20b56\">\n",
              "    <div class=\"colab-df-container\">\n",
              "      <div>\n",
              "<style scoped>\n",
              "    .dataframe tbody tr th:only-of-type {\n",
              "        vertical-align: middle;\n",
              "    }\n",
              "\n",
              "    .dataframe tbody tr th {\n",
              "        vertical-align: top;\n",
              "    }\n",
              "\n",
              "    .dataframe thead th {\n",
              "        text-align: right;\n",
              "    }\n",
              "</style>\n",
              "<table border=\"1\" class=\"dataframe\">\n",
              "  <thead>\n",
              "    <tr style=\"text-align: right;\">\n",
              "      <th></th>\n",
              "      <th>idint</th>\n",
              "      <th>idstr</th>\n",
              "      <th>created</th>\n",
              "      <th>author</th>\n",
              "      <th>parent</th>\n",
              "      <th>submission</th>\n",
              "      <th>body</th>\n",
              "      <th>score</th>\n",
              "      <th>textlen</th>\n",
              "    </tr>\n",
              "  </thead>\n",
              "  <tbody>\n",
              "    <tr>\n",
              "      <th>0</th>\n",
              "      <td>26160907768</td>\n",
              "      <td>t1_c0nj1mg</td>\n",
              "      <td>1270490234</td>\n",
              "      <td>judycullins</td>\n",
              "      <td>t3_bmr3z</td>\n",
              "      <td>t3_bmr3z</td>\n",
              "      <td>8 great tips to start marketing your book onli...</td>\n",
              "      <td>1</td>\n",
              "      <td>68</td>\n",
              "    </tr>\n",
              "    <tr>\n",
              "      <th>1</th>\n",
              "      <td>26186732829</td>\n",
              "      <td>t1_c12wkd9</td>\n",
              "      <td>1287609142</td>\n",
              "      <td>inigo_montoya</td>\n",
              "      <td>t3_dtpk6</td>\n",
              "      <td>t3_dtpk6</td>\n",
              "      <td>I think it's extremely hard to find a salaried...</td>\n",
              "      <td>1</td>\n",
              "      <td>407</td>\n",
              "    </tr>\n",
              "    <tr>\n",
              "      <th>2</th>\n",
              "      <td>26186750085</td>\n",
              "      <td>t1_c12wxol</td>\n",
              "      <td>1287615269</td>\n",
              "      <td>[deleted]</td>\n",
              "      <td>t1_c12wkd9</td>\n",
              "      <td>t3_dtpk6</td>\n",
              "      <td>Honestly, I think I would be very happy either...</td>\n",
              "      <td>1</td>\n",
              "      <td>570</td>\n",
              "    </tr>\n",
              "    <tr>\n",
              "      <th>3</th>\n",
              "      <td>26186762112</td>\n",
              "      <td>t1_c12x6yo</td>\n",
              "      <td>1287619770</td>\n",
              "      <td>inigo_montoya</td>\n",
              "      <td>t1_c12wxol</td>\n",
              "      <td>t3_dtpk6</td>\n",
              "      <td>Well, an acquisitions editor is a very differe...</td>\n",
              "      <td>1</td>\n",
              "      <td>926</td>\n",
              "    </tr>\n",
              "    <tr>\n",
              "      <th>4</th>\n",
              "      <td>26186949360</td>\n",
              "      <td>t1_c1317g0</td>\n",
              "      <td>1287704175</td>\n",
              "      <td>[deleted]</td>\n",
              "      <td>t1_c12x6yo</td>\n",
              "      <td>t3_dtpk6</td>\n",
              "      <td>Yes, \"not panning out\" is precisely where I am...</td>\n",
              "      <td>1</td>\n",
              "      <td>315</td>\n",
              "    </tr>\n",
              "  </tbody>\n",
              "</table>\n",
              "</div>\n",
              "      <button class=\"colab-df-convert\" onclick=\"convertToInteractive('df-0a2c7aae-8728-4397-a50f-df8f2fd20b56')\"\n",
              "              title=\"Convert this dataframe to an interactive table.\"\n",
              "              style=\"display:none;\">\n",
              "        \n",
              "  <svg xmlns=\"http://www.w3.org/2000/svg\" height=\"24px\"viewBox=\"0 0 24 24\"\n",
              "       width=\"24px\">\n",
              "    <path d=\"M0 0h24v24H0V0z\" fill=\"none\"/>\n",
              "    <path d=\"M18.56 5.44l.94 2.06.94-2.06 2.06-.94-2.06-.94-.94-2.06-.94 2.06-2.06.94zm-11 1L8.5 8.5l.94-2.06 2.06-.94-2.06-.94L8.5 2.5l-.94 2.06-2.06.94zm10 10l.94 2.06.94-2.06 2.06-.94-2.06-.94-.94-2.06-.94 2.06-2.06.94z\"/><path d=\"M17.41 7.96l-1.37-1.37c-.4-.4-.92-.59-1.43-.59-.52 0-1.04.2-1.43.59L10.3 9.45l-7.72 7.72c-.78.78-.78 2.05 0 2.83L4 21.41c.39.39.9.59 1.41.59.51 0 1.02-.2 1.41-.59l7.78-7.78 2.81-2.81c.8-.78.8-2.07 0-2.86zM5.41 20L4 18.59l7.72-7.72 1.47 1.35L5.41 20z\"/>\n",
              "  </svg>\n",
              "      </button>\n",
              "      \n",
              "  <style>\n",
              "    .colab-df-container {\n",
              "      display:flex;\n",
              "      flex-wrap:wrap;\n",
              "      gap: 12px;\n",
              "    }\n",
              "\n",
              "    .colab-df-convert {\n",
              "      background-color: #E8F0FE;\n",
              "      border: none;\n",
              "      border-radius: 50%;\n",
              "      cursor: pointer;\n",
              "      display: none;\n",
              "      fill: #1967D2;\n",
              "      height: 32px;\n",
              "      padding: 0 0 0 0;\n",
              "      width: 32px;\n",
              "    }\n",
              "\n",
              "    .colab-df-convert:hover {\n",
              "      background-color: #E2EBFA;\n",
              "      box-shadow: 0px 1px 2px rgba(60, 64, 67, 0.3), 0px 1px 3px 1px rgba(60, 64, 67, 0.15);\n",
              "      fill: #174EA6;\n",
              "    }\n",
              "\n",
              "    [theme=dark] .colab-df-convert {\n",
              "      background-color: #3B4455;\n",
              "      fill: #D2E3FC;\n",
              "    }\n",
              "\n",
              "    [theme=dark] .colab-df-convert:hover {\n",
              "      background-color: #434B5C;\n",
              "      box-shadow: 0px 1px 3px 1px rgba(0, 0, 0, 0.15);\n",
              "      filter: drop-shadow(0px 1px 2px rgba(0, 0, 0, 0.3));\n",
              "      fill: #FFFFFF;\n",
              "    }\n",
              "  </style>\n",
              "\n",
              "      <script>\n",
              "        const buttonEl =\n",
              "          document.querySelector('#df-0a2c7aae-8728-4397-a50f-df8f2fd20b56 button.colab-df-convert');\n",
              "        buttonEl.style.display =\n",
              "          google.colab.kernel.accessAllowed ? 'block' : 'none';\n",
              "\n",
              "        async function convertToInteractive(key) {\n",
              "          const element = document.querySelector('#df-0a2c7aae-8728-4397-a50f-df8f2fd20b56');\n",
              "          const dataTable =\n",
              "            await google.colab.kernel.invokeFunction('convertToInteractive',\n",
              "                                                     [key], {});\n",
              "          if (!dataTable) return;\n",
              "\n",
              "          const docLinkHtml = 'Like what you see? Visit the ' +\n",
              "            '<a target=\"_blank\" href=https://colab.research.google.com/notebooks/data_table.ipynb>data table notebook</a>'\n",
              "            + ' to learn more about interactive tables.';\n",
              "          element.innerHTML = '';\n",
              "          dataTable['output_type'] = 'display_data';\n",
              "          await google.colab.output.renderOutput(dataTable, element);\n",
              "          const docLink = document.createElement('div');\n",
              "          docLink.innerHTML = docLinkHtml;\n",
              "          element.appendChild(docLink);\n",
              "        }\n",
              "      </script>\n",
              "    </div>\n",
              "  </div>\n",
              "  "
            ]
          },
          "metadata": {},
          "execution_count": 19
        }
      ]
    },
    {
      "cell_type": "code",
      "source": [
        "df_comments_noBlanks.shape\n",
        "# Shows that 1 more row was removed"
      ],
      "metadata": {
        "colab": {
          "base_uri": "https://localhost:8080/"
        },
        "id": "A2IrUi_W0RQD",
        "outputId": "9262678b-c14c-460b-81ac-9c4e89945c54"
      },
      "execution_count": null,
      "outputs": [
        {
          "output_type": "execute_result",
          "data": {
            "text/plain": [
              "(19054, 9)"
            ]
          },
          "metadata": {},
          "execution_count": 20
        }
      ]
    },
    {
      "cell_type": "code",
      "source": [
        "df_posts_noBlanks.head()"
      ],
      "metadata": {
        "colab": {
          "base_uri": "https://localhost:8080/",
          "height": 206
        },
        "id": "4VyZn8O91ITQ",
        "outputId": "d19ff946-d775-495d-844b-27cc0380e8e0"
      },
      "execution_count": null,
      "outputs": [
        {
          "output_type": "execute_result",
          "data": {
            "text/plain": [
              "       idint     idstr     created  self  nsfw             author  \\\n",
              "7   23221158  t3_dtpk6  1287554803     1     0          [deleted]   \n",
              "12  25888930  t3_few0y  1296782293     1     0          mostrasho   \n",
              "17  29705825  t3_hop5t  1306892178     1     0  YouveBeenOneUpped   \n",
              "62  40519459  t3_o4h0j  1325799133     1     0        hobbitlover   \n",
              "63  40711806  t3_o8lfi  1326069991     1     0          [deleted]   \n",
              "\n",
              "                                                title  \\\n",
              "7   I am a recent graduate with no experience in t...   \n",
              "12  Help r/publishing! I just got offered a (volun...   \n",
              "17                Reprints - Are there average costs?   \n",
              "62  Need a writing program that works in InDesign ...   \n",
              "63         Online ebook cover creator recommendations   \n",
              "\n",
              "                                             selftext  score  textlen  \\\n",
              "7   I have no industry experience in publishing, b...      2     1007   \n",
              "12  The editor who offered it is fully aware that ...      2     1027   \n",
              "17  Hey All. How much do short excerpt reprints ty...      2      188   \n",
              "62  We use Microsoft Word at our office but it cre...      3      579   \n",
              "63  Hey guys,\\n\\nAny good recommendations on where...      1       75   \n",
              "\n",
              "    num_comments  \n",
              "7              5  \n",
              "12             2  \n",
              "17             4  \n",
              "62             3  \n",
              "63             1  "
            ],
            "text/html": [
              "\n",
              "  <div id=\"df-ab82f9de-64f2-49cd-abaa-74804e6676fa\">\n",
              "    <div class=\"colab-df-container\">\n",
              "      <div>\n",
              "<style scoped>\n",
              "    .dataframe tbody tr th:only-of-type {\n",
              "        vertical-align: middle;\n",
              "    }\n",
              "\n",
              "    .dataframe tbody tr th {\n",
              "        vertical-align: top;\n",
              "    }\n",
              "\n",
              "    .dataframe thead th {\n",
              "        text-align: right;\n",
              "    }\n",
              "</style>\n",
              "<table border=\"1\" class=\"dataframe\">\n",
              "  <thead>\n",
              "    <tr style=\"text-align: right;\">\n",
              "      <th></th>\n",
              "      <th>idint</th>\n",
              "      <th>idstr</th>\n",
              "      <th>created</th>\n",
              "      <th>self</th>\n",
              "      <th>nsfw</th>\n",
              "      <th>author</th>\n",
              "      <th>title</th>\n",
              "      <th>selftext</th>\n",
              "      <th>score</th>\n",
              "      <th>textlen</th>\n",
              "      <th>num_comments</th>\n",
              "    </tr>\n",
              "  </thead>\n",
              "  <tbody>\n",
              "    <tr>\n",
              "      <th>7</th>\n",
              "      <td>23221158</td>\n",
              "      <td>t3_dtpk6</td>\n",
              "      <td>1287554803</td>\n",
              "      <td>1</td>\n",
              "      <td>0</td>\n",
              "      <td>[deleted]</td>\n",
              "      <td>I am a recent graduate with no experience in t...</td>\n",
              "      <td>I have no industry experience in publishing, b...</td>\n",
              "      <td>2</td>\n",
              "      <td>1007</td>\n",
              "      <td>5</td>\n",
              "    </tr>\n",
              "    <tr>\n",
              "      <th>12</th>\n",
              "      <td>25888930</td>\n",
              "      <td>t3_few0y</td>\n",
              "      <td>1296782293</td>\n",
              "      <td>1</td>\n",
              "      <td>0</td>\n",
              "      <td>mostrasho</td>\n",
              "      <td>Help r/publishing! I just got offered a (volun...</td>\n",
              "      <td>The editor who offered it is fully aware that ...</td>\n",
              "      <td>2</td>\n",
              "      <td>1027</td>\n",
              "      <td>2</td>\n",
              "    </tr>\n",
              "    <tr>\n",
              "      <th>17</th>\n",
              "      <td>29705825</td>\n",
              "      <td>t3_hop5t</td>\n",
              "      <td>1306892178</td>\n",
              "      <td>1</td>\n",
              "      <td>0</td>\n",
              "      <td>YouveBeenOneUpped</td>\n",
              "      <td>Reprints - Are there average costs?</td>\n",
              "      <td>Hey All. How much do short excerpt reprints ty...</td>\n",
              "      <td>2</td>\n",
              "      <td>188</td>\n",
              "      <td>4</td>\n",
              "    </tr>\n",
              "    <tr>\n",
              "      <th>62</th>\n",
              "      <td>40519459</td>\n",
              "      <td>t3_o4h0j</td>\n",
              "      <td>1325799133</td>\n",
              "      <td>1</td>\n",
              "      <td>0</td>\n",
              "      <td>hobbitlover</td>\n",
              "      <td>Need a writing program that works in InDesign ...</td>\n",
              "      <td>We use Microsoft Word at our office but it cre...</td>\n",
              "      <td>3</td>\n",
              "      <td>579</td>\n",
              "      <td>3</td>\n",
              "    </tr>\n",
              "    <tr>\n",
              "      <th>63</th>\n",
              "      <td>40711806</td>\n",
              "      <td>t3_o8lfi</td>\n",
              "      <td>1326069991</td>\n",
              "      <td>1</td>\n",
              "      <td>0</td>\n",
              "      <td>[deleted]</td>\n",
              "      <td>Online ebook cover creator recommendations</td>\n",
              "      <td>Hey guys,\\n\\nAny good recommendations on where...</td>\n",
              "      <td>1</td>\n",
              "      <td>75</td>\n",
              "      <td>1</td>\n",
              "    </tr>\n",
              "  </tbody>\n",
              "</table>\n",
              "</div>\n",
              "      <button class=\"colab-df-convert\" onclick=\"convertToInteractive('df-ab82f9de-64f2-49cd-abaa-74804e6676fa')\"\n",
              "              title=\"Convert this dataframe to an interactive table.\"\n",
              "              style=\"display:none;\">\n",
              "        \n",
              "  <svg xmlns=\"http://www.w3.org/2000/svg\" height=\"24px\"viewBox=\"0 0 24 24\"\n",
              "       width=\"24px\">\n",
              "    <path d=\"M0 0h24v24H0V0z\" fill=\"none\"/>\n",
              "    <path d=\"M18.56 5.44l.94 2.06.94-2.06 2.06-.94-2.06-.94-.94-2.06-.94 2.06-2.06.94zm-11 1L8.5 8.5l.94-2.06 2.06-.94-2.06-.94L8.5 2.5l-.94 2.06-2.06.94zm10 10l.94 2.06.94-2.06 2.06-.94-2.06-.94-.94-2.06-.94 2.06-2.06.94z\"/><path d=\"M17.41 7.96l-1.37-1.37c-.4-.4-.92-.59-1.43-.59-.52 0-1.04.2-1.43.59L10.3 9.45l-7.72 7.72c-.78.78-.78 2.05 0 2.83L4 21.41c.39.39.9.59 1.41.59.51 0 1.02-.2 1.41-.59l7.78-7.78 2.81-2.81c.8-.78.8-2.07 0-2.86zM5.41 20L4 18.59l7.72-7.72 1.47 1.35L5.41 20z\"/>\n",
              "  </svg>\n",
              "      </button>\n",
              "      \n",
              "  <style>\n",
              "    .colab-df-container {\n",
              "      display:flex;\n",
              "      flex-wrap:wrap;\n",
              "      gap: 12px;\n",
              "    }\n",
              "\n",
              "    .colab-df-convert {\n",
              "      background-color: #E8F0FE;\n",
              "      border: none;\n",
              "      border-radius: 50%;\n",
              "      cursor: pointer;\n",
              "      display: none;\n",
              "      fill: #1967D2;\n",
              "      height: 32px;\n",
              "      padding: 0 0 0 0;\n",
              "      width: 32px;\n",
              "    }\n",
              "\n",
              "    .colab-df-convert:hover {\n",
              "      background-color: #E2EBFA;\n",
              "      box-shadow: 0px 1px 2px rgba(60, 64, 67, 0.3), 0px 1px 3px 1px rgba(60, 64, 67, 0.15);\n",
              "      fill: #174EA6;\n",
              "    }\n",
              "\n",
              "    [theme=dark] .colab-df-convert {\n",
              "      background-color: #3B4455;\n",
              "      fill: #D2E3FC;\n",
              "    }\n",
              "\n",
              "    [theme=dark] .colab-df-convert:hover {\n",
              "      background-color: #434B5C;\n",
              "      box-shadow: 0px 1px 3px 1px rgba(0, 0, 0, 0.15);\n",
              "      filter: drop-shadow(0px 1px 2px rgba(0, 0, 0, 0.3));\n",
              "      fill: #FFFFFF;\n",
              "    }\n",
              "  </style>\n",
              "\n",
              "      <script>\n",
              "        const buttonEl =\n",
              "          document.querySelector('#df-ab82f9de-64f2-49cd-abaa-74804e6676fa button.colab-df-convert');\n",
              "        buttonEl.style.display =\n",
              "          google.colab.kernel.accessAllowed ? 'block' : 'none';\n",
              "\n",
              "        async function convertToInteractive(key) {\n",
              "          const element = document.querySelector('#df-ab82f9de-64f2-49cd-abaa-74804e6676fa');\n",
              "          const dataTable =\n",
              "            await google.colab.kernel.invokeFunction('convertToInteractive',\n",
              "                                                     [key], {});\n",
              "          if (!dataTable) return;\n",
              "\n",
              "          const docLinkHtml = 'Like what you see? Visit the ' +\n",
              "            '<a target=\"_blank\" href=https://colab.research.google.com/notebooks/data_table.ipynb>data table notebook</a>'\n",
              "            + ' to learn more about interactive tables.';\n",
              "          element.innerHTML = '';\n",
              "          dataTable['output_type'] = 'display_data';\n",
              "          await google.colab.output.renderOutput(dataTable, element);\n",
              "          const docLink = document.createElement('div');\n",
              "          docLink.innerHTML = docLinkHtml;\n",
              "          element.appendChild(docLink);\n",
              "        }\n",
              "      </script>\n",
              "    </div>\n",
              "  </div>\n",
              "  "
            ]
          },
          "metadata": {},
          "execution_count": 21
        }
      ]
    },
    {
      "cell_type": "code",
      "source": [
        "df_posts_noBlanks.shape\n",
        "# Shows that 3,768 more rows were removed"
      ],
      "metadata": {
        "colab": {
          "base_uri": "https://localhost:8080/"
        },
        "id": "0Umf1AKu1PFA",
        "outputId": "8667f662-e07b-46a1-ec9f-aea486c00ec0"
      },
      "execution_count": null,
      "outputs": [
        {
          "output_type": "execute_result",
          "data": {
            "text/plain": [
              "(2388, 11)"
            ]
          },
          "metadata": {},
          "execution_count": 22
        }
      ]
    },
    {
      "cell_type": "markdown",
      "source": [
        "07/21/22 Questions"
      ],
      "metadata": {
        "id": "VCUEPQA7Ae4C"
      }
    },
    {
      "cell_type": "code",
      "source": [
        "#How frequently are people posting?\n",
        "Unique_Post=df_posts_noBlanks.author.value_counts()\n",
        "Unique_Post_Freq=df_posts_noBlanks.author.value_counts(normalize=True) #gives percent on each post. \n",
        "\n",
        "Unique_Post[100]\n",
        "Unique_Post_Freq"
      ],
      "metadata": {
        "colab": {
          "base_uri": "https://localhost:8080/"
        },
        "id": "yfrLIDoc3YfF",
        "outputId": "a97fd520-82db-4fd0-8858-af2ff20de178"
      },
      "execution_count": null,
      "outputs": [
        {
          "output_type": "execute_result",
          "data": {
            "text/plain": [
              "[deleted]              0.029326\n",
              "MaxFreedomMoussa       0.009636\n",
              "PunkShocker            0.003770\n",
              "TheRedWhale            0.003351\n",
              "brisualso              0.003351\n",
              "                         ...   \n",
              "germy21                0.000419\n",
              "annnnnnnnie            0.000419\n",
              "ElUPTJefe              0.000419\n",
              "kaybdoodles            0.000419\n",
              "dimestorepublishing    0.000419\n",
              "Name: author, Length: 1922, dtype: float64"
            ]
          },
          "metadata": {},
          "execution_count": 81
        }
      ]
    },
    {
      "cell_type": "code",
      "source": [
        "#Words in average post \n",
        "\n",
        "Text_Length1=df_posts_noBlanks.textlen.mean()\n",
        "Text_Length1\n",
        "\n",
        "Text_Length2=df_comments_noBlanks.textlen.mean()\n",
        "Text_Length2"
      ],
      "metadata": {
        "colab": {
          "base_uri": "https://localhost:8080/"
        },
        "id": "xpujuODLA6Dv",
        "outputId": "87f8ef31-4b91-4ad5-a78f-39ae4e414b7f"
      },
      "execution_count": null,
      "outputs": [
        {
          "output_type": "execute_result",
          "data": {
            "text/plain": [
              "332.48163115356357"
            ]
          },
          "metadata": {},
          "execution_count": 89
        }
      ]
    },
    {
      "cell_type": "code",
      "source": [
        "df_posts_noBlanks.score.hist()"
      ],
      "metadata": {
        "colab": {
          "base_uri": "https://localhost:8080/",
          "height": 283
        },
        "id": "Di_KUDyUE07E",
        "outputId": "dca92920-a0bf-4d90-a717-00b0d65adad5"
      },
      "execution_count": null,
      "outputs": [
        {
          "output_type": "execute_result",
          "data": {
            "text/plain": [
              "<matplotlib.axes._subplots.AxesSubplot at 0x7fe425044610>"
            ]
          },
          "metadata": {},
          "execution_count": 113
        },
        {
          "output_type": "display_data",
          "data": {
            "text/plain": [
              "<Figure size 432x288 with 1 Axes>"
            ],
            "image/png": "[encoded data removed]"
          },
          "metadata": {
            "needs_background": "light"
          }
        }
      ]
    },
    {
      "cell_type": "code",
      "source": [
        "df_posts_noBlanks.score\n"
      ],
      "metadata": {
        "colab": {
          "base_uri": "https://localhost:8080/"
        },
        "id": "nyh9uWZNFQlk",
        "outputId": "a75637d4-17bc-41f1-9912-8557ed345999"
      },
      "execution_count": null,
      "outputs": [
        {
          "output_type": "execute_result",
          "data": {
            "text/plain": [
              "7       2\n",
              "12      2\n",
              "17      2\n",
              "62      3\n",
              "63      1\n",
              "       ..\n",
              "7321    3\n",
              "7322    2\n",
              "7326    8\n",
              "7328    0\n",
              "7329    8\n",
              "Name: score, Length: 2387, dtype: int64"
            ]
          },
          "metadata": {},
          "execution_count": 114
        }
      ]
    },
    {
      "cell_type": "code",
      "source": [
        "df_posts_noBlanks.score\n"
      ],
      "metadata": {
        "colab": {
          "base_uri": "https://localhost:8080/"
        },
        "id": "jsFAcM2rHnmH",
        "outputId": "7ad5c7c1-8283-4318-c89c-4b9160cfc3b9"
      },
      "execution_count": null,
      "outputs": [
        {
          "output_type": "execute_result",
          "data": {
            "text/plain": [
              "7       2\n",
              "12      2\n",
              "17      2\n",
              "62      3\n",
              "63      1\n",
              "       ..\n",
              "7321    3\n",
              "7322    2\n",
              "7326    8\n",
              "7328    0\n",
              "7329    8\n",
              "Name: score, Length: 2387, dtype: int64"
            ]
          },
          "metadata": {},
          "execution_count": 112
        }
      ]
    },
    {
      "cell_type": "markdown",
      "source": [
        "## Cleaning text data (based on module 02 notebook 1)\n",
        "\n",
        "Text data collected in the real world is always going to be variable, which poses a challenge for analysis. But by reducing some of this variation, we can help improve our results. For example, if we are counting instances of the word `\"weather\"` in text, we might want the strings `\"weather\"`, `\"weather.\"`, and `\"Weather\"` to all be counted as instances of the same word. However, in raw text form, these would be treated as separate strings. By performing text cleaning, we can standardize these cases and make our data easier to analyze. Some common preprocessing steps are:\n",
        "\n",
        "- Removing punctuation\n",
        "- Removing URLs\n",
        "- Removing stopwords (non-content words like \"a\", \"the\", \"is\", etc.)\n",
        "- Lowercasing\n",
        "- Tokenization (e.g., splitting a sentence into distinct \"chunks\" or \"tokens\")\n",
        "- Stemming, or removing the ends of words (e.g., places -> place)\n",
        "- Lemmatization, or changing words to 'dictionary form' (e.g., runs, running, run -> run)\n",
        "\n",
        "Fortunately, we don't need to code every one of these steps. Instead, we will use a package called [spaCy](https://spacy.io/) to do these things. If the text you'd like to process is general-purpose English language text (i.e., not domain-specific, like medical literature), `spaCy` is ready to use out-of-the-box. We will use the [`en_core_web_sm`](https://spacy.io/models/en/#en_core_web_sm) pipeline to cover the steps listed above. "
      ],
      "metadata": {
        "id": "3SDKQNDf3gvu"
      }
    },
    {
      "cell_type": "code",
      "source": [
        "df_posts_noBlanks.head()"
      ],
      "metadata": {
        "colab": {
          "base_uri": "https://localhost:8080/",
          "height": 372
        },
        "id": "2hS4SmONr7Z1",
        "outputId": "ff6bdf62-c2d4-46f7-8eb4-31bb4be81c8e"
      },
      "execution_count": null,
      "outputs": [
        {
          "output_type": "execute_result",
          "data": {
            "text/plain": [
              "       idint     idstr     created  self  nsfw             author  \\\n",
              "7   23221158  t3_dtpk6  1287554803     1     0          [deleted]   \n",
              "12  25888930  t3_few0y  1296782293     1     0          mostrasho   \n",
              "17  29705825  t3_hop5t  1306892178     1     0  YouveBeenOneUpped   \n",
              "62  40519459  t3_o4h0j  1325799133     1     0        hobbitlover   \n",
              "63  40711806  t3_o8lfi  1326069991     1     0          [deleted]   \n",
              "\n",
              "                                                title  \\\n",
              "7   I am a recent graduate with no experience in t...   \n",
              "12  Help r/publishing! I just got offered a (volun...   \n",
              "17                Reprints - Are there average costs?   \n",
              "62  Need a writing program that works in InDesign ...   \n",
              "63         Online ebook cover creator recommendations   \n",
              "\n",
              "                                             selftext  score  textlen  \\\n",
              "7   I have no industry experience in publishing, b...      2     1007   \n",
              "12  The editor who offered it is fully aware that ...      2     1027   \n",
              "17  Hey All. How much do short excerpt reprints ty...      2      188   \n",
              "62  We use Microsoft Word at our office but it cre...      3      579   \n",
              "63  Hey guys,\\n\\nAny good recommendations on where...      1       75   \n",
              "\n",
              "    num_comments  \n",
              "7              5  \n",
              "12             2  \n",
              "17             4  \n",
              "62             3  \n",
              "63             1  "
            ],
            "text/html": [
              "\n",
              "  <div id=\"df-83ace9c5-6781-4386-88d6-acc278b92067\">\n",
              "    <div class=\"colab-df-container\">\n",
              "      <div>\n",
              "<style scoped>\n",
              "    .dataframe tbody tr th:only-of-type {\n",
              "        vertical-align: middle;\n",
              "    }\n",
              "\n",
              "    .dataframe tbody tr th {\n",
              "        vertical-align: top;\n",
              "    }\n",
              "\n",
              "    .dataframe thead th {\n",
              "        text-align: right;\n",
              "    }\n",
              "</style>\n",
              "<table border=\"1\" class=\"dataframe\">\n",
              "  <thead>\n",
              "    <tr style=\"text-align: right;\">\n",
              "      <th></th>\n",
              "      <th>idint</th>\n",
              "      <th>idstr</th>\n",
              "      <th>created</th>\n",
              "      <th>self</th>\n",
              "      <th>nsfw</th>\n",
              "      <th>author</th>\n",
              "      <th>title</th>\n",
              "      <th>selftext</th>\n",
              "      <th>score</th>\n",
              "      <th>textlen</th>\n",
              "      <th>num_comments</th>\n",
              "    </tr>\n",
              "  </thead>\n",
              "  <tbody>\n",
              "    <tr>\n",
              "      <th>7</th>\n",
              "      <td>23221158</td>\n",
              "      <td>t3_dtpk6</td>\n",
              "      <td>1287554803</td>\n",
              "      <td>1</td>\n",
              "      <td>0</td>\n",
              "      <td>[deleted]</td>\n",
              "      <td>I am a recent graduate with no experience in t...</td>\n",
              "      <td>I have no industry experience in publishing, b...</td>\n",
              "      <td>2</td>\n",
              "      <td>1007</td>\n",
              "      <td>5</td>\n",
              "    </tr>\n",
              "    <tr>\n",
              "      <th>12</th>\n",
              "      <td>25888930</td>\n",
              "      <td>t3_few0y</td>\n",
              "      <td>1296782293</td>\n",
              "      <td>1</td>\n",
              "      <td>0</td>\n",
              "      <td>mostrasho</td>\n",
              "      <td>Help r/publishing! I just got offered a (volun...</td>\n",
              "      <td>The editor who offered it is fully aware that ...</td>\n",
              "      <td>2</td>\n",
              "      <td>1027</td>\n",
              "      <td>2</td>\n",
              "    </tr>\n",
              "    <tr>\n",
              "      <th>17</th>\n",
              "      <td>29705825</td>\n",
              "      <td>t3_hop5t</td>\n",
              "      <td>1306892178</td>\n",
              "      <td>1</td>\n",
              "      <td>0</td>\n",
              "      <td>YouveBeenOneUpped</td>\n",
              "      <td>Reprints - Are there average costs?</td>\n",
              "      <td>Hey All. How much do short excerpt reprints ty...</td>\n",
              "      <td>2</td>\n",
              "      <td>188</td>\n",
              "      <td>4</td>\n",
              "    </tr>\n",
              "    <tr>\n",
              "      <th>62</th>\n",
              "      <td>40519459</td>\n",
              "      <td>t3_o4h0j</td>\n",
              "      <td>1325799133</td>\n",
              "      <td>1</td>\n",
              "      <td>0</td>\n",
              "      <td>hobbitlover</td>\n",
              "      <td>Need a writing program that works in InDesign ...</td>\n",
              "      <td>We use Microsoft Word at our office but it cre...</td>\n",
              "      <td>3</td>\n",
              "      <td>579</td>\n",
              "      <td>3</td>\n",
              "    </tr>\n",
              "    <tr>\n",
              "      <th>63</th>\n",
              "      <td>40711806</td>\n",
              "      <td>t3_o8lfi</td>\n",
              "      <td>1326069991</td>\n",
              "      <td>1</td>\n",
              "      <td>0</td>\n",
              "      <td>[deleted]</td>\n",
              "      <td>Online ebook cover creator recommendations</td>\n",
              "      <td>Hey guys,\\n\\nAny good recommendations on where...</td>\n",
              "      <td>1</td>\n",
              "      <td>75</td>\n",
              "      <td>1</td>\n",
              "    </tr>\n",
              "  </tbody>\n",
              "</table>\n",
              "</div>\n",
              "      <button class=\"colab-df-convert\" onclick=\"convertToInteractive('df-83ace9c5-6781-4386-88d6-acc278b92067')\"\n",
              "              title=\"Convert this dataframe to an interactive table.\"\n",
              "              style=\"display:none;\">\n",
              "        \n",
              "  <svg xmlns=\"http://www.w3.org/2000/svg\" height=\"24px\"viewBox=\"0 0 24 24\"\n",
              "       width=\"24px\">\n",
              "    <path d=\"M0 0h24v24H0V0z\" fill=\"none\"/>\n",
              "    <path d=\"M18.56 5.44l.94 2.06.94-2.06 2.06-.94-2.06-.94-.94-2.06-.94 2.06-2.06.94zm-11 1L8.5 8.5l.94-2.06 2.06-.94-2.06-.94L8.5 2.5l-.94 2.06-2.06.94zm10 10l.94 2.06.94-2.06 2.06-.94-2.06-.94-.94-2.06-.94 2.06-2.06.94z\"/><path d=\"M17.41 7.96l-1.37-1.37c-.4-.4-.92-.59-1.43-.59-.52 0-1.04.2-1.43.59L10.3 9.45l-7.72 7.72c-.78.78-.78 2.05 0 2.83L4 21.41c.39.39.9.59 1.41.59.51 0 1.02-.2 1.41-.59l7.78-7.78 2.81-2.81c.8-.78.8-2.07 0-2.86zM5.41 20L4 18.59l7.72-7.72 1.47 1.35L5.41 20z\"/>\n",
              "  </svg>\n",
              "      </button>\n",
              "      \n",
              "  <style>\n",
              "    .colab-df-container {\n",
              "      display:flex;\n",
              "      flex-wrap:wrap;\n",
              "      gap: 12px;\n",
              "    }\n",
              "\n",
              "    .colab-df-convert {\n",
              "      background-color: #E8F0FE;\n",
              "      border: none;\n",
              "      border-radius: 50%;\n",
              "      cursor: pointer;\n",
              "      display: none;\n",
              "      fill: #1967D2;\n",
              "      height: 32px;\n",
              "      padding: 0 0 0 0;\n",
              "      width: 32px;\n",
              "    }\n",
              "\n",
              "    .colab-df-convert:hover {\n",
              "      background-color: #E2EBFA;\n",
              "      box-shadow: 0px 1px 2px rgba(60, 64, 67, 0.3), 0px 1px 3px 1px rgba(60, 64, 67, 0.15);\n",
              "      fill: #174EA6;\n",
              "    }\n",
              "\n",
              "    [theme=dark] .colab-df-convert {\n",
              "      background-color: #3B4455;\n",
              "      fill: #D2E3FC;\n",
              "    }\n",
              "\n",
              "    [theme=dark] .colab-df-convert:hover {\n",
              "      background-color: #434B5C;\n",
              "      box-shadow: 0px 1px 3px 1px rgba(0, 0, 0, 0.15);\n",
              "      filter: drop-shadow(0px 1px 2px rgba(0, 0, 0, 0.3));\n",
              "      fill: #FFFFFF;\n",
              "    }\n",
              "  </style>\n",
              "\n",
              "      <script>\n",
              "        const buttonEl =\n",
              "          document.querySelector('#df-83ace9c5-6781-4386-88d6-acc278b92067 button.colab-df-convert');\n",
              "        buttonEl.style.display =\n",
              "          google.colab.kernel.accessAllowed ? 'block' : 'none';\n",
              "\n",
              "        async function convertToInteractive(key) {\n",
              "          const element = document.querySelector('#df-83ace9c5-6781-4386-88d6-acc278b92067');\n",
              "          const dataTable =\n",
              "            await google.colab.kernel.invokeFunction('convertToInteractive',\n",
              "                                                     [key], {});\n",
              "          if (!dataTable) return;\n",
              "\n",
              "          const docLinkHtml = 'Like what you see? Visit the ' +\n",
              "            '<a target=\"_blank\" href=https://colab.research.google.com/notebooks/data_table.ipynb>data table notebook</a>'\n",
              "            + ' to learn more about interactive tables.';\n",
              "          element.innerHTML = '';\n",
              "          dataTable['output_type'] = 'display_data';\n",
              "          await google.colab.output.renderOutput(dataTable, element);\n",
              "          const docLink = document.createElement('div');\n",
              "          docLink.innerHTML = docLinkHtml;\n",
              "          element.appendChild(docLink);\n",
              "        }\n",
              "      </script>\n",
              "    </div>\n",
              "  </div>\n",
              "  "
            ]
          },
          "metadata": {},
          "execution_count": 21
        }
      ]
    },
    {
      "cell_type": "code",
      "source": [
        "# Imports spaCy\n",
        "import spacy\n",
        "\n",
        "# Loads the English preprocessing pipeline\n",
        "nlp = spacy.load('en_core_web_sm')\n",
        "\n",
        "# Parses the first r/publishing post\n",
        "parsed_post = nlp(df_posts_noBlanks.selftext.iloc[0])\n",
        "print(parsed_post)"
      ],
      "metadata": {
        "colab": {
          "base_uri": "https://localhost:8080/"
        },
        "id": "MWZ0ytuc3-92",
        "outputId": "ca53d4a9-485c-43c5-db4e-f79d9d8bb49a"
      },
      "execution_count": null,
      "outputs": [
        {
          "output_type": "stream",
          "name": "stdout",
          "text": [
            "I have no industry experience in publishing, but would very much like to enter the field - specifically, editing. It seems as if the usual catch-22 holds true: to get the job, you need experience; to get experience, you need a job. Finding entry-level work is proving very difficult. I live in Baltimore, MD and I feel that I've exhausted the obvious avenues, sending my resume and cover letter to every magazine, newspaper, publishing house, etc., that I can locate. \n",
            "\n",
            "I am not opposed to internships, of course, but as I am not a college student, I tend to be excluded from consideration. Additionally, I have to support myself and so work-for-pay, in an obvious sense, takes priority.\n",
            "\n",
            "I realize that there are only 10 readers in this subreddit, so this really is a shot in the dark, but I could use some advice from persons familiar with the industry. I've considered, as well, sending out a few emails to editors whose blogs I read, asking them for similar guidance. Would this be perceived as brazen? \n"
          ]
        }
      ]
    },
    {
      "cell_type": "code",
      "source": [
        "# Print each sentence in the parsed post\n",
        "for idx, sentence in enumerate(parsed_post.sents):\n",
        "    print(f'Sentence {idx + 1}')\n",
        "    print(sentence)\n",
        "    print('')"
      ],
      "metadata": {
        "id": "szij6wy1tWs3",
        "colab": {
          "base_uri": "https://localhost:8080/"
        },
        "outputId": "0f52e76b-041a-4492-a2ad-40c95253116f"
      },
      "execution_count": null,
      "outputs": [
        {
          "output_type": "stream",
          "name": "stdout",
          "text": [
            "Sentence 1\n",
            "I have no industry experience in publishing, but would very much like to enter the field - specifically, editing.\n",
            "\n",
            "Sentence 2\n",
            "It seems as if the usual catch-22 holds true: to get the job, you need experience; to get experience, you need a job.\n",
            "\n",
            "Sentence 3\n",
            "Finding entry-level work is proving very difficult.\n",
            "\n",
            "Sentence 4\n",
            "I live in Baltimore, MD and I feel that I've exhausted the obvious avenues, sending my resume and cover letter to every magazine, newspaper, publishing house, etc., that I can locate.\n",
            "\n",
            "Sentence 5\n",
            "\n",
            "\n",
            "I am not opposed to internships, of course, but as I am not a college student, I tend to be excluded from consideration.\n",
            "\n",
            "Sentence 6\n",
            "Additionally, I have to support myself and so work-for-pay, in an obvious sense, takes priority.\n",
            "\n",
            "Sentence 7\n",
            "\n",
            "\n",
            "I realize that there are only 10 readers in this subreddit, so this really is a shot in the dark, but I could use some advice from persons familiar with the industry.\n",
            "\n",
            "Sentence 8\n",
            "I've considered, as well, sending out a few emails to editors whose blogs I read, asking them for similar guidance.\n",
            "\n",
            "Sentence 9\n",
            "Would this be perceived as brazen?\n",
            "\n"
          ]
        }
      ]
    },
    {
      "cell_type": "code",
      "source": [
        "# Extract the first 15 items for the following properties of the parsed post\n",
        "\n",
        "# The token text \n",
        "token_text = [token.orth_ for token in parsed_post][:15]   \n",
        "# Part of speech \n",
        "token_pos = [token.pos_ for token in parsed_post][:15]   \n",
        "# Lemma (or 'dictionary form')\n",
        "token_lemma = [token.lemma_ for token in parsed_post][:15]\n",
        "# Stop word? t/f\n",
        "token_stop = [token.is_stop for token in parsed_post][:15]\n",
        "# Puncutation? t/f\n",
        "token_punct = [token.is_punct for token in parsed_post][:15]\n",
        "\n",
        "# Make a dataframe with these items\n",
        "pd.DataFrame(zip(token_text, token_pos, token_lemma, token_stop, token_punct),\n",
        "             columns=['token_text', 'part_of_speech', 'token_lemma', 'token_stop', 'token_punct'])"
      ],
      "metadata": {
        "id": "hgeokb1xtix0",
        "colab": {
          "base_uri": "https://localhost:8080/",
          "height": 520
        },
        "outputId": "129219e4-1ab6-4031-e993-cabcf64ac214"
      },
      "execution_count": null,
      "outputs": [
        {
          "output_type": "execute_result",
          "data": {
            "text/plain": [
              "    token_text part_of_speech token_lemma  token_stop  token_punct\n",
              "0            I           PRON           I        True        False\n",
              "1         have           VERB        have        True        False\n",
              "2           no            DET          no        True        False\n",
              "3     industry           NOUN    industry       False        False\n",
              "4   experience           NOUN  experience       False        False\n",
              "5           in            ADP          in        True        False\n",
              "6   publishing           NOUN  publishing       False        False\n",
              "7            ,          PUNCT           ,       False         True\n",
              "8          but          CCONJ         but        True        False\n",
              "9        would            AUX       would        True        False\n",
              "10        very            ADV        very        True        False\n",
              "11        much            ADV        much        True        False\n",
              "12        like           VERB        like       False        False\n",
              "13          to           PART          to        True        False\n",
              "14       enter           VERB       enter       False        False"
            ],
            "text/html": [
              "\n",
              "  <div id=\"df-b03a4dc4-e7b4-4005-b5b6-8b342a17cb95\">\n",
              "    <div class=\"colab-df-container\">\n",
              "      <div>\n",
              "<style scoped>\n",
              "    .dataframe tbody tr th:only-of-type {\n",
              "        vertical-align: middle;\n",
              "    }\n",
              "\n",
              "    .dataframe tbody tr th {\n",
              "        vertical-align: top;\n",
              "    }\n",
              "\n",
              "    .dataframe thead th {\n",
              "        text-align: right;\n",
              "    }\n",
              "</style>\n",
              "<table border=\"1\" class=\"dataframe\">\n",
              "  <thead>\n",
              "    <tr style=\"text-align: right;\">\n",
              "      <th></th>\n",
              "      <th>token_text</th>\n",
              "      <th>part_of_speech</th>\n",
              "      <th>token_lemma</th>\n",
              "      <th>token_stop</th>\n",
              "      <th>token_punct</th>\n",
              "    </tr>\n",
              "  </thead>\n",
              "  <tbody>\n",
              "    <tr>\n",
              "      <th>0</th>\n",
              "      <td>I</td>\n",
              "      <td>PRON</td>\n",
              "      <td>I</td>\n",
              "      <td>True</td>\n",
              "      <td>False</td>\n",
              "    </tr>\n",
              "    <tr>\n",
              "      <th>1</th>\n",
              "      <td>have</td>\n",
              "      <td>VERB</td>\n",
              "      <td>have</td>\n",
              "      <td>True</td>\n",
              "      <td>False</td>\n",
              "    </tr>\n",
              "    <tr>\n",
              "      <th>2</th>\n",
              "      <td>no</td>\n",
              "      <td>DET</td>\n",
              "      <td>no</td>\n",
              "      <td>True</td>\n",
              "      <td>False</td>\n",
              "    </tr>\n",
              "    <tr>\n",
              "      <th>3</th>\n",
              "      <td>industry</td>\n",
              "      <td>NOUN</td>\n",
              "      <td>industry</td>\n",
              "      <td>False</td>\n",
              "      <td>False</td>\n",
              "    </tr>\n",
              "    <tr>\n",
              "      <th>4</th>\n",
              "      <td>experience</td>\n",
              "      <td>NOUN</td>\n",
              "      <td>experience</td>\n",
              "      <td>False</td>\n",
              "      <td>False</td>\n",
              "    </tr>\n",
              "    <tr>\n",
              "      <th>5</th>\n",
              "      <td>in</td>\n",
              "      <td>ADP</td>\n",
              "      <td>in</td>\n",
              "      <td>True</td>\n",
              "      <td>False</td>\n",
              "    </tr>\n",
              "    <tr>\n",
              "      <th>6</th>\n",
              "      <td>publishing</td>\n",
              "      <td>NOUN</td>\n",
              "      <td>publishing</td>\n",
              "      <td>False</td>\n",
              "      <td>False</td>\n",
              "    </tr>\n",
              "    <tr>\n",
              "      <th>7</th>\n",
              "      <td>,</td>\n",
              "      <td>PUNCT</td>\n",
              "      <td>,</td>\n",
              "      <td>False</td>\n",
              "      <td>True</td>\n",
              "    </tr>\n",
              "    <tr>\n",
              "      <th>8</th>\n",
              "      <td>but</td>\n",
              "      <td>CCONJ</td>\n",
              "      <td>but</td>\n",
              "      <td>True</td>\n",
              "      <td>False</td>\n",
              "    </tr>\n",
              "    <tr>\n",
              "      <th>9</th>\n",
              "      <td>would</td>\n",
              "      <td>AUX</td>\n",
              "      <td>would</td>\n",
              "      <td>True</td>\n",
              "      <td>False</td>\n",
              "    </tr>\n",
              "    <tr>\n",
              "      <th>10</th>\n",
              "      <td>very</td>\n",
              "      <td>ADV</td>\n",
              "      <td>very</td>\n",
              "      <td>True</td>\n",
              "      <td>False</td>\n",
              "    </tr>\n",
              "    <tr>\n",
              "      <th>11</th>\n",
              "      <td>much</td>\n",
              "      <td>ADV</td>\n",
              "      <td>much</td>\n",
              "      <td>True</td>\n",
              "      <td>False</td>\n",
              "    </tr>\n",
              "    <tr>\n",
              "      <th>12</th>\n",
              "      <td>like</td>\n",
              "      <td>VERB</td>\n",
              "      <td>like</td>\n",
              "      <td>False</td>\n",
              "      <td>False</td>\n",
              "    </tr>\n",
              "    <tr>\n",
              "      <th>13</th>\n",
              "      <td>to</td>\n",
              "      <td>PART</td>\n",
              "      <td>to</td>\n",
              "      <td>True</td>\n",
              "      <td>False</td>\n",
              "    </tr>\n",
              "    <tr>\n",
              "      <th>14</th>\n",
              "      <td>enter</td>\n",
              "      <td>VERB</td>\n",
              "      <td>enter</td>\n",
              "      <td>False</td>\n",
              "      <td>False</td>\n",
              "    </tr>\n",
              "  </tbody>\n",
              "</table>\n",
              "</div>\n",
              "      <button class=\"colab-df-convert\" onclick=\"convertToInteractive('df-b03a4dc4-e7b4-4005-b5b6-8b342a17cb95')\"\n",
              "              title=\"Convert this dataframe to an interactive table.\"\n",
              "              style=\"display:none;\">\n",
              "        \n",
              "  <svg xmlns=\"http://www.w3.org/2000/svg\" height=\"24px\"viewBox=\"0 0 24 24\"\n",
              "       width=\"24px\">\n",
              "    <path d=\"M0 0h24v24H0V0z\" fill=\"none\"/>\n",
              "    <path d=\"M18.56 5.44l.94 2.06.94-2.06 2.06-.94-2.06-.94-.94-2.06-.94 2.06-2.06.94zm-11 1L8.5 8.5l.94-2.06 2.06-.94-2.06-.94L8.5 2.5l-.94 2.06-2.06.94zm10 10l.94 2.06.94-2.06 2.06-.94-2.06-.94-.94-2.06-.94 2.06-2.06.94z\"/><path d=\"M17.41 7.96l-1.37-1.37c-.4-.4-.92-.59-1.43-.59-.52 0-1.04.2-1.43.59L10.3 9.45l-7.72 7.72c-.78.78-.78 2.05 0 2.83L4 21.41c.39.39.9.59 1.41.59.51 0 1.02-.2 1.41-.59l7.78-7.78 2.81-2.81c.8-.78.8-2.07 0-2.86zM5.41 20L4 18.59l7.72-7.72 1.47 1.35L5.41 20z\"/>\n",
              "  </svg>\n",
              "      </button>\n",
              "      \n",
              "  <style>\n",
              "    .colab-df-container {\n",
              "      display:flex;\n",
              "      flex-wrap:wrap;\n",
              "      gap: 12px;\n",
              "    }\n",
              "\n",
              "    .colab-df-convert {\n",
              "      background-color: #E8F0FE;\n",
              "      border: none;\n",
              "      border-radius: 50%;\n",
              "      cursor: pointer;\n",
              "      display: none;\n",
              "      fill: #1967D2;\n",
              "      height: 32px;\n",
              "      padding: 0 0 0 0;\n",
              "      width: 32px;\n",
              "    }\n",
              "\n",
              "    .colab-df-convert:hover {\n",
              "      background-color: #E2EBFA;\n",
              "      box-shadow: 0px 1px 2px rgba(60, 64, 67, 0.3), 0px 1px 3px 1px rgba(60, 64, 67, 0.15);\n",
              "      fill: #174EA6;\n",
              "    }\n",
              "\n",
              "    [theme=dark] .colab-df-convert {\n",
              "      background-color: #3B4455;\n",
              "      fill: #D2E3FC;\n",
              "    }\n",
              "\n",
              "    [theme=dark] .colab-df-convert:hover {\n",
              "      background-color: #434B5C;\n",
              "      box-shadow: 0px 1px 3px 1px rgba(0, 0, 0, 0.15);\n",
              "      filter: drop-shadow(0px 1px 2px rgba(0, 0, 0, 0.3));\n",
              "      fill: #FFFFFF;\n",
              "    }\n",
              "  </style>\n",
              "\n",
              "      <script>\n",
              "        const buttonEl =\n",
              "          document.querySelector('#df-b03a4dc4-e7b4-4005-b5b6-8b342a17cb95 button.colab-df-convert');\n",
              "        buttonEl.style.display =\n",
              "          google.colab.kernel.accessAllowed ? 'block' : 'none';\n",
              "\n",
              "        async function convertToInteractive(key) {\n",
              "          const element = document.querySelector('#df-b03a4dc4-e7b4-4005-b5b6-8b342a17cb95');\n",
              "          const dataTable =\n",
              "            await google.colab.kernel.invokeFunction('convertToInteractive',\n",
              "                                                     [key], {});\n",
              "          if (!dataTable) return;\n",
              "\n",
              "          const docLinkHtml = 'Like what you see? Visit the ' +\n",
              "            '<a target=\"_blank\" href=https://colab.research.google.com/notebooks/data_table.ipynb>data table notebook</a>'\n",
              "            + ' to learn more about interactive tables.';\n",
              "          element.innerHTML = '';\n",
              "          dataTable['output_type'] = 'display_data';\n",
              "          await google.colab.output.renderOutput(dataTable, element);\n",
              "          const docLink = document.createElement('div');\n",
              "          docLink.innerHTML = docLinkHtml;\n",
              "          element.appendChild(docLink);\n",
              "        }\n",
              "      </script>\n",
              "    </div>\n",
              "  </div>\n",
              "  "
            ]
          },
          "metadata": {},
          "execution_count": 25
        }
      ]
    },
    {
      "cell_type": "code",
      "source": [
        "# preprocess the example sentence\n",
        "test = nlp(\"That’s actually not true\")\n",
        "tokens = []\n",
        "# For each token in the processed object\n",
        "for token in test:\n",
        "    # Check if the token is punctuation\n",
        "    if not token.is_punct:\n",
        "        # Append the lower-case lemma to the list\n",
        "        tokens.append(token.lemma_.lower())\n",
        "print(tokens)"
      ],
      "metadata": {
        "id": "EkxtX9RPa9xA",
        "colab": {
          "base_uri": "https://localhost:8080/"
        },
        "outputId": "1c46e178-2f7d-4fcd-c170-02896672c80e"
      },
      "execution_count": null,
      "outputs": [
        {
          "output_type": "stream",
          "name": "stdout",
          "text": [
            "['that', '’s', 'actually', 'not', 'true']\n"
          ]
        }
      ]
    },
    {
      "cell_type": "code",
      "source": [
        "test = nlp(\"I'm you’re he's he's That's that’s he’s he's father's father’s\")\n",
        "tokens = [token.lemma_.lower() for token in test if not token.is_punct]\n",
        "for i, tokens in enumerate(tokens):\n",
        "    print(i, tokens)"
      ],
      "metadata": {
        "colab": {
          "base_uri": "https://localhost:8080/"
        },
        "id": "ADQ8DNyL2YVC",
        "outputId": "0b78d591-c182-4bd0-fc76-dabeb15fb44c"
      },
      "execution_count": null,
      "outputs": [
        {
          "output_type": "stream",
          "name": "stdout",
          "text": [
            "0 i\n",
            "1 be\n",
            "2 you\n",
            "3 ’re\n",
            "4 he\n",
            "5 be\n",
            "6 he\n",
            "7 be\n",
            "8 that\n",
            "9 be\n",
            "10 that\n",
            "11 ’s\n",
            "12 he\n",
            "13 ’s\n",
            "14 he\n",
            "15 be\n",
            "16 father\n",
            "17 's\n",
            "18 father\n",
            "19 ’s\n"
          ]
        }
      ]
    },
    {
      "cell_type": "code",
      "source": [
        "test = nlp(\"I'm you’re he's he's That's that’s he’s he's father's father’s\")\n",
        "tokens = [token.lemma_.lower() if token.lemma_ != '-PRON-'\n",
        "          else token.lower_\n",
        "          for token in test if not token.is_punct and not token.is_digit]\n",
        "leftover = [\"'s\",  \"’s\", \"’\"]\n",
        "tokens_c = [token for token in tokens if not token in leftover]\n",
        "\n",
        "for i, t in enumerate(tokens_c):\n",
        "    print(i, t)"
      ],
      "metadata": {
        "colab": {
          "base_uri": "https://localhost:8080/"
        },
        "id": "m4lqUhbD2aV4",
        "outputId": "75a220f6-fabf-4315-ed1f-cddb726ce98a"
      },
      "execution_count": null,
      "outputs": [
        {
          "output_type": "stream",
          "name": "stdout",
          "text": [
            "0 i\n",
            "1 be\n",
            "2 you\n",
            "3 ’re\n",
            "4 he\n",
            "5 be\n",
            "6 he\n",
            "7 be\n",
            "8 that\n",
            "9 be\n",
            "10 that\n",
            "11 he\n",
            "12 he\n",
            "13 be\n",
            "14 father\n",
            "15 father\n"
          ]
        }
      ]
    },
    {
      "cell_type": "markdown",
      "source": [
        "Preprocessing all data"
      ],
      "metadata": {
        "id": "Hu6sfUni96Ho"
      }
    },
    {
      "cell_type": "code",
      "source": [
        "from gensim.models.phrases import Phrases, Phraser"
      ],
      "metadata": {
        "id": "YjKMzUPV9er1"
      },
      "execution_count": null,
      "outputs": []
    },
    {
      "cell_type": "code",
      "source": [
        "def clean(token):\n",
        "    \"\"\"Helper function that specifies whether a token is:\n",
        "        - punctuation\n",
        "        - space\n",
        "        - digit\n",
        "    \"\"\"\n",
        "    return token.is_punct or token.is_space or token.is_digit\n",
        "\n",
        "def line_read(df, text_col='selftext'):\n",
        "    \"\"\"Generator function to read in text from df and get rid of line breaks.\"\"\"    \n",
        "    for text in df[text_col]:\n",
        "        yield text.replace('\\n', '')\n",
        "\n",
        "def preprocess(df, text_col='selftext', allowed_postags=['NOUN', 'ADJ']):\n",
        "    \"\"\"Preprocessing function to apply to a dataframe.\"\"\"\n",
        "    for parsed in nlp.pipe(line_read(df, text_col), batch_size=1000, disable=[\"tok2vec\", \"ner\"]):\n",
        "        # Gather lowercased, lemmatized tokens\n",
        "        tokens = [token.lemma_.lower() if token.lemma_ != '-PRON-'\n",
        "                  else token.lower_ \n",
        "                  for token in parsed if not clean(token)]\n",
        "        # Remove specific lemmatizations, and words that are not nouns or adjectives\n",
        "        tokens = [lemma\n",
        "                  for lemma in tokens\n",
        "                  if not lemma in [\"'s\",  \"’s\", \"’\"] and not lemma in allowed_postags]\n",
        "        # Remove stop words\n",
        "        tokens = [token for token in tokens if token not in spacy.lang.en.stop_words.STOP_WORDS]\n",
        "        yield tokens"
      ],
      "metadata": {
        "id": "DQ3pmq6XB_Hh"
      },
      "execution_count": null,
      "outputs": []
    },
    {
      "cell_type": "code",
      "source": [
        "# This may take a while\n",
        "lemmas = [line for line in preprocess(df_posts_noBlanks)]"
      ],
      "metadata": {
        "id": "b3FDyR95CCAy"
      },
      "execution_count": null,
      "outputs": []
    },
    {
      "cell_type": "code",
      "source": [
        "lemmas[0]"
      ],
      "metadata": {
        "colab": {
          "base_uri": "https://localhost:8080/"
        },
        "id": "IjRsxN8jChFE",
        "outputId": "e4b210d7-82c2-4e13-888d-86fad2a69d7c"
      },
      "execution_count": null,
      "outputs": [
        {
          "output_type": "execute_result",
          "data": {
            "text/plain": [
              "['industry',\n",
              " 'experience',\n",
              " 'publishing',\n",
              " 'like',\n",
              " 'enter',\n",
              " 'field',\n",
              " 'specifically',\n",
              " 'editing',\n",
              " 'usual',\n",
              " 'catch-22',\n",
              " 'holds',\n",
              " 'true',\n",
              " 'job',\n",
              " 'need',\n",
              " 'experience',\n",
              " 'experience',\n",
              " 'need',\n",
              " 'job',\n",
              " 'finding',\n",
              " 'entry',\n",
              " 'level',\n",
              " 'work',\n",
              " 'proving',\n",
              " 'difficult',\n",
              " 'live',\n",
              " 'baltimore',\n",
              " 'md',\n",
              " 'feel',\n",
              " 'exhausted',\n",
              " 'obvious',\n",
              " 'avenues',\n",
              " 'sending',\n",
              " 'resume',\n",
              " 'cover',\n",
              " 'letter',\n",
              " 'magazine',\n",
              " 'newspaper',\n",
              " 'publishing',\n",
              " 'house',\n",
              " 'etc',\n",
              " 'locate',\n",
              " 'opposed',\n",
              " 'internships',\n",
              " 'course',\n",
              " 'college',\n",
              " 'student',\n",
              " 'tend',\n",
              " 'excluded',\n",
              " 'consideration',\n",
              " 'additionally',\n",
              " 'support',\n",
              " 'work',\n",
              " 'pay',\n",
              " 'obvious',\n",
              " 'sense',\n",
              " 'takes',\n",
              " 'priority',\n",
              " 'realize',\n",
              " 'readers',\n",
              " 'subreddit',\n",
              " 'shot',\n",
              " 'dark',\n",
              " 'use',\n",
              " 'advice',\n",
              " 'persons',\n",
              " 'familiar',\n",
              " 'industry',\n",
              " 'considered',\n",
              " 'sending',\n",
              " 'emails',\n",
              " 'editors',\n",
              " 'blogs',\n",
              " 'read',\n",
              " 'asking',\n",
              " 'similar',\n",
              " 'guidance',\n",
              " 'perceived',\n",
              " 'brazen']"
            ]
          },
          "metadata": {},
          "execution_count": 29
        }
      ]
    },
    {
      "cell_type": "markdown",
      "source": [
        "Phrase Modeling with `gensim`"
      ],
      "metadata": {
        "id": "m0CmgUtYCoM5"
      }
    },
    {
      "cell_type": "code",
      "source": [
        "from gensim.models.phrases import Phrases, Phraser\n",
        "\n",
        "# Create bigram and trigram models\n",
        "bigram = Phrases(lemmas, min_count=10, threshold=100)\n",
        "trigram = Phrases(bigram[lemmas], min_count=10, threshold=50)  \n",
        "bigram_phraser = Phraser(bigram)\n",
        "trigram_phraser = Phraser(trigram)\n",
        "\n",
        "# Form trigrams\n",
        "trigrams = [trigram_phraser[bigram_phraser[doc]] for doc in lemmas]"
      ],
      "metadata": {
        "colab": {
          "base_uri": "https://localhost:8080/"
        },
        "id": "S_T40tAKCzx3",
        "outputId": "9f71ba81-4ed2-4a45-e38c-13718d9a357c"
      },
      "execution_count": null,
      "outputs": [
        {
          "output_type": "stream",
          "name": "stderr",
          "text": [
            "/usr/local/lib/python3.7/dist-packages/gensim/models/phrases.py:598: UserWarning: For a faster implementation, use the gensim.models.phrases.Phraser class\n",
            "  warnings.warn(\"For a faster implementation, use the gensim.models.phrases.Phraser class\")\n"
          ]
        }
      ]
    },
    {
      "cell_type": "code",
      "source": [
        "# Join each into a string\n",
        "trigrams_joined = [' '.join(trigram) for trigram in trigrams]\n",
        "trigrams_joined[5]"
      ],
      "metadata": {
        "colab": {
          "base_uri": "https://localhost:8080/",
          "height": 53
        },
        "id": "4URcJ83TGHvG",
        "outputId": "3bb300f7-51af-4ddb-a601-38231c839107"
      },
      "execution_count": null,
      "outputs": [
        {
          "output_type": "execute_result",
          "data": {
            "text/plain": [
              "'college student writing long ago year ago wrote historical fiction piece pages sitting wondering hell working second installment thing know publishing houses want young writers street cred want world read story question experience area step want self publish realistic options publish short_stories'"
            ],
            "application/vnd.google.colaboratory.intrinsic+json": {
              "type": "string"
            }
          },
          "metadata": {},
          "execution_count": 39
        }
      ]
    },
    {
      "cell_type": "code",
      "source": [
        "trigram_phraser[\"That\", \"was\", \"not\", \"a\", \"big\", \"deal\"]"
      ],
      "metadata": {
        "colab": {
          "base_uri": "https://localhost:8080/"
        },
        "id": "iW0pvWrOGKWX",
        "outputId": "28abd2c9-bd8f-49cd-b50d-1d37bb9687c3"
      },
      "execution_count": null,
      "outputs": [
        {
          "output_type": "execute_result",
          "data": {
            "text/plain": [
              "['That', 'was', 'not', 'a', 'big', 'deal']"
            ]
          },
          "metadata": {},
          "execution_count": 34
        }
      ]
    },
    {
      "cell_type": "code",
      "source": [
        "len(bigram_phraser.phrasegrams.keys())\n",
        "#We can use .keys() to identify the bigrams in the dataset"
      ],
      "metadata": {
        "colab": {
          "base_uri": "https://localhost:8080/"
        },
        "id": "LEhEfEN_GqqD",
        "outputId": "84f27003-f8f1-4c32-baff-a6a69da6bcff"
      },
      "execution_count": null,
      "outputs": [
        {
          "output_type": "execute_result",
          "data": {
            "text/plain": [
              "37"
            ]
          },
          "metadata": {},
          "execution_count": 35
        }
      ]
    },
    {
      "cell_type": "code",
      "source": [
        "list(bigram_phraser.phrasegrams.keys())[:10]"
      ],
      "metadata": {
        "colab": {
          "base_uri": "https://localhost:8080/"
        },
        "id": "8GVZ5r7kG0-N",
        "outputId": "b86f5191-6b25-472b-e4d2-73986691e9d4"
      },
      "execution_count": null,
      "outputs": [
        {
          "output_type": "execute_result",
          "data": {
            "text/plain": [
              "[(b'entry', b'level'),\n",
              " (b'short', b'stories'),\n",
              " (b'having', b'trouble'),\n",
              " (b'query', b'letters'),\n",
              " (b'query', b'letter'),\n",
              " (b'greatly', b'appreciated'),\n",
              " (b'non', b'fiction'),\n",
              " (b'makes', b'sense'),\n",
              " (b'high', b'school'),\n",
              " (b'high', b'quality')]"
            ]
          },
          "metadata": {},
          "execution_count": 42
        }
      ]
    },
    {
      "cell_type": "code",
      "source": [
        "[trigram for trigram in list(trigram_phraser.phrasegrams.keys())]"
      ],
      "metadata": {
        "colab": {
          "base_uri": "https://localhost:8080/"
        },
        "id": "4o1NcZsSHLZn",
        "outputId": "30f30234-01be-4485-9bb1-7f0e20ee1c4a"
      },
      "execution_count": null,
      "outputs": [
        {
          "output_type": "execute_result",
          "data": {
            "text/plain": [
              "[(b'entry', b'level'),\n",
              " (b'cover', b'letter'),\n",
              " (b'love', b'hear'),\n",
              " (b'hey', b'guys'),\n",
              " (b'short', b'stories'),\n",
              " (b'having', b'trouble'),\n",
              " (b'query', b'letters'),\n",
              " (b'query', b'letter'),\n",
              " (b'literary', b'agents'),\n",
              " (b'greatly', b'appreciated'),\n",
              " (b'non', b'fiction'),\n",
              " (b'makes', b'sense'),\n",
              " (b'high', b'school'),\n",
              " (b'weeks', b'ago'),\n",
              " (b'thanks', b'advance'),\n",
              " (b'high', b'quality'),\n",
              " (b'foot', b'door'),\n",
              " (b'editorial', b'assistant'),\n",
              " (b'months', b'ago'),\n",
              " (b'years', b'ago'),\n",
              " (b'advice', b'appreciated'),\n",
              " (b'small', b'press'),\n",
              " (b'graphic', b'designer'),\n",
              " (b'literary', b'agent'),\n",
              " (b'creative', b'writing'),\n",
              " (b'google', b'play'),\n",
              " (b'social', b'media'),\n",
              " (b'print', b'demand'),\n",
              " (b'graphic', b'design'),\n",
              " (b'young', b'adult'),\n",
              " (b'red', b'flags'),\n",
              " (b'science', b'fiction'),\n",
              " (b'right', b'direction'),\n",
              " (b'greatly', b'appreciated_thank'),\n",
              " (b'grad', b'school'),\n",
              " (b'non', b'fiction_book'),\n",
              " (b'barnes', b'noble'),\n",
              " (b'coffee', b'table'),\n",
              " (b'trying', b'figure'),\n",
              " (b'word', b'count'),\n",
              " (b'pros', b'cons'),\n",
              " (b'target', b'audience'),\n",
              " (b'short', b'story'),\n",
              " (b'advice_greatly', b'appreciated'),\n",
              " (b'adobe', b'indesign'),\n",
              " (b'united', b'states'),\n",
              " (b'shed', b'light'),\n",
              " (b'kdp', b'select'),\n",
              " (b'beta', b'readers'),\n",
              " (b'public', b'domain'),\n",
              " (b'querying', b'agents'),\n",
              " (b'>', b'>'),\n",
              " (b'kdp', b'wizard')]"
            ]
          },
          "metadata": {},
          "execution_count": 43
        }
      ]
    },
    {
      "cell_type": "markdown",
      "source": [
        "Saving files"
      ],
      "metadata": {
        "id": "CiGTbAXnIBEW"
      }
    },
    {
      "cell_type": "code",
      "source": [
        "# Inserting next to selftext column\n",
        "df_posts_noBlanks.insert(loc=7, column='lemmas', value=trigrams_joined)\n",
        "# Removing empty rows in lemmas\n",
        "df_posts_noBlanks = df_posts_noBlanks[~df_posts_noBlanks['lemmas'].isin([''])]"
      ],
      "metadata": {
        "id": "sr1MkynuHX7h"
      },
      "execution_count": null,
      "outputs": []
    },
    {
      "cell_type": "code",
      "source": [
        "df_posts_noBlanks.head()"
      ],
      "metadata": {
        "colab": {
          "base_uri": "https://localhost:8080/",
          "height": 206
        },
        "id": "g9kMBIoUJemy",
        "outputId": "63962a64-bc46-4ad0-8a3c-399f5ef79689"
      },
      "execution_count": null,
      "outputs": [
        {
          "output_type": "execute_result",
          "data": {
            "text/plain": [
              "       idint     idstr     created  self  nsfw             author  \\\n",
              "7   23221158  t3_dtpk6  1287554803     1     0          [deleted]   \n",
              "12  25888930  t3_few0y  1296782293     1     0          mostrasho   \n",
              "17  29705825  t3_hop5t  1306892178     1     0  YouveBeenOneUpped   \n",
              "62  40519459  t3_o4h0j  1325799133     1     0        hobbitlover   \n",
              "63  40711806  t3_o8lfi  1326069991     1     0          [deleted]   \n",
              "\n",
              "                                                title  \\\n",
              "7   I am a recent graduate with no experience in t...   \n",
              "12  Help r/publishing! I just got offered a (volun...   \n",
              "17                Reprints - Are there average costs?   \n",
              "62  Need a writing program that works in InDesign ...   \n",
              "63         Online ebook cover creator recommendations   \n",
              "\n",
              "                                             selftext  score  textlen  \\\n",
              "7   I have no industry experience in publishing, b...      2     1007   \n",
              "12  The editor who offered it is fully aware that ...      2     1027   \n",
              "17  Hey All. How much do short excerpt reprints ty...      2      188   \n",
              "62  We use Microsoft Word at our office but it cre...      3      579   \n",
              "63  Hey guys,\\n\\nAny good recommendations on where...      1       75   \n",
              "\n",
              "    num_comments  \n",
              "7              5  \n",
              "12             2  \n",
              "17             4  \n",
              "62             3  \n",
              "63             1  "
            ],
            "text/html": [
              "\n",
              "  <div id=\"df-3affea0d-4440-419f-b240-85f2a893c1b4\">\n",
              "    <div class=\"colab-df-container\">\n",
              "      <div>\n",
              "<style scoped>\n",
              "    .dataframe tbody tr th:only-of-type {\n",
              "        vertical-align: middle;\n",
              "    }\n",
              "\n",
              "    .dataframe tbody tr th {\n",
              "        vertical-align: top;\n",
              "    }\n",
              "\n",
              "    .dataframe thead th {\n",
              "        text-align: right;\n",
              "    }\n",
              "</style>\n",
              "<table border=\"1\" class=\"dataframe\">\n",
              "  <thead>\n",
              "    <tr style=\"text-align: right;\">\n",
              "      <th></th>\n",
              "      <th>idint</th>\n",
              "      <th>idstr</th>\n",
              "      <th>created</th>\n",
              "      <th>self</th>\n",
              "      <th>nsfw</th>\n",
              "      <th>author</th>\n",
              "      <th>title</th>\n",
              "      <th>selftext</th>\n",
              "      <th>score</th>\n",
              "      <th>textlen</th>\n",
              "      <th>num_comments</th>\n",
              "    </tr>\n",
              "  </thead>\n",
              "  <tbody>\n",
              "    <tr>\n",
              "      <th>7</th>\n",
              "      <td>23221158</td>\n",
              "      <td>t3_dtpk6</td>\n",
              "      <td>1287554803</td>\n",
              "      <td>1</td>\n",
              "      <td>0</td>\n",
              "      <td>[deleted]</td>\n",
              "      <td>I am a recent graduate with no experience in t...</td>\n",
              "      <td>I have no industry experience in publishing, b...</td>\n",
              "      <td>2</td>\n",
              "      <td>1007</td>\n",
              "      <td>5</td>\n",
              "    </tr>\n",
              "    <tr>\n",
              "      <th>12</th>\n",
              "      <td>25888930</td>\n",
              "      <td>t3_few0y</td>\n",
              "      <td>1296782293</td>\n",
              "      <td>1</td>\n",
              "      <td>0</td>\n",
              "      <td>mostrasho</td>\n",
              "      <td>Help r/publishing! I just got offered a (volun...</td>\n",
              "      <td>The editor who offered it is fully aware that ...</td>\n",
              "      <td>2</td>\n",
              "      <td>1027</td>\n",
              "      <td>2</td>\n",
              "    </tr>\n",
              "    <tr>\n",
              "      <th>17</th>\n",
              "      <td>29705825</td>\n",
              "      <td>t3_hop5t</td>\n",
              "      <td>1306892178</td>\n",
              "      <td>1</td>\n",
              "      <td>0</td>\n",
              "      <td>YouveBeenOneUpped</td>\n",
              "      <td>Reprints - Are there average costs?</td>\n",
              "      <td>Hey All. How much do short excerpt reprints ty...</td>\n",
              "      <td>2</td>\n",
              "      <td>188</td>\n",
              "      <td>4</td>\n",
              "    </tr>\n",
              "    <tr>\n",
              "      <th>62</th>\n",
              "      <td>40519459</td>\n",
              "      <td>t3_o4h0j</td>\n",
              "      <td>1325799133</td>\n",
              "      <td>1</td>\n",
              "      <td>0</td>\n",
              "      <td>hobbitlover</td>\n",
              "      <td>Need a writing program that works in InDesign ...</td>\n",
              "      <td>We use Microsoft Word at our office but it cre...</td>\n",
              "      <td>3</td>\n",
              "      <td>579</td>\n",
              "      <td>3</td>\n",
              "    </tr>\n",
              "    <tr>\n",
              "      <th>63</th>\n",
              "      <td>40711806</td>\n",
              "      <td>t3_o8lfi</td>\n",
              "      <td>1326069991</td>\n",
              "      <td>1</td>\n",
              "      <td>0</td>\n",
              "      <td>[deleted]</td>\n",
              "      <td>Online ebook cover creator recommendations</td>\n",
              "      <td>Hey guys,\\n\\nAny good recommendations on where...</td>\n",
              "      <td>1</td>\n",
              "      <td>75</td>\n",
              "      <td>1</td>\n",
              "    </tr>\n",
              "  </tbody>\n",
              "</table>\n",
              "</div>\n",
              "      <button class=\"colab-df-convert\" onclick=\"convertToInteractive('df-3affea0d-4440-419f-b240-85f2a893c1b4')\"\n",
              "              title=\"Convert this dataframe to an interactive table.\"\n",
              "              style=\"display:none;\">\n",
              "        \n",
              "  <svg xmlns=\"http://www.w3.org/2000/svg\" height=\"24px\"viewBox=\"0 0 24 24\"\n",
              "       width=\"24px\">\n",
              "    <path d=\"M0 0h24v24H0V0z\" fill=\"none\"/>\n",
              "    <path d=\"M18.56 5.44l.94 2.06.94-2.06 2.06-.94-2.06-.94-.94-2.06-.94 2.06-2.06.94zm-11 1L8.5 8.5l.94-2.06 2.06-.94-2.06-.94L8.5 2.5l-.94 2.06-2.06.94zm10 10l.94 2.06.94-2.06 2.06-.94-2.06-.94-.94-2.06-.94 2.06-2.06.94z\"/><path d=\"M17.41 7.96l-1.37-1.37c-.4-.4-.92-.59-1.43-.59-.52 0-1.04.2-1.43.59L10.3 9.45l-7.72 7.72c-.78.78-.78 2.05 0 2.83L4 21.41c.39.39.9.59 1.41.59.51 0 1.02-.2 1.41-.59l7.78-7.78 2.81-2.81c.8-.78.8-2.07 0-2.86zM5.41 20L4 18.59l7.72-7.72 1.47 1.35L5.41 20z\"/>\n",
              "  </svg>\n",
              "      </button>\n",
              "      \n",
              "  <style>\n",
              "    .colab-df-container {\n",
              "      display:flex;\n",
              "      flex-wrap:wrap;\n",
              "      gap: 12px;\n",
              "    }\n",
              "\n",
              "    .colab-df-convert {\n",
              "      background-color: #E8F0FE;\n",
              "      border: none;\n",
              "      border-radius: 50%;\n",
              "      cursor: pointer;\n",
              "      display: none;\n",
              "      fill: #1967D2;\n",
              "      height: 32px;\n",
              "      padding: 0 0 0 0;\n",
              "      width: 32px;\n",
              "    }\n",
              "\n",
              "    .colab-df-convert:hover {\n",
              "      background-color: #E2EBFA;\n",
              "      box-shadow: 0px 1px 2px rgba(60, 64, 67, 0.3), 0px 1px 3px 1px rgba(60, 64, 67, 0.15);\n",
              "      fill: #174EA6;\n",
              "    }\n",
              "\n",
              "    [theme=dark] .colab-df-convert {\n",
              "      background-color: #3B4455;\n",
              "      fill: #D2E3FC;\n",
              "    }\n",
              "\n",
              "    [theme=dark] .colab-df-convert:hover {\n",
              "      background-color: #434B5C;\n",
              "      box-shadow: 0px 1px 3px 1px rgba(0, 0, 0, 0.15);\n",
              "      filter: drop-shadow(0px 1px 2px rgba(0, 0, 0, 0.3));\n",
              "      fill: #FFFFFF;\n",
              "    }\n",
              "  </style>\n",
              "\n",
              "      <script>\n",
              "        const buttonEl =\n",
              "          document.querySelector('#df-3affea0d-4440-419f-b240-85f2a893c1b4 button.colab-df-convert');\n",
              "        buttonEl.style.display =\n",
              "          google.colab.kernel.accessAllowed ? 'block' : 'none';\n",
              "\n",
              "        async function convertToInteractive(key) {\n",
              "          const element = document.querySelector('#df-3affea0d-4440-419f-b240-85f2a893c1b4');\n",
              "          const dataTable =\n",
              "            await google.colab.kernel.invokeFunction('convertToInteractive',\n",
              "                                                     [key], {});\n",
              "          if (!dataTable) return;\n",
              "\n",
              "          const docLinkHtml = 'Like what you see? Visit the ' +\n",
              "            '<a target=\"_blank\" href=https://colab.research.google.com/notebooks/data_table.ipynb>data table notebook</a>'\n",
              "            + ' to learn more about interactive tables.';\n",
              "          element.innerHTML = '';\n",
              "          dataTable['output_type'] = 'display_data';\n",
              "          await google.colab.output.renderOutput(dataTable, element);\n",
              "          const docLink = document.createElement('div');\n",
              "          docLink.innerHTML = docLinkHtml;\n",
              "          element.appendChild(docLink);\n",
              "        }\n",
              "      </script>\n",
              "    </div>\n",
              "  </div>\n",
              "  "
            ]
          },
          "metadata": {},
          "execution_count": 40
        }
      ]
    },
    {
      "cell_type": "markdown",
      "source": [
        "## Exploring Texts with `pandas` and `nltk` (based on Model 2 notebook 02)"
      ],
      "metadata": {
        "id": "hm2tPMeWJkyr"
      }
    },
    {
      "cell_type": "code",
      "source": [
        "# Run if nltk is not installed\n",
        "!pip install nltk"
      ],
      "metadata": {
        "colab": {
          "base_uri": "https://localhost:8080/"
        },
        "id": "oSBnH_3gJg0f",
        "outputId": "6b489bc8-dcdb-4798-9e56-f913ebd9c026"
      },
      "execution_count": null,
      "outputs": [
        {
          "output_type": "stream",
          "name": "stdout",
          "text": [
            "Looking in indexes: https://pypi.org/simple, https://us-python.pkg.dev/colab-wheels/public/simple/\n",
            "Requirement already satisfied: nltk in /usr/local/lib/python3.7/dist-packages (3.7)\n",
            "Requirement already satisfied: tqdm in /usr/local/lib/python3.7/dist-packages (from nltk) (4.64.0)\n",
            "Requirement already satisfied: click in /usr/local/lib/python3.7/dist-packages (from nltk) (7.1.2)\n",
            "Requirement already satisfied: regex>=2021.8.3 in /usr/local/lib/python3.7/dist-packages (from nltk) (2022.6.2)\n",
            "Requirement already satisfied: joblib in /usr/local/lib/python3.7/dist-packages (from nltk) (1.1.0)\n"
          ]
        }
      ]
    },
    {
      "cell_type": "code",
      "source": [
        "# Sort dataframe by highest scores\n",
        "df_posts_noBlanks.sort_values(by=['score'], ascending=True).head(3)\n",
        "#highest is 76"
      ],
      "metadata": {
        "colab": {
          "base_uri": "https://localhost:8080/",
          "height": 240
        },
        "id": "qQbx_MDDJ5Av",
        "outputId": "ce1bd257-4fbb-445b-ef0b-e661a9cb53d9"
      },
      "execution_count": null,
      "outputs": [
        {
          "output_type": "execute_result",
          "data": {
            "text/plain": [
              "           idint      idstr     created  self  nsfw         author  \\\n",
              "2319   233972106  t3_3vau16  1449162677     1     0  gloopmagazine   \n",
              "5837  1047462900  t3_hbmrjo  1592513546     1     0      brisualso   \n",
              "5873  1054845205  t3_hg0zrp  1593145694     1     0  CheekClappR69   \n",
              "\n",
              "                                                  title  \\\n",
              "2319  KICKSTARTER FOR A ONE-OF-A-KIND TEEN MAGAZINE!...   \n",
              "5837    [Critique Request] How to Spot a Good Synopsis?   \n",
              "5873       How should I write a light novel in English?   \n",
              "\n",
              "                                                 lemmas  \\\n",
              "2319  short gloop offers curated content young peopl...   \n",
              "5837  hello!i writing synopsis short_story difficult...   \n",
              "5873  joke got post removed characters things like c...   \n",
              "\n",
              "                                               selftext  score  textlen  \\\n",
              "2319  In short, Gloop! offers curated content for yo...      0      529   \n",
              "5837  Hello!\\n\\nI will say that writing a synopsis f...      0      701   \n",
              "5873  I'm serious no joke. I already got a post remo...      0      234   \n",
              "\n",
              "      num_comments  \n",
              "2319             0  \n",
              "5837             0  \n",
              "5873             2  "
            ],
            "text/html": [
              "\n",
              "  <div id=\"df-d5e4d49a-d379-4272-be22-aac6c0de6c5c\">\n",
              "    <div class=\"colab-df-container\">\n",
              "      <div>\n",
              "<style scoped>\n",
              "    .dataframe tbody tr th:only-of-type {\n",
              "        vertical-align: middle;\n",
              "    }\n",
              "\n",
              "    .dataframe tbody tr th {\n",
              "        vertical-align: top;\n",
              "    }\n",
              "\n",
              "    .dataframe thead th {\n",
              "        text-align: right;\n",
              "    }\n",
              "</style>\n",
              "<table border=\"1\" class=\"dataframe\">\n",
              "  <thead>\n",
              "    <tr style=\"text-align: right;\">\n",
              "      <th></th>\n",
              "      <th>idint</th>\n",
              "      <th>idstr</th>\n",
              "      <th>created</th>\n",
              "      <th>self</th>\n",
              "      <th>nsfw</th>\n",
              "      <th>author</th>\n",
              "      <th>title</th>\n",
              "      <th>lemmas</th>\n",
              "      <th>selftext</th>\n",
              "      <th>score</th>\n",
              "      <th>textlen</th>\n",
              "      <th>num_comments</th>\n",
              "    </tr>\n",
              "  </thead>\n",
              "  <tbody>\n",
              "    <tr>\n",
              "      <th>2319</th>\n",
              "      <td>233972106</td>\n",
              "      <td>t3_3vau16</td>\n",
              "      <td>1449162677</td>\n",
              "      <td>1</td>\n",
              "      <td>0</td>\n",
              "      <td>gloopmagazine</td>\n",
              "      <td>KICKSTARTER FOR A ONE-OF-A-KIND TEEN MAGAZINE!...</td>\n",
              "      <td>short gloop offers curated content young peopl...</td>\n",
              "      <td>In short, Gloop! offers curated content for yo...</td>\n",
              "      <td>0</td>\n",
              "      <td>529</td>\n",
              "      <td>0</td>\n",
              "    </tr>\n",
              "    <tr>\n",
              "      <th>5837</th>\n",
              "      <td>1047462900</td>\n",
              "      <td>t3_hbmrjo</td>\n",
              "      <td>1592513546</td>\n",
              "      <td>1</td>\n",
              "      <td>0</td>\n",
              "      <td>brisualso</td>\n",
              "      <td>[Critique Request] How to Spot a Good Synopsis?</td>\n",
              "      <td>hello!i writing synopsis short_story difficult...</td>\n",
              "      <td>Hello!\\n\\nI will say that writing a synopsis f...</td>\n",
              "      <td>0</td>\n",
              "      <td>701</td>\n",
              "      <td>0</td>\n",
              "    </tr>\n",
              "    <tr>\n",
              "      <th>5873</th>\n",
              "      <td>1054845205</td>\n",
              "      <td>t3_hg0zrp</td>\n",
              "      <td>1593145694</td>\n",
              "      <td>1</td>\n",
              "      <td>0</td>\n",
              "      <td>CheekClappR69</td>\n",
              "      <td>How should I write a light novel in English?</td>\n",
              "      <td>joke got post removed characters things like c...</td>\n",
              "      <td>I'm serious no joke. I already got a post remo...</td>\n",
              "      <td>0</td>\n",
              "      <td>234</td>\n",
              "      <td>2</td>\n",
              "    </tr>\n",
              "  </tbody>\n",
              "</table>\n",
              "</div>\n",
              "      <button class=\"colab-df-convert\" onclick=\"convertToInteractive('df-d5e4d49a-d379-4272-be22-aac6c0de6c5c')\"\n",
              "              title=\"Convert this dataframe to an interactive table.\"\n",
              "              style=\"display:none;\">\n",
              "        \n",
              "  <svg xmlns=\"http://www.w3.org/2000/svg\" height=\"24px\"viewBox=\"0 0 24 24\"\n",
              "       width=\"24px\">\n",
              "    <path d=\"M0 0h24v24H0V0z\" fill=\"none\"/>\n",
              "    <path d=\"M18.56 5.44l.94 2.06.94-2.06 2.06-.94-2.06-.94-.94-2.06-.94 2.06-2.06.94zm-11 1L8.5 8.5l.94-2.06 2.06-.94-2.06-.94L8.5 2.5l-.94 2.06-2.06.94zm10 10l.94 2.06.94-2.06 2.06-.94-2.06-.94-.94-2.06-.94 2.06-2.06.94z\"/><path d=\"M17.41 7.96l-1.37-1.37c-.4-.4-.92-.59-1.43-.59-.52 0-1.04.2-1.43.59L10.3 9.45l-7.72 7.72c-.78.78-.78 2.05 0 2.83L4 21.41c.39.39.9.59 1.41.59.51 0 1.02-.2 1.41-.59l7.78-7.78 2.81-2.81c.8-.78.8-2.07 0-2.86zM5.41 20L4 18.59l7.72-7.72 1.47 1.35L5.41 20z\"/>\n",
              "  </svg>\n",
              "      </button>\n",
              "      \n",
              "  <style>\n",
              "    .colab-df-container {\n",
              "      display:flex;\n",
              "      flex-wrap:wrap;\n",
              "      gap: 12px;\n",
              "    }\n",
              "\n",
              "    .colab-df-convert {\n",
              "      background-color: #E8F0FE;\n",
              "      border: none;\n",
              "      border-radius: 50%;\n",
              "      cursor: pointer;\n",
              "      display: none;\n",
              "      fill: #1967D2;\n",
              "      height: 32px;\n",
              "      padding: 0 0 0 0;\n",
              "      width: 32px;\n",
              "    }\n",
              "\n",
              "    .colab-df-convert:hover {\n",
              "      background-color: #E2EBFA;\n",
              "      box-shadow: 0px 1px 2px rgba(60, 64, 67, 0.3), 0px 1px 3px 1px rgba(60, 64, 67, 0.15);\n",
              "      fill: #174EA6;\n",
              "    }\n",
              "\n",
              "    [theme=dark] .colab-df-convert {\n",
              "      background-color: #3B4455;\n",
              "      fill: #D2E3FC;\n",
              "    }\n",
              "\n",
              "    [theme=dark] .colab-df-convert:hover {\n",
              "      background-color: #434B5C;\n",
              "      box-shadow: 0px 1px 3px 1px rgba(0, 0, 0, 0.15);\n",
              "      filter: drop-shadow(0px 1px 2px rgba(0, 0, 0, 0.3));\n",
              "      fill: #FFFFFF;\n",
              "    }\n",
              "  </style>\n",
              "\n",
              "      <script>\n",
              "        const buttonEl =\n",
              "          document.querySelector('#df-d5e4d49a-d379-4272-be22-aac6c0de6c5c button.colab-df-convert');\n",
              "        buttonEl.style.display =\n",
              "          google.colab.kernel.accessAllowed ? 'block' : 'none';\n",
              "\n",
              "        async function convertToInteractive(key) {\n",
              "          const element = document.querySelector('#df-d5e4d49a-d379-4272-be22-aac6c0de6c5c');\n",
              "          const dataTable =\n",
              "            await google.colab.kernel.invokeFunction('convertToInteractive',\n",
              "                                                     [key], {});\n",
              "          if (!dataTable) return;\n",
              "\n",
              "          const docLinkHtml = 'Like what you see? Visit the ' +\n",
              "            '<a target=\"_blank\" href=https://colab.research.google.com/notebooks/data_table.ipynb>data table notebook</a>'\n",
              "            + ' to learn more about interactive tables.';\n",
              "          element.innerHTML = '';\n",
              "          dataTable['output_type'] = 'display_data';\n",
              "          await google.colab.output.renderOutput(dataTable, element);\n",
              "          const docLink = document.createElement('div');\n",
              "          docLink.innerHTML = docLinkHtml;\n",
              "          element.appendChild(docLink);\n",
              "        }\n",
              "      </script>\n",
              "    </div>\n",
              "  </div>\n",
              "  "
            ]
          },
          "metadata": {},
          "execution_count": 46
        }
      ]
    },
    {
      "cell_type": "markdown",
      "source": [
        "Value Counts"
      ],
      "metadata": {
        "id": "LtIWfyGjq1w8"
      }
    },
    {
      "cell_type": "code",
      "source": [
        "df_posts_noBlanks['self'].value_counts()"
      ],
      "metadata": {
        "colab": {
          "base_uri": "https://localhost:8080/"
        },
        "id": "Tb0EX5rxq4kh",
        "outputId": "15411e1a-4418-4245-8062-2ddd5845ef3d"
      },
      "execution_count": null,
      "outputs": [
        {
          "output_type": "execute_result",
          "data": {
            "text/plain": [
              "1    2387\n",
              "Name: self, dtype: int64"
            ]
          },
          "metadata": {},
          "execution_count": 60
        }
      ]
    },
    {
      "cell_type": "code",
      "source": [
        "df_posts_noBlanks['nsfw'].value_counts()"
      ],
      "metadata": {
        "colab": {
          "base_uri": "https://localhost:8080/"
        },
        "id": "SNiSlro3rg2m",
        "outputId": "22458945-5f86-451f-ef69-da60f06bd8fb"
      },
      "execution_count": null,
      "outputs": [
        {
          "output_type": "execute_result",
          "data": {
            "text/plain": [
              "0    2385\n",
              "1       2\n",
              "Name: nsfw, dtype: int64"
            ]
          },
          "metadata": {},
          "execution_count": 62
        }
      ]
    },
    {
      "cell_type": "code",
      "source": [
        "df_posts_noBlanks['score'].value_counts()"
      ],
      "metadata": {
        "colab": {
          "base_uri": "https://localhost:8080/"
        },
        "id": "JRYvPWbOr_wn",
        "outputId": "df61341e-0c60-4b4c-a586-62843df9a816"
      },
      "execution_count": null,
      "outputs": [
        {
          "output_type": "execute_result",
          "data": {
            "text/plain": [
              "2     380\n",
              "1     344\n",
              "3     335\n",
              "4     224\n",
              "0     217\n",
              "5     203\n",
              "6     137\n",
              "7     122\n",
              "8      90\n",
              "9      78\n",
              "10     46\n",
              "11     33\n",
              "12     32\n",
              "13     26\n",
              "14     23\n",
              "16     18\n",
              "15     10\n",
              "17      8\n",
              "27      7\n",
              "20      6\n",
              "28      4\n",
              "34      3\n",
              "35      3\n",
              "25      3\n",
              "19      3\n",
              "18      3\n",
              "21      3\n",
              "30      3\n",
              "24      2\n",
              "22      2\n",
              "29      2\n",
              "36      2\n",
              "23      2\n",
              "64      1\n",
              "76      1\n",
              "32      1\n",
              "53      1\n",
              "48      1\n",
              "45      1\n",
              "51      1\n",
              "54      1\n",
              "37      1\n",
              "59      1\n",
              "26      1\n",
              "40      1\n",
              "65      1\n",
              "Name: score, dtype: int64"
            ]
          },
          "metadata": {},
          "execution_count": 63
        }
      ]
    },
    {
      "cell_type": "code",
      "source": [
        "df_comments_noBlanks['parent'].value_counts()"
      ],
      "metadata": {
        "colab": {
          "base_uri": "https://localhost:8080/"
        },
        "id": "8ugCeUI1uDM-",
        "outputId": "567da9ee-aa47-448d-ba21-f6d7a624bd61"
      },
      "execution_count": null,
      "outputs": [
        {
          "output_type": "execute_result",
          "data": {
            "text/plain": [
              "t3_gg32c9     21\n",
              "t3_g9cf65     20\n",
              "t3_iddmzk     20\n",
              "t3_vcqtg      19\n",
              "t3_hvy1h5     19\n",
              "              ..\n",
              "t1_fh8ww3w     1\n",
              "t1_fh9rgc7     1\n",
              "t1_fh9qwuu     1\n",
              "t1_fhak2yk     1\n",
              "t3_ohoqpl      1\n",
              "Name: parent, Length: 11947, dtype: int64"
            ]
          },
          "metadata": {},
          "execution_count": 64
        }
      ]
    },
    {
      "cell_type": "code",
      "source": [
        "df_comments_noBlanks['submission'].value_counts()"
      ],
      "metadata": {
        "colab": {
          "base_uri": "https://localhost:8080/"
        },
        "id": "GVmhNUnMuYwu",
        "outputId": "3bfc3b7d-5e0f-424b-898d-7d398284dad7"
      },
      "execution_count": null,
      "outputs": [
        {
          "output_type": "execute_result",
          "data": {
            "text/plain": [
              "t3_mwb5yh    77\n",
              "t3_lj7v93    52\n",
              "t3_gg32c9    52\n",
              "t3_m4yq44    50\n",
              "t3_lgvahm    50\n",
              "             ..\n",
              "t3_7e8l42     1\n",
              "t3_8mcv69     1\n",
              "t3_8nozwk     1\n",
              "t3_8oel32     1\n",
              "t3_ohoqpl     1\n",
              "Name: submission, Length: 3060, dtype: int64"
            ]
          },
          "metadata": {},
          "execution_count": 65
        }
      ]
    },
    {
      "cell_type": "markdown",
      "source": [
        "type-token Ratio (TTR)"
      ],
      "metadata": {
        "id": "Z80q80tUM-Fu"
      }
    },
    {
      "cell_type": "code",
      "source": [
        "def type_token_ratio(tokens):\n",
        "    \"\"\"Calculates type-token ratio on tokens.\"\"\"\n",
        "    numTokens = len(tokens)\n",
        "    numTypes = len(set(tokens))\n",
        "    return numTypes / numTokens"
      ],
      "metadata": {
        "id": "7vUXWDzlKXHU"
      },
      "execution_count": null,
      "outputs": []
    },
    {
      "cell_type": "code",
      "source": [
        "for text in df_posts_noBlanks['lemmas'][100:105]:\n",
        "    tokens = text.split()\n",
        "    print('Text:\\n', text)\n",
        "    print('TTR:', type_token_ratio(tokens), '\\n')"
      ],
      "metadata": {
        "colab": {
          "base_uri": "https://localhost:8080/"
        },
        "id": "0liFZh7aKXSd",
        "outputId": "b5f23fa1-fae6-433d-f63d-7d720c0af6e5"
      },
      "execution_count": null,
      "outputs": [
        {
          "output_type": "stream",
          "name": "stdout",
          "text": [
            "Text:\n",
            " years saved money startup costs want start publishing house advice breaking market know basically business publishing looking resources learn worth business evening class\n",
            "TTR: 0.9130434782608695 \n",
            "\n",
            "Text:\n",
            " tell lie finished novel want freedom find best route publishing possible young spiraling bit pissing naiveté means need buy time knock good stories quick like capable rock certain mental uniquenesses preventing holding jobs wonderful world typically habit asking advice humbly present /r publishing assistance self publishing publishing short fiction head water head water $ month live hovel write good 40,000 word story 10,000 word short_stories days live portland relevance answer merits appreciate advice recommendations dialogues etc thank time hopefully good comes\n",
            "TTR: 0.8641975308641975 \n",
            "\n",
            "Text:\n",
            " lot publishing love discuss like hear people actually published publishing list related subreddits right panel seen r selfpublish r selfpublishing interested self publishing print_demand etc questions working professional distributors\n",
            "TTR: 0.896551724137931 \n",
            "\n",
            "Text:\n",
            " review recommendation good qa software best practices non manufacturing publishing\n",
            "TTR: 1.0 \n",
            "\n",
            "Text:\n",
            " looking pod service distribute large format color books amazon way lightning source create space suggestions pod service automatically set sales distribution amazon\n",
            "TTR: 0.8636363636363636 \n",
            "\n"
          ]
        }
      ]
    },
    {
      "cell_type": "markdown",
      "source": [
        "Processing and Analyzing Language with `Text()`"
      ],
      "metadata": {
        "id": "524SxgK9SqUW"
      }
    },
    {
      "cell_type": "code",
      "source": [
        "tokens = []\n",
        "for idx, row in enumerate(df_posts_noBlanks['lemmas']):\n",
        "    # Notice that we put all tokens in the same list\n",
        "    tokens.extend(row.split(' '))"
      ],
      "metadata": {
        "id": "badOmWp9KXb-"
      },
      "execution_count": null,
      "outputs": []
    },
    {
      "cell_type": "code",
      "source": [
        "import nltk\n",
        "nltk.download('stopwords')\n",
        "from nltk.text import Text\n",
        "\n",
        "aita_tokens = Text(tokens)"
      ],
      "metadata": {
        "colab": {
          "base_uri": "https://localhost:8080/"
        },
        "id": "LVDXjdEtKXji",
        "outputId": "39929e02-921b-4ede-bd4e-92461b2a8cf9"
      },
      "execution_count": null,
      "outputs": [
        {
          "output_type": "stream",
          "name": "stderr",
          "text": [
            "[nltk_data] Downloading package stopwords to /root/nltk_data...\n",
            "[nltk_data]   Unzipping corpora/stopwords.zip.\n"
          ]
        }
      ]
    },
    {
      "cell_type": "code",
      "source": [
        "help(Text)"
      ],
      "metadata": {
        "colab": {
          "base_uri": "https://localhost:8080/"
        },
        "id": "hZFiHgr6KXmG",
        "outputId": "0653a156-1130-4a3b-b8c6-fca06b01d28e"
      },
      "execution_count": null,
      "outputs": [
        {
          "output_type": "stream",
          "name": "stdout",
          "text": [
            "Help on class Text in module nltk.text:\n",
            "\n",
            "class Text(builtins.object)\n",
            " |  Text(tokens, name=None)\n",
            " |  \n",
            " |  A wrapper around a sequence of simple (string) tokens, which is\n",
            " |  intended to support initial exploration of texts (via the\n",
            " |  interactive console).  Its methods perform a variety of analyses\n",
            " |  on the text's contexts (e.g., counting, concordancing, collocation\n",
            " |  discovery), and display the results.  If you wish to write a\n",
            " |  program which makes use of these analyses, then you should bypass\n",
            " |  the ``Text`` class, and use the appropriate analysis function or\n",
            " |  class directly instead.\n",
            " |  \n",
            " |  A ``Text`` is typically initialized from a given document or\n",
            " |  corpus.  E.g.:\n",
            " |  \n",
            " |  >>> import nltk.corpus\n",
            " |  >>> from nltk.text import Text\n",
            " |  >>> moby = Text(nltk.corpus.gutenberg.words('melville-moby_dick.txt'))\n",
            " |  \n",
            " |  Methods defined here:\n",
            " |  \n",
            " |  __getitem__(self, i)\n",
            " |  \n",
            " |  __init__(self, tokens, name=None)\n",
            " |      Create a Text object.\n",
            " |      \n",
            " |      :param tokens: The source text.\n",
            " |      :type tokens: sequence of str\n",
            " |  \n",
            " |  __len__(self)\n",
            " |  \n",
            " |  __repr__(self)\n",
            " |      Return repr(self).\n",
            " |  \n",
            " |  __str__(self)\n",
            " |      Return str(self).\n",
            " |  \n",
            " |  collocation_list(self, num=20, window_size=2)\n",
            " |      Return collocations derived from the text, ignoring stopwords.\n",
            " |      \n",
            " |          >>> from nltk.book import text4\n",
            " |          >>> text4.collocation_list()[:2]\n",
            " |          [('United', 'States'), ('fellow', 'citizens')]\n",
            " |      \n",
            " |      :param num: The maximum number of collocations to return.\n",
            " |      :type num: int\n",
            " |      :param window_size: The number of tokens spanned by a collocation (default=2)\n",
            " |      :type window_size: int\n",
            " |      :rtype: list(tuple(str, str))\n",
            " |  \n",
            " |  collocations(self, num=20, window_size=2)\n",
            " |      Print collocations derived from the text, ignoring stopwords.\n",
            " |      \n",
            " |          >>> from nltk.book import text4\n",
            " |          >>> text4.collocations() # doctest: +ELLIPSIS\n",
            " |          United States; fellow citizens; four years; ...\n",
            " |      \n",
            " |      :param num: The maximum number of collocations to print.\n",
            " |      :type num: int\n",
            " |      :param window_size: The number of tokens spanned by a collocation (default=2)\n",
            " |      :type window_size: int\n",
            " |  \n",
            " |  common_contexts(self, words, num=20)\n",
            " |      Find contexts where the specified words appear; list\n",
            " |      most frequent common contexts first.\n",
            " |      \n",
            " |      :param words: The words used to seed the similarity search\n",
            " |      :type words: str\n",
            " |      :param num: The number of words to generate (default=20)\n",
            " |      :type num: int\n",
            " |      :seealso: ContextIndex.common_contexts()\n",
            " |  \n",
            " |  concordance(self, word, width=79, lines=25)\n",
            " |      Prints a concordance for ``word`` with the specified context window.\n",
            " |      Word matching is not case-sensitive.\n",
            " |      \n",
            " |      :param word: The target word or phrase (a list of strings)\n",
            " |      :type word: str or list\n",
            " |      :param width: The width of each line, in characters (default=80)\n",
            " |      :type width: int\n",
            " |      :param lines: The number of lines to display (default=25)\n",
            " |      :type lines: int\n",
            " |      \n",
            " |      :seealso: ``ConcordanceIndex``\n",
            " |  \n",
            " |  concordance_list(self, word, width=79, lines=25)\n",
            " |      Generate a concordance for ``word`` with the specified context window.\n",
            " |      Word matching is not case-sensitive.\n",
            " |      \n",
            " |      :param word: The target word or phrase (a list of strings)\n",
            " |      :type word: str or list\n",
            " |      :param width: The width of each line, in characters (default=80)\n",
            " |      :type width: int\n",
            " |      :param lines: The number of lines to display (default=25)\n",
            " |      :type lines: int\n",
            " |      \n",
            " |      :seealso: ``ConcordanceIndex``\n",
            " |  \n",
            " |  count(self, word)\n",
            " |      Count the number of times this word appears in the text.\n",
            " |  \n",
            " |  dispersion_plot(self, words)\n",
            " |      Produce a plot showing the distribution of the words through the text.\n",
            " |      Requires pylab to be installed.\n",
            " |      \n",
            " |      :param words: The words to be plotted\n",
            " |      :type words: list(str)\n",
            " |      :seealso: nltk.draw.dispersion_plot()\n",
            " |  \n",
            " |  findall(self, regexp)\n",
            " |      Find instances of the regular expression in the text.\n",
            " |      The text is a list of tokens, and a regexp pattern to match\n",
            " |      a single token must be surrounded by angle brackets.  E.g.\n",
            " |      \n",
            " |      >>> print('hack'); from nltk.book import text1, text5, text9\n",
            " |      hack...\n",
            " |      >>> text5.findall(\"<.*><.*><bro>\")\n",
            " |      you rule bro; telling you bro; u twizted bro\n",
            " |      >>> text1.findall(\"<a>(<.*>)<man>\")\n",
            " |      monied; nervous; dangerous; white; white; white; pious; queer; good;\n",
            " |      mature; white; Cape; great; wise; wise; butterless; white; fiendish;\n",
            " |      pale; furious; better; certain; complete; dismasted; younger; brave;\n",
            " |      brave; brave; brave\n",
            " |      >>> text9.findall(\"<th.*>{3,}\")\n",
            " |      thread through those; the thought that; that the thing; the thing\n",
            " |      that; that that thing; through these than through; them that the;\n",
            " |      through the thick; them that they; thought that the\n",
            " |      \n",
            " |      :param regexp: A regular expression\n",
            " |      :type regexp: str\n",
            " |  \n",
            " |  generate(self, length=100, text_seed=None, random_seed=42)\n",
            " |      Print random text, generated using a trigram language model.\n",
            " |      See also `help(nltk.lm)`.\n",
            " |      \n",
            " |      :param length: The length of text to generate (default=100)\n",
            " |      :type length: int\n",
            " |      \n",
            " |      :param text_seed: Generation can be conditioned on preceding context.\n",
            " |      :type text_seed: list(str)\n",
            " |      \n",
            " |      :param random_seed: A random seed or an instance of `random.Random`. If provided,\n",
            " |          makes the random sampling part of generation reproducible. (default=42)\n",
            " |      :type random_seed: int\n",
            " |  \n",
            " |  index(self, word)\n",
            " |      Find the index of the first occurrence of the word in the text.\n",
            " |  \n",
            " |  plot(self, *args)\n",
            " |      See documentation for FreqDist.plot()\n",
            " |      :seealso: nltk.prob.FreqDist.plot()\n",
            " |  \n",
            " |  readability(self, method)\n",
            " |  \n",
            " |  similar(self, word, num=20)\n",
            " |      Distributional similarity: find other words which appear in the\n",
            " |      same contexts as the specified word; list most similar words first.\n",
            " |      \n",
            " |      :param word: The word used to seed the similarity search\n",
            " |      :type word: str\n",
            " |      :param num: The number of words to generate (default=20)\n",
            " |      :type num: int\n",
            " |      :seealso: ContextIndex.similar_words()\n",
            " |  \n",
            " |  vocab(self)\n",
            " |      :seealso: nltk.prob.FreqDist\n",
            " |  \n",
            " |  ----------------------------------------------------------------------\n",
            " |  Data descriptors defined here:\n",
            " |  \n",
            " |  __dict__\n",
            " |      dictionary for instance variables (if defined)\n",
            " |  \n",
            " |  __weakref__\n",
            " |      list of weak references to the object (if defined)\n",
            "\n"
          ]
        }
      ]
    },
    {
      "cell_type": "markdown",
      "source": [
        "Concordances"
      ],
      "metadata": {
        "id": "6zjEulkYUxX4"
      }
    },
    {
      "cell_type": "code",
      "source": [
        "aita_tokens.concordance('Canada', width=75)"
      ],
      "metadata": {
        "colab": {
          "base_uri": "https://localhost:8080/"
        },
        "id": "pH8--CgSKXo7",
        "outputId": "9601de86-509e-4a88-e5fd-955ffde6ad14"
      },
      "execution_count": null,
      "outputs": [
        {
          "output_type": "stream",
          "name": "stdout",
          "text": [
            "Displaying 25 of 35 matches:\n",
            "getting fictional novel published canada told canadian publishers rarely p\n",
            "eternally grateful fiction writer canada recently finished length novel de\n",
            "used self publish know impossible canada know published uk heard need agen\n",
            "ee working depressingly low wages canada completely lost faith making livi\n",
            "n novel sell american rights book canada canadian publishing long time que\n",
            "idea starting small_press ontario canada like venture want research having\n",
            "finding information small presses canada hard facts publishing industry ge\n",
            "hy copies past year united_states canada little free libraries hopes promo\n",
            " stamp postage way live vancouver canada started writing novel character s\n",
            "ite suited american market market canada understanding fairly small wo cau\n",
            "arly limited ability freely visit canada thanks interested potentially goi\n",
            " build career academic publishing canada phd chemistry currently working i\n",
            "ok wish delete isbn number remove canada books system forgive know exact t\n",
            "e know exact terminology possible canada seeking literary_agent novel comp\n",
            "s able advice publish short_story canada short_story bibliography mothers \n",
            " slice publishing world way banff canada personally local magazines read t\n",
            "avakia chile france germany parts canada australian influence undoubtedly \n",
            "shers ebooks sold users australia canada list price fixed net price falls \n",
            "it car memory stay wait come live canada searching publishers post books a\n",
            "tion published wanna distribution canada international hi hoping offer pra\n",
            "city worked independent bookstore canada years years spent directly managi\n",
            "le suppliers remainder books find canada search import usa kinda sucks hel\n",
            "self publishing getting published canada best approaching publishers help \n",
            "ct people work field particularly canada uk ask questions looking masters \n",
            "simon fraser university vancouver canada big publishing scene vancouver sf\n"
          ]
        }
      ]
    },
    {
      "cell_type": "markdown",
      "source": [
        "Collections"
      ],
      "metadata": {
        "id": "az4VGKgKVAmR"
      }
    },
    {
      "cell_type": "code",
      "source": [
        "aita_tokens.collocation_list()"
      ],
      "metadata": {
        "colab": {
          "base_uri": "https://localhost:8080/"
        },
        "id": "vExVQv83VATE",
        "outputId": "260fb60d-c9b3-454c-84d8-00beaf2f7a3e"
      },
      "execution_count": null,
      "outputs": [
        {
          "output_type": "execute_result",
          "data": {
            "text/plain": [
              "[('self', 'publishing'),\n",
              " ('publishing', 'house'),\n",
              " ('self', 'publish'),\n",
              " ('publishing', 'company'),\n",
              " ('publishing', 'houses'),\n",
              " ('feel', 'like'),\n",
              " ('let', 'know'),\n",
              " ('self', 'published'),\n",
              " ('publishing', 'industry'),\n",
              " ('children', 'book'),\n",
              " ('traditional', 'publishing'),\n",
              " ('publishing', 'companies'),\n",
              " ('best', 'way'),\n",
              " ('brick', 'mortar'),\n",
              " ('publish', 'book'),\n",
              " ('right', 'place'),\n",
              " ('feel', 'free'),\n",
              " ('help', 'appreciated'),\n",
              " ('dungeons', 'dragons'),\n",
              " ('thank', 'advance')]"
            ]
          },
          "metadata": {},
          "execution_count": 48
        }
      ]
    },
    {
      "cell_type": "markdown",
      "source": [
        "Similar Words"
      ],
      "metadata": {
        "id": "lWGn6ZyfXzRg"
      }
    },
    {
      "cell_type": "code",
      "source": [
        "aita_tokens.similar('agent')"
      ],
      "metadata": {
        "colab": {
          "base_uri": "https://localhost:8080/"
        },
        "id": "Pbj5K8nNXuw3",
        "outputId": "d28de99e-f535-488b-89f7-0590ffdb2dc3"
      },
      "execution_count": null,
      "outputs": [
        {
          "output_type": "stream",
          "name": "stdout",
          "text": [
            "editing good know self book published novel new lot reputable partner\n",
            "let found right manuscript contact indie debut experience like\n"
          ]
        }
      ]
    },
    {
      "cell_type": "markdown",
      "source": [
        "Common Context"
      ],
      "metadata": {
        "id": "f6UN4dZwYVV0"
      }
    },
    {
      "cell_type": "code",
      "source": [
        "aita_tokens.common_contexts(['novel', 'fiction'])"
      ],
      "metadata": {
        "colab": {
          "base_uri": "https://localhost:8080/"
        },
        "id": "u5TGh20vKXry",
        "outputId": "5b8fb5d3-8128-43bd-bf6a-d0ccea6ece89"
      },
      "execution_count": null,
      "outputs": [
        {
          "output_type": "stream",
          "name": "stdout",
          "text": [
            "second_novel\n"
          ]
        }
      ]
    },
    {
      "cell_type": "markdown",
      "source": [
        "Incorporating Time"
      ],
      "metadata": {
        "id": "EEu88DhdYr2M"
      }
    },
    {
      "cell_type": "code",
      "source": [
        "datetimes = pd.to_datetime(df_posts_noBlanks['created'], unit='s')"
      ],
      "metadata": {
        "id": "SrL037g8YrQp"
      },
      "execution_count": null,
      "outputs": []
    },
    {
      "cell_type": "code",
      "source": [
        "df_posts_noBlanks.insert(loc=3, column='created_datetime', value=datetimes)\n",
        "df_posts_noBlanks.head(3)"
      ],
      "metadata": {
        "colab": {
          "base_uri": "https://localhost:8080/",
          "height": 468
        },
        "id": "KU8f-gMWZAWB",
        "outputId": "b26b23e8-d24f-4f0d-afac-bbf5256fb04f"
      },
      "execution_count": null,
      "outputs": [
        {
          "output_type": "execute_result",
          "data": {
            "text/plain": [
              "       idint     idstr     created    created_datetime  self  nsfw  \\\n",
              "7   23221158  t3_dtpk6  1287554803 2010-10-20 06:06:43     1     0   \n",
              "12  25888930  t3_few0y  1296782293 2011-02-04 01:18:13     1     0   \n",
              "17  29705825  t3_hop5t  1306892178 2011-06-01 01:36:18     1     0   \n",
              "\n",
              "               author                                              title  \\\n",
              "7           [deleted]  I am a recent graduate with no experience in t...   \n",
              "12          mostrasho  Help r/publishing! I just got offered a (volun...   \n",
              "17  YouveBeenOneUpped                Reprints - Are there average costs?   \n",
              "\n",
              "                                               lemmas  \\\n",
              "7   industry experience publishing like enter fiel...   \n",
              "12  editor offered fully aware coming directly col...   \n",
              "17  hey short excerpt reprints typically cost prof...   \n",
              "\n",
              "                                             selftext  score  textlen  \\\n",
              "7   I have no industry experience in publishing, b...      2     1007   \n",
              "12  The editor who offered it is fully aware that ...      2     1027   \n",
              "17  Hey All. How much do short excerpt reprints ty...      2      188   \n",
              "\n",
              "    num_comments  \n",
              "7              5  \n",
              "12             2  \n",
              "17             4  "
            ],
            "text/html": [
              "\n",
              "  <div id=\"df-5799cdd4-a96d-4fd0-b262-2ddc812c73d4\">\n",
              "    <div class=\"colab-df-container\">\n",
              "      <div>\n",
              "<style scoped>\n",
              "    .dataframe tbody tr th:only-of-type {\n",
              "        vertical-align: middle;\n",
              "    }\n",
              "\n",
              "    .dataframe tbody tr th {\n",
              "        vertical-align: top;\n",
              "    }\n",
              "\n",
              "    .dataframe thead th {\n",
              "        text-align: right;\n",
              "    }\n",
              "</style>\n",
              "<table border=\"1\" class=\"dataframe\">\n",
              "  <thead>\n",
              "    <tr style=\"text-align: right;\">\n",
              "      <th></th>\n",
              "      <th>idint</th>\n",
              "      <th>idstr</th>\n",
              "      <th>created</th>\n",
              "      <th>created_datetime</th>\n",
              "      <th>self</th>\n",
              "      <th>nsfw</th>\n",
              "      <th>author</th>\n",
              "      <th>title</th>\n",
              "      <th>lemmas</th>\n",
              "      <th>selftext</th>\n",
              "      <th>score</th>\n",
              "      <th>textlen</th>\n",
              "      <th>num_comments</th>\n",
              "    </tr>\n",
              "  </thead>\n",
              "  <tbody>\n",
              "    <tr>\n",
              "      <th>7</th>\n",
              "      <td>23221158</td>\n",
              "      <td>t3_dtpk6</td>\n",
              "      <td>1287554803</td>\n",
              "      <td>2010-10-20 06:06:43</td>\n",
              "      <td>1</td>\n",
              "      <td>0</td>\n",
              "      <td>[deleted]</td>\n",
              "      <td>I am a recent graduate with no experience in t...</td>\n",
              "      <td>industry experience publishing like enter fiel...</td>\n",
              "      <td>I have no industry experience in publishing, b...</td>\n",
              "      <td>2</td>\n",
              "      <td>1007</td>\n",
              "      <td>5</td>\n",
              "    </tr>\n",
              "    <tr>\n",
              "      <th>12</th>\n",
              "      <td>25888930</td>\n",
              "      <td>t3_few0y</td>\n",
              "      <td>1296782293</td>\n",
              "      <td>2011-02-04 01:18:13</td>\n",
              "      <td>1</td>\n",
              "      <td>0</td>\n",
              "      <td>mostrasho</td>\n",
              "      <td>Help r/publishing! I just got offered a (volun...</td>\n",
              "      <td>editor offered fully aware coming directly col...</td>\n",
              "      <td>The editor who offered it is fully aware that ...</td>\n",
              "      <td>2</td>\n",
              "      <td>1027</td>\n",
              "      <td>2</td>\n",
              "    </tr>\n",
              "    <tr>\n",
              "      <th>17</th>\n",
              "      <td>29705825</td>\n",
              "      <td>t3_hop5t</td>\n",
              "      <td>1306892178</td>\n",
              "      <td>2011-06-01 01:36:18</td>\n",
              "      <td>1</td>\n",
              "      <td>0</td>\n",
              "      <td>YouveBeenOneUpped</td>\n",
              "      <td>Reprints - Are there average costs?</td>\n",
              "      <td>hey short excerpt reprints typically cost prof...</td>\n",
              "      <td>Hey All. How much do short excerpt reprints ty...</td>\n",
              "      <td>2</td>\n",
              "      <td>188</td>\n",
              "      <td>4</td>\n",
              "    </tr>\n",
              "  </tbody>\n",
              "</table>\n",
              "</div>\n",
              "      <button class=\"colab-df-convert\" onclick=\"convertToInteractive('df-5799cdd4-a96d-4fd0-b262-2ddc812c73d4')\"\n",
              "              title=\"Convert this dataframe to an interactive table.\"\n",
              "              style=\"display:none;\">\n",
              "        \n",
              "  <svg xmlns=\"http://www.w3.org/2000/svg\" height=\"24px\"viewBox=\"0 0 24 24\"\n",
              "       width=\"24px\">\n",
              "    <path d=\"M0 0h24v24H0V0z\" fill=\"none\"/>\n",
              "    <path d=\"M18.56 5.44l.94 2.06.94-2.06 2.06-.94-2.06-.94-.94-2.06-.94 2.06-2.06.94zm-11 1L8.5 8.5l.94-2.06 2.06-.94-2.06-.94L8.5 2.5l-.94 2.06-2.06.94zm10 10l.94 2.06.94-2.06 2.06-.94-2.06-.94-.94-2.06-.94 2.06-2.06.94z\"/><path d=\"M17.41 7.96l-1.37-1.37c-.4-.4-.92-.59-1.43-.59-.52 0-1.04.2-1.43.59L10.3 9.45l-7.72 7.72c-.78.78-.78 2.05 0 2.83L4 21.41c.39.39.9.59 1.41.59.51 0 1.02-.2 1.41-.59l7.78-7.78 2.81-2.81c.8-.78.8-2.07 0-2.86zM5.41 20L4 18.59l7.72-7.72 1.47 1.35L5.41 20z\"/>\n",
              "  </svg>\n",
              "      </button>\n",
              "      \n",
              "  <style>\n",
              "    .colab-df-container {\n",
              "      display:flex;\n",
              "      flex-wrap:wrap;\n",
              "      gap: 12px;\n",
              "    }\n",
              "\n",
              "    .colab-df-convert {\n",
              "      background-color: #E8F0FE;\n",
              "      border: none;\n",
              "      border-radius: 50%;\n",
              "      cursor: pointer;\n",
              "      display: none;\n",
              "      fill: #1967D2;\n",
              "      height: 32px;\n",
              "      padding: 0 0 0 0;\n",
              "      width: 32px;\n",
              "    }\n",
              "\n",
              "    .colab-df-convert:hover {\n",
              "      background-color: #E2EBFA;\n",
              "      box-shadow: 0px 1px 2px rgba(60, 64, 67, 0.3), 0px 1px 3px 1px rgba(60, 64, 67, 0.15);\n",
              "      fill: #174EA6;\n",
              "    }\n",
              "\n",
              "    [theme=dark] .colab-df-convert {\n",
              "      background-color: #3B4455;\n",
              "      fill: #D2E3FC;\n",
              "    }\n",
              "\n",
              "    [theme=dark] .colab-df-convert:hover {\n",
              "      background-color: #434B5C;\n",
              "      box-shadow: 0px 1px 3px 1px rgba(0, 0, 0, 0.15);\n",
              "      filter: drop-shadow(0px 1px 2px rgba(0, 0, 0, 0.3));\n",
              "      fill: #FFFFFF;\n",
              "    }\n",
              "  </style>\n",
              "\n",
              "      <script>\n",
              "        const buttonEl =\n",
              "          document.querySelector('#df-5799cdd4-a96d-4fd0-b262-2ddc812c73d4 button.colab-df-convert');\n",
              "        buttonEl.style.display =\n",
              "          google.colab.kernel.accessAllowed ? 'block' : 'none';\n",
              "\n",
              "        async function convertToInteractive(key) {\n",
              "          const element = document.querySelector('#df-5799cdd4-a96d-4fd0-b262-2ddc812c73d4');\n",
              "          const dataTable =\n",
              "            await google.colab.kernel.invokeFunction('convertToInteractive',\n",
              "                                                     [key], {});\n",
              "          if (!dataTable) return;\n",
              "\n",
              "          const docLinkHtml = 'Like what you see? Visit the ' +\n",
              "            '<a target=\"_blank\" href=https://colab.research.google.com/notebooks/data_table.ipynb>data table notebook</a>'\n",
              "            + ' to learn more about interactive tables.';\n",
              "          element.innerHTML = '';\n",
              "          dataTable['output_type'] = 'display_data';\n",
              "          await google.colab.output.renderOutput(dataTable, element);\n",
              "          const docLink = document.createElement('div');\n",
              "          docLink.innerHTML = docLinkHtml;\n",
              "          element.appendChild(docLink);\n",
              "        }\n",
              "      </script>\n",
              "    </div>\n",
              "  </div>\n",
              "  "
            ]
          },
          "metadata": {},
          "execution_count": 52
        }
      ]
    },
    {
      "cell_type": "code",
      "source": [
        "df_2021 = df_posts_noBlanks.loc[pd.DatetimeIndex(df_posts_noBlanks['created_datetime']).year == 2021, :]\n",
        "len(df_2021)"
      ],
      "metadata": {
        "colab": {
          "base_uri": "https://localhost:8080/"
        },
        "id": "LJyfxnv8ZAeL",
        "outputId": "df184d5f-52e2-4a66-93e3-bea7c575d158"
      },
      "execution_count": null,
      "outputs": [
        {
          "output_type": "execute_result",
          "data": {
            "text/plain": [
              "357"
            ]
          },
          "metadata": {},
          "execution_count": 53
        }
      ]
    },
    {
      "cell_type": "code",
      "source": [
        "df_2021.head(3)"
      ],
      "metadata": {
        "colab": {
          "base_uri": "https://localhost:8080/",
          "height": 433
        },
        "id": "8I5_e8XVZAhO",
        "outputId": "88d02bbb-f64b-4c33-e795-626b7fbc1c3c"
      },
      "execution_count": null,
      "outputs": [
        {
          "output_type": "execute_result",
          "data": {
            "text/plain": [
              "           idint      idstr     created    created_datetime  self  nsfw  \\\n",
              "6693  1250620493  t3_kol4y5  1609541832 2021-01-01 22:57:12     1     0   \n",
              "6694  1250719153  t3_kon92p  1609548903 2021-01-02 00:55:03     1     0   \n",
              "6695  1250921426  t3_korl5e  1609565044 2021-01-02 05:24:04     1     0   \n",
              "\n",
              "              author                                              title  \\\n",
              "6693        7777777H  Is publisher likely to remove 'interactive' pa...   \n",
              "6694    jamalbarbari  Want to Traditionally Publish A Short Story An...   \n",
              "6695  simianeditions  How to allow a writer to do Amazon Ads when I'...   \n",
              "\n",
              "                                                 lemmas  \\\n",
              "6693  newbie roughly half kids picture book illustra...   \n",
              "6694  hello lovely writers publishers!its title deta...   \n",
              "6695  small_press prepare design edit distribute boo...   \n",
              "\n",
              "                                               selftext  score  textlen  \\\n",
              "6693  Newbie here. I'm roughly half done with a kids...      2      962   \n",
              "6694  Hello Lovely Writers/Publishers!\\n\\nIts all in...      4     1272   \n",
              "6695  I have a small press. I prepare, design, edit,...      8      700   \n",
              "\n",
              "      num_comments  \n",
              "6693             5  \n",
              "6694            13  \n",
              "6695            18  "
            ],
            "text/html": [
              "\n",
              "  <div id=\"df-4b317669-dba8-4a03-a2fd-e4e445f3bba2\">\n",
              "    <div class=\"colab-df-container\">\n",
              "      <div>\n",
              "<style scoped>\n",
              "    .dataframe tbody tr th:only-of-type {\n",
              "        vertical-align: middle;\n",
              "    }\n",
              "\n",
              "    .dataframe tbody tr th {\n",
              "        vertical-align: top;\n",
              "    }\n",
              "\n",
              "    .dataframe thead th {\n",
              "        text-align: right;\n",
              "    }\n",
              "</style>\n",
              "<table border=\"1\" class=\"dataframe\">\n",
              "  <thead>\n",
              "    <tr style=\"text-align: right;\">\n",
              "      <th></th>\n",
              "      <th>idint</th>\n",
              "      <th>idstr</th>\n",
              "      <th>created</th>\n",
              "      <th>created_datetime</th>\n",
              "      <th>self</th>\n",
              "      <th>nsfw</th>\n",
              "      <th>author</th>\n",
              "      <th>title</th>\n",
              "      <th>lemmas</th>\n",
              "      <th>selftext</th>\n",
              "      <th>score</th>\n",
              "      <th>textlen</th>\n",
              "      <th>num_comments</th>\n",
              "    </tr>\n",
              "  </thead>\n",
              "  <tbody>\n",
              "    <tr>\n",
              "      <th>6693</th>\n",
              "      <td>1250620493</td>\n",
              "      <td>t3_kol4y5</td>\n",
              "      <td>1609541832</td>\n",
              "      <td>2021-01-01 22:57:12</td>\n",
              "      <td>1</td>\n",
              "      <td>0</td>\n",
              "      <td>7777777H</td>\n",
              "      <td>Is publisher likely to remove 'interactive' pa...</td>\n",
              "      <td>newbie roughly half kids picture book illustra...</td>\n",
              "      <td>Newbie here. I'm roughly half done with a kids...</td>\n",
              "      <td>2</td>\n",
              "      <td>962</td>\n",
              "      <td>5</td>\n",
              "    </tr>\n",
              "    <tr>\n",
              "      <th>6694</th>\n",
              "      <td>1250719153</td>\n",
              "      <td>t3_kon92p</td>\n",
              "      <td>1609548903</td>\n",
              "      <td>2021-01-02 00:55:03</td>\n",
              "      <td>1</td>\n",
              "      <td>0</td>\n",
              "      <td>jamalbarbari</td>\n",
              "      <td>Want to Traditionally Publish A Short Story An...</td>\n",
              "      <td>hello lovely writers publishers!its title deta...</td>\n",
              "      <td>Hello Lovely Writers/Publishers!\\n\\nIts all in...</td>\n",
              "      <td>4</td>\n",
              "      <td>1272</td>\n",
              "      <td>13</td>\n",
              "    </tr>\n",
              "    <tr>\n",
              "      <th>6695</th>\n",
              "      <td>1250921426</td>\n",
              "      <td>t3_korl5e</td>\n",
              "      <td>1609565044</td>\n",
              "      <td>2021-01-02 05:24:04</td>\n",
              "      <td>1</td>\n",
              "      <td>0</td>\n",
              "      <td>simianeditions</td>\n",
              "      <td>How to allow a writer to do Amazon Ads when I'...</td>\n",
              "      <td>small_press prepare design edit distribute boo...</td>\n",
              "      <td>I have a small press. I prepare, design, edit,...</td>\n",
              "      <td>8</td>\n",
              "      <td>700</td>\n",
              "      <td>18</td>\n",
              "    </tr>\n",
              "  </tbody>\n",
              "</table>\n",
              "</div>\n",
              "      <button class=\"colab-df-convert\" onclick=\"convertToInteractive('df-4b317669-dba8-4a03-a2fd-e4e445f3bba2')\"\n",
              "              title=\"Convert this dataframe to an interactive table.\"\n",
              "              style=\"display:none;\">\n",
              "        \n",
              "  <svg xmlns=\"http://www.w3.org/2000/svg\" height=\"24px\"viewBox=\"0 0 24 24\"\n",
              "       width=\"24px\">\n",
              "    <path d=\"M0 0h24v24H0V0z\" fill=\"none\"/>\n",
              "    <path d=\"M18.56 5.44l.94 2.06.94-2.06 2.06-.94-2.06-.94-.94-2.06-.94 2.06-2.06.94zm-11 1L8.5 8.5l.94-2.06 2.06-.94-2.06-.94L8.5 2.5l-.94 2.06-2.06.94zm10 10l.94 2.06.94-2.06 2.06-.94-2.06-.94-.94-2.06-.94 2.06-2.06.94z\"/><path d=\"M17.41 7.96l-1.37-1.37c-.4-.4-.92-.59-1.43-.59-.52 0-1.04.2-1.43.59L10.3 9.45l-7.72 7.72c-.78.78-.78 2.05 0 2.83L4 21.41c.39.39.9.59 1.41.59.51 0 1.02-.2 1.41-.59l7.78-7.78 2.81-2.81c.8-.78.8-2.07 0-2.86zM5.41 20L4 18.59l7.72-7.72 1.47 1.35L5.41 20z\"/>\n",
              "  </svg>\n",
              "      </button>\n",
              "      \n",
              "  <style>\n",
              "    .colab-df-container {\n",
              "      display:flex;\n",
              "      flex-wrap:wrap;\n",
              "      gap: 12px;\n",
              "    }\n",
              "\n",
              "    .colab-df-convert {\n",
              "      background-color: #E8F0FE;\n",
              "      border: none;\n",
              "      border-radius: 50%;\n",
              "      cursor: pointer;\n",
              "      display: none;\n",
              "      fill: #1967D2;\n",
              "      height: 32px;\n",
              "      padding: 0 0 0 0;\n",
              "      width: 32px;\n",
              "    }\n",
              "\n",
              "    .colab-df-convert:hover {\n",
              "      background-color: #E2EBFA;\n",
              "      box-shadow: 0px 1px 2px rgba(60, 64, 67, 0.3), 0px 1px 3px 1px rgba(60, 64, 67, 0.15);\n",
              "      fill: #174EA6;\n",
              "    }\n",
              "\n",
              "    [theme=dark] .colab-df-convert {\n",
              "      background-color: #3B4455;\n",
              "      fill: #D2E3FC;\n",
              "    }\n",
              "\n",
              "    [theme=dark] .colab-df-convert:hover {\n",
              "      background-color: #434B5C;\n",
              "      box-shadow: 0px 1px 3px 1px rgba(0, 0, 0, 0.15);\n",
              "      filter: drop-shadow(0px 1px 2px rgba(0, 0, 0, 0.3));\n",
              "      fill: #FFFFFF;\n",
              "    }\n",
              "  </style>\n",
              "\n",
              "      <script>\n",
              "        const buttonEl =\n",
              "          document.querySelector('#df-4b317669-dba8-4a03-a2fd-e4e445f3bba2 button.colab-df-convert');\n",
              "        buttonEl.style.display =\n",
              "          google.colab.kernel.accessAllowed ? 'block' : 'none';\n",
              "\n",
              "        async function convertToInteractive(key) {\n",
              "          const element = document.querySelector('#df-4b317669-dba8-4a03-a2fd-e4e445f3bba2');\n",
              "          const dataTable =\n",
              "            await google.colab.kernel.invokeFunction('convertToInteractive',\n",
              "                                                     [key], {});\n",
              "          if (!dataTable) return;\n",
              "\n",
              "          const docLinkHtml = 'Like what you see? Visit the ' +\n",
              "            '<a target=\"_blank\" href=https://colab.research.google.com/notebooks/data_table.ipynb>data table notebook</a>'\n",
              "            + ' to learn more about interactive tables.';\n",
              "          element.innerHTML = '';\n",
              "          dataTable['output_type'] = 'display_data';\n",
              "          await google.colab.output.renderOutput(dataTable, element);\n",
              "          const docLink = document.createElement('div');\n",
              "          docLink.innerHTML = docLinkHtml;\n",
              "          element.appendChild(docLink);\n",
              "        }\n",
              "      </script>\n",
              "    </div>\n",
              "  </div>\n",
              "  "
            ]
          },
          "metadata": {},
          "execution_count": 54
        }
      ]
    },
    {
      "cell_type": "code",
      "source": [
        "months_array = pd.DatetimeIndex(df_2021['created_datetime']).month_name()\n",
        "months_array"
      ],
      "metadata": {
        "colab": {
          "base_uri": "https://localhost:8080/"
        },
        "id": "xdvmCqVXZh7Z",
        "outputId": "0202bf20-7033-4d46-c963-6657f303b0b6"
      },
      "execution_count": null,
      "outputs": [
        {
          "output_type": "execute_result",
          "data": {
            "text/plain": [
              "Index(['January', 'January', 'January', 'January', 'January', 'January',\n",
              "       'January', 'January', 'January', 'January',\n",
              "       ...\n",
              "       'July', 'July', 'July', 'July', 'July', 'July', 'July', 'July', 'July',\n",
              "       'July'],\n",
              "      dtype='object', name='created_datetime', length=357)"
            ]
          },
          "metadata": {},
          "execution_count": 55
        }
      ]
    },
    {
      "cell_type": "markdown",
      "source": [
        "# Module 2 Notebook 3: Term Frequency-Inverse Document Frequency (TF-IDF)\n",
        "\n"
      ],
      "metadata": {
        "id": "09uj65_yvHam"
      }
    },
    {
      "cell_type": "code",
      "source": [
        "import os\n",
        "import pandas as pd"
      ],
      "metadata": {
        "id": "Exm6LrGxvP-v"
      },
      "execution_count": null,
      "outputs": []
    },
    {
      "cell_type": "code",
      "source": [
        ""
      ],
      "metadata": {
        "id": "x_yAv6uTyJQ9"
      },
      "execution_count": null,
      "outputs": []
    },
    {
      "cell_type": "markdown",
      "source": [
        "from sklearn.feature_extraction.text import CountVectorizer\n",
        "\n",
        "corpus = [\n",
        "  'Find an agent.',\n",
        "  'I work at a publishing house in their marketing department.',\n",
        "  'Yes, send your stuff to agents (no matter what you have done) and they can help you. ']\n",
        "vectorizer = CountVectorizer()\n",
        "X = vectorizer.fit_transform(corpus)\n",
        "pd.DataFrame(X.toarray(), columns=vectorizer.get_feature_names_out())\n",
        "# Use this if your scikit-learn is older\n",
        "# pd.DataFrame(X.toarray(), columns=vectorizer.get_feature_names())"
      ],
      "metadata": {
        "id": "UjH1yx9Ovjps"
      }
    }
  ]
}