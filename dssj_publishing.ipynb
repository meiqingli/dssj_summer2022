{
  "cells": [
    {
      "cell_type": "markdown",
      "metadata": {
        "id": "view-in-github",
        "colab_type": "text"
      },
      "source": [
        "<a href=\"https://colab.research.google.com/github/meiqingli/dssj_summer2022/blob/main/dssj_publishing.ipynb\" target=\"_parent\"><img src=\"https://colab.research.google.com/assets/colab-badge.svg\" alt=\"Open In Colab\"/></a>"
      ]
    },
    {
      "cell_type": "markdown",
      "metadata": {
        "id": "KpvRONF5PbqV"
      },
      "source": [
        "## Data preprocessing (based on module 02 notebook 1)"
      ]
    },
    {
      "cell_type": "code",
      "execution_count": null,
      "metadata": {
        "id": "1R5psFxhrtw0"
      },
      "outputs": [],
      "source": [
        "# Imports pandas for working with csv data\n",
        "import pandas as pd \n",
        "\n",
        "# Github url with comments data\n",
        "url_comments = 'https://gist.githubusercontent.com/meiqingli/5d83de4c508a0564359b2dd07c6839b1/raw/a83a44b0a85ac8ccc10f717495ff6a85c2f93878/comments.csv'\n",
        "\n",
        "# Github url with post data\n",
        "url_posts = 'https://gist.githubusercontent.com/meiqingli/2d128e1cac170d71b3820c51c6c3766e/raw/5be159378011713f1daaca4d683bb6875d11f61f/submissions.csv'\n",
        "\n",
        "# Reads the csv comments file from github\n",
        "df_comments = pd.read_csv(url_comments)\n",
        "\n",
        "# Reads the csv posts file from github\n",
        "df_posts = pd.read_csv(url_posts)"
      ]
    },
    {
      "cell_type": "code",
      "execution_count": null,
      "metadata": {
        "colab": {
          "base_uri": "https://localhost:8080/"
        },
        "id": "aQojv1uftKwL",
        "outputId": "48f96aec-c9f4-4a2b-e88b-0586f9b7bfaf"
      },
      "outputs": [
        {
          "output_type": "execute_result",
          "data": {
            "text/plain": [
              "(19538, 11)"
            ]
          },
          "metadata": {},
          "execution_count": 2
        }
      ],
      "source": [
        "# Tells us about the general shape of the dfs\n",
        "df_comments.shape"
      ]
    },
    {
      "cell_type": "code",
      "execution_count": null,
      "metadata": {
        "colab": {
          "base_uri": "https://localhost:8080/"
        },
        "id": "t6x1n3ZTwjL3",
        "outputId": "915ac5d4-a3ae-4a77-eebb-1d4dfc37f41b"
      },
      "outputs": [
        {
          "output_type": "execute_result",
          "data": {
            "text/plain": [
              "(7330, 18)"
            ]
          },
          "metadata": {},
          "execution_count": 3
        }
      ],
      "source": [
        "df_posts.shape"
      ]
    },
    {
      "cell_type": "code",
      "execution_count": null,
      "metadata": {
        "colab": {
          "base_uri": "https://localhost:8080/",
          "height": 143
        },
        "id": "2fywUrzTtIeG",
        "outputId": "7ea6cb32-d699-4e2c-9c95-19017cce2138"
      },
      "outputs": [
        {
          "output_type": "execute_result",
          "data": {
            "text/plain": [
              "         idint       idstr     created         author      parent submission  \\\n",
              "0  26160907768  t1_c0nj1mg  1270490234    judycullins    t3_bmr3z   t3_bmr3z   \n",
              "1  26186732829  t1_c12wkd9  1287609142  inigo_montoya    t3_dtpk6   t3_dtpk6   \n",
              "2  26186750085  t1_c12wxol  1287615269      [deleted]  t1_c12wkd9   t3_dtpk6   \n",
              "\n",
              "                                                body  score   subreddit  \\\n",
              "0  8 great tips to start marketing your book onli...      1  publishing   \n",
              "1  I think it's extremely hard to find a salaried...      1  publishing   \n",
              "2  Honestly, I think I would be very happy either...      1  publishing   \n",
              "\n",
              "  distinguish  textlen  \n",
              "0         NaN       68  \n",
              "1         NaN      407  \n",
              "2         NaN      570  "
            ],
            "text/html": [
              "\n",
              "  <div id=\"df-9cdbacb3-56f7-4034-928b-5d8509e8f80a\">\n",
              "    <div class=\"colab-df-container\">\n",
              "      <div>\n",
              "<style scoped>\n",
              "    .dataframe tbody tr th:only-of-type {\n",
              "        vertical-align: middle;\n",
              "    }\n",
              "\n",
              "    .dataframe tbody tr th {\n",
              "        vertical-align: top;\n",
              "    }\n",
              "\n",
              "    .dataframe thead th {\n",
              "        text-align: right;\n",
              "    }\n",
              "</style>\n",
              "<table border=\"1\" class=\"dataframe\">\n",
              "  <thead>\n",
              "    <tr style=\"text-align: right;\">\n",
              "      <th></th>\n",
              "      <th>idint</th>\n",
              "      <th>idstr</th>\n",
              "      <th>created</th>\n",
              "      <th>author</th>\n",
              "      <th>parent</th>\n",
              "      <th>submission</th>\n",
              "      <th>body</th>\n",
              "      <th>score</th>\n",
              "      <th>subreddit</th>\n",
              "      <th>distinguish</th>\n",
              "      <th>textlen</th>\n",
              "    </tr>\n",
              "  </thead>\n",
              "  <tbody>\n",
              "    <tr>\n",
              "      <th>0</th>\n",
              "      <td>26160907768</td>\n",
              "      <td>t1_c0nj1mg</td>\n",
              "      <td>1270490234</td>\n",
              "      <td>judycullins</td>\n",
              "      <td>t3_bmr3z</td>\n",
              "      <td>t3_bmr3z</td>\n",
              "      <td>8 great tips to start marketing your book onli...</td>\n",
              "      <td>1</td>\n",
              "      <td>publishing</td>\n",
              "      <td>NaN</td>\n",
              "      <td>68</td>\n",
              "    </tr>\n",
              "    <tr>\n",
              "      <th>1</th>\n",
              "      <td>26186732829</td>\n",
              "      <td>t1_c12wkd9</td>\n",
              "      <td>1287609142</td>\n",
              "      <td>inigo_montoya</td>\n",
              "      <td>t3_dtpk6</td>\n",
              "      <td>t3_dtpk6</td>\n",
              "      <td>I think it's extremely hard to find a salaried...</td>\n",
              "      <td>1</td>\n",
              "      <td>publishing</td>\n",
              "      <td>NaN</td>\n",
              "      <td>407</td>\n",
              "    </tr>\n",
              "    <tr>\n",
              "      <th>2</th>\n",
              "      <td>26186750085</td>\n",
              "      <td>t1_c12wxol</td>\n",
              "      <td>1287615269</td>\n",
              "      <td>[deleted]</td>\n",
              "      <td>t1_c12wkd9</td>\n",
              "      <td>t3_dtpk6</td>\n",
              "      <td>Honestly, I think I would be very happy either...</td>\n",
              "      <td>1</td>\n",
              "      <td>publishing</td>\n",
              "      <td>NaN</td>\n",
              "      <td>570</td>\n",
              "    </tr>\n",
              "  </tbody>\n",
              "</table>\n",
              "</div>\n",
              "      <button class=\"colab-df-convert\" onclick=\"convertToInteractive('df-9cdbacb3-56f7-4034-928b-5d8509e8f80a')\"\n",
              "              title=\"Convert this dataframe to an interactive table.\"\n",
              "              style=\"display:none;\">\n",
              "        \n",
              "  <svg xmlns=\"http://www.w3.org/2000/svg\" height=\"24px\"viewBox=\"0 0 24 24\"\n",
              "       width=\"24px\">\n",
              "    <path d=\"M0 0h24v24H0V0z\" fill=\"none\"/>\n",
              "    <path d=\"M18.56 5.44l.94 2.06.94-2.06 2.06-.94-2.06-.94-.94-2.06-.94 2.06-2.06.94zm-11 1L8.5 8.5l.94-2.06 2.06-.94-2.06-.94L8.5 2.5l-.94 2.06-2.06.94zm10 10l.94 2.06.94-2.06 2.06-.94-2.06-.94-.94-2.06-.94 2.06-2.06.94z\"/><path d=\"M17.41 7.96l-1.37-1.37c-.4-.4-.92-.59-1.43-.59-.52 0-1.04.2-1.43.59L10.3 9.45l-7.72 7.72c-.78.78-.78 2.05 0 2.83L4 21.41c.39.39.9.59 1.41.59.51 0 1.02-.2 1.41-.59l7.78-7.78 2.81-2.81c.8-.78.8-2.07 0-2.86zM5.41 20L4 18.59l7.72-7.72 1.47 1.35L5.41 20z\"/>\n",
              "  </svg>\n",
              "      </button>\n",
              "      \n",
              "  <style>\n",
              "    .colab-df-container {\n",
              "      display:flex;\n",
              "      flex-wrap:wrap;\n",
              "      gap: 12px;\n",
              "    }\n",
              "\n",
              "    .colab-df-convert {\n",
              "      background-color: #E8F0FE;\n",
              "      border: none;\n",
              "      border-radius: 50%;\n",
              "      cursor: pointer;\n",
              "      display: none;\n",
              "      fill: #1967D2;\n",
              "      height: 32px;\n",
              "      padding: 0 0 0 0;\n",
              "      width: 32px;\n",
              "    }\n",
              "\n",
              "    .colab-df-convert:hover {\n",
              "      background-color: #E2EBFA;\n",
              "      box-shadow: 0px 1px 2px rgba(60, 64, 67, 0.3), 0px 1px 3px 1px rgba(60, 64, 67, 0.15);\n",
              "      fill: #174EA6;\n",
              "    }\n",
              "\n",
              "    [theme=dark] .colab-df-convert {\n",
              "      background-color: #3B4455;\n",
              "      fill: #D2E3FC;\n",
              "    }\n",
              "\n",
              "    [theme=dark] .colab-df-convert:hover {\n",
              "      background-color: #434B5C;\n",
              "      box-shadow: 0px 1px 3px 1px rgba(0, 0, 0, 0.15);\n",
              "      filter: drop-shadow(0px 1px 2px rgba(0, 0, 0, 0.3));\n",
              "      fill: #FFFFFF;\n",
              "    }\n",
              "  </style>\n",
              "\n",
              "      <script>\n",
              "        const buttonEl =\n",
              "          document.querySelector('#df-9cdbacb3-56f7-4034-928b-5d8509e8f80a button.colab-df-convert');\n",
              "        buttonEl.style.display =\n",
              "          google.colab.kernel.accessAllowed ? 'block' : 'none';\n",
              "\n",
              "        async function convertToInteractive(key) {\n",
              "          const element = document.querySelector('#df-9cdbacb3-56f7-4034-928b-5d8509e8f80a');\n",
              "          const dataTable =\n",
              "            await google.colab.kernel.invokeFunction('convertToInteractive',\n",
              "                                                     [key], {});\n",
              "          if (!dataTable) return;\n",
              "\n",
              "          const docLinkHtml = 'Like what you see? Visit the ' +\n",
              "            '<a target=\"_blank\" href=https://colab.research.google.com/notebooks/data_table.ipynb>data table notebook</a>'\n",
              "            + ' to learn more about interactive tables.';\n",
              "          element.innerHTML = '';\n",
              "          dataTable['output_type'] = 'display_data';\n",
              "          await google.colab.output.renderOutput(dataTable, element);\n",
              "          const docLink = document.createElement('div');\n",
              "          docLink.innerHTML = docLinkHtml;\n",
              "          element.appendChild(docLink);\n",
              "        }\n",
              "      </script>\n",
              "    </div>\n",
              "  </div>\n",
              "  "
            ]
          },
          "metadata": {},
          "execution_count": 4
        }
      ],
      "source": [
        "# Shows us the first 3 rows in the dfs\n",
        "df_comments.head(3)"
      ]
    },
    {
      "cell_type": "code",
      "execution_count": null,
      "metadata": {
        "colab": {
          "base_uri": "https://localhost:8080/",
          "height": 326
        },
        "id": "Y3sLRLW3wmoL",
        "outputId": "c8dfc30e-6210-493e-d881-8575c388c742"
      },
      "outputs": [
        {
          "output_type": "execute_result",
          "data": {
            "text/plain": [
              "      idint     idstr     created  self  nsfw      author  \\\n",
              "0  12378361  t3_7db7d  1226647810     0     0    soulajax   \n",
              "1  16624895  t3_9wbun  1256143924     0     0  bookmarked   \n",
              "2  17431958  t3_adml2  1260547827     0     0  bookmarked   \n",
              "\n",
              "                                               title  \\\n",
              "0                          Do-It-Yourself Book Press   \n",
              "1  Blending the Old with the New: Backlist Titles...   \n",
              "2                           A Little Something Extra   \n",
              "\n",
              "                                                 url selftext  score  \\\n",
              "0  http://nomediakings.org/doityourself/doityours...      NaN      1   \n",
              "1  http://www.thomasriggs.net/blog/index.php/2009...      NaN      1   \n",
              "2  http://www.thomasriggs.net/blog/index.php/2009...      NaN      1   \n",
              "\n",
              "    subreddit distinguish  textlen  num_comments flair_text  flair_css_class  \\\n",
              "0  publishing         NaN        0             0        NaN              NaN   \n",
              "1  publishing         NaN        0             0        NaN              NaN   \n",
              "2  publishing         NaN        0             0        NaN              NaN   \n",
              "\n",
              "   augmented_at  augmented_count  \n",
              "0           NaN              NaN  \n",
              "1           NaN              NaN  \n",
              "2           NaN              NaN  "
            ],
            "text/html": [
              "\n",
              "  <div id=\"df-d7789035-ac7e-4050-b806-b80ceca68039\">\n",
              "    <div class=\"colab-df-container\">\n",
              "      <div>\n",
              "<style scoped>\n",
              "    .dataframe tbody tr th:only-of-type {\n",
              "        vertical-align: middle;\n",
              "    }\n",
              "\n",
              "    .dataframe tbody tr th {\n",
              "        vertical-align: top;\n",
              "    }\n",
              "\n",
              "    .dataframe thead th {\n",
              "        text-align: right;\n",
              "    }\n",
              "</style>\n",
              "<table border=\"1\" class=\"dataframe\">\n",
              "  <thead>\n",
              "    <tr style=\"text-align: right;\">\n",
              "      <th></th>\n",
              "      <th>idint</th>\n",
              "      <th>idstr</th>\n",
              "      <th>created</th>\n",
              "      <th>self</th>\n",
              "      <th>nsfw</th>\n",
              "      <th>author</th>\n",
              "      <th>title</th>\n",
              "      <th>url</th>\n",
              "      <th>selftext</th>\n",
              "      <th>score</th>\n",
              "      <th>subreddit</th>\n",
              "      <th>distinguish</th>\n",
              "      <th>textlen</th>\n",
              "      <th>num_comments</th>\n",
              "      <th>flair_text</th>\n",
              "      <th>flair_css_class</th>\n",
              "      <th>augmented_at</th>\n",
              "      <th>augmented_count</th>\n",
              "    </tr>\n",
              "  </thead>\n",
              "  <tbody>\n",
              "    <tr>\n",
              "      <th>0</th>\n",
              "      <td>12378361</td>\n",
              "      <td>t3_7db7d</td>\n",
              "      <td>1226647810</td>\n",
              "      <td>0</td>\n",
              "      <td>0</td>\n",
              "      <td>soulajax</td>\n",
              "      <td>Do-It-Yourself Book Press</td>\n",
              "      <td>http://nomediakings.org/doityourself/doityours...</td>\n",
              "      <td>NaN</td>\n",
              "      <td>1</td>\n",
              "      <td>publishing</td>\n",
              "      <td>NaN</td>\n",
              "      <td>0</td>\n",
              "      <td>0</td>\n",
              "      <td>NaN</td>\n",
              "      <td>NaN</td>\n",
              "      <td>NaN</td>\n",
              "      <td>NaN</td>\n",
              "    </tr>\n",
              "    <tr>\n",
              "      <th>1</th>\n",
              "      <td>16624895</td>\n",
              "      <td>t3_9wbun</td>\n",
              "      <td>1256143924</td>\n",
              "      <td>0</td>\n",
              "      <td>0</td>\n",
              "      <td>bookmarked</td>\n",
              "      <td>Blending the Old with the New: Backlist Titles...</td>\n",
              "      <td>http://www.thomasriggs.net/blog/index.php/2009...</td>\n",
              "      <td>NaN</td>\n",
              "      <td>1</td>\n",
              "      <td>publishing</td>\n",
              "      <td>NaN</td>\n",
              "      <td>0</td>\n",
              "      <td>0</td>\n",
              "      <td>NaN</td>\n",
              "      <td>NaN</td>\n",
              "      <td>NaN</td>\n",
              "      <td>NaN</td>\n",
              "    </tr>\n",
              "    <tr>\n",
              "      <th>2</th>\n",
              "      <td>17431958</td>\n",
              "      <td>t3_adml2</td>\n",
              "      <td>1260547827</td>\n",
              "      <td>0</td>\n",
              "      <td>0</td>\n",
              "      <td>bookmarked</td>\n",
              "      <td>A Little Something Extra</td>\n",
              "      <td>http://www.thomasriggs.net/blog/index.php/2009...</td>\n",
              "      <td>NaN</td>\n",
              "      <td>1</td>\n",
              "      <td>publishing</td>\n",
              "      <td>NaN</td>\n",
              "      <td>0</td>\n",
              "      <td>0</td>\n",
              "      <td>NaN</td>\n",
              "      <td>NaN</td>\n",
              "      <td>NaN</td>\n",
              "      <td>NaN</td>\n",
              "    </tr>\n",
              "  </tbody>\n",
              "</table>\n",
              "</div>\n",
              "      <button class=\"colab-df-convert\" onclick=\"convertToInteractive('df-d7789035-ac7e-4050-b806-b80ceca68039')\"\n",
              "              title=\"Convert this dataframe to an interactive table.\"\n",
              "              style=\"display:none;\">\n",
              "        \n",
              "  <svg xmlns=\"http://www.w3.org/2000/svg\" height=\"24px\"viewBox=\"0 0 24 24\"\n",
              "       width=\"24px\">\n",
              "    <path d=\"M0 0h24v24H0V0z\" fill=\"none\"/>\n",
              "    <path d=\"M18.56 5.44l.94 2.06.94-2.06 2.06-.94-2.06-.94-.94-2.06-.94 2.06-2.06.94zm-11 1L8.5 8.5l.94-2.06 2.06-.94-2.06-.94L8.5 2.5l-.94 2.06-2.06.94zm10 10l.94 2.06.94-2.06 2.06-.94-2.06-.94-.94-2.06-.94 2.06-2.06.94z\"/><path d=\"M17.41 7.96l-1.37-1.37c-.4-.4-.92-.59-1.43-.59-.52 0-1.04.2-1.43.59L10.3 9.45l-7.72 7.72c-.78.78-.78 2.05 0 2.83L4 21.41c.39.39.9.59 1.41.59.51 0 1.02-.2 1.41-.59l7.78-7.78 2.81-2.81c.8-.78.8-2.07 0-2.86zM5.41 20L4 18.59l7.72-7.72 1.47 1.35L5.41 20z\"/>\n",
              "  </svg>\n",
              "      </button>\n",
              "      \n",
              "  <style>\n",
              "    .colab-df-container {\n",
              "      display:flex;\n",
              "      flex-wrap:wrap;\n",
              "      gap: 12px;\n",
              "    }\n",
              "\n",
              "    .colab-df-convert {\n",
              "      background-color: #E8F0FE;\n",
              "      border: none;\n",
              "      border-radius: 50%;\n",
              "      cursor: pointer;\n",
              "      display: none;\n",
              "      fill: #1967D2;\n",
              "      height: 32px;\n",
              "      padding: 0 0 0 0;\n",
              "      width: 32px;\n",
              "    }\n",
              "\n",
              "    .colab-df-convert:hover {\n",
              "      background-color: #E2EBFA;\n",
              "      box-shadow: 0px 1px 2px rgba(60, 64, 67, 0.3), 0px 1px 3px 1px rgba(60, 64, 67, 0.15);\n",
              "      fill: #174EA6;\n",
              "    }\n",
              "\n",
              "    [theme=dark] .colab-df-convert {\n",
              "      background-color: #3B4455;\n",
              "      fill: #D2E3FC;\n",
              "    }\n",
              "\n",
              "    [theme=dark] .colab-df-convert:hover {\n",
              "      background-color: #434B5C;\n",
              "      box-shadow: 0px 1px 3px 1px rgba(0, 0, 0, 0.15);\n",
              "      filter: drop-shadow(0px 1px 2px rgba(0, 0, 0, 0.3));\n",
              "      fill: #FFFFFF;\n",
              "    }\n",
              "  </style>\n",
              "\n",
              "      <script>\n",
              "        const buttonEl =\n",
              "          document.querySelector('#df-d7789035-ac7e-4050-b806-b80ceca68039 button.colab-df-convert');\n",
              "        buttonEl.style.display =\n",
              "          google.colab.kernel.accessAllowed ? 'block' : 'none';\n",
              "\n",
              "        async function convertToInteractive(key) {\n",
              "          const element = document.querySelector('#df-d7789035-ac7e-4050-b806-b80ceca68039');\n",
              "          const dataTable =\n",
              "            await google.colab.kernel.invokeFunction('convertToInteractive',\n",
              "                                                     [key], {});\n",
              "          if (!dataTable) return;\n",
              "\n",
              "          const docLinkHtml = 'Like what you see? Visit the ' +\n",
              "            '<a target=\"_blank\" href=https://colab.research.google.com/notebooks/data_table.ipynb>data table notebook</a>'\n",
              "            + ' to learn more about interactive tables.';\n",
              "          element.innerHTML = '';\n",
              "          dataTable['output_type'] = 'display_data';\n",
              "          await google.colab.output.renderOutput(dataTable, element);\n",
              "          const docLink = document.createElement('div');\n",
              "          docLink.innerHTML = docLinkHtml;\n",
              "          element.appendChild(docLink);\n",
              "        }\n",
              "      </script>\n",
              "    </div>\n",
              "  </div>\n",
              "  "
            ]
          },
          "metadata": {},
          "execution_count": 5
        }
      ],
      "source": [
        "df_posts.head(3)"
      ]
    },
    {
      "cell_type": "code",
      "execution_count": null,
      "metadata": {
        "colab": {
          "base_uri": "https://localhost:8080/"
        },
        "id": "Azf5xhqvtSWp",
        "outputId": "ffeaadc2-02f3-4f57-cabf-15a33725dfa3"
      },
      "outputs": [
        {
          "output_type": "execute_result",
          "data": {
            "text/plain": [
              "['idint',\n",
              " 'idstr',\n",
              " 'created',\n",
              " 'author',\n",
              " 'parent',\n",
              " 'submission',\n",
              " 'body',\n",
              " 'score',\n",
              " 'subreddit',\n",
              " 'distinguish',\n",
              " 'textlen']"
            ]
          },
          "metadata": {},
          "execution_count": 6
        }
      ],
      "source": [
        "# Allows us to see which columns our dfs have\n",
        "list(df_comments)"
      ]
    },
    {
      "cell_type": "code",
      "execution_count": null,
      "metadata": {
        "colab": {
          "base_uri": "https://localhost:8080/"
        },
        "id": "5xkCAWHNwtSN",
        "outputId": "8d1fb034-803a-42e5-d603-d4b605522f50"
      },
      "outputs": [
        {
          "output_type": "execute_result",
          "data": {
            "text/plain": [
              "['idint',\n",
              " 'idstr',\n",
              " 'created',\n",
              " 'self',\n",
              " 'nsfw',\n",
              " 'author',\n",
              " 'title',\n",
              " 'url',\n",
              " 'selftext',\n",
              " 'score',\n",
              " 'subreddit',\n",
              " 'distinguish',\n",
              " 'textlen',\n",
              " 'num_comments',\n",
              " 'flair_text',\n",
              " 'flair_css_class',\n",
              " 'augmented_at',\n",
              " 'augmented_count']"
            ]
          },
          "metadata": {},
          "execution_count": 7
        }
      ],
      "source": [
        "list(df_posts)"
      ]
    },
    {
      "cell_type": "code",
      "execution_count": null,
      "metadata": {
        "id": "UFoPmw4vtajN"
      },
      "outputs": [],
      "source": [
        "# Drops less useful columns from our dfs\n",
        "# Made new dfs rather than overwriting the originals in case people have different thoughts about what to drop\n",
        "# 'distinguish' column identifies whether the poster is a moderator, which is potentially interesting, but it's almost always empty so I dropped it\n",
        "df_comments_short = df_comments.drop(['subreddit', 'distinguish'], axis=1)"
      ]
    },
    {
      "cell_type": "code",
      "execution_count": null,
      "metadata": {
        "id": "Kx0E2Kr_v9OF"
      },
      "outputs": [],
      "source": [
        "df_posts_short = df_posts.drop(['subreddit', 'url', 'distinguish', 'flair_text', 'flair_css_class', 'augmented_at', 'augmented_count'], axis=1)"
      ]
    },
    {
      "cell_type": "code",
      "execution_count": null,
      "metadata": {
        "colab": {
          "base_uri": "https://localhost:8080/",
          "height": 143
        },
        "id": "6CP5neKry4q3",
        "outputId": "03f35b1c-fe55-48ec-b527-c80bd3b69288"
      },
      "outputs": [
        {
          "output_type": "execute_result",
          "data": {
            "text/plain": [
              "         idint       idstr     created         author      parent submission  \\\n",
              "0  26160907768  t1_c0nj1mg  1270490234    judycullins    t3_bmr3z   t3_bmr3z   \n",
              "1  26186732829  t1_c12wkd9  1287609142  inigo_montoya    t3_dtpk6   t3_dtpk6   \n",
              "2  26186750085  t1_c12wxol  1287615269      [deleted]  t1_c12wkd9   t3_dtpk6   \n",
              "\n",
              "                                                body  score  textlen  \n",
              "0  8 great tips to start marketing your book onli...      1       68  \n",
              "1  I think it's extremely hard to find a salaried...      1      407  \n",
              "2  Honestly, I think I would be very happy either...      1      570  "
            ],
            "text/html": [
              "\n",
              "  <div id=\"df-a6936d09-0b69-4c1d-b779-92029b876cd6\">\n",
              "    <div class=\"colab-df-container\">\n",
              "      <div>\n",
              "<style scoped>\n",
              "    .dataframe tbody tr th:only-of-type {\n",
              "        vertical-align: middle;\n",
              "    }\n",
              "\n",
              "    .dataframe tbody tr th {\n",
              "        vertical-align: top;\n",
              "    }\n",
              "\n",
              "    .dataframe thead th {\n",
              "        text-align: right;\n",
              "    }\n",
              "</style>\n",
              "<table border=\"1\" class=\"dataframe\">\n",
              "  <thead>\n",
              "    <tr style=\"text-align: right;\">\n",
              "      <th></th>\n",
              "      <th>idint</th>\n",
              "      <th>idstr</th>\n",
              "      <th>created</th>\n",
              "      <th>author</th>\n",
              "      <th>parent</th>\n",
              "      <th>submission</th>\n",
              "      <th>body</th>\n",
              "      <th>score</th>\n",
              "      <th>textlen</th>\n",
              "    </tr>\n",
              "  </thead>\n",
              "  <tbody>\n",
              "    <tr>\n",
              "      <th>0</th>\n",
              "      <td>26160907768</td>\n",
              "      <td>t1_c0nj1mg</td>\n",
              "      <td>1270490234</td>\n",
              "      <td>judycullins</td>\n",
              "      <td>t3_bmr3z</td>\n",
              "      <td>t3_bmr3z</td>\n",
              "      <td>8 great tips to start marketing your book onli...</td>\n",
              "      <td>1</td>\n",
              "      <td>68</td>\n",
              "    </tr>\n",
              "    <tr>\n",
              "      <th>1</th>\n",
              "      <td>26186732829</td>\n",
              "      <td>t1_c12wkd9</td>\n",
              "      <td>1287609142</td>\n",
              "      <td>inigo_montoya</td>\n",
              "      <td>t3_dtpk6</td>\n",
              "      <td>t3_dtpk6</td>\n",
              "      <td>I think it's extremely hard to find a salaried...</td>\n",
              "      <td>1</td>\n",
              "      <td>407</td>\n",
              "    </tr>\n",
              "    <tr>\n",
              "      <th>2</th>\n",
              "      <td>26186750085</td>\n",
              "      <td>t1_c12wxol</td>\n",
              "      <td>1287615269</td>\n",
              "      <td>[deleted]</td>\n",
              "      <td>t1_c12wkd9</td>\n",
              "      <td>t3_dtpk6</td>\n",
              "      <td>Honestly, I think I would be very happy either...</td>\n",
              "      <td>1</td>\n",
              "      <td>570</td>\n",
              "    </tr>\n",
              "  </tbody>\n",
              "</table>\n",
              "</div>\n",
              "      <button class=\"colab-df-convert\" onclick=\"convertToInteractive('df-a6936d09-0b69-4c1d-b779-92029b876cd6')\"\n",
              "              title=\"Convert this dataframe to an interactive table.\"\n",
              "              style=\"display:none;\">\n",
              "        \n",
              "  <svg xmlns=\"http://www.w3.org/2000/svg\" height=\"24px\"viewBox=\"0 0 24 24\"\n",
              "       width=\"24px\">\n",
              "    <path d=\"M0 0h24v24H0V0z\" fill=\"none\"/>\n",
              "    <path d=\"M18.56 5.44l.94 2.06.94-2.06 2.06-.94-2.06-.94-.94-2.06-.94 2.06-2.06.94zm-11 1L8.5 8.5l.94-2.06 2.06-.94-2.06-.94L8.5 2.5l-.94 2.06-2.06.94zm10 10l.94 2.06.94-2.06 2.06-.94-2.06-.94-.94-2.06-.94 2.06-2.06.94z\"/><path d=\"M17.41 7.96l-1.37-1.37c-.4-.4-.92-.59-1.43-.59-.52 0-1.04.2-1.43.59L10.3 9.45l-7.72 7.72c-.78.78-.78 2.05 0 2.83L4 21.41c.39.39.9.59 1.41.59.51 0 1.02-.2 1.41-.59l7.78-7.78 2.81-2.81c.8-.78.8-2.07 0-2.86zM5.41 20L4 18.59l7.72-7.72 1.47 1.35L5.41 20z\"/>\n",
              "  </svg>\n",
              "      </button>\n",
              "      \n",
              "  <style>\n",
              "    .colab-df-container {\n",
              "      display:flex;\n",
              "      flex-wrap:wrap;\n",
              "      gap: 12px;\n",
              "    }\n",
              "\n",
              "    .colab-df-convert {\n",
              "      background-color: #E8F0FE;\n",
              "      border: none;\n",
              "      border-radius: 50%;\n",
              "      cursor: pointer;\n",
              "      display: none;\n",
              "      fill: #1967D2;\n",
              "      height: 32px;\n",
              "      padding: 0 0 0 0;\n",
              "      width: 32px;\n",
              "    }\n",
              "\n",
              "    .colab-df-convert:hover {\n",
              "      background-color: #E2EBFA;\n",
              "      box-shadow: 0px 1px 2px rgba(60, 64, 67, 0.3), 0px 1px 3px 1px rgba(60, 64, 67, 0.15);\n",
              "      fill: #174EA6;\n",
              "    }\n",
              "\n",
              "    [theme=dark] .colab-df-convert {\n",
              "      background-color: #3B4455;\n",
              "      fill: #D2E3FC;\n",
              "    }\n",
              "\n",
              "    [theme=dark] .colab-df-convert:hover {\n",
              "      background-color: #434B5C;\n",
              "      box-shadow: 0px 1px 3px 1px rgba(0, 0, 0, 0.15);\n",
              "      filter: drop-shadow(0px 1px 2px rgba(0, 0, 0, 0.3));\n",
              "      fill: #FFFFFF;\n",
              "    }\n",
              "  </style>\n",
              "\n",
              "      <script>\n",
              "        const buttonEl =\n",
              "          document.querySelector('#df-a6936d09-0b69-4c1d-b779-92029b876cd6 button.colab-df-convert');\n",
              "        buttonEl.style.display =\n",
              "          google.colab.kernel.accessAllowed ? 'block' : 'none';\n",
              "\n",
              "        async function convertToInteractive(key) {\n",
              "          const element = document.querySelector('#df-a6936d09-0b69-4c1d-b779-92029b876cd6');\n",
              "          const dataTable =\n",
              "            await google.colab.kernel.invokeFunction('convertToInteractive',\n",
              "                                                     [key], {});\n",
              "          if (!dataTable) return;\n",
              "\n",
              "          const docLinkHtml = 'Like what you see? Visit the ' +\n",
              "            '<a target=\"_blank\" href=https://colab.research.google.com/notebooks/data_table.ipynb>data table notebook</a>'\n",
              "            + ' to learn more about interactive tables.';\n",
              "          element.innerHTML = '';\n",
              "          dataTable['output_type'] = 'display_data';\n",
              "          await google.colab.output.renderOutput(dataTable, element);\n",
              "          const docLink = document.createElement('div');\n",
              "          docLink.innerHTML = docLinkHtml;\n",
              "          element.appendChild(docLink);\n",
              "        }\n",
              "      </script>\n",
              "    </div>\n",
              "  </div>\n",
              "  "
            ]
          },
          "metadata": {},
          "execution_count": 10
        }
      ],
      "source": [
        "# To visualize the new dfs\n",
        "df_comments_short.head(3)"
      ]
    },
    {
      "cell_type": "code",
      "execution_count": null,
      "metadata": {
        "colab": {
          "base_uri": "https://localhost:8080/"
        },
        "id": "16irkle2zplQ",
        "outputId": "3077f078-6447-4195-e0c2-3f19f5dc90f6"
      },
      "outputs": [
        {
          "output_type": "execute_result",
          "data": {
            "text/plain": [
              "(19538, 9)"
            ]
          },
          "metadata": {},
          "execution_count": 11
        }
      ],
      "source": [
        "df_comments_short.shape"
      ]
    },
    {
      "cell_type": "code",
      "execution_count": null,
      "metadata": {
        "colab": {
          "base_uri": "https://localhost:8080/",
          "height": 143
        },
        "id": "3Kd_16vSzR54",
        "outputId": "bcab9e9b-924b-434a-9e1c-2361f3b75e5e"
      },
      "outputs": [
        {
          "output_type": "execute_result",
          "data": {
            "text/plain": [
              "      idint     idstr     created  self  nsfw      author  \\\n",
              "0  12378361  t3_7db7d  1226647810     0     0    soulajax   \n",
              "1  16624895  t3_9wbun  1256143924     0     0  bookmarked   \n",
              "2  17431958  t3_adml2  1260547827     0     0  bookmarked   \n",
              "\n",
              "                                               title selftext  score  textlen  \\\n",
              "0                          Do-It-Yourself Book Press      NaN      1        0   \n",
              "1  Blending the Old with the New: Backlist Titles...      NaN      1        0   \n",
              "2                           A Little Something Extra      NaN      1        0   \n",
              "\n",
              "   num_comments  \n",
              "0             0  \n",
              "1             0  \n",
              "2             0  "
            ],
            "text/html": [
              "\n",
              "  <div id=\"df-8462aebb-f08e-4718-a192-ed7c89df7572\">\n",
              "    <div class=\"colab-df-container\">\n",
              "      <div>\n",
              "<style scoped>\n",
              "    .dataframe tbody tr th:only-of-type {\n",
              "        vertical-align: middle;\n",
              "    }\n",
              "\n",
              "    .dataframe tbody tr th {\n",
              "        vertical-align: top;\n",
              "    }\n",
              "\n",
              "    .dataframe thead th {\n",
              "        text-align: right;\n",
              "    }\n",
              "</style>\n",
              "<table border=\"1\" class=\"dataframe\">\n",
              "  <thead>\n",
              "    <tr style=\"text-align: right;\">\n",
              "      <th></th>\n",
              "      <th>idint</th>\n",
              "      <th>idstr</th>\n",
              "      <th>created</th>\n",
              "      <th>self</th>\n",
              "      <th>nsfw</th>\n",
              "      <th>author</th>\n",
              "      <th>title</th>\n",
              "      <th>selftext</th>\n",
              "      <th>score</th>\n",
              "      <th>textlen</th>\n",
              "      <th>num_comments</th>\n",
              "    </tr>\n",
              "  </thead>\n",
              "  <tbody>\n",
              "    <tr>\n",
              "      <th>0</th>\n",
              "      <td>12378361</td>\n",
              "      <td>t3_7db7d</td>\n",
              "      <td>1226647810</td>\n",
              "      <td>0</td>\n",
              "      <td>0</td>\n",
              "      <td>soulajax</td>\n",
              "      <td>Do-It-Yourself Book Press</td>\n",
              "      <td>NaN</td>\n",
              "      <td>1</td>\n",
              "      <td>0</td>\n",
              "      <td>0</td>\n",
              "    </tr>\n",
              "    <tr>\n",
              "      <th>1</th>\n",
              "      <td>16624895</td>\n",
              "      <td>t3_9wbun</td>\n",
              "      <td>1256143924</td>\n",
              "      <td>0</td>\n",
              "      <td>0</td>\n",
              "      <td>bookmarked</td>\n",
              "      <td>Blending the Old with the New: Backlist Titles...</td>\n",
              "      <td>NaN</td>\n",
              "      <td>1</td>\n",
              "      <td>0</td>\n",
              "      <td>0</td>\n",
              "    </tr>\n",
              "    <tr>\n",
              "      <th>2</th>\n",
              "      <td>17431958</td>\n",
              "      <td>t3_adml2</td>\n",
              "      <td>1260547827</td>\n",
              "      <td>0</td>\n",
              "      <td>0</td>\n",
              "      <td>bookmarked</td>\n",
              "      <td>A Little Something Extra</td>\n",
              "      <td>NaN</td>\n",
              "      <td>1</td>\n",
              "      <td>0</td>\n",
              "      <td>0</td>\n",
              "    </tr>\n",
              "  </tbody>\n",
              "</table>\n",
              "</div>\n",
              "      <button class=\"colab-df-convert\" onclick=\"convertToInteractive('df-8462aebb-f08e-4718-a192-ed7c89df7572')\"\n",
              "              title=\"Convert this dataframe to an interactive table.\"\n",
              "              style=\"display:none;\">\n",
              "        \n",
              "  <svg xmlns=\"http://www.w3.org/2000/svg\" height=\"24px\"viewBox=\"0 0 24 24\"\n",
              "       width=\"24px\">\n",
              "    <path d=\"M0 0h24v24H0V0z\" fill=\"none\"/>\n",
              "    <path d=\"M18.56 5.44l.94 2.06.94-2.06 2.06-.94-2.06-.94-.94-2.06-.94 2.06-2.06.94zm-11 1L8.5 8.5l.94-2.06 2.06-.94-2.06-.94L8.5 2.5l-.94 2.06-2.06.94zm10 10l.94 2.06.94-2.06 2.06-.94-2.06-.94-.94-2.06-.94 2.06-2.06.94z\"/><path d=\"M17.41 7.96l-1.37-1.37c-.4-.4-.92-.59-1.43-.59-.52 0-1.04.2-1.43.59L10.3 9.45l-7.72 7.72c-.78.78-.78 2.05 0 2.83L4 21.41c.39.39.9.59 1.41.59.51 0 1.02-.2 1.41-.59l7.78-7.78 2.81-2.81c.8-.78.8-2.07 0-2.86zM5.41 20L4 18.59l7.72-7.72 1.47 1.35L5.41 20z\"/>\n",
              "  </svg>\n",
              "      </button>\n",
              "      \n",
              "  <style>\n",
              "    .colab-df-container {\n",
              "      display:flex;\n",
              "      flex-wrap:wrap;\n",
              "      gap: 12px;\n",
              "    }\n",
              "\n",
              "    .colab-df-convert {\n",
              "      background-color: #E8F0FE;\n",
              "      border: none;\n",
              "      border-radius: 50%;\n",
              "      cursor: pointer;\n",
              "      display: none;\n",
              "      fill: #1967D2;\n",
              "      height: 32px;\n",
              "      padding: 0 0 0 0;\n",
              "      width: 32px;\n",
              "    }\n",
              "\n",
              "    .colab-df-convert:hover {\n",
              "      background-color: #E2EBFA;\n",
              "      box-shadow: 0px 1px 2px rgba(60, 64, 67, 0.3), 0px 1px 3px 1px rgba(60, 64, 67, 0.15);\n",
              "      fill: #174EA6;\n",
              "    }\n",
              "\n",
              "    [theme=dark] .colab-df-convert {\n",
              "      background-color: #3B4455;\n",
              "      fill: #D2E3FC;\n",
              "    }\n",
              "\n",
              "    [theme=dark] .colab-df-convert:hover {\n",
              "      background-color: #434B5C;\n",
              "      box-shadow: 0px 1px 3px 1px rgba(0, 0, 0, 0.15);\n",
              "      filter: drop-shadow(0px 1px 2px rgba(0, 0, 0, 0.3));\n",
              "      fill: #FFFFFF;\n",
              "    }\n",
              "  </style>\n",
              "\n",
              "      <script>\n",
              "        const buttonEl =\n",
              "          document.querySelector('#df-8462aebb-f08e-4718-a192-ed7c89df7572 button.colab-df-convert');\n",
              "        buttonEl.style.display =\n",
              "          google.colab.kernel.accessAllowed ? 'block' : 'none';\n",
              "\n",
              "        async function convertToInteractive(key) {\n",
              "          const element = document.querySelector('#df-8462aebb-f08e-4718-a192-ed7c89df7572');\n",
              "          const dataTable =\n",
              "            await google.colab.kernel.invokeFunction('convertToInteractive',\n",
              "                                                     [key], {});\n",
              "          if (!dataTable) return;\n",
              "\n",
              "          const docLinkHtml = 'Like what you see? Visit the ' +\n",
              "            '<a target=\"_blank\" href=https://colab.research.google.com/notebooks/data_table.ipynb>data table notebook</a>'\n",
              "            + ' to learn more about interactive tables.';\n",
              "          element.innerHTML = '';\n",
              "          dataTable['output_type'] = 'display_data';\n",
              "          await google.colab.output.renderOutput(dataTable, element);\n",
              "          const docLink = document.createElement('div');\n",
              "          docLink.innerHTML = docLinkHtml;\n",
              "          element.appendChild(docLink);\n",
              "        }\n",
              "      </script>\n",
              "    </div>\n",
              "  </div>\n",
              "  "
            ]
          },
          "metadata": {},
          "execution_count": 12
        }
      ],
      "source": [
        "df_posts_short.head(3)"
      ]
    },
    {
      "cell_type": "code",
      "execution_count": null,
      "metadata": {
        "colab": {
          "base_uri": "https://localhost:8080/"
        },
        "id": "NJamGuAIzsUw",
        "outputId": "2ff8c2db-4d23-46b6-9bcc-a0f16bba5198"
      },
      "outputs": [
        {
          "output_type": "execute_result",
          "data": {
            "text/plain": [
              "(7330, 11)"
            ]
          },
          "metadata": {},
          "execution_count": 13
        }
      ],
      "source": [
        "df_posts_short.shape"
      ]
    },
    {
      "cell_type": "code",
      "execution_count": null,
      "metadata": {
        "id": "Ef5Fb3pu1oS4"
      },
      "outputs": [],
      "source": [
        "# Selects all rows that don't have 'removed' or 'deleted' in certain columns\n",
        "df_comments_noBlanks = df_comments_short.loc[~df_comments_short['body'].isin(['[removed]', '[deleted]' ]),:]\n",
        "df_posts_noBlanks = df_posts_short.loc[~df_posts_short['selftext'].isin(['[removed]', '[deleted]' ]),:]"
      ]
    },
    {
      "cell_type": "code",
      "execution_count": null,
      "metadata": {
        "id": "Ta8LEcmZzvTN"
      },
      "outputs": [],
      "source": [
        "# Drops rows with null values in 'selftext' column (assuming we want to analyze 'selftext')\n",
        "# Overwrites the previous dfs because I don't think we'll need access to the intermediate dfs (and I was running out of name ideas)\n",
        "df_comments_noBlanks = df_comments_noBlanks.dropna(subset=['body'])\n",
        "df_posts_noBlanks = df_posts_noBlanks.dropna(subset=['selftext'])"
      ]
    },
    {
      "cell_type": "code",
      "execution_count": null,
      "metadata": {
        "colab": {
          "base_uri": "https://localhost:8080/",
          "height": 206
        },
        "id": "l8rbsmWf0R89",
        "outputId": "14de0e98-b5e7-429d-f042-5bc70b4f0507"
      },
      "outputs": [
        {
          "output_type": "execute_result",
          "data": {
            "text/plain": [
              "         idint       idstr     created         author      parent submission  \\\n",
              "0  26160907768  t1_c0nj1mg  1270490234    judycullins    t3_bmr3z   t3_bmr3z   \n",
              "1  26186732829  t1_c12wkd9  1287609142  inigo_montoya    t3_dtpk6   t3_dtpk6   \n",
              "2  26186750085  t1_c12wxol  1287615269      [deleted]  t1_c12wkd9   t3_dtpk6   \n",
              "3  26186762112  t1_c12x6yo  1287619770  inigo_montoya  t1_c12wxol   t3_dtpk6   \n",
              "4  26186949360  t1_c1317g0  1287704175      [deleted]  t1_c12x6yo   t3_dtpk6   \n",
              "\n",
              "                                                body  score  textlen  \n",
              "0  8 great tips to start marketing your book onli...      1       68  \n",
              "1  I think it's extremely hard to find a salaried...      1      407  \n",
              "2  Honestly, I think I would be very happy either...      1      570  \n",
              "3  Well, an acquisitions editor is a very differe...      1      926  \n",
              "4  Yes, \"not panning out\" is precisely where I am...      1      315  "
            ],
            "text/html": [
              "\n",
              "  <div id=\"df-24eb2953-4c9c-4dae-a8c6-0d461412c764\">\n",
              "    <div class=\"colab-df-container\">\n",
              "      <div>\n",
              "<style scoped>\n",
              "    .dataframe tbody tr th:only-of-type {\n",
              "        vertical-align: middle;\n",
              "    }\n",
              "\n",
              "    .dataframe tbody tr th {\n",
              "        vertical-align: top;\n",
              "    }\n",
              "\n",
              "    .dataframe thead th {\n",
              "        text-align: right;\n",
              "    }\n",
              "</style>\n",
              "<table border=\"1\" class=\"dataframe\">\n",
              "  <thead>\n",
              "    <tr style=\"text-align: right;\">\n",
              "      <th></th>\n",
              "      <th>idint</th>\n",
              "      <th>idstr</th>\n",
              "      <th>created</th>\n",
              "      <th>author</th>\n",
              "      <th>parent</th>\n",
              "      <th>submission</th>\n",
              "      <th>body</th>\n",
              "      <th>score</th>\n",
              "      <th>textlen</th>\n",
              "    </tr>\n",
              "  </thead>\n",
              "  <tbody>\n",
              "    <tr>\n",
              "      <th>0</th>\n",
              "      <td>26160907768</td>\n",
              "      <td>t1_c0nj1mg</td>\n",
              "      <td>1270490234</td>\n",
              "      <td>judycullins</td>\n",
              "      <td>t3_bmr3z</td>\n",
              "      <td>t3_bmr3z</td>\n",
              "      <td>8 great tips to start marketing your book onli...</td>\n",
              "      <td>1</td>\n",
              "      <td>68</td>\n",
              "    </tr>\n",
              "    <tr>\n",
              "      <th>1</th>\n",
              "      <td>26186732829</td>\n",
              "      <td>t1_c12wkd9</td>\n",
              "      <td>1287609142</td>\n",
              "      <td>inigo_montoya</td>\n",
              "      <td>t3_dtpk6</td>\n",
              "      <td>t3_dtpk6</td>\n",
              "      <td>I think it's extremely hard to find a salaried...</td>\n",
              "      <td>1</td>\n",
              "      <td>407</td>\n",
              "    </tr>\n",
              "    <tr>\n",
              "      <th>2</th>\n",
              "      <td>26186750085</td>\n",
              "      <td>t1_c12wxol</td>\n",
              "      <td>1287615269</td>\n",
              "      <td>[deleted]</td>\n",
              "      <td>t1_c12wkd9</td>\n",
              "      <td>t3_dtpk6</td>\n",
              "      <td>Honestly, I think I would be very happy either...</td>\n",
              "      <td>1</td>\n",
              "      <td>570</td>\n",
              "    </tr>\n",
              "    <tr>\n",
              "      <th>3</th>\n",
              "      <td>26186762112</td>\n",
              "      <td>t1_c12x6yo</td>\n",
              "      <td>1287619770</td>\n",
              "      <td>inigo_montoya</td>\n",
              "      <td>t1_c12wxol</td>\n",
              "      <td>t3_dtpk6</td>\n",
              "      <td>Well, an acquisitions editor is a very differe...</td>\n",
              "      <td>1</td>\n",
              "      <td>926</td>\n",
              "    </tr>\n",
              "    <tr>\n",
              "      <th>4</th>\n",
              "      <td>26186949360</td>\n",
              "      <td>t1_c1317g0</td>\n",
              "      <td>1287704175</td>\n",
              "      <td>[deleted]</td>\n",
              "      <td>t1_c12x6yo</td>\n",
              "      <td>t3_dtpk6</td>\n",
              "      <td>Yes, \"not panning out\" is precisely where I am...</td>\n",
              "      <td>1</td>\n",
              "      <td>315</td>\n",
              "    </tr>\n",
              "  </tbody>\n",
              "</table>\n",
              "</div>\n",
              "      <button class=\"colab-df-convert\" onclick=\"convertToInteractive('df-24eb2953-4c9c-4dae-a8c6-0d461412c764')\"\n",
              "              title=\"Convert this dataframe to an interactive table.\"\n",
              "              style=\"display:none;\">\n",
              "        \n",
              "  <svg xmlns=\"http://www.w3.org/2000/svg\" height=\"24px\"viewBox=\"0 0 24 24\"\n",
              "       width=\"24px\">\n",
              "    <path d=\"M0 0h24v24H0V0z\" fill=\"none\"/>\n",
              "    <path d=\"M18.56 5.44l.94 2.06.94-2.06 2.06-.94-2.06-.94-.94-2.06-.94 2.06-2.06.94zm-11 1L8.5 8.5l.94-2.06 2.06-.94-2.06-.94L8.5 2.5l-.94 2.06-2.06.94zm10 10l.94 2.06.94-2.06 2.06-.94-2.06-.94-.94-2.06-.94 2.06-2.06.94z\"/><path d=\"M17.41 7.96l-1.37-1.37c-.4-.4-.92-.59-1.43-.59-.52 0-1.04.2-1.43.59L10.3 9.45l-7.72 7.72c-.78.78-.78 2.05 0 2.83L4 21.41c.39.39.9.59 1.41.59.51 0 1.02-.2 1.41-.59l7.78-7.78 2.81-2.81c.8-.78.8-2.07 0-2.86zM5.41 20L4 18.59l7.72-7.72 1.47 1.35L5.41 20z\"/>\n",
              "  </svg>\n",
              "      </button>\n",
              "      \n",
              "  <style>\n",
              "    .colab-df-container {\n",
              "      display:flex;\n",
              "      flex-wrap:wrap;\n",
              "      gap: 12px;\n",
              "    }\n",
              "\n",
              "    .colab-df-convert {\n",
              "      background-color: #E8F0FE;\n",
              "      border: none;\n",
              "      border-radius: 50%;\n",
              "      cursor: pointer;\n",
              "      display: none;\n",
              "      fill: #1967D2;\n",
              "      height: 32px;\n",
              "      padding: 0 0 0 0;\n",
              "      width: 32px;\n",
              "    }\n",
              "\n",
              "    .colab-df-convert:hover {\n",
              "      background-color: #E2EBFA;\n",
              "      box-shadow: 0px 1px 2px rgba(60, 64, 67, 0.3), 0px 1px 3px 1px rgba(60, 64, 67, 0.15);\n",
              "      fill: #174EA6;\n",
              "    }\n",
              "\n",
              "    [theme=dark] .colab-df-convert {\n",
              "      background-color: #3B4455;\n",
              "      fill: #D2E3FC;\n",
              "    }\n",
              "\n",
              "    [theme=dark] .colab-df-convert:hover {\n",
              "      background-color: #434B5C;\n",
              "      box-shadow: 0px 1px 3px 1px rgba(0, 0, 0, 0.15);\n",
              "      filter: drop-shadow(0px 1px 2px rgba(0, 0, 0, 0.3));\n",
              "      fill: #FFFFFF;\n",
              "    }\n",
              "  </style>\n",
              "\n",
              "      <script>\n",
              "        const buttonEl =\n",
              "          document.querySelector('#df-24eb2953-4c9c-4dae-a8c6-0d461412c764 button.colab-df-convert');\n",
              "        buttonEl.style.display =\n",
              "          google.colab.kernel.accessAllowed ? 'block' : 'none';\n",
              "\n",
              "        async function convertToInteractive(key) {\n",
              "          const element = document.querySelector('#df-24eb2953-4c9c-4dae-a8c6-0d461412c764');\n",
              "          const dataTable =\n",
              "            await google.colab.kernel.invokeFunction('convertToInteractive',\n",
              "                                                     [key], {});\n",
              "          if (!dataTable) return;\n",
              "\n",
              "          const docLinkHtml = 'Like what you see? Visit the ' +\n",
              "            '<a target=\"_blank\" href=https://colab.research.google.com/notebooks/data_table.ipynb>data table notebook</a>'\n",
              "            + ' to learn more about interactive tables.';\n",
              "          element.innerHTML = '';\n",
              "          dataTable['output_type'] = 'display_data';\n",
              "          await google.colab.output.renderOutput(dataTable, element);\n",
              "          const docLink = document.createElement('div');\n",
              "          docLink.innerHTML = docLinkHtml;\n",
              "          element.appendChild(docLink);\n",
              "        }\n",
              "      </script>\n",
              "    </div>\n",
              "  </div>\n",
              "  "
            ]
          },
          "metadata": {},
          "execution_count": 16
        }
      ],
      "source": [
        "df_comments_noBlanks.head()"
      ]
    },
    {
      "cell_type": "code",
      "execution_count": null,
      "metadata": {
        "colab": {
          "base_uri": "https://localhost:8080/"
        },
        "id": "A2IrUi_W0RQD",
        "outputId": "dba4ebfa-aabb-452c-c104-b37f34a5c641"
      },
      "outputs": [
        {
          "output_type": "execute_result",
          "data": {
            "text/plain": [
              "(19054, 9)"
            ]
          },
          "metadata": {},
          "execution_count": 17
        }
      ],
      "source": [
        "df_comments_noBlanks.shape\n",
        "# Final number of comments"
      ]
    },
    {
      "cell_type": "code",
      "execution_count": null,
      "metadata": {
        "colab": {
          "base_uri": "https://localhost:8080/",
          "height": 206
        },
        "id": "4VyZn8O91ITQ",
        "outputId": "a040c146-0c06-425c-d0ef-33dd1f57e9d0"
      },
      "outputs": [
        {
          "output_type": "execute_result",
          "data": {
            "text/plain": [
              "       idint     idstr     created  self  nsfw             author  \\\n",
              "7   23221158  t3_dtpk6  1287554803     1     0          [deleted]   \n",
              "12  25888930  t3_few0y  1296782293     1     0          mostrasho   \n",
              "17  29705825  t3_hop5t  1306892178     1     0  YouveBeenOneUpped   \n",
              "62  40519459  t3_o4h0j  1325799133     1     0        hobbitlover   \n",
              "63  40711806  t3_o8lfi  1326069991     1     0          [deleted]   \n",
              "\n",
              "                                                title  \\\n",
              "7   I am a recent graduate with no experience in t...   \n",
              "12  Help r/publishing! I just got offered a (volun...   \n",
              "17                Reprints - Are there average costs?   \n",
              "62  Need a writing program that works in InDesign ...   \n",
              "63         Online ebook cover creator recommendations   \n",
              "\n",
              "                                             selftext  score  textlen  \\\n",
              "7   I have no industry experience in publishing, b...      2     1007   \n",
              "12  The editor who offered it is fully aware that ...      2     1027   \n",
              "17  Hey All. How much do short excerpt reprints ty...      2      188   \n",
              "62  We use Microsoft Word at our office but it cre...      3      579   \n",
              "63  Hey guys,\\n\\nAny good recommendations on where...      1       75   \n",
              "\n",
              "    num_comments  \n",
              "7              5  \n",
              "12             2  \n",
              "17             4  \n",
              "62             3  \n",
              "63             1  "
            ],
            "text/html": [
              "\n",
              "  <div id=\"df-d10f6ad0-e143-4e01-8bc8-c83730ace9be\">\n",
              "    <div class=\"colab-df-container\">\n",
              "      <div>\n",
              "<style scoped>\n",
              "    .dataframe tbody tr th:only-of-type {\n",
              "        vertical-align: middle;\n",
              "    }\n",
              "\n",
              "    .dataframe tbody tr th {\n",
              "        vertical-align: top;\n",
              "    }\n",
              "\n",
              "    .dataframe thead th {\n",
              "        text-align: right;\n",
              "    }\n",
              "</style>\n",
              "<table border=\"1\" class=\"dataframe\">\n",
              "  <thead>\n",
              "    <tr style=\"text-align: right;\">\n",
              "      <th></th>\n",
              "      <th>idint</th>\n",
              "      <th>idstr</th>\n",
              "      <th>created</th>\n",
              "      <th>self</th>\n",
              "      <th>nsfw</th>\n",
              "      <th>author</th>\n",
              "      <th>title</th>\n",
              "      <th>selftext</th>\n",
              "      <th>score</th>\n",
              "      <th>textlen</th>\n",
              "      <th>num_comments</th>\n",
              "    </tr>\n",
              "  </thead>\n",
              "  <tbody>\n",
              "    <tr>\n",
              "      <th>7</th>\n",
              "      <td>23221158</td>\n",
              "      <td>t3_dtpk6</td>\n",
              "      <td>1287554803</td>\n",
              "      <td>1</td>\n",
              "      <td>0</td>\n",
              "      <td>[deleted]</td>\n",
              "      <td>I am a recent graduate with no experience in t...</td>\n",
              "      <td>I have no industry experience in publishing, b...</td>\n",
              "      <td>2</td>\n",
              "      <td>1007</td>\n",
              "      <td>5</td>\n",
              "    </tr>\n",
              "    <tr>\n",
              "      <th>12</th>\n",
              "      <td>25888930</td>\n",
              "      <td>t3_few0y</td>\n",
              "      <td>1296782293</td>\n",
              "      <td>1</td>\n",
              "      <td>0</td>\n",
              "      <td>mostrasho</td>\n",
              "      <td>Help r/publishing! I just got offered a (volun...</td>\n",
              "      <td>The editor who offered it is fully aware that ...</td>\n",
              "      <td>2</td>\n",
              "      <td>1027</td>\n",
              "      <td>2</td>\n",
              "    </tr>\n",
              "    <tr>\n",
              "      <th>17</th>\n",
              "      <td>29705825</td>\n",
              "      <td>t3_hop5t</td>\n",
              "      <td>1306892178</td>\n",
              "      <td>1</td>\n",
              "      <td>0</td>\n",
              "      <td>YouveBeenOneUpped</td>\n",
              "      <td>Reprints - Are there average costs?</td>\n",
              "      <td>Hey All. How much do short excerpt reprints ty...</td>\n",
              "      <td>2</td>\n",
              "      <td>188</td>\n",
              "      <td>4</td>\n",
              "    </tr>\n",
              "    <tr>\n",
              "      <th>62</th>\n",
              "      <td>40519459</td>\n",
              "      <td>t3_o4h0j</td>\n",
              "      <td>1325799133</td>\n",
              "      <td>1</td>\n",
              "      <td>0</td>\n",
              "      <td>hobbitlover</td>\n",
              "      <td>Need a writing program that works in InDesign ...</td>\n",
              "      <td>We use Microsoft Word at our office but it cre...</td>\n",
              "      <td>3</td>\n",
              "      <td>579</td>\n",
              "      <td>3</td>\n",
              "    </tr>\n",
              "    <tr>\n",
              "      <th>63</th>\n",
              "      <td>40711806</td>\n",
              "      <td>t3_o8lfi</td>\n",
              "      <td>1326069991</td>\n",
              "      <td>1</td>\n",
              "      <td>0</td>\n",
              "      <td>[deleted]</td>\n",
              "      <td>Online ebook cover creator recommendations</td>\n",
              "      <td>Hey guys,\\n\\nAny good recommendations on where...</td>\n",
              "      <td>1</td>\n",
              "      <td>75</td>\n",
              "      <td>1</td>\n",
              "    </tr>\n",
              "  </tbody>\n",
              "</table>\n",
              "</div>\n",
              "      <button class=\"colab-df-convert\" onclick=\"convertToInteractive('df-d10f6ad0-e143-4e01-8bc8-c83730ace9be')\"\n",
              "              title=\"Convert this dataframe to an interactive table.\"\n",
              "              style=\"display:none;\">\n",
              "        \n",
              "  <svg xmlns=\"http://www.w3.org/2000/svg\" height=\"24px\"viewBox=\"0 0 24 24\"\n",
              "       width=\"24px\">\n",
              "    <path d=\"M0 0h24v24H0V0z\" fill=\"none\"/>\n",
              "    <path d=\"M18.56 5.44l.94 2.06.94-2.06 2.06-.94-2.06-.94-.94-2.06-.94 2.06-2.06.94zm-11 1L8.5 8.5l.94-2.06 2.06-.94-2.06-.94L8.5 2.5l-.94 2.06-2.06.94zm10 10l.94 2.06.94-2.06 2.06-.94-2.06-.94-.94-2.06-.94 2.06-2.06.94z\"/><path d=\"M17.41 7.96l-1.37-1.37c-.4-.4-.92-.59-1.43-.59-.52 0-1.04.2-1.43.59L10.3 9.45l-7.72 7.72c-.78.78-.78 2.05 0 2.83L4 21.41c.39.39.9.59 1.41.59.51 0 1.02-.2 1.41-.59l7.78-7.78 2.81-2.81c.8-.78.8-2.07 0-2.86zM5.41 20L4 18.59l7.72-7.72 1.47 1.35L5.41 20z\"/>\n",
              "  </svg>\n",
              "      </button>\n",
              "      \n",
              "  <style>\n",
              "    .colab-df-container {\n",
              "      display:flex;\n",
              "      flex-wrap:wrap;\n",
              "      gap: 12px;\n",
              "    }\n",
              "\n",
              "    .colab-df-convert {\n",
              "      background-color: #E8F0FE;\n",
              "      border: none;\n",
              "      border-radius: 50%;\n",
              "      cursor: pointer;\n",
              "      display: none;\n",
              "      fill: #1967D2;\n",
              "      height: 32px;\n",
              "      padding: 0 0 0 0;\n",
              "      width: 32px;\n",
              "    }\n",
              "\n",
              "    .colab-df-convert:hover {\n",
              "      background-color: #E2EBFA;\n",
              "      box-shadow: 0px 1px 2px rgba(60, 64, 67, 0.3), 0px 1px 3px 1px rgba(60, 64, 67, 0.15);\n",
              "      fill: #174EA6;\n",
              "    }\n",
              "\n",
              "    [theme=dark] .colab-df-convert {\n",
              "      background-color: #3B4455;\n",
              "      fill: #D2E3FC;\n",
              "    }\n",
              "\n",
              "    [theme=dark] .colab-df-convert:hover {\n",
              "      background-color: #434B5C;\n",
              "      box-shadow: 0px 1px 3px 1px rgba(0, 0, 0, 0.15);\n",
              "      filter: drop-shadow(0px 1px 2px rgba(0, 0, 0, 0.3));\n",
              "      fill: #FFFFFF;\n",
              "    }\n",
              "  </style>\n",
              "\n",
              "      <script>\n",
              "        const buttonEl =\n",
              "          document.querySelector('#df-d10f6ad0-e143-4e01-8bc8-c83730ace9be button.colab-df-convert');\n",
              "        buttonEl.style.display =\n",
              "          google.colab.kernel.accessAllowed ? 'block' : 'none';\n",
              "\n",
              "        async function convertToInteractive(key) {\n",
              "          const element = document.querySelector('#df-d10f6ad0-e143-4e01-8bc8-c83730ace9be');\n",
              "          const dataTable =\n",
              "            await google.colab.kernel.invokeFunction('convertToInteractive',\n",
              "                                                     [key], {});\n",
              "          if (!dataTable) return;\n",
              "\n",
              "          const docLinkHtml = 'Like what you see? Visit the ' +\n",
              "            '<a target=\"_blank\" href=https://colab.research.google.com/notebooks/data_table.ipynb>data table notebook</a>'\n",
              "            + ' to learn more about interactive tables.';\n",
              "          element.innerHTML = '';\n",
              "          dataTable['output_type'] = 'display_data';\n",
              "          await google.colab.output.renderOutput(dataTable, element);\n",
              "          const docLink = document.createElement('div');\n",
              "          docLink.innerHTML = docLinkHtml;\n",
              "          element.appendChild(docLink);\n",
              "        }\n",
              "      </script>\n",
              "    </div>\n",
              "  </div>\n",
              "  "
            ]
          },
          "metadata": {},
          "execution_count": 18
        }
      ],
      "source": [
        "df_posts_noBlanks.head()"
      ]
    },
    {
      "cell_type": "code",
      "execution_count": null,
      "metadata": {
        "colab": {
          "base_uri": "https://localhost:8080/"
        },
        "id": "0Umf1AKu1PFA",
        "outputId": "376cafef-c541-487e-80c8-6bca0d3333c4"
      },
      "outputs": [
        {
          "output_type": "execute_result",
          "data": {
            "text/plain": [
              "(2388, 11)"
            ]
          },
          "metadata": {},
          "execution_count": 19
        }
      ],
      "source": [
        "df_posts_noBlanks.shape\n",
        "# Final number of posts"
      ]
    },
    {
      "cell_type": "markdown",
      "metadata": {
        "id": "VCUEPQA7Ae4C"
      },
      "source": [
        "07/21/22 Questions"
      ]
    },
    {
      "cell_type": "code",
      "execution_count": null,
      "metadata": {
        "colab": {
          "base_uri": "https://localhost:8080/"
        },
        "id": "yfrLIDoc3YfF",
        "outputId": "c346c8d5-c79e-4d3f-d638-7ac20fa8a78a"
      },
      "outputs": [
        {
          "output_type": "execute_result",
          "data": {
            "text/plain": [
              "[deleted]              0.029313\n",
              "MaxFreedomMoussa       0.009631\n",
              "PunkShocker            0.003769\n",
              "TheRedWhale            0.003350\n",
              "brisualso              0.003350\n",
              "                         ...   \n",
              "germy21                0.000419\n",
              "annnnnnnnie            0.000419\n",
              "ElUPTJefe              0.000419\n",
              "kaybdoodles            0.000419\n",
              "dimestorepublishing    0.000419\n",
              "Name: author, Length: 1922, dtype: float64"
            ]
          },
          "metadata": {},
          "execution_count": 20
        }
      ],
      "source": [
        "#How frequently are people posting?\n",
        "Unique_Post=df_posts_noBlanks.author.value_counts()\n",
        "Unique_Post_Freq=df_posts_noBlanks.author.value_counts(normalize=True) #gives percent on each post. \n",
        "\n",
        "Unique_Post[100]\n",
        "Unique_Post_Freq"
      ]
    },
    {
      "cell_type": "code",
      "source": [
        "unique_users_comments = df_comments_noBlanks['author'].value_counts()\n",
        "unique_users_comments "
      ],
      "metadata": {
        "colab": {
          "base_uri": "https://localhost:8080/"
        },
        "id": "kCBLuY6In0lD",
        "outputId": "6bff6550-8cc7-440e-ed90-4b508d588350"
      },
      "execution_count": null,
      "outputs": [
        {
          "output_type": "execute_result",
          "data": {
            "text/plain": [
              "stevehut                1327\n",
              "JamieIsReading           264\n",
              "blowinthroughnaptime     240\n",
              "MaxFreedomMoussa         214\n",
              "thespacebetweenwalls     190\n",
              "                        ... \n",
              "prettyflyers11             1\n",
              "whore-moanz                1\n",
              "Distempa                   1\n",
              "SortofaWeirdName           1\n",
              "DaylanDaylan               1\n",
              "Name: author, Length: 4033, dtype: int64"
            ]
          },
          "metadata": {},
          "execution_count": 21
        }
      ]
    },
    {
      "cell_type": "code",
      "execution_count": null,
      "metadata": {
        "colab": {
          "base_uri": "https://localhost:8080/"
        },
        "id": "xpujuODLA6Dv",
        "outputId": "29368764-c5ed-43ef-bbd1-b4ea2da52be4"
      },
      "outputs": [
        {
          "output_type": "execute_result",
          "data": {
            "text/plain": [
              "332.48163115356357"
            ]
          },
          "metadata": {},
          "execution_count": 22
        }
      ],
      "source": [
        "#Characters in average post \n",
        "\n",
        "Text_Length1=df_posts_noBlanks.textlen.mean()\n",
        "Text_Length1\n",
        "\n",
        "Text_Length2=df_comments_noBlanks.textlen.mean()\n",
        "Text_Length2"
      ]
    },
    {
      "cell_type": "code",
      "execution_count": null,
      "metadata": {
        "colab": {
          "base_uri": "https://localhost:8080/",
          "height": 282
        },
        "id": "Di_KUDyUE07E",
        "outputId": "15fecf70-41a6-486d-98e7-e3a6747ad996"
      },
      "outputs": [
        {
          "output_type": "execute_result",
          "data": {
            "text/plain": [
              "<matplotlib.axes._subplots.AxesSubplot at 0x7f87e7d5ac90>"
            ]
          },
          "metadata": {},
          "execution_count": 23
        },
        {
          "output_type": "display_data",
          "data": {
            "text/plain": [
              "<Figure size 432x288 with 1 Axes>"
            ],
            "image/png": "[encoded data removed]"
          },
          "metadata": {
            "needs_background": "light"
          }
        }
      ],
      "source": [
        "df_posts_noBlanks.score.hist()"
      ]
    },
    {
      "cell_type": "code",
      "execution_count": null,
      "metadata": {
        "colab": {
          "base_uri": "https://localhost:8080/"
        },
        "id": "nyh9uWZNFQlk",
        "outputId": "cc839d34-a99d-4f75-d42b-8a0c01829c63"
      },
      "outputs": [
        {
          "output_type": "execute_result",
          "data": {
            "text/plain": [
              "7       2\n",
              "12      2\n",
              "17      2\n",
              "62      3\n",
              "63      1\n",
              "       ..\n",
              "7321    3\n",
              "7322    2\n",
              "7326    8\n",
              "7328    0\n",
              "7329    8\n",
              "Name: score, Length: 2388, dtype: int64"
            ]
          },
          "metadata": {},
          "execution_count": 24
        }
      ],
      "source": [
        "df_posts_noBlanks.score"
      ]
    },
    {
      "cell_type": "code",
      "execution_count": null,
      "metadata": {
        "colab": {
          "base_uri": "https://localhost:8080/"
        },
        "id": "jsFAcM2rHnmH",
        "outputId": "52db6c6c-0a70-4f7f-e6b2-021d237bcbb7"
      },
      "outputs": [
        {
          "output_type": "execute_result",
          "data": {
            "text/plain": [
              "7       2\n",
              "12      2\n",
              "17      2\n",
              "62      3\n",
              "63      1\n",
              "       ..\n",
              "7321    3\n",
              "7322    2\n",
              "7326    8\n",
              "7328    0\n",
              "7329    8\n",
              "Name: score, Length: 2388, dtype: int64"
            ]
          },
          "metadata": {},
          "execution_count": 25
        }
      ],
      "source": [
        "df_posts_noBlanks.score"
      ]
    },
    {
      "cell_type": "markdown",
      "metadata": {
        "id": "3SDKQNDf3gvu"
      },
      "source": [
        "## Cleaning text data (based on module 02 notebook 1)\n",
        "\n",
        "Text data collected in the real world is always going to be variable, which poses a challenge for analysis. But by reducing some of this variation, we can help improve our results. For example, if we are counting instances of the word `\"weather\"` in text, we might want the strings `\"weather\"`, `\"weather.\"`, and `\"Weather\"` to all be counted as instances of the same word. However, in raw text form, these would be treated as separate strings. By performing text cleaning, we can standardize these cases and make our data easier to analyze. Some common preprocessing steps are:\n",
        "\n",
        "- Removing punctuation\n",
        "- Removing URLs\n",
        "- Removing stopwords (non-content words like \"a\", \"the\", \"is\", etc.)\n",
        "- Lowercasing\n",
        "- Tokenization (e.g., splitting a sentence into distinct \"chunks\" or \"tokens\")\n",
        "- Stemming, or removing the ends of words (e.g., places -> place)\n",
        "- Lemmatization, or changing words to 'dictionary form' (e.g., runs, running, run -> run)\n",
        "\n",
        "Fortunately, we don't need to code every one of these steps. Instead, we will use a package called [spaCy](https://spacy.io/) to do these things. If the text you'd like to process is general-purpose English language text (i.e., not domain-specific, like medical literature), `spaCy` is ready to use out-of-the-box. We will use the [`en_core_web_sm`](https://spacy.io/models/en/#en_core_web_sm) pipeline to cover the steps listed above. "
      ]
    },
    {
      "cell_type": "code",
      "execution_count": null,
      "metadata": {
        "colab": {
          "base_uri": "https://localhost:8080/",
          "height": 143
        },
        "id": "2hS4SmONr7Z1",
        "outputId": "de37490d-80da-4091-8d1e-cb92c7d1b045"
      },
      "outputs": [
        {
          "output_type": "execute_result",
          "data": {
            "text/plain": [
              "       idint     idstr     created  self  nsfw             author  \\\n",
              "7   23221158  t3_dtpk6  1287554803     1     0          [deleted]   \n",
              "12  25888930  t3_few0y  1296782293     1     0          mostrasho   \n",
              "17  29705825  t3_hop5t  1306892178     1     0  YouveBeenOneUpped   \n",
              "\n",
              "                                                title  \\\n",
              "7   I am a recent graduate with no experience in t...   \n",
              "12  Help r/publishing! I just got offered a (volun...   \n",
              "17                Reprints - Are there average costs?   \n",
              "\n",
              "                                             selftext  score  textlen  \\\n",
              "7   I have no industry experience in publishing, b...      2     1007   \n",
              "12  The editor who offered it is fully aware that ...      2     1027   \n",
              "17  Hey All. How much do short excerpt reprints ty...      2      188   \n",
              "\n",
              "    num_comments  \n",
              "7              5  \n",
              "12             2  \n",
              "17             4  "
            ],
            "text/html": [
              "\n",
              "  <div id=\"df-4b273880-652b-49d7-805e-7a16e294b4bc\">\n",
              "    <div class=\"colab-df-container\">\n",
              "      <div>\n",
              "<style scoped>\n",
              "    .dataframe tbody tr th:only-of-type {\n",
              "        vertical-align: middle;\n",
              "    }\n",
              "\n",
              "    .dataframe tbody tr th {\n",
              "        vertical-align: top;\n",
              "    }\n",
              "\n",
              "    .dataframe thead th {\n",
              "        text-align: right;\n",
              "    }\n",
              "</style>\n",
              "<table border=\"1\" class=\"dataframe\">\n",
              "  <thead>\n",
              "    <tr style=\"text-align: right;\">\n",
              "      <th></th>\n",
              "      <th>idint</th>\n",
              "      <th>idstr</th>\n",
              "      <th>created</th>\n",
              "      <th>self</th>\n",
              "      <th>nsfw</th>\n",
              "      <th>author</th>\n",
              "      <th>title</th>\n",
              "      <th>selftext</th>\n",
              "      <th>score</th>\n",
              "      <th>textlen</th>\n",
              "      <th>num_comments</th>\n",
              "    </tr>\n",
              "  </thead>\n",
              "  <tbody>\n",
              "    <tr>\n",
              "      <th>7</th>\n",
              "      <td>23221158</td>\n",
              "      <td>t3_dtpk6</td>\n",
              "      <td>1287554803</td>\n",
              "      <td>1</td>\n",
              "      <td>0</td>\n",
              "      <td>[deleted]</td>\n",
              "      <td>I am a recent graduate with no experience in t...</td>\n",
              "      <td>I have no industry experience in publishing, b...</td>\n",
              "      <td>2</td>\n",
              "      <td>1007</td>\n",
              "      <td>5</td>\n",
              "    </tr>\n",
              "    <tr>\n",
              "      <th>12</th>\n",
              "      <td>25888930</td>\n",
              "      <td>t3_few0y</td>\n",
              "      <td>1296782293</td>\n",
              "      <td>1</td>\n",
              "      <td>0</td>\n",
              "      <td>mostrasho</td>\n",
              "      <td>Help r/publishing! I just got offered a (volun...</td>\n",
              "      <td>The editor who offered it is fully aware that ...</td>\n",
              "      <td>2</td>\n",
              "      <td>1027</td>\n",
              "      <td>2</td>\n",
              "    </tr>\n",
              "    <tr>\n",
              "      <th>17</th>\n",
              "      <td>29705825</td>\n",
              "      <td>t3_hop5t</td>\n",
              "      <td>1306892178</td>\n",
              "      <td>1</td>\n",
              "      <td>0</td>\n",
              "      <td>YouveBeenOneUpped</td>\n",
              "      <td>Reprints - Are there average costs?</td>\n",
              "      <td>Hey All. How much do short excerpt reprints ty...</td>\n",
              "      <td>2</td>\n",
              "      <td>188</td>\n",
              "      <td>4</td>\n",
              "    </tr>\n",
              "  </tbody>\n",
              "</table>\n",
              "</div>\n",
              "      <button class=\"colab-df-convert\" onclick=\"convertToInteractive('df-4b273880-652b-49d7-805e-7a16e294b4bc')\"\n",
              "              title=\"Convert this dataframe to an interactive table.\"\n",
              "              style=\"display:none;\">\n",
              "        \n",
              "  <svg xmlns=\"http://www.w3.org/2000/svg\" height=\"24px\"viewBox=\"0 0 24 24\"\n",
              "       width=\"24px\">\n",
              "    <path d=\"M0 0h24v24H0V0z\" fill=\"none\"/>\n",
              "    <path d=\"M18.56 5.44l.94 2.06.94-2.06 2.06-.94-2.06-.94-.94-2.06-.94 2.06-2.06.94zm-11 1L8.5 8.5l.94-2.06 2.06-.94-2.06-.94L8.5 2.5l-.94 2.06-2.06.94zm10 10l.94 2.06.94-2.06 2.06-.94-2.06-.94-.94-2.06-.94 2.06-2.06.94z\"/><path d=\"M17.41 7.96l-1.37-1.37c-.4-.4-.92-.59-1.43-.59-.52 0-1.04.2-1.43.59L10.3 9.45l-7.72 7.72c-.78.78-.78 2.05 0 2.83L4 21.41c.39.39.9.59 1.41.59.51 0 1.02-.2 1.41-.59l7.78-7.78 2.81-2.81c.8-.78.8-2.07 0-2.86zM5.41 20L4 18.59l7.72-7.72 1.47 1.35L5.41 20z\"/>\n",
              "  </svg>\n",
              "      </button>\n",
              "      \n",
              "  <style>\n",
              "    .colab-df-container {\n",
              "      display:flex;\n",
              "      flex-wrap:wrap;\n",
              "      gap: 12px;\n",
              "    }\n",
              "\n",
              "    .colab-df-convert {\n",
              "      background-color: #E8F0FE;\n",
              "      border: none;\n",
              "      border-radius: 50%;\n",
              "      cursor: pointer;\n",
              "      display: none;\n",
              "      fill: #1967D2;\n",
              "      height: 32px;\n",
              "      padding: 0 0 0 0;\n",
              "      width: 32px;\n",
              "    }\n",
              "\n",
              "    .colab-df-convert:hover {\n",
              "      background-color: #E2EBFA;\n",
              "      box-shadow: 0px 1px 2px rgba(60, 64, 67, 0.3), 0px 1px 3px 1px rgba(60, 64, 67, 0.15);\n",
              "      fill: #174EA6;\n",
              "    }\n",
              "\n",
              "    [theme=dark] .colab-df-convert {\n",
              "      background-color: #3B4455;\n",
              "      fill: #D2E3FC;\n",
              "    }\n",
              "\n",
              "    [theme=dark] .colab-df-convert:hover {\n",
              "      background-color: #434B5C;\n",
              "      box-shadow: 0px 1px 3px 1px rgba(0, 0, 0, 0.15);\n",
              "      filter: drop-shadow(0px 1px 2px rgba(0, 0, 0, 0.3));\n",
              "      fill: #FFFFFF;\n",
              "    }\n",
              "  </style>\n",
              "\n",
              "      <script>\n",
              "        const buttonEl =\n",
              "          document.querySelector('#df-4b273880-652b-49d7-805e-7a16e294b4bc button.colab-df-convert');\n",
              "        buttonEl.style.display =\n",
              "          google.colab.kernel.accessAllowed ? 'block' : 'none';\n",
              "\n",
              "        async function convertToInteractive(key) {\n",
              "          const element = document.querySelector('#df-4b273880-652b-49d7-805e-7a16e294b4bc');\n",
              "          const dataTable =\n",
              "            await google.colab.kernel.invokeFunction('convertToInteractive',\n",
              "                                                     [key], {});\n",
              "          if (!dataTable) return;\n",
              "\n",
              "          const docLinkHtml = 'Like what you see? Visit the ' +\n",
              "            '<a target=\"_blank\" href=https://colab.research.google.com/notebooks/data_table.ipynb>data table notebook</a>'\n",
              "            + ' to learn more about interactive tables.';\n",
              "          element.innerHTML = '';\n",
              "          dataTable['output_type'] = 'display_data';\n",
              "          await google.colab.output.renderOutput(dataTable, element);\n",
              "          const docLink = document.createElement('div');\n",
              "          docLink.innerHTML = docLinkHtml;\n",
              "          element.appendChild(docLink);\n",
              "        }\n",
              "      </script>\n",
              "    </div>\n",
              "  </div>\n",
              "  "
            ]
          },
          "metadata": {},
          "execution_count": 26
        }
      ],
      "source": [
        "df_posts_noBlanks.head(3)"
      ]
    },
    {
      "cell_type": "code",
      "execution_count": null,
      "metadata": {
        "colab": {
          "base_uri": "https://localhost:8080/"
        },
        "id": "MWZ0ytuc3-92",
        "outputId": "f1bb5e36-7db6-4b96-8e3f-236cf58c1716"
      },
      "outputs": [
        {
          "output_type": "stream",
          "name": "stdout",
          "text": [
            "I have no industry experience in publishing, but would very much like to enter the field - specifically, editing. It seems as if the usual catch-22 holds true: to get the job, you need experience; to get experience, you need a job. Finding entry-level work is proving very difficult. I live in Baltimore, MD and I feel that I've exhausted the obvious avenues, sending my resume and cover letter to every magazine, newspaper, publishing house, etc., that I can locate. \n",
            "\n",
            "I am not opposed to internships, of course, but as I am not a college student, I tend to be excluded from consideration. Additionally, I have to support myself and so work-for-pay, in an obvious sense, takes priority.\n",
            "\n",
            "I realize that there are only 10 readers in this subreddit, so this really is a shot in the dark, but I could use some advice from persons familiar with the industry. I've considered, as well, sending out a few emails to editors whose blogs I read, asking them for similar guidance. Would this be perceived as brazen? \n"
          ]
        }
      ],
      "source": [
        "# Imports spaCy\n",
        "import spacy\n",
        "\n",
        "# Loads the English preprocessing pipeline\n",
        "nlp = spacy.load('en_core_web_sm')\n",
        "\n",
        "# Parses the first r/publishing post\n",
        "parsed_post = nlp(df_posts_noBlanks.selftext.iloc[0])\n",
        "print(parsed_post)"
      ]
    },
    {
      "cell_type": "code",
      "execution_count": null,
      "metadata": {
        "colab": {
          "base_uri": "https://localhost:8080/"
        },
        "id": "szij6wy1tWs3",
        "outputId": "959e77a5-3aa4-4352-f00e-5464a4e6c4b4"
      },
      "outputs": [
        {
          "output_type": "stream",
          "name": "stdout",
          "text": [
            "Sentence 1\n",
            "I have no industry experience in publishing, but would very much like to enter the field - specifically, editing.\n",
            "\n",
            "Sentence 2\n",
            "It seems as if the usual catch-22 holds true: to get the job, you need experience; to get experience, you need a job.\n",
            "\n",
            "Sentence 3\n",
            "Finding entry-level work is proving very difficult.\n",
            "\n",
            "Sentence 4\n",
            "I live in Baltimore, MD and I feel that I've exhausted the obvious avenues, sending my resume and cover letter to every magazine, newspaper, publishing house, etc., that I can locate.\n",
            "\n",
            "Sentence 5\n",
            "\n",
            "\n",
            "I am not opposed to internships, of course, but as I am not a college student, I tend to be excluded from consideration.\n",
            "\n",
            "Sentence 6\n",
            "Additionally, I have to support myself and so work-for-pay, in an obvious sense, takes priority.\n",
            "\n",
            "Sentence 7\n",
            "\n",
            "\n",
            "I realize that there are only 10 readers in this subreddit, so this really is a shot in the dark, but I could use some advice from persons familiar with the industry.\n",
            "\n",
            "Sentence 8\n",
            "I've considered, as well, sending out a few emails to editors whose blogs I read, asking them for similar guidance.\n",
            "\n",
            "Sentence 9\n",
            "Would this be perceived as brazen?\n",
            "\n"
          ]
        }
      ],
      "source": [
        "# Print each sentence in the parsed post\n",
        "for idx, sentence in enumerate(parsed_post.sents):\n",
        "    print(f'Sentence {idx + 1}')\n",
        "    print(sentence)\n",
        "    print('')"
      ]
    },
    {
      "cell_type": "code",
      "execution_count": null,
      "metadata": {
        "colab": {
          "base_uri": "https://localhost:8080/",
          "height": 520
        },
        "id": "hgeokb1xtix0",
        "outputId": "add125d6-305e-4f49-98cc-90f4a5ea5463"
      },
      "outputs": [
        {
          "output_type": "execute_result",
          "data": {
            "text/plain": [
              "    token_text part_of_speech token_lemma  token_stop  token_punct\n",
              "0            I           PRON           I        True        False\n",
              "1         have           VERB        have        True        False\n",
              "2           no            DET          no        True        False\n",
              "3     industry           NOUN    industry       False        False\n",
              "4   experience           NOUN  experience       False        False\n",
              "5           in            ADP          in        True        False\n",
              "6   publishing           NOUN  publishing       False        False\n",
              "7            ,          PUNCT           ,       False         True\n",
              "8          but          CCONJ         but        True        False\n",
              "9        would            AUX       would        True        False\n",
              "10        very            ADV        very        True        False\n",
              "11        much            ADV        much        True        False\n",
              "12        like           VERB        like       False        False\n",
              "13          to           PART          to        True        False\n",
              "14       enter           VERB       enter       False        False"
            ],
            "text/html": [
              "\n",
              "  <div id=\"df-91a1b74d-9a42-4456-bd52-e5065ccb4a6c\">\n",
              "    <div class=\"colab-df-container\">\n",
              "      <div>\n",
              "<style scoped>\n",
              "    .dataframe tbody tr th:only-of-type {\n",
              "        vertical-align: middle;\n",
              "    }\n",
              "\n",
              "    .dataframe tbody tr th {\n",
              "        vertical-align: top;\n",
              "    }\n",
              "\n",
              "    .dataframe thead th {\n",
              "        text-align: right;\n",
              "    }\n",
              "</style>\n",
              "<table border=\"1\" class=\"dataframe\">\n",
              "  <thead>\n",
              "    <tr style=\"text-align: right;\">\n",
              "      <th></th>\n",
              "      <th>token_text</th>\n",
              "      <th>part_of_speech</th>\n",
              "      <th>token_lemma</th>\n",
              "      <th>token_stop</th>\n",
              "      <th>token_punct</th>\n",
              "    </tr>\n",
              "  </thead>\n",
              "  <tbody>\n",
              "    <tr>\n",
              "      <th>0</th>\n",
              "      <td>I</td>\n",
              "      <td>PRON</td>\n",
              "      <td>I</td>\n",
              "      <td>True</td>\n",
              "      <td>False</td>\n",
              "    </tr>\n",
              "    <tr>\n",
              "      <th>1</th>\n",
              "      <td>have</td>\n",
              "      <td>VERB</td>\n",
              "      <td>have</td>\n",
              "      <td>True</td>\n",
              "      <td>False</td>\n",
              "    </tr>\n",
              "    <tr>\n",
              "      <th>2</th>\n",
              "      <td>no</td>\n",
              "      <td>DET</td>\n",
              "      <td>no</td>\n",
              "      <td>True</td>\n",
              "      <td>False</td>\n",
              "    </tr>\n",
              "    <tr>\n",
              "      <th>3</th>\n",
              "      <td>industry</td>\n",
              "      <td>NOUN</td>\n",
              "      <td>industry</td>\n",
              "      <td>False</td>\n",
              "      <td>False</td>\n",
              "    </tr>\n",
              "    <tr>\n",
              "      <th>4</th>\n",
              "      <td>experience</td>\n",
              "      <td>NOUN</td>\n",
              "      <td>experience</td>\n",
              "      <td>False</td>\n",
              "      <td>False</td>\n",
              "    </tr>\n",
              "    <tr>\n",
              "      <th>5</th>\n",
              "      <td>in</td>\n",
              "      <td>ADP</td>\n",
              "      <td>in</td>\n",
              "      <td>True</td>\n",
              "      <td>False</td>\n",
              "    </tr>\n",
              "    <tr>\n",
              "      <th>6</th>\n",
              "      <td>publishing</td>\n",
              "      <td>NOUN</td>\n",
              "      <td>publishing</td>\n",
              "      <td>False</td>\n",
              "      <td>False</td>\n",
              "    </tr>\n",
              "    <tr>\n",
              "      <th>7</th>\n",
              "      <td>,</td>\n",
              "      <td>PUNCT</td>\n",
              "      <td>,</td>\n",
              "      <td>False</td>\n",
              "      <td>True</td>\n",
              "    </tr>\n",
              "    <tr>\n",
              "      <th>8</th>\n",
              "      <td>but</td>\n",
              "      <td>CCONJ</td>\n",
              "      <td>but</td>\n",
              "      <td>True</td>\n",
              "      <td>False</td>\n",
              "    </tr>\n",
              "    <tr>\n",
              "      <th>9</th>\n",
              "      <td>would</td>\n",
              "      <td>AUX</td>\n",
              "      <td>would</td>\n",
              "      <td>True</td>\n",
              "      <td>False</td>\n",
              "    </tr>\n",
              "    <tr>\n",
              "      <th>10</th>\n",
              "      <td>very</td>\n",
              "      <td>ADV</td>\n",
              "      <td>very</td>\n",
              "      <td>True</td>\n",
              "      <td>False</td>\n",
              "    </tr>\n",
              "    <tr>\n",
              "      <th>11</th>\n",
              "      <td>much</td>\n",
              "      <td>ADV</td>\n",
              "      <td>much</td>\n",
              "      <td>True</td>\n",
              "      <td>False</td>\n",
              "    </tr>\n",
              "    <tr>\n",
              "      <th>12</th>\n",
              "      <td>like</td>\n",
              "      <td>VERB</td>\n",
              "      <td>like</td>\n",
              "      <td>False</td>\n",
              "      <td>False</td>\n",
              "    </tr>\n",
              "    <tr>\n",
              "      <th>13</th>\n",
              "      <td>to</td>\n",
              "      <td>PART</td>\n",
              "      <td>to</td>\n",
              "      <td>True</td>\n",
              "      <td>False</td>\n",
              "    </tr>\n",
              "    <tr>\n",
              "      <th>14</th>\n",
              "      <td>enter</td>\n",
              "      <td>VERB</td>\n",
              "      <td>enter</td>\n",
              "      <td>False</td>\n",
              "      <td>False</td>\n",
              "    </tr>\n",
              "  </tbody>\n",
              "</table>\n",
              "</div>\n",
              "      <button class=\"colab-df-convert\" onclick=\"convertToInteractive('df-91a1b74d-9a42-4456-bd52-e5065ccb4a6c')\"\n",
              "              title=\"Convert this dataframe to an interactive table.\"\n",
              "              style=\"display:none;\">\n",
              "        \n",
              "  <svg xmlns=\"http://www.w3.org/2000/svg\" height=\"24px\"viewBox=\"0 0 24 24\"\n",
              "       width=\"24px\">\n",
              "    <path d=\"M0 0h24v24H0V0z\" fill=\"none\"/>\n",
              "    <path d=\"M18.56 5.44l.94 2.06.94-2.06 2.06-.94-2.06-.94-.94-2.06-.94 2.06-2.06.94zm-11 1L8.5 8.5l.94-2.06 2.06-.94-2.06-.94L8.5 2.5l-.94 2.06-2.06.94zm10 10l.94 2.06.94-2.06 2.06-.94-2.06-.94-.94-2.06-.94 2.06-2.06.94z\"/><path d=\"M17.41 7.96l-1.37-1.37c-.4-.4-.92-.59-1.43-.59-.52 0-1.04.2-1.43.59L10.3 9.45l-7.72 7.72c-.78.78-.78 2.05 0 2.83L4 21.41c.39.39.9.59 1.41.59.51 0 1.02-.2 1.41-.59l7.78-7.78 2.81-2.81c.8-.78.8-2.07 0-2.86zM5.41 20L4 18.59l7.72-7.72 1.47 1.35L5.41 20z\"/>\n",
              "  </svg>\n",
              "      </button>\n",
              "      \n",
              "  <style>\n",
              "    .colab-df-container {\n",
              "      display:flex;\n",
              "      flex-wrap:wrap;\n",
              "      gap: 12px;\n",
              "    }\n",
              "\n",
              "    .colab-df-convert {\n",
              "      background-color: #E8F0FE;\n",
              "      border: none;\n",
              "      border-radius: 50%;\n",
              "      cursor: pointer;\n",
              "      display: none;\n",
              "      fill: #1967D2;\n",
              "      height: 32px;\n",
              "      padding: 0 0 0 0;\n",
              "      width: 32px;\n",
              "    }\n",
              "\n",
              "    .colab-df-convert:hover {\n",
              "      background-color: #E2EBFA;\n",
              "      box-shadow: 0px 1px 2px rgba(60, 64, 67, 0.3), 0px 1px 3px 1px rgba(60, 64, 67, 0.15);\n",
              "      fill: #174EA6;\n",
              "    }\n",
              "\n",
              "    [theme=dark] .colab-df-convert {\n",
              "      background-color: #3B4455;\n",
              "      fill: #D2E3FC;\n",
              "    }\n",
              "\n",
              "    [theme=dark] .colab-df-convert:hover {\n",
              "      background-color: #434B5C;\n",
              "      box-shadow: 0px 1px 3px 1px rgba(0, 0, 0, 0.15);\n",
              "      filter: drop-shadow(0px 1px 2px rgba(0, 0, 0, 0.3));\n",
              "      fill: #FFFFFF;\n",
              "    }\n",
              "  </style>\n",
              "\n",
              "      <script>\n",
              "        const buttonEl =\n",
              "          document.querySelector('#df-91a1b74d-9a42-4456-bd52-e5065ccb4a6c button.colab-df-convert');\n",
              "        buttonEl.style.display =\n",
              "          google.colab.kernel.accessAllowed ? 'block' : 'none';\n",
              "\n",
              "        async function convertToInteractive(key) {\n",
              "          const element = document.querySelector('#df-91a1b74d-9a42-4456-bd52-e5065ccb4a6c');\n",
              "          const dataTable =\n",
              "            await google.colab.kernel.invokeFunction('convertToInteractive',\n",
              "                                                     [key], {});\n",
              "          if (!dataTable) return;\n",
              "\n",
              "          const docLinkHtml = 'Like what you see? Visit the ' +\n",
              "            '<a target=\"_blank\" href=https://colab.research.google.com/notebooks/data_table.ipynb>data table notebook</a>'\n",
              "            + ' to learn more about interactive tables.';\n",
              "          element.innerHTML = '';\n",
              "          dataTable['output_type'] = 'display_data';\n",
              "          await google.colab.output.renderOutput(dataTable, element);\n",
              "          const docLink = document.createElement('div');\n",
              "          docLink.innerHTML = docLinkHtml;\n",
              "          element.appendChild(docLink);\n",
              "        }\n",
              "      </script>\n",
              "    </div>\n",
              "  </div>\n",
              "  "
            ]
          },
          "metadata": {},
          "execution_count": 29
        }
      ],
      "source": [
        "# Extract the first 15 items for the following properties of the parsed post\n",
        "\n",
        "# The token text \n",
        "token_text = [token.orth_ for token in parsed_post][:15]   \n",
        "# Part of speech \n",
        "token_pos = [token.pos_ for token in parsed_post][:15]   \n",
        "# Lemma (or 'dictionary form')\n",
        "token_lemma = [token.lemma_ for token in parsed_post][:15]\n",
        "# Stop word? t/f\n",
        "token_stop = [token.is_stop for token in parsed_post][:15]\n",
        "# Puncutation? t/f\n",
        "token_punct = [token.is_punct for token in parsed_post][:15]\n",
        "\n",
        "# Make a dataframe with these items\n",
        "pd.DataFrame(zip(token_text, token_pos, token_lemma, token_stop, token_punct),\n",
        "             columns=['token_text', 'part_of_speech', 'token_lemma', 'token_stop', 'token_punct'])"
      ]
    },
    {
      "cell_type": "code",
      "execution_count": null,
      "metadata": {
        "colab": {
          "base_uri": "https://localhost:8080/"
        },
        "id": "EkxtX9RPa9xA",
        "outputId": "b79d141d-0d1c-44d2-d1e3-cb71732a1c92"
      },
      "outputs": [
        {
          "output_type": "stream",
          "name": "stdout",
          "text": [
            "['that', '’s', 'actually', 'not', 'true']\n"
          ]
        }
      ],
      "source": [
        "# preprocess the example sentence\n",
        "test = nlp(\"That’s actually not true\")\n",
        "tokens = []\n",
        "# For each token in the processed object\n",
        "for token in test:\n",
        "    # Check if the token is punctuation\n",
        "    if not token.is_punct:\n",
        "        # Append the lower-case lemma to the list\n",
        "        tokens.append(token.lemma_.lower())\n",
        "print(tokens)"
      ]
    },
    {
      "cell_type": "code",
      "execution_count": null,
      "metadata": {
        "colab": {
          "base_uri": "https://localhost:8080/"
        },
        "id": "ADQ8DNyL2YVC",
        "outputId": "e3b47969-c4a6-408a-a597-ccc2656777c1"
      },
      "outputs": [
        {
          "output_type": "stream",
          "name": "stdout",
          "text": [
            "0 i\n",
            "1 be\n",
            "2 you\n",
            "3 ’re\n",
            "4 he\n",
            "5 be\n",
            "6 he\n",
            "7 be\n",
            "8 that\n",
            "9 be\n",
            "10 that\n",
            "11 ’s\n",
            "12 he\n",
            "13 ’s\n",
            "14 he\n",
            "15 be\n",
            "16 father\n",
            "17 's\n",
            "18 father\n",
            "19 ’s\n"
          ]
        }
      ],
      "source": [
        "test = nlp(\"I'm you’re he's he's That's that’s he’s he's father's father’s\")\n",
        "tokens = [token.lemma_.lower() for token in test if not token.is_punct]\n",
        "for i, tokens in enumerate(tokens):\n",
        "    print(i, tokens)"
      ]
    },
    {
      "cell_type": "code",
      "execution_count": null,
      "metadata": {
        "colab": {
          "base_uri": "https://localhost:8080/"
        },
        "id": "m4lqUhbD2aV4",
        "outputId": "c478a030-5e70-41c8-e1ef-cdf72ed65049"
      },
      "outputs": [
        {
          "output_type": "stream",
          "name": "stdout",
          "text": [
            "0 i\n",
            "1 be\n",
            "2 you\n",
            "3 ’re\n",
            "4 he\n",
            "5 be\n",
            "6 he\n",
            "7 be\n",
            "8 that\n",
            "9 be\n",
            "10 that\n",
            "11 he\n",
            "12 he\n",
            "13 be\n",
            "14 father\n",
            "15 father\n"
          ]
        }
      ],
      "source": [
        "test = nlp(\"I'm you’re he's he's That's that’s he’s he's father's father’s\")\n",
        "tokens = [token.lemma_.lower() if token.lemma_ != '-PRON-'\n",
        "          else token.lower_\n",
        "          for token in test if not token.is_punct and not token.is_digit]\n",
        "leftover = [\"'s\",  \"’s\", \"’\"]\n",
        "tokens_c = [token for token in tokens if not token in leftover]\n",
        "\n",
        "for i, t in enumerate(tokens_c):\n",
        "    print(i, t)"
      ]
    },
    {
      "cell_type": "markdown",
      "metadata": {
        "id": "Hu6sfUni96Ho"
      },
      "source": [
        "Preprocessing all data"
      ]
    },
    {
      "cell_type": "code",
      "source": [
        "from gensim.models.phrases import Phrases, Phraser"
      ],
      "metadata": {
        "id": "FkQo9OJT_IWx"
      },
      "execution_count": null,
      "outputs": []
    },
    {
      "cell_type": "code",
      "source": [
        "def clean(token):\n",
        "    \"\"\"Helper function that specifies whether a token is:\n",
        "        - punctuation\n",
        "        - space\n",
        "        - digit\n",
        "    \"\"\"\n",
        "    return token.is_punct or token.is_space or token.is_digit\n",
        "\n",
        "def line_read(df, text_col='selftext'):\n",
        "    \"\"\"Generator function to read in text from df and get rid of line breaks.\"\"\"    \n",
        "    for text in df[text_col]:\n",
        "        yield text.replace('\\n', '')\n",
        "\n",
        "def preprocess_posts(df, text_col='selftext', allowed_postags=['NOUN', 'ADJ']):\n",
        "    \"\"\"Preprocessing function to apply to the posts dataframe.\"\"\"\n",
        "    for parsed in nlp.pipe(line_read(df, text_col), batch_size=1000, disable=[\"ner\"]):\n",
        "        # Gather lowercased, lemmatized tokens\n",
        "        tokens = [token.lemma_.lower() if token.lemma_ != '-PRON-'\n",
        "                  else token.lower_ \n",
        "                  for token in parsed if not clean(token)]\n",
        "        # Remove specific lemmatizations, and words that are not nouns or adjectives\n",
        "        tokens = [lemma\n",
        "                  for lemma in tokens\n",
        "                  if not lemma in [\"'s\",  \"’s\", \"’\"] and not lemma in allowed_postags]\n",
        "        # Remove stop words\n",
        "        tokens = [token for token in tokens if token not in spacy.lang.en.stop_words.STOP_WORDS]\n",
        "        yield tokens\n",
        "\n",
        "# created a different preprocessing function for the comments df because the relevant column name is different\n",
        "def preprocess_comments(df, text_col='body', allowed_postags=['NOUN', 'ADJ']):\n",
        "    \"\"\"Preprocessing function to apply to the comments dataframe.\"\"\"\n",
        "    for parsed in nlp.pipe(line_read(df, text_col), batch_size=1000, disable=[\"ner\"]):\n",
        "        # Gather lowercased, lemmatized tokens\n",
        "        tokens = [token.lemma_.lower() if token.lemma_ != '-PRON-'\n",
        "                  else token.lower_ \n",
        "                  for token in parsed if not clean(token)]\n",
        "        # Remove specific lemmatizations, and words that are not nouns or adjectives\n",
        "        tokens = [lemma\n",
        "                  for lemma in tokens\n",
        "                  if not lemma in [\"'s\",  \"’s\", \"’\"] and not lemma in allowed_postags]\n",
        "        # Remove stop words\n",
        "        tokens = [token for token in tokens if token not in spacy.lang.en.stop_words.STOP_WORDS]\n",
        "        yield tokens"
      ],
      "metadata": {
        "id": "V5ndbq5VAEre"
      },
      "execution_count": null,
      "outputs": []
    },
    {
      "cell_type": "code",
      "source": [
        "# creates a list of lists of lemmas in each post\n",
        "lemmas_posts = [line for line in preprocess_posts(df_posts_noBlanks)]"
      ],
      "metadata": {
        "id": "e-aBZ1krAM0C"
      },
      "execution_count": null,
      "outputs": []
    },
    {
      "cell_type": "code",
      "source": [
        "len(lemmas_posts)\n",
        "# confirms that there's a lemma list for each post"
      ],
      "metadata": {
        "colab": {
          "base_uri": "https://localhost:8080/"
        },
        "id": "C7OWAlAJAOWS",
        "outputId": "f8f0cb0f-793e-47ec-b16a-391ef302cdd8"
      },
      "execution_count": null,
      "outputs": [
        {
          "output_type": "execute_result",
          "data": {
            "text/plain": [
              "2388"
            ]
          },
          "metadata": {},
          "execution_count": 36
        }
      ]
    },
    {
      "cell_type": "code",
      "source": [
        "# shows the list of lemmas in the first post\n",
        "lemmas_posts[0]"
      ],
      "metadata": {
        "colab": {
          "base_uri": "https://localhost:8080/"
        },
        "id": "KAjZwNH9APrE",
        "outputId": "4a1923ba-8fd2-4625-eaeb-fd6741ecdecd"
      },
      "execution_count": null,
      "outputs": [
        {
          "output_type": "execute_result",
          "data": {
            "text/plain": [
              "['industry',\n",
              " 'experience',\n",
              " 'publishing',\n",
              " 'like',\n",
              " 'enter',\n",
              " 'field',\n",
              " 'specifically',\n",
              " 'edit',\n",
              " 'usual',\n",
              " 'catch-22',\n",
              " 'hold',\n",
              " 'true',\n",
              " 'job',\n",
              " 'need',\n",
              " 'experience',\n",
              " 'experience',\n",
              " 'need',\n",
              " 'job',\n",
              " 'find',\n",
              " 'entry',\n",
              " 'level',\n",
              " 'work',\n",
              " 'prove',\n",
              " 'difficult',\n",
              " 'live',\n",
              " 'baltimore',\n",
              " 'md',\n",
              " 'feel',\n",
              " 'exhaust',\n",
              " 'obvious',\n",
              " 'avenue',\n",
              " 'send',\n",
              " 'resume',\n",
              " 'cover',\n",
              " 'letter',\n",
              " 'magazine',\n",
              " 'newspaper',\n",
              " 'publishing',\n",
              " 'house',\n",
              " 'etc',\n",
              " 'locate',\n",
              " 'oppose',\n",
              " 'internship',\n",
              " 'course',\n",
              " 'college',\n",
              " 'student',\n",
              " 'tend',\n",
              " 'exclude',\n",
              " 'consideration',\n",
              " 'additionally',\n",
              " 'support',\n",
              " 'work',\n",
              " 'pay',\n",
              " 'obvious',\n",
              " 'sense',\n",
              " 'priority',\n",
              " 'realize',\n",
              " 'reader',\n",
              " 'subreddit',\n",
              " 'shot',\n",
              " 'dark',\n",
              " 'use',\n",
              " 'advice',\n",
              " 'person',\n",
              " 'familiar',\n",
              " 'industry',\n",
              " 'consider',\n",
              " 'send',\n",
              " 'email',\n",
              " 'editor',\n",
              " 'blog',\n",
              " 'read',\n",
              " 'ask',\n",
              " 'similar',\n",
              " 'guidance',\n",
              " 'perceive',\n",
              " 'brazen']"
            ]
          },
          "metadata": {},
          "execution_count": 37
        }
      ]
    },
    {
      "cell_type": "code",
      "source": [
        "lemmas_posts[19]"
      ],
      "metadata": {
        "colab": {
          "base_uri": "https://localhost:8080/"
        },
        "id": "Wjk1zbnWARD3",
        "outputId": "733bd36e-020d-45c8-85ee-86c6cafea278"
      },
      "execution_count": null,
      "outputs": [
        {
          "output_type": "execute_result",
          "data": {
            "text/plain": [
              "['write',\n",
              " 'poem',\n",
              " 'book',\n",
              " 'freshman',\n",
              " 'year',\n",
              " 'high',\n",
              " 'school',\n",
              " 'second',\n",
              " 'year',\n",
              " 'college',\n",
              " 'dream',\n",
              " 'publish',\n",
              " 'poem',\n",
              " 'know',\n",
              " 'poem',\n",
              " 'let',\n",
              " 'book',\n",
              " 'money',\n",
              " 'order',\n",
              " 'book',\n",
              " 'copy',\n",
              " 'think',\n",
              " 'possible',\n",
              " 'post',\n",
              " 'online',\n",
              " 'website',\n",
              " 'recognize',\n",
              " 'work',\n",
              " 'anybody',\n",
              " 'know',\n",
              " 'help',\n",
              " 'greatly',\n",
              " 'appreciated']"
            ]
          },
          "metadata": {},
          "execution_count": 38
        }
      ]
    },
    {
      "cell_type": "code",
      "source": [
        "# creates a list of lists of lemmas in each comment\n",
        "lemmas_comments = [line for line in preprocess_comments(df_comments_noBlanks)]"
      ],
      "metadata": {
        "id": "rIcICgBeATJe"
      },
      "execution_count": null,
      "outputs": []
    },
    {
      "cell_type": "code",
      "source": [
        "# shows the list of lemmas in the first comment\n",
        "lemmas_comments[0]"
      ],
      "metadata": {
        "colab": {
          "base_uri": "https://localhost:8080/"
        },
        "id": "kFy-Q5kSAUmt",
        "outputId": "7538bc40-6618-46e6-d3e7-b94b989b0387"
      },
      "execution_count": null,
      "outputs": [
        {
          "output_type": "execute_result",
          "data": {
            "text/plain": [
              "['great', 'tip', 'start', 'market', 'book', 'online', 'publish']"
            ]
          },
          "metadata": {},
          "execution_count": 40
        }
      ]
    },
    {
      "cell_type": "code",
      "source": [
        "# flattens the list of lists into one big list to facilitate counting lemma frequency\n",
        "flat_lemmas_posts = [item for sublist in lemmas_posts for item in sublist]\n",
        "flat_lemmas_posts[:30]"
      ],
      "metadata": {
        "colab": {
          "base_uri": "https://localhost:8080/"
        },
        "id": "LaNzZsD7AXKS",
        "outputId": "63f4f0a2-70c5-453b-cb38-7a26ed86a9c9"
      },
      "execution_count": null,
      "outputs": [
        {
          "output_type": "execute_result",
          "data": {
            "text/plain": [
              "['industry',\n",
              " 'experience',\n",
              " 'publishing',\n",
              " 'like',\n",
              " 'enter',\n",
              " 'field',\n",
              " 'specifically',\n",
              " 'edit',\n",
              " 'usual',\n",
              " 'catch-22',\n",
              " 'hold',\n",
              " 'true',\n",
              " 'job',\n",
              " 'need',\n",
              " 'experience',\n",
              " 'experience',\n",
              " 'need',\n",
              " 'job',\n",
              " 'find',\n",
              " 'entry',\n",
              " 'level',\n",
              " 'work',\n",
              " 'prove',\n",
              " 'difficult',\n",
              " 'live',\n",
              " 'baltimore',\n",
              " 'md',\n",
              " 'feel',\n",
              " 'exhaust',\n",
              " 'obvious']"
            ]
          },
          "metadata": {},
          "execution_count": 41
        }
      ]
    },
    {
      "cell_type": "code",
      "source": [
        "# creates a df to see which lemmas are the most frequent\n",
        "from collections import Counter\n",
        "posts_count = Counter(flat_lemmas_posts)\n",
        "\n",
        "lemma_freq_df_posts = pd.DataFrame.from_dict(posts_count, orient='index').reset_index()\n",
        "lemma_freq_df_posts = lemma_freq_df_posts.rename(columns={'index':'lemma', 0:'count'})\n",
        "lemma_freq_df_posts.sort_values('count', ascending=False)[:30]"
      ],
      "metadata": {
        "colab": {
          "base_uri": "https://localhost:8080/",
          "height": 990
        },
        "id": "F41JPrFpAZKY",
        "outputId": "417d0445-98f3-40ef-e395-a3cd48d88781"
      },
      "execution_count": null,
      "outputs": [
        {
          "output_type": "execute_result",
          "data": {
            "text/plain": [
              "          lemma  count\n",
              "201        book   3137\n",
              "187     publish   1822\n",
              "2    publishing   1425\n",
              "17         work   1395\n",
              "3          like   1283\n",
              "120        know   1132\n",
              "188        want   1063\n",
              "290   publisher   1059\n",
              "174       write    977\n",
              "77         look    837\n",
              "231       think    705\n",
              "143        good    697\n",
              "194       story    695\n",
              "295      author    651\n",
              "14         find    650\n",
              "389        time    648\n",
              "133       thank    638\n",
              "54          use    613\n",
              "584        help    591\n",
              "177        year    583\n",
              "13         need    547\n",
              "247       agent    530\n",
              "109         try    530\n",
              "424      people    517\n",
              "198        self    513\n",
              "317       start    493\n",
              "1    experience    460\n",
              "397       right    445\n",
              "62         read    439\n",
              "321         new    434"
            ],
            "text/html": [
              "\n",
              "  <div id=\"df-307ed914-3360-4d2f-9705-5925a9734b38\">\n",
              "    <div class=\"colab-df-container\">\n",
              "      <div>\n",
              "<style scoped>\n",
              "    .dataframe tbody tr th:only-of-type {\n",
              "        vertical-align: middle;\n",
              "    }\n",
              "\n",
              "    .dataframe tbody tr th {\n",
              "        vertical-align: top;\n",
              "    }\n",
              "\n",
              "    .dataframe thead th {\n",
              "        text-align: right;\n",
              "    }\n",
              "</style>\n",
              "<table border=\"1\" class=\"dataframe\">\n",
              "  <thead>\n",
              "    <tr style=\"text-align: right;\">\n",
              "      <th></th>\n",
              "      <th>lemma</th>\n",
              "      <th>count</th>\n",
              "    </tr>\n",
              "  </thead>\n",
              "  <tbody>\n",
              "    <tr>\n",
              "      <th>201</th>\n",
              "      <td>book</td>\n",
              "      <td>3137</td>\n",
              "    </tr>\n",
              "    <tr>\n",
              "      <th>187</th>\n",
              "      <td>publish</td>\n",
              "      <td>1822</td>\n",
              "    </tr>\n",
              "    <tr>\n",
              "      <th>2</th>\n",
              "      <td>publishing</td>\n",
              "      <td>1425</td>\n",
              "    </tr>\n",
              "    <tr>\n",
              "      <th>17</th>\n",
              "      <td>work</td>\n",
              "      <td>1395</td>\n",
              "    </tr>\n",
              "    <tr>\n",
              "      <th>3</th>\n",
              "      <td>like</td>\n",
              "      <td>1283</td>\n",
              "    </tr>\n",
              "    <tr>\n",
              "      <th>120</th>\n",
              "      <td>know</td>\n",
              "      <td>1132</td>\n",
              "    </tr>\n",
              "    <tr>\n",
              "      <th>188</th>\n",
              "      <td>want</td>\n",
              "      <td>1063</td>\n",
              "    </tr>\n",
              "    <tr>\n",
              "      <th>290</th>\n",
              "      <td>publisher</td>\n",
              "      <td>1059</td>\n",
              "    </tr>\n",
              "    <tr>\n",
              "      <th>174</th>\n",
              "      <td>write</td>\n",
              "      <td>977</td>\n",
              "    </tr>\n",
              "    <tr>\n",
              "      <th>77</th>\n",
              "      <td>look</td>\n",
              "      <td>837</td>\n",
              "    </tr>\n",
              "    <tr>\n",
              "      <th>231</th>\n",
              "      <td>think</td>\n",
              "      <td>705</td>\n",
              "    </tr>\n",
              "    <tr>\n",
              "      <th>143</th>\n",
              "      <td>good</td>\n",
              "      <td>697</td>\n",
              "    </tr>\n",
              "    <tr>\n",
              "      <th>194</th>\n",
              "      <td>story</td>\n",
              "      <td>695</td>\n",
              "    </tr>\n",
              "    <tr>\n",
              "      <th>295</th>\n",
              "      <td>author</td>\n",
              "      <td>651</td>\n",
              "    </tr>\n",
              "    <tr>\n",
              "      <th>14</th>\n",
              "      <td>find</td>\n",
              "      <td>650</td>\n",
              "    </tr>\n",
              "    <tr>\n",
              "      <th>389</th>\n",
              "      <td>time</td>\n",
              "      <td>648</td>\n",
              "    </tr>\n",
              "    <tr>\n",
              "      <th>133</th>\n",
              "      <td>thank</td>\n",
              "      <td>638</td>\n",
              "    </tr>\n",
              "    <tr>\n",
              "      <th>54</th>\n",
              "      <td>use</td>\n",
              "      <td>613</td>\n",
              "    </tr>\n",
              "    <tr>\n",
              "      <th>584</th>\n",
              "      <td>help</td>\n",
              "      <td>591</td>\n",
              "    </tr>\n",
              "    <tr>\n",
              "      <th>177</th>\n",
              "      <td>year</td>\n",
              "      <td>583</td>\n",
              "    </tr>\n",
              "    <tr>\n",
              "      <th>13</th>\n",
              "      <td>need</td>\n",
              "      <td>547</td>\n",
              "    </tr>\n",
              "    <tr>\n",
              "      <th>247</th>\n",
              "      <td>agent</td>\n",
              "      <td>530</td>\n",
              "    </tr>\n",
              "    <tr>\n",
              "      <th>109</th>\n",
              "      <td>try</td>\n",
              "      <td>530</td>\n",
              "    </tr>\n",
              "    <tr>\n",
              "      <th>424</th>\n",
              "      <td>people</td>\n",
              "      <td>517</td>\n",
              "    </tr>\n",
              "    <tr>\n",
              "      <th>198</th>\n",
              "      <td>self</td>\n",
              "      <td>513</td>\n",
              "    </tr>\n",
              "    <tr>\n",
              "      <th>317</th>\n",
              "      <td>start</td>\n",
              "      <td>493</td>\n",
              "    </tr>\n",
              "    <tr>\n",
              "      <th>1</th>\n",
              "      <td>experience</td>\n",
              "      <td>460</td>\n",
              "    </tr>\n",
              "    <tr>\n",
              "      <th>397</th>\n",
              "      <td>right</td>\n",
              "      <td>445</td>\n",
              "    </tr>\n",
              "    <tr>\n",
              "      <th>62</th>\n",
              "      <td>read</td>\n",
              "      <td>439</td>\n",
              "    </tr>\n",
              "    <tr>\n",
              "      <th>321</th>\n",
              "      <td>new</td>\n",
              "      <td>434</td>\n",
              "    </tr>\n",
              "  </tbody>\n",
              "</table>\n",
              "</div>\n",
              "      <button class=\"colab-df-convert\" onclick=\"convertToInteractive('df-307ed914-3360-4d2f-9705-5925a9734b38')\"\n",
              "              title=\"Convert this dataframe to an interactive table.\"\n",
              "              style=\"display:none;\">\n",
              "        \n",
              "  <svg xmlns=\"http://www.w3.org/2000/svg\" height=\"24px\"viewBox=\"0 0 24 24\"\n",
              "       width=\"24px\">\n",
              "    <path d=\"M0 0h24v24H0V0z\" fill=\"none\"/>\n",
              "    <path d=\"M18.56 5.44l.94 2.06.94-2.06 2.06-.94-2.06-.94-.94-2.06-.94 2.06-2.06.94zm-11 1L8.5 8.5l.94-2.06 2.06-.94-2.06-.94L8.5 2.5l-.94 2.06-2.06.94zm10 10l.94 2.06.94-2.06 2.06-.94-2.06-.94-.94-2.06-.94 2.06-2.06.94z\"/><path d=\"M17.41 7.96l-1.37-1.37c-.4-.4-.92-.59-1.43-.59-.52 0-1.04.2-1.43.59L10.3 9.45l-7.72 7.72c-.78.78-.78 2.05 0 2.83L4 21.41c.39.39.9.59 1.41.59.51 0 1.02-.2 1.41-.59l7.78-7.78 2.81-2.81c.8-.78.8-2.07 0-2.86zM5.41 20L4 18.59l7.72-7.72 1.47 1.35L5.41 20z\"/>\n",
              "  </svg>\n",
              "      </button>\n",
              "      \n",
              "  <style>\n",
              "    .colab-df-container {\n",
              "      display:flex;\n",
              "      flex-wrap:wrap;\n",
              "      gap: 12px;\n",
              "    }\n",
              "\n",
              "    .colab-df-convert {\n",
              "      background-color: #E8F0FE;\n",
              "      border: none;\n",
              "      border-radius: 50%;\n",
              "      cursor: pointer;\n",
              "      display: none;\n",
              "      fill: #1967D2;\n",
              "      height: 32px;\n",
              "      padding: 0 0 0 0;\n",
              "      width: 32px;\n",
              "    }\n",
              "\n",
              "    .colab-df-convert:hover {\n",
              "      background-color: #E2EBFA;\n",
              "      box-shadow: 0px 1px 2px rgba(60, 64, 67, 0.3), 0px 1px 3px 1px rgba(60, 64, 67, 0.15);\n",
              "      fill: #174EA6;\n",
              "    }\n",
              "\n",
              "    [theme=dark] .colab-df-convert {\n",
              "      background-color: #3B4455;\n",
              "      fill: #D2E3FC;\n",
              "    }\n",
              "\n",
              "    [theme=dark] .colab-df-convert:hover {\n",
              "      background-color: #434B5C;\n",
              "      box-shadow: 0px 1px 3px 1px rgba(0, 0, 0, 0.15);\n",
              "      filter: drop-shadow(0px 1px 2px rgba(0, 0, 0, 0.3));\n",
              "      fill: #FFFFFF;\n",
              "    }\n",
              "  </style>\n",
              "\n",
              "      <script>\n",
              "        const buttonEl =\n",
              "          document.querySelector('#df-307ed914-3360-4d2f-9705-5925a9734b38 button.colab-df-convert');\n",
              "        buttonEl.style.display =\n",
              "          google.colab.kernel.accessAllowed ? 'block' : 'none';\n",
              "\n",
              "        async function convertToInteractive(key) {\n",
              "          const element = document.querySelector('#df-307ed914-3360-4d2f-9705-5925a9734b38');\n",
              "          const dataTable =\n",
              "            await google.colab.kernel.invokeFunction('convertToInteractive',\n",
              "                                                     [key], {});\n",
              "          if (!dataTable) return;\n",
              "\n",
              "          const docLinkHtml = 'Like what you see? Visit the ' +\n",
              "            '<a target=\"_blank\" href=https://colab.research.google.com/notebooks/data_table.ipynb>data table notebook</a>'\n",
              "            + ' to learn more about interactive tables.';\n",
              "          element.innerHTML = '';\n",
              "          dataTable['output_type'] = 'display_data';\n",
              "          await google.colab.output.renderOutput(dataTable, element);\n",
              "          const docLink = document.createElement('div');\n",
              "          docLink.innerHTML = docLinkHtml;\n",
              "          element.appendChild(docLink);\n",
              "        }\n",
              "      </script>\n",
              "    </div>\n",
              "  </div>\n",
              "  "
            ]
          },
          "metadata": {},
          "execution_count": 42
        }
      ]
    },
    {
      "cell_type": "code",
      "source": [
        "# replicates this same process for the comments\n",
        "flat_lemmas_comments = [item for sublist in lemmas_comments for item in sublist]\n",
        "flat_lemmas_comments[:30]"
      ],
      "metadata": {
        "colab": {
          "base_uri": "https://localhost:8080/"
        },
        "id": "D73vUky9AasT",
        "outputId": "26baa08d-1bc1-4161-e163-358bb40fca05"
      },
      "execution_count": null,
      "outputs": [
        {
          "output_type": "execute_result",
          "data": {
            "text/plain": [
              "['great',\n",
              " 'tip',\n",
              " 'start',\n",
              " 'market',\n",
              " 'book',\n",
              " 'online',\n",
              " 'publish',\n",
              " 'think',\n",
              " 'extremely',\n",
              " 'hard',\n",
              " 'find',\n",
              " 'salaried',\n",
              " 'position',\n",
              " 'editor',\n",
              " 'copy',\n",
              " 'editor',\n",
              " 'acquisition',\n",
              " 'specify',\n",
              " 'good',\n",
              " 'economy',\n",
              " 'industry',\n",
              " 'shrink',\n",
              " 'position',\n",
              " 'turn',\n",
              " 'rapidly',\n",
              " 'tend',\n",
              " 'mobility',\n",
              " 'publishing',\n",
              " 'organization',\n",
              " 'gopher']"
            ]
          },
          "metadata": {},
          "execution_count": 43
        }
      ]
    },
    {
      "cell_type": "code",
      "source": [
        "comments_count = Counter(flat_lemmas_comments)\n",
        "\n",
        "lemma_freq_df_comments = pd.DataFrame.from_dict(comments_count, orient='index').reset_index()\n",
        "lemma_freq_df_comments = lemma_freq_df_comments.rename(columns={'index':'lemma', 0:'count'})\n",
        "lemma_freq_df_comments.sort_values('count', ascending=False)[:30]"
      ],
      "metadata": {
        "colab": {
          "base_uri": "https://localhost:8080/",
          "height": 990
        },
        "id": "UrWNbNQuAcM5",
        "outputId": "1abad523-d7bf-421a-bd6e-540948d273c6"
      },
      "execution_count": null,
      "outputs": [
        {
          "output_type": "execute_result",
          "data": {
            "text/plain": [
              "          lemma  count\n",
              "4          book  10179\n",
              "72         work   5765\n",
              "321   publisher   5153\n",
              "6       publish   4866\n",
              "25   publishing   4497\n",
              "17         good   4237\n",
              "161        like   4042\n",
              "323        want   3664\n",
              "170      author   3409\n",
              "941       agent   3215\n",
              "105        know   3208\n",
              "7         think   3077\n",
              "550        look   2980\n",
              "152      people   2750\n",
              "413       write   2653\n",
              "176       thank   2574\n",
              "83         need   2512\n",
              "330        time   2358\n",
              "196         use   2201\n",
              "10         find   2174\n",
              "420        self   2116\n",
              "315         lot   2107\n",
              "86          pay   2013\n",
              "30        thing   1898\n",
              "421        sell   1869\n",
              "192         try   1868\n",
              "38          job   1864\n",
              "202       right   1860\n",
              "40          way   1829\n",
              "348        help   1763"
            ],
            "text/html": [
              "\n",
              "  <div id=\"df-c7e685c1-ec69-4d32-b060-c1a156c00eb7\">\n",
              "    <div class=\"colab-df-container\">\n",
              "      <div>\n",
              "<style scoped>\n",
              "    .dataframe tbody tr th:only-of-type {\n",
              "        vertical-align: middle;\n",
              "    }\n",
              "\n",
              "    .dataframe tbody tr th {\n",
              "        vertical-align: top;\n",
              "    }\n",
              "\n",
              "    .dataframe thead th {\n",
              "        text-align: right;\n",
              "    }\n",
              "</style>\n",
              "<table border=\"1\" class=\"dataframe\">\n",
              "  <thead>\n",
              "    <tr style=\"text-align: right;\">\n",
              "      <th></th>\n",
              "      <th>lemma</th>\n",
              "      <th>count</th>\n",
              "    </tr>\n",
              "  </thead>\n",
              "  <tbody>\n",
              "    <tr>\n",
              "      <th>4</th>\n",
              "      <td>book</td>\n",
              "      <td>10179</td>\n",
              "    </tr>\n",
              "    <tr>\n",
              "      <th>72</th>\n",
              "      <td>work</td>\n",
              "      <td>5765</td>\n",
              "    </tr>\n",
              "    <tr>\n",
              "      <th>321</th>\n",
              "      <td>publisher</td>\n",
              "      <td>5153</td>\n",
              "    </tr>\n",
              "    <tr>\n",
              "      <th>6</th>\n",
              "      <td>publish</td>\n",
              "      <td>4866</td>\n",
              "    </tr>\n",
              "    <tr>\n",
              "      <th>25</th>\n",
              "      <td>publishing</td>\n",
              "      <td>4497</td>\n",
              "    </tr>\n",
              "    <tr>\n",
              "      <th>17</th>\n",
              "      <td>good</td>\n",
              "      <td>4237</td>\n",
              "    </tr>\n",
              "    <tr>\n",
              "      <th>161</th>\n",
              "      <td>like</td>\n",
              "      <td>4042</td>\n",
              "    </tr>\n",
              "    <tr>\n",
              "      <th>323</th>\n",
              "      <td>want</td>\n",
              "      <td>3664</td>\n",
              "    </tr>\n",
              "    <tr>\n",
              "      <th>170</th>\n",
              "      <td>author</td>\n",
              "      <td>3409</td>\n",
              "    </tr>\n",
              "    <tr>\n",
              "      <th>941</th>\n",
              "      <td>agent</td>\n",
              "      <td>3215</td>\n",
              "    </tr>\n",
              "    <tr>\n",
              "      <th>105</th>\n",
              "      <td>know</td>\n",
              "      <td>3208</td>\n",
              "    </tr>\n",
              "    <tr>\n",
              "      <th>7</th>\n",
              "      <td>think</td>\n",
              "      <td>3077</td>\n",
              "    </tr>\n",
              "    <tr>\n",
              "      <th>550</th>\n",
              "      <td>look</td>\n",
              "      <td>2980</td>\n",
              "    </tr>\n",
              "    <tr>\n",
              "      <th>152</th>\n",
              "      <td>people</td>\n",
              "      <td>2750</td>\n",
              "    </tr>\n",
              "    <tr>\n",
              "      <th>413</th>\n",
              "      <td>write</td>\n",
              "      <td>2653</td>\n",
              "    </tr>\n",
              "    <tr>\n",
              "      <th>176</th>\n",
              "      <td>thank</td>\n",
              "      <td>2574</td>\n",
              "    </tr>\n",
              "    <tr>\n",
              "      <th>83</th>\n",
              "      <td>need</td>\n",
              "      <td>2512</td>\n",
              "    </tr>\n",
              "    <tr>\n",
              "      <th>330</th>\n",
              "      <td>time</td>\n",
              "      <td>2358</td>\n",
              "    </tr>\n",
              "    <tr>\n",
              "      <th>196</th>\n",
              "      <td>use</td>\n",
              "      <td>2201</td>\n",
              "    </tr>\n",
              "    <tr>\n",
              "      <th>10</th>\n",
              "      <td>find</td>\n",
              "      <td>2174</td>\n",
              "    </tr>\n",
              "    <tr>\n",
              "      <th>420</th>\n",
              "      <td>self</td>\n",
              "      <td>2116</td>\n",
              "    </tr>\n",
              "    <tr>\n",
              "      <th>315</th>\n",
              "      <td>lot</td>\n",
              "      <td>2107</td>\n",
              "    </tr>\n",
              "    <tr>\n",
              "      <th>86</th>\n",
              "      <td>pay</td>\n",
              "      <td>2013</td>\n",
              "    </tr>\n",
              "    <tr>\n",
              "      <th>30</th>\n",
              "      <td>thing</td>\n",
              "      <td>1898</td>\n",
              "    </tr>\n",
              "    <tr>\n",
              "      <th>421</th>\n",
              "      <td>sell</td>\n",
              "      <td>1869</td>\n",
              "    </tr>\n",
              "    <tr>\n",
              "      <th>192</th>\n",
              "      <td>try</td>\n",
              "      <td>1868</td>\n",
              "    </tr>\n",
              "    <tr>\n",
              "      <th>38</th>\n",
              "      <td>job</td>\n",
              "      <td>1864</td>\n",
              "    </tr>\n",
              "    <tr>\n",
              "      <th>202</th>\n",
              "      <td>right</td>\n",
              "      <td>1860</td>\n",
              "    </tr>\n",
              "    <tr>\n",
              "      <th>40</th>\n",
              "      <td>way</td>\n",
              "      <td>1829</td>\n",
              "    </tr>\n",
              "    <tr>\n",
              "      <th>348</th>\n",
              "      <td>help</td>\n",
              "      <td>1763</td>\n",
              "    </tr>\n",
              "  </tbody>\n",
              "</table>\n",
              "</div>\n",
              "      <button class=\"colab-df-convert\" onclick=\"convertToInteractive('df-c7e685c1-ec69-4d32-b060-c1a156c00eb7')\"\n",
              "              title=\"Convert this dataframe to an interactive table.\"\n",
              "              style=\"display:none;\">\n",
              "        \n",
              "  <svg xmlns=\"http://www.w3.org/2000/svg\" height=\"24px\"viewBox=\"0 0 24 24\"\n",
              "       width=\"24px\">\n",
              "    <path d=\"M0 0h24v24H0V0z\" fill=\"none\"/>\n",
              "    <path d=\"M18.56 5.44l.94 2.06.94-2.06 2.06-.94-2.06-.94-.94-2.06-.94 2.06-2.06.94zm-11 1L8.5 8.5l.94-2.06 2.06-.94-2.06-.94L8.5 2.5l-.94 2.06-2.06.94zm10 10l.94 2.06.94-2.06 2.06-.94-2.06-.94-.94-2.06-.94 2.06-2.06.94z\"/><path d=\"M17.41 7.96l-1.37-1.37c-.4-.4-.92-.59-1.43-.59-.52 0-1.04.2-1.43.59L10.3 9.45l-7.72 7.72c-.78.78-.78 2.05 0 2.83L4 21.41c.39.39.9.59 1.41.59.51 0 1.02-.2 1.41-.59l7.78-7.78 2.81-2.81c.8-.78.8-2.07 0-2.86zM5.41 20L4 18.59l7.72-7.72 1.47 1.35L5.41 20z\"/>\n",
              "  </svg>\n",
              "      </button>\n",
              "      \n",
              "  <style>\n",
              "    .colab-df-container {\n",
              "      display:flex;\n",
              "      flex-wrap:wrap;\n",
              "      gap: 12px;\n",
              "    }\n",
              "\n",
              "    .colab-df-convert {\n",
              "      background-color: #E8F0FE;\n",
              "      border: none;\n",
              "      border-radius: 50%;\n",
              "      cursor: pointer;\n",
              "      display: none;\n",
              "      fill: #1967D2;\n",
              "      height: 32px;\n",
              "      padding: 0 0 0 0;\n",
              "      width: 32px;\n",
              "    }\n",
              "\n",
              "    .colab-df-convert:hover {\n",
              "      background-color: #E2EBFA;\n",
              "      box-shadow: 0px 1px 2px rgba(60, 64, 67, 0.3), 0px 1px 3px 1px rgba(60, 64, 67, 0.15);\n",
              "      fill: #174EA6;\n",
              "    }\n",
              "\n",
              "    [theme=dark] .colab-df-convert {\n",
              "      background-color: #3B4455;\n",
              "      fill: #D2E3FC;\n",
              "    }\n",
              "\n",
              "    [theme=dark] .colab-df-convert:hover {\n",
              "      background-color: #434B5C;\n",
              "      box-shadow: 0px 1px 3px 1px rgba(0, 0, 0, 0.15);\n",
              "      filter: drop-shadow(0px 1px 2px rgba(0, 0, 0, 0.3));\n",
              "      fill: #FFFFFF;\n",
              "    }\n",
              "  </style>\n",
              "\n",
              "      <script>\n",
              "        const buttonEl =\n",
              "          document.querySelector('#df-c7e685c1-ec69-4d32-b060-c1a156c00eb7 button.colab-df-convert');\n",
              "        buttonEl.style.display =\n",
              "          google.colab.kernel.accessAllowed ? 'block' : 'none';\n",
              "\n",
              "        async function convertToInteractive(key) {\n",
              "          const element = document.querySelector('#df-c7e685c1-ec69-4d32-b060-c1a156c00eb7');\n",
              "          const dataTable =\n",
              "            await google.colab.kernel.invokeFunction('convertToInteractive',\n",
              "                                                     [key], {});\n",
              "          if (!dataTable) return;\n",
              "\n",
              "          const docLinkHtml = 'Like what you see? Visit the ' +\n",
              "            '<a target=\"_blank\" href=https://colab.research.google.com/notebooks/data_table.ipynb>data table notebook</a>'\n",
              "            + ' to learn more about interactive tables.';\n",
              "          element.innerHTML = '';\n",
              "          dataTable['output_type'] = 'display_data';\n",
              "          await google.colab.output.renderOutput(dataTable, element);\n",
              "          const docLink = document.createElement('div');\n",
              "          docLink.innerHTML = docLinkHtml;\n",
              "          element.appendChild(docLink);\n",
              "        }\n",
              "      </script>\n",
              "    </div>\n",
              "  </div>\n",
              "  "
            ]
          },
          "metadata": {},
          "execution_count": 44
        }
      ]
    },
    {
      "cell_type": "code",
      "source": [
        "# adds lemmas column to new submissions csv\n",
        "df_posts_noBlanks.insert(loc=5, column='lemmas', value=lemmas_posts)\n",
        "df_posts_noBlanks = df_posts_noBlanks[~df_posts_noBlanks['lemmas'].isin([''])]\n",
        "# df_posts_noBlanks.to_csv('submissions_lemmas.csv', index=False)"
      ],
      "metadata": {
        "id": "y-rtXPETAdzx"
      },
      "execution_count": null,
      "outputs": []
    },
    {
      "cell_type": "code",
      "source": [
        "# adds lemmas column to new comments csv\n",
        "df_comments_noBlanks.insert(loc=7, column='lemmas', value=lemmas_comments)\n",
        "df_comments_noBlanks = df_comments_noBlanks[~df_comments_noBlanks['lemmas'].isin([''])]\n",
        "# df_comments_noBlanks.to_csv('comments_lemmas.csv', index=False)"
      ],
      "metadata": {
        "id": "xpgXjIXoAeOD"
      },
      "execution_count": null,
      "outputs": []
    },
    {
      "cell_type": "markdown",
      "metadata": {
        "id": "m0CmgUtYCoM5"
      },
      "source": [
        "Phrase Modeling with `gensim`"
      ]
    },
    {
      "cell_type": "code",
      "execution_count": null,
      "metadata": {
        "colab": {
          "base_uri": "https://localhost:8080/",
          "height": 235
        },
        "id": "S_T40tAKCzx3",
        "outputId": "3c837d98-09fa-459a-fab2-d626ae056e00"
      },
      "outputs": [
        {
          "output_type": "error",
          "ename": "NameError",
          "evalue": "ignored",
          "traceback": [
            "\u001b[0;31m---------------------------------------------------------------------------\u001b[0m",
            "\u001b[0;31mNameError\u001b[0m                                 Traceback (most recent call last)",
            "\u001b[0;32m<ipython-input-47-307b5287d638>\u001b[0m in \u001b[0;36m<module>\u001b[0;34m()\u001b[0m\n\u001b[1;32m      2\u001b[0m \u001b[0;34m\u001b[0m\u001b[0m\n\u001b[1;32m      3\u001b[0m \u001b[0;31m# Create bigram and trigram models\u001b[0m\u001b[0;34m\u001b[0m\u001b[0;34m\u001b[0m\u001b[0;34m\u001b[0m\u001b[0m\n\u001b[0;32m----> 4\u001b[0;31m \u001b[0mbigram\u001b[0m \u001b[0;34m=\u001b[0m \u001b[0mPhrases\u001b[0m\u001b[0;34m(\u001b[0m\u001b[0mlemmas\u001b[0m\u001b[0;34m,\u001b[0m \u001b[0mmin_count\u001b[0m\u001b[0;34m=\u001b[0m\u001b[0;36m10\u001b[0m\u001b[0;34m,\u001b[0m \u001b[0mthreshold\u001b[0m\u001b[0;34m=\u001b[0m\u001b[0;36m100\u001b[0m\u001b[0;34m)\u001b[0m\u001b[0;34m\u001b[0m\u001b[0;34m\u001b[0m\u001b[0m\n\u001b[0m\u001b[1;32m      5\u001b[0m \u001b[0mtrigram\u001b[0m \u001b[0;34m=\u001b[0m \u001b[0mPhrases\u001b[0m\u001b[0;34m(\u001b[0m\u001b[0mbigram\u001b[0m\u001b[0;34m[\u001b[0m\u001b[0mlemmas\u001b[0m\u001b[0;34m]\u001b[0m\u001b[0;34m,\u001b[0m \u001b[0mmin_count\u001b[0m\u001b[0;34m=\u001b[0m\u001b[0;36m10\u001b[0m\u001b[0;34m,\u001b[0m \u001b[0mthreshold\u001b[0m\u001b[0;34m=\u001b[0m\u001b[0;36m50\u001b[0m\u001b[0;34m)\u001b[0m\u001b[0;34m\u001b[0m\u001b[0;34m\u001b[0m\u001b[0m\n\u001b[1;32m      6\u001b[0m \u001b[0mbigram_phraser\u001b[0m \u001b[0;34m=\u001b[0m \u001b[0mPhraser\u001b[0m\u001b[0;34m(\u001b[0m\u001b[0mbigram\u001b[0m\u001b[0;34m)\u001b[0m\u001b[0;34m\u001b[0m\u001b[0;34m\u001b[0m\u001b[0m\n",
            "\u001b[0;31mNameError\u001b[0m: name 'lemmas' is not defined"
          ]
        }
      ],
      "source": [
        "from gensim.models.phrases import Phrases, Phraser\n",
        "\n",
        "# Create bigram and trigram models\n",
        "bigram = Phrases(lemmas, min_count=10, threshold=100)\n",
        "trigram = Phrases(bigram[lemmas], min_count=10, threshold=50)  \n",
        "bigram_phraser = Phraser(bigram)\n",
        "trigram_phraser = Phraser(trigram)\n",
        "\n",
        "# Form trigrams\n",
        "trigrams = [trigram_phraser[bigram_phraser[doc]] for doc in lemmas]"
      ]
    },
    {
      "cell_type": "code",
      "execution_count": null,
      "metadata": {
        "id": "4URcJ83TGHvG"
      },
      "outputs": [],
      "source": [
        "# Join each into a string\n",
        "trigrams_joined = [' '.join(trigram) for trigram in trigrams]\n",
        "trigrams_joined[5]"
      ]
    },
    {
      "cell_type": "code",
      "execution_count": null,
      "metadata": {
        "id": "iW0pvWrOGKWX"
      },
      "outputs": [],
      "source": [
        "trigram_phraser[\"That\", \"was\", \"not\", \"a\", \"big\", \"deal\"]"
      ]
    },
    {
      "cell_type": "code",
      "execution_count": null,
      "metadata": {
        "id": "LEhEfEN_GqqD"
      },
      "outputs": [],
      "source": [
        "len(bigram_phraser.phrasegrams.keys())\n",
        "#We can use .keys() to identify the bigrams in the dataset"
      ]
    },
    {
      "cell_type": "code",
      "execution_count": null,
      "metadata": {
        "id": "8GVZ5r7kG0-N"
      },
      "outputs": [],
      "source": [
        "list(bigram_phraser.phrasegrams.keys())[:10]"
      ]
    },
    {
      "cell_type": "code",
      "execution_count": null,
      "metadata": {
        "id": "4o1NcZsSHLZn"
      },
      "outputs": [],
      "source": [
        "[trigram for trigram in list(trigram_phraser.phrasegrams.keys())]"
      ]
    },
    {
      "cell_type": "markdown",
      "metadata": {
        "id": "CiGTbAXnIBEW"
      },
      "source": [
        "Saving files"
      ]
    },
    {
      "cell_type": "code",
      "execution_count": null,
      "metadata": {
        "id": "sr1MkynuHX7h"
      },
      "outputs": [],
      "source": [
        "# Inserting next to selftext column\n",
        "df_posts_noBlanks.insert(loc=7, column='lemmas', value=trigrams_joined)\n",
        "# Removing empty rows in lemmas\n",
        "df_posts_noBlanks = df_posts_noBlanks[~df_posts_noBlanks['lemmas'].isin([''])]"
      ]
    },
    {
      "cell_type": "code",
      "execution_count": null,
      "metadata": {
        "id": "g9kMBIoUJemy"
      },
      "outputs": [],
      "source": [
        "df_posts_noBlanks.head()"
      ]
    },
    {
      "cell_type": "markdown",
      "metadata": {
        "id": "hm2tPMeWJkyr"
      },
      "source": [
        "## Exploring Texts with `pandas` and `nltk` (based on Model 2 notebook 02)"
      ]
    },
    {
      "cell_type": "code",
      "execution_count": null,
      "metadata": {
        "id": "oSBnH_3gJg0f"
      },
      "outputs": [],
      "source": [
        "# Run if nltk is not installed\n",
        "!pip install nltk"
      ]
    },
    {
      "cell_type": "code",
      "execution_count": null,
      "metadata": {
        "id": "qQbx_MDDJ5Av"
      },
      "outputs": [],
      "source": [
        "# Sort dataframe by highest scores\n",
        "df_posts_noBlanks.sort_values(by=['score'], ascending=True).head(3)\n",
        "#highest is 76"
      ]
    },
    {
      "cell_type": "markdown",
      "metadata": {
        "id": "LtIWfyGjq1w8"
      },
      "source": [
        "Value Counts"
      ]
    },
    {
      "cell_type": "code",
      "execution_count": null,
      "metadata": {
        "id": "Tb0EX5rxq4kh"
      },
      "outputs": [],
      "source": [
        "df_posts_noBlanks['self'].value_counts()"
      ]
    },
    {
      "cell_type": "code",
      "execution_count": null,
      "metadata": {
        "id": "SNiSlro3rg2m"
      },
      "outputs": [],
      "source": [
        "df_posts_noBlanks['nsfw'].value_counts()"
      ]
    },
    {
      "cell_type": "code",
      "execution_count": null,
      "metadata": {
        "id": "JRYvPWbOr_wn"
      },
      "outputs": [],
      "source": [
        "df_posts_noBlanks['score'].value_counts()"
      ]
    },
    {
      "cell_type": "code",
      "execution_count": null,
      "metadata": {
        "id": "8ugCeUI1uDM-"
      },
      "outputs": [],
      "source": [
        "df_comments_noBlanks['parent'].value_counts()"
      ]
    },
    {
      "cell_type": "code",
      "execution_count": null,
      "metadata": {
        "id": "GVmhNUnMuYwu"
      },
      "outputs": [],
      "source": [
        "df_comments_noBlanks['submission'].value_counts()"
      ]
    },
    {
      "cell_type": "markdown",
      "metadata": {
        "id": "Z80q80tUM-Fu"
      },
      "source": [
        "type-token Ratio (TTR)"
      ]
    },
    {
      "cell_type": "code",
      "execution_count": null,
      "metadata": {
        "id": "7vUXWDzlKXHU"
      },
      "outputs": [],
      "source": [
        "def type_token_ratio(tokens):\n",
        "    \"\"\"Calculates type-token ratio on tokens.\"\"\"\n",
        "    numTokens = len(tokens)\n",
        "    numTypes = len(set(tokens))\n",
        "    return numTypes / numTokens"
      ]
    },
    {
      "cell_type": "code",
      "execution_count": null,
      "metadata": {
        "id": "0liFZh7aKXSd"
      },
      "outputs": [],
      "source": [
        "for text in df_posts_noBlanks['lemmas'][100:105]:\n",
        "    tokens = text.split()\n",
        "    print('Text:\\n', text)\n",
        "    print('TTR:', type_token_ratio(tokens), '\\n')"
      ]
    },
    {
      "cell_type": "markdown",
      "metadata": {
        "id": "524SxgK9SqUW"
      },
      "source": [
        "Processing and Analyzing Language with `Text()`"
      ]
    },
    {
      "cell_type": "code",
      "execution_count": null,
      "metadata": {
        "id": "badOmWp9KXb-"
      },
      "outputs": [],
      "source": [
        "tokens = []\n",
        "for idx, row in enumerate(df_posts_noBlanks['lemmas']):\n",
        "    # Notice that we put all tokens in the same list\n",
        "    tokens.extend(row.split(' '))"
      ]
    },
    {
      "cell_type": "code",
      "execution_count": null,
      "metadata": {
        "id": "LVDXjdEtKXji"
      },
      "outputs": [],
      "source": [
        "import nltk\n",
        "nltk.download('stopwords')\n",
        "from nltk.text import Text\n",
        "\n",
        "aita_tokens = Text(tokens)"
      ]
    },
    {
      "cell_type": "code",
      "execution_count": null,
      "metadata": {
        "id": "hZFiHgr6KXmG"
      },
      "outputs": [],
      "source": [
        "help(Text)"
      ]
    },
    {
      "cell_type": "markdown",
      "metadata": {
        "id": "6zjEulkYUxX4"
      },
      "source": [
        "Concordances"
      ]
    },
    {
      "cell_type": "code",
      "execution_count": null,
      "metadata": {
        "id": "pH8--CgSKXo7"
      },
      "outputs": [],
      "source": [
        "aita_tokens.concordance('Canada', width=75)"
      ]
    },
    {
      "cell_type": "markdown",
      "metadata": {
        "id": "az4VGKgKVAmR"
      },
      "source": [
        "Collections"
      ]
    },
    {
      "cell_type": "code",
      "execution_count": null,
      "metadata": {
        "id": "vExVQv83VATE"
      },
      "outputs": [],
      "source": [
        "aita_tokens.collocation_list()"
      ]
    },
    {
      "cell_type": "markdown",
      "metadata": {
        "id": "lWGn6ZyfXzRg"
      },
      "source": [
        "Similar Words"
      ]
    },
    {
      "cell_type": "code",
      "execution_count": null,
      "metadata": {
        "id": "Pbj5K8nNXuw3"
      },
      "outputs": [],
      "source": [
        "aita_tokens.similar('agent')"
      ]
    },
    {
      "cell_type": "markdown",
      "metadata": {
        "id": "f6UN4dZwYVV0"
      },
      "source": [
        "Common Context"
      ]
    },
    {
      "cell_type": "code",
      "execution_count": null,
      "metadata": {
        "id": "u5TGh20vKXry"
      },
      "outputs": [],
      "source": [
        "aita_tokens.common_contexts(['novel', 'fiction'])"
      ]
    },
    {
      "cell_type": "markdown",
      "metadata": {
        "id": "EEu88DhdYr2M"
      },
      "source": [
        "Incorporating Time"
      ]
    },
    {
      "cell_type": "code",
      "execution_count": null,
      "metadata": {
        "id": "SrL037g8YrQp"
      },
      "outputs": [],
      "source": [
        "datetimes = pd.to_datetime(df_posts_noBlanks['created'], unit='s')"
      ]
    },
    {
      "cell_type": "code",
      "execution_count": null,
      "metadata": {
        "id": "KU8f-gMWZAWB"
      },
      "outputs": [],
      "source": [
        "df_posts_noBlanks.insert(loc=3, column='created_datetime', value=datetimes)\n",
        "df_posts_noBlanks.head(3)"
      ]
    },
    {
      "cell_type": "code",
      "execution_count": null,
      "metadata": {
        "id": "LJyfxnv8ZAeL"
      },
      "outputs": [],
      "source": [
        "df_2021 = df_posts_noBlanks.loc[pd.DatetimeIndex(df_posts_noBlanks['created_datetime']).year == 2021, :]\n",
        "len(df_2021)"
      ]
    },
    {
      "cell_type": "code",
      "execution_count": null,
      "metadata": {
        "id": "8I5_e8XVZAhO"
      },
      "outputs": [],
      "source": [
        "df_2021.head(3)"
      ]
    },
    {
      "cell_type": "code",
      "execution_count": null,
      "metadata": {
        "id": "xdvmCqVXZh7Z"
      },
      "outputs": [],
      "source": [
        "months_array = pd.DatetimeIndex(df_2021['created_datetime']).month_name()\n",
        "months_array"
      ]
    },
    {
      "cell_type": "markdown",
      "metadata": {
        "id": "09uj65_yvHam"
      },
      "source": [
        "# Module 2 Notebook 3: Term Frequency-Inverse Document Frequency (TF-IDF)\n",
        "\n"
      ]
    },
    {
      "cell_type": "code",
      "execution_count": null,
      "metadata": {
        "id": "Exm6LrGxvP-v"
      },
      "outputs": [],
      "source": [
        "import os\n",
        "import pandas as pd"
      ]
    },
    {
      "cell_type": "code",
      "execution_count": null,
      "metadata": {
        "id": "x_yAv6uTyJQ9"
      },
      "outputs": [],
      "source": [
        ""
      ]
    },
    {
      "cell_type": "markdown",
      "metadata": {
        "id": "UjH1yx9Ovjps"
      },
      "source": [
        "from sklearn.feature_extraction.text import CountVectorizer\n",
        "\n",
        "corpus = [\n",
        "  'Find an agent.',\n",
        "  'I work at a publishing house in their marketing department.',\n",
        "  'Yes, send your stuff to agents (no matter what you have done) and they can help you. ']\n",
        "vectorizer = CountVectorizer()\n",
        "X = vectorizer.fit_transform(corpus)\n",
        "pd.DataFrame(X.toarray(), columns=vectorizer.get_feature_names_out())\n",
        "# Use this if your scikit-learn is older\n",
        "# pd.DataFrame(X.toarray(), columns=vectorizer.get_feature_names())"
      ]
    },
    {
      "cell_type": "markdown",
      "metadata": {
        "id": "D58kBkdVXKdC"
      },
      "source": [
        "# Module 2 Notebook 3: Term Frequency-Inverse Document Frequency (TF-IDF) \n",
        "*JP\n"
      ]
    },
    {
      "cell_type": "markdown",
      "metadata": {
        "id": "nQIpcyNxkp5n"
      },
      "source": [
        "TF-IDF shows which words are most unique/relevant to the sample. High TF-IDF scores indicate high uniqueness. Lower scores may be that the words appear less frequently or that they are not very unique (don't provide much new information about the sample). Standard jargon like \"literary\" or \"publish\" may be on par for r/publishing."
      ]
    },
    {
      "cell_type": "code",
      "execution_count": null,
      "metadata": {
        "id": "wpL8UkPSYmiQ"
      },
      "outputs": [],
      "source": [
        "import os\n",
        "import pandas as pd"
      ]
    },
    {
      "cell_type": "code",
      "execution_count": null,
      "metadata": {
        "id": "0_LIxdgcYoUi",
        "colab": {
          "base_uri": "https://localhost:8080/",
          "height": 173
        },
        "outputId": "1760c635-f007-408c-fead-48befe041938"
      },
      "outputs": [
        {
          "output_type": "execute_result",
          "data": {
            "text/plain": [
              "   agent  agents  an  and  at  can  department  done  find  have  ...  send  \\\n",
              "0      1       0   1    0   0    0           0     0     1     0  ...     0   \n",
              "1      0       0   0    0   1    0           1     0     0     0  ...     0   \n",
              "2      0       1   0    1   0    1           0     1     0     1  ...     1   \n",
              "\n",
              "   stuff  their  they  to  what  work  yes  you  your  \n",
              "0      0      0     0   0     0     0    0    0     0  \n",
              "1      0      1     0   0     0     1    0    0     0  \n",
              "2      1      0     1   1     1     0    1    2     1  \n",
              "\n",
              "[3 rows x 27 columns]"
            ],
            "text/html": [
              "\n",
              "  <div id=\"df-87fe604e-c3b9-4fa6-97e5-ae2c44a3e81c\">\n",
              "    <div class=\"colab-df-container\">\n",
              "      <div>\n",
              "<style scoped>\n",
              "    .dataframe tbody tr th:only-of-type {\n",
              "        vertical-align: middle;\n",
              "    }\n",
              "\n",
              "    .dataframe tbody tr th {\n",
              "        vertical-align: top;\n",
              "    }\n",
              "\n",
              "    .dataframe thead th {\n",
              "        text-align: right;\n",
              "    }\n",
              "</style>\n",
              "<table border=\"1\" class=\"dataframe\">\n",
              "  <thead>\n",
              "    <tr style=\"text-align: right;\">\n",
              "      <th></th>\n",
              "      <th>agent</th>\n",
              "      <th>agents</th>\n",
              "      <th>an</th>\n",
              "      <th>and</th>\n",
              "      <th>at</th>\n",
              "      <th>can</th>\n",
              "      <th>department</th>\n",
              "      <th>done</th>\n",
              "      <th>find</th>\n",
              "      <th>have</th>\n",
              "      <th>...</th>\n",
              "      <th>send</th>\n",
              "      <th>stuff</th>\n",
              "      <th>their</th>\n",
              "      <th>they</th>\n",
              "      <th>to</th>\n",
              "      <th>what</th>\n",
              "      <th>work</th>\n",
              "      <th>yes</th>\n",
              "      <th>you</th>\n",
              "      <th>your</th>\n",
              "    </tr>\n",
              "  </thead>\n",
              "  <tbody>\n",
              "    <tr>\n",
              "      <th>0</th>\n",
              "      <td>1</td>\n",
              "      <td>0</td>\n",
              "      <td>1</td>\n",
              "      <td>0</td>\n",
              "      <td>0</td>\n",
              "      <td>0</td>\n",
              "      <td>0</td>\n",
              "      <td>0</td>\n",
              "      <td>1</td>\n",
              "      <td>0</td>\n",
              "      <td>...</td>\n",
              "      <td>0</td>\n",
              "      <td>0</td>\n",
              "      <td>0</td>\n",
              "      <td>0</td>\n",
              "      <td>0</td>\n",
              "      <td>0</td>\n",
              "      <td>0</td>\n",
              "      <td>0</td>\n",
              "      <td>0</td>\n",
              "      <td>0</td>\n",
              "    </tr>\n",
              "    <tr>\n",
              "      <th>1</th>\n",
              "      <td>0</td>\n",
              "      <td>0</td>\n",
              "      <td>0</td>\n",
              "      <td>0</td>\n",
              "      <td>1</td>\n",
              "      <td>0</td>\n",
              "      <td>1</td>\n",
              "      <td>0</td>\n",
              "      <td>0</td>\n",
              "      <td>0</td>\n",
              "      <td>...</td>\n",
              "      <td>0</td>\n",
              "      <td>0</td>\n",
              "      <td>1</td>\n",
              "      <td>0</td>\n",
              "      <td>0</td>\n",
              "      <td>0</td>\n",
              "      <td>1</td>\n",
              "      <td>0</td>\n",
              "      <td>0</td>\n",
              "      <td>0</td>\n",
              "    </tr>\n",
              "    <tr>\n",
              "      <th>2</th>\n",
              "      <td>0</td>\n",
              "      <td>1</td>\n",
              "      <td>0</td>\n",
              "      <td>1</td>\n",
              "      <td>0</td>\n",
              "      <td>1</td>\n",
              "      <td>0</td>\n",
              "      <td>1</td>\n",
              "      <td>0</td>\n",
              "      <td>1</td>\n",
              "      <td>...</td>\n",
              "      <td>1</td>\n",
              "      <td>1</td>\n",
              "      <td>0</td>\n",
              "      <td>1</td>\n",
              "      <td>1</td>\n",
              "      <td>1</td>\n",
              "      <td>0</td>\n",
              "      <td>1</td>\n",
              "      <td>2</td>\n",
              "      <td>1</td>\n",
              "    </tr>\n",
              "  </tbody>\n",
              "</table>\n",
              "<p>3 rows × 27 columns</p>\n",
              "</div>\n",
              "      <button class=\"colab-df-convert\" onclick=\"convertToInteractive('df-87fe604e-c3b9-4fa6-97e5-ae2c44a3e81c')\"\n",
              "              title=\"Convert this dataframe to an interactive table.\"\n",
              "              style=\"display:none;\">\n",
              "        \n",
              "  <svg xmlns=\"http://www.w3.org/2000/svg\" height=\"24px\"viewBox=\"0 0 24 24\"\n",
              "       width=\"24px\">\n",
              "    <path d=\"M0 0h24v24H0V0z\" fill=\"none\"/>\n",
              "    <path d=\"M18.56 5.44l.94 2.06.94-2.06 2.06-.94-2.06-.94-.94-2.06-.94 2.06-2.06.94zm-11 1L8.5 8.5l.94-2.06 2.06-.94-2.06-.94L8.5 2.5l-.94 2.06-2.06.94zm10 10l.94 2.06.94-2.06 2.06-.94-2.06-.94-.94-2.06-.94 2.06-2.06.94z\"/><path d=\"M17.41 7.96l-1.37-1.37c-.4-.4-.92-.59-1.43-.59-.52 0-1.04.2-1.43.59L10.3 9.45l-7.72 7.72c-.78.78-.78 2.05 0 2.83L4 21.41c.39.39.9.59 1.41.59.51 0 1.02-.2 1.41-.59l7.78-7.78 2.81-2.81c.8-.78.8-2.07 0-2.86zM5.41 20L4 18.59l7.72-7.72 1.47 1.35L5.41 20z\"/>\n",
              "  </svg>\n",
              "      </button>\n",
              "      \n",
              "  <style>\n",
              "    .colab-df-container {\n",
              "      display:flex;\n",
              "      flex-wrap:wrap;\n",
              "      gap: 12px;\n",
              "    }\n",
              "\n",
              "    .colab-df-convert {\n",
              "      background-color: #E8F0FE;\n",
              "      border: none;\n",
              "      border-radius: 50%;\n",
              "      cursor: pointer;\n",
              "      display: none;\n",
              "      fill: #1967D2;\n",
              "      height: 32px;\n",
              "      padding: 0 0 0 0;\n",
              "      width: 32px;\n",
              "    }\n",
              "\n",
              "    .colab-df-convert:hover {\n",
              "      background-color: #E2EBFA;\n",
              "      box-shadow: 0px 1px 2px rgba(60, 64, 67, 0.3), 0px 1px 3px 1px rgba(60, 64, 67, 0.15);\n",
              "      fill: #174EA6;\n",
              "    }\n",
              "\n",
              "    [theme=dark] .colab-df-convert {\n",
              "      background-color: #3B4455;\n",
              "      fill: #D2E3FC;\n",
              "    }\n",
              "\n",
              "    [theme=dark] .colab-df-convert:hover {\n",
              "      background-color: #434B5C;\n",
              "      box-shadow: 0px 1px 3px 1px rgba(0, 0, 0, 0.15);\n",
              "      filter: drop-shadow(0px 1px 2px rgba(0, 0, 0, 0.3));\n",
              "      fill: #FFFFFF;\n",
              "    }\n",
              "  </style>\n",
              "\n",
              "      <script>\n",
              "        const buttonEl =\n",
              "          document.querySelector('#df-87fe604e-c3b9-4fa6-97e5-ae2c44a3e81c button.colab-df-convert');\n",
              "        buttonEl.style.display =\n",
              "          google.colab.kernel.accessAllowed ? 'block' : 'none';\n",
              "\n",
              "        async function convertToInteractive(key) {\n",
              "          const element = document.querySelector('#df-87fe604e-c3b9-4fa6-97e5-ae2c44a3e81c');\n",
              "          const dataTable =\n",
              "            await google.colab.kernel.invokeFunction('convertToInteractive',\n",
              "                                                     [key], {});\n",
              "          if (!dataTable) return;\n",
              "\n",
              "          const docLinkHtml = 'Like what you see? Visit the ' +\n",
              "            '<a target=\"_blank\" href=https://colab.research.google.com/notebooks/data_table.ipynb>data table notebook</a>'\n",
              "            + ' to learn more about interactive tables.';\n",
              "          element.innerHTML = '';\n",
              "          dataTable['output_type'] = 'display_data';\n",
              "          await google.colab.output.renderOutput(dataTable, element);\n",
              "          const docLink = document.createElement('div');\n",
              "          docLink.innerHTML = docLinkHtml;\n",
              "          element.appendChild(docLink);\n",
              "        }\n",
              "      </script>\n",
              "    </div>\n",
              "  </div>\n",
              "  "
            ]
          },
          "metadata": {},
          "execution_count": 49
        }
      ],
      "source": [
        "from sklearn.feature_extraction.text import CountVectorizer\n",
        "corpus = [ 'Find an agent.', 'I work at a publishing house in their marketing department.', 'Yes, send your stuff to agents (no matter what you have done) and they can help you. ']\n",
        "vectorizer = CountVectorizer()\n",
        "X = vectorizer.fit_transform(corpus)\n",
        "pd.DataFrame(X.toarray(), columns=vectorizer.get_feature_names_out())"
      ]
    },
    {
      "cell_type": "code",
      "execution_count": null,
      "metadata": {
        "id": "tnODFARmZOcE"
      },
      "outputs": [],
      "source": [
        "X.shape"
      ]
    },
    {
      "cell_type": "code",
      "execution_count": null,
      "metadata": {
        "id": "mKytcsOJcilh"
      },
      "outputs": [],
      "source": [
        "document1=\"There are several authors who have publicly demeaned self publishing.  It's a shame.  Honestly I think the best way to judge a perception is to gauge success.  We are all aware that there is just as much potential, which some authors have been able to capitalize, in self publishing as there is in the traditional route.\"\n",
        "document2=\"All of the big six houses have summer internship programs--if you go to each of their websites, there's usually a link at the bottom of the page for careers and you should find internship info there. Have you considered literary agencies too? There are hundreds in Manhattan and they're always looking for interns. I work at a literary agency and started off as an intern. There isn't as much editing work at first but it's really invaluable experience. Good luck! \"\"\"  \n",
        "document3=\"Rarely do those nonstandard things cost the author money upfront, though. To me, there's a big difference between an agent wanting a manuscript single spaced when submitted vs. say one saying you need to pay for professional editing before submitting. When money comes into play (like paying for registering a copyright before you should realistically need one) red (or at least orange) flags go up.\"\n",
        "test_list=[document1, document2, document3]"
      ]
    },
    {
      "cell_type": "code",
      "execution_count": null,
      "metadata": {
        "id": "qzg0H0alZ0mv"
      },
      "outputs": [],
      "source": [
        "from sklearn.feature_extraction.text import CountVectorizer\n",
        "\n",
        "cv = CountVectorizer(max_df=0.85, stop_words='english')\n",
        "word_count_vector = cv.fit_transform(test_list)\n",
        "pd.DataFrame(word_count_vector.toarray(), columns=cv.get_feature_names_out())\n",
        "# Use this if your scikit-learn is older\n",
        "# pd.DataFrame(word_count_vector.toarray(), columns=cv.get_feature_names())"
      ]
    },
    {
      "cell_type": "markdown",
      "metadata": {
        "id": "l_kqKaoQaKEp"
      },
      "source": [
        "Using TfidfTransformer\n"
      ]
    },
    {
      "cell_type": "code",
      "execution_count": null,
      "metadata": {
        "id": "LmKxqrHfaUa5"
      },
      "outputs": [],
      "source": [
        "from sklearn.feature_extraction.text import TfidfTransformer\n",
        "\n",
        "tfidf_transformer = TfidfTransformer() \n",
        "tfidf_transformer.fit(word_count_vector)"
      ]
    },
    {
      "cell_type": "code",
      "execution_count": null,
      "metadata": {
        "id": "xJPF_o67ah-b"
      },
      "outputs": [],
      "source": [
        "df_idf = pd.DataFrame(tfidf_transformer.idf_, index=cv.get_feature_names_out(), columns=[\"idf_weights\"]) \n",
        "df_idf.sort_values(by=['idf_weights'])"
      ]
    },
    {
      "cell_type": "code",
      "execution_count": null,
      "metadata": {
        "id": "stRG7qztasRM"
      },
      "outputs": [],
      "source": [
        "tf_idf_vector = tfidf_transformer.transform(word_count_vector)"
      ]
    },
    {
      "cell_type": "code",
      "execution_count": null,
      "metadata": {
        "id": "oZI3pKiRayLA"
      },
      "outputs": [],
      "source": [
        "feature_names = cv.get_feature_names_out() \n"
      ]
    },
    {
      "cell_type": "code",
      "execution_count": null,
      "metadata": {
        "id": "ZsPv3Yxxa-Au"
      },
      "outputs": [],
      "source": [
        "df = pd.DataFrame(tf_idf_vector[2].T.todense(), index=feature_names, columns=[\"tfidf\"]) \n",
        "df.sort_values(by=[\"tfidf\"], ascending=False)"
      ]
    },
    {
      "cell_type": "markdown",
      "metadata": {
        "id": "Ekef9sNGbE5F"
      },
      "source": [
        "The most unique \"relevant\" words to these three given documents are: \"money\" and \"need.\" Words like \"work,\" \"agencies,\" \"manhattan\" are at the bottom. \n",
        "\n",
        "We will apply this method to the rest of the corpus later.\n"
      ]
    }
  ],
  "metadata": {
    "colab": {
      "collapsed_sections": [],
      "name": "dssj_publishing.ipynb",
      "provenance": [],
      "include_colab_link": true
    },
    "kernelspec": {
      "display_name": "Python 3",
      "name": "python3"
    },
    "language_info": {
      "name": "python"
    }
  },
  "nbformat": 4,
  "nbformat_minor": 0
}