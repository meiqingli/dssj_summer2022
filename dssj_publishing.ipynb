{
  "cells": [
    {
      "cell_type": "markdown",
      "metadata": {
        "id": "view-in-github",
        "colab_type": "text"
      },
      "source": [
        "<a href=\"https://colab.research.google.com/github/meiqingli/dssj_summer2022/blob/main/dssj_publishing.ipynb\" target=\"_parent\"><img src=\"https://colab.research.google.com/assets/colab-badge.svg\" alt=\"Open In Colab\"/></a>"
      ]
    },
    {
      "cell_type": "markdown",
      "source": [
        "# Subreddit Text Analysis: Publishing"
      ],
      "metadata": {
        "id": "XWhR72TPOSab"
      }
    },
    {
      "cell_type": "code",
      "source": [
        "import pandas as pd\n",
        "import spacy\n",
        "\n",
        "# Loads the English preprocessing pipeline\n",
        "nlp = spacy.load('en_core_web_sm')\n",
        "\n",
        "# When running analysis, skip data preprocessing and exploratary analysis by direcly read preprocessed data after importing packages: https://colab.research.google.com/drive/1v00PLYVMI3Yi5SLVk3THKHHjNtHeeLkH#scrollTo=ZuAcq3sYMr9d&line=1&uniqifier=1"
      ],
      "metadata": {
        "id": "2nVVQDuiN0uS"
      },
      "execution_count": 93,
      "outputs": []
    },
    {
      "cell_type": "markdown",
      "metadata": {
        "id": "KpvRONF5PbqV"
      },
      "source": [
        "## Data preprocessing (based on module 02 notebook 1)"
      ]
    },
    {
      "cell_type": "code",
      "execution_count": null,
      "metadata": {
        "id": "1R5psFxhrtw0"
      },
      "outputs": [],
      "source": [
        "# Imports pandas for working with csv data\n",
        "import pandas as pd \n",
        "\n",
        "# Github url with comments data\n",
        "url_comments = 'https://gist.githubusercontent.com/meiqingli/5d83de4c508a0564359b2dd07c6839b1/raw/a83a44b0a85ac8ccc10f717495ff6a85c2f93878/comments.csv'\n",
        "\n",
        "# Github url with post data\n",
        "url_posts = 'https://gist.githubusercontent.com/meiqingli/2d128e1cac170d71b3820c51c6c3766e/raw/5be159378011713f1daaca4d683bb6875d11f61f/submissions.csv'\n",
        "\n",
        "# Reads the csv comments file from github\n",
        "df_comments = pd.read_csv(url_comments)\n",
        "\n",
        "# Reads the csv posts file from github\n",
        "df_posts = pd.read_csv(url_posts)"
      ]
    },
    {
      "cell_type": "code",
      "execution_count": null,
      "metadata": {
        "colab": {
          "base_uri": "https://localhost:8080/"
        },
        "id": "aQojv1uftKwL",
        "outputId": "7f80aa4d-a17e-4fe3-8c86-7634bc9f8b0e"
      },
      "outputs": [
        {
          "output_type": "execute_result",
          "data": {
            "text/plain": [
              "(19538, 11)"
            ]
          },
          "metadata": {},
          "execution_count": 2
        }
      ],
      "source": [
        "# Tells us about the general shape of the dfs\n",
        "df_comments.shape"
      ]
    },
    {
      "cell_type": "code",
      "execution_count": null,
      "metadata": {
        "colab": {
          "base_uri": "https://localhost:8080/"
        },
        "id": "t6x1n3ZTwjL3",
        "outputId": "25d4d9fb-34ad-40d8-d0f4-9883d520598e"
      },
      "outputs": [
        {
          "output_type": "execute_result",
          "data": {
            "text/plain": [
              "(7330, 18)"
            ]
          },
          "metadata": {},
          "execution_count": 3
        }
      ],
      "source": [
        "df_posts.shape"
      ]
    },
    {
      "cell_type": "code",
      "execution_count": null,
      "metadata": {
        "colab": {
          "base_uri": "https://localhost:8080/",
          "height": 143
        },
        "id": "2fywUrzTtIeG",
        "outputId": "16e92fa9-15ad-45b4-c1ac-1e7020a9c49a"
      },
      "outputs": [
        {
          "output_type": "execute_result",
          "data": {
            "text/plain": [
              "         idint       idstr     created         author      parent submission  \\\n",
              "0  26160907768  t1_c0nj1mg  1270490234    judycullins    t3_bmr3z   t3_bmr3z   \n",
              "1  26186732829  t1_c12wkd9  1287609142  inigo_montoya    t3_dtpk6   t3_dtpk6   \n",
              "2  26186750085  t1_c12wxol  1287615269      [deleted]  t1_c12wkd9   t3_dtpk6   \n",
              "\n",
              "                                                body  score   subreddit  \\\n",
              "0  8 great tips to start marketing your book onli...      1  publishing   \n",
              "1  I think it's extremely hard to find a salaried...      1  publishing   \n",
              "2  Honestly, I think I would be very happy either...      1  publishing   \n",
              "\n",
              "  distinguish  textlen  \n",
              "0         NaN       68  \n",
              "1         NaN      407  \n",
              "2         NaN      570  "
            ],
            "text/html": [
              "\n",
              "  <div id=\"df-3072ff60-c669-4a88-9d6d-2dc963ed0aab\">\n",
              "    <div class=\"colab-df-container\">\n",
              "      <div>\n",
              "<style scoped>\n",
              "    .dataframe tbody tr th:only-of-type {\n",
              "        vertical-align: middle;\n",
              "    }\n",
              "\n",
              "    .dataframe tbody tr th {\n",
              "        vertical-align: top;\n",
              "    }\n",
              "\n",
              "    .dataframe thead th {\n",
              "        text-align: right;\n",
              "    }\n",
              "</style>\n",
              "<table border=\"1\" class=\"dataframe\">\n",
              "  <thead>\n",
              "    <tr style=\"text-align: right;\">\n",
              "      <th></th>\n",
              "      <th>idint</th>\n",
              "      <th>idstr</th>\n",
              "      <th>created</th>\n",
              "      <th>author</th>\n",
              "      <th>parent</th>\n",
              "      <th>submission</th>\n",
              "      <th>body</th>\n",
              "      <th>score</th>\n",
              "      <th>subreddit</th>\n",
              "      <th>distinguish</th>\n",
              "      <th>textlen</th>\n",
              "    </tr>\n",
              "  </thead>\n",
              "  <tbody>\n",
              "    <tr>\n",
              "      <th>0</th>\n",
              "      <td>26160907768</td>\n",
              "      <td>t1_c0nj1mg</td>\n",
              "      <td>1270490234</td>\n",
              "      <td>judycullins</td>\n",
              "      <td>t3_bmr3z</td>\n",
              "      <td>t3_bmr3z</td>\n",
              "      <td>8 great tips to start marketing your book onli...</td>\n",
              "      <td>1</td>\n",
              "      <td>publishing</td>\n",
              "      <td>NaN</td>\n",
              "      <td>68</td>\n",
              "    </tr>\n",
              "    <tr>\n",
              "      <th>1</th>\n",
              "      <td>26186732829</td>\n",
              "      <td>t1_c12wkd9</td>\n",
              "      <td>1287609142</td>\n",
              "      <td>inigo_montoya</td>\n",
              "      <td>t3_dtpk6</td>\n",
              "      <td>t3_dtpk6</td>\n",
              "      <td>I think it's extremely hard to find a salaried...</td>\n",
              "      <td>1</td>\n",
              "      <td>publishing</td>\n",
              "      <td>NaN</td>\n",
              "      <td>407</td>\n",
              "    </tr>\n",
              "    <tr>\n",
              "      <th>2</th>\n",
              "      <td>26186750085</td>\n",
              "      <td>t1_c12wxol</td>\n",
              "      <td>1287615269</td>\n",
              "      <td>[deleted]</td>\n",
              "      <td>t1_c12wkd9</td>\n",
              "      <td>t3_dtpk6</td>\n",
              "      <td>Honestly, I think I would be very happy either...</td>\n",
              "      <td>1</td>\n",
              "      <td>publishing</td>\n",
              "      <td>NaN</td>\n",
              "      <td>570</td>\n",
              "    </tr>\n",
              "  </tbody>\n",
              "</table>\n",
              "</div>\n",
              "      <button class=\"colab-df-convert\" onclick=\"convertToInteractive('df-3072ff60-c669-4a88-9d6d-2dc963ed0aab')\"\n",
              "              title=\"Convert this dataframe to an interactive table.\"\n",
              "              style=\"display:none;\">\n",
              "        \n",
              "  <svg xmlns=\"http://www.w3.org/2000/svg\" height=\"24px\"viewBox=\"0 0 24 24\"\n",
              "       width=\"24px\">\n",
              "    <path d=\"M0 0h24v24H0V0z\" fill=\"none\"/>\n",
              "    <path d=\"M18.56 5.44l.94 2.06.94-2.06 2.06-.94-2.06-.94-.94-2.06-.94 2.06-2.06.94zm-11 1L8.5 8.5l.94-2.06 2.06-.94-2.06-.94L8.5 2.5l-.94 2.06-2.06.94zm10 10l.94 2.06.94-2.06 2.06-.94-2.06-.94-.94-2.06-.94 2.06-2.06.94z\"/><path d=\"M17.41 7.96l-1.37-1.37c-.4-.4-.92-.59-1.43-.59-.52 0-1.04.2-1.43.59L10.3 9.45l-7.72 7.72c-.78.78-.78 2.05 0 2.83L4 21.41c.39.39.9.59 1.41.59.51 0 1.02-.2 1.41-.59l7.78-7.78 2.81-2.81c.8-.78.8-2.07 0-2.86zM5.41 20L4 18.59l7.72-7.72 1.47 1.35L5.41 20z\"/>\n",
              "  </svg>\n",
              "      </button>\n",
              "      \n",
              "  <style>\n",
              "    .colab-df-container {\n",
              "      display:flex;\n",
              "      flex-wrap:wrap;\n",
              "      gap: 12px;\n",
              "    }\n",
              "\n",
              "    .colab-df-convert {\n",
              "      background-color: #E8F0FE;\n",
              "      border: none;\n",
              "      border-radius: 50%;\n",
              "      cursor: pointer;\n",
              "      display: none;\n",
              "      fill: #1967D2;\n",
              "      height: 32px;\n",
              "      padding: 0 0 0 0;\n",
              "      width: 32px;\n",
              "    }\n",
              "\n",
              "    .colab-df-convert:hover {\n",
              "      background-color: #E2EBFA;\n",
              "      box-shadow: 0px 1px 2px rgba(60, 64, 67, 0.3), 0px 1px 3px 1px rgba(60, 64, 67, 0.15);\n",
              "      fill: #174EA6;\n",
              "    }\n",
              "\n",
              "    [theme=dark] .colab-df-convert {\n",
              "      background-color: #3B4455;\n",
              "      fill: #D2E3FC;\n",
              "    }\n",
              "\n",
              "    [theme=dark] .colab-df-convert:hover {\n",
              "      background-color: #434B5C;\n",
              "      box-shadow: 0px 1px 3px 1px rgba(0, 0, 0, 0.15);\n",
              "      filter: drop-shadow(0px 1px 2px rgba(0, 0, 0, 0.3));\n",
              "      fill: #FFFFFF;\n",
              "    }\n",
              "  </style>\n",
              "\n",
              "      <script>\n",
              "        const buttonEl =\n",
              "          document.querySelector('#df-3072ff60-c669-4a88-9d6d-2dc963ed0aab button.colab-df-convert');\n",
              "        buttonEl.style.display =\n",
              "          google.colab.kernel.accessAllowed ? 'block' : 'none';\n",
              "\n",
              "        async function convertToInteractive(key) {\n",
              "          const element = document.querySelector('#df-3072ff60-c669-4a88-9d6d-2dc963ed0aab');\n",
              "          const dataTable =\n",
              "            await google.colab.kernel.invokeFunction('convertToInteractive',\n",
              "                                                     [key], {});\n",
              "          if (!dataTable) return;\n",
              "\n",
              "          const docLinkHtml = 'Like what you see? Visit the ' +\n",
              "            '<a target=\"_blank\" href=https://colab.research.google.com/notebooks/data_table.ipynb>data table notebook</a>'\n",
              "            + ' to learn more about interactive tables.';\n",
              "          element.innerHTML = '';\n",
              "          dataTable['output_type'] = 'display_data';\n",
              "          await google.colab.output.renderOutput(dataTable, element);\n",
              "          const docLink = document.createElement('div');\n",
              "          docLink.innerHTML = docLinkHtml;\n",
              "          element.appendChild(docLink);\n",
              "        }\n",
              "      </script>\n",
              "    </div>\n",
              "  </div>\n",
              "  "
            ]
          },
          "metadata": {},
          "execution_count": 4
        }
      ],
      "source": [
        "# Shows us the first 3 rows in the dfs\n",
        "df_comments.head(3)"
      ]
    },
    {
      "cell_type": "code",
      "execution_count": null,
      "metadata": {
        "colab": {
          "base_uri": "https://localhost:8080/",
          "height": 326
        },
        "id": "Y3sLRLW3wmoL",
        "outputId": "3efb92ef-d7c7-4e32-df47-25614e263f45"
      },
      "outputs": [
        {
          "output_type": "execute_result",
          "data": {
            "text/plain": [
              "      idint     idstr     created  self  nsfw      author  \\\n",
              "0  12378361  t3_7db7d  1226647810     0     0    soulajax   \n",
              "1  16624895  t3_9wbun  1256143924     0     0  bookmarked   \n",
              "2  17431958  t3_adml2  1260547827     0     0  bookmarked   \n",
              "\n",
              "                                               title  \\\n",
              "0                          Do-It-Yourself Book Press   \n",
              "1  Blending the Old with the New: Backlist Titles...   \n",
              "2                           A Little Something Extra   \n",
              "\n",
              "                                                 url selftext  score  \\\n",
              "0  http://nomediakings.org/doityourself/doityours...      NaN      1   \n",
              "1  http://www.thomasriggs.net/blog/index.php/2009...      NaN      1   \n",
              "2  http://www.thomasriggs.net/blog/index.php/2009...      NaN      1   \n",
              "\n",
              "    subreddit distinguish  textlen  num_comments flair_text  flair_css_class  \\\n",
              "0  publishing         NaN        0             0        NaN              NaN   \n",
              "1  publishing         NaN        0             0        NaN              NaN   \n",
              "2  publishing         NaN        0             0        NaN              NaN   \n",
              "\n",
              "   augmented_at  augmented_count  \n",
              "0           NaN              NaN  \n",
              "1           NaN              NaN  \n",
              "2           NaN              NaN  "
            ],
            "text/html": [
              "\n",
              "  <div id=\"df-065c1e2c-10b9-4365-a5a9-a83d61b0fe26\">\n",
              "    <div class=\"colab-df-container\">\n",
              "      <div>\n",
              "<style scoped>\n",
              "    .dataframe tbody tr th:only-of-type {\n",
              "        vertical-align: middle;\n",
              "    }\n",
              "\n",
              "    .dataframe tbody tr th {\n",
              "        vertical-align: top;\n",
              "    }\n",
              "\n",
              "    .dataframe thead th {\n",
              "        text-align: right;\n",
              "    }\n",
              "</style>\n",
              "<table border=\"1\" class=\"dataframe\">\n",
              "  <thead>\n",
              "    <tr style=\"text-align: right;\">\n",
              "      <th></th>\n",
              "      <th>idint</th>\n",
              "      <th>idstr</th>\n",
              "      <th>created</th>\n",
              "      <th>self</th>\n",
              "      <th>nsfw</th>\n",
              "      <th>author</th>\n",
              "      <th>title</th>\n",
              "      <th>url</th>\n",
              "      <th>selftext</th>\n",
              "      <th>score</th>\n",
              "      <th>subreddit</th>\n",
              "      <th>distinguish</th>\n",
              "      <th>textlen</th>\n",
              "      <th>num_comments</th>\n",
              "      <th>flair_text</th>\n",
              "      <th>flair_css_class</th>\n",
              "      <th>augmented_at</th>\n",
              "      <th>augmented_count</th>\n",
              "    </tr>\n",
              "  </thead>\n",
              "  <tbody>\n",
              "    <tr>\n",
              "      <th>0</th>\n",
              "      <td>12378361</td>\n",
              "      <td>t3_7db7d</td>\n",
              "      <td>1226647810</td>\n",
              "      <td>0</td>\n",
              "      <td>0</td>\n",
              "      <td>soulajax</td>\n",
              "      <td>Do-It-Yourself Book Press</td>\n",
              "      <td>http://nomediakings.org/doityourself/doityours...</td>\n",
              "      <td>NaN</td>\n",
              "      <td>1</td>\n",
              "      <td>publishing</td>\n",
              "      <td>NaN</td>\n",
              "      <td>0</td>\n",
              "      <td>0</td>\n",
              "      <td>NaN</td>\n",
              "      <td>NaN</td>\n",
              "      <td>NaN</td>\n",
              "      <td>NaN</td>\n",
              "    </tr>\n",
              "    <tr>\n",
              "      <th>1</th>\n",
              "      <td>16624895</td>\n",
              "      <td>t3_9wbun</td>\n",
              "      <td>1256143924</td>\n",
              "      <td>0</td>\n",
              "      <td>0</td>\n",
              "      <td>bookmarked</td>\n",
              "      <td>Blending the Old with the New: Backlist Titles...</td>\n",
              "      <td>http://www.thomasriggs.net/blog/index.php/2009...</td>\n",
              "      <td>NaN</td>\n",
              "      <td>1</td>\n",
              "      <td>publishing</td>\n",
              "      <td>NaN</td>\n",
              "      <td>0</td>\n",
              "      <td>0</td>\n",
              "      <td>NaN</td>\n",
              "      <td>NaN</td>\n",
              "      <td>NaN</td>\n",
              "      <td>NaN</td>\n",
              "    </tr>\n",
              "    <tr>\n",
              "      <th>2</th>\n",
              "      <td>17431958</td>\n",
              "      <td>t3_adml2</td>\n",
              "      <td>1260547827</td>\n",
              "      <td>0</td>\n",
              "      <td>0</td>\n",
              "      <td>bookmarked</td>\n",
              "      <td>A Little Something Extra</td>\n",
              "      <td>http://www.thomasriggs.net/blog/index.php/2009...</td>\n",
              "      <td>NaN</td>\n",
              "      <td>1</td>\n",
              "      <td>publishing</td>\n",
              "      <td>NaN</td>\n",
              "      <td>0</td>\n",
              "      <td>0</td>\n",
              "      <td>NaN</td>\n",
              "      <td>NaN</td>\n",
              "      <td>NaN</td>\n",
              "      <td>NaN</td>\n",
              "    </tr>\n",
              "  </tbody>\n",
              "</table>\n",
              "</div>\n",
              "      <button class=\"colab-df-convert\" onclick=\"convertToInteractive('df-065c1e2c-10b9-4365-a5a9-a83d61b0fe26')\"\n",
              "              title=\"Convert this dataframe to an interactive table.\"\n",
              "              style=\"display:none;\">\n",
              "        \n",
              "  <svg xmlns=\"http://www.w3.org/2000/svg\" height=\"24px\"viewBox=\"0 0 24 24\"\n",
              "       width=\"24px\">\n",
              "    <path d=\"M0 0h24v24H0V0z\" fill=\"none\"/>\n",
              "    <path d=\"M18.56 5.44l.94 2.06.94-2.06 2.06-.94-2.06-.94-.94-2.06-.94 2.06-2.06.94zm-11 1L8.5 8.5l.94-2.06 2.06-.94-2.06-.94L8.5 2.5l-.94 2.06-2.06.94zm10 10l.94 2.06.94-2.06 2.06-.94-2.06-.94-.94-2.06-.94 2.06-2.06.94z\"/><path d=\"M17.41 7.96l-1.37-1.37c-.4-.4-.92-.59-1.43-.59-.52 0-1.04.2-1.43.59L10.3 9.45l-7.72 7.72c-.78.78-.78 2.05 0 2.83L4 21.41c.39.39.9.59 1.41.59.51 0 1.02-.2 1.41-.59l7.78-7.78 2.81-2.81c.8-.78.8-2.07 0-2.86zM5.41 20L4 18.59l7.72-7.72 1.47 1.35L5.41 20z\"/>\n",
              "  </svg>\n",
              "      </button>\n",
              "      \n",
              "  <style>\n",
              "    .colab-df-container {\n",
              "      display:flex;\n",
              "      flex-wrap:wrap;\n",
              "      gap: 12px;\n",
              "    }\n",
              "\n",
              "    .colab-df-convert {\n",
              "      background-color: #E8F0FE;\n",
              "      border: none;\n",
              "      border-radius: 50%;\n",
              "      cursor: pointer;\n",
              "      display: none;\n",
              "      fill: #1967D2;\n",
              "      height: 32px;\n",
              "      padding: 0 0 0 0;\n",
              "      width: 32px;\n",
              "    }\n",
              "\n",
              "    .colab-df-convert:hover {\n",
              "      background-color: #E2EBFA;\n",
              "      box-shadow: 0px 1px 2px rgba(60, 64, 67, 0.3), 0px 1px 3px 1px rgba(60, 64, 67, 0.15);\n",
              "      fill: #174EA6;\n",
              "    }\n",
              "\n",
              "    [theme=dark] .colab-df-convert {\n",
              "      background-color: #3B4455;\n",
              "      fill: #D2E3FC;\n",
              "    }\n",
              "\n",
              "    [theme=dark] .colab-df-convert:hover {\n",
              "      background-color: #434B5C;\n",
              "      box-shadow: 0px 1px 3px 1px rgba(0, 0, 0, 0.15);\n",
              "      filter: drop-shadow(0px 1px 2px rgba(0, 0, 0, 0.3));\n",
              "      fill: #FFFFFF;\n",
              "    }\n",
              "  </style>\n",
              "\n",
              "      <script>\n",
              "        const buttonEl =\n",
              "          document.querySelector('#df-065c1e2c-10b9-4365-a5a9-a83d61b0fe26 button.colab-df-convert');\n",
              "        buttonEl.style.display =\n",
              "          google.colab.kernel.accessAllowed ? 'block' : 'none';\n",
              "\n",
              "        async function convertToInteractive(key) {\n",
              "          const element = document.querySelector('#df-065c1e2c-10b9-4365-a5a9-a83d61b0fe26');\n",
              "          const dataTable =\n",
              "            await google.colab.kernel.invokeFunction('convertToInteractive',\n",
              "                                                     [key], {});\n",
              "          if (!dataTable) return;\n",
              "\n",
              "          const docLinkHtml = 'Like what you see? Visit the ' +\n",
              "            '<a target=\"_blank\" href=https://colab.research.google.com/notebooks/data_table.ipynb>data table notebook</a>'\n",
              "            + ' to learn more about interactive tables.';\n",
              "          element.innerHTML = '';\n",
              "          dataTable['output_type'] = 'display_data';\n",
              "          await google.colab.output.renderOutput(dataTable, element);\n",
              "          const docLink = document.createElement('div');\n",
              "          docLink.innerHTML = docLinkHtml;\n",
              "          element.appendChild(docLink);\n",
              "        }\n",
              "      </script>\n",
              "    </div>\n",
              "  </div>\n",
              "  "
            ]
          },
          "metadata": {},
          "execution_count": 5
        }
      ],
      "source": [
        "df_posts.head(3)"
      ]
    },
    {
      "cell_type": "code",
      "execution_count": null,
      "metadata": {
        "colab": {
          "base_uri": "https://localhost:8080/"
        },
        "id": "Azf5xhqvtSWp",
        "outputId": "e52467ba-590c-4f7e-a669-e56fc9ed9ebd"
      },
      "outputs": [
        {
          "output_type": "execute_result",
          "data": {
            "text/plain": [
              "['idint',\n",
              " 'idstr',\n",
              " 'created',\n",
              " 'author',\n",
              " 'parent',\n",
              " 'submission',\n",
              " 'body',\n",
              " 'score',\n",
              " 'subreddit',\n",
              " 'distinguish',\n",
              " 'textlen']"
            ]
          },
          "metadata": {},
          "execution_count": 6
        }
      ],
      "source": [
        "# Allows us to see which columns our dfs have\n",
        "list(df_comments)"
      ]
    },
    {
      "cell_type": "code",
      "execution_count": null,
      "metadata": {
        "colab": {
          "base_uri": "https://localhost:8080/"
        },
        "id": "5xkCAWHNwtSN",
        "outputId": "efc5093a-ba11-4a1c-99ab-958c0f01bf6a"
      },
      "outputs": [
        {
          "output_type": "execute_result",
          "data": {
            "text/plain": [
              "['idint',\n",
              " 'idstr',\n",
              " 'created',\n",
              " 'self',\n",
              " 'nsfw',\n",
              " 'author',\n",
              " 'title',\n",
              " 'url',\n",
              " 'selftext',\n",
              " 'score',\n",
              " 'subreddit',\n",
              " 'distinguish',\n",
              " 'textlen',\n",
              " 'num_comments',\n",
              " 'flair_text',\n",
              " 'flair_css_class',\n",
              " 'augmented_at',\n",
              " 'augmented_count']"
            ]
          },
          "metadata": {},
          "execution_count": 7
        }
      ],
      "source": [
        "list(df_posts)"
      ]
    },
    {
      "cell_type": "code",
      "execution_count": null,
      "metadata": {
        "id": "UFoPmw4vtajN"
      },
      "outputs": [],
      "source": [
        "# Drops less useful columns from our dfs\n",
        "# Made new dfs rather than overwriting the originals in case people have different thoughts about what to drop\n",
        "# 'distinguish' column identifies whether the poster is a moderator, which is potentially interesting, but it's almost always empty so I dropped it\n",
        "df_comments_short = df_comments.drop(['subreddit', 'distinguish'], axis=1)"
      ]
    },
    {
      "cell_type": "code",
      "execution_count": null,
      "metadata": {
        "id": "Kx0E2Kr_v9OF"
      },
      "outputs": [],
      "source": [
        "df_posts_short = df_posts.drop(['subreddit', 'url', 'distinguish', 'flair_text', 'flair_css_class', 'augmented_at', 'augmented_count'], axis=1)"
      ]
    },
    {
      "cell_type": "code",
      "execution_count": null,
      "metadata": {
        "colab": {
          "base_uri": "https://localhost:8080/",
          "height": 143
        },
        "id": "6CP5neKry4q3",
        "outputId": "c0de0101-9cce-46bc-ee4b-62b28bf100cf"
      },
      "outputs": [
        {
          "output_type": "execute_result",
          "data": {
            "text/plain": [
              "         idint       idstr     created         author      parent submission  \\\n",
              "0  26160907768  t1_c0nj1mg  1270490234    judycullins    t3_bmr3z   t3_bmr3z   \n",
              "1  26186732829  t1_c12wkd9  1287609142  inigo_montoya    t3_dtpk6   t3_dtpk6   \n",
              "2  26186750085  t1_c12wxol  1287615269      [deleted]  t1_c12wkd9   t3_dtpk6   \n",
              "\n",
              "                                                body  score  textlen  \n",
              "0  8 great tips to start marketing your book onli...      1       68  \n",
              "1  I think it's extremely hard to find a salaried...      1      407  \n",
              "2  Honestly, I think I would be very happy either...      1      570  "
            ],
            "text/html": [
              "\n",
              "  <div id=\"df-19eec8eb-86b4-48bb-8b89-59ab3efd02aa\">\n",
              "    <div class=\"colab-df-container\">\n",
              "      <div>\n",
              "<style scoped>\n",
              "    .dataframe tbody tr th:only-of-type {\n",
              "        vertical-align: middle;\n",
              "    }\n",
              "\n",
              "    .dataframe tbody tr th {\n",
              "        vertical-align: top;\n",
              "    }\n",
              "\n",
              "    .dataframe thead th {\n",
              "        text-align: right;\n",
              "    }\n",
              "</style>\n",
              "<table border=\"1\" class=\"dataframe\">\n",
              "  <thead>\n",
              "    <tr style=\"text-align: right;\">\n",
              "      <th></th>\n",
              "      <th>idint</th>\n",
              "      <th>idstr</th>\n",
              "      <th>created</th>\n",
              "      <th>author</th>\n",
              "      <th>parent</th>\n",
              "      <th>submission</th>\n",
              "      <th>body</th>\n",
              "      <th>score</th>\n",
              "      <th>textlen</th>\n",
              "    </tr>\n",
              "  </thead>\n",
              "  <tbody>\n",
              "    <tr>\n",
              "      <th>0</th>\n",
              "      <td>26160907768</td>\n",
              "      <td>t1_c0nj1mg</td>\n",
              "      <td>1270490234</td>\n",
              "      <td>judycullins</td>\n",
              "      <td>t3_bmr3z</td>\n",
              "      <td>t3_bmr3z</td>\n",
              "      <td>8 great tips to start marketing your book onli...</td>\n",
              "      <td>1</td>\n",
              "      <td>68</td>\n",
              "    </tr>\n",
              "    <tr>\n",
              "      <th>1</th>\n",
              "      <td>26186732829</td>\n",
              "      <td>t1_c12wkd9</td>\n",
              "      <td>1287609142</td>\n",
              "      <td>inigo_montoya</td>\n",
              "      <td>t3_dtpk6</td>\n",
              "      <td>t3_dtpk6</td>\n",
              "      <td>I think it's extremely hard to find a salaried...</td>\n",
              "      <td>1</td>\n",
              "      <td>407</td>\n",
              "    </tr>\n",
              "    <tr>\n",
              "      <th>2</th>\n",
              "      <td>26186750085</td>\n",
              "      <td>t1_c12wxol</td>\n",
              "      <td>1287615269</td>\n",
              "      <td>[deleted]</td>\n",
              "      <td>t1_c12wkd9</td>\n",
              "      <td>t3_dtpk6</td>\n",
              "      <td>Honestly, I think I would be very happy either...</td>\n",
              "      <td>1</td>\n",
              "      <td>570</td>\n",
              "    </tr>\n",
              "  </tbody>\n",
              "</table>\n",
              "</div>\n",
              "      <button class=\"colab-df-convert\" onclick=\"convertToInteractive('df-19eec8eb-86b4-48bb-8b89-59ab3efd02aa')\"\n",
              "              title=\"Convert this dataframe to an interactive table.\"\n",
              "              style=\"display:none;\">\n",
              "        \n",
              "  <svg xmlns=\"http://www.w3.org/2000/svg\" height=\"24px\"viewBox=\"0 0 24 24\"\n",
              "       width=\"24px\">\n",
              "    <path d=\"M0 0h24v24H0V0z\" fill=\"none\"/>\n",
              "    <path d=\"M18.56 5.44l.94 2.06.94-2.06 2.06-.94-2.06-.94-.94-2.06-.94 2.06-2.06.94zm-11 1L8.5 8.5l.94-2.06 2.06-.94-2.06-.94L8.5 2.5l-.94 2.06-2.06.94zm10 10l.94 2.06.94-2.06 2.06-.94-2.06-.94-.94-2.06-.94 2.06-2.06.94z\"/><path d=\"M17.41 7.96l-1.37-1.37c-.4-.4-.92-.59-1.43-.59-.52 0-1.04.2-1.43.59L10.3 9.45l-7.72 7.72c-.78.78-.78 2.05 0 2.83L4 21.41c.39.39.9.59 1.41.59.51 0 1.02-.2 1.41-.59l7.78-7.78 2.81-2.81c.8-.78.8-2.07 0-2.86zM5.41 20L4 18.59l7.72-7.72 1.47 1.35L5.41 20z\"/>\n",
              "  </svg>\n",
              "      </button>\n",
              "      \n",
              "  <style>\n",
              "    .colab-df-container {\n",
              "      display:flex;\n",
              "      flex-wrap:wrap;\n",
              "      gap: 12px;\n",
              "    }\n",
              "\n",
              "    .colab-df-convert {\n",
              "      background-color: #E8F0FE;\n",
              "      border: none;\n",
              "      border-radius: 50%;\n",
              "      cursor: pointer;\n",
              "      display: none;\n",
              "      fill: #1967D2;\n",
              "      height: 32px;\n",
              "      padding: 0 0 0 0;\n",
              "      width: 32px;\n",
              "    }\n",
              "\n",
              "    .colab-df-convert:hover {\n",
              "      background-color: #E2EBFA;\n",
              "      box-shadow: 0px 1px 2px rgba(60, 64, 67, 0.3), 0px 1px 3px 1px rgba(60, 64, 67, 0.15);\n",
              "      fill: #174EA6;\n",
              "    }\n",
              "\n",
              "    [theme=dark] .colab-df-convert {\n",
              "      background-color: #3B4455;\n",
              "      fill: #D2E3FC;\n",
              "    }\n",
              "\n",
              "    [theme=dark] .colab-df-convert:hover {\n",
              "      background-color: #434B5C;\n",
              "      box-shadow: 0px 1px 3px 1px rgba(0, 0, 0, 0.15);\n",
              "      filter: drop-shadow(0px 1px 2px rgba(0, 0, 0, 0.3));\n",
              "      fill: #FFFFFF;\n",
              "    }\n",
              "  </style>\n",
              "\n",
              "      <script>\n",
              "        const buttonEl =\n",
              "          document.querySelector('#df-19eec8eb-86b4-48bb-8b89-59ab3efd02aa button.colab-df-convert');\n",
              "        buttonEl.style.display =\n",
              "          google.colab.kernel.accessAllowed ? 'block' : 'none';\n",
              "\n",
              "        async function convertToInteractive(key) {\n",
              "          const element = document.querySelector('#df-19eec8eb-86b4-48bb-8b89-59ab3efd02aa');\n",
              "          const dataTable =\n",
              "            await google.colab.kernel.invokeFunction('convertToInteractive',\n",
              "                                                     [key], {});\n",
              "          if (!dataTable) return;\n",
              "\n",
              "          const docLinkHtml = 'Like what you see? Visit the ' +\n",
              "            '<a target=\"_blank\" href=https://colab.research.google.com/notebooks/data_table.ipynb>data table notebook</a>'\n",
              "            + ' to learn more about interactive tables.';\n",
              "          element.innerHTML = '';\n",
              "          dataTable['output_type'] = 'display_data';\n",
              "          await google.colab.output.renderOutput(dataTable, element);\n",
              "          const docLink = document.createElement('div');\n",
              "          docLink.innerHTML = docLinkHtml;\n",
              "          element.appendChild(docLink);\n",
              "        }\n",
              "      </script>\n",
              "    </div>\n",
              "  </div>\n",
              "  "
            ]
          },
          "metadata": {},
          "execution_count": 10
        }
      ],
      "source": [
        "# To visualize the new dfs\n",
        "df_comments_short.head(3)"
      ]
    },
    {
      "cell_type": "code",
      "execution_count": null,
      "metadata": {
        "colab": {
          "base_uri": "https://localhost:8080/"
        },
        "id": "16irkle2zplQ",
        "outputId": "0438ef74-19ca-4d14-8ffa-c7b3b665f15f"
      },
      "outputs": [
        {
          "output_type": "execute_result",
          "data": {
            "text/plain": [
              "(19538, 9)"
            ]
          },
          "metadata": {},
          "execution_count": 11
        }
      ],
      "source": [
        "df_comments_short.shape"
      ]
    },
    {
      "cell_type": "code",
      "execution_count": null,
      "metadata": {
        "colab": {
          "base_uri": "https://localhost:8080/",
          "height": 143
        },
        "id": "3Kd_16vSzR54",
        "outputId": "71b53674-d372-4aad-c3d3-01f2e4a1fa83"
      },
      "outputs": [
        {
          "output_type": "execute_result",
          "data": {
            "text/plain": [
              "      idint     idstr     created  self  nsfw      author  \\\n",
              "0  12378361  t3_7db7d  1226647810     0     0    soulajax   \n",
              "1  16624895  t3_9wbun  1256143924     0     0  bookmarked   \n",
              "2  17431958  t3_adml2  1260547827     0     0  bookmarked   \n",
              "\n",
              "                                               title selftext  score  textlen  \\\n",
              "0                          Do-It-Yourself Book Press      NaN      1        0   \n",
              "1  Blending the Old with the New: Backlist Titles...      NaN      1        0   \n",
              "2                           A Little Something Extra      NaN      1        0   \n",
              "\n",
              "   num_comments  \n",
              "0             0  \n",
              "1             0  \n",
              "2             0  "
            ],
            "text/html": [
              "\n",
              "  <div id=\"df-d4aba802-0693-4906-a0da-e23cc0f9b043\">\n",
              "    <div class=\"colab-df-container\">\n",
              "      <div>\n",
              "<style scoped>\n",
              "    .dataframe tbody tr th:only-of-type {\n",
              "        vertical-align: middle;\n",
              "    }\n",
              "\n",
              "    .dataframe tbody tr th {\n",
              "        vertical-align: top;\n",
              "    }\n",
              "\n",
              "    .dataframe thead th {\n",
              "        text-align: right;\n",
              "    }\n",
              "</style>\n",
              "<table border=\"1\" class=\"dataframe\">\n",
              "  <thead>\n",
              "    <tr style=\"text-align: right;\">\n",
              "      <th></th>\n",
              "      <th>idint</th>\n",
              "      <th>idstr</th>\n",
              "      <th>created</th>\n",
              "      <th>self</th>\n",
              "      <th>nsfw</th>\n",
              "      <th>author</th>\n",
              "      <th>title</th>\n",
              "      <th>selftext</th>\n",
              "      <th>score</th>\n",
              "      <th>textlen</th>\n",
              "      <th>num_comments</th>\n",
              "    </tr>\n",
              "  </thead>\n",
              "  <tbody>\n",
              "    <tr>\n",
              "      <th>0</th>\n",
              "      <td>12378361</td>\n",
              "      <td>t3_7db7d</td>\n",
              "      <td>1226647810</td>\n",
              "      <td>0</td>\n",
              "      <td>0</td>\n",
              "      <td>soulajax</td>\n",
              "      <td>Do-It-Yourself Book Press</td>\n",
              "      <td>NaN</td>\n",
              "      <td>1</td>\n",
              "      <td>0</td>\n",
              "      <td>0</td>\n",
              "    </tr>\n",
              "    <tr>\n",
              "      <th>1</th>\n",
              "      <td>16624895</td>\n",
              "      <td>t3_9wbun</td>\n",
              "      <td>1256143924</td>\n",
              "      <td>0</td>\n",
              "      <td>0</td>\n",
              "      <td>bookmarked</td>\n",
              "      <td>Blending the Old with the New: Backlist Titles...</td>\n",
              "      <td>NaN</td>\n",
              "      <td>1</td>\n",
              "      <td>0</td>\n",
              "      <td>0</td>\n",
              "    </tr>\n",
              "    <tr>\n",
              "      <th>2</th>\n",
              "      <td>17431958</td>\n",
              "      <td>t3_adml2</td>\n",
              "      <td>1260547827</td>\n",
              "      <td>0</td>\n",
              "      <td>0</td>\n",
              "      <td>bookmarked</td>\n",
              "      <td>A Little Something Extra</td>\n",
              "      <td>NaN</td>\n",
              "      <td>1</td>\n",
              "      <td>0</td>\n",
              "      <td>0</td>\n",
              "    </tr>\n",
              "  </tbody>\n",
              "</table>\n",
              "</div>\n",
              "      <button class=\"colab-df-convert\" onclick=\"convertToInteractive('df-d4aba802-0693-4906-a0da-e23cc0f9b043')\"\n",
              "              title=\"Convert this dataframe to an interactive table.\"\n",
              "              style=\"display:none;\">\n",
              "        \n",
              "  <svg xmlns=\"http://www.w3.org/2000/svg\" height=\"24px\"viewBox=\"0 0 24 24\"\n",
              "       width=\"24px\">\n",
              "    <path d=\"M0 0h24v24H0V0z\" fill=\"none\"/>\n",
              "    <path d=\"M18.56 5.44l.94 2.06.94-2.06 2.06-.94-2.06-.94-.94-2.06-.94 2.06-2.06.94zm-11 1L8.5 8.5l.94-2.06 2.06-.94-2.06-.94L8.5 2.5l-.94 2.06-2.06.94zm10 10l.94 2.06.94-2.06 2.06-.94-2.06-.94-.94-2.06-.94 2.06-2.06.94z\"/><path d=\"M17.41 7.96l-1.37-1.37c-.4-.4-.92-.59-1.43-.59-.52 0-1.04.2-1.43.59L10.3 9.45l-7.72 7.72c-.78.78-.78 2.05 0 2.83L4 21.41c.39.39.9.59 1.41.59.51 0 1.02-.2 1.41-.59l7.78-7.78 2.81-2.81c.8-.78.8-2.07 0-2.86zM5.41 20L4 18.59l7.72-7.72 1.47 1.35L5.41 20z\"/>\n",
              "  </svg>\n",
              "      </button>\n",
              "      \n",
              "  <style>\n",
              "    .colab-df-container {\n",
              "      display:flex;\n",
              "      flex-wrap:wrap;\n",
              "      gap: 12px;\n",
              "    }\n",
              "\n",
              "    .colab-df-convert {\n",
              "      background-color: #E8F0FE;\n",
              "      border: none;\n",
              "      border-radius: 50%;\n",
              "      cursor: pointer;\n",
              "      display: none;\n",
              "      fill: #1967D2;\n",
              "      height: 32px;\n",
              "      padding: 0 0 0 0;\n",
              "      width: 32px;\n",
              "    }\n",
              "\n",
              "    .colab-df-convert:hover {\n",
              "      background-color: #E2EBFA;\n",
              "      box-shadow: 0px 1px 2px rgba(60, 64, 67, 0.3), 0px 1px 3px 1px rgba(60, 64, 67, 0.15);\n",
              "      fill: #174EA6;\n",
              "    }\n",
              "\n",
              "    [theme=dark] .colab-df-convert {\n",
              "      background-color: #3B4455;\n",
              "      fill: #D2E3FC;\n",
              "    }\n",
              "\n",
              "    [theme=dark] .colab-df-convert:hover {\n",
              "      background-color: #434B5C;\n",
              "      box-shadow: 0px 1px 3px 1px rgba(0, 0, 0, 0.15);\n",
              "      filter: drop-shadow(0px 1px 2px rgba(0, 0, 0, 0.3));\n",
              "      fill: #FFFFFF;\n",
              "    }\n",
              "  </style>\n",
              "\n",
              "      <script>\n",
              "        const buttonEl =\n",
              "          document.querySelector('#df-d4aba802-0693-4906-a0da-e23cc0f9b043 button.colab-df-convert');\n",
              "        buttonEl.style.display =\n",
              "          google.colab.kernel.accessAllowed ? 'block' : 'none';\n",
              "\n",
              "        async function convertToInteractive(key) {\n",
              "          const element = document.querySelector('#df-d4aba802-0693-4906-a0da-e23cc0f9b043');\n",
              "          const dataTable =\n",
              "            await google.colab.kernel.invokeFunction('convertToInteractive',\n",
              "                                                     [key], {});\n",
              "          if (!dataTable) return;\n",
              "\n",
              "          const docLinkHtml = 'Like what you see? Visit the ' +\n",
              "            '<a target=\"_blank\" href=https://colab.research.google.com/notebooks/data_table.ipynb>data table notebook</a>'\n",
              "            + ' to learn more about interactive tables.';\n",
              "          element.innerHTML = '';\n",
              "          dataTable['output_type'] = 'display_data';\n",
              "          await google.colab.output.renderOutput(dataTable, element);\n",
              "          const docLink = document.createElement('div');\n",
              "          docLink.innerHTML = docLinkHtml;\n",
              "          element.appendChild(docLink);\n",
              "        }\n",
              "      </script>\n",
              "    </div>\n",
              "  </div>\n",
              "  "
            ]
          },
          "metadata": {},
          "execution_count": 12
        }
      ],
      "source": [
        "df_posts_short.head(3)"
      ]
    },
    {
      "cell_type": "code",
      "execution_count": null,
      "metadata": {
        "colab": {
          "base_uri": "https://localhost:8080/"
        },
        "id": "NJamGuAIzsUw",
        "outputId": "fdd4eae5-1adb-4d05-eff5-52fb75f5e9c0"
      },
      "outputs": [
        {
          "output_type": "execute_result",
          "data": {
            "text/plain": [
              "(7330, 11)"
            ]
          },
          "metadata": {},
          "execution_count": 13
        }
      ],
      "source": [
        "df_posts_short.shape"
      ]
    },
    {
      "cell_type": "code",
      "execution_count": null,
      "metadata": {
        "id": "Ef5Fb3pu1oS4"
      },
      "outputs": [],
      "source": [
        "# Selects all rows that don't have 'removed' or 'deleted' in certain columns\n",
        "df_comments_noBlanks = df_comments_short.loc[~df_comments_short['body'].isin(['[removed]', '[deleted]' ]),:]\n",
        "df_posts_noBlanks = df_posts_short.loc[~df_posts_short['selftext'].isin(['[removed]', '[deleted]' ]),:]"
      ]
    },
    {
      "cell_type": "code",
      "execution_count": null,
      "metadata": {
        "id": "Ta8LEcmZzvTN"
      },
      "outputs": [],
      "source": [
        "# Drops rows with null values in 'selftext' column (assuming we want to analyze 'selftext')\n",
        "# Overwrites the previous dfs because I don't think we'll need access to the intermediate dfs (and I was running out of name ideas)\n",
        "df_comments_noBlanks = df_comments_noBlanks.dropna(subset=['body'])\n",
        "df_posts_noBlanks = df_posts_noBlanks.dropna(subset=['selftext'])"
      ]
    },
    {
      "cell_type": "code",
      "execution_count": null,
      "metadata": {
        "colab": {
          "base_uri": "https://localhost:8080/",
          "height": 206
        },
        "id": "l8rbsmWf0R89",
        "outputId": "3ef86341-7e32-4420-ffc9-228bc9f47c0a"
      },
      "outputs": [
        {
          "output_type": "execute_result",
          "data": {
            "text/plain": [
              "         idint       idstr     created         author      parent submission  \\\n",
              "0  26160907768  t1_c0nj1mg  1270490234    judycullins    t3_bmr3z   t3_bmr3z   \n",
              "1  26186732829  t1_c12wkd9  1287609142  inigo_montoya    t3_dtpk6   t3_dtpk6   \n",
              "2  26186750085  t1_c12wxol  1287615269      [deleted]  t1_c12wkd9   t3_dtpk6   \n",
              "3  26186762112  t1_c12x6yo  1287619770  inigo_montoya  t1_c12wxol   t3_dtpk6   \n",
              "4  26186949360  t1_c1317g0  1287704175      [deleted]  t1_c12x6yo   t3_dtpk6   \n",
              "\n",
              "                                                body  score  textlen  \n",
              "0  8 great tips to start marketing your book onli...      1       68  \n",
              "1  I think it's extremely hard to find a salaried...      1      407  \n",
              "2  Honestly, I think I would be very happy either...      1      570  \n",
              "3  Well, an acquisitions editor is a very differe...      1      926  \n",
              "4  Yes, \"not panning out\" is precisely where I am...      1      315  "
            ],
            "text/html": [
              "\n",
              "  <div id=\"df-1abbd8ce-ddd2-429f-9bc6-25ec6a0fe884\">\n",
              "    <div class=\"colab-df-container\">\n",
              "      <div>\n",
              "<style scoped>\n",
              "    .dataframe tbody tr th:only-of-type {\n",
              "        vertical-align: middle;\n",
              "    }\n",
              "\n",
              "    .dataframe tbody tr th {\n",
              "        vertical-align: top;\n",
              "    }\n",
              "\n",
              "    .dataframe thead th {\n",
              "        text-align: right;\n",
              "    }\n",
              "</style>\n",
              "<table border=\"1\" class=\"dataframe\">\n",
              "  <thead>\n",
              "    <tr style=\"text-align: right;\">\n",
              "      <th></th>\n",
              "      <th>idint</th>\n",
              "      <th>idstr</th>\n",
              "      <th>created</th>\n",
              "      <th>author</th>\n",
              "      <th>parent</th>\n",
              "      <th>submission</th>\n",
              "      <th>body</th>\n",
              "      <th>score</th>\n",
              "      <th>textlen</th>\n",
              "    </tr>\n",
              "  </thead>\n",
              "  <tbody>\n",
              "    <tr>\n",
              "      <th>0</th>\n",
              "      <td>26160907768</td>\n",
              "      <td>t1_c0nj1mg</td>\n",
              "      <td>1270490234</td>\n",
              "      <td>judycullins</td>\n",
              "      <td>t3_bmr3z</td>\n",
              "      <td>t3_bmr3z</td>\n",
              "      <td>8 great tips to start marketing your book onli...</td>\n",
              "      <td>1</td>\n",
              "      <td>68</td>\n",
              "    </tr>\n",
              "    <tr>\n",
              "      <th>1</th>\n",
              "      <td>26186732829</td>\n",
              "      <td>t1_c12wkd9</td>\n",
              "      <td>1287609142</td>\n",
              "      <td>inigo_montoya</td>\n",
              "      <td>t3_dtpk6</td>\n",
              "      <td>t3_dtpk6</td>\n",
              "      <td>I think it's extremely hard to find a salaried...</td>\n",
              "      <td>1</td>\n",
              "      <td>407</td>\n",
              "    </tr>\n",
              "    <tr>\n",
              "      <th>2</th>\n",
              "      <td>26186750085</td>\n",
              "      <td>t1_c12wxol</td>\n",
              "      <td>1287615269</td>\n",
              "      <td>[deleted]</td>\n",
              "      <td>t1_c12wkd9</td>\n",
              "      <td>t3_dtpk6</td>\n",
              "      <td>Honestly, I think I would be very happy either...</td>\n",
              "      <td>1</td>\n",
              "      <td>570</td>\n",
              "    </tr>\n",
              "    <tr>\n",
              "      <th>3</th>\n",
              "      <td>26186762112</td>\n",
              "      <td>t1_c12x6yo</td>\n",
              "      <td>1287619770</td>\n",
              "      <td>inigo_montoya</td>\n",
              "      <td>t1_c12wxol</td>\n",
              "      <td>t3_dtpk6</td>\n",
              "      <td>Well, an acquisitions editor is a very differe...</td>\n",
              "      <td>1</td>\n",
              "      <td>926</td>\n",
              "    </tr>\n",
              "    <tr>\n",
              "      <th>4</th>\n",
              "      <td>26186949360</td>\n",
              "      <td>t1_c1317g0</td>\n",
              "      <td>1287704175</td>\n",
              "      <td>[deleted]</td>\n",
              "      <td>t1_c12x6yo</td>\n",
              "      <td>t3_dtpk6</td>\n",
              "      <td>Yes, \"not panning out\" is precisely where I am...</td>\n",
              "      <td>1</td>\n",
              "      <td>315</td>\n",
              "    </tr>\n",
              "  </tbody>\n",
              "</table>\n",
              "</div>\n",
              "      <button class=\"colab-df-convert\" onclick=\"convertToInteractive('df-1abbd8ce-ddd2-429f-9bc6-25ec6a0fe884')\"\n",
              "              title=\"Convert this dataframe to an interactive table.\"\n",
              "              style=\"display:none;\">\n",
              "        \n",
              "  <svg xmlns=\"http://www.w3.org/2000/svg\" height=\"24px\"viewBox=\"0 0 24 24\"\n",
              "       width=\"24px\">\n",
              "    <path d=\"M0 0h24v24H0V0z\" fill=\"none\"/>\n",
              "    <path d=\"M18.56 5.44l.94 2.06.94-2.06 2.06-.94-2.06-.94-.94-2.06-.94 2.06-2.06.94zm-11 1L8.5 8.5l.94-2.06 2.06-.94-2.06-.94L8.5 2.5l-.94 2.06-2.06.94zm10 10l.94 2.06.94-2.06 2.06-.94-2.06-.94-.94-2.06-.94 2.06-2.06.94z\"/><path d=\"M17.41 7.96l-1.37-1.37c-.4-.4-.92-.59-1.43-.59-.52 0-1.04.2-1.43.59L10.3 9.45l-7.72 7.72c-.78.78-.78 2.05 0 2.83L4 21.41c.39.39.9.59 1.41.59.51 0 1.02-.2 1.41-.59l7.78-7.78 2.81-2.81c.8-.78.8-2.07 0-2.86zM5.41 20L4 18.59l7.72-7.72 1.47 1.35L5.41 20z\"/>\n",
              "  </svg>\n",
              "      </button>\n",
              "      \n",
              "  <style>\n",
              "    .colab-df-container {\n",
              "      display:flex;\n",
              "      flex-wrap:wrap;\n",
              "      gap: 12px;\n",
              "    }\n",
              "\n",
              "    .colab-df-convert {\n",
              "      background-color: #E8F0FE;\n",
              "      border: none;\n",
              "      border-radius: 50%;\n",
              "      cursor: pointer;\n",
              "      display: none;\n",
              "      fill: #1967D2;\n",
              "      height: 32px;\n",
              "      padding: 0 0 0 0;\n",
              "      width: 32px;\n",
              "    }\n",
              "\n",
              "    .colab-df-convert:hover {\n",
              "      background-color: #E2EBFA;\n",
              "      box-shadow: 0px 1px 2px rgba(60, 64, 67, 0.3), 0px 1px 3px 1px rgba(60, 64, 67, 0.15);\n",
              "      fill: #174EA6;\n",
              "    }\n",
              "\n",
              "    [theme=dark] .colab-df-convert {\n",
              "      background-color: #3B4455;\n",
              "      fill: #D2E3FC;\n",
              "    }\n",
              "\n",
              "    [theme=dark] .colab-df-convert:hover {\n",
              "      background-color: #434B5C;\n",
              "      box-shadow: 0px 1px 3px 1px rgba(0, 0, 0, 0.15);\n",
              "      filter: drop-shadow(0px 1px 2px rgba(0, 0, 0, 0.3));\n",
              "      fill: #FFFFFF;\n",
              "    }\n",
              "  </style>\n",
              "\n",
              "      <script>\n",
              "        const buttonEl =\n",
              "          document.querySelector('#df-1abbd8ce-ddd2-429f-9bc6-25ec6a0fe884 button.colab-df-convert');\n",
              "        buttonEl.style.display =\n",
              "          google.colab.kernel.accessAllowed ? 'block' : 'none';\n",
              "\n",
              "        async function convertToInteractive(key) {\n",
              "          const element = document.querySelector('#df-1abbd8ce-ddd2-429f-9bc6-25ec6a0fe884');\n",
              "          const dataTable =\n",
              "            await google.colab.kernel.invokeFunction('convertToInteractive',\n",
              "                                                     [key], {});\n",
              "          if (!dataTable) return;\n",
              "\n",
              "          const docLinkHtml = 'Like what you see? Visit the ' +\n",
              "            '<a target=\"_blank\" href=https://colab.research.google.com/notebooks/data_table.ipynb>data table notebook</a>'\n",
              "            + ' to learn more about interactive tables.';\n",
              "          element.innerHTML = '';\n",
              "          dataTable['output_type'] = 'display_data';\n",
              "          await google.colab.output.renderOutput(dataTable, element);\n",
              "          const docLink = document.createElement('div');\n",
              "          docLink.innerHTML = docLinkHtml;\n",
              "          element.appendChild(docLink);\n",
              "        }\n",
              "      </script>\n",
              "    </div>\n",
              "  </div>\n",
              "  "
            ]
          },
          "metadata": {},
          "execution_count": 16
        }
      ],
      "source": [
        "df_comments_noBlanks.head()"
      ]
    },
    {
      "cell_type": "code",
      "execution_count": null,
      "metadata": {
        "colab": {
          "base_uri": "https://localhost:8080/"
        },
        "id": "A2IrUi_W0RQD",
        "outputId": "9011bacc-3850-4eb4-a07c-92a1f87d5781"
      },
      "outputs": [
        {
          "output_type": "execute_result",
          "data": {
            "text/plain": [
              "(19054, 9)"
            ]
          },
          "metadata": {},
          "execution_count": 17
        }
      ],
      "source": [
        "df_comments_noBlanks.shape\n",
        "# Final number of comments"
      ]
    },
    {
      "cell_type": "code",
      "execution_count": null,
      "metadata": {
        "colab": {
          "base_uri": "https://localhost:8080/",
          "height": 206
        },
        "id": "4VyZn8O91ITQ",
        "outputId": "80fc033d-9f00-47c3-d4ec-b87fdc2e0e39"
      },
      "outputs": [
        {
          "output_type": "execute_result",
          "data": {
            "text/plain": [
              "       idint     idstr     created  self  nsfw             author  \\\n",
              "7   23221158  t3_dtpk6  1287554803     1     0          [deleted]   \n",
              "12  25888930  t3_few0y  1296782293     1     0          mostrasho   \n",
              "17  29705825  t3_hop5t  1306892178     1     0  YouveBeenOneUpped   \n",
              "62  40519459  t3_o4h0j  1325799133     1     0        hobbitlover   \n",
              "63  40711806  t3_o8lfi  1326069991     1     0          [deleted]   \n",
              "\n",
              "                                                title  \\\n",
              "7   I am a recent graduate with no experience in t...   \n",
              "12  Help r/publishing! I just got offered a (volun...   \n",
              "17                Reprints - Are there average costs?   \n",
              "62  Need a writing program that works in InDesign ...   \n",
              "63         Online ebook cover creator recommendations   \n",
              "\n",
              "                                             selftext  score  textlen  \\\n",
              "7   I have no industry experience in publishing, b...      2     1007   \n",
              "12  The editor who offered it is fully aware that ...      2     1027   \n",
              "17  Hey All. How much do short excerpt reprints ty...      2      188   \n",
              "62  We use Microsoft Word at our office but it cre...      3      579   \n",
              "63  Hey guys,\\n\\nAny good recommendations on where...      1       75   \n",
              "\n",
              "    num_comments  \n",
              "7              5  \n",
              "12             2  \n",
              "17             4  \n",
              "62             3  \n",
              "63             1  "
            ],
            "text/html": [
              "\n",
              "  <div id=\"df-b9328301-d01a-48e5-922a-375b7814f1a9\">\n",
              "    <div class=\"colab-df-container\">\n",
              "      <div>\n",
              "<style scoped>\n",
              "    .dataframe tbody tr th:only-of-type {\n",
              "        vertical-align: middle;\n",
              "    }\n",
              "\n",
              "    .dataframe tbody tr th {\n",
              "        vertical-align: top;\n",
              "    }\n",
              "\n",
              "    .dataframe thead th {\n",
              "        text-align: right;\n",
              "    }\n",
              "</style>\n",
              "<table border=\"1\" class=\"dataframe\">\n",
              "  <thead>\n",
              "    <tr style=\"text-align: right;\">\n",
              "      <th></th>\n",
              "      <th>idint</th>\n",
              "      <th>idstr</th>\n",
              "      <th>created</th>\n",
              "      <th>self</th>\n",
              "      <th>nsfw</th>\n",
              "      <th>author</th>\n",
              "      <th>title</th>\n",
              "      <th>selftext</th>\n",
              "      <th>score</th>\n",
              "      <th>textlen</th>\n",
              "      <th>num_comments</th>\n",
              "    </tr>\n",
              "  </thead>\n",
              "  <tbody>\n",
              "    <tr>\n",
              "      <th>7</th>\n",
              "      <td>23221158</td>\n",
              "      <td>t3_dtpk6</td>\n",
              "      <td>1287554803</td>\n",
              "      <td>1</td>\n",
              "      <td>0</td>\n",
              "      <td>[deleted]</td>\n",
              "      <td>I am a recent graduate with no experience in t...</td>\n",
              "      <td>I have no industry experience in publishing, b...</td>\n",
              "      <td>2</td>\n",
              "      <td>1007</td>\n",
              "      <td>5</td>\n",
              "    </tr>\n",
              "    <tr>\n",
              "      <th>12</th>\n",
              "      <td>25888930</td>\n",
              "      <td>t3_few0y</td>\n",
              "      <td>1296782293</td>\n",
              "      <td>1</td>\n",
              "      <td>0</td>\n",
              "      <td>mostrasho</td>\n",
              "      <td>Help r/publishing! I just got offered a (volun...</td>\n",
              "      <td>The editor who offered it is fully aware that ...</td>\n",
              "      <td>2</td>\n",
              "      <td>1027</td>\n",
              "      <td>2</td>\n",
              "    </tr>\n",
              "    <tr>\n",
              "      <th>17</th>\n",
              "      <td>29705825</td>\n",
              "      <td>t3_hop5t</td>\n",
              "      <td>1306892178</td>\n",
              "      <td>1</td>\n",
              "      <td>0</td>\n",
              "      <td>YouveBeenOneUpped</td>\n",
              "      <td>Reprints - Are there average costs?</td>\n",
              "      <td>Hey All. How much do short excerpt reprints ty...</td>\n",
              "      <td>2</td>\n",
              "      <td>188</td>\n",
              "      <td>4</td>\n",
              "    </tr>\n",
              "    <tr>\n",
              "      <th>62</th>\n",
              "      <td>40519459</td>\n",
              "      <td>t3_o4h0j</td>\n",
              "      <td>1325799133</td>\n",
              "      <td>1</td>\n",
              "      <td>0</td>\n",
              "      <td>hobbitlover</td>\n",
              "      <td>Need a writing program that works in InDesign ...</td>\n",
              "      <td>We use Microsoft Word at our office but it cre...</td>\n",
              "      <td>3</td>\n",
              "      <td>579</td>\n",
              "      <td>3</td>\n",
              "    </tr>\n",
              "    <tr>\n",
              "      <th>63</th>\n",
              "      <td>40711806</td>\n",
              "      <td>t3_o8lfi</td>\n",
              "      <td>1326069991</td>\n",
              "      <td>1</td>\n",
              "      <td>0</td>\n",
              "      <td>[deleted]</td>\n",
              "      <td>Online ebook cover creator recommendations</td>\n",
              "      <td>Hey guys,\\n\\nAny good recommendations on where...</td>\n",
              "      <td>1</td>\n",
              "      <td>75</td>\n",
              "      <td>1</td>\n",
              "    </tr>\n",
              "  </tbody>\n",
              "</table>\n",
              "</div>\n",
              "      <button class=\"colab-df-convert\" onclick=\"convertToInteractive('df-b9328301-d01a-48e5-922a-375b7814f1a9')\"\n",
              "              title=\"Convert this dataframe to an interactive table.\"\n",
              "              style=\"display:none;\">\n",
              "        \n",
              "  <svg xmlns=\"http://www.w3.org/2000/svg\" height=\"24px\"viewBox=\"0 0 24 24\"\n",
              "       width=\"24px\">\n",
              "    <path d=\"M0 0h24v24H0V0z\" fill=\"none\"/>\n",
              "    <path d=\"M18.56 5.44l.94 2.06.94-2.06 2.06-.94-2.06-.94-.94-2.06-.94 2.06-2.06.94zm-11 1L8.5 8.5l.94-2.06 2.06-.94-2.06-.94L8.5 2.5l-.94 2.06-2.06.94zm10 10l.94 2.06.94-2.06 2.06-.94-2.06-.94-.94-2.06-.94 2.06-2.06.94z\"/><path d=\"M17.41 7.96l-1.37-1.37c-.4-.4-.92-.59-1.43-.59-.52 0-1.04.2-1.43.59L10.3 9.45l-7.72 7.72c-.78.78-.78 2.05 0 2.83L4 21.41c.39.39.9.59 1.41.59.51 0 1.02-.2 1.41-.59l7.78-7.78 2.81-2.81c.8-.78.8-2.07 0-2.86zM5.41 20L4 18.59l7.72-7.72 1.47 1.35L5.41 20z\"/>\n",
              "  </svg>\n",
              "      </button>\n",
              "      \n",
              "  <style>\n",
              "    .colab-df-container {\n",
              "      display:flex;\n",
              "      flex-wrap:wrap;\n",
              "      gap: 12px;\n",
              "    }\n",
              "\n",
              "    .colab-df-convert {\n",
              "      background-color: #E8F0FE;\n",
              "      border: none;\n",
              "      border-radius: 50%;\n",
              "      cursor: pointer;\n",
              "      display: none;\n",
              "      fill: #1967D2;\n",
              "      height: 32px;\n",
              "      padding: 0 0 0 0;\n",
              "      width: 32px;\n",
              "    }\n",
              "\n",
              "    .colab-df-convert:hover {\n",
              "      background-color: #E2EBFA;\n",
              "      box-shadow: 0px 1px 2px rgba(60, 64, 67, 0.3), 0px 1px 3px 1px rgba(60, 64, 67, 0.15);\n",
              "      fill: #174EA6;\n",
              "    }\n",
              "\n",
              "    [theme=dark] .colab-df-convert {\n",
              "      background-color: #3B4455;\n",
              "      fill: #D2E3FC;\n",
              "    }\n",
              "\n",
              "    [theme=dark] .colab-df-convert:hover {\n",
              "      background-color: #434B5C;\n",
              "      box-shadow: 0px 1px 3px 1px rgba(0, 0, 0, 0.15);\n",
              "      filter: drop-shadow(0px 1px 2px rgba(0, 0, 0, 0.3));\n",
              "      fill: #FFFFFF;\n",
              "    }\n",
              "  </style>\n",
              "\n",
              "      <script>\n",
              "        const buttonEl =\n",
              "          document.querySelector('#df-b9328301-d01a-48e5-922a-375b7814f1a9 button.colab-df-convert');\n",
              "        buttonEl.style.display =\n",
              "          google.colab.kernel.accessAllowed ? 'block' : 'none';\n",
              "\n",
              "        async function convertToInteractive(key) {\n",
              "          const element = document.querySelector('#df-b9328301-d01a-48e5-922a-375b7814f1a9');\n",
              "          const dataTable =\n",
              "            await google.colab.kernel.invokeFunction('convertToInteractive',\n",
              "                                                     [key], {});\n",
              "          if (!dataTable) return;\n",
              "\n",
              "          const docLinkHtml = 'Like what you see? Visit the ' +\n",
              "            '<a target=\"_blank\" href=https://colab.research.google.com/notebooks/data_table.ipynb>data table notebook</a>'\n",
              "            + ' to learn more about interactive tables.';\n",
              "          element.innerHTML = '';\n",
              "          dataTable['output_type'] = 'display_data';\n",
              "          await google.colab.output.renderOutput(dataTable, element);\n",
              "          const docLink = document.createElement('div');\n",
              "          docLink.innerHTML = docLinkHtml;\n",
              "          element.appendChild(docLink);\n",
              "        }\n",
              "      </script>\n",
              "    </div>\n",
              "  </div>\n",
              "  "
            ]
          },
          "metadata": {},
          "execution_count": 18
        }
      ],
      "source": [
        "df_posts_noBlanks.head()"
      ]
    },
    {
      "cell_type": "code",
      "execution_count": null,
      "metadata": {
        "colab": {
          "base_uri": "https://localhost:8080/"
        },
        "id": "0Umf1AKu1PFA",
        "outputId": "ae1e78d8-3afd-4f0b-9b98-756e070c7cc3"
      },
      "outputs": [
        {
          "output_type": "execute_result",
          "data": {
            "text/plain": [
              "(2388, 11)"
            ]
          },
          "metadata": {},
          "execution_count": 19
        }
      ],
      "source": [
        "df_posts_noBlanks.shape\n",
        "# Final number of posts"
      ]
    },
    {
      "cell_type": "markdown",
      "metadata": {
        "id": "VCUEPQA7Ae4C"
      },
      "source": [
        "07/21/22 Questions"
      ]
    },
    {
      "cell_type": "code",
      "execution_count": null,
      "metadata": {
        "colab": {
          "base_uri": "https://localhost:8080/"
        },
        "id": "yfrLIDoc3YfF",
        "outputId": "922bc0d7-9d40-46e5-8f43-64d6f398c9fd"
      },
      "outputs": [
        {
          "output_type": "execute_result",
          "data": {
            "text/plain": [
              "[deleted]              0.029313\n",
              "MaxFreedomMoussa       0.009631\n",
              "PunkShocker            0.003769\n",
              "TheRedWhale            0.003350\n",
              "brisualso              0.003350\n",
              "                         ...   \n",
              "germy21                0.000419\n",
              "annnnnnnnie            0.000419\n",
              "ElUPTJefe              0.000419\n",
              "kaybdoodles            0.000419\n",
              "dimestorepublishing    0.000419\n",
              "Name: author, Length: 1922, dtype: float64"
            ]
          },
          "metadata": {},
          "execution_count": 20
        }
      ],
      "source": [
        "#How frequently are people posting?\n",
        "Unique_Post=df_posts_noBlanks.author.value_counts()\n",
        "Unique_Post_Freq=df_posts_noBlanks.author.value_counts(normalize=True) #gives percent on each post. \n",
        "\n",
        "Unique_Post[100]\n",
        "Unique_Post_Freq"
      ]
    },
    {
      "cell_type": "code",
      "source": [
        "unique_users_comments = df_comments_noBlanks['author'].value_counts()\n",
        "unique_users_comments "
      ],
      "metadata": {
        "colab": {
          "base_uri": "https://localhost:8080/"
        },
        "id": "kCBLuY6In0lD",
        "outputId": "0dc42188-c7bd-4e74-afd9-5f448ecf3201"
      },
      "execution_count": null,
      "outputs": [
        {
          "output_type": "execute_result",
          "data": {
            "text/plain": [
              "stevehut                1327\n",
              "JamieIsReading           264\n",
              "blowinthroughnaptime     240\n",
              "MaxFreedomMoussa         214\n",
              "thespacebetweenwalls     190\n",
              "                        ... \n",
              "prettyflyers11             1\n",
              "whore-moanz                1\n",
              "Distempa                   1\n",
              "SortofaWeirdName           1\n",
              "DaylanDaylan               1\n",
              "Name: author, Length: 4033, dtype: int64"
            ]
          },
          "metadata": {},
          "execution_count": 21
        }
      ]
    },
    {
      "cell_type": "code",
      "execution_count": null,
      "metadata": {
        "colab": {
          "base_uri": "https://localhost:8080/"
        },
        "id": "xpujuODLA6Dv",
        "outputId": "2fe3418a-e442-4a61-88eb-634993acb5db"
      },
      "outputs": [
        {
          "output_type": "execute_result",
          "data": {
            "text/plain": [
              "332.48163115356357"
            ]
          },
          "metadata": {},
          "execution_count": 22
        }
      ],
      "source": [
        "#Characters in average post \n",
        "\n",
        "Text_Length1=df_posts_noBlanks.textlen.mean()\n",
        "Text_Length1\n",
        "\n",
        "Text_Length2=df_comments_noBlanks.textlen.mean()\n",
        "Text_Length2"
      ]
    },
    {
      "cell_type": "code",
      "execution_count": null,
      "metadata": {
        "colab": {
          "base_uri": "https://localhost:8080/",
          "height": 282
        },
        "id": "Di_KUDyUE07E",
        "outputId": "a092ed83-91b6-43ff-cac0-6406ba086ac5"
      },
      "outputs": [
        {
          "output_type": "execute_result",
          "data": {
            "text/plain": [
              "<matplotlib.axes._subplots.AxesSubplot at 0x7f6bca8155d0>"
            ]
          },
          "metadata": {},
          "execution_count": 23
        },
        {
          "output_type": "display_data",
          "data": {
            "text/plain": [
              "<Figure size 432x288 with 1 Axes>"
            ],
            "image/png": "[encoded data removed]"
          },
          "metadata": {
            "needs_background": "light"
          }
        }
      ],
      "source": [
        "df_posts_noBlanks.score.hist()"
      ]
    },
    {
      "cell_type": "code",
      "execution_count": null,
      "metadata": {
        "colab": {
          "base_uri": "https://localhost:8080/"
        },
        "id": "nyh9uWZNFQlk",
        "outputId": "e324b69e-cd3b-4448-8b78-8c93190bed7f"
      },
      "outputs": [
        {
          "output_type": "execute_result",
          "data": {
            "text/plain": [
              "7       2\n",
              "12      2\n",
              "17      2\n",
              "62      3\n",
              "63      1\n",
              "       ..\n",
              "7321    3\n",
              "7322    2\n",
              "7326    8\n",
              "7328    0\n",
              "7329    8\n",
              "Name: score, Length: 2388, dtype: int64"
            ]
          },
          "metadata": {},
          "execution_count": 24
        }
      ],
      "source": [
        "df_posts_noBlanks.score"
      ]
    },
    {
      "cell_type": "code",
      "execution_count": null,
      "metadata": {
        "colab": {
          "base_uri": "https://localhost:8080/"
        },
        "id": "jsFAcM2rHnmH",
        "outputId": "1a7fe27a-d15c-4803-8fe2-bf1b71b60bc6"
      },
      "outputs": [
        {
          "output_type": "execute_result",
          "data": {
            "text/plain": [
              "7       2\n",
              "12      2\n",
              "17      2\n",
              "62      3\n",
              "63      1\n",
              "       ..\n",
              "7321    3\n",
              "7322    2\n",
              "7326    8\n",
              "7328    0\n",
              "7329    8\n",
              "Name: score, Length: 2388, dtype: int64"
            ]
          },
          "metadata": {},
          "execution_count": 25
        }
      ],
      "source": [
        "df_posts_noBlanks.score"
      ]
    },
    {
      "cell_type": "markdown",
      "metadata": {
        "id": "3SDKQNDf3gvu"
      },
      "source": [
        "## Cleaning text data (based on module 02 notebook 1)\n",
        "\n",
        "Text data collected in the real world is always going to be variable, which poses a challenge for analysis. But by reducing some of this variation, we can help improve our results. For example, if we are counting instances of the word `\"weather\"` in text, we might want the strings `\"weather\"`, `\"weather.\"`, and `\"Weather\"` to all be counted as instances of the same word. However, in raw text form, these would be treated as separate strings. By performing text cleaning, we can standardize these cases and make our data easier to analyze. Some common preprocessing steps are:\n",
        "\n",
        "- Removing punctuation\n",
        "- Removing URLs\n",
        "- Removing stopwords (non-content words like \"a\", \"the\", \"is\", etc.)\n",
        "- Lowercasing\n",
        "- Tokenization (e.g., splitting a sentence into distinct \"chunks\" or \"tokens\")\n",
        "- Stemming, or removing the ends of words (e.g., places -> place)\n",
        "- Lemmatization, or changing words to 'dictionary form' (e.g., runs, running, run -> run)\n",
        "\n",
        "Fortunately, we don't need to code every one of these steps. Instead, we will use a package called [spaCy](https://spacy.io/) to do these things. If the text you'd like to process is general-purpose English language text (i.e., not domain-specific, like medical literature), `spaCy` is ready to use out-of-the-box. We will use the [`en_core_web_sm`](https://spacy.io/models/en/#en_core_web_sm) pipeline to cover the steps listed above. "
      ]
    },
    {
      "cell_type": "code",
      "execution_count": null,
      "metadata": {
        "colab": {
          "base_uri": "https://localhost:8080/",
          "height": 143
        },
        "id": "2hS4SmONr7Z1",
        "outputId": "079f38c0-13f3-403f-c78b-747271ea099b"
      },
      "outputs": [
        {
          "output_type": "execute_result",
          "data": {
            "text/plain": [
              "       idint     idstr     created  self  nsfw             author  \\\n",
              "7   23221158  t3_dtpk6  1287554803     1     0          [deleted]   \n",
              "12  25888930  t3_few0y  1296782293     1     0          mostrasho   \n",
              "17  29705825  t3_hop5t  1306892178     1     0  YouveBeenOneUpped   \n",
              "\n",
              "                                                title  \\\n",
              "7   I am a recent graduate with no experience in t...   \n",
              "12  Help r/publishing! I just got offered a (volun...   \n",
              "17                Reprints - Are there average costs?   \n",
              "\n",
              "                                             selftext  score  textlen  \\\n",
              "7   I have no industry experience in publishing, b...      2     1007   \n",
              "12  The editor who offered it is fully aware that ...      2     1027   \n",
              "17  Hey All. How much do short excerpt reprints ty...      2      188   \n",
              "\n",
              "    num_comments  \n",
              "7              5  \n",
              "12             2  \n",
              "17             4  "
            ],
            "text/html": [
              "\n",
              "  <div id=\"df-f0e9c0b4-8899-4612-89b5-0a4a80c3e7b6\">\n",
              "    <div class=\"colab-df-container\">\n",
              "      <div>\n",
              "<style scoped>\n",
              "    .dataframe tbody tr th:only-of-type {\n",
              "        vertical-align: middle;\n",
              "    }\n",
              "\n",
              "    .dataframe tbody tr th {\n",
              "        vertical-align: top;\n",
              "    }\n",
              "\n",
              "    .dataframe thead th {\n",
              "        text-align: right;\n",
              "    }\n",
              "</style>\n",
              "<table border=\"1\" class=\"dataframe\">\n",
              "  <thead>\n",
              "    <tr style=\"text-align: right;\">\n",
              "      <th></th>\n",
              "      <th>idint</th>\n",
              "      <th>idstr</th>\n",
              "      <th>created</th>\n",
              "      <th>self</th>\n",
              "      <th>nsfw</th>\n",
              "      <th>author</th>\n",
              "      <th>title</th>\n",
              "      <th>selftext</th>\n",
              "      <th>score</th>\n",
              "      <th>textlen</th>\n",
              "      <th>num_comments</th>\n",
              "    </tr>\n",
              "  </thead>\n",
              "  <tbody>\n",
              "    <tr>\n",
              "      <th>7</th>\n",
              "      <td>23221158</td>\n",
              "      <td>t3_dtpk6</td>\n",
              "      <td>1287554803</td>\n",
              "      <td>1</td>\n",
              "      <td>0</td>\n",
              "      <td>[deleted]</td>\n",
              "      <td>I am a recent graduate with no experience in t...</td>\n",
              "      <td>I have no industry experience in publishing, b...</td>\n",
              "      <td>2</td>\n",
              "      <td>1007</td>\n",
              "      <td>5</td>\n",
              "    </tr>\n",
              "    <tr>\n",
              "      <th>12</th>\n",
              "      <td>25888930</td>\n",
              "      <td>t3_few0y</td>\n",
              "      <td>1296782293</td>\n",
              "      <td>1</td>\n",
              "      <td>0</td>\n",
              "      <td>mostrasho</td>\n",
              "      <td>Help r/publishing! I just got offered a (volun...</td>\n",
              "      <td>The editor who offered it is fully aware that ...</td>\n",
              "      <td>2</td>\n",
              "      <td>1027</td>\n",
              "      <td>2</td>\n",
              "    </tr>\n",
              "    <tr>\n",
              "      <th>17</th>\n",
              "      <td>29705825</td>\n",
              "      <td>t3_hop5t</td>\n",
              "      <td>1306892178</td>\n",
              "      <td>1</td>\n",
              "      <td>0</td>\n",
              "      <td>YouveBeenOneUpped</td>\n",
              "      <td>Reprints - Are there average costs?</td>\n",
              "      <td>Hey All. How much do short excerpt reprints ty...</td>\n",
              "      <td>2</td>\n",
              "      <td>188</td>\n",
              "      <td>4</td>\n",
              "    </tr>\n",
              "  </tbody>\n",
              "</table>\n",
              "</div>\n",
              "      <button class=\"colab-df-convert\" onclick=\"convertToInteractive('df-f0e9c0b4-8899-4612-89b5-0a4a80c3e7b6')\"\n",
              "              title=\"Convert this dataframe to an interactive table.\"\n",
              "              style=\"display:none;\">\n",
              "        \n",
              "  <svg xmlns=\"http://www.w3.org/2000/svg\" height=\"24px\"viewBox=\"0 0 24 24\"\n",
              "       width=\"24px\">\n",
              "    <path d=\"M0 0h24v24H0V0z\" fill=\"none\"/>\n",
              "    <path d=\"M18.56 5.44l.94 2.06.94-2.06 2.06-.94-2.06-.94-.94-2.06-.94 2.06-2.06.94zm-11 1L8.5 8.5l.94-2.06 2.06-.94-2.06-.94L8.5 2.5l-.94 2.06-2.06.94zm10 10l.94 2.06.94-2.06 2.06-.94-2.06-.94-.94-2.06-.94 2.06-2.06.94z\"/><path d=\"M17.41 7.96l-1.37-1.37c-.4-.4-.92-.59-1.43-.59-.52 0-1.04.2-1.43.59L10.3 9.45l-7.72 7.72c-.78.78-.78 2.05 0 2.83L4 21.41c.39.39.9.59 1.41.59.51 0 1.02-.2 1.41-.59l7.78-7.78 2.81-2.81c.8-.78.8-2.07 0-2.86zM5.41 20L4 18.59l7.72-7.72 1.47 1.35L5.41 20z\"/>\n",
              "  </svg>\n",
              "      </button>\n",
              "      \n",
              "  <style>\n",
              "    .colab-df-container {\n",
              "      display:flex;\n",
              "      flex-wrap:wrap;\n",
              "      gap: 12px;\n",
              "    }\n",
              "\n",
              "    .colab-df-convert {\n",
              "      background-color: #E8F0FE;\n",
              "      border: none;\n",
              "      border-radius: 50%;\n",
              "      cursor: pointer;\n",
              "      display: none;\n",
              "      fill: #1967D2;\n",
              "      height: 32px;\n",
              "      padding: 0 0 0 0;\n",
              "      width: 32px;\n",
              "    }\n",
              "\n",
              "    .colab-df-convert:hover {\n",
              "      background-color: #E2EBFA;\n",
              "      box-shadow: 0px 1px 2px rgba(60, 64, 67, 0.3), 0px 1px 3px 1px rgba(60, 64, 67, 0.15);\n",
              "      fill: #174EA6;\n",
              "    }\n",
              "\n",
              "    [theme=dark] .colab-df-convert {\n",
              "      background-color: #3B4455;\n",
              "      fill: #D2E3FC;\n",
              "    }\n",
              "\n",
              "    [theme=dark] .colab-df-convert:hover {\n",
              "      background-color: #434B5C;\n",
              "      box-shadow: 0px 1px 3px 1px rgba(0, 0, 0, 0.15);\n",
              "      filter: drop-shadow(0px 1px 2px rgba(0, 0, 0, 0.3));\n",
              "      fill: #FFFFFF;\n",
              "    }\n",
              "  </style>\n",
              "\n",
              "      <script>\n",
              "        const buttonEl =\n",
              "          document.querySelector('#df-f0e9c0b4-8899-4612-89b5-0a4a80c3e7b6 button.colab-df-convert');\n",
              "        buttonEl.style.display =\n",
              "          google.colab.kernel.accessAllowed ? 'block' : 'none';\n",
              "\n",
              "        async function convertToInteractive(key) {\n",
              "          const element = document.querySelector('#df-f0e9c0b4-8899-4612-89b5-0a4a80c3e7b6');\n",
              "          const dataTable =\n",
              "            await google.colab.kernel.invokeFunction('convertToInteractive',\n",
              "                                                     [key], {});\n",
              "          if (!dataTable) return;\n",
              "\n",
              "          const docLinkHtml = 'Like what you see? Visit the ' +\n",
              "            '<a target=\"_blank\" href=https://colab.research.google.com/notebooks/data_table.ipynb>data table notebook</a>'\n",
              "            + ' to learn more about interactive tables.';\n",
              "          element.innerHTML = '';\n",
              "          dataTable['output_type'] = 'display_data';\n",
              "          await google.colab.output.renderOutput(dataTable, element);\n",
              "          const docLink = document.createElement('div');\n",
              "          docLink.innerHTML = docLinkHtml;\n",
              "          element.appendChild(docLink);\n",
              "        }\n",
              "      </script>\n",
              "    </div>\n",
              "  </div>\n",
              "  "
            ]
          },
          "metadata": {},
          "execution_count": 26
        }
      ],
      "source": [
        "df_posts_noBlanks.head(3)"
      ]
    },
    {
      "cell_type": "code",
      "execution_count": null,
      "metadata": {
        "colab": {
          "base_uri": "https://localhost:8080/"
        },
        "id": "MWZ0ytuc3-92",
        "outputId": "0777f540-9db2-45eb-806d-460d5efab297"
      },
      "outputs": [
        {
          "output_type": "stream",
          "name": "stdout",
          "text": [
            "I have no industry experience in publishing, but would very much like to enter the field - specifically, editing. It seems as if the usual catch-22 holds true: to get the job, you need experience; to get experience, you need a job. Finding entry-level work is proving very difficult. I live in Baltimore, MD and I feel that I've exhausted the obvious avenues, sending my resume and cover letter to every magazine, newspaper, publishing house, etc., that I can locate. \n",
            "\n",
            "I am not opposed to internships, of course, but as I am not a college student, I tend to be excluded from consideration. Additionally, I have to support myself and so work-for-pay, in an obvious sense, takes priority.\n",
            "\n",
            "I realize that there are only 10 readers in this subreddit, so this really is a shot in the dark, but I could use some advice from persons familiar with the industry. I've considered, as well, sending out a few emails to editors whose blogs I read, asking them for similar guidance. Would this be perceived as brazen? \n"
          ]
        }
      ],
      "source": [
        "# Imports spaCy\n",
        "import spacy\n",
        "\n",
        "# Loads the English preprocessing pipeline\n",
        "nlp = spacy.load('en_core_web_sm')\n",
        "\n",
        "# Parses the first r/publishing post\n",
        "parsed_post = nlp(df_posts_noBlanks.selftext.iloc[0])\n",
        "print(parsed_post)"
      ]
    },
    {
      "cell_type": "code",
      "execution_count": null,
      "metadata": {
        "id": "szij6wy1tWs3",
        "colab": {
          "base_uri": "https://localhost:8080/"
        },
        "outputId": "5b87e38d-5b76-4882-9f90-803a3c811426"
      },
      "outputs": [
        {
          "output_type": "stream",
          "name": "stdout",
          "text": [
            "Sentence 1\n",
            "I have no industry experience in publishing, but would very much like to enter the field - specifically, editing.\n",
            "\n",
            "Sentence 2\n",
            "It seems as if the usual catch-22 holds true: to get the job, you need experience; to get experience, you need a job.\n",
            "\n",
            "Sentence 3\n",
            "Finding entry-level work is proving very difficult.\n",
            "\n",
            "Sentence 4\n",
            "I live in Baltimore, MD and I feel that I've exhausted the obvious avenues, sending my resume and cover letter to every magazine, newspaper, publishing house, etc., that I can locate.\n",
            "\n",
            "Sentence 5\n",
            "\n",
            "\n",
            "\n",
            "\n",
            "Sentence 6\n",
            "I am not opposed to internships, of course, but as I am not a college student, I tend to be excluded from consideration.\n",
            "\n",
            "Sentence 7\n",
            "Additionally, I have to support myself and so work-for-pay, in an obvious sense, takes priority.\n",
            "\n",
            "\n",
            "\n",
            "Sentence 8\n",
            "I realize that there are only 10 readers in this subreddit, so this really is a shot in the dark, but I could use some advice from persons familiar with the industry.\n",
            "\n",
            "Sentence 9\n",
            "I've considered, as well, sending out a few emails to editors whose blogs I read, asking them for similar guidance.\n",
            "\n",
            "Sentence 10\n",
            "Would this be perceived as brazen?\n",
            "\n"
          ]
        }
      ],
      "source": [
        "# Print each sentence in the parsed post\n",
        "for idx, sentence in enumerate(parsed_post.sents):\n",
        "    print(f'Sentence {idx + 1}')\n",
        "    print(sentence)\n",
        "    print('')"
      ]
    },
    {
      "cell_type": "code",
      "execution_count": null,
      "metadata": {
        "id": "hgeokb1xtix0",
        "colab": {
          "base_uri": "https://localhost:8080/",
          "height": 520
        },
        "outputId": "6e8ae215-ea40-41d3-8f9e-18d6235ce51e"
      },
      "outputs": [
        {
          "output_type": "execute_result",
          "data": {
            "text/plain": [
              "    token_text part_of_speech token_lemma  token_stop  token_punct\n",
              "0            I           PRON           I        True        False\n",
              "1         have           VERB        have        True        False\n",
              "2           no            DET          no        True        False\n",
              "3     industry           NOUN    industry       False        False\n",
              "4   experience           NOUN  experience       False        False\n",
              "5           in            ADP          in        True        False\n",
              "6   publishing           NOUN  publishing       False        False\n",
              "7            ,          PUNCT           ,       False         True\n",
              "8          but          CCONJ         but        True        False\n",
              "9        would            AUX       would        True        False\n",
              "10        very            ADV        very        True        False\n",
              "11        much            ADV        much        True        False\n",
              "12        like            ADP        like       False        False\n",
              "13          to           PART          to        True        False\n",
              "14       enter           VERB       enter       False        False"
            ],
            "text/html": [
              "\n",
              "  <div id=\"df-f1ed5b5a-9d88-4ba4-a102-56419e9b5c13\">\n",
              "    <div class=\"colab-df-container\">\n",
              "      <div>\n",
              "<style scoped>\n",
              "    .dataframe tbody tr th:only-of-type {\n",
              "        vertical-align: middle;\n",
              "    }\n",
              "\n",
              "    .dataframe tbody tr th {\n",
              "        vertical-align: top;\n",
              "    }\n",
              "\n",
              "    .dataframe thead th {\n",
              "        text-align: right;\n",
              "    }\n",
              "</style>\n",
              "<table border=\"1\" class=\"dataframe\">\n",
              "  <thead>\n",
              "    <tr style=\"text-align: right;\">\n",
              "      <th></th>\n",
              "      <th>token_text</th>\n",
              "      <th>part_of_speech</th>\n",
              "      <th>token_lemma</th>\n",
              "      <th>token_stop</th>\n",
              "      <th>token_punct</th>\n",
              "    </tr>\n",
              "  </thead>\n",
              "  <tbody>\n",
              "    <tr>\n",
              "      <th>0</th>\n",
              "      <td>I</td>\n",
              "      <td>PRON</td>\n",
              "      <td>I</td>\n",
              "      <td>True</td>\n",
              "      <td>False</td>\n",
              "    </tr>\n",
              "    <tr>\n",
              "      <th>1</th>\n",
              "      <td>have</td>\n",
              "      <td>VERB</td>\n",
              "      <td>have</td>\n",
              "      <td>True</td>\n",
              "      <td>False</td>\n",
              "    </tr>\n",
              "    <tr>\n",
              "      <th>2</th>\n",
              "      <td>no</td>\n",
              "      <td>DET</td>\n",
              "      <td>no</td>\n",
              "      <td>True</td>\n",
              "      <td>False</td>\n",
              "    </tr>\n",
              "    <tr>\n",
              "      <th>3</th>\n",
              "      <td>industry</td>\n",
              "      <td>NOUN</td>\n",
              "      <td>industry</td>\n",
              "      <td>False</td>\n",
              "      <td>False</td>\n",
              "    </tr>\n",
              "    <tr>\n",
              "      <th>4</th>\n",
              "      <td>experience</td>\n",
              "      <td>NOUN</td>\n",
              "      <td>experience</td>\n",
              "      <td>False</td>\n",
              "      <td>False</td>\n",
              "    </tr>\n",
              "    <tr>\n",
              "      <th>5</th>\n",
              "      <td>in</td>\n",
              "      <td>ADP</td>\n",
              "      <td>in</td>\n",
              "      <td>True</td>\n",
              "      <td>False</td>\n",
              "    </tr>\n",
              "    <tr>\n",
              "      <th>6</th>\n",
              "      <td>publishing</td>\n",
              "      <td>NOUN</td>\n",
              "      <td>publishing</td>\n",
              "      <td>False</td>\n",
              "      <td>False</td>\n",
              "    </tr>\n",
              "    <tr>\n",
              "      <th>7</th>\n",
              "      <td>,</td>\n",
              "      <td>PUNCT</td>\n",
              "      <td>,</td>\n",
              "      <td>False</td>\n",
              "      <td>True</td>\n",
              "    </tr>\n",
              "    <tr>\n",
              "      <th>8</th>\n",
              "      <td>but</td>\n",
              "      <td>CCONJ</td>\n",
              "      <td>but</td>\n",
              "      <td>True</td>\n",
              "      <td>False</td>\n",
              "    </tr>\n",
              "    <tr>\n",
              "      <th>9</th>\n",
              "      <td>would</td>\n",
              "      <td>AUX</td>\n",
              "      <td>would</td>\n",
              "      <td>True</td>\n",
              "      <td>False</td>\n",
              "    </tr>\n",
              "    <tr>\n",
              "      <th>10</th>\n",
              "      <td>very</td>\n",
              "      <td>ADV</td>\n",
              "      <td>very</td>\n",
              "      <td>True</td>\n",
              "      <td>False</td>\n",
              "    </tr>\n",
              "    <tr>\n",
              "      <th>11</th>\n",
              "      <td>much</td>\n",
              "      <td>ADV</td>\n",
              "      <td>much</td>\n",
              "      <td>True</td>\n",
              "      <td>False</td>\n",
              "    </tr>\n",
              "    <tr>\n",
              "      <th>12</th>\n",
              "      <td>like</td>\n",
              "      <td>ADP</td>\n",
              "      <td>like</td>\n",
              "      <td>False</td>\n",
              "      <td>False</td>\n",
              "    </tr>\n",
              "    <tr>\n",
              "      <th>13</th>\n",
              "      <td>to</td>\n",
              "      <td>PART</td>\n",
              "      <td>to</td>\n",
              "      <td>True</td>\n",
              "      <td>False</td>\n",
              "    </tr>\n",
              "    <tr>\n",
              "      <th>14</th>\n",
              "      <td>enter</td>\n",
              "      <td>VERB</td>\n",
              "      <td>enter</td>\n",
              "      <td>False</td>\n",
              "      <td>False</td>\n",
              "    </tr>\n",
              "  </tbody>\n",
              "</table>\n",
              "</div>\n",
              "      <button class=\"colab-df-convert\" onclick=\"convertToInteractive('df-f1ed5b5a-9d88-4ba4-a102-56419e9b5c13')\"\n",
              "              title=\"Convert this dataframe to an interactive table.\"\n",
              "              style=\"display:none;\">\n",
              "        \n",
              "  <svg xmlns=\"http://www.w3.org/2000/svg\" height=\"24px\"viewBox=\"0 0 24 24\"\n",
              "       width=\"24px\">\n",
              "    <path d=\"M0 0h24v24H0V0z\" fill=\"none\"/>\n",
              "    <path d=\"M18.56 5.44l.94 2.06.94-2.06 2.06-.94-2.06-.94-.94-2.06-.94 2.06-2.06.94zm-11 1L8.5 8.5l.94-2.06 2.06-.94-2.06-.94L8.5 2.5l-.94 2.06-2.06.94zm10 10l.94 2.06.94-2.06 2.06-.94-2.06-.94-.94-2.06-.94 2.06-2.06.94z\"/><path d=\"M17.41 7.96l-1.37-1.37c-.4-.4-.92-.59-1.43-.59-.52 0-1.04.2-1.43.59L10.3 9.45l-7.72 7.72c-.78.78-.78 2.05 0 2.83L4 21.41c.39.39.9.59 1.41.59.51 0 1.02-.2 1.41-.59l7.78-7.78 2.81-2.81c.8-.78.8-2.07 0-2.86zM5.41 20L4 18.59l7.72-7.72 1.47 1.35L5.41 20z\"/>\n",
              "  </svg>\n",
              "      </button>\n",
              "      \n",
              "  <style>\n",
              "    .colab-df-container {\n",
              "      display:flex;\n",
              "      flex-wrap:wrap;\n",
              "      gap: 12px;\n",
              "    }\n",
              "\n",
              "    .colab-df-convert {\n",
              "      background-color: #E8F0FE;\n",
              "      border: none;\n",
              "      border-radius: 50%;\n",
              "      cursor: pointer;\n",
              "      display: none;\n",
              "      fill: #1967D2;\n",
              "      height: 32px;\n",
              "      padding: 0 0 0 0;\n",
              "      width: 32px;\n",
              "    }\n",
              "\n",
              "    .colab-df-convert:hover {\n",
              "      background-color: #E2EBFA;\n",
              "      box-shadow: 0px 1px 2px rgba(60, 64, 67, 0.3), 0px 1px 3px 1px rgba(60, 64, 67, 0.15);\n",
              "      fill: #174EA6;\n",
              "    }\n",
              "\n",
              "    [theme=dark] .colab-df-convert {\n",
              "      background-color: #3B4455;\n",
              "      fill: #D2E3FC;\n",
              "    }\n",
              "\n",
              "    [theme=dark] .colab-df-convert:hover {\n",
              "      background-color: #434B5C;\n",
              "      box-shadow: 0px 1px 3px 1px rgba(0, 0, 0, 0.15);\n",
              "      filter: drop-shadow(0px 1px 2px rgba(0, 0, 0, 0.3));\n",
              "      fill: #FFFFFF;\n",
              "    }\n",
              "  </style>\n",
              "\n",
              "      <script>\n",
              "        const buttonEl =\n",
              "          document.querySelector('#df-f1ed5b5a-9d88-4ba4-a102-56419e9b5c13 button.colab-df-convert');\n",
              "        buttonEl.style.display =\n",
              "          google.colab.kernel.accessAllowed ? 'block' : 'none';\n",
              "\n",
              "        async function convertToInteractive(key) {\n",
              "          const element = document.querySelector('#df-f1ed5b5a-9d88-4ba4-a102-56419e9b5c13');\n",
              "          const dataTable =\n",
              "            await google.colab.kernel.invokeFunction('convertToInteractive',\n",
              "                                                     [key], {});\n",
              "          if (!dataTable) return;\n",
              "\n",
              "          const docLinkHtml = 'Like what you see? Visit the ' +\n",
              "            '<a target=\"_blank\" href=https://colab.research.google.com/notebooks/data_table.ipynb>data table notebook</a>'\n",
              "            + ' to learn more about interactive tables.';\n",
              "          element.innerHTML = '';\n",
              "          dataTable['output_type'] = 'display_data';\n",
              "          await google.colab.output.renderOutput(dataTable, element);\n",
              "          const docLink = document.createElement('div');\n",
              "          docLink.innerHTML = docLinkHtml;\n",
              "          element.appendChild(docLink);\n",
              "        }\n",
              "      </script>\n",
              "    </div>\n",
              "  </div>\n",
              "  "
            ]
          },
          "metadata": {},
          "execution_count": 29
        }
      ],
      "source": [
        "# Extract the first 15 items for the following properties of the parsed post\n",
        "\n",
        "# The token text \n",
        "token_text = [token.orth_ for token in parsed_post][:15]   \n",
        "# Part of speech \n",
        "token_pos = [token.pos_ for token in parsed_post][:15]   \n",
        "# Lemma (or 'dictionary form')\n",
        "token_lemma = [token.lemma_ for token in parsed_post][:15]\n",
        "# Stop word? t/f\n",
        "token_stop = [token.is_stop for token in parsed_post][:15]\n",
        "# Puncutation? t/f\n",
        "token_punct = [token.is_punct for token in parsed_post][:15]\n",
        "\n",
        "# Make a dataframe with these items\n",
        "pd.DataFrame(zip(token_text, token_pos, token_lemma, token_stop, token_punct),\n",
        "             columns=['token_text', 'part_of_speech', 'token_lemma', 'token_stop', 'token_punct'])"
      ]
    },
    {
      "cell_type": "code",
      "execution_count": null,
      "metadata": {
        "colab": {
          "base_uri": "https://localhost:8080/"
        },
        "id": "EkxtX9RPa9xA",
        "outputId": "78cdb3b4-06e5-4d24-e7df-0ff57f99197e"
      },
      "outputs": [
        {
          "output_type": "stream",
          "name": "stdout",
          "text": [
            "['that', '’s', 'actually', 'not', 'true']\n"
          ]
        }
      ],
      "source": [
        "# preprocess the example sentence\n",
        "test = nlp(\"That’s actually not true\")\n",
        "tokens = []\n",
        "# For each token in the processed object\n",
        "for token in test:\n",
        "    # Check if the token is punctuation\n",
        "    if not token.is_punct:\n",
        "        # Append the lower-case lemma to the list\n",
        "        tokens.append(token.lemma_.lower())\n",
        "print(tokens)"
      ]
    },
    {
      "cell_type": "code",
      "execution_count": null,
      "metadata": {
        "id": "ADQ8DNyL2YVC",
        "colab": {
          "base_uri": "https://localhost:8080/"
        },
        "outputId": "67e9a7f5-43da-4442-c315-18e68d941a20"
      },
      "outputs": [
        {
          "output_type": "stream",
          "name": "stdout",
          "text": [
            "0 i\n",
            "1 be\n",
            "2 you\n",
            "3 ’re\n",
            "4 he\n",
            "5 be\n",
            "6 he\n",
            "7 be\n",
            "8 that\n",
            "9 be\n",
            "10 that\n",
            "11 ’s\n",
            "12 he\n",
            "13 ’\n",
            "14 he\n",
            "15 's\n",
            "16 father\n",
            "17 's\n",
            "18 father\n",
            "19 ’s\n"
          ]
        }
      ],
      "source": [
        "test = nlp(\"I'm you’re he's he's That's that’s he’s he's father's father’s\")\n",
        "tokens = [token.lemma_.lower() for token in test if not token.is_punct]\n",
        "for i, tokens in enumerate(tokens):\n",
        "    print(i, tokens)"
      ]
    },
    {
      "cell_type": "code",
      "execution_count": null,
      "metadata": {
        "id": "m4lqUhbD2aV4",
        "colab": {
          "base_uri": "https://localhost:8080/"
        },
        "outputId": "72728e15-80b8-4416-eee6-d5cc1dec2e1f"
      },
      "outputs": [
        {
          "output_type": "stream",
          "name": "stdout",
          "text": [
            "0 i\n",
            "1 be\n",
            "2 you\n",
            "3 ’re\n",
            "4 he\n",
            "5 be\n",
            "6 he\n",
            "7 be\n",
            "8 that\n",
            "9 be\n",
            "10 that\n",
            "11 he\n",
            "12 he\n",
            "13 father\n",
            "14 father\n"
          ]
        }
      ],
      "source": [
        "test = nlp(\"I'm you’re he's he's That's that’s he’s he's father's father’s\")\n",
        "tokens = [token.lemma_.lower() if token.lemma_ != '-PRON-'\n",
        "          else token.lower_\n",
        "          for token in test if not token.is_punct and not token.is_digit]\n",
        "leftover = [\"'s\",  \"’s\", \"’\"]\n",
        "tokens_c = [token for token in tokens if not token in leftover]\n",
        "\n",
        "for i, t in enumerate(tokens_c):\n",
        "    print(i, t)"
      ]
    },
    {
      "cell_type": "markdown",
      "metadata": {
        "id": "Hu6sfUni96Ho"
      },
      "source": [
        "Preprocessing all data"
      ]
    },
    {
      "cell_type": "code",
      "source": [
        "from gensim.models.phrases import Phrases, Phraser"
      ],
      "metadata": {
        "id": "FkQo9OJT_IWx"
      },
      "execution_count": null,
      "outputs": []
    },
    {
      "cell_type": "code",
      "source": [
        "def clean(token):\n",
        "    \"\"\"Helper function that specifies whether a token is:\n",
        "        - punctuation\n",
        "        - space\n",
        "        - digit\n",
        "    \"\"\"\n",
        "    return token.is_punct or token.is_space or token.is_digit\n",
        "\n",
        "def line_read(df, text_col='selftext'):\n",
        "    \"\"\"Generator function to read in text from df and get rid of line breaks.\"\"\"    \n",
        "    for text in df[text_col]:\n",
        "        yield text.replace('\\n', '')\n",
        "\n",
        "def preprocess_posts(df, text_col='selftext', allowed_postags=['NOUN', 'ADJ']):\n",
        "    \"\"\"Preprocessing function to apply to the posts dataframe.\"\"\"\n",
        "    for parsed in nlp.pipe(line_read(df, text_col), batch_size=1000, disable=[\"ner\"]):\n",
        "        # Gather lowercased, lemmatized tokens\n",
        "        tokens = [token.lemma_.lower() if token.lemma_ != '-PRON-'\n",
        "                  else token.lower_ \n",
        "                  for token in parsed if not clean(token)]\n",
        "        # Remove specific lemmatizations, and words that are not nouns or adjectives\n",
        "        tokens = [lemma\n",
        "                  for lemma in tokens\n",
        "                  if not lemma in [\"'s\",  \"’s\", \"’\"] and not lemma in allowed_postags]\n",
        "        # Remove stop words\n",
        "        tokens = [token for token in tokens if token not in spacy.lang.en.stop_words.STOP_WORDS]\n",
        "        yield tokens\n",
        "\n",
        "# created a different preprocessing function for the comments df because the relevant column name is different\n",
        "def preprocess_comments(df, text_col='body', allowed_postags=['NOUN', 'ADJ']):\n",
        "    \"\"\"Preprocessing function to apply to the comments dataframe.\"\"\"\n",
        "    for parsed in nlp.pipe(line_read(df, text_col), batch_size=1000, disable=[\"ner\"]):\n",
        "        # Gather lowercased, lemmatized tokens\n",
        "        tokens = [token.lemma_.lower() if token.lemma_ != '-PRON-'\n",
        "                  else token.lower_ \n",
        "                  for token in parsed if not clean(token)]\n",
        "        # Remove specific lemmatizations, and words that are not nouns or adjectives\n",
        "        tokens = [lemma\n",
        "                  for lemma in tokens\n",
        "                  if not lemma in [\"'s\",  \"’s\", \"’\"] and not lemma in allowed_postags]\n",
        "        # Remove stop words\n",
        "        tokens = [token for token in tokens if token not in spacy.lang.en.stop_words.STOP_WORDS]\n",
        "        yield tokens"
      ],
      "metadata": {
        "id": "V5ndbq5VAEre"
      },
      "execution_count": null,
      "outputs": []
    },
    {
      "cell_type": "code",
      "source": [
        "# creates a list of lists of lemmas in each post\n",
        "lemmas_posts = [line for line in preprocess_posts(df_posts_noBlanks)]"
      ],
      "metadata": {
        "id": "e-aBZ1krAM0C"
      },
      "execution_count": null,
      "outputs": []
    },
    {
      "cell_type": "code",
      "source": [
        "len(lemmas_posts)\n",
        "# confirms that there's a lemma list for each post"
      ],
      "metadata": {
        "id": "C7OWAlAJAOWS",
        "colab": {
          "base_uri": "https://localhost:8080/"
        },
        "outputId": "8277ec45-7bbb-489d-f356-75205c8a10b7"
      },
      "execution_count": null,
      "outputs": [
        {
          "output_type": "execute_result",
          "data": {
            "text/plain": [
              "2388"
            ]
          },
          "metadata": {},
          "execution_count": 36
        }
      ]
    },
    {
      "cell_type": "code",
      "source": [
        "# shows the list of lemmas in the first post\n",
        "lemmas_posts[0]"
      ],
      "metadata": {
        "id": "KAjZwNH9APrE",
        "colab": {
          "base_uri": "https://localhost:8080/"
        },
        "outputId": "51431a91-1dcf-4178-8b0f-6ed270f0cd75"
      },
      "execution_count": null,
      "outputs": [
        {
          "output_type": "execute_result",
          "data": {
            "text/plain": [
              "['industry',\n",
              " 'experience',\n",
              " 'publishing',\n",
              " 'like',\n",
              " 'enter',\n",
              " 'field',\n",
              " 'specifically',\n",
              " 'editing',\n",
              " 'usual',\n",
              " 'catch-22',\n",
              " 'hold',\n",
              " 'true',\n",
              " 'job',\n",
              " 'need',\n",
              " 'experience',\n",
              " 'experience',\n",
              " 'need',\n",
              " 'job',\n",
              " 'find',\n",
              " 'entry',\n",
              " 'level',\n",
              " 'work',\n",
              " 'prove',\n",
              " 'difficult',\n",
              " 'live',\n",
              " 'baltimore',\n",
              " 'md',\n",
              " 'feel',\n",
              " 'exhaust',\n",
              " 'obvious',\n",
              " 'avenue',\n",
              " 'send',\n",
              " 'resume',\n",
              " 'cover',\n",
              " 'letter',\n",
              " 'magazine',\n",
              " 'newspaper',\n",
              " 'publishing',\n",
              " 'house',\n",
              " 'etc',\n",
              " 'locate',\n",
              " 'oppose',\n",
              " 'internship',\n",
              " 'course',\n",
              " 'college',\n",
              " 'student',\n",
              " 'tend',\n",
              " 'exclude',\n",
              " 'consideration',\n",
              " 'additionally',\n",
              " 'support',\n",
              " 'work',\n",
              " 'pay',\n",
              " 'obvious',\n",
              " 'sense',\n",
              " 'priority',\n",
              " 'realize',\n",
              " 'reader',\n",
              " 'subreddit',\n",
              " 'shot',\n",
              " 'dark',\n",
              " 'use',\n",
              " 'advice',\n",
              " 'person',\n",
              " 'familiar',\n",
              " 'industry',\n",
              " 'consider',\n",
              " 'send',\n",
              " 'email',\n",
              " 'editor',\n",
              " 'blog',\n",
              " 'read',\n",
              " 'ask',\n",
              " 'similar',\n",
              " 'guidance',\n",
              " 'perceive',\n",
              " 'brazen']"
            ]
          },
          "metadata": {},
          "execution_count": 37
        }
      ]
    },
    {
      "cell_type": "code",
      "source": [
        "lemmas_posts[19]"
      ],
      "metadata": {
        "id": "Wjk1zbnWARD3",
        "colab": {
          "base_uri": "https://localhost:8080/"
        },
        "outputId": "3590ae3a-bee4-4336-9d6d-8fac6136c4d0"
      },
      "execution_count": null,
      "outputs": [
        {
          "output_type": "execute_result",
          "data": {
            "text/plain": [
              "['write',\n",
              " 'poem',\n",
              " 'book',\n",
              " 'freshman',\n",
              " 'year',\n",
              " 'high',\n",
              " 'school',\n",
              " 'second',\n",
              " 'year',\n",
              " 'college',\n",
              " 'dream',\n",
              " 'publish',\n",
              " 'poem',\n",
              " 'know',\n",
              " 'poem',\n",
              " 'let',\n",
              " 'book',\n",
              " 'money',\n",
              " 'order',\n",
              " 'book',\n",
              " 'copy',\n",
              " 'think',\n",
              " 'possible',\n",
              " 'post',\n",
              " 'online',\n",
              " 'website',\n",
              " 'recognize',\n",
              " 'work',\n",
              " 'anybody',\n",
              " 'know',\n",
              " 'help',\n",
              " 'greatly',\n",
              " 'appreciate']"
            ]
          },
          "metadata": {},
          "execution_count": 38
        }
      ]
    },
    {
      "cell_type": "code",
      "source": [
        "# creates a list of lists of lemmas in each comment\n",
        "lemmas_comments = [line for line in preprocess_comments(df_comments_noBlanks)]"
      ],
      "metadata": {
        "id": "rIcICgBeATJe"
      },
      "execution_count": null,
      "outputs": []
    },
    {
      "cell_type": "code",
      "source": [
        "# shows the list of lemmas in the first comment\n",
        "lemmas_comments[0]"
      ],
      "metadata": {
        "id": "kFy-Q5kSAUmt",
        "colab": {
          "base_uri": "https://localhost:8080/"
        },
        "outputId": "32339330-7e6a-4115-c630-41f2e04c2e1a"
      },
      "execution_count": null,
      "outputs": [
        {
          "output_type": "execute_result",
          "data": {
            "text/plain": [
              "['great', 'tip', 'start', 'market', 'book', 'online', 'publish']"
            ]
          },
          "metadata": {},
          "execution_count": 40
        }
      ]
    },
    {
      "cell_type": "code",
      "source": [
        "# flattens the list of lists into one big list to facilitate counting lemma frequency\n",
        "flat_lemmas_posts = [item for sublist in lemmas_posts for item in sublist]\n",
        "flat_lemmas_posts[:30]"
      ],
      "metadata": {
        "id": "LaNzZsD7AXKS",
        "colab": {
          "base_uri": "https://localhost:8080/"
        },
        "outputId": "795cf268-c40d-4fcd-f9d7-9e5770773679"
      },
      "execution_count": null,
      "outputs": [
        {
          "output_type": "execute_result",
          "data": {
            "text/plain": [
              "['industry',\n",
              " 'experience',\n",
              " 'publishing',\n",
              " 'like',\n",
              " 'enter',\n",
              " 'field',\n",
              " 'specifically',\n",
              " 'editing',\n",
              " 'usual',\n",
              " 'catch-22',\n",
              " 'hold',\n",
              " 'true',\n",
              " 'job',\n",
              " 'need',\n",
              " 'experience',\n",
              " 'experience',\n",
              " 'need',\n",
              " 'job',\n",
              " 'find',\n",
              " 'entry',\n",
              " 'level',\n",
              " 'work',\n",
              " 'prove',\n",
              " 'difficult',\n",
              " 'live',\n",
              " 'baltimore',\n",
              " 'md',\n",
              " 'feel',\n",
              " 'exhaust',\n",
              " 'obvious']"
            ]
          },
          "metadata": {},
          "execution_count": 41
        }
      ]
    },
    {
      "cell_type": "code",
      "source": [
        "# creates a df to see which lemmas are the most frequent\n",
        "from collections import Counter\n",
        "posts_count = Counter(flat_lemmas_posts)\n",
        "\n",
        "lemma_freq_df_posts = pd.DataFrame.from_dict(posts_count, orient='index').reset_index()\n",
        "lemma_freq_df_posts = lemma_freq_df_posts.rename(columns={'index':'lemma', 0:'count'})\n",
        "lemma_freq_df_posts.sort_values('count', ascending=False)[:30]"
      ],
      "metadata": {
        "id": "F41JPrFpAZKY",
        "colab": {
          "base_uri": "https://localhost:8080/",
          "height": 990
        },
        "outputId": "e3603bcc-3344-4b03-8350-1dccb506268b"
      },
      "execution_count": null,
      "outputs": [
        {
          "output_type": "execute_result",
          "data": {
            "text/plain": [
              "          lemma  count\n",
              "201        book   3137\n",
              "187     publish   1797\n",
              "2    publishing   1451\n",
              "17         work   1394\n",
              "3          like   1283\n",
              "120        know   1132\n",
              "188        want   1063\n",
              "290   publisher   1059\n",
              "174       write    971\n",
              "77         look    837\n",
              "231       think    705\n",
              "143        good    699\n",
              "194       story    695\n",
              "295      author    654\n",
              "14         find    650\n",
              "389        time    649\n",
              "133       thank    635\n",
              "54          use    611\n",
              "584        help    590\n",
              "177        year    583\n",
              "13         need    546\n",
              "247       agent    532\n",
              "109         try    529\n",
              "424      people    517\n",
              "198        self    513\n",
              "317       start    493\n",
              "1    experience    459\n",
              "397       right    445\n",
              "62         read    438\n",
              "321         new    434"
            ],
            "text/html": [
              "\n",
              "  <div id=\"df-cc679ed0-c3d0-4abf-94e0-238465a4c064\">\n",
              "    <div class=\"colab-df-container\">\n",
              "      <div>\n",
              "<style scoped>\n",
              "    .dataframe tbody tr th:only-of-type {\n",
              "        vertical-align: middle;\n",
              "    }\n",
              "\n",
              "    .dataframe tbody tr th {\n",
              "        vertical-align: top;\n",
              "    }\n",
              "\n",
              "    .dataframe thead th {\n",
              "        text-align: right;\n",
              "    }\n",
              "</style>\n",
              "<table border=\"1\" class=\"dataframe\">\n",
              "  <thead>\n",
              "    <tr style=\"text-align: right;\">\n",
              "      <th></th>\n",
              "      <th>lemma</th>\n",
              "      <th>count</th>\n",
              "    </tr>\n",
              "  </thead>\n",
              "  <tbody>\n",
              "    <tr>\n",
              "      <th>201</th>\n",
              "      <td>book</td>\n",
              "      <td>3137</td>\n",
              "    </tr>\n",
              "    <tr>\n",
              "      <th>187</th>\n",
              "      <td>publish</td>\n",
              "      <td>1797</td>\n",
              "    </tr>\n",
              "    <tr>\n",
              "      <th>2</th>\n",
              "      <td>publishing</td>\n",
              "      <td>1451</td>\n",
              "    </tr>\n",
              "    <tr>\n",
              "      <th>17</th>\n",
              "      <td>work</td>\n",
              "      <td>1394</td>\n",
              "    </tr>\n",
              "    <tr>\n",
              "      <th>3</th>\n",
              "      <td>like</td>\n",
              "      <td>1283</td>\n",
              "    </tr>\n",
              "    <tr>\n",
              "      <th>120</th>\n",
              "      <td>know</td>\n",
              "      <td>1132</td>\n",
              "    </tr>\n",
              "    <tr>\n",
              "      <th>188</th>\n",
              "      <td>want</td>\n",
              "      <td>1063</td>\n",
              "    </tr>\n",
              "    <tr>\n",
              "      <th>290</th>\n",
              "      <td>publisher</td>\n",
              "      <td>1059</td>\n",
              "    </tr>\n",
              "    <tr>\n",
              "      <th>174</th>\n",
              "      <td>write</td>\n",
              "      <td>971</td>\n",
              "    </tr>\n",
              "    <tr>\n",
              "      <th>77</th>\n",
              "      <td>look</td>\n",
              "      <td>837</td>\n",
              "    </tr>\n",
              "    <tr>\n",
              "      <th>231</th>\n",
              "      <td>think</td>\n",
              "      <td>705</td>\n",
              "    </tr>\n",
              "    <tr>\n",
              "      <th>143</th>\n",
              "      <td>good</td>\n",
              "      <td>699</td>\n",
              "    </tr>\n",
              "    <tr>\n",
              "      <th>194</th>\n",
              "      <td>story</td>\n",
              "      <td>695</td>\n",
              "    </tr>\n",
              "    <tr>\n",
              "      <th>295</th>\n",
              "      <td>author</td>\n",
              "      <td>654</td>\n",
              "    </tr>\n",
              "    <tr>\n",
              "      <th>14</th>\n",
              "      <td>find</td>\n",
              "      <td>650</td>\n",
              "    </tr>\n",
              "    <tr>\n",
              "      <th>389</th>\n",
              "      <td>time</td>\n",
              "      <td>649</td>\n",
              "    </tr>\n",
              "    <tr>\n",
              "      <th>133</th>\n",
              "      <td>thank</td>\n",
              "      <td>635</td>\n",
              "    </tr>\n",
              "    <tr>\n",
              "      <th>54</th>\n",
              "      <td>use</td>\n",
              "      <td>611</td>\n",
              "    </tr>\n",
              "    <tr>\n",
              "      <th>584</th>\n",
              "      <td>help</td>\n",
              "      <td>590</td>\n",
              "    </tr>\n",
              "    <tr>\n",
              "      <th>177</th>\n",
              "      <td>year</td>\n",
              "      <td>583</td>\n",
              "    </tr>\n",
              "    <tr>\n",
              "      <th>13</th>\n",
              "      <td>need</td>\n",
              "      <td>546</td>\n",
              "    </tr>\n",
              "    <tr>\n",
              "      <th>247</th>\n",
              "      <td>agent</td>\n",
              "      <td>532</td>\n",
              "    </tr>\n",
              "    <tr>\n",
              "      <th>109</th>\n",
              "      <td>try</td>\n",
              "      <td>529</td>\n",
              "    </tr>\n",
              "    <tr>\n",
              "      <th>424</th>\n",
              "      <td>people</td>\n",
              "      <td>517</td>\n",
              "    </tr>\n",
              "    <tr>\n",
              "      <th>198</th>\n",
              "      <td>self</td>\n",
              "      <td>513</td>\n",
              "    </tr>\n",
              "    <tr>\n",
              "      <th>317</th>\n",
              "      <td>start</td>\n",
              "      <td>493</td>\n",
              "    </tr>\n",
              "    <tr>\n",
              "      <th>1</th>\n",
              "      <td>experience</td>\n",
              "      <td>459</td>\n",
              "    </tr>\n",
              "    <tr>\n",
              "      <th>397</th>\n",
              "      <td>right</td>\n",
              "      <td>445</td>\n",
              "    </tr>\n",
              "    <tr>\n",
              "      <th>62</th>\n",
              "      <td>read</td>\n",
              "      <td>438</td>\n",
              "    </tr>\n",
              "    <tr>\n",
              "      <th>321</th>\n",
              "      <td>new</td>\n",
              "      <td>434</td>\n",
              "    </tr>\n",
              "  </tbody>\n",
              "</table>\n",
              "</div>\n",
              "      <button class=\"colab-df-convert\" onclick=\"convertToInteractive('df-cc679ed0-c3d0-4abf-94e0-238465a4c064')\"\n",
              "              title=\"Convert this dataframe to an interactive table.\"\n",
              "              style=\"display:none;\">\n",
              "        \n",
              "  <svg xmlns=\"http://www.w3.org/2000/svg\" height=\"24px\"viewBox=\"0 0 24 24\"\n",
              "       width=\"24px\">\n",
              "    <path d=\"M0 0h24v24H0V0z\" fill=\"none\"/>\n",
              "    <path d=\"M18.56 5.44l.94 2.06.94-2.06 2.06-.94-2.06-.94-.94-2.06-.94 2.06-2.06.94zm-11 1L8.5 8.5l.94-2.06 2.06-.94-2.06-.94L8.5 2.5l-.94 2.06-2.06.94zm10 10l.94 2.06.94-2.06 2.06-.94-2.06-.94-.94-2.06-.94 2.06-2.06.94z\"/><path d=\"M17.41 7.96l-1.37-1.37c-.4-.4-.92-.59-1.43-.59-.52 0-1.04.2-1.43.59L10.3 9.45l-7.72 7.72c-.78.78-.78 2.05 0 2.83L4 21.41c.39.39.9.59 1.41.59.51 0 1.02-.2 1.41-.59l7.78-7.78 2.81-2.81c.8-.78.8-2.07 0-2.86zM5.41 20L4 18.59l7.72-7.72 1.47 1.35L5.41 20z\"/>\n",
              "  </svg>\n",
              "      </button>\n",
              "      \n",
              "  <style>\n",
              "    .colab-df-container {\n",
              "      display:flex;\n",
              "      flex-wrap:wrap;\n",
              "      gap: 12px;\n",
              "    }\n",
              "\n",
              "    .colab-df-convert {\n",
              "      background-color: #E8F0FE;\n",
              "      border: none;\n",
              "      border-radius: 50%;\n",
              "      cursor: pointer;\n",
              "      display: none;\n",
              "      fill: #1967D2;\n",
              "      height: 32px;\n",
              "      padding: 0 0 0 0;\n",
              "      width: 32px;\n",
              "    }\n",
              "\n",
              "    .colab-df-convert:hover {\n",
              "      background-color: #E2EBFA;\n",
              "      box-shadow: 0px 1px 2px rgba(60, 64, 67, 0.3), 0px 1px 3px 1px rgba(60, 64, 67, 0.15);\n",
              "      fill: #174EA6;\n",
              "    }\n",
              "\n",
              "    [theme=dark] .colab-df-convert {\n",
              "      background-color: #3B4455;\n",
              "      fill: #D2E3FC;\n",
              "    }\n",
              "\n",
              "    [theme=dark] .colab-df-convert:hover {\n",
              "      background-color: #434B5C;\n",
              "      box-shadow: 0px 1px 3px 1px rgba(0, 0, 0, 0.15);\n",
              "      filter: drop-shadow(0px 1px 2px rgba(0, 0, 0, 0.3));\n",
              "      fill: #FFFFFF;\n",
              "    }\n",
              "  </style>\n",
              "\n",
              "      <script>\n",
              "        const buttonEl =\n",
              "          document.querySelector('#df-cc679ed0-c3d0-4abf-94e0-238465a4c064 button.colab-df-convert');\n",
              "        buttonEl.style.display =\n",
              "          google.colab.kernel.accessAllowed ? 'block' : 'none';\n",
              "\n",
              "        async function convertToInteractive(key) {\n",
              "          const element = document.querySelector('#df-cc679ed0-c3d0-4abf-94e0-238465a4c064');\n",
              "          const dataTable =\n",
              "            await google.colab.kernel.invokeFunction('convertToInteractive',\n",
              "                                                     [key], {});\n",
              "          if (!dataTable) return;\n",
              "\n",
              "          const docLinkHtml = 'Like what you see? Visit the ' +\n",
              "            '<a target=\"_blank\" href=https://colab.research.google.com/notebooks/data_table.ipynb>data table notebook</a>'\n",
              "            + ' to learn more about interactive tables.';\n",
              "          element.innerHTML = '';\n",
              "          dataTable['output_type'] = 'display_data';\n",
              "          await google.colab.output.renderOutput(dataTable, element);\n",
              "          const docLink = document.createElement('div');\n",
              "          docLink.innerHTML = docLinkHtml;\n",
              "          element.appendChild(docLink);\n",
              "        }\n",
              "      </script>\n",
              "    </div>\n",
              "  </div>\n",
              "  "
            ]
          },
          "metadata": {},
          "execution_count": 42
        }
      ]
    },
    {
      "cell_type": "code",
      "source": [
        "lemma_freq_df_posts"
      ],
      "metadata": {
        "id": "bh5dK1aIpAyv",
        "colab": {
          "base_uri": "https://localhost:8080/",
          "height": 424
        },
        "outputId": "be9407d3-7333-49a5-d769-e25711470228"
      },
      "execution_count": null,
      "outputs": [
        {
          "output_type": "execute_result",
          "data": {
            "text/plain": [
              "              lemma  count\n",
              "0          industry    285\n",
              "1        experience    459\n",
              "2        publishing   1451\n",
              "3              like   1283\n",
              "4             enter     40\n",
              "...             ...    ...\n",
              "12145          meit      1\n",
              "12146  contractthey      1\n",
              "12147       refusal      1\n",
              "12148  charactersit      1\n",
              "12149   paperbackit      1\n",
              "\n",
              "[12150 rows x 2 columns]"
            ],
            "text/html": [
              "\n",
              "  <div id=\"df-3ad790d9-049f-4f08-8685-19659679e38a\">\n",
              "    <div class=\"colab-df-container\">\n",
              "      <div>\n",
              "<style scoped>\n",
              "    .dataframe tbody tr th:only-of-type {\n",
              "        vertical-align: middle;\n",
              "    }\n",
              "\n",
              "    .dataframe tbody tr th {\n",
              "        vertical-align: top;\n",
              "    }\n",
              "\n",
              "    .dataframe thead th {\n",
              "        text-align: right;\n",
              "    }\n",
              "</style>\n",
              "<table border=\"1\" class=\"dataframe\">\n",
              "  <thead>\n",
              "    <tr style=\"text-align: right;\">\n",
              "      <th></th>\n",
              "      <th>lemma</th>\n",
              "      <th>count</th>\n",
              "    </tr>\n",
              "  </thead>\n",
              "  <tbody>\n",
              "    <tr>\n",
              "      <th>0</th>\n",
              "      <td>industry</td>\n",
              "      <td>285</td>\n",
              "    </tr>\n",
              "    <tr>\n",
              "      <th>1</th>\n",
              "      <td>experience</td>\n",
              "      <td>459</td>\n",
              "    </tr>\n",
              "    <tr>\n",
              "      <th>2</th>\n",
              "      <td>publishing</td>\n",
              "      <td>1451</td>\n",
              "    </tr>\n",
              "    <tr>\n",
              "      <th>3</th>\n",
              "      <td>like</td>\n",
              "      <td>1283</td>\n",
              "    </tr>\n",
              "    <tr>\n",
              "      <th>4</th>\n",
              "      <td>enter</td>\n",
              "      <td>40</td>\n",
              "    </tr>\n",
              "    <tr>\n",
              "      <th>...</th>\n",
              "      <td>...</td>\n",
              "      <td>...</td>\n",
              "    </tr>\n",
              "    <tr>\n",
              "      <th>12145</th>\n",
              "      <td>meit</td>\n",
              "      <td>1</td>\n",
              "    </tr>\n",
              "    <tr>\n",
              "      <th>12146</th>\n",
              "      <td>contractthey</td>\n",
              "      <td>1</td>\n",
              "    </tr>\n",
              "    <tr>\n",
              "      <th>12147</th>\n",
              "      <td>refusal</td>\n",
              "      <td>1</td>\n",
              "    </tr>\n",
              "    <tr>\n",
              "      <th>12148</th>\n",
              "      <td>charactersit</td>\n",
              "      <td>1</td>\n",
              "    </tr>\n",
              "    <tr>\n",
              "      <th>12149</th>\n",
              "      <td>paperbackit</td>\n",
              "      <td>1</td>\n",
              "    </tr>\n",
              "  </tbody>\n",
              "</table>\n",
              "<p>12150 rows × 2 columns</p>\n",
              "</div>\n",
              "      <button class=\"colab-df-convert\" onclick=\"convertToInteractive('df-3ad790d9-049f-4f08-8685-19659679e38a')\"\n",
              "              title=\"Convert this dataframe to an interactive table.\"\n",
              "              style=\"display:none;\">\n",
              "        \n",
              "  <svg xmlns=\"http://www.w3.org/2000/svg\" height=\"24px\"viewBox=\"0 0 24 24\"\n",
              "       width=\"24px\">\n",
              "    <path d=\"M0 0h24v24H0V0z\" fill=\"none\"/>\n",
              "    <path d=\"M18.56 5.44l.94 2.06.94-2.06 2.06-.94-2.06-.94-.94-2.06-.94 2.06-2.06.94zm-11 1L8.5 8.5l.94-2.06 2.06-.94-2.06-.94L8.5 2.5l-.94 2.06-2.06.94zm10 10l.94 2.06.94-2.06 2.06-.94-2.06-.94-.94-2.06-.94 2.06-2.06.94z\"/><path d=\"M17.41 7.96l-1.37-1.37c-.4-.4-.92-.59-1.43-.59-.52 0-1.04.2-1.43.59L10.3 9.45l-7.72 7.72c-.78.78-.78 2.05 0 2.83L4 21.41c.39.39.9.59 1.41.59.51 0 1.02-.2 1.41-.59l7.78-7.78 2.81-2.81c.8-.78.8-2.07 0-2.86zM5.41 20L4 18.59l7.72-7.72 1.47 1.35L5.41 20z\"/>\n",
              "  </svg>\n",
              "      </button>\n",
              "      \n",
              "  <style>\n",
              "    .colab-df-container {\n",
              "      display:flex;\n",
              "      flex-wrap:wrap;\n",
              "      gap: 12px;\n",
              "    }\n",
              "\n",
              "    .colab-df-convert {\n",
              "      background-color: #E8F0FE;\n",
              "      border: none;\n",
              "      border-radius: 50%;\n",
              "      cursor: pointer;\n",
              "      display: none;\n",
              "      fill: #1967D2;\n",
              "      height: 32px;\n",
              "      padding: 0 0 0 0;\n",
              "      width: 32px;\n",
              "    }\n",
              "\n",
              "    .colab-df-convert:hover {\n",
              "      background-color: #E2EBFA;\n",
              "      box-shadow: 0px 1px 2px rgba(60, 64, 67, 0.3), 0px 1px 3px 1px rgba(60, 64, 67, 0.15);\n",
              "      fill: #174EA6;\n",
              "    }\n",
              "\n",
              "    [theme=dark] .colab-df-convert {\n",
              "      background-color: #3B4455;\n",
              "      fill: #D2E3FC;\n",
              "    }\n",
              "\n",
              "    [theme=dark] .colab-df-convert:hover {\n",
              "      background-color: #434B5C;\n",
              "      box-shadow: 0px 1px 3px 1px rgba(0, 0, 0, 0.15);\n",
              "      filter: drop-shadow(0px 1px 2px rgba(0, 0, 0, 0.3));\n",
              "      fill: #FFFFFF;\n",
              "    }\n",
              "  </style>\n",
              "\n",
              "      <script>\n",
              "        const buttonEl =\n",
              "          document.querySelector('#df-3ad790d9-049f-4f08-8685-19659679e38a button.colab-df-convert');\n",
              "        buttonEl.style.display =\n",
              "          google.colab.kernel.accessAllowed ? 'block' : 'none';\n",
              "\n",
              "        async function convertToInteractive(key) {\n",
              "          const element = document.querySelector('#df-3ad790d9-049f-4f08-8685-19659679e38a');\n",
              "          const dataTable =\n",
              "            await google.colab.kernel.invokeFunction('convertToInteractive',\n",
              "                                                     [key], {});\n",
              "          if (!dataTable) return;\n",
              "\n",
              "          const docLinkHtml = 'Like what you see? Visit the ' +\n",
              "            '<a target=\"_blank\" href=https://colab.research.google.com/notebooks/data_table.ipynb>data table notebook</a>'\n",
              "            + ' to learn more about interactive tables.';\n",
              "          element.innerHTML = '';\n",
              "          dataTable['output_type'] = 'display_data';\n",
              "          await google.colab.output.renderOutput(dataTable, element);\n",
              "          const docLink = document.createElement('div');\n",
              "          docLink.innerHTML = docLinkHtml;\n",
              "          element.appendChild(docLink);\n",
              "        }\n",
              "      </script>\n",
              "    </div>\n",
              "  </div>\n",
              "  "
            ]
          },
          "metadata": {},
          "execution_count": 43
        }
      ]
    },
    {
      "cell_type": "code",
      "source": [
        "# replicates this same process for the comments\n",
        "flat_lemmas_comments = [item for sublist in lemmas_comments for item in sublist]\n",
        "flat_lemmas_comments[:30]"
      ],
      "metadata": {
        "id": "D73vUky9AasT",
        "colab": {
          "base_uri": "https://localhost:8080/"
        },
        "outputId": "de25d51f-b9ef-461b-e6a1-fe946be653f4"
      },
      "execution_count": null,
      "outputs": [
        {
          "output_type": "execute_result",
          "data": {
            "text/plain": [
              "['great',\n",
              " 'tip',\n",
              " 'start',\n",
              " 'market',\n",
              " 'book',\n",
              " 'online',\n",
              " 'publish',\n",
              " 'think',\n",
              " 'extremely',\n",
              " 'hard',\n",
              " 'find',\n",
              " 'salaried',\n",
              " 'position',\n",
              " 'editor',\n",
              " 'copy',\n",
              " 'editor',\n",
              " 'acquisition',\n",
              " 'specify',\n",
              " 'good',\n",
              " 'economy',\n",
              " 'industry',\n",
              " 'shrink',\n",
              " 'position',\n",
              " 'turn',\n",
              " 'rapidly',\n",
              " 'tend',\n",
              " 'mobility',\n",
              " 'publishing',\n",
              " 'organization',\n",
              " 'gopher']"
            ]
          },
          "metadata": {},
          "execution_count": 44
        }
      ]
    },
    {
      "cell_type": "code",
      "source": [
        "comments_count = Counter(flat_lemmas_comments)\n",
        "\n",
        "lemma_freq_df_comments = pd.DataFrame.from_dict(comments_count, orient='index').reset_index()\n",
        "lemma_freq_df_comments = lemma_freq_df_comments.rename(columns={'index':'lemma', 0:'count'})\n",
        "lemma_freq_df_comments.sort_values('count', ascending=False)[:30]"
      ],
      "metadata": {
        "id": "UrWNbNQuAcM5",
        "colab": {
          "base_uri": "https://localhost:8080/",
          "height": 990
        },
        "outputId": "8bfcd358-b609-41ce-9456-e2e5aff089f6"
      },
      "execution_count": null,
      "outputs": [
        {
          "output_type": "execute_result",
          "data": {
            "text/plain": [
              "          lemma  count\n",
              "4          book  10179\n",
              "72         work   5764\n",
              "322   publisher   5160\n",
              "6       publish   4782\n",
              "25   publishing   4583\n",
              "17         good   4262\n",
              "161        like   4043\n",
              "324        want   3661\n",
              "170      author   3406\n",
              "940       agent   3219\n",
              "105        know   3213\n",
              "7         think   3071\n",
              "552        look   2968\n",
              "152      people   2750\n",
              "414       write   2643\n",
              "176       thank   2636\n",
              "83         need   2513\n",
              "331        time   2360\n",
              "196         use   2203\n",
              "10         find   2174\n",
              "421        self   2116\n",
              "316         lot   2106\n",
              "86          pay   2019\n",
              "30        thing   1896\n",
              "192         try   1868\n",
              "38          job   1865\n",
              "422        sell   1863\n",
              "202       right   1863\n",
              "40          way   1828\n",
              "349        help   1762"
            ],
            "text/html": [
              "\n",
              "  <div id=\"df-f1c97d31-7c16-4766-8ee0-af7f68d90969\">\n",
              "    <div class=\"colab-df-container\">\n",
              "      <div>\n",
              "<style scoped>\n",
              "    .dataframe tbody tr th:only-of-type {\n",
              "        vertical-align: middle;\n",
              "    }\n",
              "\n",
              "    .dataframe tbody tr th {\n",
              "        vertical-align: top;\n",
              "    }\n",
              "\n",
              "    .dataframe thead th {\n",
              "        text-align: right;\n",
              "    }\n",
              "</style>\n",
              "<table border=\"1\" class=\"dataframe\">\n",
              "  <thead>\n",
              "    <tr style=\"text-align: right;\">\n",
              "      <th></th>\n",
              "      <th>lemma</th>\n",
              "      <th>count</th>\n",
              "    </tr>\n",
              "  </thead>\n",
              "  <tbody>\n",
              "    <tr>\n",
              "      <th>4</th>\n",
              "      <td>book</td>\n",
              "      <td>10179</td>\n",
              "    </tr>\n",
              "    <tr>\n",
              "      <th>72</th>\n",
              "      <td>work</td>\n",
              "      <td>5764</td>\n",
              "    </tr>\n",
              "    <tr>\n",
              "      <th>322</th>\n",
              "      <td>publisher</td>\n",
              "      <td>5160</td>\n",
              "    </tr>\n",
              "    <tr>\n",
              "      <th>6</th>\n",
              "      <td>publish</td>\n",
              "      <td>4782</td>\n",
              "    </tr>\n",
              "    <tr>\n",
              "      <th>25</th>\n",
              "      <td>publishing</td>\n",
              "      <td>4583</td>\n",
              "    </tr>\n",
              "    <tr>\n",
              "      <th>17</th>\n",
              "      <td>good</td>\n",
              "      <td>4262</td>\n",
              "    </tr>\n",
              "    <tr>\n",
              "      <th>161</th>\n",
              "      <td>like</td>\n",
              "      <td>4043</td>\n",
              "    </tr>\n",
              "    <tr>\n",
              "      <th>324</th>\n",
              "      <td>want</td>\n",
              "      <td>3661</td>\n",
              "    </tr>\n",
              "    <tr>\n",
              "      <th>170</th>\n",
              "      <td>author</td>\n",
              "      <td>3406</td>\n",
              "    </tr>\n",
              "    <tr>\n",
              "      <th>940</th>\n",
              "      <td>agent</td>\n",
              "      <td>3219</td>\n",
              "    </tr>\n",
              "    <tr>\n",
              "      <th>105</th>\n",
              "      <td>know</td>\n",
              "      <td>3213</td>\n",
              "    </tr>\n",
              "    <tr>\n",
              "      <th>7</th>\n",
              "      <td>think</td>\n",
              "      <td>3071</td>\n",
              "    </tr>\n",
              "    <tr>\n",
              "      <th>552</th>\n",
              "      <td>look</td>\n",
              "      <td>2968</td>\n",
              "    </tr>\n",
              "    <tr>\n",
              "      <th>152</th>\n",
              "      <td>people</td>\n",
              "      <td>2750</td>\n",
              "    </tr>\n",
              "    <tr>\n",
              "      <th>414</th>\n",
              "      <td>write</td>\n",
              "      <td>2643</td>\n",
              "    </tr>\n",
              "    <tr>\n",
              "      <th>176</th>\n",
              "      <td>thank</td>\n",
              "      <td>2636</td>\n",
              "    </tr>\n",
              "    <tr>\n",
              "      <th>83</th>\n",
              "      <td>need</td>\n",
              "      <td>2513</td>\n",
              "    </tr>\n",
              "    <tr>\n",
              "      <th>331</th>\n",
              "      <td>time</td>\n",
              "      <td>2360</td>\n",
              "    </tr>\n",
              "    <tr>\n",
              "      <th>196</th>\n",
              "      <td>use</td>\n",
              "      <td>2203</td>\n",
              "    </tr>\n",
              "    <tr>\n",
              "      <th>10</th>\n",
              "      <td>find</td>\n",
              "      <td>2174</td>\n",
              "    </tr>\n",
              "    <tr>\n",
              "      <th>421</th>\n",
              "      <td>self</td>\n",
              "      <td>2116</td>\n",
              "    </tr>\n",
              "    <tr>\n",
              "      <th>316</th>\n",
              "      <td>lot</td>\n",
              "      <td>2106</td>\n",
              "    </tr>\n",
              "    <tr>\n",
              "      <th>86</th>\n",
              "      <td>pay</td>\n",
              "      <td>2019</td>\n",
              "    </tr>\n",
              "    <tr>\n",
              "      <th>30</th>\n",
              "      <td>thing</td>\n",
              "      <td>1896</td>\n",
              "    </tr>\n",
              "    <tr>\n",
              "      <th>192</th>\n",
              "      <td>try</td>\n",
              "      <td>1868</td>\n",
              "    </tr>\n",
              "    <tr>\n",
              "      <th>38</th>\n",
              "      <td>job</td>\n",
              "      <td>1865</td>\n",
              "    </tr>\n",
              "    <tr>\n",
              "      <th>422</th>\n",
              "      <td>sell</td>\n",
              "      <td>1863</td>\n",
              "    </tr>\n",
              "    <tr>\n",
              "      <th>202</th>\n",
              "      <td>right</td>\n",
              "      <td>1863</td>\n",
              "    </tr>\n",
              "    <tr>\n",
              "      <th>40</th>\n",
              "      <td>way</td>\n",
              "      <td>1828</td>\n",
              "    </tr>\n",
              "    <tr>\n",
              "      <th>349</th>\n",
              "      <td>help</td>\n",
              "      <td>1762</td>\n",
              "    </tr>\n",
              "  </tbody>\n",
              "</table>\n",
              "</div>\n",
              "      <button class=\"colab-df-convert\" onclick=\"convertToInteractive('df-f1c97d31-7c16-4766-8ee0-af7f68d90969')\"\n",
              "              title=\"Convert this dataframe to an interactive table.\"\n",
              "              style=\"display:none;\">\n",
              "        \n",
              "  <svg xmlns=\"http://www.w3.org/2000/svg\" height=\"24px\"viewBox=\"0 0 24 24\"\n",
              "       width=\"24px\">\n",
              "    <path d=\"M0 0h24v24H0V0z\" fill=\"none\"/>\n",
              "    <path d=\"M18.56 5.44l.94 2.06.94-2.06 2.06-.94-2.06-.94-.94-2.06-.94 2.06-2.06.94zm-11 1L8.5 8.5l.94-2.06 2.06-.94-2.06-.94L8.5 2.5l-.94 2.06-2.06.94zm10 10l.94 2.06.94-2.06 2.06-.94-2.06-.94-.94-2.06-.94 2.06-2.06.94z\"/><path d=\"M17.41 7.96l-1.37-1.37c-.4-.4-.92-.59-1.43-.59-.52 0-1.04.2-1.43.59L10.3 9.45l-7.72 7.72c-.78.78-.78 2.05 0 2.83L4 21.41c.39.39.9.59 1.41.59.51 0 1.02-.2 1.41-.59l7.78-7.78 2.81-2.81c.8-.78.8-2.07 0-2.86zM5.41 20L4 18.59l7.72-7.72 1.47 1.35L5.41 20z\"/>\n",
              "  </svg>\n",
              "      </button>\n",
              "      \n",
              "  <style>\n",
              "    .colab-df-container {\n",
              "      display:flex;\n",
              "      flex-wrap:wrap;\n",
              "      gap: 12px;\n",
              "    }\n",
              "\n",
              "    .colab-df-convert {\n",
              "      background-color: #E8F0FE;\n",
              "      border: none;\n",
              "      border-radius: 50%;\n",
              "      cursor: pointer;\n",
              "      display: none;\n",
              "      fill: #1967D2;\n",
              "      height: 32px;\n",
              "      padding: 0 0 0 0;\n",
              "      width: 32px;\n",
              "    }\n",
              "\n",
              "    .colab-df-convert:hover {\n",
              "      background-color: #E2EBFA;\n",
              "      box-shadow: 0px 1px 2px rgba(60, 64, 67, 0.3), 0px 1px 3px 1px rgba(60, 64, 67, 0.15);\n",
              "      fill: #174EA6;\n",
              "    }\n",
              "\n",
              "    [theme=dark] .colab-df-convert {\n",
              "      background-color: #3B4455;\n",
              "      fill: #D2E3FC;\n",
              "    }\n",
              "\n",
              "    [theme=dark] .colab-df-convert:hover {\n",
              "      background-color: #434B5C;\n",
              "      box-shadow: 0px 1px 3px 1px rgba(0, 0, 0, 0.15);\n",
              "      filter: drop-shadow(0px 1px 2px rgba(0, 0, 0, 0.3));\n",
              "      fill: #FFFFFF;\n",
              "    }\n",
              "  </style>\n",
              "\n",
              "      <script>\n",
              "        const buttonEl =\n",
              "          document.querySelector('#df-f1c97d31-7c16-4766-8ee0-af7f68d90969 button.colab-df-convert');\n",
              "        buttonEl.style.display =\n",
              "          google.colab.kernel.accessAllowed ? 'block' : 'none';\n",
              "\n",
              "        async function convertToInteractive(key) {\n",
              "          const element = document.querySelector('#df-f1c97d31-7c16-4766-8ee0-af7f68d90969');\n",
              "          const dataTable =\n",
              "            await google.colab.kernel.invokeFunction('convertToInteractive',\n",
              "                                                     [key], {});\n",
              "          if (!dataTable) return;\n",
              "\n",
              "          const docLinkHtml = 'Like what you see? Visit the ' +\n",
              "            '<a target=\"_blank\" href=https://colab.research.google.com/notebooks/data_table.ipynb>data table notebook</a>'\n",
              "            + ' to learn more about interactive tables.';\n",
              "          element.innerHTML = '';\n",
              "          dataTable['output_type'] = 'display_data';\n",
              "          await google.colab.output.renderOutput(dataTable, element);\n",
              "          const docLink = document.createElement('div');\n",
              "          docLink.innerHTML = docLinkHtml;\n",
              "          element.appendChild(docLink);\n",
              "        }\n",
              "      </script>\n",
              "    </div>\n",
              "  </div>\n",
              "  "
            ]
          },
          "metadata": {},
          "execution_count": 45
        }
      ]
    },
    {
      "cell_type": "markdown",
      "source": [
        "Forming bigrams and trigrams"
      ],
      "metadata": {
        "id": "IkHLyJZk2pbV"
      }
    },
    {
      "cell_type": "code",
      "source": [
        "from gensim.models.phrases import Phrases, Phraser\n",
        "\n",
        "# Create bigram and trigram models for posts\n",
        "bigram_posts = Phrases(lemmas_posts, min_count=10, threshold=100)\n",
        "trigram_posts = Phrases(bigram_posts[lemmas_posts], min_count=10, threshold=50)  \n",
        "bigram_phraser_posts = Phraser(bigram_posts)\n",
        "trigram_phraser_posts = Phraser(trigram_posts)\n",
        "\n",
        "# Form trigrams\n",
        "trigrams_posts = [trigram_phraser_posts[bigram_phraser_posts[doc]] for doc in lemmas_posts]\n",
        "\n",
        "# Create bigram and trigram models for comments\n",
        "bigram_comments = Phrases(lemmas_comments, min_count=10, threshold=100)\n",
        "trigram_comments = Phrases(bigram_comments[lemmas_comments], min_count=10, threshold=50)  \n",
        "bigram_phraser_comments = Phraser(bigram_comments)\n",
        "trigram_phraser_comments = Phraser(trigram_comments)\n",
        "\n",
        "# Form trigrams\n",
        "trigrams_comments = [trigram_phraser_comments[bigram_phraser_comments[doc]] for doc in lemmas_comments]"
      ],
      "metadata": {
        "colab": {
          "base_uri": "https://localhost:8080/"
        },
        "id": "fPTg0Ahj2rLQ",
        "outputId": "ff436a22-4589-413c-a9e4-42c9ee10bc4f"
      },
      "execution_count": null,
      "outputs": [
        {
          "output_type": "stream",
          "name": "stderr",
          "text": [
            "/usr/local/lib/python3.7/dist-packages/gensim/models/phrases.py:598: UserWarning: For a faster implementation, use the gensim.models.phrases.Phraser class\n",
            "  warnings.warn(\"For a faster implementation, use the gensim.models.phrases.Phraser class\")\n"
          ]
        }
      ]
    },
    {
      "cell_type": "code",
      "source": [
        "# joins each into a string\n",
        "trigrams_joined_posts = [' '.join(trigram) for trigram in trigrams_posts]\n",
        "trigrams_joined_posts[0]"
      ],
      "metadata": {
        "colab": {
          "base_uri": "https://localhost:8080/",
          "height": 70
        },
        "id": "Ezs-O90Y2s5M",
        "outputId": "17733263-0b81-42b3-fb81-96c063c69f36"
      },
      "execution_count": null,
      "outputs": [
        {
          "output_type": "execute_result",
          "data": {
            "text/plain": [
              "'industry experience publishing like enter field specifically editing usual catch-22 hold true job need experience experience need job find entry_level work prove difficult live baltimore md feel exhaust obvious avenue send resume cover_letter magazine newspaper publishing house etc locate oppose internship course college student tend exclude consideration additionally support work pay obvious sense priority realize reader subreddit shot dark use advice person familiar industry consider send email editor blog read ask similar guidance perceive brazen'"
            ],
            "application/vnd.google.colaboratory.intrinsic+json": {
              "type": "string"
            }
          },
          "metadata": {},
          "execution_count": 47
        }
      ]
    },
    {
      "cell_type": "code",
      "source": [
        "# joins each into a string\n",
        "trigrams_joined_comments = [' '.join(trigram) for trigram in trigrams_comments]\n",
        "trigrams_joined_comments[0]"
      ],
      "metadata": {
        "colab": {
          "base_uri": "https://localhost:8080/",
          "height": 35
        },
        "id": "Q0vF-A2d2vf3",
        "outputId": "57ef9b29-abd6-41c4-e5cd-faaeadfdc70a"
      },
      "execution_count": null,
      "outputs": [
        {
          "output_type": "execute_result",
          "data": {
            "text/plain": [
              "'great tip start market book online publish'"
            ],
            "application/vnd.google.colaboratory.intrinsic+json": {
              "type": "string"
            }
          },
          "metadata": {},
          "execution_count": 48
        }
      ]
    },
    {
      "cell_type": "code",
      "source": [
        "trigram_phraser_posts.phrasegrams.keys()"
      ],
      "metadata": {
        "colab": {
          "base_uri": "https://localhost:8080/"
        },
        "id": "jJ7GKBM72xK7",
        "outputId": "35421473-1ddf-4536-c57f-a17932243331"
      },
      "execution_count": null,
      "outputs": [
        {
          "output_type": "execute_result",
          "data": {
            "text/plain": [
              "dict_keys([(b'entry', b'level'), (b'cover', b'letter'), (b'hey', b'guy'), (b'year', b'ago'), (b'short', b'story'), (b'query', b'letter'), (b'greatly', b'appreciate'), (b'greatly', b'appreciate_thank'), (b'non', b'fiction'), (b'high', b'school'), (b'thank', b'advance'), (b'high', b'quality'), (b'help_greatly', b'appreciate'), (b'entry_level', b'position'), (b'foot', b'door'), (b'editorial', b'assistant'), (b'month', b'ago'), (b'small', b'press'), (b'graphic', b'designer'), (b'literary', b'agent'), (b'creative', b'writing'), (b'google', b'play'), (b'social', b'medium'), (b'print', b'demand'), (b'graphic', b'design'), (b'young', b'adult'), (b'red', b'flag'), (b'vanity', b'press'), (b'science', b'fiction'), (b'grad', b'school'), (b'non', b'fiction_book'), (b'barnes', b'noble'), (b'coffee', b'table'), (b'word', b'count'), (b'pro', b'con'), (b'target', b'audience'), (b'advice_greatly', b'appreciate'), (b'adobe', b'indesign'), (b'united', b'states'), (b'shed', b'light'), (b'beta', b'reader'), (b'public', b'domain'), (b'>', b'>'), (b'kdp', b'wizard'), (b'game', b'master'), (b'psychic', b'medium')])"
            ]
          },
          "metadata": {},
          "execution_count": 49
        }
      ]
    },
    {
      "cell_type": "code",
      "source": [
        "trigram_phraser_comments.phrasegrams.keys()"
      ],
      "metadata": {
        "colab": {
          "base_uri": "https://localhost:8080/"
        },
        "id": "db6g1BFL2xnC",
        "outputId": "82ed8f22-0c61-4156-8acf-a59360e61782"
      },
      "execution_count": null,
      "outputs": [
        {
          "output_type": "execute_result",
          "data": {
            "text/plain": [
              "dict_keys([(b'entry', b'level'), (b'entry', b'level_position'), (b'entry_level', b'position'), (b'uphill', b'battle'), (b'copyright', b'holder'), (b'college', b'student'), (b'university', b'press'), (b'historical', b'fiction'), (b'short', b'story'), (b'good', b'luck'), (b'answer', b'question'), (b'pro', b'con'), (b'small', b'press'), (b'literary', b'agency'), (b'graphic', b'design'), (b'high', b'school'), (b'graphic', b'designer'), (b'intellectual', b'property'), (b'job', b'posting'), (b'print', b'demand'), (b'epub', b'mobi'), (b'foot', b'door'), (b'editorial', b'assistant'), (b'random', b'house'), (b'high', b'quality'), (b'literary', b'magazine'), (b'social', b'medium'), (b'social_medium', b'presence'), (b'word', b'mouth'), (b'social', b'medium_account'), (b'marketing', b'publicity'), (b'entry', b'level_job'), (b'unpaid', b'internship'), (b'distribution', b'channel'), (b'/r', b'selfpublish'), (b'stephen', b'king'), (b'rejection', b'letter'), (b'barnes', b'noble'), (b'career', b'path'), (b'query', b'shark'), (b'submission', b'guideline'), (b'non', b'fiction'), (b'month', b'ago'), (b'adobe', b'indesign'), (b'light', b'mag'), (b'youtube', b'channel'), (b'year', b'ago'), (b'query', b'letter'), (b'write_query', b'letter'), (b'target', b'audience'), (b'young', b'adult'), (b'oh', b'wow'), (b'business', b'model'), (b'lightning', b'source'), (b'poets', b'writers'), (b'accept', b'unsolicited'), (b'accept', b'unsolicited_manuscript'), (b'accept_unsolicited', b'manuscript'), (b'cover', b'letter'), (b'creative', b'writing'), (b'new', b'york'), (b'red', b'flag'), (b'thousand', b'dollar'), (b'waste', b'time'), (b'penguin', b'random'), (b'penguin', b'random_house'), (b'penguin_random', b'house'), (b'oxford', b'brookes'), (b'copy', b'paste'), (b'fan', b'base'), (b'united', b'states'), (b'e', b'mail'), (b'age', b'range'), (b'track', b'record'), (b'cost', b'effective'), (b'subject', b'matter'), (b'google', b'search'), (b'informational', b'interview'), (b'vanity', b'press'), (b'self', b'pub'), (b'kdp', b'select'), (b'strongly', b'recommend'), (b'friend', b'family'), (b'grad', b'school'), (b'word', b'count'), (b'word', b'processor'), (b'comic', b'strip'), (b'b', b'c'), (b'coffee', b'table'), (b'coffee', b'table_book'), (b'sci', b'fi'), (b'non', b'fiction_book'), (b'certificate', b'program'), (b'register', b'copyright'), (b'master', b'degree'), (b'english', b'lit'), (b'attend', b'conference'), (b'send_query', b'letter'), (b'generally', b'speak'), (b'finished', b'product'), (b'public', b'domain'), (b'copyright', b'law'), (b'use_print', b'demand'), (b'ba', b'english'), (b'sci_fi', b'fantasy'), (b'science', b'fiction'), (b'slush', b'pile'), (b'actively', b'seek'), (b'highly', b'recommend'), (b'chicago', b'manual'), (b'chicago', b'manual_style'), (b'chicago_manual', b'style'), (b'message', b'compose/?to_='), (b'message_compose/?to', b'='), (b'peer', b'review'), (b'rule', b'thumb'), (b'greatly', b'appreciate'), (b'north', b'america'), (b'starting', b'point'), (b'form', b'rejection'), (b'ref', b'='), (b'video', b'game'), (b'harry', b'potter'), (b'remote', b'internship'), (b'royalty', b'rate'), (b'mailing', b'list'), (b'ingram', b'spark'), (b'wiki', b'index'), (b'kindle', b'unlimited'), (b'microsoft', b'word'), (b'unsolicited', b'manuscript'), (b'family', b'member'), (b'highly', b'unlikely'), (b'learning', b'curve'), (b'vice', b'versa'), (b'spelling', b'grammar'), (b'critique', b'group'), (b'critique', b'partner'), (b'developmental', b'editing'), (b'flash', b'fiction'), (b'email', b'address'), (b'fiction_non', b'fiction'), (b'vast', b'majority'), (b'trad', b'pub'), (b'beta', b'reader'), (b'black', b'white'), (b'bestseller', b'list'), (b'subsidiary', b'right'), (b'kindle', b'direct'), (b'kindle', b'direct_publishing'), (b'physical', b'copy'), (b'bank', b'account'), (b'google', b'docs'), (b'youtube', b'video'), (b'trim', b'size'), (b'main', b'character'), (b'graphic', b'novel'), (b'query', b'tracker'), (b'mental', b'health'), (b'million', b'dollar'), (b'publisher_accept', b'unsolicited'), (b'white', b'man'), (b'white', b'male'), (b'black', b'woman'), (b'middle', b'grade'), (b'cite', b'source'), (b'sneak', b'peek'), (b'top/?sort', b'='), (b'=', b'top&t'), (b'top&t', b'='), (b'^^a_^^bot', b'^^beep_^^boop'), (b'^^beep_^^boop', b'^^|_^^downvote'), (b'^^to', b'^^remove'), (b'^^|', b'^^downvote_^^to_^^remove'), (b'^^|_^^downvote', b'^^to_^^remove'), (b'^^to_^^remove', b'^^|_^^contact'), (b'^^|_^^contact', b'^^me](https://www.reddit.com_message'), (b'^^me](https://www.reddit.com_message', b'compose/?to_='), (b'sneakpeekbot', b'^^|'), (b'compose/?to_=', b'sneakpeekbot_^^|'), (b'sneakpeekbot_^^|', b'^^info](https://np.reddit.com'), (b'^^info](https://np.reddit.com', b'r'), (b'r', b'sneakpeekbot/_^^|'), (b'sneakpeekbot/_^^|', b'^^opt_out](https://np.reddit.com'), (b'^^opt_out](https://np.reddit.com', b'r'), (b'r', b'sneakpeekbot'), (b'/r', b'pubtip'), (b'paperback', b'hardcover'), (b'$', b'2.99'), (b'message', b'compose?to_='), (b'message_compose?to', b'='), (b'/r', b'pubtips'), (b'r', b'pubtips'), (b'art', b'director'), (b'sample', b'chapter'), (b'like_vanity', b'press'), (b'set', b'apart'), (b'barrier', b'entry'), (b'$', b'hr'), (b'hiring', b'manager'), (b'bring', b'table'), (b'spine', b'width'), (b'english', b'language'), (b'north', b'american'), (b'new_york', b'times'), (b'science', b'fiction_fantasy'), (b'science_fiction', b'fantasy'), (b'google', b'doc'), (b'print', b'ninja'), (b'goldtouch', b'press'), (b'r', b'selfpublish'), (b'message_compose/?to', b'=_remindmebot&subject'), (b'=_remindmebot&subject', b'='), (b'apply_entry', b'level'), (b'r', b'pubtip'), (b'quit', b'day'), (b'e', b'commerce'), (b'non', b'compete'), (b'r_pubtips', b'comment'), (b'submission', b'grinder'), (b'certificate', b'course'), (b'look_/r', b'pubtips'), (b'rule', b'subreddit'), (b'\\xf0\\x9f\\x98\\xb3', b'\\xf0\\x9f\\x98\\xb3'), (b'\\xf0\\x9f\\x98\\xb3', b'\\xf0\\x9f\\x98\\xb3_\\xf0\\x9f\\x98\\xb3_\\xf0\\x9f\\x98\\xb3'), (b'\\xf0\\x9f\\x98\\xb3_\\xf0\\x9f\\x98\\xb3', b'\\xf0\\x9f\\x98\\xb3_\\xf0\\x9f\\x98\\xb3'), (b'\\xf0\\x9f\\x98\\xb3_\\xf0\\x9f\\x98\\xb3_\\xf0\\x9f\\x98\\xb3', b'\\xf0\\x9f\\x98\\xb3'), (b'luck_/r', b'pubtips')])"
            ]
          },
          "metadata": {},
          "execution_count": 50
        }
      ]
    },
    {
      "cell_type": "code",
      "source": [
        "# Look at trigrams for posts\n",
        "[trigram for trigram in list(trigram_phraser_posts.phrasegrams.keys()) if trigram.count('_') == 2]"
      ],
      "metadata": {
        "colab": {
          "base_uri": "https://localhost:8080/"
        },
        "id": "_BsaUnVF2zTE",
        "outputId": "950aacd3-e1a2-4463-dda1-e3d81929bb3e"
      },
      "execution_count": null,
      "outputs": [
        {
          "output_type": "execute_result",
          "data": {
            "text/plain": [
              "[]"
            ]
          },
          "metadata": {},
          "execution_count": 51
        }
      ]
    },
    {
      "cell_type": "code",
      "source": [
        "# Look at trigrams for comments\n",
        "[trigram for trigram in list(trigram_phraser_comments.phrasegrams.keys()) if trigram.count('_') == 2]"
      ],
      "metadata": {
        "colab": {
          "base_uri": "https://localhost:8080/"
        },
        "id": "jo-tn8-s21Jm",
        "outputId": "53e9c87f-c4c1-4b2a-fae5-68d9ea2bc8e9"
      },
      "execution_count": null,
      "outputs": [
        {
          "output_type": "execute_result",
          "data": {
            "text/plain": [
              "[]"
            ]
          },
          "metadata": {},
          "execution_count": 52
        }
      ]
    },
    {
      "cell_type": "code",
      "source": [
        "# adds lemmas column to submissions df (with option to make csv)\n",
        "df_posts_noBlanks.insert(loc=7, column='lemmas', value=trigrams_joined_posts)\n",
        "df_posts_noBlanks = df_posts_noBlanks[~df_posts_noBlanks['lemmas'].isin([''])]\n",
        "# df_posts_noBlanks.to_csv('submissions_lemmas.csv', index=False)\n",
        "\n",
        "# adds lemmas column to comments df (with option to make csv)\n",
        "df_comments_noBlanks.insert(loc=7, column='lemmas', value=trigrams_joined_comments)\n",
        "df_comments_noBlanks = df_comments_noBlanks[~df_comments_noBlanks['lemmas'].isin([''])]\n",
        "# df_comments_noBlanks.to_csv('comments_lemmas.csv', index=False)"
      ],
      "metadata": {
        "id": "D4niVs6C24Od"
      },
      "execution_count": null,
      "outputs": []
    },
    {
      "cell_type": "code",
      "source": [
        "df_posts_noBlanks.head(3)"
      ],
      "metadata": {
        "colab": {
          "base_uri": "https://localhost:8080/",
          "height": 143
        },
        "id": "vinCef4C25nR",
        "outputId": "6dbe9522-8a36-4ff3-cc81-69dd8d5f2444"
      },
      "execution_count": null,
      "outputs": [
        {
          "output_type": "execute_result",
          "data": {
            "text/plain": [
              "       idint     idstr     created  self  nsfw             author  \\\n",
              "7   23221158  t3_dtpk6  1287554803     1     0          [deleted]   \n",
              "12  25888930  t3_few0y  1296782293     1     0          mostrasho   \n",
              "17  29705825  t3_hop5t  1306892178     1     0  YouveBeenOneUpped   \n",
              "\n",
              "                                                title  \\\n",
              "7   I am a recent graduate with no experience in t...   \n",
              "12  Help r/publishing! I just got offered a (volun...   \n",
              "17                Reprints - Are there average costs?   \n",
              "\n",
              "                                               lemmas  \\\n",
              "7   industry experience publishing like enter fiel...   \n",
              "12  editor offer fully aware come directly college...   \n",
              "17  hey short excerpt reprint typically cost profi...   \n",
              "\n",
              "                                             selftext  score  textlen  \\\n",
              "7   I have no industry experience in publishing, b...      2     1007   \n",
              "12  The editor who offered it is fully aware that ...      2     1027   \n",
              "17  Hey All. How much do short excerpt reprints ty...      2      188   \n",
              "\n",
              "    num_comments  \n",
              "7              5  \n",
              "12             2  \n",
              "17             4  "
            ],
            "text/html": [
              "\n",
              "  <div id=\"df-a9ac2cf5-b00f-4320-844d-1135a377aef0\">\n",
              "    <div class=\"colab-df-container\">\n",
              "      <div>\n",
              "<style scoped>\n",
              "    .dataframe tbody tr th:only-of-type {\n",
              "        vertical-align: middle;\n",
              "    }\n",
              "\n",
              "    .dataframe tbody tr th {\n",
              "        vertical-align: top;\n",
              "    }\n",
              "\n",
              "    .dataframe thead th {\n",
              "        text-align: right;\n",
              "    }\n",
              "</style>\n",
              "<table border=\"1\" class=\"dataframe\">\n",
              "  <thead>\n",
              "    <tr style=\"text-align: right;\">\n",
              "      <th></th>\n",
              "      <th>idint</th>\n",
              "      <th>idstr</th>\n",
              "      <th>created</th>\n",
              "      <th>self</th>\n",
              "      <th>nsfw</th>\n",
              "      <th>author</th>\n",
              "      <th>title</th>\n",
              "      <th>lemmas</th>\n",
              "      <th>selftext</th>\n",
              "      <th>score</th>\n",
              "      <th>textlen</th>\n",
              "      <th>num_comments</th>\n",
              "    </tr>\n",
              "  </thead>\n",
              "  <tbody>\n",
              "    <tr>\n",
              "      <th>7</th>\n",
              "      <td>23221158</td>\n",
              "      <td>t3_dtpk6</td>\n",
              "      <td>1287554803</td>\n",
              "      <td>1</td>\n",
              "      <td>0</td>\n",
              "      <td>[deleted]</td>\n",
              "      <td>I am a recent graduate with no experience in t...</td>\n",
              "      <td>industry experience publishing like enter fiel...</td>\n",
              "      <td>I have no industry experience in publishing, b...</td>\n",
              "      <td>2</td>\n",
              "      <td>1007</td>\n",
              "      <td>5</td>\n",
              "    </tr>\n",
              "    <tr>\n",
              "      <th>12</th>\n",
              "      <td>25888930</td>\n",
              "      <td>t3_few0y</td>\n",
              "      <td>1296782293</td>\n",
              "      <td>1</td>\n",
              "      <td>0</td>\n",
              "      <td>mostrasho</td>\n",
              "      <td>Help r/publishing! I just got offered a (volun...</td>\n",
              "      <td>editor offer fully aware come directly college...</td>\n",
              "      <td>The editor who offered it is fully aware that ...</td>\n",
              "      <td>2</td>\n",
              "      <td>1027</td>\n",
              "      <td>2</td>\n",
              "    </tr>\n",
              "    <tr>\n",
              "      <th>17</th>\n",
              "      <td>29705825</td>\n",
              "      <td>t3_hop5t</td>\n",
              "      <td>1306892178</td>\n",
              "      <td>1</td>\n",
              "      <td>0</td>\n",
              "      <td>YouveBeenOneUpped</td>\n",
              "      <td>Reprints - Are there average costs?</td>\n",
              "      <td>hey short excerpt reprint typically cost profi...</td>\n",
              "      <td>Hey All. How much do short excerpt reprints ty...</td>\n",
              "      <td>2</td>\n",
              "      <td>188</td>\n",
              "      <td>4</td>\n",
              "    </tr>\n",
              "  </tbody>\n",
              "</table>\n",
              "</div>\n",
              "      <button class=\"colab-df-convert\" onclick=\"convertToInteractive('df-a9ac2cf5-b00f-4320-844d-1135a377aef0')\"\n",
              "              title=\"Convert this dataframe to an interactive table.\"\n",
              "              style=\"display:none;\">\n",
              "        \n",
              "  <svg xmlns=\"http://www.w3.org/2000/svg\" height=\"24px\"viewBox=\"0 0 24 24\"\n",
              "       width=\"24px\">\n",
              "    <path d=\"M0 0h24v24H0V0z\" fill=\"none\"/>\n",
              "    <path d=\"M18.56 5.44l.94 2.06.94-2.06 2.06-.94-2.06-.94-.94-2.06-.94 2.06-2.06.94zm-11 1L8.5 8.5l.94-2.06 2.06-.94-2.06-.94L8.5 2.5l-.94 2.06-2.06.94zm10 10l.94 2.06.94-2.06 2.06-.94-2.06-.94-.94-2.06-.94 2.06-2.06.94z\"/><path d=\"M17.41 7.96l-1.37-1.37c-.4-.4-.92-.59-1.43-.59-.52 0-1.04.2-1.43.59L10.3 9.45l-7.72 7.72c-.78.78-.78 2.05 0 2.83L4 21.41c.39.39.9.59 1.41.59.51 0 1.02-.2 1.41-.59l7.78-7.78 2.81-2.81c.8-.78.8-2.07 0-2.86zM5.41 20L4 18.59l7.72-7.72 1.47 1.35L5.41 20z\"/>\n",
              "  </svg>\n",
              "      </button>\n",
              "      \n",
              "  <style>\n",
              "    .colab-df-container {\n",
              "      display:flex;\n",
              "      flex-wrap:wrap;\n",
              "      gap: 12px;\n",
              "    }\n",
              "\n",
              "    .colab-df-convert {\n",
              "      background-color: #E8F0FE;\n",
              "      border: none;\n",
              "      border-radius: 50%;\n",
              "      cursor: pointer;\n",
              "      display: none;\n",
              "      fill: #1967D2;\n",
              "      height: 32px;\n",
              "      padding: 0 0 0 0;\n",
              "      width: 32px;\n",
              "    }\n",
              "\n",
              "    .colab-df-convert:hover {\n",
              "      background-color: #E2EBFA;\n",
              "      box-shadow: 0px 1px 2px rgba(60, 64, 67, 0.3), 0px 1px 3px 1px rgba(60, 64, 67, 0.15);\n",
              "      fill: #174EA6;\n",
              "    }\n",
              "\n",
              "    [theme=dark] .colab-df-convert {\n",
              "      background-color: #3B4455;\n",
              "      fill: #D2E3FC;\n",
              "    }\n",
              "\n",
              "    [theme=dark] .colab-df-convert:hover {\n",
              "      background-color: #434B5C;\n",
              "      box-shadow: 0px 1px 3px 1px rgba(0, 0, 0, 0.15);\n",
              "      filter: drop-shadow(0px 1px 2px rgba(0, 0, 0, 0.3));\n",
              "      fill: #FFFFFF;\n",
              "    }\n",
              "  </style>\n",
              "\n",
              "      <script>\n",
              "        const buttonEl =\n",
              "          document.querySelector('#df-a9ac2cf5-b00f-4320-844d-1135a377aef0 button.colab-df-convert');\n",
              "        buttonEl.style.display =\n",
              "          google.colab.kernel.accessAllowed ? 'block' : 'none';\n",
              "\n",
              "        async function convertToInteractive(key) {\n",
              "          const element = document.querySelector('#df-a9ac2cf5-b00f-4320-844d-1135a377aef0');\n",
              "          const dataTable =\n",
              "            await google.colab.kernel.invokeFunction('convertToInteractive',\n",
              "                                                     [key], {});\n",
              "          if (!dataTable) return;\n",
              "\n",
              "          const docLinkHtml = 'Like what you see? Visit the ' +\n",
              "            '<a target=\"_blank\" href=https://colab.research.google.com/notebooks/data_table.ipynb>data table notebook</a>'\n",
              "            + ' to learn more about interactive tables.';\n",
              "          element.innerHTML = '';\n",
              "          dataTable['output_type'] = 'display_data';\n",
              "          await google.colab.output.renderOutput(dataTable, element);\n",
              "          const docLink = document.createElement('div');\n",
              "          docLink.innerHTML = docLinkHtml;\n",
              "          element.appendChild(docLink);\n",
              "        }\n",
              "      </script>\n",
              "    </div>\n",
              "  </div>\n",
              "  "
            ]
          },
          "metadata": {},
          "execution_count": 54
        }
      ]
    },
    {
      "cell_type": "code",
      "source": [
        "df_comments_noBlanks.head(3)"
      ],
      "metadata": {
        "colab": {
          "base_uri": "https://localhost:8080/",
          "height": 143
        },
        "id": "HGbb7TAl27Db",
        "outputId": "fefd86f7-b816-40ca-a973-03d665afc371"
      },
      "execution_count": null,
      "outputs": [
        {
          "output_type": "execute_result",
          "data": {
            "text/plain": [
              "         idint       idstr     created         author      parent submission  \\\n",
              "0  26160907768  t1_c0nj1mg  1270490234    judycullins    t3_bmr3z   t3_bmr3z   \n",
              "1  26186732829  t1_c12wkd9  1287609142  inigo_montoya    t3_dtpk6   t3_dtpk6   \n",
              "2  26186750085  t1_c12wxol  1287615269      [deleted]  t1_c12wkd9   t3_dtpk6   \n",
              "\n",
              "                                                body  \\\n",
              "0  8 great tips to start marketing your book onli...   \n",
              "1  I think it's extremely hard to find a salaried...   \n",
              "2  Honestly, I think I would be very happy either...   \n",
              "\n",
              "                                              lemmas  score  textlen  \n",
              "0         great tip start market book online publish      1       68  \n",
              "1  think extremely hard find salaried position ed...      1      407  \n",
              "2  honestly think happy edit acquisition copy rea...      1      570  "
            ],
            "text/html": [
              "\n",
              "  <div id=\"df-6c43ff98-26e7-464d-8a0d-b904a27f4216\">\n",
              "    <div class=\"colab-df-container\">\n",
              "      <div>\n",
              "<style scoped>\n",
              "    .dataframe tbody tr th:only-of-type {\n",
              "        vertical-align: middle;\n",
              "    }\n",
              "\n",
              "    .dataframe tbody tr th {\n",
              "        vertical-align: top;\n",
              "    }\n",
              "\n",
              "    .dataframe thead th {\n",
              "        text-align: right;\n",
              "    }\n",
              "</style>\n",
              "<table border=\"1\" class=\"dataframe\">\n",
              "  <thead>\n",
              "    <tr style=\"text-align: right;\">\n",
              "      <th></th>\n",
              "      <th>idint</th>\n",
              "      <th>idstr</th>\n",
              "      <th>created</th>\n",
              "      <th>author</th>\n",
              "      <th>parent</th>\n",
              "      <th>submission</th>\n",
              "      <th>body</th>\n",
              "      <th>lemmas</th>\n",
              "      <th>score</th>\n",
              "      <th>textlen</th>\n",
              "    </tr>\n",
              "  </thead>\n",
              "  <tbody>\n",
              "    <tr>\n",
              "      <th>0</th>\n",
              "      <td>26160907768</td>\n",
              "      <td>t1_c0nj1mg</td>\n",
              "      <td>1270490234</td>\n",
              "      <td>judycullins</td>\n",
              "      <td>t3_bmr3z</td>\n",
              "      <td>t3_bmr3z</td>\n",
              "      <td>8 great tips to start marketing your book onli...</td>\n",
              "      <td>great tip start market book online publish</td>\n",
              "      <td>1</td>\n",
              "      <td>68</td>\n",
              "    </tr>\n",
              "    <tr>\n",
              "      <th>1</th>\n",
              "      <td>26186732829</td>\n",
              "      <td>t1_c12wkd9</td>\n",
              "      <td>1287609142</td>\n",
              "      <td>inigo_montoya</td>\n",
              "      <td>t3_dtpk6</td>\n",
              "      <td>t3_dtpk6</td>\n",
              "      <td>I think it's extremely hard to find a salaried...</td>\n",
              "      <td>think extremely hard find salaried position ed...</td>\n",
              "      <td>1</td>\n",
              "      <td>407</td>\n",
              "    </tr>\n",
              "    <tr>\n",
              "      <th>2</th>\n",
              "      <td>26186750085</td>\n",
              "      <td>t1_c12wxol</td>\n",
              "      <td>1287615269</td>\n",
              "      <td>[deleted]</td>\n",
              "      <td>t1_c12wkd9</td>\n",
              "      <td>t3_dtpk6</td>\n",
              "      <td>Honestly, I think I would be very happy either...</td>\n",
              "      <td>honestly think happy edit acquisition copy rea...</td>\n",
              "      <td>1</td>\n",
              "      <td>570</td>\n",
              "    </tr>\n",
              "  </tbody>\n",
              "</table>\n",
              "</div>\n",
              "      <button class=\"colab-df-convert\" onclick=\"convertToInteractive('df-6c43ff98-26e7-464d-8a0d-b904a27f4216')\"\n",
              "              title=\"Convert this dataframe to an interactive table.\"\n",
              "              style=\"display:none;\">\n",
              "        \n",
              "  <svg xmlns=\"http://www.w3.org/2000/svg\" height=\"24px\"viewBox=\"0 0 24 24\"\n",
              "       width=\"24px\">\n",
              "    <path d=\"M0 0h24v24H0V0z\" fill=\"none\"/>\n",
              "    <path d=\"M18.56 5.44l.94 2.06.94-2.06 2.06-.94-2.06-.94-.94-2.06-.94 2.06-2.06.94zm-11 1L8.5 8.5l.94-2.06 2.06-.94-2.06-.94L8.5 2.5l-.94 2.06-2.06.94zm10 10l.94 2.06.94-2.06 2.06-.94-2.06-.94-.94-2.06-.94 2.06-2.06.94z\"/><path d=\"M17.41 7.96l-1.37-1.37c-.4-.4-.92-.59-1.43-.59-.52 0-1.04.2-1.43.59L10.3 9.45l-7.72 7.72c-.78.78-.78 2.05 0 2.83L4 21.41c.39.39.9.59 1.41.59.51 0 1.02-.2 1.41-.59l7.78-7.78 2.81-2.81c.8-.78.8-2.07 0-2.86zM5.41 20L4 18.59l7.72-7.72 1.47 1.35L5.41 20z\"/>\n",
              "  </svg>\n",
              "      </button>\n",
              "      \n",
              "  <style>\n",
              "    .colab-df-container {\n",
              "      display:flex;\n",
              "      flex-wrap:wrap;\n",
              "      gap: 12px;\n",
              "    }\n",
              "\n",
              "    .colab-df-convert {\n",
              "      background-color: #E8F0FE;\n",
              "      border: none;\n",
              "      border-radius: 50%;\n",
              "      cursor: pointer;\n",
              "      display: none;\n",
              "      fill: #1967D2;\n",
              "      height: 32px;\n",
              "      padding: 0 0 0 0;\n",
              "      width: 32px;\n",
              "    }\n",
              "\n",
              "    .colab-df-convert:hover {\n",
              "      background-color: #E2EBFA;\n",
              "      box-shadow: 0px 1px 2px rgba(60, 64, 67, 0.3), 0px 1px 3px 1px rgba(60, 64, 67, 0.15);\n",
              "      fill: #174EA6;\n",
              "    }\n",
              "\n",
              "    [theme=dark] .colab-df-convert {\n",
              "      background-color: #3B4455;\n",
              "      fill: #D2E3FC;\n",
              "    }\n",
              "\n",
              "    [theme=dark] .colab-df-convert:hover {\n",
              "      background-color: #434B5C;\n",
              "      box-shadow: 0px 1px 3px 1px rgba(0, 0, 0, 0.15);\n",
              "      filter: drop-shadow(0px 1px 2px rgba(0, 0, 0, 0.3));\n",
              "      fill: #FFFFFF;\n",
              "    }\n",
              "  </style>\n",
              "\n",
              "      <script>\n",
              "        const buttonEl =\n",
              "          document.querySelector('#df-6c43ff98-26e7-464d-8a0d-b904a27f4216 button.colab-df-convert');\n",
              "        buttonEl.style.display =\n",
              "          google.colab.kernel.accessAllowed ? 'block' : 'none';\n",
              "\n",
              "        async function convertToInteractive(key) {\n",
              "          const element = document.querySelector('#df-6c43ff98-26e7-464d-8a0d-b904a27f4216');\n",
              "          const dataTable =\n",
              "            await google.colab.kernel.invokeFunction('convertToInteractive',\n",
              "                                                     [key], {});\n",
              "          if (!dataTable) return;\n",
              "\n",
              "          const docLinkHtml = 'Like what you see? Visit the ' +\n",
              "            '<a target=\"_blank\" href=https://colab.research.google.com/notebooks/data_table.ipynb>data table notebook</a>'\n",
              "            + ' to learn more about interactive tables.';\n",
              "          element.innerHTML = '';\n",
              "          dataTable['output_type'] = 'display_data';\n",
              "          await google.colab.output.renderOutput(dataTable, element);\n",
              "          const docLink = document.createElement('div');\n",
              "          docLink.innerHTML = docLinkHtml;\n",
              "          element.appendChild(docLink);\n",
              "        }\n",
              "      </script>\n",
              "    </div>\n",
              "  </div>\n",
              "  "
            ]
          },
          "metadata": {},
          "execution_count": 55
        }
      ]
    },
    {
      "cell_type": "code",
      "source": [
        "# save preprosessed dfs to .csvs\n",
        "# df_posts_noBlanks.to_csv(\"df_posts_noBlanks.csv\")\n",
        "# df_comments_noBlanks.to_csv(\"df_comments_noBlanks.csv\")"
      ],
      "metadata": {
        "id": "ggOZZC-cMJ22"
      },
      "execution_count": null,
      "outputs": []
    },
    {
      "cell_type": "markdown",
      "source": [
        "## Skip Preprocessing - Load Preprocessed Dataframes Here"
      ],
      "metadata": {
        "id": "x4PRrzFrMrqp"
      }
    },
    {
      "cell_type": "code",
      "source": [
        "# Github url with comments data\n",
        "url_comments_processed = 'https://gist.githubusercontent.com/meiqingli/704f7aee9293334a5ce9ee5217ed8dc2/raw/325bff375b0413d8462fc311b33fa894194cb96c/df_comments_noBlanks.csv'\n",
        "\n",
        "# Github url with post data\n",
        "url_posts_processed = 'https://gist.githubusercontent.com/meiqingli/e789a6c16b63bba3da4f4fb4dadb299f/raw/c78b4b74c18656f6e25e01f1245289dfbac7bf15/df_posts_noBlanks.csv'\n",
        "\n",
        "# Reads the csv comments file from github\n",
        "df_comments_noBlanks = pd.read_csv(url_comments_processed)\n",
        "\n",
        "# Reads the csv posts file from github\n",
        "df_posts_noBlanks = pd.read_csv(url_posts_processed)"
      ],
      "metadata": {
        "id": "ZuAcq3sYMr9d"
      },
      "execution_count": 94,
      "outputs": []
    },
    {
      "cell_type": "markdown",
      "metadata": {
        "id": "hm2tPMeWJkyr"
      },
      "source": [
        "## Exploring Texts with `pandas` and `nltk` (based on Model 2 notebook 02)"
      ]
    },
    {
      "cell_type": "code",
      "execution_count": null,
      "metadata": {
        "id": "oSBnH_3gJg0f"
      },
      "outputs": [],
      "source": [
        "# Run if nltk is not installed\n",
        "# !pip install nltk"
      ]
    },
    {
      "cell_type": "code",
      "execution_count": null,
      "metadata": {
        "id": "qQbx_MDDJ5Av",
        "colab": {
          "base_uri": "https://localhost:8080/",
          "height": 240
        },
        "outputId": "aa3e97de-0daf-47a7-f345-4c17c5d9a23c"
      },
      "outputs": [
        {
          "output_type": "execute_result",
          "data": {
            "text/plain": [
              "      Unnamed: 0       idint      idstr     created  self  nsfw  \\\n",
              "404         2319   233972106  t3_3vau16  1449162677     1     0   \n",
              "1510        5837  1047462900  t3_hbmrjo  1592513546     1     0   \n",
              "1528        5873  1054845205  t3_hg0zrp  1593145694     1     0   \n",
              "\n",
              "             author                                              title  \\\n",
              "404   gloopmagazine  KICKSTARTER FOR A ONE-OF-A-KIND TEEN MAGAZINE!...   \n",
              "1510      brisualso    [Critique Request] How to Spot a Good Synopsis?   \n",
              "1528  CheekClappR69       How should I write a light novel in English?   \n",
              "\n",
              "                                                 lemmas  \\\n",
              "404   short gloop offer curate content young people ...   \n",
              "1510  hello!i write synopsis short_story difficult d...   \n",
              "1528  joke post remove character thing like charlie ...   \n",
              "\n",
              "                                               selftext  score  textlen  \\\n",
              "404   In short, Gloop! offers curated content for yo...      0      529   \n",
              "1510  Hello!\\n\\nI will say that writing a synopsis f...      0      701   \n",
              "1528  I'm serious no joke. I already got a post remo...      0      234   \n",
              "\n",
              "      num_comments  \n",
              "404              0  \n",
              "1510             0  \n",
              "1528             2  "
            ],
            "text/html": [
              "\n",
              "  <div id=\"df-b9a61d3e-bdb4-47ac-9065-b2dafd550bc7\">\n",
              "    <div class=\"colab-df-container\">\n",
              "      <div>\n",
              "<style scoped>\n",
              "    .dataframe tbody tr th:only-of-type {\n",
              "        vertical-align: middle;\n",
              "    }\n",
              "\n",
              "    .dataframe tbody tr th {\n",
              "        vertical-align: top;\n",
              "    }\n",
              "\n",
              "    .dataframe thead th {\n",
              "        text-align: right;\n",
              "    }\n",
              "</style>\n",
              "<table border=\"1\" class=\"dataframe\">\n",
              "  <thead>\n",
              "    <tr style=\"text-align: right;\">\n",
              "      <th></th>\n",
              "      <th>Unnamed: 0</th>\n",
              "      <th>idint</th>\n",
              "      <th>idstr</th>\n",
              "      <th>created</th>\n",
              "      <th>self</th>\n",
              "      <th>nsfw</th>\n",
              "      <th>author</th>\n",
              "      <th>title</th>\n",
              "      <th>lemmas</th>\n",
              "      <th>selftext</th>\n",
              "      <th>score</th>\n",
              "      <th>textlen</th>\n",
              "      <th>num_comments</th>\n",
              "    </tr>\n",
              "  </thead>\n",
              "  <tbody>\n",
              "    <tr>\n",
              "      <th>404</th>\n",
              "      <td>2319</td>\n",
              "      <td>233972106</td>\n",
              "      <td>t3_3vau16</td>\n",
              "      <td>1449162677</td>\n",
              "      <td>1</td>\n",
              "      <td>0</td>\n",
              "      <td>gloopmagazine</td>\n",
              "      <td>KICKSTARTER FOR A ONE-OF-A-KIND TEEN MAGAZINE!...</td>\n",
              "      <td>short gloop offer curate content young people ...</td>\n",
              "      <td>In short, Gloop! offers curated content for yo...</td>\n",
              "      <td>0</td>\n",
              "      <td>529</td>\n",
              "      <td>0</td>\n",
              "    </tr>\n",
              "    <tr>\n",
              "      <th>1510</th>\n",
              "      <td>5837</td>\n",
              "      <td>1047462900</td>\n",
              "      <td>t3_hbmrjo</td>\n",
              "      <td>1592513546</td>\n",
              "      <td>1</td>\n",
              "      <td>0</td>\n",
              "      <td>brisualso</td>\n",
              "      <td>[Critique Request] How to Spot a Good Synopsis?</td>\n",
              "      <td>hello!i write synopsis short_story difficult d...</td>\n",
              "      <td>Hello!\\n\\nI will say that writing a synopsis f...</td>\n",
              "      <td>0</td>\n",
              "      <td>701</td>\n",
              "      <td>0</td>\n",
              "    </tr>\n",
              "    <tr>\n",
              "      <th>1528</th>\n",
              "      <td>5873</td>\n",
              "      <td>1054845205</td>\n",
              "      <td>t3_hg0zrp</td>\n",
              "      <td>1593145694</td>\n",
              "      <td>1</td>\n",
              "      <td>0</td>\n",
              "      <td>CheekClappR69</td>\n",
              "      <td>How should I write a light novel in English?</td>\n",
              "      <td>joke post remove character thing like charlie ...</td>\n",
              "      <td>I'm serious no joke. I already got a post remo...</td>\n",
              "      <td>0</td>\n",
              "      <td>234</td>\n",
              "      <td>2</td>\n",
              "    </tr>\n",
              "  </tbody>\n",
              "</table>\n",
              "</div>\n",
              "      <button class=\"colab-df-convert\" onclick=\"convertToInteractive('df-b9a61d3e-bdb4-47ac-9065-b2dafd550bc7')\"\n",
              "              title=\"Convert this dataframe to an interactive table.\"\n",
              "              style=\"display:none;\">\n",
              "        \n",
              "  <svg xmlns=\"http://www.w3.org/2000/svg\" height=\"24px\"viewBox=\"0 0 24 24\"\n",
              "       width=\"24px\">\n",
              "    <path d=\"M0 0h24v24H0V0z\" fill=\"none\"/>\n",
              "    <path d=\"M18.56 5.44l.94 2.06.94-2.06 2.06-.94-2.06-.94-.94-2.06-.94 2.06-2.06.94zm-11 1L8.5 8.5l.94-2.06 2.06-.94-2.06-.94L8.5 2.5l-.94 2.06-2.06.94zm10 10l.94 2.06.94-2.06 2.06-.94-2.06-.94-.94-2.06-.94 2.06-2.06.94z\"/><path d=\"M17.41 7.96l-1.37-1.37c-.4-.4-.92-.59-1.43-.59-.52 0-1.04.2-1.43.59L10.3 9.45l-7.72 7.72c-.78.78-.78 2.05 0 2.83L4 21.41c.39.39.9.59 1.41.59.51 0 1.02-.2 1.41-.59l7.78-7.78 2.81-2.81c.8-.78.8-2.07 0-2.86zM5.41 20L4 18.59l7.72-7.72 1.47 1.35L5.41 20z\"/>\n",
              "  </svg>\n",
              "      </button>\n",
              "      \n",
              "  <style>\n",
              "    .colab-df-container {\n",
              "      display:flex;\n",
              "      flex-wrap:wrap;\n",
              "      gap: 12px;\n",
              "    }\n",
              "\n",
              "    .colab-df-convert {\n",
              "      background-color: #E8F0FE;\n",
              "      border: none;\n",
              "      border-radius: 50%;\n",
              "      cursor: pointer;\n",
              "      display: none;\n",
              "      fill: #1967D2;\n",
              "      height: 32px;\n",
              "      padding: 0 0 0 0;\n",
              "      width: 32px;\n",
              "    }\n",
              "\n",
              "    .colab-df-convert:hover {\n",
              "      background-color: #E2EBFA;\n",
              "      box-shadow: 0px 1px 2px rgba(60, 64, 67, 0.3), 0px 1px 3px 1px rgba(60, 64, 67, 0.15);\n",
              "      fill: #174EA6;\n",
              "    }\n",
              "\n",
              "    [theme=dark] .colab-df-convert {\n",
              "      background-color: #3B4455;\n",
              "      fill: #D2E3FC;\n",
              "    }\n",
              "\n",
              "    [theme=dark] .colab-df-convert:hover {\n",
              "      background-color: #434B5C;\n",
              "      box-shadow: 0px 1px 3px 1px rgba(0, 0, 0, 0.15);\n",
              "      filter: drop-shadow(0px 1px 2px rgba(0, 0, 0, 0.3));\n",
              "      fill: #FFFFFF;\n",
              "    }\n",
              "  </style>\n",
              "\n",
              "      <script>\n",
              "        const buttonEl =\n",
              "          document.querySelector('#df-b9a61d3e-bdb4-47ac-9065-b2dafd550bc7 button.colab-df-convert');\n",
              "        buttonEl.style.display =\n",
              "          google.colab.kernel.accessAllowed ? 'block' : 'none';\n",
              "\n",
              "        async function convertToInteractive(key) {\n",
              "          const element = document.querySelector('#df-b9a61d3e-bdb4-47ac-9065-b2dafd550bc7');\n",
              "          const dataTable =\n",
              "            await google.colab.kernel.invokeFunction('convertToInteractive',\n",
              "                                                     [key], {});\n",
              "          if (!dataTable) return;\n",
              "\n",
              "          const docLinkHtml = 'Like what you see? Visit the ' +\n",
              "            '<a target=\"_blank\" href=https://colab.research.google.com/notebooks/data_table.ipynb>data table notebook</a>'\n",
              "            + ' to learn more about interactive tables.';\n",
              "          element.innerHTML = '';\n",
              "          dataTable['output_type'] = 'display_data';\n",
              "          await google.colab.output.renderOutput(dataTable, element);\n",
              "          const docLink = document.createElement('div');\n",
              "          docLink.innerHTML = docLinkHtml;\n",
              "          element.appendChild(docLink);\n",
              "        }\n",
              "      </script>\n",
              "    </div>\n",
              "  </div>\n",
              "  "
            ]
          },
          "metadata": {},
          "execution_count": 50
        }
      ],
      "source": [
        "# Sort dataframe by highest scores\n",
        "df_posts_noBlanks.sort_values(by=['score'], ascending=True).head(3)\n",
        "#highest is 76"
      ]
    },
    {
      "cell_type": "markdown",
      "metadata": {
        "id": "LtIWfyGjq1w8"
      },
      "source": [
        "Value Counts"
      ]
    },
    {
      "cell_type": "code",
      "execution_count": null,
      "metadata": {
        "id": "Tb0EX5rxq4kh",
        "colab": {
          "base_uri": "https://localhost:8080/"
        },
        "outputId": "1e00201c-a10b-4e3f-b4d1-533fb25c061f"
      },
      "outputs": [
        {
          "output_type": "execute_result",
          "data": {
            "text/plain": [
              "1    2387\n",
              "Name: self, dtype: int64"
            ]
          },
          "metadata": {},
          "execution_count": 4
        }
      ],
      "source": [
        "df_posts_noBlanks['self'].value_counts()"
      ]
    },
    {
      "cell_type": "code",
      "execution_count": null,
      "metadata": {
        "id": "SNiSlro3rg2m",
        "colab": {
          "base_uri": "https://localhost:8080/"
        },
        "outputId": "fda8fd5a-a488-4c5a-a817-b14721bccc78"
      },
      "outputs": [
        {
          "output_type": "execute_result",
          "data": {
            "text/plain": [
              "0    2385\n",
              "1       2\n",
              "Name: nsfw, dtype: int64"
            ]
          },
          "metadata": {},
          "execution_count": 5
        }
      ],
      "source": [
        "df_posts_noBlanks['nsfw'].value_counts()"
      ]
    },
    {
      "cell_type": "code",
      "execution_count": null,
      "metadata": {
        "id": "JRYvPWbOr_wn",
        "colab": {
          "base_uri": "https://localhost:8080/"
        },
        "outputId": "f4adef0d-a527-4e14-95a2-aa36b4440072"
      },
      "outputs": [
        {
          "output_type": "execute_result",
          "data": {
            "text/plain": [
              "2     380\n",
              "1     344\n",
              "3     335\n",
              "4     224\n",
              "0     217\n",
              "5     203\n",
              "6     137\n",
              "7     122\n",
              "8      90\n",
              "9      78\n",
              "10     46\n",
              "11     33\n",
              "12     32\n",
              "13     26\n",
              "14     23\n",
              "16     18\n",
              "15     10\n",
              "17      8\n",
              "27      7\n",
              "20      6\n",
              "28      4\n",
              "34      3\n",
              "35      3\n",
              "25      3\n",
              "19      3\n",
              "18      3\n",
              "21      3\n",
              "30      3\n",
              "24      2\n",
              "22      2\n",
              "29      2\n",
              "36      2\n",
              "23      2\n",
              "64      1\n",
              "76      1\n",
              "32      1\n",
              "53      1\n",
              "48      1\n",
              "45      1\n",
              "51      1\n",
              "54      1\n",
              "37      1\n",
              "59      1\n",
              "26      1\n",
              "40      1\n",
              "65      1\n",
              "Name: score, dtype: int64"
            ]
          },
          "metadata": {},
          "execution_count": 6
        }
      ],
      "source": [
        "df_posts_noBlanks['score'].value_counts()"
      ]
    },
    {
      "cell_type": "code",
      "execution_count": null,
      "metadata": {
        "id": "8ugCeUI1uDM-",
        "colab": {
          "base_uri": "https://localhost:8080/"
        },
        "outputId": "5050c1bf-a8c7-4760-a430-ca2acf3642d0"
      },
      "outputs": [
        {
          "output_type": "execute_result",
          "data": {
            "text/plain": [
              "t3_gg32c9     21\n",
              "t3_vcqtg      19\n",
              "t3_iddmzk     19\n",
              "t3_hvy1h5     19\n",
              "t3_g9cf65     19\n",
              "              ..\n",
              "t1_fh9qwuu     1\n",
              "t1_fhak2yk     1\n",
              "t1_fhahcw2     1\n",
              "t1_fh9s7vr     1\n",
              "t3_ohoqpl      1\n",
              "Name: parent, Length: 11891, dtype: int64"
            ]
          },
          "metadata": {},
          "execution_count": 7
        }
      ],
      "source": [
        "df_comments_noBlanks['parent'].value_counts()"
      ]
    },
    {
      "cell_type": "code",
      "execution_count": null,
      "metadata": {
        "id": "GVmhNUnMuYwu",
        "colab": {
          "base_uri": "https://localhost:8080/"
        },
        "outputId": "b69939fd-b944-474a-bee3-d046a5dfa7c4"
      },
      "outputs": [
        {
          "output_type": "execute_result",
          "data": {
            "text/plain": [
              "t3_mwb5yh    77\n",
              "t3_lj7v93    52\n",
              "t3_gg32c9    52\n",
              "t3_lgvahm    50\n",
              "t3_hfi3t5    49\n",
              "             ..\n",
              "t3_8nozwk     1\n",
              "t3_8oel32     1\n",
              "t3_8szjgc     1\n",
              "t3_8zmlaw     1\n",
              "t3_ohoqpl     1\n",
              "Name: submission, Length: 3060, dtype: int64"
            ]
          },
          "metadata": {},
          "execution_count": 8
        }
      ],
      "source": [
        "df_comments_noBlanks['submission'].value_counts()"
      ]
    },
    {
      "cell_type": "markdown",
      "metadata": {
        "id": "Z80q80tUM-Fu"
      },
      "source": [
        "type-token Ratio (TTR)"
      ]
    },
    {
      "cell_type": "code",
      "execution_count": null,
      "metadata": {
        "id": "7vUXWDzlKXHU"
      },
      "outputs": [],
      "source": [
        "def type_token_ratio(tokens):\n",
        "    \"\"\"Calculates type-token ratio on tokens.\"\"\"\n",
        "    numTokens = len(tokens)\n",
        "    numTypes = len(set(tokens))\n",
        "    return numTypes / numTokens"
      ]
    },
    {
      "cell_type": "code",
      "execution_count": null,
      "metadata": {
        "id": "0liFZh7aKXSd",
        "colab": {
          "base_uri": "https://localhost:8080/"
        },
        "outputId": "baad1504-9a29-4fa6-d674-7d7b5f175ff5"
      },
      "outputs": [
        {
          "output_type": "stream",
          "name": "stdout",
          "text": [
            "Text:\n",
            " year save money startup cost want start publishing house advice break market know basically business publishing look resource learn worth business evening class\n",
            "TTR: 0.9130434782608695 \n",
            "\n",
            "Text:\n",
            " tell lie finish novel want freedom find good route publish possible young spiral bit piss naiveté mean need buy time knock good story quick like capable rock certain mental uniqueness prevent hold job wonderful world typically habit ask advice humbly present /r publishing assistance self publishing publish short fiction head water head water $ month live hovel write good 40,000 word story 10,000 word short_story day live portland relevance answer merit appreciate advice recommendation dialogue etc thank time hopefully good come\n",
            "TTR: 0.8518518518518519 \n",
            "\n",
            "Text:\n",
            " lot publish love discuss like hear people actually publish publishing list related subreddit right panel r selfpublish r selfpublishe interested self publishing print_demand etc question work professional distributor\n",
            "TTR: 0.8928571428571429 \n",
            "\n",
            "Text:\n",
            " review recommendation good qa software good practice non manufacturing publishing\n",
            "TTR: 0.9 \n",
            "\n",
            "Text:\n",
            " look pod service distribute large format color book amazon way lightning source create space suggestion pod service automatically set sale distribution amazon\n",
            "TTR: 0.8636363636363636 \n",
            "\n"
          ]
        }
      ],
      "source": [
        "for text in df_posts_noBlanks['lemmas'][100:105]:\n",
        "    tokens = text.split()\n",
        "    print('Text:\\n', text)\n",
        "    print('TTR:', type_token_ratio(tokens), '\\n')"
      ]
    },
    {
      "cell_type": "code",
      "source": [
        "print(type(df_posts_noBlanks['lemmas']))"
      ],
      "metadata": {
        "id": "V3TAIFEvbEl-",
        "colab": {
          "base_uri": "https://localhost:8080/"
        },
        "outputId": "4a3e350c-a0f2-4c05-ec76-9498ceb61385"
      },
      "execution_count": null,
      "outputs": [
        {
          "output_type": "stream",
          "name": "stdout",
          "text": [
            "<class 'pandas.core.series.Series'>\n"
          ]
        }
      ]
    },
    {
      "cell_type": "markdown",
      "metadata": {
        "id": "524SxgK9SqUW"
      },
      "source": [
        "Processing and Analyzing Language with `Text()`"
      ]
    },
    {
      "cell_type": "code",
      "execution_count": null,
      "metadata": {
        "id": "badOmWp9KXb-"
      },
      "outputs": [],
      "source": [
        "tokens = []\n",
        "for idx, row in enumerate(df_posts_noBlanks['lemmas']):\n",
        "    # Notice that we put all tokens in the same list\n",
        "    tokens.extend(row.split(' '))"
      ]
    },
    {
      "cell_type": "code",
      "execution_count": null,
      "metadata": {
        "id": "LVDXjdEtKXji",
        "colab": {
          "base_uri": "https://localhost:8080/"
        },
        "outputId": "45fc1031-ddfd-43ab-d32c-223a325724ab"
      },
      "outputs": [
        {
          "output_type": "stream",
          "name": "stderr",
          "text": [
            "[nltk_data] Downloading package stopwords to /root/nltk_data...\n",
            "[nltk_data]   Unzipping corpora/stopwords.zip.\n"
          ]
        }
      ],
      "source": [
        "import nltk\n",
        "nltk.download('stopwords')\n",
        "from nltk.text import Text\n",
        "\n",
        "aita_tokens = Text(tokens)"
      ]
    },
    {
      "cell_type": "code",
      "execution_count": null,
      "metadata": {
        "id": "hZFiHgr6KXmG",
        "colab": {
          "base_uri": "https://localhost:8080/"
        },
        "outputId": "593d8a52-96da-4e2c-a9b7-e4bf0f008288"
      },
      "outputs": [
        {
          "output_type": "stream",
          "name": "stdout",
          "text": [
            "Help on class Text in module nltk.text:\n",
            "\n",
            "class Text(builtins.object)\n",
            " |  Text(tokens, name=None)\n",
            " |  \n",
            " |  A wrapper around a sequence of simple (string) tokens, which is\n",
            " |  intended to support initial exploration of texts (via the\n",
            " |  interactive console).  Its methods perform a variety of analyses\n",
            " |  on the text's contexts (e.g., counting, concordancing, collocation\n",
            " |  discovery), and display the results.  If you wish to write a\n",
            " |  program which makes use of these analyses, then you should bypass\n",
            " |  the ``Text`` class, and use the appropriate analysis function or\n",
            " |  class directly instead.\n",
            " |  \n",
            " |  A ``Text`` is typically initialized from a given document or\n",
            " |  corpus.  E.g.:\n",
            " |  \n",
            " |  >>> import nltk.corpus\n",
            " |  >>> from nltk.text import Text\n",
            " |  >>> moby = Text(nltk.corpus.gutenberg.words('melville-moby_dick.txt'))\n",
            " |  \n",
            " |  Methods defined here:\n",
            " |  \n",
            " |  __getitem__(self, i)\n",
            " |  \n",
            " |  __init__(self, tokens, name=None)\n",
            " |      Create a Text object.\n",
            " |      \n",
            " |      :param tokens: The source text.\n",
            " |      :type tokens: sequence of str\n",
            " |  \n",
            " |  __len__(self)\n",
            " |  \n",
            " |  __repr__(self)\n",
            " |      Return repr(self).\n",
            " |  \n",
            " |  __str__(self)\n",
            " |      Return str(self).\n",
            " |  \n",
            " |  collocation_list(self, num=20, window_size=2)\n",
            " |      Return collocations derived from the text, ignoring stopwords.\n",
            " |      \n",
            " |          >>> from nltk.book import text4\n",
            " |          >>> text4.collocation_list()[:2]\n",
            " |          [('United', 'States'), ('fellow', 'citizens')]\n",
            " |      \n",
            " |      :param num: The maximum number of collocations to return.\n",
            " |      :type num: int\n",
            " |      :param window_size: The number of tokens spanned by a collocation (default=2)\n",
            " |      :type window_size: int\n",
            " |      :rtype: list(tuple(str, str))\n",
            " |  \n",
            " |  collocations(self, num=20, window_size=2)\n",
            " |      Print collocations derived from the text, ignoring stopwords.\n",
            " |      \n",
            " |          >>> from nltk.book import text4\n",
            " |          >>> text4.collocations() # doctest: +ELLIPSIS\n",
            " |          United States; fellow citizens; four years; ...\n",
            " |      \n",
            " |      :param num: The maximum number of collocations to print.\n",
            " |      :type num: int\n",
            " |      :param window_size: The number of tokens spanned by a collocation (default=2)\n",
            " |      :type window_size: int\n",
            " |  \n",
            " |  common_contexts(self, words, num=20)\n",
            " |      Find contexts where the specified words appear; list\n",
            " |      most frequent common contexts first.\n",
            " |      \n",
            " |      :param words: The words used to seed the similarity search\n",
            " |      :type words: str\n",
            " |      :param num: The number of words to generate (default=20)\n",
            " |      :type num: int\n",
            " |      :seealso: ContextIndex.common_contexts()\n",
            " |  \n",
            " |  concordance(self, word, width=79, lines=25)\n",
            " |      Prints a concordance for ``word`` with the specified context window.\n",
            " |      Word matching is not case-sensitive.\n",
            " |      \n",
            " |      :param word: The target word or phrase (a list of strings)\n",
            " |      :type word: str or list\n",
            " |      :param width: The width of each line, in characters (default=80)\n",
            " |      :type width: int\n",
            " |      :param lines: The number of lines to display (default=25)\n",
            " |      :type lines: int\n",
            " |      \n",
            " |      :seealso: ``ConcordanceIndex``\n",
            " |  \n",
            " |  concordance_list(self, word, width=79, lines=25)\n",
            " |      Generate a concordance for ``word`` with the specified context window.\n",
            " |      Word matching is not case-sensitive.\n",
            " |      \n",
            " |      :param word: The target word or phrase (a list of strings)\n",
            " |      :type word: str or list\n",
            " |      :param width: The width of each line, in characters (default=80)\n",
            " |      :type width: int\n",
            " |      :param lines: The number of lines to display (default=25)\n",
            " |      :type lines: int\n",
            " |      \n",
            " |      :seealso: ``ConcordanceIndex``\n",
            " |  \n",
            " |  count(self, word)\n",
            " |      Count the number of times this word appears in the text.\n",
            " |  \n",
            " |  dispersion_plot(self, words)\n",
            " |      Produce a plot showing the distribution of the words through the text.\n",
            " |      Requires pylab to be installed.\n",
            " |      \n",
            " |      :param words: The words to be plotted\n",
            " |      :type words: list(str)\n",
            " |      :seealso: nltk.draw.dispersion_plot()\n",
            " |  \n",
            " |  findall(self, regexp)\n",
            " |      Find instances of the regular expression in the text.\n",
            " |      The text is a list of tokens, and a regexp pattern to match\n",
            " |      a single token must be surrounded by angle brackets.  E.g.\n",
            " |      \n",
            " |      >>> print('hack'); from nltk.book import text1, text5, text9\n",
            " |      hack...\n",
            " |      >>> text5.findall(\"<.*><.*><bro>\")\n",
            " |      you rule bro; telling you bro; u twizted bro\n",
            " |      >>> text1.findall(\"<a>(<.*>)<man>\")\n",
            " |      monied; nervous; dangerous; white; white; white; pious; queer; good;\n",
            " |      mature; white; Cape; great; wise; wise; butterless; white; fiendish;\n",
            " |      pale; furious; better; certain; complete; dismasted; younger; brave;\n",
            " |      brave; brave; brave\n",
            " |      >>> text9.findall(\"<th.*>{3,}\")\n",
            " |      thread through those; the thought that; that the thing; the thing\n",
            " |      that; that that thing; through these than through; them that the;\n",
            " |      through the thick; them that they; thought that the\n",
            " |      \n",
            " |      :param regexp: A regular expression\n",
            " |      :type regexp: str\n",
            " |  \n",
            " |  generate(self, length=100, text_seed=None, random_seed=42)\n",
            " |      Print random text, generated using a trigram language model.\n",
            " |      See also `help(nltk.lm)`.\n",
            " |      \n",
            " |      :param length: The length of text to generate (default=100)\n",
            " |      :type length: int\n",
            " |      \n",
            " |      :param text_seed: Generation can be conditioned on preceding context.\n",
            " |      :type text_seed: list(str)\n",
            " |      \n",
            " |      :param random_seed: A random seed or an instance of `random.Random`. If provided,\n",
            " |          makes the random sampling part of generation reproducible. (default=42)\n",
            " |      :type random_seed: int\n",
            " |  \n",
            " |  index(self, word)\n",
            " |      Find the index of the first occurrence of the word in the text.\n",
            " |  \n",
            " |  plot(self, *args)\n",
            " |      See documentation for FreqDist.plot()\n",
            " |      :seealso: nltk.prob.FreqDist.plot()\n",
            " |  \n",
            " |  readability(self, method)\n",
            " |  \n",
            " |  similar(self, word, num=20)\n",
            " |      Distributional similarity: find other words which appear in the\n",
            " |      same contexts as the specified word; list most similar words first.\n",
            " |      \n",
            " |      :param word: The word used to seed the similarity search\n",
            " |      :type word: str\n",
            " |      :param num: The number of words to generate (default=20)\n",
            " |      :type num: int\n",
            " |      :seealso: ContextIndex.similar_words()\n",
            " |  \n",
            " |  vocab(self)\n",
            " |      :seealso: nltk.prob.FreqDist\n",
            " |  \n",
            " |  ----------------------------------------------------------------------\n",
            " |  Data descriptors defined here:\n",
            " |  \n",
            " |  __dict__\n",
            " |      dictionary for instance variables (if defined)\n",
            " |  \n",
            " |  __weakref__\n",
            " |      list of weak references to the object (if defined)\n",
            "\n"
          ]
        }
      ],
      "source": [
        "# help(Text)"
      ]
    },
    {
      "cell_type": "markdown",
      "metadata": {
        "id": "6zjEulkYUxX4"
      },
      "source": [
        "Concordances"
      ]
    },
    {
      "cell_type": "code",
      "execution_count": null,
      "metadata": {
        "id": "pH8--CgSKXo7",
        "colab": {
          "base_uri": "https://localhost:8080/"
        },
        "outputId": "209d89da-ea6a-4bbb-a98e-6e41b7c9d2d9"
      },
      "outputs": [
        {
          "output_type": "stream",
          "name": "stdout",
          "text": [
            "Displaying 25 of 546 matches:\n",
            "iting usual catch-22 hold true job need experience experience need job fin\n",
            "rue job need experience experience need job find entry_level work prove di\n",
            "ost profit photo try profit report need short excerpt thank use microsoft \n",
            "good special character cause issue need able import word file website use \n",
            "ication ambitious thing look thing need work start thank reading edit than\n",
            "guess question advice protect work need agent know good reputable publishe\n",
            " business fresh high_school wonder need protect business world register tm\n",
            "retty impulsive life decision feel need dream work major publishing house \n",
            " letter press relatively short run need register tax d po box pruchase isb\n",
            "io book id like step prepare print need budget cost printer shipping marke\n",
            "rinting book supplier photographic need print decently decent paper aware \n",
            "ssible canada know publish uk hear need agent true good way like lot poste\n",
            "lishing digital sure viable option need agent order able apply lot big pub\n",
            "ample run september month magazine need boot ground support sell ad space \n",
            "elp contact website email let know need information company help advice ad\n",
            "ning win year later story complete need little help publish kind visit ind\n",
            " tell important happen thing april need mail post right oh invite friend c\n",
            "d innovative graphic_designer want need designer look current logo http://\n",
            "d innovative graphic_designer want need designer look current logo http://\n",
            "ted book massive commercial appeal need advice representation agent idea t\n",
            " contract decide royalty fee thing need work artist graduate july creative\n",
            "come true!central location aka car need public transportation let know guy\n",
            "sive app order publish ios android need app want people read magazine mana\n",
            "major publisher confused apple set need build app publish pdf news stand l\n",
            "iness download way virus deliver u need extra software double size plus mo\n"
          ]
        }
      ],
      "source": [
        "\n",
        "aita_tokens.concordance('need', width=75)"
      ]
    },
    {
      "cell_type": "markdown",
      "metadata": {
        "id": "az4VGKgKVAmR"
      },
      "source": [
        "Collocations"
      ]
    },
    {
      "cell_type": "code",
      "execution_count": null,
      "metadata": {
        "id": "vExVQv83VATE",
        "colab": {
          "base_uri": "https://localhost:8080/"
        },
        "outputId": "2bcca0c9-a029-4ff1-820f-f3084de2e015"
      },
      "outputs": [
        {
          "output_type": "execute_result",
          "data": {
            "text/plain": [
              "[('self', 'publish'),\n",
              " ('publishing', 'house'),\n",
              " ('self', 'publishing'),\n",
              " ('feel', 'like'),\n",
              " ('publishing', 'company'),\n",
              " ('child', 'book'),\n",
              " ('publishing', 'industry'),\n",
              " ('let', 'know'),\n",
              " ('publish', 'book'),\n",
              " ('traditional', 'publishing'),\n",
              " ('year', 'old'),\n",
              " ('good', 'way'),\n",
              " ('advice', 'appreciate'),\n",
              " ('write', 'book'),\n",
              " ('good', 'place'),\n",
              " ('brick', 'mortar'),\n",
              " ('query', 'agent'),\n",
              " ('literary', 'magazine'),\n",
              " ('dungeons', 'dragons'),\n",
              " ('week', 'ago')]"
            ]
          },
          "metadata": {},
          "execution_count": 16
        }
      ],
      "source": [
        "aita_tokens.collocation_list()"
      ]
    },
    {
      "cell_type": "markdown",
      "metadata": {
        "id": "lWGn6ZyfXzRg"
      },
      "source": [
        "Similar Words"
      ]
    },
    {
      "cell_type": "code",
      "execution_count": null,
      "metadata": {
        "id": "Pbj5K8nNXuw3",
        "colab": {
          "base_uri": "https://localhost:8080/"
        },
        "outputId": "1499f511-962f-4399-f526-ff0d486673a3"
      },
      "outputs": [
        {
          "output_type": "stream",
          "name": "stdout",
          "text": [
            "know work publisher book like publish online author good self new look\n",
            "year big traditional publishing find ask come try\n"
          ]
        }
      ],
      "source": [
        "aita_tokens.similar('agent')"
      ]
    },
    {
      "cell_type": "markdown",
      "metadata": {
        "id": "f6UN4dZwYVV0"
      },
      "source": [
        "Common Context"
      ]
    },
    {
      "cell_type": "code",
      "execution_count": null,
      "metadata": {
        "id": "u5TGh20vKXry",
        "colab": {
          "base_uri": "https://localhost:8080/"
        },
        "outputId": "dec207f0-68b8-4704-c608-ead133180909"
      },
      "outputs": [
        {
          "output_type": "stream",
          "name": "stdout",
          "text": [
            "second_novel short_publish publish_poetry ya_story\n"
          ]
        }
      ],
      "source": [
        "aita_tokens.common_contexts(['novel', 'fiction'])"
      ]
    },
    {
      "cell_type": "markdown",
      "metadata": {
        "id": "EEu88DhdYr2M"
      },
      "source": [
        "Incorporating Time"
      ]
    },
    {
      "cell_type": "code",
      "execution_count": null,
      "metadata": {
        "id": "SrL037g8YrQp"
      },
      "outputs": [],
      "source": [
        "datetimes = pd.to_datetime(df_posts_noBlanks['created'], unit='s')"
      ]
    },
    {
      "cell_type": "code",
      "execution_count": null,
      "metadata": {
        "id": "KU8f-gMWZAWB",
        "colab": {
          "base_uri": "https://localhost:8080/",
          "height": 257
        },
        "outputId": "7b2674bd-5281-4af9-d9be-371fe9e94346"
      },
      "outputs": [
        {
          "output_type": "execute_result",
          "data": {
            "text/plain": [
              "   Unnamed: 0     idint     idstr    created_datetime     created  self  nsfw  \\\n",
              "0           7  23221158  t3_dtpk6 2010-10-20 06:06:43  1287554803     1     0   \n",
              "1          12  25888930  t3_few0y 2011-02-04 01:18:13  1296782293     1     0   \n",
              "2          17  29705825  t3_hop5t 2011-06-01 01:36:18  1306892178     1     0   \n",
              "\n",
              "              author                                              title  \\\n",
              "0          [deleted]  I am a recent graduate with no experience in t...   \n",
              "1          mostrasho  Help r/publishing! I just got offered a (volun...   \n",
              "2  YouveBeenOneUpped                Reprints - Are there average costs?   \n",
              "\n",
              "                                              lemmas  \\\n",
              "0  industry experience publishing like enter fiel...   \n",
              "1  editor offer fully aware come directly college...   \n",
              "2  hey short excerpt reprint typically cost profi...   \n",
              "\n",
              "                                            selftext  score  textlen  \\\n",
              "0  I have no industry experience in publishing, b...      2     1007   \n",
              "1  The editor who offered it is fully aware that ...      2     1027   \n",
              "2  Hey All. How much do short excerpt reprints ty...      2      188   \n",
              "\n",
              "   num_comments  \n",
              "0             5  \n",
              "1             2  \n",
              "2             4  "
            ],
            "text/html": [
              "\n",
              "  <div id=\"df-a87c0f6f-4395-4055-9ec9-5b96e10162df\">\n",
              "    <div class=\"colab-df-container\">\n",
              "      <div>\n",
              "<style scoped>\n",
              "    .dataframe tbody tr th:only-of-type {\n",
              "        vertical-align: middle;\n",
              "    }\n",
              "\n",
              "    .dataframe tbody tr th {\n",
              "        vertical-align: top;\n",
              "    }\n",
              "\n",
              "    .dataframe thead th {\n",
              "        text-align: right;\n",
              "    }\n",
              "</style>\n",
              "<table border=\"1\" class=\"dataframe\">\n",
              "  <thead>\n",
              "    <tr style=\"text-align: right;\">\n",
              "      <th></th>\n",
              "      <th>Unnamed: 0</th>\n",
              "      <th>idint</th>\n",
              "      <th>idstr</th>\n",
              "      <th>created_datetime</th>\n",
              "      <th>created</th>\n",
              "      <th>self</th>\n",
              "      <th>nsfw</th>\n",
              "      <th>author</th>\n",
              "      <th>title</th>\n",
              "      <th>lemmas</th>\n",
              "      <th>selftext</th>\n",
              "      <th>score</th>\n",
              "      <th>textlen</th>\n",
              "      <th>num_comments</th>\n",
              "    </tr>\n",
              "  </thead>\n",
              "  <tbody>\n",
              "    <tr>\n",
              "      <th>0</th>\n",
              "      <td>7</td>\n",
              "      <td>23221158</td>\n",
              "      <td>t3_dtpk6</td>\n",
              "      <td>2010-10-20 06:06:43</td>\n",
              "      <td>1287554803</td>\n",
              "      <td>1</td>\n",
              "      <td>0</td>\n",
              "      <td>[deleted]</td>\n",
              "      <td>I am a recent graduate with no experience in t...</td>\n",
              "      <td>industry experience publishing like enter fiel...</td>\n",
              "      <td>I have no industry experience in publishing, b...</td>\n",
              "      <td>2</td>\n",
              "      <td>1007</td>\n",
              "      <td>5</td>\n",
              "    </tr>\n",
              "    <tr>\n",
              "      <th>1</th>\n",
              "      <td>12</td>\n",
              "      <td>25888930</td>\n",
              "      <td>t3_few0y</td>\n",
              "      <td>2011-02-04 01:18:13</td>\n",
              "      <td>1296782293</td>\n",
              "      <td>1</td>\n",
              "      <td>0</td>\n",
              "      <td>mostrasho</td>\n",
              "      <td>Help r/publishing! I just got offered a (volun...</td>\n",
              "      <td>editor offer fully aware come directly college...</td>\n",
              "      <td>The editor who offered it is fully aware that ...</td>\n",
              "      <td>2</td>\n",
              "      <td>1027</td>\n",
              "      <td>2</td>\n",
              "    </tr>\n",
              "    <tr>\n",
              "      <th>2</th>\n",
              "      <td>17</td>\n",
              "      <td>29705825</td>\n",
              "      <td>t3_hop5t</td>\n",
              "      <td>2011-06-01 01:36:18</td>\n",
              "      <td>1306892178</td>\n",
              "      <td>1</td>\n",
              "      <td>0</td>\n",
              "      <td>YouveBeenOneUpped</td>\n",
              "      <td>Reprints - Are there average costs?</td>\n",
              "      <td>hey short excerpt reprint typically cost profi...</td>\n",
              "      <td>Hey All. How much do short excerpt reprints ty...</td>\n",
              "      <td>2</td>\n",
              "      <td>188</td>\n",
              "      <td>4</td>\n",
              "    </tr>\n",
              "  </tbody>\n",
              "</table>\n",
              "</div>\n",
              "      <button class=\"colab-df-convert\" onclick=\"convertToInteractive('df-a87c0f6f-4395-4055-9ec9-5b96e10162df')\"\n",
              "              title=\"Convert this dataframe to an interactive table.\"\n",
              "              style=\"display:none;\">\n",
              "        \n",
              "  <svg xmlns=\"http://www.w3.org/2000/svg\" height=\"24px\"viewBox=\"0 0 24 24\"\n",
              "       width=\"24px\">\n",
              "    <path d=\"M0 0h24v24H0V0z\" fill=\"none\"/>\n",
              "    <path d=\"M18.56 5.44l.94 2.06.94-2.06 2.06-.94-2.06-.94-.94-2.06-.94 2.06-2.06.94zm-11 1L8.5 8.5l.94-2.06 2.06-.94-2.06-.94L8.5 2.5l-.94 2.06-2.06.94zm10 10l.94 2.06.94-2.06 2.06-.94-2.06-.94-.94-2.06-.94 2.06-2.06.94z\"/><path d=\"M17.41 7.96l-1.37-1.37c-.4-.4-.92-.59-1.43-.59-.52 0-1.04.2-1.43.59L10.3 9.45l-7.72 7.72c-.78.78-.78 2.05 0 2.83L4 21.41c.39.39.9.59 1.41.59.51 0 1.02-.2 1.41-.59l7.78-7.78 2.81-2.81c.8-.78.8-2.07 0-2.86zM5.41 20L4 18.59l7.72-7.72 1.47 1.35L5.41 20z\"/>\n",
              "  </svg>\n",
              "      </button>\n",
              "      \n",
              "  <style>\n",
              "    .colab-df-container {\n",
              "      display:flex;\n",
              "      flex-wrap:wrap;\n",
              "      gap: 12px;\n",
              "    }\n",
              "\n",
              "    .colab-df-convert {\n",
              "      background-color: #E8F0FE;\n",
              "      border: none;\n",
              "      border-radius: 50%;\n",
              "      cursor: pointer;\n",
              "      display: none;\n",
              "      fill: #1967D2;\n",
              "      height: 32px;\n",
              "      padding: 0 0 0 0;\n",
              "      width: 32px;\n",
              "    }\n",
              "\n",
              "    .colab-df-convert:hover {\n",
              "      background-color: #E2EBFA;\n",
              "      box-shadow: 0px 1px 2px rgba(60, 64, 67, 0.3), 0px 1px 3px 1px rgba(60, 64, 67, 0.15);\n",
              "      fill: #174EA6;\n",
              "    }\n",
              "\n",
              "    [theme=dark] .colab-df-convert {\n",
              "      background-color: #3B4455;\n",
              "      fill: #D2E3FC;\n",
              "    }\n",
              "\n",
              "    [theme=dark] .colab-df-convert:hover {\n",
              "      background-color: #434B5C;\n",
              "      box-shadow: 0px 1px 3px 1px rgba(0, 0, 0, 0.15);\n",
              "      filter: drop-shadow(0px 1px 2px rgba(0, 0, 0, 0.3));\n",
              "      fill: #FFFFFF;\n",
              "    }\n",
              "  </style>\n",
              "\n",
              "      <script>\n",
              "        const buttonEl =\n",
              "          document.querySelector('#df-a87c0f6f-4395-4055-9ec9-5b96e10162df button.colab-df-convert');\n",
              "        buttonEl.style.display =\n",
              "          google.colab.kernel.accessAllowed ? 'block' : 'none';\n",
              "\n",
              "        async function convertToInteractive(key) {\n",
              "          const element = document.querySelector('#df-a87c0f6f-4395-4055-9ec9-5b96e10162df');\n",
              "          const dataTable =\n",
              "            await google.colab.kernel.invokeFunction('convertToInteractive',\n",
              "                                                     [key], {});\n",
              "          if (!dataTable) return;\n",
              "\n",
              "          const docLinkHtml = 'Like what you see? Visit the ' +\n",
              "            '<a target=\"_blank\" href=https://colab.research.google.com/notebooks/data_table.ipynb>data table notebook</a>'\n",
              "            + ' to learn more about interactive tables.';\n",
              "          element.innerHTML = '';\n",
              "          dataTable['output_type'] = 'display_data';\n",
              "          await google.colab.output.renderOutput(dataTable, element);\n",
              "          const docLink = document.createElement('div');\n",
              "          docLink.innerHTML = docLinkHtml;\n",
              "          element.appendChild(docLink);\n",
              "        }\n",
              "      </script>\n",
              "    </div>\n",
              "  </div>\n",
              "  "
            ]
          },
          "metadata": {},
          "execution_count": 20
        }
      ],
      "source": [
        "df_posts_noBlanks.insert(loc=3, column='created_datetime', value=datetimes)\n",
        "df_posts_noBlanks.head(3)"
      ]
    },
    {
      "cell_type": "code",
      "execution_count": null,
      "metadata": {
        "id": "LJyfxnv8ZAeL",
        "colab": {
          "base_uri": "https://localhost:8080/"
        },
        "outputId": "af0db22c-073f-4917-9ed0-ad531afffbaa"
      },
      "outputs": [
        {
          "output_type": "execute_result",
          "data": {
            "text/plain": [
              "357"
            ]
          },
          "metadata": {},
          "execution_count": 21
        }
      ],
      "source": [
        "df_2021 = df_posts_noBlanks.loc[pd.DatetimeIndex(df_posts_noBlanks['created_datetime']).year == 2021, :]\n",
        "len(df_2021)"
      ]
    },
    {
      "cell_type": "code",
      "execution_count": null,
      "metadata": {
        "id": "8I5_e8XVZAhO",
        "colab": {
          "base_uri": "https://localhost:8080/",
          "height": 257
        },
        "outputId": "9616aefe-4318-49e0-d617-6fd6f80d3e0b"
      },
      "outputs": [
        {
          "output_type": "execute_result",
          "data": {
            "text/plain": [
              "      Unnamed: 0       idint      idstr    created_datetime     created  self  \\\n",
              "2030        6693  1250620493  t3_kol4y5 2021-01-01 22:57:12  1609541832     1   \n",
              "2031        6694  1250719153  t3_kon92p 2021-01-02 00:55:03  1609548903     1   \n",
              "2032        6695  1250921426  t3_korl5e 2021-01-02 05:24:04  1609565044     1   \n",
              "\n",
              "      nsfw          author                                              title  \\\n",
              "2030     0        7777777H  Is publisher likely to remove 'interactive' pa...   \n",
              "2031     0    jamalbarbari  Want to Traditionally Publish A Short Story An...   \n",
              "2032     0  simianeditions  How to allow a writer to do Amazon Ads when I'...   \n",
              "\n",
              "                                                 lemmas  \\\n",
              "2030  newbie roughly half kid picture book illustrat...   \n",
              "2031  hello lovely writers publishers!its title deta...   \n",
              "2032  small_press prepare design edit distribute boo...   \n",
              "\n",
              "                                               selftext  score  textlen  \\\n",
              "2030  Newbie here. I'm roughly half done with a kids...      2      962   \n",
              "2031  Hello Lovely Writers/Publishers!\\n\\nIts all in...      4     1272   \n",
              "2032  I have a small press. I prepare, design, edit,...      8      700   \n",
              "\n",
              "      num_comments  \n",
              "2030             5  \n",
              "2031            13  \n",
              "2032            18  "
            ],
            "text/html": [
              "\n",
              "  <div id=\"df-f56ebe90-669e-41a8-8e21-878bf21a59d3\">\n",
              "    <div class=\"colab-df-container\">\n",
              "      <div>\n",
              "<style scoped>\n",
              "    .dataframe tbody tr th:only-of-type {\n",
              "        vertical-align: middle;\n",
              "    }\n",
              "\n",
              "    .dataframe tbody tr th {\n",
              "        vertical-align: top;\n",
              "    }\n",
              "\n",
              "    .dataframe thead th {\n",
              "        text-align: right;\n",
              "    }\n",
              "</style>\n",
              "<table border=\"1\" class=\"dataframe\">\n",
              "  <thead>\n",
              "    <tr style=\"text-align: right;\">\n",
              "      <th></th>\n",
              "      <th>Unnamed: 0</th>\n",
              "      <th>idint</th>\n",
              "      <th>idstr</th>\n",
              "      <th>created_datetime</th>\n",
              "      <th>created</th>\n",
              "      <th>self</th>\n",
              "      <th>nsfw</th>\n",
              "      <th>author</th>\n",
              "      <th>title</th>\n",
              "      <th>lemmas</th>\n",
              "      <th>selftext</th>\n",
              "      <th>score</th>\n",
              "      <th>textlen</th>\n",
              "      <th>num_comments</th>\n",
              "    </tr>\n",
              "  </thead>\n",
              "  <tbody>\n",
              "    <tr>\n",
              "      <th>2030</th>\n",
              "      <td>6693</td>\n",
              "      <td>1250620493</td>\n",
              "      <td>t3_kol4y5</td>\n",
              "      <td>2021-01-01 22:57:12</td>\n",
              "      <td>1609541832</td>\n",
              "      <td>1</td>\n",
              "      <td>0</td>\n",
              "      <td>7777777H</td>\n",
              "      <td>Is publisher likely to remove 'interactive' pa...</td>\n",
              "      <td>newbie roughly half kid picture book illustrat...</td>\n",
              "      <td>Newbie here. I'm roughly half done with a kids...</td>\n",
              "      <td>2</td>\n",
              "      <td>962</td>\n",
              "      <td>5</td>\n",
              "    </tr>\n",
              "    <tr>\n",
              "      <th>2031</th>\n",
              "      <td>6694</td>\n",
              "      <td>1250719153</td>\n",
              "      <td>t3_kon92p</td>\n",
              "      <td>2021-01-02 00:55:03</td>\n",
              "      <td>1609548903</td>\n",
              "      <td>1</td>\n",
              "      <td>0</td>\n",
              "      <td>jamalbarbari</td>\n",
              "      <td>Want to Traditionally Publish A Short Story An...</td>\n",
              "      <td>hello lovely writers publishers!its title deta...</td>\n",
              "      <td>Hello Lovely Writers/Publishers!\\n\\nIts all in...</td>\n",
              "      <td>4</td>\n",
              "      <td>1272</td>\n",
              "      <td>13</td>\n",
              "    </tr>\n",
              "    <tr>\n",
              "      <th>2032</th>\n",
              "      <td>6695</td>\n",
              "      <td>1250921426</td>\n",
              "      <td>t3_korl5e</td>\n",
              "      <td>2021-01-02 05:24:04</td>\n",
              "      <td>1609565044</td>\n",
              "      <td>1</td>\n",
              "      <td>0</td>\n",
              "      <td>simianeditions</td>\n",
              "      <td>How to allow a writer to do Amazon Ads when I'...</td>\n",
              "      <td>small_press prepare design edit distribute boo...</td>\n",
              "      <td>I have a small press. I prepare, design, edit,...</td>\n",
              "      <td>8</td>\n",
              "      <td>700</td>\n",
              "      <td>18</td>\n",
              "    </tr>\n",
              "  </tbody>\n",
              "</table>\n",
              "</div>\n",
              "      <button class=\"colab-df-convert\" onclick=\"convertToInteractive('df-f56ebe90-669e-41a8-8e21-878bf21a59d3')\"\n",
              "              title=\"Convert this dataframe to an interactive table.\"\n",
              "              style=\"display:none;\">\n",
              "        \n",
              "  <svg xmlns=\"http://www.w3.org/2000/svg\" height=\"24px\"viewBox=\"0 0 24 24\"\n",
              "       width=\"24px\">\n",
              "    <path d=\"M0 0h24v24H0V0z\" fill=\"none\"/>\n",
              "    <path d=\"M18.56 5.44l.94 2.06.94-2.06 2.06-.94-2.06-.94-.94-2.06-.94 2.06-2.06.94zm-11 1L8.5 8.5l.94-2.06 2.06-.94-2.06-.94L8.5 2.5l-.94 2.06-2.06.94zm10 10l.94 2.06.94-2.06 2.06-.94-2.06-.94-.94-2.06-.94 2.06-2.06.94z\"/><path d=\"M17.41 7.96l-1.37-1.37c-.4-.4-.92-.59-1.43-.59-.52 0-1.04.2-1.43.59L10.3 9.45l-7.72 7.72c-.78.78-.78 2.05 0 2.83L4 21.41c.39.39.9.59 1.41.59.51 0 1.02-.2 1.41-.59l7.78-7.78 2.81-2.81c.8-.78.8-2.07 0-2.86zM5.41 20L4 18.59l7.72-7.72 1.47 1.35L5.41 20z\"/>\n",
              "  </svg>\n",
              "      </button>\n",
              "      \n",
              "  <style>\n",
              "    .colab-df-container {\n",
              "      display:flex;\n",
              "      flex-wrap:wrap;\n",
              "      gap: 12px;\n",
              "    }\n",
              "\n",
              "    .colab-df-convert {\n",
              "      background-color: #E8F0FE;\n",
              "      border: none;\n",
              "      border-radius: 50%;\n",
              "      cursor: pointer;\n",
              "      display: none;\n",
              "      fill: #1967D2;\n",
              "      height: 32px;\n",
              "      padding: 0 0 0 0;\n",
              "      width: 32px;\n",
              "    }\n",
              "\n",
              "    .colab-df-convert:hover {\n",
              "      background-color: #E2EBFA;\n",
              "      box-shadow: 0px 1px 2px rgba(60, 64, 67, 0.3), 0px 1px 3px 1px rgba(60, 64, 67, 0.15);\n",
              "      fill: #174EA6;\n",
              "    }\n",
              "\n",
              "    [theme=dark] .colab-df-convert {\n",
              "      background-color: #3B4455;\n",
              "      fill: #D2E3FC;\n",
              "    }\n",
              "\n",
              "    [theme=dark] .colab-df-convert:hover {\n",
              "      background-color: #434B5C;\n",
              "      box-shadow: 0px 1px 3px 1px rgba(0, 0, 0, 0.15);\n",
              "      filter: drop-shadow(0px 1px 2px rgba(0, 0, 0, 0.3));\n",
              "      fill: #FFFFFF;\n",
              "    }\n",
              "  </style>\n",
              "\n",
              "      <script>\n",
              "        const buttonEl =\n",
              "          document.querySelector('#df-f56ebe90-669e-41a8-8e21-878bf21a59d3 button.colab-df-convert');\n",
              "        buttonEl.style.display =\n",
              "          google.colab.kernel.accessAllowed ? 'block' : 'none';\n",
              "\n",
              "        async function convertToInteractive(key) {\n",
              "          const element = document.querySelector('#df-f56ebe90-669e-41a8-8e21-878bf21a59d3');\n",
              "          const dataTable =\n",
              "            await google.colab.kernel.invokeFunction('convertToInteractive',\n",
              "                                                     [key], {});\n",
              "          if (!dataTable) return;\n",
              "\n",
              "          const docLinkHtml = 'Like what you see? Visit the ' +\n",
              "            '<a target=\"_blank\" href=https://colab.research.google.com/notebooks/data_table.ipynb>data table notebook</a>'\n",
              "            + ' to learn more about interactive tables.';\n",
              "          element.innerHTML = '';\n",
              "          dataTable['output_type'] = 'display_data';\n",
              "          await google.colab.output.renderOutput(dataTable, element);\n",
              "          const docLink = document.createElement('div');\n",
              "          docLink.innerHTML = docLinkHtml;\n",
              "          element.appendChild(docLink);\n",
              "        }\n",
              "      </script>\n",
              "    </div>\n",
              "  </div>\n",
              "  "
            ]
          },
          "metadata": {},
          "execution_count": 22
        }
      ],
      "source": [
        "df_2021.head(3)"
      ]
    },
    {
      "cell_type": "code",
      "execution_count": null,
      "metadata": {
        "id": "xdvmCqVXZh7Z",
        "colab": {
          "base_uri": "https://localhost:8080/"
        },
        "outputId": "fa6e1ebb-25ed-4059-c486-e0747ca3e3fb"
      },
      "outputs": [
        {
          "output_type": "execute_result",
          "data": {
            "text/plain": [
              "Index(['January', 'January', 'January', 'January', 'January', 'January',\n",
              "       'January', 'January', 'January', 'January',\n",
              "       ...\n",
              "       'July', 'July', 'July', 'July', 'July', 'July', 'July', 'July', 'July',\n",
              "       'July'],\n",
              "      dtype='object', name='created_datetime', length=357)"
            ]
          },
          "metadata": {},
          "execution_count": 23
        }
      ],
      "source": [
        "months_array = pd.DatetimeIndex(df_2021['created_datetime']).month_name()\n",
        "months_array"
      ]
    },
    {
      "cell_type": "markdown",
      "metadata": {
        "id": "D58kBkdVXKdC"
      },
      "source": [
        "# Module 2 Notebook 3: Term Frequency-Inverse Document Frequency (TF-IDF) \n",
        "*JP\n"
      ]
    },
    {
      "cell_type": "markdown",
      "metadata": {
        "id": "nQIpcyNxkp5n"
      },
      "source": [
        "TF-IDF shows which words are most unique/relevant to the sample. High TF-IDF scores indicate high uniqueness. Lower scores may be that the words appear less frequently or that they are not very unique (don't provide much new information about the sample). Standard jargon like \"literary\" or \"publish\" may be on par for r/publishing."
      ]
    },
    {
      "cell_type": "code",
      "execution_count": null,
      "metadata": {
        "id": "0_LIxdgcYoUi",
        "colab": {
          "base_uri": "https://localhost:8080/",
          "height": 173
        },
        "outputId": "c6b8e2ff-1569-48bc-a53c-512420bdfcde"
      },
      "outputs": [
        {
          "output_type": "execute_result",
          "data": {
            "text/plain": [
              "   agent  agents  an  and  at  can  department  done  find  have  ...  send  \\\n",
              "0      1       0   1    0   0    0           0     0     1     0  ...     0   \n",
              "1      0       0   0    0   1    0           1     0     0     0  ...     0   \n",
              "2      0       1   0    1   0    1           0     1     0     1  ...     1   \n",
              "\n",
              "   stuff  their  they  to  what  work  yes  you  your  \n",
              "0      0      0     0   0     0     0    0    0     0  \n",
              "1      0      1     0   0     0     1    0    0     0  \n",
              "2      1      0     1   1     1     0    1    2     1  \n",
              "\n",
              "[3 rows x 27 columns]"
            ],
            "text/html": [
              "\n",
              "  <div id=\"df-20aeb271-6397-4bd9-9c18-5b74f34bc6cb\">\n",
              "    <div class=\"colab-df-container\">\n",
              "      <div>\n",
              "<style scoped>\n",
              "    .dataframe tbody tr th:only-of-type {\n",
              "        vertical-align: middle;\n",
              "    }\n",
              "\n",
              "    .dataframe tbody tr th {\n",
              "        vertical-align: top;\n",
              "    }\n",
              "\n",
              "    .dataframe thead th {\n",
              "        text-align: right;\n",
              "    }\n",
              "</style>\n",
              "<table border=\"1\" class=\"dataframe\">\n",
              "  <thead>\n",
              "    <tr style=\"text-align: right;\">\n",
              "      <th></th>\n",
              "      <th>agent</th>\n",
              "      <th>agents</th>\n",
              "      <th>an</th>\n",
              "      <th>and</th>\n",
              "      <th>at</th>\n",
              "      <th>can</th>\n",
              "      <th>department</th>\n",
              "      <th>done</th>\n",
              "      <th>find</th>\n",
              "      <th>have</th>\n",
              "      <th>...</th>\n",
              "      <th>send</th>\n",
              "      <th>stuff</th>\n",
              "      <th>their</th>\n",
              "      <th>they</th>\n",
              "      <th>to</th>\n",
              "      <th>what</th>\n",
              "      <th>work</th>\n",
              "      <th>yes</th>\n",
              "      <th>you</th>\n",
              "      <th>your</th>\n",
              "    </tr>\n",
              "  </thead>\n",
              "  <tbody>\n",
              "    <tr>\n",
              "      <th>0</th>\n",
              "      <td>1</td>\n",
              "      <td>0</td>\n",
              "      <td>1</td>\n",
              "      <td>0</td>\n",
              "      <td>0</td>\n",
              "      <td>0</td>\n",
              "      <td>0</td>\n",
              "      <td>0</td>\n",
              "      <td>1</td>\n",
              "      <td>0</td>\n",
              "      <td>...</td>\n",
              "      <td>0</td>\n",
              "      <td>0</td>\n",
              "      <td>0</td>\n",
              "      <td>0</td>\n",
              "      <td>0</td>\n",
              "      <td>0</td>\n",
              "      <td>0</td>\n",
              "      <td>0</td>\n",
              "      <td>0</td>\n",
              "      <td>0</td>\n",
              "    </tr>\n",
              "    <tr>\n",
              "      <th>1</th>\n",
              "      <td>0</td>\n",
              "      <td>0</td>\n",
              "      <td>0</td>\n",
              "      <td>0</td>\n",
              "      <td>1</td>\n",
              "      <td>0</td>\n",
              "      <td>1</td>\n",
              "      <td>0</td>\n",
              "      <td>0</td>\n",
              "      <td>0</td>\n",
              "      <td>...</td>\n",
              "      <td>0</td>\n",
              "      <td>0</td>\n",
              "      <td>1</td>\n",
              "      <td>0</td>\n",
              "      <td>0</td>\n",
              "      <td>0</td>\n",
              "      <td>1</td>\n",
              "      <td>0</td>\n",
              "      <td>0</td>\n",
              "      <td>0</td>\n",
              "    </tr>\n",
              "    <tr>\n",
              "      <th>2</th>\n",
              "      <td>0</td>\n",
              "      <td>1</td>\n",
              "      <td>0</td>\n",
              "      <td>1</td>\n",
              "      <td>0</td>\n",
              "      <td>1</td>\n",
              "      <td>0</td>\n",
              "      <td>1</td>\n",
              "      <td>0</td>\n",
              "      <td>1</td>\n",
              "      <td>...</td>\n",
              "      <td>1</td>\n",
              "      <td>1</td>\n",
              "      <td>0</td>\n",
              "      <td>1</td>\n",
              "      <td>1</td>\n",
              "      <td>1</td>\n",
              "      <td>0</td>\n",
              "      <td>1</td>\n",
              "      <td>2</td>\n",
              "      <td>1</td>\n",
              "    </tr>\n",
              "  </tbody>\n",
              "</table>\n",
              "<p>3 rows × 27 columns</p>\n",
              "</div>\n",
              "      <button class=\"colab-df-convert\" onclick=\"convertToInteractive('df-20aeb271-6397-4bd9-9c18-5b74f34bc6cb')\"\n",
              "              title=\"Convert this dataframe to an interactive table.\"\n",
              "              style=\"display:none;\">\n",
              "        \n",
              "  <svg xmlns=\"http://www.w3.org/2000/svg\" height=\"24px\"viewBox=\"0 0 24 24\"\n",
              "       width=\"24px\">\n",
              "    <path d=\"M0 0h24v24H0V0z\" fill=\"none\"/>\n",
              "    <path d=\"M18.56 5.44l.94 2.06.94-2.06 2.06-.94-2.06-.94-.94-2.06-.94 2.06-2.06.94zm-11 1L8.5 8.5l.94-2.06 2.06-.94-2.06-.94L8.5 2.5l-.94 2.06-2.06.94zm10 10l.94 2.06.94-2.06 2.06-.94-2.06-.94-.94-2.06-.94 2.06-2.06.94z\"/><path d=\"M17.41 7.96l-1.37-1.37c-.4-.4-.92-.59-1.43-.59-.52 0-1.04.2-1.43.59L10.3 9.45l-7.72 7.72c-.78.78-.78 2.05 0 2.83L4 21.41c.39.39.9.59 1.41.59.51 0 1.02-.2 1.41-.59l7.78-7.78 2.81-2.81c.8-.78.8-2.07 0-2.86zM5.41 20L4 18.59l7.72-7.72 1.47 1.35L5.41 20z\"/>\n",
              "  </svg>\n",
              "      </button>\n",
              "      \n",
              "  <style>\n",
              "    .colab-df-container {\n",
              "      display:flex;\n",
              "      flex-wrap:wrap;\n",
              "      gap: 12px;\n",
              "    }\n",
              "\n",
              "    .colab-df-convert {\n",
              "      background-color: #E8F0FE;\n",
              "      border: none;\n",
              "      border-radius: 50%;\n",
              "      cursor: pointer;\n",
              "      display: none;\n",
              "      fill: #1967D2;\n",
              "      height: 32px;\n",
              "      padding: 0 0 0 0;\n",
              "      width: 32px;\n",
              "    }\n",
              "\n",
              "    .colab-df-convert:hover {\n",
              "      background-color: #E2EBFA;\n",
              "      box-shadow: 0px 1px 2px rgba(60, 64, 67, 0.3), 0px 1px 3px 1px rgba(60, 64, 67, 0.15);\n",
              "      fill: #174EA6;\n",
              "    }\n",
              "\n",
              "    [theme=dark] .colab-df-convert {\n",
              "      background-color: #3B4455;\n",
              "      fill: #D2E3FC;\n",
              "    }\n",
              "\n",
              "    [theme=dark] .colab-df-convert:hover {\n",
              "      background-color: #434B5C;\n",
              "      box-shadow: 0px 1px 3px 1px rgba(0, 0, 0, 0.15);\n",
              "      filter: drop-shadow(0px 1px 2px rgba(0, 0, 0, 0.3));\n",
              "      fill: #FFFFFF;\n",
              "    }\n",
              "  </style>\n",
              "\n",
              "      <script>\n",
              "        const buttonEl =\n",
              "          document.querySelector('#df-20aeb271-6397-4bd9-9c18-5b74f34bc6cb button.colab-df-convert');\n",
              "        buttonEl.style.display =\n",
              "          google.colab.kernel.accessAllowed ? 'block' : 'none';\n",
              "\n",
              "        async function convertToInteractive(key) {\n",
              "          const element = document.querySelector('#df-20aeb271-6397-4bd9-9c18-5b74f34bc6cb');\n",
              "          const dataTable =\n",
              "            await google.colab.kernel.invokeFunction('convertToInteractive',\n",
              "                                                     [key], {});\n",
              "          if (!dataTable) return;\n",
              "\n",
              "          const docLinkHtml = 'Like what you see? Visit the ' +\n",
              "            '<a target=\"_blank\" href=https://colab.research.google.com/notebooks/data_table.ipynb>data table notebook</a>'\n",
              "            + ' to learn more about interactive tables.';\n",
              "          element.innerHTML = '';\n",
              "          dataTable['output_type'] = 'display_data';\n",
              "          await google.colab.output.renderOutput(dataTable, element);\n",
              "          const docLink = document.createElement('div');\n",
              "          docLink.innerHTML = docLinkHtml;\n",
              "          element.appendChild(docLink);\n",
              "        }\n",
              "      </script>\n",
              "    </div>\n",
              "  </div>\n",
              "  "
            ]
          },
          "metadata": {},
          "execution_count": 52
        }
      ],
      "source": [
        "from sklearn.feature_extraction.text import CountVectorizer\n",
        "corpus = [ 'Find an agent.', 'I work at a publishing house in their marketing department.', 'Yes, send your stuff to agents (no matter what you have done) and they can help you. ']\n",
        "vectorizer = CountVectorizer()\n",
        "X = vectorizer.fit_transform(corpus)\n",
        "pd.DataFrame(X.toarray(), columns=vectorizer.get_feature_names_out())"
      ]
    },
    {
      "cell_type": "code",
      "execution_count": null,
      "metadata": {
        "id": "tnODFARmZOcE",
        "colab": {
          "base_uri": "https://localhost:8080/"
        },
        "outputId": "421000bc-624e-4ca5-ef58-d02f885013ea"
      },
      "outputs": [
        {
          "output_type": "execute_result",
          "data": {
            "text/plain": [
              "(3, 27)"
            ]
          },
          "metadata": {},
          "execution_count": 26
        }
      ],
      "source": [
        "X.shape"
      ]
    },
    {
      "cell_type": "code",
      "execution_count": null,
      "metadata": {
        "id": "mKytcsOJcilh"
      },
      "outputs": [],
      "source": [
        "document1=\"There are several authors who have publicly demeaned self publishing.  It's a shame.  Honestly I think the best way to judge a perception is to gauge success.  We are all aware that there is just as much potential, which some authors have been able to capitalize, in self publishing as there is in the traditional route.\"\n",
        "document2=\"All of the big six houses have summer internship programs--if you go to each of their websites, there's usually a link at the bottom of the page for careers and you should find internship info there. Have you considered literary agencies too? There are hundreds in Manhattan and they're always looking for interns. I work at a literary agency and started off as an intern. There isn't as much editing work at first but it's really invaluable experience. Good luck! \"\"\"  \n",
        "document3=\"Rarely do those nonstandard things cost the author money upfront, though. To me, there's a big difference between an agent wanting a manuscript single spaced when submitted vs. say one saying you need to pay for professional editing before submitting. When money comes into play (like paying for registering a copyright before you should realistically need one) red (or at least orange) flags go up.\"\n",
        "test_list=[document1, document2, document3]"
      ]
    },
    {
      "cell_type": "code",
      "execution_count": null,
      "metadata": {
        "id": "qzg0H0alZ0mv",
        "colab": {
          "base_uri": "https://localhost:8080/",
          "height": 173
        },
        "outputId": "8775ceb7-b026-497b-b4f3-79ded5aef3c3"
      },
      "outputs": [
        {
          "output_type": "execute_result",
          "data": {
            "text/plain": [
              "   able  agencies  agency  agent  author  authors  aware  best  big  \\\n",
              "0     1         0       0      0       0        2      1     1    0   \n",
              "1     0         1       1      0       0        0      0     0    1   \n",
              "2     0         0       0      1       1        0      0     0    1   \n",
              "\n",
              "   capitalize  ...  things  think  traditional  upfront  usually  vs  wanting  \\\n",
              "0           1  ...       0      1            1        0        0   0        0   \n",
              "1           0  ...       0      0            0        0        1   0        0   \n",
              "2           0  ...       1      0            0        1        0   1        1   \n",
              "\n",
              "   way  websites  work  \n",
              "0    1         0     0  \n",
              "1    0         1     2  \n",
              "2    0         0     0  \n",
              "\n",
              "[3 rows x 81 columns]"
            ],
            "text/html": [
              "\n",
              "  <div id=\"df-85134dae-dd56-45c7-9bdc-7f41949c5188\">\n",
              "    <div class=\"colab-df-container\">\n",
              "      <div>\n",
              "<style scoped>\n",
              "    .dataframe tbody tr th:only-of-type {\n",
              "        vertical-align: middle;\n",
              "    }\n",
              "\n",
              "    .dataframe tbody tr th {\n",
              "        vertical-align: top;\n",
              "    }\n",
              "\n",
              "    .dataframe thead th {\n",
              "        text-align: right;\n",
              "    }\n",
              "</style>\n",
              "<table border=\"1\" class=\"dataframe\">\n",
              "  <thead>\n",
              "    <tr style=\"text-align: right;\">\n",
              "      <th></th>\n",
              "      <th>able</th>\n",
              "      <th>agencies</th>\n",
              "      <th>agency</th>\n",
              "      <th>agent</th>\n",
              "      <th>author</th>\n",
              "      <th>authors</th>\n",
              "      <th>aware</th>\n",
              "      <th>best</th>\n",
              "      <th>big</th>\n",
              "      <th>capitalize</th>\n",
              "      <th>...</th>\n",
              "      <th>things</th>\n",
              "      <th>think</th>\n",
              "      <th>traditional</th>\n",
              "      <th>upfront</th>\n",
              "      <th>usually</th>\n",
              "      <th>vs</th>\n",
              "      <th>wanting</th>\n",
              "      <th>way</th>\n",
              "      <th>websites</th>\n",
              "      <th>work</th>\n",
              "    </tr>\n",
              "  </thead>\n",
              "  <tbody>\n",
              "    <tr>\n",
              "      <th>0</th>\n",
              "      <td>1</td>\n",
              "      <td>0</td>\n",
              "      <td>0</td>\n",
              "      <td>0</td>\n",
              "      <td>0</td>\n",
              "      <td>2</td>\n",
              "      <td>1</td>\n",
              "      <td>1</td>\n",
              "      <td>0</td>\n",
              "      <td>1</td>\n",
              "      <td>...</td>\n",
              "      <td>0</td>\n",
              "      <td>1</td>\n",
              "      <td>1</td>\n",
              "      <td>0</td>\n",
              "      <td>0</td>\n",
              "      <td>0</td>\n",
              "      <td>0</td>\n",
              "      <td>1</td>\n",
              "      <td>0</td>\n",
              "      <td>0</td>\n",
              "    </tr>\n",
              "    <tr>\n",
              "      <th>1</th>\n",
              "      <td>0</td>\n",
              "      <td>1</td>\n",
              "      <td>1</td>\n",
              "      <td>0</td>\n",
              "      <td>0</td>\n",
              "      <td>0</td>\n",
              "      <td>0</td>\n",
              "      <td>0</td>\n",
              "      <td>1</td>\n",
              "      <td>0</td>\n",
              "      <td>...</td>\n",
              "      <td>0</td>\n",
              "      <td>0</td>\n",
              "      <td>0</td>\n",
              "      <td>0</td>\n",
              "      <td>1</td>\n",
              "      <td>0</td>\n",
              "      <td>0</td>\n",
              "      <td>0</td>\n",
              "      <td>1</td>\n",
              "      <td>2</td>\n",
              "    </tr>\n",
              "    <tr>\n",
              "      <th>2</th>\n",
              "      <td>0</td>\n",
              "      <td>0</td>\n",
              "      <td>0</td>\n",
              "      <td>1</td>\n",
              "      <td>1</td>\n",
              "      <td>0</td>\n",
              "      <td>0</td>\n",
              "      <td>0</td>\n",
              "      <td>1</td>\n",
              "      <td>0</td>\n",
              "      <td>...</td>\n",
              "      <td>1</td>\n",
              "      <td>0</td>\n",
              "      <td>0</td>\n",
              "      <td>1</td>\n",
              "      <td>0</td>\n",
              "      <td>1</td>\n",
              "      <td>1</td>\n",
              "      <td>0</td>\n",
              "      <td>0</td>\n",
              "      <td>0</td>\n",
              "    </tr>\n",
              "  </tbody>\n",
              "</table>\n",
              "<p>3 rows × 81 columns</p>\n",
              "</div>\n",
              "      <button class=\"colab-df-convert\" onclick=\"convertToInteractive('df-85134dae-dd56-45c7-9bdc-7f41949c5188')\"\n",
              "              title=\"Convert this dataframe to an interactive table.\"\n",
              "              style=\"display:none;\">\n",
              "        \n",
              "  <svg xmlns=\"http://www.w3.org/2000/svg\" height=\"24px\"viewBox=\"0 0 24 24\"\n",
              "       width=\"24px\">\n",
              "    <path d=\"M0 0h24v24H0V0z\" fill=\"none\"/>\n",
              "    <path d=\"M18.56 5.44l.94 2.06.94-2.06 2.06-.94-2.06-.94-.94-2.06-.94 2.06-2.06.94zm-11 1L8.5 8.5l.94-2.06 2.06-.94-2.06-.94L8.5 2.5l-.94 2.06-2.06.94zm10 10l.94 2.06.94-2.06 2.06-.94-2.06-.94-.94-2.06-.94 2.06-2.06.94z\"/><path d=\"M17.41 7.96l-1.37-1.37c-.4-.4-.92-.59-1.43-.59-.52 0-1.04.2-1.43.59L10.3 9.45l-7.72 7.72c-.78.78-.78 2.05 0 2.83L4 21.41c.39.39.9.59 1.41.59.51 0 1.02-.2 1.41-.59l7.78-7.78 2.81-2.81c.8-.78.8-2.07 0-2.86zM5.41 20L4 18.59l7.72-7.72 1.47 1.35L5.41 20z\"/>\n",
              "  </svg>\n",
              "      </button>\n",
              "      \n",
              "  <style>\n",
              "    .colab-df-container {\n",
              "      display:flex;\n",
              "      flex-wrap:wrap;\n",
              "      gap: 12px;\n",
              "    }\n",
              "\n",
              "    .colab-df-convert {\n",
              "      background-color: #E8F0FE;\n",
              "      border: none;\n",
              "      border-radius: 50%;\n",
              "      cursor: pointer;\n",
              "      display: none;\n",
              "      fill: #1967D2;\n",
              "      height: 32px;\n",
              "      padding: 0 0 0 0;\n",
              "      width: 32px;\n",
              "    }\n",
              "\n",
              "    .colab-df-convert:hover {\n",
              "      background-color: #E2EBFA;\n",
              "      box-shadow: 0px 1px 2px rgba(60, 64, 67, 0.3), 0px 1px 3px 1px rgba(60, 64, 67, 0.15);\n",
              "      fill: #174EA6;\n",
              "    }\n",
              "\n",
              "    [theme=dark] .colab-df-convert {\n",
              "      background-color: #3B4455;\n",
              "      fill: #D2E3FC;\n",
              "    }\n",
              "\n",
              "    [theme=dark] .colab-df-convert:hover {\n",
              "      background-color: #434B5C;\n",
              "      box-shadow: 0px 1px 3px 1px rgba(0, 0, 0, 0.15);\n",
              "      filter: drop-shadow(0px 1px 2px rgba(0, 0, 0, 0.3));\n",
              "      fill: #FFFFFF;\n",
              "    }\n",
              "  </style>\n",
              "\n",
              "      <script>\n",
              "        const buttonEl =\n",
              "          document.querySelector('#df-85134dae-dd56-45c7-9bdc-7f41949c5188 button.colab-df-convert');\n",
              "        buttonEl.style.display =\n",
              "          google.colab.kernel.accessAllowed ? 'block' : 'none';\n",
              "\n",
              "        async function convertToInteractive(key) {\n",
              "          const element = document.querySelector('#df-85134dae-dd56-45c7-9bdc-7f41949c5188');\n",
              "          const dataTable =\n",
              "            await google.colab.kernel.invokeFunction('convertToInteractive',\n",
              "                                                     [key], {});\n",
              "          if (!dataTable) return;\n",
              "\n",
              "          const docLinkHtml = 'Like what you see? Visit the ' +\n",
              "            '<a target=\"_blank\" href=https://colab.research.google.com/notebooks/data_table.ipynb>data table notebook</a>'\n",
              "            + ' to learn more about interactive tables.';\n",
              "          element.innerHTML = '';\n",
              "          dataTable['output_type'] = 'display_data';\n",
              "          await google.colab.output.renderOutput(dataTable, element);\n",
              "          const docLink = document.createElement('div');\n",
              "          docLink.innerHTML = docLinkHtml;\n",
              "          element.appendChild(docLink);\n",
              "        }\n",
              "      </script>\n",
              "    </div>\n",
              "  </div>\n",
              "  "
            ]
          },
          "metadata": {},
          "execution_count": 54
        }
      ],
      "source": [
        "from sklearn.feature_extraction.text import CountVectorizer\n",
        "\n",
        "cv = CountVectorizer(max_df=0.85, stop_words='english')\n",
        "word_count_vector = cv.fit_transform(test_list)\n",
        "pd.DataFrame(word_count_vector.toarray(), columns=cv.get_feature_names_out())\n",
        "# Use this if your scikit-learn is older\n",
        "# pd.DataFrame(word_count_vector.toarray(), columns=cv.get_feature_names())"
      ]
    },
    {
      "cell_type": "markdown",
      "metadata": {
        "id": "l_kqKaoQaKEp"
      },
      "source": [
        "Using TfidfTransformer\n"
      ]
    },
    {
      "cell_type": "code",
      "execution_count": null,
      "metadata": {
        "id": "LmKxqrHfaUa5",
        "colab": {
          "base_uri": "https://localhost:8080/"
        },
        "outputId": "8a95c32b-80a7-4559-f1b1-5ebd0ed3e0d8"
      },
      "outputs": [
        {
          "output_type": "execute_result",
          "data": {
            "text/plain": [
              "TfidfTransformer()"
            ]
          },
          "metadata": {},
          "execution_count": 55
        }
      ],
      "source": [
        "from sklearn.feature_extraction.text import TfidfTransformer\n",
        "\n",
        "tfidf_transformer = TfidfTransformer() \n",
        "tfidf_transformer.fit(word_count_vector)"
      ]
    },
    {
      "cell_type": "code",
      "execution_count": null,
      "metadata": {
        "id": "xJPF_o67ah-b",
        "colab": {
          "base_uri": "https://localhost:8080/",
          "height": 424
        },
        "outputId": "628c2512-0b98-41e6-f2f3-36d27137972d"
      },
      "outputs": [
        {
          "output_type": "execute_result",
          "data": {
            "text/plain": [
              "             idf_weights\n",
              "editing         1.287682\n",
              "big             1.287682\n",
              "able            1.693147\n",
              "registering     1.693147\n",
              "red             1.693147\n",
              "...                  ...\n",
              "info            1.693147\n",
              "hundreds        1.693147\n",
              "houses          1.693147\n",
              "isn             1.693147\n",
              "work            1.693147\n",
              "\n",
              "[81 rows x 1 columns]"
            ],
            "text/html": [
              "\n",
              "  <div id=\"df-81e04e53-2b2f-400d-9a1a-c08c1d60a3dd\">\n",
              "    <div class=\"colab-df-container\">\n",
              "      <div>\n",
              "<style scoped>\n",
              "    .dataframe tbody tr th:only-of-type {\n",
              "        vertical-align: middle;\n",
              "    }\n",
              "\n",
              "    .dataframe tbody tr th {\n",
              "        vertical-align: top;\n",
              "    }\n",
              "\n",
              "    .dataframe thead th {\n",
              "        text-align: right;\n",
              "    }\n",
              "</style>\n",
              "<table border=\"1\" class=\"dataframe\">\n",
              "  <thead>\n",
              "    <tr style=\"text-align: right;\">\n",
              "      <th></th>\n",
              "      <th>idf_weights</th>\n",
              "    </tr>\n",
              "  </thead>\n",
              "  <tbody>\n",
              "    <tr>\n",
              "      <th>editing</th>\n",
              "      <td>1.287682</td>\n",
              "    </tr>\n",
              "    <tr>\n",
              "      <th>big</th>\n",
              "      <td>1.287682</td>\n",
              "    </tr>\n",
              "    <tr>\n",
              "      <th>able</th>\n",
              "      <td>1.693147</td>\n",
              "    </tr>\n",
              "    <tr>\n",
              "      <th>registering</th>\n",
              "      <td>1.693147</td>\n",
              "    </tr>\n",
              "    <tr>\n",
              "      <th>red</th>\n",
              "      <td>1.693147</td>\n",
              "    </tr>\n",
              "    <tr>\n",
              "      <th>...</th>\n",
              "      <td>...</td>\n",
              "    </tr>\n",
              "    <tr>\n",
              "      <th>info</th>\n",
              "      <td>1.693147</td>\n",
              "    </tr>\n",
              "    <tr>\n",
              "      <th>hundreds</th>\n",
              "      <td>1.693147</td>\n",
              "    </tr>\n",
              "    <tr>\n",
              "      <th>houses</th>\n",
              "      <td>1.693147</td>\n",
              "    </tr>\n",
              "    <tr>\n",
              "      <th>isn</th>\n",
              "      <td>1.693147</td>\n",
              "    </tr>\n",
              "    <tr>\n",
              "      <th>work</th>\n",
              "      <td>1.693147</td>\n",
              "    </tr>\n",
              "  </tbody>\n",
              "</table>\n",
              "<p>81 rows × 1 columns</p>\n",
              "</div>\n",
              "      <button class=\"colab-df-convert\" onclick=\"convertToInteractive('df-81e04e53-2b2f-400d-9a1a-c08c1d60a3dd')\"\n",
              "              title=\"Convert this dataframe to an interactive table.\"\n",
              "              style=\"display:none;\">\n",
              "        \n",
              "  <svg xmlns=\"http://www.w3.org/2000/svg\" height=\"24px\"viewBox=\"0 0 24 24\"\n",
              "       width=\"24px\">\n",
              "    <path d=\"M0 0h24v24H0V0z\" fill=\"none\"/>\n",
              "    <path d=\"M18.56 5.44l.94 2.06.94-2.06 2.06-.94-2.06-.94-.94-2.06-.94 2.06-2.06.94zm-11 1L8.5 8.5l.94-2.06 2.06-.94-2.06-.94L8.5 2.5l-.94 2.06-2.06.94zm10 10l.94 2.06.94-2.06 2.06-.94-2.06-.94-.94-2.06-.94 2.06-2.06.94z\"/><path d=\"M17.41 7.96l-1.37-1.37c-.4-.4-.92-.59-1.43-.59-.52 0-1.04.2-1.43.59L10.3 9.45l-7.72 7.72c-.78.78-.78 2.05 0 2.83L4 21.41c.39.39.9.59 1.41.59.51 0 1.02-.2 1.41-.59l7.78-7.78 2.81-2.81c.8-.78.8-2.07 0-2.86zM5.41 20L4 18.59l7.72-7.72 1.47 1.35L5.41 20z\"/>\n",
              "  </svg>\n",
              "      </button>\n",
              "      \n",
              "  <style>\n",
              "    .colab-df-container {\n",
              "      display:flex;\n",
              "      flex-wrap:wrap;\n",
              "      gap: 12px;\n",
              "    }\n",
              "\n",
              "    .colab-df-convert {\n",
              "      background-color: #E8F0FE;\n",
              "      border: none;\n",
              "      border-radius: 50%;\n",
              "      cursor: pointer;\n",
              "      display: none;\n",
              "      fill: #1967D2;\n",
              "      height: 32px;\n",
              "      padding: 0 0 0 0;\n",
              "      width: 32px;\n",
              "    }\n",
              "\n",
              "    .colab-df-convert:hover {\n",
              "      background-color: #E2EBFA;\n",
              "      box-shadow: 0px 1px 2px rgba(60, 64, 67, 0.3), 0px 1px 3px 1px rgba(60, 64, 67, 0.15);\n",
              "      fill: #174EA6;\n",
              "    }\n",
              "\n",
              "    [theme=dark] .colab-df-convert {\n",
              "      background-color: #3B4455;\n",
              "      fill: #D2E3FC;\n",
              "    }\n",
              "\n",
              "    [theme=dark] .colab-df-convert:hover {\n",
              "      background-color: #434B5C;\n",
              "      box-shadow: 0px 1px 3px 1px rgba(0, 0, 0, 0.15);\n",
              "      filter: drop-shadow(0px 1px 2px rgba(0, 0, 0, 0.3));\n",
              "      fill: #FFFFFF;\n",
              "    }\n",
              "  </style>\n",
              "\n",
              "      <script>\n",
              "        const buttonEl =\n",
              "          document.querySelector('#df-81e04e53-2b2f-400d-9a1a-c08c1d60a3dd button.colab-df-convert');\n",
              "        buttonEl.style.display =\n",
              "          google.colab.kernel.accessAllowed ? 'block' : 'none';\n",
              "\n",
              "        async function convertToInteractive(key) {\n",
              "          const element = document.querySelector('#df-81e04e53-2b2f-400d-9a1a-c08c1d60a3dd');\n",
              "          const dataTable =\n",
              "            await google.colab.kernel.invokeFunction('convertToInteractive',\n",
              "                                                     [key], {});\n",
              "          if (!dataTable) return;\n",
              "\n",
              "          const docLinkHtml = 'Like what you see? Visit the ' +\n",
              "            '<a target=\"_blank\" href=https://colab.research.google.com/notebooks/data_table.ipynb>data table notebook</a>'\n",
              "            + ' to learn more about interactive tables.';\n",
              "          element.innerHTML = '';\n",
              "          dataTable['output_type'] = 'display_data';\n",
              "          await google.colab.output.renderOutput(dataTable, element);\n",
              "          const docLink = document.createElement('div');\n",
              "          docLink.innerHTML = docLinkHtml;\n",
              "          element.appendChild(docLink);\n",
              "        }\n",
              "      </script>\n",
              "    </div>\n",
              "  </div>\n",
              "  "
            ]
          },
          "metadata": {},
          "execution_count": 30
        }
      ],
      "source": [
        "df_idf = pd.DataFrame(tfidf_transformer.idf_, index=cv.get_feature_names_out(), columns=[\"idf_weights\"]) \n",
        "df_idf.sort_values(by=['idf_weights'])"
      ]
    },
    {
      "cell_type": "code",
      "execution_count": null,
      "metadata": {
        "id": "stRG7qztasRM"
      },
      "outputs": [],
      "source": [
        "tf_idf_vector = tfidf_transformer.transform(word_count_vector)"
      ]
    },
    {
      "cell_type": "code",
      "execution_count": null,
      "metadata": {
        "id": "oZI3pKiRayLA"
      },
      "outputs": [],
      "source": [
        "feature_names = cv.get_feature_names_out() "
      ]
    },
    {
      "cell_type": "code",
      "execution_count": null,
      "metadata": {
        "id": "ZsPv3Yxxa-Au",
        "colab": {
          "base_uri": "https://localhost:8080/",
          "height": 424
        },
        "outputId": "9a9ab9ca-9a8f-47d1-b265-a55fed6ebea0"
      },
      "outputs": [
        {
          "output_type": "execute_result",
          "data": {
            "text/plain": [
              "                  tfidf\n",
              "money          0.323776\n",
              "need           0.323776\n",
              "realistically  0.161888\n",
              "spaced         0.161888\n",
              "single         0.161888\n",
              "...                 ...\n",
              "looking        0.000000\n",
              "luck           0.000000\n",
              "manhattan      0.000000\n",
              "agencies       0.000000\n",
              "work           0.000000\n",
              "\n",
              "[81 rows x 1 columns]"
            ],
            "text/html": [
              "\n",
              "  <div id=\"df-2e0327a5-b039-487b-ab97-d6453fa2c4c8\">\n",
              "    <div class=\"colab-df-container\">\n",
              "      <div>\n",
              "<style scoped>\n",
              "    .dataframe tbody tr th:only-of-type {\n",
              "        vertical-align: middle;\n",
              "    }\n",
              "\n",
              "    .dataframe tbody tr th {\n",
              "        vertical-align: top;\n",
              "    }\n",
              "\n",
              "    .dataframe thead th {\n",
              "        text-align: right;\n",
              "    }\n",
              "</style>\n",
              "<table border=\"1\" class=\"dataframe\">\n",
              "  <thead>\n",
              "    <tr style=\"text-align: right;\">\n",
              "      <th></th>\n",
              "      <th>tfidf</th>\n",
              "    </tr>\n",
              "  </thead>\n",
              "  <tbody>\n",
              "    <tr>\n",
              "      <th>money</th>\n",
              "      <td>0.323776</td>\n",
              "    </tr>\n",
              "    <tr>\n",
              "      <th>need</th>\n",
              "      <td>0.323776</td>\n",
              "    </tr>\n",
              "    <tr>\n",
              "      <th>realistically</th>\n",
              "      <td>0.161888</td>\n",
              "    </tr>\n",
              "    <tr>\n",
              "      <th>spaced</th>\n",
              "      <td>0.161888</td>\n",
              "    </tr>\n",
              "    <tr>\n",
              "      <th>single</th>\n",
              "      <td>0.161888</td>\n",
              "    </tr>\n",
              "    <tr>\n",
              "      <th>...</th>\n",
              "      <td>...</td>\n",
              "    </tr>\n",
              "    <tr>\n",
              "      <th>looking</th>\n",
              "      <td>0.000000</td>\n",
              "    </tr>\n",
              "    <tr>\n",
              "      <th>luck</th>\n",
              "      <td>0.000000</td>\n",
              "    </tr>\n",
              "    <tr>\n",
              "      <th>manhattan</th>\n",
              "      <td>0.000000</td>\n",
              "    </tr>\n",
              "    <tr>\n",
              "      <th>agencies</th>\n",
              "      <td>0.000000</td>\n",
              "    </tr>\n",
              "    <tr>\n",
              "      <th>work</th>\n",
              "      <td>0.000000</td>\n",
              "    </tr>\n",
              "  </tbody>\n",
              "</table>\n",
              "<p>81 rows × 1 columns</p>\n",
              "</div>\n",
              "      <button class=\"colab-df-convert\" onclick=\"convertToInteractive('df-2e0327a5-b039-487b-ab97-d6453fa2c4c8')\"\n",
              "              title=\"Convert this dataframe to an interactive table.\"\n",
              "              style=\"display:none;\">\n",
              "        \n",
              "  <svg xmlns=\"http://www.w3.org/2000/svg\" height=\"24px\"viewBox=\"0 0 24 24\"\n",
              "       width=\"24px\">\n",
              "    <path d=\"M0 0h24v24H0V0z\" fill=\"none\"/>\n",
              "    <path d=\"M18.56 5.44l.94 2.06.94-2.06 2.06-.94-2.06-.94-.94-2.06-.94 2.06-2.06.94zm-11 1L8.5 8.5l.94-2.06 2.06-.94-2.06-.94L8.5 2.5l-.94 2.06-2.06.94zm10 10l.94 2.06.94-2.06 2.06-.94-2.06-.94-.94-2.06-.94 2.06-2.06.94z\"/><path d=\"M17.41 7.96l-1.37-1.37c-.4-.4-.92-.59-1.43-.59-.52 0-1.04.2-1.43.59L10.3 9.45l-7.72 7.72c-.78.78-.78 2.05 0 2.83L4 21.41c.39.39.9.59 1.41.59.51 0 1.02-.2 1.41-.59l7.78-7.78 2.81-2.81c.8-.78.8-2.07 0-2.86zM5.41 20L4 18.59l7.72-7.72 1.47 1.35L5.41 20z\"/>\n",
              "  </svg>\n",
              "      </button>\n",
              "      \n",
              "  <style>\n",
              "    .colab-df-container {\n",
              "      display:flex;\n",
              "      flex-wrap:wrap;\n",
              "      gap: 12px;\n",
              "    }\n",
              "\n",
              "    .colab-df-convert {\n",
              "      background-color: #E8F0FE;\n",
              "      border: none;\n",
              "      border-radius: 50%;\n",
              "      cursor: pointer;\n",
              "      display: none;\n",
              "      fill: #1967D2;\n",
              "      height: 32px;\n",
              "      padding: 0 0 0 0;\n",
              "      width: 32px;\n",
              "    }\n",
              "\n",
              "    .colab-df-convert:hover {\n",
              "      background-color: #E2EBFA;\n",
              "      box-shadow: 0px 1px 2px rgba(60, 64, 67, 0.3), 0px 1px 3px 1px rgba(60, 64, 67, 0.15);\n",
              "      fill: #174EA6;\n",
              "    }\n",
              "\n",
              "    [theme=dark] .colab-df-convert {\n",
              "      background-color: #3B4455;\n",
              "      fill: #D2E3FC;\n",
              "    }\n",
              "\n",
              "    [theme=dark] .colab-df-convert:hover {\n",
              "      background-color: #434B5C;\n",
              "      box-shadow: 0px 1px 3px 1px rgba(0, 0, 0, 0.15);\n",
              "      filter: drop-shadow(0px 1px 2px rgba(0, 0, 0, 0.3));\n",
              "      fill: #FFFFFF;\n",
              "    }\n",
              "  </style>\n",
              "\n",
              "      <script>\n",
              "        const buttonEl =\n",
              "          document.querySelector('#df-2e0327a5-b039-487b-ab97-d6453fa2c4c8 button.colab-df-convert');\n",
              "        buttonEl.style.display =\n",
              "          google.colab.kernel.accessAllowed ? 'block' : 'none';\n",
              "\n",
              "        async function convertToInteractive(key) {\n",
              "          const element = document.querySelector('#df-2e0327a5-b039-487b-ab97-d6453fa2c4c8');\n",
              "          const dataTable =\n",
              "            await google.colab.kernel.invokeFunction('convertToInteractive',\n",
              "                                                     [key], {});\n",
              "          if (!dataTable) return;\n",
              "\n",
              "          const docLinkHtml = 'Like what you see? Visit the ' +\n",
              "            '<a target=\"_blank\" href=https://colab.research.google.com/notebooks/data_table.ipynb>data table notebook</a>'\n",
              "            + ' to learn more about interactive tables.';\n",
              "          element.innerHTML = '';\n",
              "          dataTable['output_type'] = 'display_data';\n",
              "          await google.colab.output.renderOutput(dataTable, element);\n",
              "          const docLink = document.createElement('div');\n",
              "          docLink.innerHTML = docLinkHtml;\n",
              "          element.appendChild(docLink);\n",
              "        }\n",
              "      </script>\n",
              "    </div>\n",
              "  </div>\n",
              "  "
            ]
          },
          "metadata": {},
          "execution_count": 58
        }
      ],
      "source": [
        "df = pd.DataFrame(tf_idf_vector[2].T.todense(), index=feature_names, columns=[\"tfidf\"]) \n",
        "df.sort_values(by=[\"tfidf\"], ascending=False)"
      ]
    },
    {
      "cell_type": "markdown",
      "metadata": {
        "id": "Ekef9sNGbE5F"
      },
      "source": [
        "The most unique \"relevant\" words to these three given documents are: \"money\" and \"need.\" Words like \"work,\" \"agencies,\" \"manhattan\" are at the bottom. \n",
        "\n",
        "We will apply this method to the rest of the corpus later.\n"
      ]
    },
    {
      "cell_type": "markdown",
      "source": [
        "### Looking at concordance & collocation of lemmas with TFIDF > 0.1 "
      ],
      "metadata": {
        "id": "YDiXnnyMlPyx"
      }
    },
    {
      "cell_type": "code",
      "source": [
        "#Looking at TFIDF scores of words with TFIDF> 0.1\n",
        "\n",
        "df_top = df.loc[df['tfidf'] >= 0.1, :]\n",
        "Top_TFIDF=df_top.sort_values(by=[\"tfidf\"], ascending=False)\n",
        "Top_TFIDF = Top_TFIDF.rename(columns={0:'lemma',1:'TFIDF'}) #not working \n",
        "Top_TFIDF"
      ],
      "metadata": {
        "id": "XeF5zKaAlZXs",
        "colab": {
          "base_uri": "https://localhost:8080/",
          "height": 1000
        },
        "outputId": "6835e0af-eafe-46db-d78a-af50b6a7f234"
      },
      "execution_count": null,
      "outputs": [
        {
          "output_type": "execute_result",
          "data": {
            "text/plain": [
              "                  tfidf\n",
              "need           0.323776\n",
              "money          0.323776\n",
              "agent          0.161888\n",
              "saying         0.161888\n",
              "realistically  0.161888\n",
              "red            0.161888\n",
              "registering    0.161888\n",
              "say            0.161888\n",
              "single         0.161888\n",
              "professional   0.161888\n",
              "spaced         0.161888\n",
              "submitted      0.161888\n",
              "submitting     0.161888\n",
              "things         0.161888\n",
              "upfront        0.161888\n",
              "vs             0.161888\n",
              "rarely         0.161888\n",
              "paying         0.161888\n",
              "play           0.161888\n",
              "author         0.161888\n",
              "pay            0.161888\n",
              "orange         0.161888\n",
              "nonstandard    0.161888\n",
              "manuscript     0.161888\n",
              "like           0.161888\n",
              "flags          0.161888\n",
              "difference     0.161888\n",
              "cost           0.161888\n",
              "copyright      0.161888\n",
              "comes          0.161888\n",
              "wanting        0.161888\n",
              "editing        0.123120\n",
              "big            0.123120"
            ],
            "text/html": [
              "\n",
              "  <div id=\"df-139a93c5-a31c-4764-8c5f-3dee82e3bc20\">\n",
              "    <div class=\"colab-df-container\">\n",
              "      <div>\n",
              "<style scoped>\n",
              "    .dataframe tbody tr th:only-of-type {\n",
              "        vertical-align: middle;\n",
              "    }\n",
              "\n",
              "    .dataframe tbody tr th {\n",
              "        vertical-align: top;\n",
              "    }\n",
              "\n",
              "    .dataframe thead th {\n",
              "        text-align: right;\n",
              "    }\n",
              "</style>\n",
              "<table border=\"1\" class=\"dataframe\">\n",
              "  <thead>\n",
              "    <tr style=\"text-align: right;\">\n",
              "      <th></th>\n",
              "      <th>tfidf</th>\n",
              "    </tr>\n",
              "  </thead>\n",
              "  <tbody>\n",
              "    <tr>\n",
              "      <th>need</th>\n",
              "      <td>0.323776</td>\n",
              "    </tr>\n",
              "    <tr>\n",
              "      <th>money</th>\n",
              "      <td>0.323776</td>\n",
              "    </tr>\n",
              "    <tr>\n",
              "      <th>agent</th>\n",
              "      <td>0.161888</td>\n",
              "    </tr>\n",
              "    <tr>\n",
              "      <th>saying</th>\n",
              "      <td>0.161888</td>\n",
              "    </tr>\n",
              "    <tr>\n",
              "      <th>realistically</th>\n",
              "      <td>0.161888</td>\n",
              "    </tr>\n",
              "    <tr>\n",
              "      <th>red</th>\n",
              "      <td>0.161888</td>\n",
              "    </tr>\n",
              "    <tr>\n",
              "      <th>registering</th>\n",
              "      <td>0.161888</td>\n",
              "    </tr>\n",
              "    <tr>\n",
              "      <th>say</th>\n",
              "      <td>0.161888</td>\n",
              "    </tr>\n",
              "    <tr>\n",
              "      <th>single</th>\n",
              "      <td>0.161888</td>\n",
              "    </tr>\n",
              "    <tr>\n",
              "      <th>professional</th>\n",
              "      <td>0.161888</td>\n",
              "    </tr>\n",
              "    <tr>\n",
              "      <th>spaced</th>\n",
              "      <td>0.161888</td>\n",
              "    </tr>\n",
              "    <tr>\n",
              "      <th>submitted</th>\n",
              "      <td>0.161888</td>\n",
              "    </tr>\n",
              "    <tr>\n",
              "      <th>submitting</th>\n",
              "      <td>0.161888</td>\n",
              "    </tr>\n",
              "    <tr>\n",
              "      <th>things</th>\n",
              "      <td>0.161888</td>\n",
              "    </tr>\n",
              "    <tr>\n",
              "      <th>upfront</th>\n",
              "      <td>0.161888</td>\n",
              "    </tr>\n",
              "    <tr>\n",
              "      <th>vs</th>\n",
              "      <td>0.161888</td>\n",
              "    </tr>\n",
              "    <tr>\n",
              "      <th>rarely</th>\n",
              "      <td>0.161888</td>\n",
              "    </tr>\n",
              "    <tr>\n",
              "      <th>paying</th>\n",
              "      <td>0.161888</td>\n",
              "    </tr>\n",
              "    <tr>\n",
              "      <th>play</th>\n",
              "      <td>0.161888</td>\n",
              "    </tr>\n",
              "    <tr>\n",
              "      <th>author</th>\n",
              "      <td>0.161888</td>\n",
              "    </tr>\n",
              "    <tr>\n",
              "      <th>pay</th>\n",
              "      <td>0.161888</td>\n",
              "    </tr>\n",
              "    <tr>\n",
              "      <th>orange</th>\n",
              "      <td>0.161888</td>\n",
              "    </tr>\n",
              "    <tr>\n",
              "      <th>nonstandard</th>\n",
              "      <td>0.161888</td>\n",
              "    </tr>\n",
              "    <tr>\n",
              "      <th>manuscript</th>\n",
              "      <td>0.161888</td>\n",
              "    </tr>\n",
              "    <tr>\n",
              "      <th>like</th>\n",
              "      <td>0.161888</td>\n",
              "    </tr>\n",
              "    <tr>\n",
              "      <th>flags</th>\n",
              "      <td>0.161888</td>\n",
              "    </tr>\n",
              "    <tr>\n",
              "      <th>difference</th>\n",
              "      <td>0.161888</td>\n",
              "    </tr>\n",
              "    <tr>\n",
              "      <th>cost</th>\n",
              "      <td>0.161888</td>\n",
              "    </tr>\n",
              "    <tr>\n",
              "      <th>copyright</th>\n",
              "      <td>0.161888</td>\n",
              "    </tr>\n",
              "    <tr>\n",
              "      <th>comes</th>\n",
              "      <td>0.161888</td>\n",
              "    </tr>\n",
              "    <tr>\n",
              "      <th>wanting</th>\n",
              "      <td>0.161888</td>\n",
              "    </tr>\n",
              "    <tr>\n",
              "      <th>editing</th>\n",
              "      <td>0.123120</td>\n",
              "    </tr>\n",
              "    <tr>\n",
              "      <th>big</th>\n",
              "      <td>0.123120</td>\n",
              "    </tr>\n",
              "  </tbody>\n",
              "</table>\n",
              "</div>\n",
              "      <button class=\"colab-df-convert\" onclick=\"convertToInteractive('df-139a93c5-a31c-4764-8c5f-3dee82e3bc20')\"\n",
              "              title=\"Convert this dataframe to an interactive table.\"\n",
              "              style=\"display:none;\">\n",
              "        \n",
              "  <svg xmlns=\"http://www.w3.org/2000/svg\" height=\"24px\"viewBox=\"0 0 24 24\"\n",
              "       width=\"24px\">\n",
              "    <path d=\"M0 0h24v24H0V0z\" fill=\"none\"/>\n",
              "    <path d=\"M18.56 5.44l.94 2.06.94-2.06 2.06-.94-2.06-.94-.94-2.06-.94 2.06-2.06.94zm-11 1L8.5 8.5l.94-2.06 2.06-.94-2.06-.94L8.5 2.5l-.94 2.06-2.06.94zm10 10l.94 2.06.94-2.06 2.06-.94-2.06-.94-.94-2.06-.94 2.06-2.06.94z\"/><path d=\"M17.41 7.96l-1.37-1.37c-.4-.4-.92-.59-1.43-.59-.52 0-1.04.2-1.43.59L10.3 9.45l-7.72 7.72c-.78.78-.78 2.05 0 2.83L4 21.41c.39.39.9.59 1.41.59.51 0 1.02-.2 1.41-.59l7.78-7.78 2.81-2.81c.8-.78.8-2.07 0-2.86zM5.41 20L4 18.59l7.72-7.72 1.47 1.35L5.41 20z\"/>\n",
              "  </svg>\n",
              "      </button>\n",
              "      \n",
              "  <style>\n",
              "    .colab-df-container {\n",
              "      display:flex;\n",
              "      flex-wrap:wrap;\n",
              "      gap: 12px;\n",
              "    }\n",
              "\n",
              "    .colab-df-convert {\n",
              "      background-color: #E8F0FE;\n",
              "      border: none;\n",
              "      border-radius: 50%;\n",
              "      cursor: pointer;\n",
              "      display: none;\n",
              "      fill: #1967D2;\n",
              "      height: 32px;\n",
              "      padding: 0 0 0 0;\n",
              "      width: 32px;\n",
              "    }\n",
              "\n",
              "    .colab-df-convert:hover {\n",
              "      background-color: #E2EBFA;\n",
              "      box-shadow: 0px 1px 2px rgba(60, 64, 67, 0.3), 0px 1px 3px 1px rgba(60, 64, 67, 0.15);\n",
              "      fill: #174EA6;\n",
              "    }\n",
              "\n",
              "    [theme=dark] .colab-df-convert {\n",
              "      background-color: #3B4455;\n",
              "      fill: #D2E3FC;\n",
              "    }\n",
              "\n",
              "    [theme=dark] .colab-df-convert:hover {\n",
              "      background-color: #434B5C;\n",
              "      box-shadow: 0px 1px 3px 1px rgba(0, 0, 0, 0.15);\n",
              "      filter: drop-shadow(0px 1px 2px rgba(0, 0, 0, 0.3));\n",
              "      fill: #FFFFFF;\n",
              "    }\n",
              "  </style>\n",
              "\n",
              "      <script>\n",
              "        const buttonEl =\n",
              "          document.querySelector('#df-139a93c5-a31c-4764-8c5f-3dee82e3bc20 button.colab-df-convert');\n",
              "        buttonEl.style.display =\n",
              "          google.colab.kernel.accessAllowed ? 'block' : 'none';\n",
              "\n",
              "        async function convertToInteractive(key) {\n",
              "          const element = document.querySelector('#df-139a93c5-a31c-4764-8c5f-3dee82e3bc20');\n",
              "          const dataTable =\n",
              "            await google.colab.kernel.invokeFunction('convertToInteractive',\n",
              "                                                     [key], {});\n",
              "          if (!dataTable) return;\n",
              "\n",
              "          const docLinkHtml = 'Like what you see? Visit the ' +\n",
              "            '<a target=\"_blank\" href=https://colab.research.google.com/notebooks/data_table.ipynb>data table notebook</a>'\n",
              "            + ' to learn more about interactive tables.';\n",
              "          element.innerHTML = '';\n",
              "          dataTable['output_type'] = 'display_data';\n",
              "          await google.colab.output.renderOutput(dataTable, element);\n",
              "          const docLink = document.createElement('div');\n",
              "          docLink.innerHTML = docLinkHtml;\n",
              "          element.appendChild(docLink);\n",
              "        }\n",
              "      </script>\n",
              "    </div>\n",
              "  </div>\n",
              "  "
            ]
          },
          "metadata": {},
          "execution_count": 59
        }
      ]
    },
    {
      "cell_type": "code",
      "source": [
        "Top_TFIDF[['tfidf']].head()"
      ],
      "metadata": {
        "id": "orECgBoIqk3o",
        "colab": {
          "base_uri": "https://localhost:8080/",
          "height": 206
        },
        "outputId": "51384a01-8fad-482d-f79f-5bfdfce0c956"
      },
      "execution_count": null,
      "outputs": [
        {
          "output_type": "execute_result",
          "data": {
            "text/plain": [
              "                  tfidf\n",
              "need           0.323776\n",
              "money          0.323776\n",
              "agent          0.161888\n",
              "saying         0.161888\n",
              "realistically  0.161888"
            ],
            "text/html": [
              "\n",
              "  <div id=\"df-93729c70-cf17-4f6a-9ca5-7972482e1567\">\n",
              "    <div class=\"colab-df-container\">\n",
              "      <div>\n",
              "<style scoped>\n",
              "    .dataframe tbody tr th:only-of-type {\n",
              "        vertical-align: middle;\n",
              "    }\n",
              "\n",
              "    .dataframe tbody tr th {\n",
              "        vertical-align: top;\n",
              "    }\n",
              "\n",
              "    .dataframe thead th {\n",
              "        text-align: right;\n",
              "    }\n",
              "</style>\n",
              "<table border=\"1\" class=\"dataframe\">\n",
              "  <thead>\n",
              "    <tr style=\"text-align: right;\">\n",
              "      <th></th>\n",
              "      <th>tfidf</th>\n",
              "    </tr>\n",
              "  </thead>\n",
              "  <tbody>\n",
              "    <tr>\n",
              "      <th>need</th>\n",
              "      <td>0.323776</td>\n",
              "    </tr>\n",
              "    <tr>\n",
              "      <th>money</th>\n",
              "      <td>0.323776</td>\n",
              "    </tr>\n",
              "    <tr>\n",
              "      <th>agent</th>\n",
              "      <td>0.161888</td>\n",
              "    </tr>\n",
              "    <tr>\n",
              "      <th>saying</th>\n",
              "      <td>0.161888</td>\n",
              "    </tr>\n",
              "    <tr>\n",
              "      <th>realistically</th>\n",
              "      <td>0.161888</td>\n",
              "    </tr>\n",
              "  </tbody>\n",
              "</table>\n",
              "</div>\n",
              "      <button class=\"colab-df-convert\" onclick=\"convertToInteractive('df-93729c70-cf17-4f6a-9ca5-7972482e1567')\"\n",
              "              title=\"Convert this dataframe to an interactive table.\"\n",
              "              style=\"display:none;\">\n",
              "        \n",
              "  <svg xmlns=\"http://www.w3.org/2000/svg\" height=\"24px\"viewBox=\"0 0 24 24\"\n",
              "       width=\"24px\">\n",
              "    <path d=\"M0 0h24v24H0V0z\" fill=\"none\"/>\n",
              "    <path d=\"M18.56 5.44l.94 2.06.94-2.06 2.06-.94-2.06-.94-.94-2.06-.94 2.06-2.06.94zm-11 1L8.5 8.5l.94-2.06 2.06-.94-2.06-.94L8.5 2.5l-.94 2.06-2.06.94zm10 10l.94 2.06.94-2.06 2.06-.94-2.06-.94-.94-2.06-.94 2.06-2.06.94z\"/><path d=\"M17.41 7.96l-1.37-1.37c-.4-.4-.92-.59-1.43-.59-.52 0-1.04.2-1.43.59L10.3 9.45l-7.72 7.72c-.78.78-.78 2.05 0 2.83L4 21.41c.39.39.9.59 1.41.59.51 0 1.02-.2 1.41-.59l7.78-7.78 2.81-2.81c.8-.78.8-2.07 0-2.86zM5.41 20L4 18.59l7.72-7.72 1.47 1.35L5.41 20z\"/>\n",
              "  </svg>\n",
              "      </button>\n",
              "      \n",
              "  <style>\n",
              "    .colab-df-container {\n",
              "      display:flex;\n",
              "      flex-wrap:wrap;\n",
              "      gap: 12px;\n",
              "    }\n",
              "\n",
              "    .colab-df-convert {\n",
              "      background-color: #E8F0FE;\n",
              "      border: none;\n",
              "      border-radius: 50%;\n",
              "      cursor: pointer;\n",
              "      display: none;\n",
              "      fill: #1967D2;\n",
              "      height: 32px;\n",
              "      padding: 0 0 0 0;\n",
              "      width: 32px;\n",
              "    }\n",
              "\n",
              "    .colab-df-convert:hover {\n",
              "      background-color: #E2EBFA;\n",
              "      box-shadow: 0px 1px 2px rgba(60, 64, 67, 0.3), 0px 1px 3px 1px rgba(60, 64, 67, 0.15);\n",
              "      fill: #174EA6;\n",
              "    }\n",
              "\n",
              "    [theme=dark] .colab-df-convert {\n",
              "      background-color: #3B4455;\n",
              "      fill: #D2E3FC;\n",
              "    }\n",
              "\n",
              "    [theme=dark] .colab-df-convert:hover {\n",
              "      background-color: #434B5C;\n",
              "      box-shadow: 0px 1px 3px 1px rgba(0, 0, 0, 0.15);\n",
              "      filter: drop-shadow(0px 1px 2px rgba(0, 0, 0, 0.3));\n",
              "      fill: #FFFFFF;\n",
              "    }\n",
              "  </style>\n",
              "\n",
              "      <script>\n",
              "        const buttonEl =\n",
              "          document.querySelector('#df-93729c70-cf17-4f6a-9ca5-7972482e1567 button.colab-df-convert');\n",
              "        buttonEl.style.display =\n",
              "          google.colab.kernel.accessAllowed ? 'block' : 'none';\n",
              "\n",
              "        async function convertToInteractive(key) {\n",
              "          const element = document.querySelector('#df-93729c70-cf17-4f6a-9ca5-7972482e1567');\n",
              "          const dataTable =\n",
              "            await google.colab.kernel.invokeFunction('convertToInteractive',\n",
              "                                                     [key], {});\n",
              "          if (!dataTable) return;\n",
              "\n",
              "          const docLinkHtml = 'Like what you see? Visit the ' +\n",
              "            '<a target=\"_blank\" href=https://colab.research.google.com/notebooks/data_table.ipynb>data table notebook</a>'\n",
              "            + ' to learn more about interactive tables.';\n",
              "          element.innerHTML = '';\n",
              "          dataTable['output_type'] = 'display_data';\n",
              "          await google.colab.output.renderOutput(dataTable, element);\n",
              "          const docLink = document.createElement('div');\n",
              "          docLink.innerHTML = docLinkHtml;\n",
              "          element.appendChild(docLink);\n",
              "        }\n",
              "      </script>\n",
              "    </div>\n",
              "  </div>\n",
              "  "
            ]
          },
          "metadata": {},
          "execution_count": 35
        }
      ]
    },
    {
      "cell_type": "code",
      "source": [
        "len(df_top)\n",
        "\n",
        "#33 words with TFIDF >0.1 (we can change this value: it was just seeing the drop between the highest two (0.32) and other scores (0.16))\n"
      ],
      "metadata": {
        "id": "DMHQ5TYwl2av",
        "colab": {
          "base_uri": "https://localhost:8080/"
        },
        "outputId": "92f19991-e26a-4424-e70f-ebe1a3d55d27"
      },
      "execution_count": null,
      "outputs": [
        {
          "output_type": "execute_result",
          "data": {
            "text/plain": [
              "33"
            ]
          },
          "metadata": {},
          "execution_count": 36
        }
      ]
    },
    {
      "cell_type": "code",
      "source": [
        "#looking at concordance of lemmas with TFIDF >0.1\n",
        "aita_tokens.concordance('need', width=75)"
      ],
      "metadata": {
        "id": "W4doA5gOmZOb",
        "colab": {
          "base_uri": "https://localhost:8080/"
        },
        "outputId": "8c7ecbd4-1f39-4993-839e-5787ce7c7c38"
      },
      "execution_count": null,
      "outputs": [
        {
          "output_type": "stream",
          "name": "stdout",
          "text": [
            "Displaying 25 of 546 matches:\n",
            "iting usual catch-22 hold true job need experience experience need job fin\n",
            "rue job need experience experience need job find entry_level work prove di\n",
            "ost profit photo try profit report need short excerpt thank use microsoft \n",
            "good special character cause issue need able import word file website use \n",
            "ication ambitious thing look thing need work start thank reading edit than\n",
            "guess question advice protect work need agent know good reputable publishe\n",
            " business fresh high_school wonder need protect business world register tm\n",
            "retty impulsive life decision feel need dream work major publishing house \n",
            " letter press relatively short run need register tax d po box pruchase isb\n",
            "io book id like step prepare print need budget cost printer shipping marke\n",
            "rinting book supplier photographic need print decently decent paper aware \n",
            "ssible canada know publish uk hear need agent true good way like lot poste\n",
            "lishing digital sure viable option need agent order able apply lot big pub\n",
            "ample run september month magazine need boot ground support sell ad space \n",
            "elp contact website email let know need information company help advice ad\n",
            "ning win year later story complete need little help publish kind visit ind\n",
            " tell important happen thing april need mail post right oh invite friend c\n",
            "d innovative graphic_designer want need designer look current logo http://\n",
            "d innovative graphic_designer want need designer look current logo http://\n",
            "ted book massive commercial appeal need advice representation agent idea t\n",
            " contract decide royalty fee thing need work artist graduate july creative\n",
            "come true!central location aka car need public transportation let know guy\n",
            "sive app order publish ios android need app want people read magazine mana\n",
            "major publisher confused apple set need build app publish pdf news stand l\n",
            "iness download way virus deliver u need extra software double size plus mo\n"
          ]
        }
      ]
    },
    {
      "cell_type": "code",
      "source": [
        "#for i, tokens in enumerate(tokens):\n",
        "    #print(i, tokens)"
      ],
      "metadata": {
        "id": "2wAGH7xkoE2v"
      },
      "execution_count": null,
      "outputs": []
    },
    {
      "cell_type": "markdown",
      "source": [
        "### Using TF-IDF on Reddit Datasets (Entire Corpus)"
      ],
      "metadata": {
        "id": "QSx4I0MGtDVG"
      }
    },
    {
      "cell_type": "markdown",
      "source": [
        "First, we'll do the posts.-JP"
      ],
      "metadata": {
        "id": "8vXCH2600cUa"
      }
    },
    {
      "cell_type": "code",
      "source": [
        "from sklearn.feature_extraction.text import TfidfVectorizer\n",
        "\n",
        "# Settings that you use for count vectorizer will go here\n",
        "tfidf_vectorizer = TfidfVectorizer(max_df=0.85,\n",
        "                                   decode_error='ignore',\n",
        "                                   stop_words='english',\n",
        "                                   smooth_idf=True,\n",
        "                                   use_idf=True)\n",
        "\n",
        "# Fit and transform the lemmas\n",
        "tfidf_posts = tfidf_vectorizer.fit_transform(df_posts_noBlanks['lemmas'])"
      ],
      "metadata": {
        "id": "pukzfGhitIFG"
      },
      "execution_count": 95,
      "outputs": []
    },
    {
      "cell_type": "code",
      "source": [
        "# Place TF-IDF values in a DataFrame\n",
        "df_posts = pd.DataFrame(tfidf_posts.todense(), columns=tfidf_vectorizer.get_feature_names_out().ravel())"
      ],
      "metadata": {
        "id": "xMB7BxVEvoxG"
      },
      "execution_count": 96,
      "outputs": []
    },
    {
      "cell_type": "code",
      "source": [
        "# Highest TF-IDF values across documents\n",
        "df_posts.sum().sort_values(ascending=False)"
      ],
      "metadata": {
        "id": "D6c4pVYSvx6a",
        "colab": {
          "base_uri": "https://localhost:8080/"
        },
        "outputId": "fac77391-e4a5-4f8d-bad2-a3b7a60939ac"
      },
      "execution_count": 97,
      "outputs": [
        {
          "output_type": "execute_result",
          "data": {
            "text/plain": [
              "book          134.699767\n",
              "publish        93.519913\n",
              "publishing     79.397715\n",
              "work           73.550153\n",
              "like           66.888776\n",
              "                 ...    \n",
              "detect          0.023956\n",
              "dignitary       0.023956\n",
              "quantum         0.023956\n",
              "suspicion       0.023956\n",
              "density         0.023956\n",
              "Length: 10512, dtype: float64"
            ]
          },
          "metadata": {},
          "execution_count": 97
        }
      ]
    },
    {
      "cell_type": "markdown",
      "source": [
        "Next, we'll do the comments.-JP"
      ],
      "metadata": {
        "id": "k65N1tOE0jot"
      }
    },
    {
      "cell_type": "code",
      "source": [
        "tfidf_comments = tfidf_vectorizer.fit_transform(df_comments_noBlanks['lemmas'])"
      ],
      "metadata": {
        "id": "lZjI75JX0nYv"
      },
      "execution_count": 98,
      "outputs": []
    },
    {
      "cell_type": "code",
      "source": [
        "df_comments = pd.DataFrame(tfidf_comments.todense(), columns=tfidf_vectorizer.get_feature_names_out().ravel())"
      ],
      "metadata": {
        "id": "ydI1MAPX030-"
      },
      "execution_count": null,
      "outputs": []
    },
    {
      "cell_type": "code",
      "source": [
        "df_comments.sum().sort_values(ascending=False)"
      ],
      "metadata": {
        "id": "GgRMTs0X1SRP",
        "colab": {
          "base_uri": "https://localhost:8080/"
        },
        "outputId": "42459cab-e24a-4958-ab10-67f6b6130895"
      },
      "execution_count": 99,
      "outputs": [
        {
          "output_type": "execute_result",
          "data": {
            "text/plain": [
              "thank                752.476385\n",
              "book                 682.019698\n",
              "publisher            445.907595\n",
              "work                 441.302262\n",
              "publish              429.403000\n",
              "                        ...    \n",
              "generatorwelsh         0.021451\n",
              "generatoritalian       0.021451\n",
              "generatorchinese       0.021451\n",
              "generatorcornish       0.021451\n",
              "generatoralbanian      0.021451\n",
              "Length: 20567, dtype: float64"
            ]
          },
          "metadata": {},
          "execution_count": 99
        }
      ]
    },
    {
      "cell_type": "markdown",
      "source": [
        "# Building Topic Modeling on r/publishing"
      ],
      "metadata": {
        "id": "G7DiJZNOvihb"
      }
    },
    {
      "cell_type": "markdown",
      "source": [
        "### Latent Dirichlet Allocation (LDA)"
      ],
      "metadata": {
        "id": "bEb60JLCW0BL"
      }
    },
    {
      "cell_type": "code",
      "source": [
        "import os\n",
        "import matplotlib.pyplot as plt\n",
        "import numpy as np\n",
        "import pandas as pd\n",
        "\n",
        "%matplotlib inline"
      ],
      "metadata": {
        "id": "Ok764ijsV3Qu"
      },
      "execution_count": 137,
      "outputs": []
    },
    {
      "cell_type": "code",
      "source": [
        "# create TF-IDF matrix\n",
        "from sklearn.feature_extraction.text import TfidfVectorizer\n",
        "\n",
        "# Vectorize, using only the top 5000 TF-IDF values\n",
        "vectorizer = TfidfVectorizer(max_features=5000)\n",
        "\n",
        "#X_comments = df_comments_noBlanks['lemmas']\n",
        "X_posts = df_posts_noBlanks['lemmas']\n",
        "\n",
        "#tfidf_comments =  vectorizer.fit_transform(X_comments)\n",
        "tfidf_posts =  vectorizer.fit_transform(X_posts)"
      ],
      "metadata": {
        "id": "ETlhlPNI_nuy"
      },
      "execution_count": 138,
      "outputs": []
    },
    {
      "cell_type": "code",
      "source": [
        "# apply LDA model to posts and comments (this takes a while)\n",
        "from sklearn.decomposition import LatentDirichletAllocation"
      ],
      "metadata": {
        "id": "AnD9bXvsZJ1r"
      },
      "execution_count": 139,
      "outputs": []
    },
    {
      "cell_type": "code",
      "source": [
        "lda = LatentDirichletAllocation(n_components=5, max_iter=20, random_state=0)\n",
        "lda_posts = lda.fit(tfidf_posts)"
      ],
      "metadata": {
        "id": "sh8H6nlXFLVh"
      },
      "execution_count": 140,
      "outputs": []
    },
    {
      "cell_type": "code",
      "source": [
        "# function to plot the words for each topic:\n",
        "def plot_top_words(model, feature_names, n_top_words=10, n_row=1, n_col=5, normalize=False):\n",
        "    \"\"\"Plot the top words for an LDA model.\n",
        "    \n",
        "    Parameters\n",
        "    ----------\n",
        "    model : LatentDirichletAllocation object\n",
        "        The trained LDA model.\n",
        "    feature_names : list\n",
        "        A list of strings containing the feature names.\n",
        "    n_top_words : int\n",
        "        The number of top words to show for each topic.\n",
        "    n_row : int\n",
        "        The number of rows to use in the subplots.\n",
        "    n_col : int\n",
        "        The number of columns to use in the subplots.\n",
        "    normalize : bool\n",
        "        If True, normalizes the topic model weights.\n",
        "    \"\"\"\n",
        "    fig, axes = plt.subplots(n_row, n_col, figsize=(3 * n_col, 5 * n_row), sharex=True)\n",
        "    axes = axes.flatten()\n",
        "    components = model.components_\n",
        "    if normalize:\n",
        "        components = components / components.sum(axis=1)[:, np.newaxis]\n",
        "\n",
        "    for topic_idx, topic in enumerate(components):\n",
        "        top_features_ind = topic.argsort()[: -n_top_words - 1 : -1]\n",
        "        top_features = [feature_names[i] for i in top_features_ind]\n",
        "        weights = topic[top_features_ind]\n",
        "\n",
        "        ax = axes[topic_idx]\n",
        "        ax.barh(top_features, weights, height=0.7)\n",
        "        ax.set_title(f\"Topic {topic_idx +1}\", fontdict={\"fontsize\": 20})\n",
        "        ax.invert_yaxis()\n",
        "        ax.tick_params(axis=\"both\", which=\"major\", labelsize=20)\n",
        "\n",
        "        for i in \"top right left\".split():\n",
        "            ax.spines[i].set_visible(False)\n",
        "\n",
        "    plt.subplots_adjust(top=0.90, bottom=0.05, wspace=0.90, hspace=0.3)\n",
        "\n",
        "    return fig, axes"
      ],
      "metadata": {
        "id": "ovCHDyHTty4L"
      },
      "execution_count": 141,
      "outputs": []
    },
    {
      "cell_type": "code",
      "source": [
        "token_names = vectorizer.get_feature_names_out()\n",
        "plot_top_words(lda_posts, token_names,20, 1, 5)\n",
        "plt.show()"
      ],
      "metadata": {
        "colab": {
          "base_uri": "https://localhost:8080/",
          "height": 384
        },
        "id": "eiVwrZPWDWFT",
        "outputId": "f8d0c684-14f3-4b53-e9e3-a71c741970d2"
      },
      "execution_count": 142,
      "outputs": [
        {
          "output_type": "display_data",
          "data": {
            "text/plain": [
              "<Figure size 1080x360 with 5 Axes>"
            ],
            "image/png": "[encoded data removed]"
          },
          "metadata": {
            "needs_background": "light"
          }
        }
      ]
    },
    {
      "cell_type": "markdown",
      "source": [
        "### Topic Weight Across Documents"
      ],
      "metadata": {
        "id": "liNFzicZDOhX"
      }
    },
    {
      "cell_type": "code",
      "source": [
        "# only work with posts\n",
        "lda = LatentDirichletAllocation(n_components=5, max_iter=20, random_state=0)\n",
        "lda_posts = lda.fit(tfidf_posts)\n",
        "topic_distributions = lda.transform(tfidf_posts)"
      ],
      "metadata": {
        "id": "WeJaLjT1BYxw"
      },
      "execution_count": 143,
      "outputs": []
    },
    {
      "cell_type": "code",
      "source": [
        "print(tfidf_posts.shape)\n",
        "print(topic_distributions.shape)\n",
        "print(topic_distributions)"
      ],
      "metadata": {
        "colab": {
          "base_uri": "https://localhost:8080/"
        },
        "id": "fJkzUtyxHJyT",
        "outputId": "dad8be5f-0f78-47ad-cd63-60f811884f45"
      },
      "execution_count": 144,
      "outputs": [
        {
          "output_type": "stream",
          "name": "stdout",
          "text": [
            "(2387, 5000)\n",
            "(2387, 5)\n",
            "[[0.02325175 0.21225628 0.02314379 0.71820352 0.02314465]\n",
            " [0.02402816 0.0242395  0.02397629 0.90377876 0.02397728]\n",
            " [0.04908847 0.04918555 0.04908926 0.80354681 0.04908992]\n",
            " ...\n",
            " [0.02847849 0.41610113 0.02844409 0.49853165 0.02844463]\n",
            " [0.09148619 0.03980358 0.03952347 0.78966055 0.03952622]\n",
            " [0.01962753 0.01984923 0.01961193 0.92129755 0.01961377]]\n"
          ]
        }
      ]
    },
    {
      "cell_type": "code",
      "source": [
        "# Generic topic names\n",
        "columns = [\n",
        "    \"Topic 1\",\n",
        "    \"Topic 2\",\n",
        "    \"Topic 3\",\n",
        "    \"Topic 4\",\n",
        "    \"Topic 5\"\n",
        "]"
      ],
      "metadata": {
        "id": "vGGWoWKOI-NN"
      },
      "execution_count": 147,
      "outputs": []
    },
    {
      "cell_type": "code",
      "source": [
        "topic_df = pd.DataFrame(topic_distributions, columns = columns)\n",
        "topic_df.head()"
      ],
      "metadata": {
        "colab": {
          "base_uri": "https://localhost:8080/",
          "height": 206
        },
        "id": "W_hPAWdFI-P2",
        "outputId": "973efbea-5117-452e-e9c2-17cdc7c80d87"
      },
      "execution_count": 148,
      "outputs": [
        {
          "output_type": "execute_result",
          "data": {
            "text/plain": [
              "    Topic 1   Topic 2   Topic 3   Topic 4   Topic 5\n",
              "0  0.023252  0.212256  0.023144  0.718204  0.023145\n",
              "1  0.024028  0.024239  0.023976  0.903779  0.023977\n",
              "2  0.049088  0.049186  0.049089  0.803547  0.049090\n",
              "3  0.029997  0.030408  0.029998  0.879599  0.029998\n",
              "4  0.063252  0.063423  0.063252  0.746821  0.063253"
            ],
            "text/html": [
              "\n",
              "  <div id=\"df-ca3508bf-1406-4d77-a0e1-0aa0dab0e913\">\n",
              "    <div class=\"colab-df-container\">\n",
              "      <div>\n",
              "<style scoped>\n",
              "    .dataframe tbody tr th:only-of-type {\n",
              "        vertical-align: middle;\n",
              "    }\n",
              "\n",
              "    .dataframe tbody tr th {\n",
              "        vertical-align: top;\n",
              "    }\n",
              "\n",
              "    .dataframe thead th {\n",
              "        text-align: right;\n",
              "    }\n",
              "</style>\n",
              "<table border=\"1\" class=\"dataframe\">\n",
              "  <thead>\n",
              "    <tr style=\"text-align: right;\">\n",
              "      <th></th>\n",
              "      <th>Topic 1</th>\n",
              "      <th>Topic 2</th>\n",
              "      <th>Topic 3</th>\n",
              "      <th>Topic 4</th>\n",
              "      <th>Topic 5</th>\n",
              "    </tr>\n",
              "  </thead>\n",
              "  <tbody>\n",
              "    <tr>\n",
              "      <th>0</th>\n",
              "      <td>0.023252</td>\n",
              "      <td>0.212256</td>\n",
              "      <td>0.023144</td>\n",
              "      <td>0.718204</td>\n",
              "      <td>0.023145</td>\n",
              "    </tr>\n",
              "    <tr>\n",
              "      <th>1</th>\n",
              "      <td>0.024028</td>\n",
              "      <td>0.024239</td>\n",
              "      <td>0.023976</td>\n",
              "      <td>0.903779</td>\n",
              "      <td>0.023977</td>\n",
              "    </tr>\n",
              "    <tr>\n",
              "      <th>2</th>\n",
              "      <td>0.049088</td>\n",
              "      <td>0.049186</td>\n",
              "      <td>0.049089</td>\n",
              "      <td>0.803547</td>\n",
              "      <td>0.049090</td>\n",
              "    </tr>\n",
              "    <tr>\n",
              "      <th>3</th>\n",
              "      <td>0.029997</td>\n",
              "      <td>0.030408</td>\n",
              "      <td>0.029998</td>\n",
              "      <td>0.879599</td>\n",
              "      <td>0.029998</td>\n",
              "    </tr>\n",
              "    <tr>\n",
              "      <th>4</th>\n",
              "      <td>0.063252</td>\n",
              "      <td>0.063423</td>\n",
              "      <td>0.063252</td>\n",
              "      <td>0.746821</td>\n",
              "      <td>0.063253</td>\n",
              "    </tr>\n",
              "  </tbody>\n",
              "</table>\n",
              "</div>\n",
              "      <button class=\"colab-df-convert\" onclick=\"convertToInteractive('df-ca3508bf-1406-4d77-a0e1-0aa0dab0e913')\"\n",
              "              title=\"Convert this dataframe to an interactive table.\"\n",
              "              style=\"display:none;\">\n",
              "        \n",
              "  <svg xmlns=\"http://www.w3.org/2000/svg\" height=\"24px\"viewBox=\"0 0 24 24\"\n",
              "       width=\"24px\">\n",
              "    <path d=\"M0 0h24v24H0V0z\" fill=\"none\"/>\n",
              "    <path d=\"M18.56 5.44l.94 2.06.94-2.06 2.06-.94-2.06-.94-.94-2.06-.94 2.06-2.06.94zm-11 1L8.5 8.5l.94-2.06 2.06-.94-2.06-.94L8.5 2.5l-.94 2.06-2.06.94zm10 10l.94 2.06.94-2.06 2.06-.94-2.06-.94-.94-2.06-.94 2.06-2.06.94z\"/><path d=\"M17.41 7.96l-1.37-1.37c-.4-.4-.92-.59-1.43-.59-.52 0-1.04.2-1.43.59L10.3 9.45l-7.72 7.72c-.78.78-.78 2.05 0 2.83L4 21.41c.39.39.9.59 1.41.59.51 0 1.02-.2 1.41-.59l7.78-7.78 2.81-2.81c.8-.78.8-2.07 0-2.86zM5.41 20L4 18.59l7.72-7.72 1.47 1.35L5.41 20z\"/>\n",
              "  </svg>\n",
              "      </button>\n",
              "      \n",
              "  <style>\n",
              "    .colab-df-container {\n",
              "      display:flex;\n",
              "      flex-wrap:wrap;\n",
              "      gap: 12px;\n",
              "    }\n",
              "\n",
              "    .colab-df-convert {\n",
              "      background-color: #E8F0FE;\n",
              "      border: none;\n",
              "      border-radius: 50%;\n",
              "      cursor: pointer;\n",
              "      display: none;\n",
              "      fill: #1967D2;\n",
              "      height: 32px;\n",
              "      padding: 0 0 0 0;\n",
              "      width: 32px;\n",
              "    }\n",
              "\n",
              "    .colab-df-convert:hover {\n",
              "      background-color: #E2EBFA;\n",
              "      box-shadow: 0px 1px 2px rgba(60, 64, 67, 0.3), 0px 1px 3px 1px rgba(60, 64, 67, 0.15);\n",
              "      fill: #174EA6;\n",
              "    }\n",
              "\n",
              "    [theme=dark] .colab-df-convert {\n",
              "      background-color: #3B4455;\n",
              "      fill: #D2E3FC;\n",
              "    }\n",
              "\n",
              "    [theme=dark] .colab-df-convert:hover {\n",
              "      background-color: #434B5C;\n",
              "      box-shadow: 0px 1px 3px 1px rgba(0, 0, 0, 0.15);\n",
              "      filter: drop-shadow(0px 1px 2px rgba(0, 0, 0, 0.3));\n",
              "      fill: #FFFFFF;\n",
              "    }\n",
              "  </style>\n",
              "\n",
              "      <script>\n",
              "        const buttonEl =\n",
              "          document.querySelector('#df-ca3508bf-1406-4d77-a0e1-0aa0dab0e913 button.colab-df-convert');\n",
              "        buttonEl.style.display =\n",
              "          google.colab.kernel.accessAllowed ? 'block' : 'none';\n",
              "\n",
              "        async function convertToInteractive(key) {\n",
              "          const element = document.querySelector('#df-ca3508bf-1406-4d77-a0e1-0aa0dab0e913');\n",
              "          const dataTable =\n",
              "            await google.colab.kernel.invokeFunction('convertToInteractive',\n",
              "                                                     [key], {});\n",
              "          if (!dataTable) return;\n",
              "\n",
              "          const docLinkHtml = 'Like what you see? Visit the ' +\n",
              "            '<a target=\"_blank\" href=https://colab.research.google.com/notebooks/data_table.ipynb>data table notebook</a>'\n",
              "            + ' to learn more about interactive tables.';\n",
              "          element.innerHTML = '';\n",
              "          dataTable['output_type'] = 'display_data';\n",
              "          await google.colab.output.renderOutput(dataTable, element);\n",
              "          const docLink = document.createElement('div');\n",
              "          docLink.innerHTML = docLinkHtml;\n",
              "          element.appendChild(docLink);\n",
              "        }\n",
              "      </script>\n",
              "    </div>\n",
              "  </div>\n",
              "  "
            ]
          },
          "metadata": {},
          "execution_count": 148
        }
      ]
    },
    {
      "cell_type": "code",
      "source": [
        "topic_df.insert(loc=0, column='text', value=df_posts_noBlanks['selftext'])\n",
        "topic_df.head()"
      ],
      "metadata": {
        "colab": {
          "base_uri": "https://localhost:8080/",
          "height": 206
        },
        "id": "e9MPWSo9I-SP",
        "outputId": "30a514a6-4b12-47ba-f77e-af8f3e5ff0a2"
      },
      "execution_count": 150,
      "outputs": [
        {
          "output_type": "execute_result",
          "data": {
            "text/plain": [
              "                                                text   Topic 1   Topic 2  \\\n",
              "0  I have no industry experience in publishing, b...  0.023252  0.212256   \n",
              "1  The editor who offered it is fully aware that ...  0.024028  0.024239   \n",
              "2  Hey All. How much do short excerpt reprints ty...  0.049088  0.049186   \n",
              "3  We use Microsoft Word at our office but it cre...  0.029997  0.030408   \n",
              "4  Hey guys,\\n\\nAny good recommendations on where...  0.063252  0.063423   \n",
              "\n",
              "    Topic 3   Topic 4   Topic 5  \n",
              "0  0.023144  0.718204  0.023145  \n",
              "1  0.023976  0.903779  0.023977  \n",
              "2  0.049089  0.803547  0.049090  \n",
              "3  0.029998  0.879599  0.029998  \n",
              "4  0.063252  0.746821  0.063253  "
            ],
            "text/html": [
              "\n",
              "  <div id=\"df-aa78624c-67a2-47eb-ae74-acbf24286d4f\">\n",
              "    <div class=\"colab-df-container\">\n",
              "      <div>\n",
              "<style scoped>\n",
              "    .dataframe tbody tr th:only-of-type {\n",
              "        vertical-align: middle;\n",
              "    }\n",
              "\n",
              "    .dataframe tbody tr th {\n",
              "        vertical-align: top;\n",
              "    }\n",
              "\n",
              "    .dataframe thead th {\n",
              "        text-align: right;\n",
              "    }\n",
              "</style>\n",
              "<table border=\"1\" class=\"dataframe\">\n",
              "  <thead>\n",
              "    <tr style=\"text-align: right;\">\n",
              "      <th></th>\n",
              "      <th>text</th>\n",
              "      <th>Topic 1</th>\n",
              "      <th>Topic 2</th>\n",
              "      <th>Topic 3</th>\n",
              "      <th>Topic 4</th>\n",
              "      <th>Topic 5</th>\n",
              "    </tr>\n",
              "  </thead>\n",
              "  <tbody>\n",
              "    <tr>\n",
              "      <th>0</th>\n",
              "      <td>I have no industry experience in publishing, b...</td>\n",
              "      <td>0.023252</td>\n",
              "      <td>0.212256</td>\n",
              "      <td>0.023144</td>\n",
              "      <td>0.718204</td>\n",
              "      <td>0.023145</td>\n",
              "    </tr>\n",
              "    <tr>\n",
              "      <th>1</th>\n",
              "      <td>The editor who offered it is fully aware that ...</td>\n",
              "      <td>0.024028</td>\n",
              "      <td>0.024239</td>\n",
              "      <td>0.023976</td>\n",
              "      <td>0.903779</td>\n",
              "      <td>0.023977</td>\n",
              "    </tr>\n",
              "    <tr>\n",
              "      <th>2</th>\n",
              "      <td>Hey All. How much do short excerpt reprints ty...</td>\n",
              "      <td>0.049088</td>\n",
              "      <td>0.049186</td>\n",
              "      <td>0.049089</td>\n",
              "      <td>0.803547</td>\n",
              "      <td>0.049090</td>\n",
              "    </tr>\n",
              "    <tr>\n",
              "      <th>3</th>\n",
              "      <td>We use Microsoft Word at our office but it cre...</td>\n",
              "      <td>0.029997</td>\n",
              "      <td>0.030408</td>\n",
              "      <td>0.029998</td>\n",
              "      <td>0.879599</td>\n",
              "      <td>0.029998</td>\n",
              "    </tr>\n",
              "    <tr>\n",
              "      <th>4</th>\n",
              "      <td>Hey guys,\\n\\nAny good recommendations on where...</td>\n",
              "      <td>0.063252</td>\n",
              "      <td>0.063423</td>\n",
              "      <td>0.063252</td>\n",
              "      <td>0.746821</td>\n",
              "      <td>0.063253</td>\n",
              "    </tr>\n",
              "  </tbody>\n",
              "</table>\n",
              "</div>\n",
              "      <button class=\"colab-df-convert\" onclick=\"convertToInteractive('df-aa78624c-67a2-47eb-ae74-acbf24286d4f')\"\n",
              "              title=\"Convert this dataframe to an interactive table.\"\n",
              "              style=\"display:none;\">\n",
              "        \n",
              "  <svg xmlns=\"http://www.w3.org/2000/svg\" height=\"24px\"viewBox=\"0 0 24 24\"\n",
              "       width=\"24px\">\n",
              "    <path d=\"M0 0h24v24H0V0z\" fill=\"none\"/>\n",
              "    <path d=\"M18.56 5.44l.94 2.06.94-2.06 2.06-.94-2.06-.94-.94-2.06-.94 2.06-2.06.94zm-11 1L8.5 8.5l.94-2.06 2.06-.94-2.06-.94L8.5 2.5l-.94 2.06-2.06.94zm10 10l.94 2.06.94-2.06 2.06-.94-2.06-.94-.94-2.06-.94 2.06-2.06.94z\"/><path d=\"M17.41 7.96l-1.37-1.37c-.4-.4-.92-.59-1.43-.59-.52 0-1.04.2-1.43.59L10.3 9.45l-7.72 7.72c-.78.78-.78 2.05 0 2.83L4 21.41c.39.39.9.59 1.41.59.51 0 1.02-.2 1.41-.59l7.78-7.78 2.81-2.81c.8-.78.8-2.07 0-2.86zM5.41 20L4 18.59l7.72-7.72 1.47 1.35L5.41 20z\"/>\n",
              "  </svg>\n",
              "      </button>\n",
              "      \n",
              "  <style>\n",
              "    .colab-df-container {\n",
              "      display:flex;\n",
              "      flex-wrap:wrap;\n",
              "      gap: 12px;\n",
              "    }\n",
              "\n",
              "    .colab-df-convert {\n",
              "      background-color: #E8F0FE;\n",
              "      border: none;\n",
              "      border-radius: 50%;\n",
              "      cursor: pointer;\n",
              "      display: none;\n",
              "      fill: #1967D2;\n",
              "      height: 32px;\n",
              "      padding: 0 0 0 0;\n",
              "      width: 32px;\n",
              "    }\n",
              "\n",
              "    .colab-df-convert:hover {\n",
              "      background-color: #E2EBFA;\n",
              "      box-shadow: 0px 1px 2px rgba(60, 64, 67, 0.3), 0px 1px 3px 1px rgba(60, 64, 67, 0.15);\n",
              "      fill: #174EA6;\n",
              "    }\n",
              "\n",
              "    [theme=dark] .colab-df-convert {\n",
              "      background-color: #3B4455;\n",
              "      fill: #D2E3FC;\n",
              "    }\n",
              "\n",
              "    [theme=dark] .colab-df-convert:hover {\n",
              "      background-color: #434B5C;\n",
              "      box-shadow: 0px 1px 3px 1px rgba(0, 0, 0, 0.15);\n",
              "      filter: drop-shadow(0px 1px 2px rgba(0, 0, 0, 0.3));\n",
              "      fill: #FFFFFF;\n",
              "    }\n",
              "  </style>\n",
              "\n",
              "      <script>\n",
              "        const buttonEl =\n",
              "          document.querySelector('#df-aa78624c-67a2-47eb-ae74-acbf24286d4f button.colab-df-convert');\n",
              "        buttonEl.style.display =\n",
              "          google.colab.kernel.accessAllowed ? 'block' : 'none';\n",
              "\n",
              "        async function convertToInteractive(key) {\n",
              "          const element = document.querySelector('#df-aa78624c-67a2-47eb-ae74-acbf24286d4f');\n",
              "          const dataTable =\n",
              "            await google.colab.kernel.invokeFunction('convertToInteractive',\n",
              "                                                     [key], {});\n",
              "          if (!dataTable) return;\n",
              "\n",
              "          const docLinkHtml = 'Like what you see? Visit the ' +\n",
              "            '<a target=\"_blank\" href=https://colab.research.google.com/notebooks/data_table.ipynb>data table notebook</a>'\n",
              "            + ' to learn more about interactive tables.';\n",
              "          element.innerHTML = '';\n",
              "          dataTable['output_type'] = 'display_data';\n",
              "          await google.colab.output.renderOutput(dataTable, element);\n",
              "          const docLink = document.createElement('div');\n",
              "          docLink.innerHTML = docLinkHtml;\n",
              "          element.appendChild(docLink);\n",
              "        }\n",
              "      </script>\n",
              "    </div>\n",
              "  </div>\n",
              "  "
            ]
          },
          "metadata": {},
          "execution_count": 150
        }
      ]
    },
    {
      "cell_type": "code",
      "source": [
        "idxs = [100, 1000, 2000]\n",
        "\n",
        "for idx in idxs:\n",
        "    print(topic_df['text'].iloc[idx][:500])\n",
        "    print(topic_df.iloc[idx, 1:])\n",
        "    print('----')"
      ],
      "metadata": {
        "colab": {
          "base_uri": "https://localhost:8080/"
        },
        "id": "o1hpxIfTJ7xZ",
        "outputId": "491696c5-67bd-446d-9fa7-e1acaa6e677a"
      },
      "execution_count": 153,
      "outputs": [
        {
          "output_type": "stream",
          "name": "stdout",
          "text": [
            "In a few years, when I've saved up enough money for startup costs, I want to start my own publishing house.\n",
            "\n",
            "Any advice for breaking into the market? I know basically nothing about the business side of publishing and I'm looking for resources to learn. Would it be worth doing a business evening class or something?\n",
            "Topic 1    0.037624\n",
            "Topic 2    0.042329\n",
            "Topic 3    0.037625\n",
            "Topic 4    0.844732\n",
            "Topic 5     0.03769\n",
            "Name: 100, dtype: object\n",
            "----\n",
            "Hi,\n",
            "I may have found a publisher to publish my collection of poetry and they offer just 10% royalties for my work.\n",
            "\n",
            "Is this normal or are they asking too much?\n",
            "\n",
            "I'm new to all this so I appreciate your advice\n",
            "Topic 1    0.043136\n",
            "Topic 2    0.043426\n",
            "Topic 3    0.043137\n",
            "Topic 4    0.827164\n",
            "Topic 5    0.043137\n",
            "Name: 1000, dtype: object\n",
            "----\n",
            " i would like to self print about 4 copies of my stories, but i don't know what type of paper or where to get it.\n",
            "Topic 1    0.053397\n",
            "Topic 2    0.053569\n",
            "Topic 3    0.053397\n",
            "Topic 4     0.78624\n",
            "Topic 5    0.053397\n",
            "Name: 2000, dtype: object\n",
            "----\n"
          ]
        }
      ]
    },
    {
      "cell_type": "markdown",
      "source": [
        "### Document Similarity"
      ],
      "metadata": {
        "id": "FNpbA9RbJ_o9"
      }
    },
    {
      "cell_type": "code",
      "source": [
        "# cosine similarity\n",
        "from sklearn.metrics.pairwise import cosine_similarity"
      ],
      "metadata": {
        "id": "JYV02WOLJ-lg"
      },
      "execution_count": 154,
      "outputs": []
    },
    {
      "cell_type": "code",
      "source": [
        "# Calculate similarities\n",
        "similarities = cosine_similarity(topic_distributions)\n",
        "print(similarities.shape)"
      ],
      "metadata": {
        "colab": {
          "base_uri": "https://localhost:8080/"
        },
        "id": "3pvUyOWdK2O1",
        "outputId": "13b66214-a311-4f73-d6d4-292f4bb5a8cf"
      },
      "execution_count": 156,
      "outputs": [
        {
          "output_type": "stream",
          "name": "stdout",
          "text": [
            "(2387, 2387)\n"
          ]
        }
      ]
    },
    {
      "cell_type": "code",
      "source": [
        "# Similarity between document 23 and 1000\n",
        "similarities[23, 1000]"
      ],
      "metadata": {
        "colab": {
          "base_uri": "https://localhost:8080/"
        },
        "id": "h_mxe4dQK5Om",
        "outputId": "590ce0e4-79b7-4594-ff82-d4ce7a3d2638"
      },
      "execution_count": 157,
      "outputs": [
        {
          "output_type": "execute_result",
          "data": {
            "text/plain": [
              "0.5527745979839178"
            ]
          },
          "metadata": {},
          "execution_count": 157
        }
      ]
    },
    {
      "cell_type": "code",
      "source": [
        "def most_similar_documents(similarities):\n",
        "    \"\"\"Find the pair of most similar documents.\"\"\"\n",
        "    copy = similarities.copy()\n",
        "    np.fill_diagonal(copy, 0)\n",
        "    copy[copy == 1] = 0.\n",
        "    idxs = np.unravel_index(np.argmax(copy), copy.shape)\n",
        "    return idxs"
      ],
      "metadata": {
        "id": "UPm76uTbK7Xm"
      },
      "execution_count": 159,
      "outputs": []
    },
    {
      "cell_type": "code",
      "source": [
        "most_similar = most_similar_documents(similarities)\n",
        "print(most_similar)"
      ],
      "metadata": {
        "colab": {
          "base_uri": "https://localhost:8080/"
        },
        "id": "VtpzwGDBK9hd",
        "outputId": "75039a24-14a8-4b5a-a391-0dd11106b37b"
      },
      "execution_count": 160,
      "outputs": [
        {
          "output_type": "stream",
          "name": "stdout",
          "text": [
            "(66, 67)\n"
          ]
        }
      ]
    },
    {
      "cell_type": "code",
      "source": [
        "similarities[most_similar]"
      ],
      "metadata": {
        "colab": {
          "base_uri": "https://localhost:8080/"
        },
        "id": "gbZs12qYK_Uo",
        "outputId": "36260a0c-12da-4805-9f7b-18aa7401a3b8"
      },
      "execution_count": 162,
      "outputs": [
        {
          "output_type": "execute_result",
          "data": {
            "text/plain": [
              "1.0000000000000002"
            ]
          },
          "metadata": {},
          "execution_count": 162
        }
      ]
    },
    {
      "cell_type": "code",
      "source": [
        "df_posts_noBlanks['selftext'].iloc[most_similar[0]]"
      ],
      "metadata": {
        "colab": {
          "base_uri": "https://localhost:8080/",
          "height": 35
        },
        "id": "v0PJd9tHLDaz",
        "outputId": "d80f86d7-0ddb-47c2-f812-e3f3db5ee620"
      },
      "execution_count": 164,
      "outputs": [
        {
          "output_type": "execute_result",
          "data": {
            "text/plain": [
              "'I thought reddit would be a good place to find an innovative graphic designer. If you want to see why we need a designer, take a look at our current logo: http://cntimesbooks.com. Please help me.'"
            ],
            "application/vnd.google.colaboratory.intrinsic+json": {
              "type": "string"
            }
          },
          "metadata": {},
          "execution_count": 164
        }
      ]
    },
    {
      "cell_type": "code",
      "source": [
        "df_posts_noBlanks['selftext'].iloc[most_similar[1]]"
      ],
      "metadata": {
        "colab": {
          "base_uri": "https://localhost:8080/",
          "height": 35
        },
        "id": "60XrJOzTLO7O",
        "outputId": "8b580889-012b-4ec4-8403-ed9c4a894309"
      },
      "execution_count": 165,
      "outputs": [
        {
          "output_type": "execute_result",
          "data": {
            "text/plain": [
              "'I thought reddit would be a good place to find an innovative graphic designer. If you want to see why we need a designer, take a look at our current logo: http://cntimesbooks.com. Please help me.'"
            ],
            "application/vnd.google.colaboratory.intrinsic+json": {
              "type": "string"
            }
          },
          "metadata": {},
          "execution_count": 165
        }
      ]
    },
    {
      "cell_type": "markdown",
      "source": [
        "Might want to remove duplicates."
      ],
      "metadata": {
        "id": "rLAKN0vnLgX_"
      }
    },
    {
      "cell_type": "markdown",
      "source": [
        "### Changing the Number of Topics"
      ],
      "metadata": {
        "id": "I08pZ1nxLoTo"
      }
    },
    {
      "cell_type": "code",
      "source": [
        ""
      ],
      "metadata": {
        "id": "_twJDtjjLblq"
      },
      "execution_count": null,
      "outputs": []
    }
  ],
  "metadata": {
    "colab": {
      "collapsed_sections": [
        "KpvRONF5PbqV",
        "3SDKQNDf3gvu"
      ],
      "name": "dssj_publishing.ipynb",
      "provenance": [],
      "include_colab_link": true
    },
    "kernelspec": {
      "display_name": "Python 3",
      "name": "python3"
    },
    "language_info": {
      "name": "python"
    }
  },
  "nbformat": 4,
  "nbformat_minor": 0
}